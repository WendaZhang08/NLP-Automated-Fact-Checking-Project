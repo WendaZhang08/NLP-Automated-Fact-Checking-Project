{
 "cells": [
  {
   "cell_type": "markdown",
   "metadata": {
    "id": "32yCsRUo8H33"
   },
   "source": [
    "# 2024 COMP90042 Project\n",
    "*Make sure you change the file name with your group id.*"
   ]
  },
  {
   "cell_type": "markdown",
   "metadata": {
    "id": "XCybYoGz8YWQ"
   },
   "source": [
    "# Readme\n",
    "*If there is something to be noted for the marker, please mention here.*\n",
    "\n",
    "*If you are planning to implement a program with Object Oriented Programming style, please put those the bottom of this ipynb file*"
   ]
  },
  {
   "cell_type": "markdown",
   "metadata": {},
   "source": [
    "**We use pytorch, nltk, scikit-learn in this project.**"
   ]
  },
  {
   "cell_type": "markdown",
   "metadata": {
    "id": "6po98qVA8bJD"
   },
   "source": [
    "# 1.DataSet Processing\n",
    "(You can add as many code blocks and text blocks as you need. However, YOU SHOULD NOT MODIFY the section title)"
   ]
  },
  {
   "cell_type": "markdown",
   "metadata": {
    "id": "qvff21Hv8zjk",
    "tags": []
   },
   "source": [
    "## PreProcess for evidence and claims"
   ]
  },
  {
   "cell_type": "markdown",
   "metadata": {},
   "source": [
    "### preprocessing function"
   ]
  },
  {
   "cell_type": "code",
   "execution_count": 1,
   "metadata": {},
   "outputs": [
    {
     "name": "stdout",
     "output_type": "stream",
     "text": [
      "CUDA available: True\n"
     ]
    }
   ],
   "source": [
    "import torch\n",
    "\n",
    "print(\"CUDA available:\", torch.cuda.is_available())"
   ]
  },
  {
   "cell_type": "code",
   "execution_count": 3,
   "metadata": {},
   "outputs": [
    {
     "name": "stdout",
     "output_type": "stream",
     "text": [
      "Current CUDA device: 0\n",
      "Device count: 1\n",
      "Device name: NVIDIA GeForce RTX 4070 Ti SUPER\n"
     ]
    }
   ],
   "source": [
    "print(\"Current CUDA device:\", torch.cuda.current_device())\n",
    "print(\"Device count:\", torch.cuda.device_count())\n",
    "print(\"Device name:\", torch.cuda.get_device_name(torch.cuda.current_device()))"
   ]
  },
  {
   "cell_type": "markdown",
   "metadata": {},
   "source": [
    "### read files"
   ]
  },
  {
   "cell_type": "code",
   "execution_count": 4,
   "metadata": {},
   "outputs": [
    {
     "name": "stderr",
     "output_type": "stream",
     "text": [
      "[nltk_data] Downloading package stopwords to\n",
      "[nltk_data]     C:\\Users\\ABC\\AppData\\Roaming\\nltk_data...\n",
      "[nltk_data]   Package stopwords is already up-to-date!\n",
      "[nltk_data] Downloading package wordnet to\n",
      "[nltk_data]     C:\\Users\\ABC\\AppData\\Roaming\\nltk_data...\n",
      "[nltk_data]   Package wordnet is already up-to-date!\n"
     ]
    },
    {
     "name": "stdout",
     "output_type": "stream",
     "text": [
      "claim count:  1228\n",
      "evidence count:  1208827\n",
      "max claim length:  332\n",
      "min claim length:  26\n",
      "mean claim length:  122.95521172638436\n",
      "max evidence count:  5\n",
      "min evidence count:  1\n",
      "mean evidence count:  3.3566775244299674\n",
      "max evidence length:  1979\n",
      "min evidence length:  13\n",
      "mean evidence length:  173.5\n",
      "Counter({'SUPPORTS': 519, 'NOT_ENOUGH_INFO': 386, 'REFUTES': 199, 'DISPUTED': 124})\n",
      "Dev evi inside train evi 163\n",
      "Dev evi outside train evi 328\n",
      "Train claim count:  1228\n"
     ]
    }
   ],
   "source": [
    "import json\n",
    "import nltk\n",
    "import string\n",
    "import re\n",
    "import numpy as np\n",
    "from sklearn.metrics.pairwise import cosine_similarity\n",
    "from nltk.corpus import stopwords\n",
    "from nltk.tokenize import word_tokenize\n",
    "from collections import Counter\n",
    "from statistics import mean\n",
    "\n",
    "nltk.download('stopwords')\n",
    "nltk.download('wordnet')\n",
    "\n",
    "with open('data/train-claims.json', 'r') as input_file:\n",
    "    train_claims = json.load(input_file)\n",
    "\n",
    "# Read in development data (claim)\n",
    "with open('data/dev-claims.json', 'r') as input_file:\n",
    "    dev_claims = json.load(input_file)\n",
    "\n",
    "# Read in test data (claim)\n",
    "with open('data/test-claims-unlabelled.json', 'r') as input_file:\n",
    "    test_claims = json.load(input_file)\n",
    "\n",
    "# Read in evidence data\n",
    "with open('data/evidence.json', 'r') as input_file:\n",
    "    evidences = json.load(input_file)\n",
    "\n",
    "#EDA\n",
    "claim_count = 0\n",
    "evi_count = 0\n",
    "claim_length = []\n",
    "evidence_count = []\n",
    "evidence_length = []\n",
    "labels = []\n",
    "\n",
    "for key,value in train_claims.items():\n",
    "    claim_count+=1\n",
    "    claim_length.append(len(value[\"claim_text\"]))\n",
    "    evidence_count.append(len(value[\"evidences\"]))\n",
    "    evidence_length += [len(evidences[x]) for x in value[\"evidences\"]]\n",
    "    labels.append(value[\"claim_label\"])\n",
    "\n",
    "for key,value in evidences.items():\n",
    "    evi_count+=1\n",
    "\n",
    "print(\"claim count: \",claim_count)\n",
    "print(\"evidence count: \",evi_count)\n",
    "print(\"max claim length: \",max(claim_length))\n",
    "print(\"min claim length: \",min(claim_length))\n",
    "print(\"mean claim length: \",mean(claim_length))\n",
    "print(\"max evidence count: \",max(evidence_count))\n",
    "print(\"min evidence count: \",min(evidence_count))\n",
    "print(\"mean evidence count: \",mean(evidence_count))\n",
    "print(\"max evidence length: \",max(evidence_length))\n",
    "print(\"min evidence length: \",min(evidence_length))\n",
    "print(\"mean evidence length: \",mean(evidence_length))\n",
    "print(Counter(labels))\n",
    "\n",
    "inside = 0\n",
    "outside = 0\n",
    "\n",
    "train_evi_id = []\n",
    "for claim_id,claim_value in train_claims.items():\n",
    "    train_evi_id=train_evi_id+claim_value['evidences']\n",
    "\n",
    "for claim_id,claim_value in dev_claims.items():\n",
    "    test_evi_id=claim_value['evidences']\n",
    "    for e in test_evi_id:\n",
    "        if e in train_evi_id:\n",
    "            inside += 1\n",
    "        else:\n",
    "            outside += 1\n",
    "print(\"Dev evi inside train evi\", inside)\n",
    "print(\"Dev evi outside train evi\", outside)\n",
    "\n",
    "full_evidence_id = list(evidences.keys())\n",
    "full_evidence_text  = list(evidences.values())\n",
    "train_claim_id = list(train_claims.keys())\n",
    "train_claim_text  = [ v[\"claim_text\"] for v in train_claims.values()]\n",
    "print(\"Train claim count: \",len(train_claim_id))"
   ]
  },
  {
   "cell_type": "code",
   "execution_count": 5,
   "metadata": {},
   "outputs": [],
   "source": [
    "lemmatizer = nltk.stem.wordnet.WordNetLemmatizer()\n",
    "stopwords = set(stopwords.words('english'))\n",
    "\n",
    "def lemmatize(word):\n",
    "    lemma = lemmatizer.lemmatize(word, 'v')\n",
    "    return lemma if lemma != word else lemmatizer.lemmatize(word, 'n')\n",
    "\n",
    "def is_pure_english(text):\n",
    "    english_letters = set(string.ascii_letters)\n",
    "    cleaned_text = ''.join(char for char in text if char.isalpha() or char.isspace())\n",
    "    return all(char in english_letters or char.isspace() for char in cleaned_text)\n",
    "\n",
    "def remove_non_eng(dictionary):\n",
    "    eng_data = {}\n",
    "    for key, value in dictionary.items():\n",
    "        if is_pure_english(value):\n",
    "            eng_data[key] = value\n",
    "    return eng_data\n",
    "\n",
    "def contains_climate_keywords(text, keywords):\n",
    "    text = text.lower()\n",
    "    for keyword in keywords:\n",
    "        if re.search(r\"\\b\" + re.escape(keyword) + r\"\\b\", text):\n",
    "            return True\n",
    "    return False\n",
    "\n",
    "def filter_climate_related(dictionary, keywords):\n",
    "    cs_data = {}\n",
    "    for key, value in dictionary.items():\n",
    "        if contains_climate_keywords(value, keywords):\n",
    "            cs_data[key] = value\n",
    "    return cs_data\n",
    "\n",
    "def text_preprocessing(text, remove_stopwords=False):\n",
    "    if isinstance(text, str):\n",
    "        words = [lemmatize(w) for w in text.lower().split()]\n",
    "    elif isinstance(text, list):\n",
    "        words = [lemmatize(w.lower()) for w in text]\n",
    "    else:\n",
    "        raise ValueError(\"Unsupported type for 'text'. Expected str or list.\")\n",
    "    \n",
    "    if remove_stopwords:\n",
    "        words = [w for w in words if w not in stopwords]\n",
    "    \n",
    "    return \" \".join(words)"
   ]
  },
  {
   "cell_type": "code",
   "execution_count": 6,
   "metadata": {},
   "outputs": [],
   "source": [
    "climate_keywords = [\n",
    "    \"climate\", \"environment\", \"global warming\", \"greenhouse effect\", \"carbon\", \"co2\", \"carbon dioxide\",\n",
    "    \"methane\", \"renewable energy\", \"sustainability\", \"ecology\", \"biodiversity\", \"fossil fuels\",\n",
    "    \"emissions\", \"air quality\", \"ozone\", \"solar energy\", \"wind energy\", \"climate change\", \"climate crisis\",\n",
    "    \"climate adaptation\", \"climate mitigation\", \"ocean\", \"sea levels\", \"ice melting\", \"deforestation\",\n",
    "    \"reforestation\", \"pollution\",\" electricity\",\"energy\",\"solar\",\"wind\",\"renewable\",\"fossil\",\"fuel\",\"emission\",\"air\",\"quality\",\"ozone\",\"solar\",\"wind\",\"climate\",\"change\",\"crisis\",\"adaptation\",\"mitigation\",\"ocean\",\"sea\",\"level\",\"ice\",\"melt\",\"deforestation\",\n",
    "]\n",
    "\n",
    "\n",
    "def preprocess_claim_data(claim_data, existed_evidences_id=None):\n",
    "    claim_data = remove_non_eng(claim_data)\n",
    "    claim_data_text = []\n",
    "    claim_data_id = []\n",
    "    claim_data_label = []\n",
    "    claim_evidences = []\n",
    "    \n",
    "    for key in claim_data.keys():\n",
    "        claim_data[key][\"claim_text\"] = word_tokenize(claim_data[key][\"claim_text\"])\n",
    "        claim_data[key][\"claim_text\"] = text_preprocessing(claim_data[key][\"claim_text\"])\n",
    "        \n",
    "        claim_data_text.append(claim_data[key][\"claim_text\"])\n",
    "        claim_data_id.append(key)\n",
    "        \n",
    "        if \"claim_label\" in claim_data[key]:\n",
    "            claim_data_label.append(claim_data[key][\"claim_label\"])\n",
    "        else:\n",
    "            claim_data_label.append(None)\n",
    "        \n",
    "        if existed_evidences_id and \"evidences\" in claim_data[key]:\n",
    "            valid_evidences = [existed_evidences_id[i] for i in claim_data[key][\"evidences\"] if i in existed_evidences_id]\n",
    "            claim_evidences.append(valid_evidences)\n",
    "        else:\n",
    "            claim_evidences.append([])\n",
    "    \n",
    "    return claim_data_text, claim_data_id, claim_data_label, claim_evidences\n",
    "\n",
    "\n",
    "def preprocess_evi_data(evi_data, climate_keywords):\n",
    "    evi_data = remove_non_eng(evi_data)\n",
    "    cs_evi_data = filter_climate_related(evi_data, climate_keywords)\n",
    "    \n",
    "    for key in cs_evi_data.keys():\n",
    "        cs_evi_data[key] = word_tokenize(cs_evi_data[key])\n",
    "        cs_evi_data[key] = text_preprocessing(cs_evi_data[key], remove_stopwords=True)\n",
    "        \n",
    "    cleaned_evidence_text = list(cs_evi_data.values())\n",
    "    cleaned_evidence_id = list(cs_evi_data.keys())\n",
    "    \n",
    "    return cleaned_evidence_text, cleaned_evidence_id"
   ]
  },
  {
   "cell_type": "code",
   "execution_count": 7,
   "metadata": {},
   "outputs": [],
   "source": [
    "cleaned_evidence_text, cleaned_evidence_id = preprocess_evi_data(evidences, climate_keywords)\n",
    "\n",
    "evidences_id_dict = {evidence_id: idx for idx, evidence_id in enumerate(cleaned_evidence_id)}\n",
    "\n",
    "train_claim_text, train_claim_id, train_claim_label, train_claim_evidences = preprocess_claim_data(train_claims, evidences_id_dict)\n",
    "\n",
    "dev_claim_text, dev_claim_id, dev_claim_label, dev_claim_evidences = preprocess_claim_data(dev_claims, evidences_id_dict)\n",
    "\n",
    "test_claim_text, test_claim_id, _, _ = preprocess_claim_data(test_claims)"
   ]
  },
  {
   "cell_type": "markdown",
   "metadata": {},
   "source": [
    "### tfidf retrieval"
   ]
  },
  {
   "cell_type": "code",
   "execution_count": 8,
   "metadata": {},
   "outputs": [],
   "source": [
    "\n",
    "from sklearn.feature_extraction.text import TfidfVectorizer\n",
    "\n",
    "vectorizer = TfidfVectorizer()\n",
    "vectorizer.fit(cleaned_evidence_text)\n",
    "\n",
    "train_tfidf = vectorizer.transform(train_claim_text)\n",
    "dev_tfidf = vectorizer.transform(dev_claim_text  )\n",
    "test_tfidf = vectorizer.transform(test_claim_text)\n",
    "evidence_tfidf = vectorizer.transform(cleaned_evidence_text)\n"
   ]
  },
  {
   "cell_type": "code",
   "execution_count": 9,
   "metadata": {},
   "outputs": [
    {
     "name": "stdout",
     "output_type": "stream",
     "text": [
      "(1228, 54272)\n"
     ]
    }
   ],
   "source": [
    "train_cos_sims = cosine_similarity(train_tfidf, evidence_tfidf)\n",
    "dev_cos_sims = cosine_similarity(dev_tfidf, evidence_tfidf)\n",
    "test_cos_sims = cosine_similarity(test_tfidf, evidence_tfidf)\n",
    "print(train_cos_sims.shape)"
   ]
  },
  {
   "cell_type": "code",
   "execution_count": 10,
   "metadata": {
    "scrolled": true
   },
   "outputs": [
    {
     "name": "stdout",
     "output_type": "stream",
     "text": [
      "0.14695982627578721\n",
      "0.15670995670995672\n"
     ]
    }
   ],
   "source": [
    "def test_retrieval_topk(k, cur_scores, cur_labels):\n",
    "    ACC = []\n",
    "    top_ids = torch.topk(torch.FloatTensor(cur_scores), k, -1).indices.tolist()\n",
    "    for i in range(len(cur_labels)):\n",
    "        all_count = 0\n",
    "        recall_count = 0\n",
    "        for cur_ in cur_labels[i]:\n",
    "            if cur_ in top_ids[i]:\n",
    "                recall_count += 1\n",
    "            all_count += 1\n",
    "        if all_count == 0:\n",
    "            all_count = 1e-9  # to avoid division by zero\n",
    "        ACC.append(recall_count / all_count)\n",
    "    print(sum(ACC) / len(ACC))\n",
    "\n",
    "topK = 10\n",
    "test_retrieval_topk(topK, train_cos_sims, train_claim_evidences)\n",
    "test_retrieval_topk(topK, dev_cos_sims, dev_claim_evidences)"
   ]
  },
  {
   "cell_type": "code",
   "execution_count": 11,
   "metadata": {},
   "outputs": [],
   "source": [
    "# need to change this code\n",
    "def sort_evidence_candidates(cos_sims):\n",
    "    top_ids = np.argsort(-cos_sims, axis=1)[:, :10000]\n",
    "    return top_ids.tolist()"
   ]
  },
  {
   "cell_type": "code",
   "execution_count": 12,
   "metadata": {},
   "outputs": [],
   "source": [
    "dev_sort_evidences = sort_evidence_candidates(dev_cos_sims)\n",
    "test_sort_evidences = sort_evidence_candidates(test_cos_sims)\n",
    "train_sort_evidences = sort_evidence_candidates(train_cos_sims)"
   ]
  },
  {
   "cell_type": "markdown",
   "metadata": {},
   "source": [
    "### construct vocab and indexing"
   ]
  },
  {
   "cell_type": "code",
   "execution_count": 13,
   "metadata": {},
   "outputs": [],
   "source": [
    "# construct word2idx and idx2word for taining data\n",
    "# if we use the unprocessed text else use ***_p_texts\n",
    "\n",
    "min_count = 10\n",
    "wordcount = {}\n",
    "idx2word = [\"<pad>\", \"<cls>\", \"<sep>\", \"<unk>\"]\n",
    "word2idx = {\"<pad>\": 0, \"<cls>\": 1, \"<sep>\": 2, \"<unk>\": 3}\n",
    "for texts in train_claim_text + cleaned_evidence_text:\n",
    "    for word in texts.split():\n",
    "        wordcount[word] = wordcount.get(word, 0) + 1\n",
    "idx = 4\n",
    "for i, j in wordcount.items():\n",
    "    if j > min_count:\n",
    "        idx2word.append(i)\n",
    "        word2idx[i] = idx\n",
    "        idx += 1"
   ]
  },
  {
   "cell_type": "code",
   "execution_count": 14,
   "metadata": {},
   "outputs": [],
   "source": [
    "def convert2idx(text_data, word2idx_, idx2word_):\n",
    "    idx_data = []\n",
    "    for texts in text_data:\n",
    "        temp_idx = []\n",
    "        for word in texts.split():\n",
    "            temp_idx.append(word2idx_.get(word, word2idx_[\"<unk>\"]))\n",
    "        idx_data.append(temp_idx)\n",
    "    return idx_data"
   ]
  },
  {
   "cell_type": "code",
   "execution_count": 15,
   "metadata": {},
   "outputs": [],
   "source": [
    "train_text_idx = convert2idx(train_claim_text, word2idx, idx2word)\n",
    "dev_text_idx = convert2idx(dev_claim_text, word2idx, idx2word)\n",
    "test_text_idx = convert2idx(test_claim_text, word2idx, idx2word)\n",
    "evidences_text_idx = convert2idx(cleaned_evidence_text, word2idx, idx2word)"
   ]
  },
  {
   "cell_type": "code",
   "execution_count": 16,
   "metadata": {},
   "outputs": [
    {
     "name": "stdout",
     "output_type": "stream",
     "text": [
      "76 73 60 231\n"
     ]
    }
   ],
   "source": [
    "print(max([len(i) for i in train_text_idx]), max([len(i) for i in dev_text_idx]), max([len(i) for i in test_text_idx]), max([len(i) for i in evidences_text_idx]))"
   ]
  },
  {
   "cell_type": "code",
   "execution_count": 17,
   "metadata": {},
   "outputs": [],
   "source": [
    "text_pad_len = 60\n",
    "evidences_pad_len = 100"
   ]
  },
  {
   "cell_type": "code",
   "execution_count": 18,
   "metadata": {},
   "outputs": [],
   "source": [
    "def construct_input_text(text_idx, padding_len, word2idx_):\n",
    "    idx_data = []\n",
    "    for texts in text_idx:\n",
    "        if len(texts) < padding_len:\n",
    "            idx_data.append([word2idx_[\"<cls>\"]] + texts + [word2idx_[\"<sep>\"]] + [word2idx_[\"<pad>\"]] * (padding_len - len(texts)))\n",
    "        else:\n",
    "            idx_data.append([word2idx_[\"<cls>\"]] + texts[:padding_len] + [word2idx_[\"<sep>\"]])\n",
    "    return idx_data\n",
    "    "
   ]
  },
  {
   "cell_type": "code",
   "execution_count": 19,
   "metadata": {},
   "outputs": [],
   "source": [
    "train_input = construct_input_text(train_text_idx, text_pad_len, word2idx)\n",
    "dev_input = construct_input_text(dev_text_idx, text_pad_len, word2idx)\n",
    "test_input = construct_input_text(test_text_idx, text_pad_len, word2idx)\n",
    "evidences_input = construct_input_text(evidences_text_idx, evidences_pad_len, word2idx)"
   ]
  },
  {
   "cell_type": "code",
   "execution_count": 20,
   "metadata": {},
   "outputs": [
    {
     "name": "stdout",
     "output_type": "stream",
     "text": [
      "62 102\n"
     ]
    }
   ],
   "source": [
    "print(len(train_input[0]), len(evidences_input[0]))"
   ]
  },
  {
   "cell_type": "code",
   "execution_count": 21,
   "metadata": {
    "scrolled": true
   },
   "outputs": [
    {
     "name": "stdout",
     "output_type": "stream",
     "text": [
      "7075\n"
     ]
    }
   ],
   "source": [
    "vocab_size = len(idx2word)\n",
    "print(vocab_size)"
   ]
  },
  {
   "cell_type": "code",
   "execution_count": 22,
   "metadata": {},
   "outputs": [],
   "source": [
    "from torch.utils.data import Dataset\n",
    "import random\n",
    "\n",
    "class TrainDataset(Dataset):\n",
    "    def __init__(self, text_input_data, evidence_input_data, tfidf_sort_evidences, evidence_label, negative_num=10):\n",
    "        self.text_input_data = text_input_data\n",
    "        self.evidence_input_data = evidence_input_data\n",
    "        self.tfidf_sort_evidences = tfidf_sort_evidences\n",
    "        self.evidence_label = evidence_label\n",
    "        self.negative_num = 10\n",
    "        self.evidence_len = len(evidence_input_data[0])\n",
    "        self.text_len = len(text_input_data[0])\n",
    "        \n",
    "    def __len__(self):\n",
    "        return len(self.text_input_data)\n",
    "\n",
    "    def __getitem__(self, idx):\n",
    "        # please note the negative evidences\n",
    "        return [self.text_input_data[idx], random.sample(self.tfidf_sort_evidences[idx][10: self.negative_num*10], self.negative_num), self.evidence_label[idx]]\n",
    "\n",
    "    def collate_fn(self, batch):\n",
    "        queries = []\n",
    "        queries_pos = []\n",
    "        evidences = []\n",
    "        temp_labels = []\n",
    "        \n",
    "        for i, j, k in batch:\n",
    "            queries.append(i)\n",
    "            queries_pos.append(list(range(self.text_len)))\n",
    "            temp_labels.append(k)    \n",
    "            evidences.extend(k + j)\n",
    "\n",
    "        evidences = list(set(evidences))\n",
    "        \n",
    "        evidences2idx = {}\n",
    "        for i, j in enumerate(evidences):\n",
    "            evidences2idx[j] = i\n",
    "        \n",
    "        labels = []\n",
    "        for i in temp_labels:\n",
    "            labels.append([evidences2idx[j] for j in i])\n",
    "            \n",
    "        evidences = [self.evidence_input_data[i] for i in evidences]\n",
    "        evidences_pos = [list(range(self.evidence_len)) for _ in range(len(evidences))]\n",
    "\n",
    "        batch_encoding = {}\n",
    "        batch_encoding[\"queries\"] = torch.LongTensor(queries)\n",
    "        batch_encoding[\"evidences\"] = torch.LongTensor(evidences)\n",
    "        \n",
    "        batch_encoding[\"queries_pos\"] = torch.LongTensor(queries_pos)\n",
    "        batch_encoding[\"evidences_pos\"] = torch.LongTensor(evidences_pos)\n",
    "        batch_encoding[\"labels\"] = labels\n",
    "        \n",
    "        return batch_encoding"
   ]
  },
  {
   "cell_type": "code",
   "execution_count": 23,
   "metadata": {},
   "outputs": [],
   "source": [
    "train_set = TrainDataset(train_input, evidences_input, train_sort_evidences, train_claim_evidences, negative_num=1000)\n",
    "from torch.utils.data import DataLoader\n",
    "\n",
    "dataloader = DataLoader(train_set, batch_size=5, shuffle=True, num_workers=0, collate_fn=train_set.collate_fn)"
   ]
  },
  {
   "cell_type": "markdown",
   "metadata": {
    "id": "1FA2ao2l8hOg"
   },
   "source": [
    "# 2. Model Implementation\n",
    "(You can add as many code blocks and text blocks as you need. However, YOU SHOULD NOT MODIFY the section title)"
   ]
  },
  {
   "cell_type": "code",
   "execution_count": 24,
   "metadata": {},
   "outputs": [],
   "source": [
    "# from workshop\n",
    "import torch\n",
    "import torch.nn as nn\n",
    "import torch.optim as optim\n",
    "import torch.nn.functional as F\n",
    "\n",
    "class Encoder(nn.Module):\n",
    "    def __init__(self, vocab_emb, embed_dim, hidden_size, num_layers, max_position=180, dropout=0.3):\n",
    "        super(Encoder, self).__init__()\n",
    "        self.hidden_size = hidden_size\n",
    "        self.embedding = nn.Embedding(vocab_emb, embed_dim)\n",
    "        self.pos_embedding = nn.Embedding(max_position, embed_dim)\n",
    "        self.encoder = nn.LSTM(embed_dim, hidden_size, num_layers=num_layers, batch_first=True, dropout=dropout, bidirectional=True)\n",
    "        self.dropout = nn.Dropout(p=dropout)\n",
    "\n",
    "    def forward(self, text_data, position_text):\n",
    "        text_x = self.embedding(text_data) + self.pos_embedding(position_text)\n",
    "        text_x = self.dropout(text_x)\n",
    "        x_encoded, _ = self.encoder(text_x)\n",
    "        x_encoded = self.dropout(x_encoded)\n",
    "        return x_encoded"
   ]
  },
  {
   "cell_type": "code",
   "execution_count": 25,
   "metadata": {
    "scrolled": true
   },
   "outputs": [
    {
     "data": {
      "text/plain": [
       "Encoder(\n",
       "  (embedding): Embedding(7075, 256)\n",
       "  (pos_embedding): Embedding(180, 256)\n",
       "  (encoder): LSTM(256, 256, num_layers=6, batch_first=True, dropout=0.2, bidirectional=True)\n",
       "  (dropout): Dropout(p=0.2, inplace=False)\n",
       ")"
      ]
     },
     "execution_count": 25,
     "metadata": {},
     "output_type": "execute_result"
    }
   ],
   "source": [
    "lstm_encoder = Encoder(vocab_emb=vocab_size, embed_dim=256, hidden_size=256, num_layers=6, max_position=180)\n",
    "lstm_encoder.cuda()"
   ]
  },
  {
   "cell_type": "markdown",
   "metadata": {},
   "source": [
    "### Training"
   ]
  },
  {
   "cell_type": "code",
   "execution_count": 26,
   "metadata": {
    "scrolled": true
   },
   "outputs": [],
   "source": [
    "torch.manual_seed(233)\n",
    "torch.cuda.manual_seed_all(233)\n",
    "random.seed(233)\n",
    "\n",
    "weight_decay = 0.01\n",
    "encoder_optimizer = optim.Adam(lstm_encoder.parameters(), weight_decay=weight_decay)\n",
    "max_lr = 1e-5\n",
    "for param_group in encoder_optimizer.param_groups:\n",
    "    param_group['lr'] = max_lr\n",
    "\n",
    "accumulate_step = 2\n",
    "grad_norm = 0.1\n",
    "warmup_steps = 200\n",
    "report_freq = 10\n",
    "eval_interval = 50\n",
    "save_dir = \"model_ckpts\""
   ]
  },
  {
   "cell_type": "code",
   "execution_count": 27,
   "metadata": {},
   "outputs": [],
   "source": [
    "retrieval_num = 5\n",
    "dev_candis_num = 10\n",
    "\n",
    "def validate(dev_text_idx, evidence_text_idx, dev_sort_evidences, dev_claim_evidences, encoder_model):\n",
    "    # get evidence embeddings\n",
    "    start_idx = 0\n",
    "    batch_size = 700\n",
    "    evidence_len = len(evidence_text_idx[0])\n",
    "    text_len = len(dev_text_idx[0])\n",
    "    \n",
    "    evidence_embeddings = []\n",
    "    encoder_model.eval()\n",
    "    \n",
    "    while start_idx < len(evidence_text_idx):\n",
    "        end_idx = min(start_idx + batch_size, len(evidence_text_idx))\n",
    "        \n",
    "        cur_evidence = torch.LongTensor(evidence_text_idx[start_idx:end_idx]).view(-1, evidence_len).cuda()\n",
    "        cur_evidence_pos = torch.LongTensor([list(range(evidence_len)) for _ in range(end_idx - start_idx)]).cuda()\n",
    "        print()\n",
    "        cur_embedding = encoder_model(cur_evidence, cur_evidence_pos)\n",
    "        cur_embedding = cur_embedding[:, -1, :].detach()\n",
    "        cur_embedding_cpu = F.normalize(cur_embedding, p=2, dim=1).cpu()\n",
    "        del cur_embedding, cur_evidence, cur_evidence_pos\n",
    "        start_idx = end_idx\n",
    "        evidence_embeddings.append(cur_embedding_cpu)\n",
    "        \n",
    "    evidence_embeddings = torch.cat(evidence_embeddings, dim=0).t()\n",
    "    print(\"get all evidence embeddings!\")\n",
    "    f = []\n",
    "    \n",
    "    start_idx = 0\n",
    "    batch_size = 700\n",
    "    \n",
    "    while start_idx < len(dev_text_idx):\n",
    "        end_idx = min(start_idx + batch_size, len(dev_text_idx))\n",
    "        \n",
    "        cur_query = torch.LongTensor(dev_text_idx[start_idx:end_idx]).view(-1, text_len).cuda()\n",
    "        cur_query_pos = torch.LongTensor([list(range(text_len)) for _ in range(end_idx - start_idx)]).cuda()\n",
    "\n",
    "        query_embedding = encoder_model(cur_query, cur_query_pos)\n",
    "        query_embedding = query_embedding[:, -1, :].detach()\n",
    "        query_embedding = F.normalize(query_embedding, p=2, dim=1).cpu()\n",
    "        \n",
    "        scores = torch.mm(query_embedding, evidence_embeddings)\n",
    "\n",
    "        for i in range(scores.size(0)):\n",
    "            new_score = torch.index_select(scores[i], 0, torch.LongTensor(dev_sort_evidences[start_idx+i][:dev_candis_num]))\n",
    "            topk_ids = torch.argsort(new_score).tolist()\n",
    "            select_ids = topk_ids[:retrieval_num]\n",
    "            \n",
    "            evidence_correct = 0\n",
    "            pred_evidences = [dev_sort_evidences[start_idx+i][j] for j in select_ids]\n",
    "            label = dev_claim_evidences[start_idx+i]\n",
    "            for evidence_id in label:\n",
    "                if evidence_id in pred_evidences:\n",
    "                    evidence_correct += 1\n",
    "            if evidence_correct > 0:\n",
    "                evidence_recall = float(evidence_correct) / len(label)\n",
    "                evidence_precision = float(evidence_correct) / len(pred_evidences)\n",
    "                evidence_fscore = (2 * evidence_precision * evidence_recall) / (evidence_precision + evidence_recall)\n",
    "                print(evidence_fscore)\n",
    "            else:\n",
    "                evidence_fscore = 0\n",
    "            f.append(evidence_fscore)\n",
    "            \n",
    "        start_idx = end_idx\n",
    "        # print(\"----\")\n",
    "    fscore = np.mean(f)\n",
    "    print(\"\\n\")\n",
    "    print(\"Evidence Retrieval F-score: %.3f\" % fscore)\n",
    "    print(\"\\n\")\n",
    "    encoder_model.train()\n",
    "    return fscore"
   ]
  },
  {
   "cell_type": "code",
   "execution_count": 28,
   "metadata": {},
   "outputs": [
    {
     "name": "stdout",
     "output_type": "stream",
     "text": [
      "env: WANDB_NOTEBOOK_NAME=Mon5PMGroup7_COMP90042.ipynb\n"
     ]
    }
   ],
   "source": [
    "%env WANDB_NOTEBOOK_NAME Mon5PMGroup7_COMP90042.ipynb"
   ]
  },
  {
   "cell_type": "code",
   "execution_count": 29,
   "metadata": {
    "scrolled": true
   },
   "outputs": [
    {
     "name": "stderr",
     "output_type": "stream",
     "text": [
      "\u001b[34m\u001b[1mwandb\u001b[0m: \u001b[33mWARNING\u001b[0m WANDB_NOTEBOOK_NAME should be a path to a notebook file, couldn't find Mon5PMGroup7_COMP90042.ipynb.\n",
      "\u001b[34m\u001b[1mwandb\u001b[0m: Currently logged in as: \u001b[33mcyl101397\u001b[0m (\u001b[33mnlp_project_5pmteam7\u001b[0m). Use \u001b[1m`wandb login --relogin`\u001b[0m to force relogin\n"
     ]
    },
    {
     "data": {
      "text/html": [
       "Tracking run with wandb version 0.17.0"
      ],
      "text/plain": [
       "<IPython.core.display.HTML object>"
      ]
     },
     "metadata": {},
     "output_type": "display_data"
    },
    {
     "data": {
      "text/html": [
       "Run data is saved locally in <code>c:\\Users\\ABC\\Desktop\\学习\\NLP\\project nlp\\COMP90042-NLP-Project-Team07\\wandb\\run-20240524_195544-2knqcul0</code>"
      ],
      "text/plain": [
       "<IPython.core.display.HTML object>"
      ]
     },
     "metadata": {},
     "output_type": "display_data"
    },
    {
     "data": {
      "text/html": [
       "Syncing run <strong><a href='https://wandb.ai/nlp_project_5pmteam7/nlp/runs/2knqcul0' target=\"_blank\">dpr</a></strong> to <a href='https://wandb.ai/nlp_project_5pmteam7/nlp' target=\"_blank\">Weights & Biases</a> (<a href='https://wandb.me/run' target=\"_blank\">docs</a>)<br/>"
      ],
      "text/plain": [
       "<IPython.core.display.HTML object>"
      ]
     },
     "metadata": {},
     "output_type": "display_data"
    },
    {
     "data": {
      "text/html": [
       " View project at <a href='https://wandb.ai/nlp_project_5pmteam7/nlp' target=\"_blank\">https://wandb.ai/nlp_project_5pmteam7/nlp</a>"
      ],
      "text/plain": [
       "<IPython.core.display.HTML object>"
      ]
     },
     "metadata": {},
     "output_type": "display_data"
    },
    {
     "data": {
      "text/html": [
       " View run at <a href='https://wandb.ai/nlp_project_5pmteam7/nlp/runs/2knqcul0' target=\"_blank\">https://wandb.ai/nlp_project_5pmteam7/nlp/runs/2knqcul0</a>"
      ],
      "text/plain": [
       "<IPython.core.display.HTML object>"
      ]
     },
     "metadata": {},
     "output_type": "display_data"
    },
    {
     "name": "stderr",
     "output_type": "stream",
     "text": [
      "  9%|▉         | 22/246 [00:01<00:14, 15.31it/s]"
     ]
    },
    {
     "name": "stdout",
     "output_type": "stream",
     "text": [
      "\n",
      "\n",
      "epoch: 1, epoch_step: 10, avg loss: nan\n",
      "learning rate: 0.000001\n",
      "\n",
      "\n"
     ]
    },
    {
     "name": "stderr",
     "output_type": "stream",
     "text": [
      " 17%|█▋        | 42/246 [00:03<00:12, 15.96it/s]"
     ]
    },
    {
     "name": "stdout",
     "output_type": "stream",
     "text": [
      "\n",
      "\n",
      "epoch: 1, epoch_step: 20, avg loss: nan\n",
      "learning rate: 0.000001\n",
      "\n",
      "\n"
     ]
    },
    {
     "name": "stderr",
     "output_type": "stream",
     "text": [
      " 25%|██▌       | 62/246 [00:04<00:11, 15.61it/s]"
     ]
    },
    {
     "name": "stdout",
     "output_type": "stream",
     "text": [
      "\n",
      "\n",
      "epoch: 1, epoch_step: 30, avg loss: nan\n",
      "learning rate: 0.000002\n",
      "\n",
      "\n"
     ]
    },
    {
     "name": "stderr",
     "output_type": "stream",
     "text": [
      " 33%|███▎      | 82/246 [00:05<00:10, 15.92it/s]"
     ]
    },
    {
     "name": "stdout",
     "output_type": "stream",
     "text": [
      "\n",
      "\n",
      "epoch: 1, epoch_step: 40, avg loss: nan\n",
      "learning rate: 0.000002\n",
      "\n",
      "\n"
     ]
    },
    {
     "name": "stderr",
     "output_type": "stream",
     "text": [
      " 40%|███▉      | 98/246 [00:06<00:09, 15.37it/s]"
     ]
    },
    {
     "name": "stdout",
     "output_type": "stream",
     "text": [
      "\n",
      "\n",
      "epoch: 1, epoch_step: 50, avg loss: nan\n",
      "learning rate: 0.000003\n",
      "\n",
      "\n",
      "\n",
      "Evaluate:\n",
      "\n",
      "\n",
      "\n",
      "\n",
      "\n",
      "\n",
      "\n",
      "\n",
      "\n",
      "\n",
      "\n",
      "\n",
      "\n",
      "\n",
      "\n",
      "\n",
      "\n",
      "\n",
      "\n",
      "\n",
      "\n",
      "\n",
      "\n",
      "\n",
      "\n",
      "\n",
      "\n",
      "\n",
      "\n",
      "\n",
      "\n",
      "\n",
      "\n",
      "\n",
      "\n",
      "\n",
      "\n",
      "\n",
      "\n",
      "\n",
      "\n",
      "\n",
      "\n",
      "\n",
      "\n",
      "\n",
      "\n",
      "\n",
      "\n",
      "\n",
      "\n",
      "\n",
      "\n",
      "\n",
      "\n",
      "\n",
      "\n",
      "\n",
      "\n",
      "\n",
      "\n",
      "\n",
      "\n",
      "\n",
      "\n",
      "\n",
      "\n",
      "\n",
      "\n",
      "\n",
      "\n",
      "\n",
      "\n",
      "\n",
      "\n",
      "\n",
      "\n",
      "\n",
      "\n"
     ]
    },
    {
     "name": "stderr",
     "output_type": "stream",
     "text": [
      " 41%|████      | 100/246 [00:10<01:38,  1.48it/s]"
     ]
    },
    {
     "name": "stdout",
     "output_type": "stream",
     "text": [
      "get all evidence embeddings!\n",
      "0.20000000000000004\n",
      "0.28571428571428575\n",
      "0.28571428571428575\n",
      "0.22222222222222224\n",
      "0.28571428571428575\n",
      "0.28571428571428575\n",
      "0.33333333333333337\n",
      "0.33333333333333337\n",
      "0.33333333333333337\n",
      "0.20000000000000004\n",
      "0.25\n",
      "0.33333333333333337\n",
      "0.25\n",
      "0.25\n",
      "0.33333333333333337\n",
      "0.28571428571428575\n",
      "0.33333333333333337\n",
      "0.5\n",
      "0.20000000000000004\n",
      "0.33333333333333337\n",
      "0.4000000000000001\n",
      "\n",
      "\n",
      "Evidence Retrieval F-score: 0.040\n",
      "\n",
      "\n",
      "\n",
      "\n",
      "best val loss - epoch: 0, epoch_step: 50\n",
      "maximum_f_score 0.04048134405277262\n",
      "\n",
      "\n"
     ]
    },
    {
     "name": "stderr",
     "output_type": "stream",
     "text": [
      " 50%|████▉     | 122/246 [00:12<00:09, 13.43it/s]"
     ]
    },
    {
     "name": "stdout",
     "output_type": "stream",
     "text": [
      "\n",
      "\n",
      "epoch: 1, epoch_step: 60, avg loss: nan\n",
      "learning rate: 0.000003\n",
      "\n",
      "\n"
     ]
    },
    {
     "name": "stderr",
     "output_type": "stream",
     "text": [
      " 58%|█████▊    | 142/246 [00:13<00:06, 16.05it/s]"
     ]
    },
    {
     "name": "stdout",
     "output_type": "stream",
     "text": [
      "\n",
      "\n",
      "epoch: 1, epoch_step: 70, avg loss: nan\n",
      "learning rate: 0.000004\n",
      "\n",
      "\n"
     ]
    },
    {
     "name": "stderr",
     "output_type": "stream",
     "text": [
      " 66%|██████▌   | 162/246 [00:14<00:05, 15.94it/s]"
     ]
    },
    {
     "name": "stdout",
     "output_type": "stream",
     "text": [
      "\n",
      "\n",
      "epoch: 1, epoch_step: 80, avg loss: nan\n",
      "learning rate: 0.000004\n",
      "\n",
      "\n"
     ]
    },
    {
     "name": "stderr",
     "output_type": "stream",
     "text": [
      " 74%|███████▍  | 182/246 [00:15<00:04, 15.90it/s]"
     ]
    },
    {
     "name": "stdout",
     "output_type": "stream",
     "text": [
      "\n",
      "\n",
      "epoch: 1, epoch_step: 90, avg loss: nan\n",
      "learning rate: 0.000005\n",
      "\n",
      "\n"
     ]
    },
    {
     "name": "stderr",
     "output_type": "stream",
     "text": [
      " 80%|████████  | 198/246 [00:16<00:02, 16.31it/s]"
     ]
    },
    {
     "name": "stdout",
     "output_type": "stream",
     "text": [
      "\n",
      "\n",
      "epoch: 1, epoch_step: 100, avg loss: nan\n",
      "learning rate: 0.000005\n",
      "\n",
      "\n",
      "\n",
      "Evaluate:\n",
      "\n",
      "\n",
      "\n",
      "\n",
      "\n",
      "\n",
      "\n",
      "\n",
      "\n",
      "\n",
      "\n",
      "\n",
      "\n",
      "\n",
      "\n",
      "\n",
      "\n",
      "\n",
      "\n",
      "\n",
      "\n",
      "\n",
      "\n",
      "\n",
      "\n",
      "\n",
      "\n",
      "\n",
      "\n",
      "\n",
      "\n",
      "\n",
      "\n",
      "\n",
      "\n",
      "\n",
      "\n",
      "\n",
      "\n",
      "\n",
      "\n",
      "\n",
      "\n",
      "\n",
      "\n",
      "\n",
      "\n",
      "\n",
      "\n",
      "\n",
      "\n",
      "\n",
      "\n",
      "\n",
      "\n",
      "\n",
      "\n",
      "\n",
      "\n",
      "\n",
      "\n",
      "\n",
      "\n",
      "\n",
      "\n",
      "\n",
      "\n",
      "\n",
      "\n",
      "\n",
      "\n",
      "\n",
      "\n",
      "\n",
      "\n",
      "\n",
      "\n",
      "\n",
      "\n",
      "get all evidence embeddings!\n"
     ]
    },
    {
     "name": "stderr",
     "output_type": "stream",
     "text": [
      " 82%|████████▏ | 202/246 [00:21<00:21,  2.08it/s]"
     ]
    },
    {
     "name": "stdout",
     "output_type": "stream",
     "text": [
      "0.20000000000000004\n",
      "0.33333333333333337\n",
      "0.22222222222222224\n",
      "0.28571428571428575\n",
      "0.28571428571428575\n",
      "0.20000000000000004\n",
      "0.28571428571428575\n",
      "0.33333333333333337\n",
      "0.33333333333333337\n",
      "0.4000000000000001\n",
      "0.25\n",
      "0.33333333333333337\n",
      "0.5\n",
      "0.33333333333333337\n",
      "0.28571428571428575\n",
      "0.33333333333333337\n",
      "0.33333333333333337\n",
      "0.28571428571428575\n",
      "0.4000000000000001\n",
      "\n",
      "\n",
      "Evidence Retrieval F-score: 0.039\n",
      "\n",
      "\n"
     ]
    },
    {
     "name": "stderr",
     "output_type": "stream",
     "text": [
      " 90%|█████████ | 222/246 [00:22<00:01, 13.76it/s]"
     ]
    },
    {
     "name": "stdout",
     "output_type": "stream",
     "text": [
      "\n",
      "\n",
      "epoch: 1, epoch_step: 110, avg loss: nan\n",
      "learning rate: 0.000006\n",
      "\n",
      "\n"
     ]
    },
    {
     "name": "stderr",
     "output_type": "stream",
     "text": [
      " 98%|█████████▊| 242/246 [00:23<00:00, 16.28it/s]"
     ]
    },
    {
     "name": "stdout",
     "output_type": "stream",
     "text": [
      "\n",
      "\n",
      "epoch: 1, epoch_step: 120, avg loss: nan\n",
      "learning rate: 0.000006\n",
      "\n",
      "\n"
     ]
    },
    {
     "name": "stderr",
     "output_type": "stream",
     "text": [
      "100%|██████████| 246/246 [00:23<00:00, 10.34it/s]\n",
      "  7%|▋         | 16/246 [00:00<00:13, 16.63it/s]"
     ]
    },
    {
     "name": "stdout",
     "output_type": "stream",
     "text": [
      "\n",
      "\n",
      "epoch: 2, epoch_step: 7, avg loss: nan\n",
      "learning rate: 0.000007\n",
      "\n",
      "\n"
     ]
    },
    {
     "name": "stderr",
     "output_type": "stream",
     "text": [
      " 15%|█▍        | 36/246 [00:02<00:12, 16.55it/s]"
     ]
    },
    {
     "name": "stdout",
     "output_type": "stream",
     "text": [
      "\n",
      "\n",
      "epoch: 2, epoch_step: 17, avg loss: nan\n",
      "learning rate: 0.000007\n",
      "\n",
      "\n"
     ]
    },
    {
     "name": "stderr",
     "output_type": "stream",
     "text": [
      " 21%|██        | 52/246 [00:03<00:11, 16.36it/s]"
     ]
    },
    {
     "name": "stdout",
     "output_type": "stream",
     "text": [
      "\n",
      "\n",
      "epoch: 2, epoch_step: 27, avg loss: nan\n",
      "learning rate: 0.000008\n",
      "\n",
      "\n",
      "\n",
      "Evaluate:\n",
      "\n",
      "\n",
      "\n",
      "\n",
      "\n",
      "\n",
      "\n",
      "\n",
      "\n",
      "\n",
      "\n",
      "\n",
      "\n",
      "\n",
      "\n",
      "\n",
      "\n",
      "\n",
      "\n",
      "\n",
      "\n",
      "\n",
      "\n",
      "\n",
      "\n",
      "\n",
      "\n",
      "\n",
      "\n",
      "\n",
      "\n",
      "\n",
      "\n",
      "\n",
      "\n",
      "\n",
      "\n",
      "\n",
      "\n",
      "\n",
      "\n",
      "\n",
      "\n",
      "\n",
      "\n",
      "\n",
      "\n",
      "\n",
      "\n",
      "\n",
      "\n",
      "\n",
      "\n",
      "\n",
      "\n",
      "\n",
      "\n",
      "\n",
      "\n",
      "\n",
      "\n",
      "\n",
      "\n",
      "\n",
      "\n",
      "\n",
      "\n",
      "\n",
      "\n",
      "\n",
      "\n",
      "\n",
      "\n",
      "\n",
      "\n",
      "\n",
      "\n",
      "\n",
      "\n",
      "get all evidence embeddings!\n",
      "0.20000000000000004\n",
      "0.33333333333333337\n",
      "0.28571428571428575\n",
      "0.33333333333333337\n",
      "0.5714285714285715\n",
      "0.28571428571428575\n",
      "0.4000000000000001\n",
      "0.28571428571428575\n",
      "0.33333333333333337\n",
      "0.33333333333333337\n",
      "0.25\n",
      "0.25\n",
      "0.33333333333333337\n",
      "0.25\n",
      "0.25\n",
      "0.33333333333333337\n",
      "0.28571428571428575\n",
      "0.33333333333333337\n",
      "0.5\n",
      "0.20000000000000004\n",
      "0.33333333333333337\n",
      "0.5714285714285715\n",
      "0.28571428571428575\n",
      "\n",
      "\n",
      "Evidence Retrieval F-score: 0.049\n",
      "\n",
      "\n"
     ]
    },
    {
     "name": "stderr",
     "output_type": "stream",
     "text": [
      " 23%|██▎       | 56/246 [00:07<01:30,  2.10it/s]"
     ]
    },
    {
     "name": "stdout",
     "output_type": "stream",
     "text": [
      "\n",
      "\n",
      "best val loss - epoch: 1, epoch_step: 27\n",
      "maximum_f_score 0.048948670377241814\n",
      "\n",
      "\n"
     ]
    },
    {
     "name": "stderr",
     "output_type": "stream",
     "text": [
      " 31%|███       | 76/246 [00:08<00:12, 13.76it/s]"
     ]
    },
    {
     "name": "stdout",
     "output_type": "stream",
     "text": [
      "\n",
      "\n",
      "epoch: 2, epoch_step: 37, avg loss: nan\n",
      "learning rate: 0.000008\n",
      "\n",
      "\n"
     ]
    },
    {
     "name": "stderr",
     "output_type": "stream",
     "text": [
      " 39%|███▉      | 96/246 [00:09<00:09, 16.47it/s]"
     ]
    },
    {
     "name": "stdout",
     "output_type": "stream",
     "text": [
      "\n",
      "\n",
      "epoch: 2, epoch_step: 47, avg loss: nan\n",
      "learning rate: 0.000009\n",
      "\n",
      "\n"
     ]
    },
    {
     "name": "stderr",
     "output_type": "stream",
     "text": [
      " 47%|████▋     | 116/246 [00:10<00:08, 16.22it/s]"
     ]
    },
    {
     "name": "stdout",
     "output_type": "stream",
     "text": [
      "\n",
      "\n",
      "epoch: 2, epoch_step: 57, avg loss: nan\n",
      "learning rate: 0.000009\n",
      "\n",
      "\n"
     ]
    },
    {
     "name": "stderr",
     "output_type": "stream",
     "text": [
      " 55%|█████▌    | 136/246 [00:12<00:06, 16.49it/s]"
     ]
    },
    {
     "name": "stdout",
     "output_type": "stream",
     "text": [
      "\n",
      "\n",
      "epoch: 2, epoch_step: 67, avg loss: nan\n",
      "learning rate: 0.000010\n",
      "\n",
      "\n"
     ]
    },
    {
     "name": "stderr",
     "output_type": "stream",
     "text": [
      " 62%|██████▏   | 152/246 [00:13<00:05, 16.50it/s]"
     ]
    },
    {
     "name": "stdout",
     "output_type": "stream",
     "text": [
      "\n",
      "\n",
      "epoch: 2, epoch_step: 77, avg loss: nan\n",
      "learning rate: 0.000010\n",
      "\n",
      "\n",
      "\n",
      "Evaluate:\n",
      "\n",
      "\n",
      "\n",
      "\n",
      "\n",
      "\n",
      "\n",
      "\n",
      "\n",
      "\n",
      "\n",
      "\n",
      "\n",
      "\n",
      "\n",
      "\n",
      "\n",
      "\n",
      "\n",
      "\n",
      "\n",
      "\n",
      "\n",
      "\n",
      "\n",
      "\n",
      "\n",
      "\n",
      "\n",
      "\n",
      "\n",
      "\n",
      "\n",
      "\n",
      "\n",
      "\n",
      "\n",
      "\n",
      "\n",
      "\n",
      "\n",
      "\n",
      "\n",
      "\n",
      "\n",
      "\n",
      "\n",
      "\n",
      "\n",
      "\n",
      "\n",
      "\n",
      "\n",
      "\n",
      "\n",
      "\n",
      "\n",
      "\n",
      "\n",
      "\n",
      "\n",
      "\n",
      "\n",
      "\n",
      "\n",
      "\n",
      "\n",
      "\n",
      "\n",
      "\n",
      "\n",
      "\n",
      "\n",
      "\n",
      "\n",
      "\n",
      "\n",
      "\n",
      "\n",
      "get all evidence embeddings!\n"
     ]
    },
    {
     "name": "stderr",
     "output_type": "stream",
     "text": [
      " 63%|██████▎   | 156/246 [00:17<00:42,  2.11it/s]"
     ]
    },
    {
     "name": "stdout",
     "output_type": "stream",
     "text": [
      "0.22222222222222224\n",
      "0.20000000000000004\n",
      "0.28571428571428575\n",
      "0.5714285714285715\n",
      "0.20000000000000004\n",
      "0.5714285714285715\n",
      "0.33333333333333337\n",
      "0.28571428571428575\n",
      "0.33333333333333337\n",
      "0.20000000000000004\n",
      "0.25\n",
      "0.25\n",
      "0.25\n",
      "0.25\n",
      "0.33333333333333337\n",
      "0.28571428571428575\n",
      "0.33333333333333337\n",
      "0.25\n",
      "0.20000000000000004\n",
      "0.28571428571428575\n",
      "0.20000000000000004\n",
      "0.28571428571428575\n",
      "\n",
      "\n",
      "Evidence Retrieval F-score: 0.041\n",
      "\n",
      "\n"
     ]
    },
    {
     "name": "stderr",
     "output_type": "stream",
     "text": [
      " 72%|███████▏  | 176/246 [00:18<00:05, 13.90it/s]"
     ]
    },
    {
     "name": "stdout",
     "output_type": "stream",
     "text": [
      "\n",
      "\n",
      "epoch: 2, epoch_step: 87, avg loss: nan\n",
      "learning rate: -0.000090\n",
      "\n",
      "\n"
     ]
    },
    {
     "name": "stderr",
     "output_type": "stream",
     "text": [
      " 80%|███████▉  | 196/246 [00:19<00:03, 16.48it/s]"
     ]
    },
    {
     "name": "stdout",
     "output_type": "stream",
     "text": [
      "\n",
      "\n",
      "epoch: 2, epoch_step: 97, avg loss: nan\n",
      "learning rate: -0.000190\n",
      "\n",
      "\n"
     ]
    },
    {
     "name": "stderr",
     "output_type": "stream",
     "text": [
      " 88%|████████▊ | 216/246 [00:20<00:01, 16.69it/s]"
     ]
    },
    {
     "name": "stdout",
     "output_type": "stream",
     "text": [
      "\n",
      "\n",
      "epoch: 2, epoch_step: 107, avg loss: nan\n",
      "learning rate: -0.000290\n",
      "\n",
      "\n"
     ]
    },
    {
     "name": "stderr",
     "output_type": "stream",
     "text": [
      " 96%|█████████▌| 236/246 [00:22<00:00, 16.46it/s]"
     ]
    },
    {
     "name": "stdout",
     "output_type": "stream",
     "text": [
      "\n",
      "\n",
      "epoch: 2, epoch_step: 117, avg loss: nan\n",
      "learning rate: -0.000390\n",
      "\n",
      "\n"
     ]
    },
    {
     "name": "stderr",
     "output_type": "stream",
     "text": [
      "100%|██████████| 246/246 [00:22<00:00, 10.79it/s]\n",
      "  2%|▏         | 6/246 [00:00<00:14, 16.54it/s]"
     ]
    },
    {
     "name": "stdout",
     "output_type": "stream",
     "text": [
      "\n",
      "\n",
      "epoch: 3, epoch_step: 4, avg loss: nan\n",
      "learning rate: -0.000490\n",
      "\n",
      "\n",
      "\n",
      "Evaluate:\n",
      "\n",
      "\n",
      "\n",
      "\n",
      "\n",
      "\n",
      "\n",
      "\n",
      "\n",
      "\n",
      "\n",
      "\n",
      "\n",
      "\n",
      "\n",
      "\n",
      "\n",
      "\n",
      "\n",
      "\n",
      "\n",
      "\n",
      "\n",
      "\n",
      "\n",
      "\n",
      "\n",
      "\n",
      "\n",
      "\n",
      "\n",
      "\n",
      "\n",
      "\n",
      "\n",
      "\n",
      "\n",
      "\n",
      "\n",
      "\n",
      "\n",
      "\n",
      "\n",
      "\n",
      "\n",
      "\n",
      "\n",
      "\n",
      "\n",
      "\n",
      "\n",
      "\n",
      "\n",
      "\n",
      "\n",
      "\n",
      "\n",
      "\n",
      "\n",
      "\n",
      "\n",
      "\n",
      "\n",
      "\n",
      "\n",
      "\n",
      "\n",
      "\n",
      "\n",
      "\n",
      "\n",
      "\n",
      "\n",
      "\n",
      "\n",
      "\n",
      "\n",
      "\n",
      "\n"
     ]
    },
    {
     "name": "stderr",
     "output_type": "stream",
     "text": [
      "  4%|▍         | 10/246 [00:04<02:10,  1.80it/s]"
     ]
    },
    {
     "name": "stdout",
     "output_type": "stream",
     "text": [
      "get all evidence embeddings!\n",
      "0.20000000000000004\n",
      "0.28571428571428575\n",
      "0.28571428571428575\n",
      "0.22222222222222224\n",
      "0.33333333333333337\n",
      "0.28571428571428575\n",
      "0.28571428571428575\n",
      "0.33333333333333337\n",
      "0.33333333333333337\n",
      "0.20000000000000004\n",
      "0.25\n",
      "0.25\n",
      "0.25\n",
      "0.5\n",
      "0.33333333333333337\n",
      "0.28571428571428575\n",
      "0.33333333333333337\n",
      "0.33333333333333337\n",
      "0.25\n",
      "0.20000000000000004\n",
      "0.33333333333333337\n",
      "0.5714285714285715\n",
      "0.28571428571428575\n",
      "\n",
      "\n",
      "Evidence Retrieval F-score: 0.045\n",
      "\n",
      "\n"
     ]
    },
    {
     "name": "stderr",
     "output_type": "stream",
     "text": [
      " 12%|█▏        | 30/246 [00:05<00:15, 13.92it/s]"
     ]
    },
    {
     "name": "stdout",
     "output_type": "stream",
     "text": [
      "\n",
      "\n",
      "epoch: 3, epoch_step: 14, avg loss: nan\n",
      "learning rate: -0.000590\n",
      "\n",
      "\n"
     ]
    },
    {
     "name": "stderr",
     "output_type": "stream",
     "text": [
      " 20%|██        | 50/246 [00:06<00:11, 16.56it/s]"
     ]
    },
    {
     "name": "stdout",
     "output_type": "stream",
     "text": [
      "\n",
      "\n",
      "epoch: 3, epoch_step: 24, avg loss: nan\n",
      "learning rate: -0.000690\n",
      "\n",
      "\n"
     ]
    },
    {
     "name": "stderr",
     "output_type": "stream",
     "text": [
      " 28%|██▊       | 70/246 [00:08<00:10, 16.74it/s]"
     ]
    },
    {
     "name": "stdout",
     "output_type": "stream",
     "text": [
      "\n",
      "\n",
      "epoch: 3, epoch_step: 34, avg loss: nan\n",
      "learning rate: -0.000790\n",
      "\n",
      "\n"
     ]
    },
    {
     "name": "stderr",
     "output_type": "stream",
     "text": [
      " 37%|███▋      | 90/246 [00:09<00:09, 16.73it/s]"
     ]
    },
    {
     "name": "stdout",
     "output_type": "stream",
     "text": [
      "\n",
      "\n",
      "epoch: 3, epoch_step: 44, avg loss: nan\n",
      "learning rate: -0.000890\n",
      "\n",
      "\n"
     ]
    },
    {
     "name": "stderr",
     "output_type": "stream",
     "text": [
      " 43%|████▎     | 106/246 [00:10<00:08, 16.28it/s]"
     ]
    },
    {
     "name": "stdout",
     "output_type": "stream",
     "text": [
      "\n",
      "\n",
      "epoch: 3, epoch_step: 54, avg loss: nan\n",
      "learning rate: -0.000990\n",
      "\n",
      "\n",
      "\n",
      "Evaluate:\n",
      "\n",
      "\n",
      "\n",
      "\n",
      "\n",
      "\n",
      "\n",
      "\n",
      "\n",
      "\n",
      "\n",
      "\n",
      "\n",
      "\n",
      "\n",
      "\n",
      "\n",
      "\n",
      "\n",
      "\n",
      "\n",
      "\n",
      "\n",
      "\n",
      "\n",
      "\n",
      "\n",
      "\n",
      "\n",
      "\n",
      "\n",
      "\n",
      "\n",
      "\n",
      "\n",
      "\n",
      "\n",
      "\n",
      "\n",
      "\n",
      "\n",
      "\n",
      "\n",
      "\n",
      "\n",
      "\n",
      "\n",
      "\n",
      "\n",
      "\n",
      "\n",
      "\n",
      "\n",
      "\n",
      "\n",
      "\n",
      "\n",
      "\n",
      "\n",
      "\n",
      "\n",
      "\n",
      "\n",
      "\n",
      "\n",
      "\n",
      "\n",
      "\n",
      "\n",
      "\n",
      "\n",
      "\n",
      "\n",
      "\n",
      "\n",
      "\n",
      "\n",
      "\n",
      "\n"
     ]
    },
    {
     "name": "stderr",
     "output_type": "stream",
     "text": [
      " 45%|████▍     | 110/246 [00:14<01:03,  2.14it/s]"
     ]
    },
    {
     "name": "stdout",
     "output_type": "stream",
     "text": [
      "get all evidence embeddings!\n",
      "0.20000000000000004\n",
      "0.20000000000000004\n",
      "0.28571428571428575\n",
      "0.33333333333333337\n",
      "0.33333333333333337\n",
      "0.20000000000000004\n",
      "0.5714285714285715\n",
      "0.33333333333333337\n",
      "0.25\n",
      "0.25\n",
      "0.25\n",
      "0.33333333333333337\n",
      "0.33333333333333337\n",
      "0.33333333333333337\n",
      "0.33333333333333337\n",
      "0.33333333333333337\n",
      "0.5714285714285715\n",
      "0.4000000000000001\n",
      "0.28571428571428575\n",
      "\n",
      "\n",
      "Evidence Retrieval F-score: 0.040\n",
      "\n",
      "\n"
     ]
    },
    {
     "name": "stderr",
     "output_type": "stream",
     "text": [
      " 53%|█████▎    | 130/246 [00:15<00:08, 13.95it/s]"
     ]
    },
    {
     "name": "stdout",
     "output_type": "stream",
     "text": [
      "\n",
      "\n",
      "epoch: 3, epoch_step: 64, avg loss: nan\n",
      "learning rate: -0.001090\n",
      "\n",
      "\n"
     ]
    },
    {
     "name": "stderr",
     "output_type": "stream",
     "text": [
      " 61%|██████    | 150/246 [00:16<00:05, 16.67it/s]"
     ]
    },
    {
     "name": "stdout",
     "output_type": "stream",
     "text": [
      "\n",
      "\n",
      "epoch: 3, epoch_step: 74, avg loss: nan\n",
      "learning rate: -0.001190\n",
      "\n",
      "\n"
     ]
    },
    {
     "name": "stderr",
     "output_type": "stream",
     "text": [
      " 69%|██████▉   | 170/246 [00:18<00:04, 16.66it/s]"
     ]
    },
    {
     "name": "stdout",
     "output_type": "stream",
     "text": [
      "\n",
      "\n",
      "epoch: 3, epoch_step: 84, avg loss: nan\n",
      "learning rate: -0.001290\n",
      "\n",
      "\n"
     ]
    },
    {
     "name": "stderr",
     "output_type": "stream",
     "text": [
      " 77%|███████▋  | 190/246 [00:19<00:03, 16.64it/s]"
     ]
    },
    {
     "name": "stdout",
     "output_type": "stream",
     "text": [
      "\n",
      "\n",
      "epoch: 3, epoch_step: 94, avg loss: nan\n",
      "learning rate: -0.001390\n",
      "\n",
      "\n"
     ]
    },
    {
     "name": "stderr",
     "output_type": "stream",
     "text": [
      " 84%|████████▎ | 206/246 [00:20<00:02, 16.63it/s]"
     ]
    },
    {
     "name": "stdout",
     "output_type": "stream",
     "text": [
      "\n",
      "\n",
      "epoch: 3, epoch_step: 104, avg loss: nan\n",
      "learning rate: -0.001490\n",
      "\n",
      "\n",
      "\n",
      "Evaluate:\n",
      "\n",
      "\n",
      "\n",
      "\n",
      "\n",
      "\n",
      "\n",
      "\n",
      "\n",
      "\n",
      "\n",
      "\n",
      "\n",
      "\n",
      "\n",
      "\n",
      "\n",
      "\n",
      "\n",
      "\n",
      "\n",
      "\n",
      "\n",
      "\n",
      "\n",
      "\n",
      "\n",
      "\n",
      "\n",
      "\n",
      "\n",
      "\n",
      "\n",
      "\n",
      "\n",
      "\n",
      "\n",
      "\n",
      "\n",
      "\n",
      "\n",
      "\n",
      "\n",
      "\n",
      "\n",
      "\n",
      "\n",
      "\n",
      "\n",
      "\n",
      "\n",
      "\n",
      "\n",
      "\n",
      "\n",
      "\n",
      "\n",
      "\n",
      "\n",
      "\n",
      "\n",
      "\n",
      "\n",
      "\n",
      "\n",
      "\n",
      "\n",
      "\n",
      "\n",
      "\n",
      "\n",
      "\n",
      "\n",
      "\n",
      "\n",
      "\n",
      "\n",
      "\n",
      "\n",
      "get all evidence embeddings!\n"
     ]
    },
    {
     "name": "stderr",
     "output_type": "stream",
     "text": [
      " 85%|████████▌ | 210/246 [00:24<00:16,  2.17it/s]"
     ]
    },
    {
     "name": "stdout",
     "output_type": "stream",
     "text": [
      "0.20000000000000004\n",
      "0.28571428571428575\n",
      "0.28571428571428575\n",
      "0.33333333333333337\n",
      "0.22222222222222224\n",
      "0.28571428571428575\n",
      "0.20000000000000004\n",
      "0.28571428571428575\n",
      "0.33333333333333337\n",
      "0.4000000000000001\n",
      "0.25\n",
      "0.33333333333333337\n",
      "0.33333333333333337\n",
      "0.25\n",
      "0.20000000000000004\n",
      "0.33333333333333337\n",
      "0.28571428571428575\n",
      "0.20000000000000004\n",
      "0.28571428571428575\n",
      "0.28571428571428575\n",
      "\n",
      "\n",
      "Evidence Retrieval F-score: 0.036\n",
      "\n",
      "\n"
     ]
    },
    {
     "name": "stderr",
     "output_type": "stream",
     "text": [
      " 93%|█████████▎| 230/246 [00:25<00:01, 14.05it/s]"
     ]
    },
    {
     "name": "stdout",
     "output_type": "stream",
     "text": [
      "\n",
      "\n",
      "epoch: 3, epoch_step: 114, avg loss: nan\n",
      "learning rate: -0.001590\n",
      "\n",
      "\n"
     ]
    },
    {
     "name": "stderr",
     "output_type": "stream",
     "text": [
      "100%|██████████| 246/246 [00:26<00:00,  9.31it/s]\n",
      "  2%|▏         | 4/246 [00:00<00:14, 17.09it/s]"
     ]
    },
    {
     "name": "stdout",
     "output_type": "stream",
     "text": [
      "\n",
      "\n",
      "epoch: 4, epoch_step: 1, avg loss: nan\n",
      "learning rate: -0.001690\n",
      "\n",
      "\n"
     ]
    },
    {
     "name": "stderr",
     "output_type": "stream",
     "text": [
      " 10%|▉         | 24/246 [00:01<00:12, 17.11it/s]"
     ]
    },
    {
     "name": "stdout",
     "output_type": "stream",
     "text": [
      "\n",
      "\n",
      "epoch: 4, epoch_step: 11, avg loss: nan\n",
      "learning rate: -0.001790\n",
      "\n",
      "\n"
     ]
    },
    {
     "name": "stderr",
     "output_type": "stream",
     "text": [
      " 18%|█▊        | 44/246 [00:02<00:11, 16.85it/s]"
     ]
    },
    {
     "name": "stdout",
     "output_type": "stream",
     "text": [
      "\n",
      "\n",
      "epoch: 4, epoch_step: 21, avg loss: nan\n",
      "learning rate: -0.001890\n",
      "\n",
      "\n"
     ]
    },
    {
     "name": "stderr",
     "output_type": "stream",
     "text": [
      " 24%|██▍       | 60/246 [00:03<00:11, 16.84it/s]"
     ]
    },
    {
     "name": "stdout",
     "output_type": "stream",
     "text": [
      "\n",
      "\n",
      "epoch: 4, epoch_step: 31, avg loss: nan\n",
      "learning rate: -0.001990\n",
      "\n",
      "\n",
      "\n",
      "Evaluate:\n",
      "\n",
      "\n",
      "\n",
      "\n",
      "\n",
      "\n",
      "\n",
      "\n",
      "\n",
      "\n",
      "\n",
      "\n",
      "\n",
      "\n",
      "\n",
      "\n",
      "\n",
      "\n",
      "\n",
      "\n",
      "\n",
      "\n",
      "\n",
      "\n",
      "\n",
      "\n",
      "\n",
      "\n",
      "\n",
      "\n",
      "\n",
      "\n",
      "\n",
      "\n",
      "\n",
      "\n",
      "\n",
      "\n",
      "\n",
      "\n",
      "\n",
      "\n",
      "\n",
      "\n",
      "\n",
      "\n",
      "\n",
      "\n",
      "\n",
      "\n",
      "\n",
      "\n",
      "\n",
      "\n",
      "\n",
      "\n",
      "\n",
      "\n",
      "\n",
      "\n",
      "\n",
      "\n",
      "\n",
      "\n",
      "\n",
      "\n",
      "\n",
      "\n",
      "\n",
      "\n",
      "\n",
      "\n",
      "\n",
      "\n",
      "\n",
      "\n",
      "\n",
      "\n",
      "\n",
      "get all evidence embeddings!\n"
     ]
    },
    {
     "name": "stderr",
     "output_type": "stream",
     "text": [
      " 26%|██▌       | 64/246 [00:07<01:22,  2.19it/s]"
     ]
    },
    {
     "name": "stdout",
     "output_type": "stream",
     "text": [
      "0.28571428571428575\n",
      "0.22222222222222224\n",
      "0.28571428571428575\n",
      "0.28571428571428575\n",
      "0.28571428571428575\n",
      "0.4000000000000001\n",
      "0.28571428571428575\n",
      "0.33333333333333337\n",
      "0.28571428571428575\n",
      "0.33333333333333337\n",
      "0.33333333333333337\n",
      "0.20000000000000004\n",
      "0.25\n",
      "0.33333333333333337\n",
      "0.25\n",
      "0.28571428571428575\n",
      "0.33333333333333337\n",
      "0.25\n",
      "0.20000000000000004\n",
      "0.33333333333333337\n",
      "0.28571428571428575\n",
      "0.20000000000000004\n",
      "0.28571428571428575\n",
      "0.28571428571428575\n",
      "\n",
      "\n",
      "Evidence Retrieval F-score: 0.044\n",
      "\n",
      "\n"
     ]
    },
    {
     "name": "stderr",
     "output_type": "stream",
     "text": [
      " 34%|███▍      | 84/246 [00:08<00:11, 14.33it/s]"
     ]
    },
    {
     "name": "stdout",
     "output_type": "stream",
     "text": [
      "\n",
      "\n",
      "epoch: 4, epoch_step: 41, avg loss: nan\n",
      "learning rate: -0.002090\n",
      "\n",
      "\n"
     ]
    },
    {
     "name": "stderr",
     "output_type": "stream",
     "text": [
      " 42%|████▏     | 104/246 [00:09<00:08, 16.90it/s]"
     ]
    },
    {
     "name": "stdout",
     "output_type": "stream",
     "text": [
      "\n",
      "\n",
      "epoch: 4, epoch_step: 51, avg loss: nan\n",
      "learning rate: -0.002190\n",
      "\n",
      "\n"
     ]
    },
    {
     "name": "stderr",
     "output_type": "stream",
     "text": [
      " 50%|█████     | 124/246 [00:11<00:07, 16.93it/s]"
     ]
    },
    {
     "name": "stdout",
     "output_type": "stream",
     "text": [
      "\n",
      "\n",
      "epoch: 4, epoch_step: 61, avg loss: nan\n",
      "learning rate: -0.002290\n",
      "\n",
      "\n"
     ]
    },
    {
     "name": "stderr",
     "output_type": "stream",
     "text": [
      " 59%|█████▊    | 144/246 [00:12<00:06, 16.76it/s]"
     ]
    },
    {
     "name": "stdout",
     "output_type": "stream",
     "text": [
      "\n",
      "\n",
      "epoch: 4, epoch_step: 71, avg loss: nan\n",
      "learning rate: -0.002390\n",
      "\n",
      "\n"
     ]
    },
    {
     "name": "stderr",
     "output_type": "stream",
     "text": [
      " 65%|██████▌   | 160/246 [00:13<00:05, 16.29it/s]"
     ]
    },
    {
     "name": "stdout",
     "output_type": "stream",
     "text": [
      "\n",
      "\n",
      "epoch: 4, epoch_step: 81, avg loss: nan\n",
      "learning rate: -0.002490\n",
      "\n",
      "\n",
      "\n",
      "Evaluate:\n",
      "\n",
      "\n",
      "\n",
      "\n",
      "\n",
      "\n",
      "\n",
      "\n",
      "\n",
      "\n",
      "\n",
      "\n",
      "\n",
      "\n",
      "\n",
      "\n",
      "\n",
      "\n",
      "\n",
      "\n",
      "\n",
      "\n",
      "\n",
      "\n",
      "\n",
      "\n",
      "\n",
      "\n",
      "\n",
      "\n",
      "\n",
      "\n",
      "\n",
      "\n",
      "\n",
      "\n",
      "\n",
      "\n",
      "\n",
      "\n",
      "\n",
      "\n",
      "\n",
      "\n",
      "\n",
      "\n",
      "\n",
      "\n",
      "\n",
      "\n",
      "\n",
      "\n",
      "\n",
      "\n",
      "\n",
      "\n",
      "\n",
      "\n",
      "\n",
      "\n",
      "\n",
      "\n",
      "\n",
      "\n",
      "\n",
      "\n",
      "\n",
      "\n",
      "\n",
      "\n",
      "\n",
      "\n",
      "\n",
      "\n",
      "\n",
      "\n",
      "\n",
      "\n",
      "\n"
     ]
    },
    {
     "name": "stderr",
     "output_type": "stream",
     "text": [
      " 66%|██████▌   | 162/246 [00:17<00:54,  1.54it/s]"
     ]
    },
    {
     "name": "stdout",
     "output_type": "stream",
     "text": [
      "get all evidence embeddings!\n",
      "0.20000000000000004\n",
      "0.33333333333333337\n",
      "0.28571428571428575\n",
      "0.5714285714285715\n",
      "0.4000000000000001\n",
      "0.5714285714285715\n",
      "0.33333333333333337\n",
      "0.33333333333333337\n",
      "0.33333333333333337\n",
      "0.33333333333333337\n",
      "0.20000000000000004\n",
      "0.25\n",
      "0.33333333333333337\n",
      "0.28571428571428575\n",
      "0.33333333333333337\n",
      "0.33333333333333337\n",
      "0.5\n",
      "0.20000000000000004\n",
      "0.33333333333333337\n",
      "0.28571428571428575\n",
      "0.4000000000000001\n",
      "0.28571428571428575\n",
      "0.28571428571428575\n",
      "\n",
      "\n",
      "Evidence Retrieval F-score: 0.050\n",
      "\n",
      "\n",
      "\n",
      "\n",
      "best val loss - epoch: 3, epoch_step: 81\n",
      "maximum_f_score 0.050139146567718\n",
      "\n",
      "\n"
     ]
    },
    {
     "name": "stderr",
     "output_type": "stream",
     "text": [
      " 75%|███████▍  | 184/246 [00:18<00:04, 13.86it/s]"
     ]
    },
    {
     "name": "stdout",
     "output_type": "stream",
     "text": [
      "\n",
      "\n",
      "epoch: 4, epoch_step: 91, avg loss: nan\n",
      "learning rate: -0.002590\n",
      "\n",
      "\n"
     ]
    },
    {
     "name": "stderr",
     "output_type": "stream",
     "text": [
      " 83%|████████▎ | 204/246 [00:19<00:02, 16.48it/s]"
     ]
    },
    {
     "name": "stdout",
     "output_type": "stream",
     "text": [
      "\n",
      "\n",
      "epoch: 4, epoch_step: 101, avg loss: nan\n",
      "learning rate: -0.002690\n",
      "\n",
      "\n"
     ]
    },
    {
     "name": "stderr",
     "output_type": "stream",
     "text": [
      " 91%|█████████ | 224/246 [00:21<00:01, 16.49it/s]"
     ]
    },
    {
     "name": "stdout",
     "output_type": "stream",
     "text": [
      "\n",
      "\n",
      "epoch: 4, epoch_step: 111, avg loss: nan\n",
      "learning rate: -0.002790\n",
      "\n",
      "\n"
     ]
    },
    {
     "name": "stderr",
     "output_type": "stream",
     "text": [
      " 99%|█████████▉| 244/246 [00:22<00:00, 16.46it/s]"
     ]
    },
    {
     "name": "stdout",
     "output_type": "stream",
     "text": [
      "\n",
      "\n",
      "epoch: 4, epoch_step: 121, avg loss: nan\n",
      "learning rate: -0.002890\n",
      "\n",
      "\n"
     ]
    },
    {
     "name": "stderr",
     "output_type": "stream",
     "text": [
      "100%|██████████| 246/246 [00:22<00:00, 10.97it/s]\n",
      "  6%|▌         | 14/246 [00:00<00:14, 16.41it/s]"
     ]
    },
    {
     "name": "stdout",
     "output_type": "stream",
     "text": [
      "\n",
      "\n",
      "epoch: 5, epoch_step: 8, avg loss: nan\n",
      "learning rate: -0.002990\n",
      "\n",
      "\n",
      "\n",
      "Evaluate:\n",
      "\n",
      "\n",
      "\n",
      "\n",
      "\n",
      "\n",
      "\n",
      "\n",
      "\n",
      "\n",
      "\n",
      "\n",
      "\n",
      "\n",
      "\n",
      "\n",
      "\n",
      "\n",
      "\n",
      "\n",
      "\n",
      "\n",
      "\n",
      "\n",
      "\n",
      "\n",
      "\n",
      "\n",
      "\n",
      "\n",
      "\n",
      "\n",
      "\n",
      "\n",
      "\n",
      "\n",
      "\n",
      "\n",
      "\n",
      "\n",
      "\n",
      "\n",
      "\n",
      "\n",
      "\n",
      "\n",
      "\n",
      "\n",
      "\n",
      "\n",
      "\n",
      "\n",
      "\n",
      "\n",
      "\n",
      "\n",
      "\n",
      "\n",
      "\n",
      "\n",
      "\n",
      "\n",
      "\n",
      "\n",
      "\n",
      "\n",
      "\n",
      "\n",
      "\n",
      "\n",
      "\n",
      "\n",
      "\n",
      "\n",
      "\n",
      "\n",
      "\n",
      "\n",
      "\n"
     ]
    },
    {
     "name": "stderr",
     "output_type": "stream",
     "text": [
      "  7%|▋         | 18/246 [00:04<01:50,  2.06it/s]"
     ]
    },
    {
     "name": "stdout",
     "output_type": "stream",
     "text": [
      "get all evidence embeddings!\n",
      "0.22222222222222224\n",
      "0.20000000000000004\n",
      "0.28571428571428575\n",
      "0.28571428571428575\n",
      "0.28571428571428575\n",
      "0.20000000000000004\n",
      "0.5714285714285715\n",
      "0.33333333333333337\n",
      "0.28571428571428575\n",
      "0.33333333333333337\n",
      "0.20000000000000004\n",
      "0.25\n",
      "0.25\n",
      "0.25\n",
      "0.5\n",
      "0.33333333333333337\n",
      "0.33333333333333337\n",
      "0.25\n",
      "0.28571428571428575\n",
      "\n",
      "\n",
      "Evidence Retrieval F-score: 0.037\n",
      "\n",
      "\n"
     ]
    },
    {
     "name": "stderr",
     "output_type": "stream",
     "text": [
      " 15%|█▌        | 38/246 [00:06<00:15, 13.71it/s]"
     ]
    },
    {
     "name": "stdout",
     "output_type": "stream",
     "text": [
      "\n",
      "\n",
      "epoch: 5, epoch_step: 18, avg loss: nan\n",
      "learning rate: -0.003090\n",
      "\n",
      "\n"
     ]
    },
    {
     "name": "stderr",
     "output_type": "stream",
     "text": [
      " 24%|██▎       | 58/246 [00:07<00:11, 16.26it/s]"
     ]
    },
    {
     "name": "stdout",
     "output_type": "stream",
     "text": [
      "\n",
      "\n",
      "epoch: 5, epoch_step: 28, avg loss: nan\n",
      "learning rate: -0.003190\n",
      "\n",
      "\n"
     ]
    },
    {
     "name": "stderr",
     "output_type": "stream",
     "text": [
      " 32%|███▏      | 78/246 [00:08<00:10, 16.62it/s]"
     ]
    },
    {
     "name": "stdout",
     "output_type": "stream",
     "text": [
      "\n",
      "\n",
      "epoch: 5, epoch_step: 38, avg loss: nan\n",
      "learning rate: -0.003290\n",
      "\n",
      "\n"
     ]
    },
    {
     "name": "stderr",
     "output_type": "stream",
     "text": [
      " 40%|███▉      | 98/246 [00:09<00:09, 16.25it/s]"
     ]
    },
    {
     "name": "stdout",
     "output_type": "stream",
     "text": [
      "\n",
      "\n",
      "epoch: 5, epoch_step: 48, avg loss: nan\n",
      "learning rate: -0.003390\n",
      "\n",
      "\n"
     ]
    },
    {
     "name": "stderr",
     "output_type": "stream",
     "text": [
      " 46%|████▋     | 114/246 [00:10<00:08, 16.39it/s]"
     ]
    },
    {
     "name": "stdout",
     "output_type": "stream",
     "text": [
      "\n",
      "\n",
      "epoch: 5, epoch_step: 58, avg loss: nan\n",
      "learning rate: -0.003490\n",
      "\n",
      "\n",
      "\n",
      "Evaluate:\n",
      "\n",
      "\n",
      "\n",
      "\n",
      "\n",
      "\n",
      "\n",
      "\n",
      "\n",
      "\n",
      "\n",
      "\n",
      "\n",
      "\n",
      "\n",
      "\n",
      "\n",
      "\n",
      "\n",
      "\n",
      "\n",
      "\n",
      "\n",
      "\n",
      "\n",
      "\n",
      "\n",
      "\n",
      "\n",
      "\n",
      "\n",
      "\n",
      "\n",
      "\n",
      "\n",
      "\n",
      "\n",
      "\n",
      "\n",
      "\n",
      "\n",
      "\n",
      "\n",
      "\n",
      "\n",
      "\n",
      "\n",
      "\n",
      "\n",
      "\n",
      "\n",
      "\n",
      "\n",
      "\n",
      "\n",
      "\n",
      "\n",
      "\n",
      "\n",
      "\n",
      "\n",
      "\n",
      "\n",
      "\n",
      "\n",
      "\n",
      "\n",
      "\n",
      "\n",
      "\n",
      "\n",
      "\n",
      "\n",
      "\n",
      "\n",
      "\n",
      "\n",
      "\n",
      "\n",
      "get all evidence embeddings!\n"
     ]
    },
    {
     "name": "stderr",
     "output_type": "stream",
     "text": [
      " 48%|████▊     | 118/246 [00:14<00:59,  2.15it/s]"
     ]
    },
    {
     "name": "stdout",
     "output_type": "stream",
     "text": [
      "0.22222222222222224\n",
      "0.33333333333333337\n",
      "0.22222222222222224\n",
      "0.33333333333333337\n",
      "0.28571428571428575\n",
      "0.28571428571428575\n",
      "0.28571428571428575\n",
      "0.5714285714285715\n",
      "0.33333333333333337\n",
      "0.33333333333333337\n",
      "0.20000000000000004\n",
      "0.5\n",
      "0.33333333333333337\n",
      "0.28571428571428575\n",
      "0.33333333333333337\n",
      "0.25\n",
      "0.20000000000000004\n",
      "0.33333333333333337\n",
      "0.20000000000000004\n",
      "0.28571428571428575\n",
      "0.28571428571428575\n",
      "\n",
      "\n",
      "Evidence Retrieval F-score: 0.042\n",
      "\n",
      "\n"
     ]
    },
    {
     "name": "stderr",
     "output_type": "stream",
     "text": [
      " 56%|█████▌    | 138/246 [00:16<00:07, 14.00it/s]"
     ]
    },
    {
     "name": "stdout",
     "output_type": "stream",
     "text": [
      "\n",
      "\n",
      "epoch: 5, epoch_step: 68, avg loss: nan\n",
      "learning rate: -0.003590\n",
      "\n",
      "\n"
     ]
    },
    {
     "name": "stderr",
     "output_type": "stream",
     "text": [
      " 64%|██████▍   | 158/246 [00:17<00:05, 16.49it/s]"
     ]
    },
    {
     "name": "stdout",
     "output_type": "stream",
     "text": [
      "\n",
      "\n",
      "epoch: 5, epoch_step: 78, avg loss: nan\n",
      "learning rate: -0.003690\n",
      "\n",
      "\n"
     ]
    },
    {
     "name": "stderr",
     "output_type": "stream",
     "text": [
      " 72%|███████▏  | 178/246 [00:18<00:04, 16.41it/s]"
     ]
    },
    {
     "name": "stdout",
     "output_type": "stream",
     "text": [
      "\n",
      "\n",
      "epoch: 5, epoch_step: 88, avg loss: nan\n",
      "learning rate: -0.003790\n",
      "\n",
      "\n"
     ]
    },
    {
     "name": "stderr",
     "output_type": "stream",
     "text": [
      " 80%|████████  | 198/246 [00:19<00:02, 16.49it/s]"
     ]
    },
    {
     "name": "stdout",
     "output_type": "stream",
     "text": [
      "\n",
      "\n",
      "epoch: 5, epoch_step: 98, avg loss: nan\n",
      "learning rate: -0.003890\n",
      "\n",
      "\n"
     ]
    },
    {
     "name": "stderr",
     "output_type": "stream",
     "text": [
      " 87%|████████▋ | 214/246 [00:20<00:01, 16.65it/s]"
     ]
    },
    {
     "name": "stdout",
     "output_type": "stream",
     "text": [
      "\n",
      "\n",
      "epoch: 5, epoch_step: 108, avg loss: nan\n",
      "learning rate: -0.003990\n",
      "\n",
      "\n",
      "\n",
      "Evaluate:\n",
      "\n",
      "\n",
      "\n",
      "\n",
      "\n",
      "\n",
      "\n",
      "\n",
      "\n",
      "\n",
      "\n",
      "\n",
      "\n",
      "\n",
      "\n",
      "\n",
      "\n",
      "\n",
      "\n",
      "\n",
      "\n",
      "\n",
      "\n",
      "\n",
      "\n",
      "\n",
      "\n",
      "\n",
      "\n",
      "\n",
      "\n",
      "\n",
      "\n",
      "\n",
      "\n",
      "\n",
      "\n",
      "\n",
      "\n",
      "\n",
      "\n",
      "\n",
      "\n",
      "\n",
      "\n",
      "\n",
      "\n",
      "\n",
      "\n",
      "\n",
      "\n",
      "\n",
      "\n",
      "\n",
      "\n",
      "\n",
      "\n",
      "\n",
      "\n",
      "\n",
      "\n",
      "\n",
      "\n",
      "\n",
      "\n",
      "\n",
      "\n",
      "\n",
      "\n",
      "\n",
      "\n",
      "\n",
      "\n",
      "\n",
      "\n",
      "\n",
      "\n",
      "\n",
      "\n"
     ]
    },
    {
     "name": "stderr",
     "output_type": "stream",
     "text": [
      " 89%|████████▊ | 218/246 [00:24<00:13,  2.15it/s]"
     ]
    },
    {
     "name": "stdout",
     "output_type": "stream",
     "text": [
      "get all evidence embeddings!\n",
      "0.22222222222222224\n",
      "0.20000000000000004\n",
      "0.28571428571428575\n",
      "0.33333333333333337\n",
      "0.28571428571428575\n",
      "0.20000000000000004\n",
      "0.5714285714285715\n",
      "0.33333333333333337\n",
      "0.33333333333333337\n",
      "0.33333333333333337\n",
      "0.25\n",
      "0.5\n",
      "0.33333333333333337\n",
      "0.33333333333333337\n",
      "0.5\n",
      "0.33333333333333337\n",
      "0.33333333333333337\n",
      "0.20000000000000004\n",
      "0.28571428571428575\n",
      "\n",
      "\n",
      "Evidence Retrieval F-score: 0.040\n",
      "\n",
      "\n"
     ]
    },
    {
     "name": "stderr",
     "output_type": "stream",
     "text": [
      " 97%|█████████▋| 238/246 [00:26<00:00, 14.03it/s]"
     ]
    },
    {
     "name": "stdout",
     "output_type": "stream",
     "text": [
      "\n",
      "\n",
      "epoch: 5, epoch_step: 118, avg loss: nan\n",
      "learning rate: -0.004090\n",
      "\n",
      "\n"
     ]
    },
    {
     "name": "stderr",
     "output_type": "stream",
     "text": [
      "100%|██████████| 246/246 [00:26<00:00,  9.28it/s]\n"
     ]
    }
   ],
   "source": [
    "# start training\n",
    "import wandb\n",
    "import os\n",
    "wandb.init(project=\"nlp\", name=\"dpr\")\n",
    "\n",
    "from tqdm import tqdm\n",
    "import numpy as np\n",
    "\n",
    "encoder_optimizer.zero_grad()\n",
    "step_cnt = 0\n",
    "all_step_cnt = 0\n",
    "avg_loss = 0\n",
    "maximum_f_score = 0\n",
    "\n",
    "for epoch in range(5): \n",
    "    epoch_step = 0\n",
    "\n",
    "    for (i, batch) in enumerate(tqdm(dataloader)):\n",
    "        \n",
    "        step_cnt += 1\n",
    "\n",
    "\n",
    "        query_embeddings = lstm_encoder(batch[\"queries\"].cuda(), batch[\"queries_pos\"].cuda())\n",
    "        evidence_embeddings = lstm_encoder(batch[\"evidences\"].cuda(), batch[\"evidences_pos\"].cuda())\n",
    "        \n",
    "        query_embeddings = query_embeddings[:, -1, :]\n",
    "        evidence_embeddings = evidence_embeddings[:, -1, :]\n",
    "        \n",
    "        assert query_embeddings.size(1) == evidence_embeddings.size(1), \"Embedding dimensions do not match!\"\n",
    "        \n",
    "        query_embeddings = torch.nn.functional.normalize(query_embeddings, p=2, dim=1)\n",
    "        evidence_embeddings = torch.nn.functional.normalize(evidence_embeddings, p=2, dim=1)\n",
    "\n",
    "        cos_sims = torch.mm(query_embeddings, evidence_embeddings.t())\n",
    "        scores = - torch.nn.functional.log_softmax(cos_sims / 0.1 + 1e-10, dim=1)\n",
    "\n",
    "        loss = []\n",
    "        start_idx = 0\n",
    "        for idx, label in enumerate(batch[\"labels\"]):\n",
    "            label = torch.LongTensor(label).cuda()\n",
    "            cur_loss = torch.mean(torch.index_select(scores[idx], 0, label))\n",
    "            loss.append(cur_loss)\n",
    "\n",
    "        loss = torch.stack(loss).mean()\n",
    "\n",
    "        loss = loss / accumulate_step\n",
    "        loss.backward()\n",
    "\n",
    "        avg_loss += loss.item()\n",
    "        if step_cnt == accumulate_step:\n",
    "            # updating\n",
    "            if grad_norm > 0:\n",
    "                nn.utils.clip_grad_norm_(lstm_encoder.parameters(), grad_norm)\n",
    "\n",
    "            step_cnt = 0\n",
    "            epoch_step += 1\n",
    "            all_step_cnt += 1\n",
    "            \n",
    "            # adjust learning rate\n",
    "            if all_step_cnt <= warmup_steps:\n",
    "                lr = all_step_cnt * (max_lr - 2e-8) / warmup_steps + 2e-8\n",
    "            else:\n",
    "                lr = max_lr - (all_step_cnt - warmup_steps) * 1e-5\n",
    "                \n",
    "            encoder_optimizer.step()\n",
    "            encoder_optimizer.zero_grad()\n",
    "        \n",
    "        if all_step_cnt % report_freq == 0 and step_cnt == 0:\n",
    "            if all_step_cnt <= warmup_steps:\n",
    "                lr = all_step_cnt * (max_lr - 2e-8) / warmup_steps + 2e-8\n",
    "            else:\n",
    "                lr = max_lr - (all_step_cnt - warmup_steps) * 1e-5\n",
    "\n",
    "            wandb.log({\"learning_rate\": lr}, step=all_step_cnt)\n",
    "            wandb.log({\"loss\": avg_loss / report_freq}, step=all_step_cnt)\n",
    "            \n",
    "            # report stats\n",
    "            print(\"\\n\")\n",
    "            print(\"epoch: %d, epoch_step: %d, avg loss: %.6f\" % (epoch + 1, epoch_step, avg_loss / report_freq))\n",
    "            print(f\"learning rate: {lr:.6f}\")\n",
    "            print(\"\\n\")\n",
    "            avg_loss = 0\n",
    "        del loss, cos_sims, query_embeddings, evidence_embeddings\n",
    "\n",
    "        if all_step_cnt % eval_interval == 0 and all_step_cnt != 0 and step_cnt == 0:\n",
    "            # evaluate the model as a scorer\n",
    "            print(\"\\nEvaluate:\\n\")\n",
    "            \n",
    "            f_score = validate(dev_input, evidences_input, dev_sort_evidences, dev_claim_evidences, lstm_encoder)\n",
    "            wandb.log({\"f_score\": f_score}, step=all_step_cnt)\n",
    "\n",
    "            if f_score > maximum_f_score:\n",
    "                maximum_f_score = f_score\n",
    "                os.makedirs(save_dir, exist_ok=True)\n",
    "                torch.save(lstm_encoder.state_dict(), os.path.join(os.path.abspath(save_dir), \"best_ckpt.bin\"))\n",
    "                print(\"\\n\")\n",
    "                print(\"best val loss - epoch: %d, epoch_step: %d\" % (epoch, epoch_step))\n",
    "                print(\"maximum_f_score\", f_score)\n",
    "                print(\"\\n\")"
   ]
  },
  {
   "cell_type": "code",
   "execution_count": null,
   "metadata": {},
   "outputs": [],
   "source": [
    "torch.cuda.empty_cache()"
   ]
  },
  {
   "cell_type": "markdown",
   "metadata": {
    "id": "EzGuzHPE87Ya"
   },
   "source": [
    "# 3.Testing and Evaluation\n",
    "(You can add as many code blocks and text blocks as you need. However, YOU SHOULD NOT MODIFY the section title)"
   ]
  },
  {
   "cell_type": "code",
   "execution_count": null,
   "metadata": {},
   "outputs": [
    {
     "data": {
      "text/plain": [
       "Encoder(\n",
       "  (embedding): Embedding(7075, 256)\n",
       "  (pos_embedding): Embedding(180, 256)\n",
       "  (encoder): LSTM(256, 256, num_layers=6, batch_first=True, dropout=0.2, bidirectional=True)\n",
       "  (dropout): Dropout(p=0.2, inplace=False)\n",
       ")"
      ]
     },
     "execution_count": 30,
     "metadata": {},
     "output_type": "execute_result"
    }
   ],
   "source": [
    "import os\n",
    "lstm_encoder.load_state_dict(torch.load(os.path.join(save_dir, \"best_ckpt.bin\")))\n",
    "lstm_encoder.cuda()\n",
    "lstm_encoder.eval()"
   ]
  },
  {
   "cell_type": "code",
   "execution_count": null,
   "metadata": {},
   "outputs": [],
   "source": [
    "evidence_embeddings = []\n",
    "start_idx = 0\n",
    "batch_size = 1000\n",
    "evidence_len = len(evidences_input[0])\n",
    "\n",
    "while start_idx < len(evidences_input):\n",
    "    end_idx = min(start_idx + batch_size, len(evidences_input))\n",
    "    \n",
    "    cur_evidence = torch.LongTensor(evidences_input[start_idx:end_idx]).view(-1, evidence_len).cuda()\n",
    "    cur_evidence_pos = torch.LongTensor([list(range(evidence_len)) for _ in range(end_idx - start_idx)]).cuda()\n",
    "\n",
    "    cur_embedding = lstm_encoder(cur_evidence, cur_evidence_pos)\n",
    "    cur_embedding = cur_embedding[:, -1, :].detach()\n",
    "    cur_embedding_cpu = F.normalize(cur_embedding, p=2, dim=1).cpu()  # for cosine similarity\n",
    "    \n",
    "    del cur_embedding, cur_evidence, cur_evidence_pos\n",
    "    start_idx = end_idx\n",
    "    evidence_embeddings.append(cur_embedding_cpu)\n",
    "    \n",
    "evidence_embeddings = torch.cat(evidence_embeddings, dim=0).t()\n"
   ]
  },
  {
   "cell_type": "code",
   "execution_count": null,
   "metadata": {},
   "outputs": [],
   "source": [
    "torch.cuda.empty_cache()"
   ]
  },
  {
   "cell_type": "code",
   "execution_count": null,
   "metadata": {},
   "outputs": [],
   "source": [
    "import numpy as np"
   ]
  },
  {
   "cell_type": "code",
   "execution_count": null,
   "metadata": {},
   "outputs": [],
   "source": [
    "retrieval_num = 5\n",
    "dev_candis_num = 10\n",
    "\n",
    "def validate_(dev_text_idx, evidence_embeddings, dev_sort_evidences, dev_claim_evidences, encoder_model):\n",
    "    # get evidence embeddings\n",
    "    encoder_model.eval()\n",
    "\n",
    "    text_len = len(dev_text_idx[0])\n",
    "    f = []\n",
    "    \n",
    "    start_idx = 0\n",
    "    batch_size = 200\n",
    "    \n",
    "    while start_idx < len(dev_text_idx):\n",
    "        end_idx = min(start_idx + batch_size, len(dev_text_idx))\n",
    "        \n",
    "        cur_query = torch.LongTensor(dev_text_idx[start_idx:end_idx]).view(-1, text_len).cuda()\n",
    "        print(cur_query.size())\n",
    "        cur_query_pos = torch.LongTensor([list(range(text_len)) for _ in range(end_idx - start_idx)]).cuda()\n",
    "\n",
    "        query_embedding = encoder_model(cur_query, cur_query_pos)\n",
    "        query_embedding = query_embedding[:, -1, :].detach()\n",
    "        query_embedding = F.normalize(query_embedding, p=2, dim=1).cpu()\n",
    "        \n",
    "        scores = torch.mm(query_embedding, evidence_embeddings)\n",
    "        \n",
    "        for i in range(scores.size(0)):\n",
    "            new_score = torch.index_select(scores[i], 0, torch.LongTensor(dev_sort_evidences[start_idx+i][:dev_candis_num]))\n",
    "            topk_ids = torch.argsort(new_score).tolist()\n",
    "            select_ids = topk_ids[:retrieval_num]\n",
    "            \n",
    "            evidence_correct = 0\n",
    "            pred_evidences = [dev_sort_evidences[start_idx+i][j] for j in select_ids]\n",
    "                        \n",
    "            label = dev_claim_evidences[start_idx+i]\n",
    "                        \n",
    "            for evidence_id in label:\n",
    "                if evidence_id in pred_evidences:\n",
    "                    evidence_correct += 1\n",
    "            if evidence_correct > 0:\n",
    "                evidence_recall = float(evidence_correct) / len(label)\n",
    "                evidence_precision = float(evidence_correct) / len(pred_evidences)\n",
    "                evidence_fscore = (2 * evidence_precision * evidence_recall) / (evidence_precision + evidence_recall)\n",
    "                # print(evidence_fscore)\n",
    "            else:\n",
    "                evidence_fscore = 0\n",
    "            f.append(evidence_fscore)\n",
    "            \n",
    "        start_idx = end_idx\n",
    "        # print(\"----\")\n",
    "    fscore = np.mean(f)\n",
    "    print(\"\\n\")\n",
    "    print(\"Evidence Retrieval F-score: %.3f\" % fscore)\n",
    "    print(\"\\n\")\n",
    "    return fscore"
   ]
  },
  {
   "cell_type": "code",
   "execution_count": null,
   "metadata": {
    "scrolled": true
   },
   "outputs": [
    {
     "name": "stdout",
     "output_type": "stream",
     "text": [
      "torch.Size([154, 62])\n",
      "\n",
      "\n",
      "Evidence Retrieval F-score: 0.053\n",
      "\n",
      "\n",
      "0.053133374561946\n"
     ]
    }
   ],
   "source": [
    "retrieval_num = 5\n",
    "dev_candis_num = 10\n",
    "fscore = validate_(dev_input, evidence_embeddings, dev_sort_evidences, dev_claim_evidences, lstm_encoder)\n",
    "print(fscore)"
   ]
  },
  {
   "cell_type": "code",
   "execution_count": null,
   "metadata": {
    "id": "6ZVeNYIH9IaL"
   },
   "outputs": [],
   "source": [
    "retrieval_num = 5\n",
    "dev_candis_num = 10\n",
    "\n",
    "def evidence_predicts(dev_text_idx, evidences_embeddings, dev_sort_evidences, cleaned_evidence_id, encoder_model):\n",
    "    # get evidence embeddings\n",
    "    text_len = len(dev_text_idx[0])\n",
    "    encoder_model.eval()\n",
    "\n",
    "    f = []\n",
    "    start_idx = 0\n",
    "    batch_size = 200\n",
    "    preds = []\n",
    "    while start_idx < len(dev_text_idx):\n",
    "        end_idx = min(start_idx + batch_size, len(dev_text_idx))\n",
    "        \n",
    "        cur_query = torch.LongTensor(dev_text_idx[start_idx:end_idx]).view(-1, text_len).cuda()\n",
    "        cur_query_pos = torch.LongTensor([list(range(text_len)) for _ in range(end_idx - start_idx)]).cuda()\n",
    "\n",
    "        query_embedding = encoder_model(cur_query, cur_query_pos)\n",
    "        query_embedding = query_embedding[:, -1, :].detach()\n",
    "        query_embedding = F.normalize(query_embedding, p=2, dim=1).cpu()\n",
    "        \n",
    "        scores = torch.mm(query_embedding, evidences_embeddings)\n",
    "\n",
    "        for i in range(scores.size(0)):\n",
    "            new_score = torch.index_select(scores[i], 0, torch.LongTensor(dev_sort_evidences[start_idx+i][:dev_candis_num]))\n",
    "            topk_ids = torch.argsort(new_score).tolist()\n",
    "            select_ids = topk_ids[:retrieval_num]\n",
    "            \n",
    "            pred_evidences = [cleaned_evidence_id[dev_sort_evidences[start_idx+i][j]] for j in select_ids]\n",
    "            preds.append(pred_evidences)\n",
    "            \n",
    "        start_idx = end_idx\n",
    "    return preds"
   ]
  },
  {
   "cell_type": "code",
   "execution_count": null,
   "metadata": {},
   "outputs": [],
   "source": [
    "dev_evidences_ids = evidence_predicts(dev_input, evidence_embeddings, dev_sort_evidences, cleaned_evidence_id, lstm_encoder)\n",
    "test_evidences_ids = evidence_predicts(test_input, evidence_embeddings, test_sort_evidences, cleaned_evidence_id, lstm_encoder)"
   ]
  },
  {
   "cell_type": "code",
   "execution_count": null,
   "metadata": {},
   "outputs": [],
   "source": [
    "pred_dev_claims = {}\n",
    "pred_test_claims = {}\n",
    "dev_claims = json.load(open(\"data/dev-claims.json\", \"r\"))\n",
    "test_claims = json.load(open(\"data/test-claims-unlabelled.json\", \"r\"))\n",
    "\n",
    "for idx, evidence_ids in enumerate(dev_evidences_ids):\n",
    "    cur_data = dev_claims[dev_claim_id[idx]]\n",
    "    cur_data['evidences'] = evidence_ids\n",
    "    pred_dev_claims[dev_claim_id[idx]] = cur_data\n",
    "    \n",
    "\n",
    "for idx, evidence_ids in enumerate(test_evidences_ids):\n",
    "    cur_data = test_claims[test_claim_id[idx]]\n",
    "    cur_data['evidences'] = evidence_ids\n",
    "    pred_test_claims[test_claim_id[idx]] = cur_data\n"
   ]
  },
  {
   "cell_type": "code",
   "execution_count": null,
   "metadata": {},
   "outputs": [],
   "source": [
    "json.dump(pred_dev_claims, open(\"data/dev_predict.json\", \"w\"))\n",
    "json.dump(pred_test_claims, open(\"data/test-claims-unlabelled.json\", \"w\"))"
   ]
  },
  {
   "cell_type": "code",
   "execution_count": null,
   "metadata": {},
   "outputs": [],
   "source": [
    "retrieval_num = 5\n",
    "dev_candis_num = 10\n",
    "\n",
    "train_evidences_ids = evidence_predicts(train_input, evidence_embeddings, train_sort_evidences, cleaned_evidence_id, lstm_encoder)\n",
    "\n",
    "pred_train_negative_evidences = []\n",
    "for idx, evidence_ids in enumerate(train_evidences_ids):\n",
    "    temp_ = []\n",
    "    for i in evidence_ids:\n",
    "        if evidences_id_dict[i] not in train_claim_evidences[idx]:\n",
    "            temp_.append(evidences_id_dict[i])\n",
    "    pred_train_negative_evidences.append(temp_)"
   ]
  },
  {
   "cell_type": "code",
   "execution_count": null,
   "metadata": {},
   "outputs": [],
   "source": [
    "## save prediction data\n",
    "\n",
    "json.dump(pred_train_negative_evidences, open(\"pred_train_negative_evidences.json\", \"w\"))"
   ]
  },
  {
   "cell_type": "code",
   "execution_count": null,
   "metadata": {},
   "outputs": [],
   "source": [
    "## save cls data\n",
    "\n",
    "dev_cls_data = []\n",
    "test_cls_data = []\n",
    "text_max_len = 60\n",
    "evidence_max_len = 100\n",
    "all_max_len = 580\n",
    "\n",
    "for idx, dev_text in enumerate(dev_text_idx):\n",
    "    cur_data = {\"label\": dev_claim_label[idx]}\n",
    "    temp_text = [word2idx[\"<cls>\"]] + dev_text_idx[idx][:text_max_len]\n",
    "    for i in dev_evidences_ids[idx]:\n",
    "        temp_text.extend([word2idx[\"<sep>\"]] + evidences_text_idx[evidences_id_dict[i]][:evidence_max_len])\n",
    "    temp_text.append(word2idx[\"<sep>\"])\n",
    "    if len(temp_text) < all_max_len:\n",
    "        temp_text.extend([word2idx[\"<pad>\"]] * (all_max_len - len(temp_text)))\n",
    "    cur_data['text'] = temp_text\n",
    "    dev_cls_data.append(cur_data)\n",
    "\n",
    "for idx, dev_text in enumerate(test_text_idx):\n",
    "    cur_data = {}\n",
    "    temp_text = [word2idx[\"<cls>\"]] + test_text_idx[idx][:text_max_len]\n",
    "    for i in test_evidences_ids[idx]:\n",
    "        temp_text.extend([word2idx[\"<sep>\"]] + evidences_text_idx[evidences_id_dict[i]][:evidence_max_len])\n",
    "    temp_text.append(word2idx[\"<sep>\"])\n",
    "    if len(temp_text) < all_max_len:\n",
    "        temp_text.extend([word2idx[\"<pad>\"]] * (all_max_len - len(temp_text)))\n",
    "    cur_data['text'] = temp_text\n",
    "    test_cls_data.append(cur_data)\n",
    "\n",
    "json.dump(dev_cls_data, open(\"dev_cls_data.json\", \"w\"))\n",
    "json.dump(test_cls_data, open(\"test_cls_data.json\", \"w\"))"
   ]
  },
  {
   "cell_type": "markdown",
   "metadata": {},
   "source": [
    "Task2 "
   ]
  },
  {
   "cell_type": "markdown",
   "metadata": {},
   "source": [
    "Preprocessing"
   ]
  },
  {
   "cell_type": "code",
   "execution_count": null,
   "metadata": {},
   "outputs": [],
   "source": [
    "import json\n",
    "\n",
    "dev_cls_data = json.load(open(\"dev_cls_data.json\", \"r\"))\n",
    "test_cls_data = json.load(open(\"test_cls_data.json\", \"r\"))\n",
    "\n",
    "text_max_len = 60\n",
    "evidence_max_len = 100\n",
    "all_max_len = 580\n",
    "retrieval_num = 5\n",
    "\n",
    "id2labels = [\"SUPPORTS\", \"NOT_ENOUGH_INFO\", \"REFUTES\", \"DISPUTED\"]\n",
    "labels2id = {\"SUPPORTS\": 0, \"NOT_ENOUGH_INFO\": 1, \"REFUTES\": 2, \"DISPUTED\": 3}\n",
    "\n",
    "train_negative_evidences = json.load(open(\"pred_train_negative_evidences.json\", \"r\"))\n"
   ]
  },
  {
   "cell_type": "code",
   "execution_count": null,
   "metadata": {},
   "outputs": [],
   "source": [
    "from torch.utils.data import Dataset\n",
    "import random\n",
    "\n",
    "class TrainDataset(Dataset):\n",
    "    def __init__(self, text_data, evidence_data, positive_evidences, negative_evidences, cls_label, cls_idx, sep_idx, pad_idx, evidence_num=5):\n",
    "        self.text_data = text_data\n",
    "        self.evidence_data = evidence_data\n",
    "        \n",
    "        self.negative_evidences = negative_evidences\n",
    "\n",
    "        self.cls_label = [labels2id[i] for i in cls_label]\n",
    "        self.evidence_num = evidence_num\n",
    "        self.positive_evidences = positive_evidences\n",
    "        \n",
    "        self.cls_idx = cls_idx\n",
    "        self.sep_idx = sep_idx\n",
    "        self.pad_idx = pad_idx\n",
    "        \n",
    "    def __len__(self):\n",
    "        return len(self.text_data)\n",
    "\n",
    "    def __getitem__(self, idx):\n",
    "        return [self.text_data[idx][:text_max_len], self.positive_evidences[idx], self.negative_evidences[idx], self.cls_label[idx]]\n",
    "\n",
    "    def collate_fn(self, batch):\n",
    "        queries = []\n",
    "        queries_pos = []\n",
    "        labels = []\n",
    "        \n",
    "        for i, j, h, k in batch:\n",
    "            temp_text = [self.cls_idx]\n",
    "            temp_text.extend(i)\n",
    "            for p in j:\n",
    "                temp_text.append(self.sep_idx)\n",
    "                temp_text.extend(self.evidence_data[p][:evidence_max_len])\n",
    "            if self.evidence_num > len(j):\n",
    "                n = random.sample(h, self.evidence_num - len(j))\n",
    "                for p in n:\n",
    "                    temp_text.append(self.sep_idx)\n",
    "                    temp_text.extend(self.evidence_data[p][:evidence_max_len])\n",
    "            temp_text.append(self.sep_idx)\n",
    "            if len(temp_text) < all_max_len:\n",
    "                temp_text.extend([self.pad_idx] * (all_max_len - len(temp_text)))\n",
    "                \n",
    "            queries.append(temp_text)\n",
    "            queries_pos.append(list(range(all_max_len)))\n",
    "            labels.append(k)    \n",
    "\n",
    "        batch_encoding = {}\n",
    "        batch_encoding[\"queries\"] = torch.LongTensor(queries)        \n",
    "        batch_encoding[\"queries_pos\"] = torch.LongTensor(queries_pos)\n",
    "        batch_encoding[\"labels\"] = torch.LongTensor(labels)\n",
    "        \n",
    "        return batch_encoding"
   ]
  },
  {
   "cell_type": "code",
   "execution_count": null,
   "metadata": {},
   "outputs": [],
   "source": [
    "dev_inputs = [i['text'] for i in dev_cls_data]\n",
    "test_inputs = [i['text'] for i in test_cls_data]\n",
    "dev_outputs = [labels2id[i[\"label\"]] for i in dev_cls_data]"
   ]
  },
  {
   "cell_type": "code",
   "execution_count": null,
   "metadata": {},
   "outputs": [],
   "source": [
    "train_set = TrainDataset(train_text_idx, evidences_text_idx, train_claim_evidences, train_negative_evidences, train_claim_label, word2idx[\"<cls>\"], word2idx[\"<sep>\"], word2idx[\"<pad>\"], evidence_num=retrieval_num)\n",
    "from torch.utils.data import DataLoader\n",
    "dataloader = DataLoader(train_set, batch_size=10, shuffle=True, num_workers=0, collate_fn=train_set.collate_fn)"
   ]
  },
  {
   "cell_type": "code",
   "execution_count": null,
   "metadata": {},
   "outputs": [
    {
     "name": "stdout",
     "output_type": "stream",
     "text": [
      "Counter({'SUPPORTS': 519, 'NOT_ENOUGH_INFO': 386, 'REFUTES': 199, 'DISPUTED': 124})\n"
     ]
    }
   ],
   "source": [
    "from collections import Counter\n",
    "print(Counter(train_claim_label))"
   ]
  },
  {
   "cell_type": "code",
   "execution_count": null,
   "metadata": {},
   "outputs": [],
   "source": [
    "# from workshop\n",
    "import torch\n",
    "import torch.nn as nn\n",
    "import torch.optim as optim\n",
    "import torch.nn.functional as F\n",
    "\n",
    "class CLS(nn.Module):\n",
    "    def __init__(self, vocab_emb, embed_dim, hidden_size, output_size, num_layers, max_position=all_max_len):\n",
    "        super(CLS, self).__init__()\n",
    "\n",
    "        self.hidden_size = hidden_size\n",
    "        self.embedding = nn.Embedding(vocab_emb, embed_dim)\n",
    "        self.pos_embedding = nn.Embedding(max_position, embed_dim)\n",
    "        \n",
    "        self.encoder = nn.LSTM(embed_dim, hidden_size, num_layers=num_layers, batch_first=True, bidirectional=True)\n",
    "        self.hidden_layer = nn.Linear(hidden_size * 2, hidden_size)  \n",
    "        self.cls = nn.Linear(hidden_size, output_size)  \n",
    "        self.dropout = nn.Dropout(0.1)\n",
    "\n",
    "    def forward(self, text_data, position_text):\n",
    "        text_x = self.embedding(text_data) + self.pos_embedding(position_text) * 0.01\n",
    "        x_encoded,_ = self.encoder(text_x)\n",
    "        x_cls = x_encoded[:, 0, :]\n",
    "        x_hidden = F.tanh(self.hidden_layer(x_cls))\n",
    "        self.dropout(x_hidden)\n",
    "        cls_res = self.cls(x_hidden)\n",
    "        return cls_res\n"
   ]
  },
  {
   "cell_type": "code",
   "execution_count": null,
   "metadata": {},
   "outputs": [
    {
     "data": {
      "text/plain": [
       "CLS(\n",
       "  (embedding): Embedding(7075, 512)\n",
       "  (pos_embedding): Embedding(700, 512)\n",
       "  (encoder): LSTM(512, 512, num_layers=6, batch_first=True, bidirectional=True)\n",
       "  (hidden_layer): Linear(in_features=1024, out_features=512, bias=True)\n",
       "  (cls): Linear(in_features=512, out_features=4, bias=True)\n",
       "  (dropout): Dropout(p=0.1, inplace=False)\n",
       ")"
      ]
     },
     "execution_count": 49,
     "metadata": {},
     "output_type": "execute_result"
    }
   ],
   "source": [
    "cls_model = CLS(vocab_emb=len(idx2word), embed_dim=512, hidden_size=512, output_size=4, num_layers=6, max_position=700)\n",
    "cls_model.cuda()"
   ]
  },
  {
   "cell_type": "code",
   "execution_count": null,
   "metadata": {},
   "outputs": [],
   "source": [
    "torch.manual_seed(42)\n",
    "torch.cuda.manual_seed_all(42)\n",
    "random.seed(42)\n",
    "\n",
    "encoder_optimizer = optim.Adam(cls_model.parameters())\n",
    "max_lr = 1e-3\n",
    "for param_group in encoder_optimizer.param_groups:\n",
    "    param_group['lr'] = max_lr\n",
    "accumulate_step = 2\n",
    "grad_norm = 4\n",
    "warmup_steps = 300\n",
    "report_freq = 10\n",
    "eval_interval = 50\n",
    "save_dir = \"model_ckpts\""
   ]
  },
  {
   "cell_type": "code",
   "execution_count": null,
   "metadata": {},
   "outputs": [],
   "source": [
    "def validate(dev_input, dev_output, cls_model_):\n",
    "    # get evidence embeddings\n",
    "    start_idx = 0\n",
    "    batch_size = 50\n",
    "    pos_len = len(dev_input[0])\n",
    "    cls_model.eval()\n",
    "\n",
    "    acc = []\n",
    "    correct_count = 0\n",
    "    while start_idx < len(dev_output):\n",
    "        end_idx = min(start_idx + batch_size, len(dev_output))\n",
    "        \n",
    "        cur_input = torch.LongTensor(dev_input[start_idx:end_idx]).view(-1, pos_len).cuda()\n",
    "        cur_pos = torch.LongTensor([list(range(pos_len)) for _ in range(end_idx - start_idx)]).cuda()\n",
    "\n",
    "        cur_res = cls_model_(cur_input, cur_pos)\n",
    "        cur_res = torch.argmax(cur_res, 1).tolist()\n",
    "        \n",
    "        del cur_input, cur_pos\n",
    "        \n",
    "        for i, j in zip(cur_res, dev_output[start_idx: end_idx]):\n",
    "            if i == j:\n",
    "                correct_count += 1\n",
    "        \n",
    "        start_idx = end_idx\n",
    "    acc = correct_count / len(dev_output)\n",
    "    print(\"\\n\")\n",
    "    print(\"Classification Accuracy: %.3f\" % acc)\n",
    "    print(\"\\n\")\n",
    "    \n",
    "    cls_model.train()\n",
    "    return acc"
   ]
  },
  {
   "cell_type": "code",
   "execution_count": null,
   "metadata": {},
   "outputs": [
    {
     "name": "stdout",
     "output_type": "stream",
     "text": [
      "env: WANDB_NOTEBOOK_NAME=Mon5PMGroup7_COMP90042.ipynb\n"
     ]
    }
   ],
   "source": [
    "%env WANDB_NOTEBOOK_NAME Mon5PMGroup7_COMP90042.ipynb"
   ]
  },
  {
   "cell_type": "code",
   "execution_count": null,
   "metadata": {},
   "outputs": [
    {
     "data": {
      "text/html": [
       "Finishing last run (ID:yzgf0hly) before initializing another..."
      ],
      "text/plain": [
       "<IPython.core.display.HTML object>"
      ]
     },
     "metadata": {},
     "output_type": "display_data"
    },
    {
     "data": {
      "text/html": [
       "<style>\n",
       "    table.wandb td:nth-child(1) { padding: 0 10px; text-align: left ; width: auto;} td:nth-child(2) {text-align: left ; width: 100%}\n",
       "    .wandb-row { display: flex; flex-direction: row; flex-wrap: wrap; justify-content: flex-start; width: 100% }\n",
       "    .wandb-col { display: flex; flex-direction: column; flex-basis: 100%; flex: 1; padding: 10px; }\n",
       "    </style>\n",
       "<div class=\"wandb-row\"><div class=\"wandb-col\"><h3>Run history:</h3><br/><table class=\"wandb\"><tr><td>f_score</td><td>█▁▁▁▁▁▁▁▁▁▁▁</td></tr><tr><td>learning_rate</td><td>▆▇▇▇▇▇▇▇▇██████▇▇▇▇▆▆▆▆▅▅▅▄▄▄▄▃▃▃▃▂▂▂▂▁▁</td></tr></table><br/></div><div class=\"wandb-col\"><h3>Run summary:</h3><br/><table class=\"wandb\"><tr><td>f_score</td><td>0.05151</td></tr><tr><td>learning_rate</td><td>-0.0031</td></tr><tr><td>loss</td><td>nan</td></tr></table><br/></div></div>"
      ],
      "text/plain": [
       "<IPython.core.display.HTML object>"
      ]
     },
     "metadata": {},
     "output_type": "display_data"
    },
    {
     "data": {
      "text/html": [
       " View run <strong style=\"color:#cdcd00\">dpr</strong> at: <a href='https://wandb.ai/nlp_project_5pmteam7/nlp/runs/yzgf0hly' target=\"_blank\">https://wandb.ai/nlp_project_5pmteam7/nlp/runs/yzgf0hly</a><br/> View project at: <a href='https://wandb.ai/nlp_project_5pmteam7/nlp' target=\"_blank\">https://wandb.ai/nlp_project_5pmteam7/nlp</a><br/>Synced 6 W&B file(s), 0 media file(s), 0 artifact file(s) and 0 other file(s)"
      ],
      "text/plain": [
       "<IPython.core.display.HTML object>"
      ]
     },
     "metadata": {},
     "output_type": "display_data"
    },
    {
     "data": {
      "text/html": [
       "Find logs at: <code>.\\wandb\\run-20240524_165117-yzgf0hly\\logs</code>"
      ],
      "text/plain": [
       "<IPython.core.display.HTML object>"
      ]
     },
     "metadata": {},
     "output_type": "display_data"
    },
    {
     "data": {
      "text/html": [
       "Successfully finished last run (ID:yzgf0hly). Initializing new run:<br/>"
      ],
      "text/plain": [
       "<IPython.core.display.HTML object>"
      ]
     },
     "metadata": {},
     "output_type": "display_data"
    },
    {
     "data": {
      "text/html": [
       "Tracking run with wandb version 0.17.0"
      ],
      "text/plain": [
       "<IPython.core.display.HTML object>"
      ]
     },
     "metadata": {},
     "output_type": "display_data"
    },
    {
     "data": {
      "text/html": [
       "Run data is saved locally in <code>c:\\Users\\ABC\\Desktop\\学习\\NLP\\project nlp\\COMP90042-NLP-Project-Team07\\wandb\\run-20240524_165324-k8js105v</code>"
      ],
      "text/plain": [
       "<IPython.core.display.HTML object>"
      ]
     },
     "metadata": {},
     "output_type": "display_data"
    },
    {
     "data": {
      "text/html": [
       "Syncing run <strong><a href='https://wandb.ai/nlp_project_5pmteam7/nlp/runs/k8js105v' target=\"_blank\">cls</a></strong> to <a href='https://wandb.ai/nlp_project_5pmteam7/nlp' target=\"_blank\">Weights & Biases</a> (<a href='https://wandb.me/run' target=\"_blank\">docs</a>)<br/>"
      ],
      "text/plain": [
       "<IPython.core.display.HTML object>"
      ]
     },
     "metadata": {},
     "output_type": "display_data"
    },
    {
     "data": {
      "text/html": [
       " View project at <a href='https://wandb.ai/nlp_project_5pmteam7/nlp' target=\"_blank\">https://wandb.ai/nlp_project_5pmteam7/nlp</a>"
      ],
      "text/plain": [
       "<IPython.core.display.HTML object>"
      ]
     },
     "metadata": {},
     "output_type": "display_data"
    },
    {
     "data": {
      "text/html": [
       " View run at <a href='https://wandb.ai/nlp_project_5pmteam7/nlp/runs/k8js105v' target=\"_blank\">https://wandb.ai/nlp_project_5pmteam7/nlp/runs/k8js105v</a>"
      ],
      "text/plain": [
       "<IPython.core.display.HTML object>"
      ]
     },
     "metadata": {},
     "output_type": "display_data"
    },
    {
     "name": "stderr",
     "output_type": "stream",
     "text": [
      " 16%|█▋        | 20/123 [00:04<00:20,  4.98it/s]"
     ]
    },
    {
     "name": "stdout",
     "output_type": "stream",
     "text": [
      "\n",
      "\n",
      "epoch: 1, epoch_step: 10, avg loss: 1.409515\n",
      "learning rate: 0.000033\n",
      "\n",
      "\n"
     ]
    },
    {
     "name": "stderr",
     "output_type": "stream",
     "text": [
      " 33%|███▎      | 40/123 [00:08<00:15,  5.21it/s]"
     ]
    },
    {
     "name": "stdout",
     "output_type": "stream",
     "text": [
      "\n",
      "\n",
      "epoch: 1, epoch_step: 20, avg loss: 1.386841\n",
      "learning rate: 0.000067\n",
      "\n",
      "\n"
     ]
    },
    {
     "name": "stderr",
     "output_type": "stream",
     "text": [
      " 49%|████▉     | 60/123 [00:12<00:12,  5.11it/s]"
     ]
    },
    {
     "name": "stdout",
     "output_type": "stream",
     "text": [
      "\n",
      "\n",
      "epoch: 1, epoch_step: 30, avg loss: 1.386251\n",
      "learning rate: 0.000100\n",
      "\n",
      "\n"
     ]
    },
    {
     "name": "stderr",
     "output_type": "stream",
     "text": [
      " 65%|██████▌   | 80/123 [00:15<00:08,  5.13it/s]"
     ]
    },
    {
     "name": "stdout",
     "output_type": "stream",
     "text": [
      "\n",
      "\n",
      "epoch: 1, epoch_step: 40, avg loss: 1.383103\n",
      "learning rate: 0.000133\n",
      "\n",
      "\n"
     ]
    },
    {
     "name": "stderr",
     "output_type": "stream",
     "text": [
      " 80%|████████  | 99/123 [00:19<00:04,  5.23it/s]"
     ]
    },
    {
     "name": "stdout",
     "output_type": "stream",
     "text": [
      "\n",
      "\n",
      "epoch: 1, epoch_step: 50, avg loss: 1.389725\n",
      "learning rate: 0.000167\n",
      "\n",
      "\n",
      "\n",
      "Evaluate:\n",
      "\n"
     ]
    },
    {
     "name": "stderr",
     "output_type": "stream",
     "text": [
      " 81%|████████▏ | 100/123 [00:20<00:08,  2.78it/s]"
     ]
    },
    {
     "name": "stdout",
     "output_type": "stream",
     "text": [
      "\n",
      "\n",
      "Classification Accuracy: 0.266\n",
      "\n",
      "\n",
      "\n",
      "\n",
      "best val loss - epoch: 0, epoch_step: 50\n",
      "maximum_f_score 0.2662337662337662\n",
      "\n",
      "\n"
     ]
    },
    {
     "name": "stderr",
     "output_type": "stream",
     "text": [
      " 98%|█████████▊| 120/123 [00:24<00:00,  5.19it/s]"
     ]
    },
    {
     "name": "stdout",
     "output_type": "stream",
     "text": [
      "\n",
      "\n",
      "epoch: 1, epoch_step: 60, avg loss: 1.402811\n",
      "learning rate: 0.000200\n",
      "\n",
      "\n"
     ]
    },
    {
     "name": "stderr",
     "output_type": "stream",
     "text": [
      "100%|██████████| 123/123 [00:24<00:00,  4.97it/s]\n",
      " 14%|█▍        | 17/123 [00:03<00:21,  4.89it/s]"
     ]
    },
    {
     "name": "stdout",
     "output_type": "stream",
     "text": [
      "\n",
      "\n",
      "epoch: 2, epoch_step: 9, avg loss: 1.386958\n",
      "learning rate: 0.000233\n",
      "\n",
      "\n"
     ]
    },
    {
     "name": "stderr",
     "output_type": "stream",
     "text": [
      " 30%|███       | 37/123 [00:07<00:17,  4.90it/s]"
     ]
    },
    {
     "name": "stdout",
     "output_type": "stream",
     "text": [
      "\n",
      "\n",
      "epoch: 2, epoch_step: 19, avg loss: 1.391398\n",
      "learning rate: 0.000267\n",
      "\n",
      "\n"
     ]
    },
    {
     "name": "stderr",
     "output_type": "stream",
     "text": [
      " 46%|████▋     | 57/123 [00:11<00:13,  5.05it/s]"
     ]
    },
    {
     "name": "stdout",
     "output_type": "stream",
     "text": [
      "\n",
      "\n",
      "epoch: 2, epoch_step: 29, avg loss: 1.393376\n",
      "learning rate: 0.000300\n",
      "\n",
      "\n"
     ]
    },
    {
     "name": "stderr",
     "output_type": "stream",
     "text": [
      " 62%|██████▏   | 76/123 [00:15<00:09,  5.10it/s]"
     ]
    },
    {
     "name": "stdout",
     "output_type": "stream",
     "text": [
      "\n",
      "\n",
      "epoch: 2, epoch_step: 39, avg loss: 1.392257\n",
      "learning rate: 0.000333\n",
      "\n",
      "\n",
      "\n",
      "Evaluate:\n",
      "\n"
     ]
    },
    {
     "name": "stderr",
     "output_type": "stream",
     "text": [
      " 63%|██████▎   | 77/123 [00:15<00:14,  3.22it/s]"
     ]
    },
    {
     "name": "stdout",
     "output_type": "stream",
     "text": [
      "\n",
      "\n",
      "Classification Accuracy: 0.266\n",
      "\n",
      "\n"
     ]
    },
    {
     "name": "stderr",
     "output_type": "stream",
     "text": [
      " 79%|███████▉  | 97/123 [00:19<00:04,  5.20it/s]"
     ]
    },
    {
     "name": "stdout",
     "output_type": "stream",
     "text": [
      "\n",
      "\n",
      "epoch: 2, epoch_step: 49, avg loss: 1.386012\n",
      "learning rate: 0.000367\n",
      "\n",
      "\n"
     ]
    },
    {
     "name": "stderr",
     "output_type": "stream",
     "text": [
      " 95%|█████████▌| 117/123 [00:23<00:01,  5.12it/s]"
     ]
    },
    {
     "name": "stdout",
     "output_type": "stream",
     "text": [
      "\n",
      "\n",
      "epoch: 2, epoch_step: 59, avg loss: 1.389540\n",
      "learning rate: 0.000400\n",
      "\n",
      "\n"
     ]
    },
    {
     "name": "stderr",
     "output_type": "stream",
     "text": [
      "100%|██████████| 123/123 [00:24<00:00,  5.01it/s]\n",
      " 11%|█▏        | 14/123 [00:02<00:21,  5.09it/s]"
     ]
    },
    {
     "name": "stdout",
     "output_type": "stream",
     "text": [
      "\n",
      "\n",
      "epoch: 3, epoch_step: 7, avg loss: 1.379710\n",
      "learning rate: 0.000433\n",
      "\n",
      "\n"
     ]
    },
    {
     "name": "stderr",
     "output_type": "stream",
     "text": [
      " 28%|██▊       | 34/123 [00:06<00:17,  5.16it/s]"
     ]
    },
    {
     "name": "stdout",
     "output_type": "stream",
     "text": [
      "\n",
      "\n",
      "epoch: 3, epoch_step: 17, avg loss: 1.383565\n",
      "learning rate: 0.000467\n",
      "\n",
      "\n"
     ]
    },
    {
     "name": "stderr",
     "output_type": "stream",
     "text": [
      " 43%|████▎     | 53/123 [00:10<00:13,  5.15it/s]"
     ]
    },
    {
     "name": "stdout",
     "output_type": "stream",
     "text": [
      "\n",
      "\n",
      "epoch: 3, epoch_step: 27, avg loss: 1.390835\n",
      "learning rate: 0.000500\n",
      "\n",
      "\n",
      "\n",
      "Evaluate:\n",
      "\n"
     ]
    },
    {
     "name": "stderr",
     "output_type": "stream",
     "text": [
      " 44%|████▍     | 54/123 [00:10<00:21,  3.25it/s]"
     ]
    },
    {
     "name": "stdout",
     "output_type": "stream",
     "text": [
      "\n",
      "\n",
      "Classification Accuracy: 0.266\n",
      "\n",
      "\n"
     ]
    },
    {
     "name": "stderr",
     "output_type": "stream",
     "text": [
      " 60%|██████    | 74/123 [00:14<00:09,  5.19it/s]"
     ]
    },
    {
     "name": "stdout",
     "output_type": "stream",
     "text": [
      "\n",
      "\n",
      "epoch: 3, epoch_step: 37, avg loss: 1.388174\n",
      "learning rate: 0.000533\n",
      "\n",
      "\n"
     ]
    },
    {
     "name": "stderr",
     "output_type": "stream",
     "text": [
      " 76%|███████▋  | 94/123 [00:18<00:05,  5.10it/s]"
     ]
    },
    {
     "name": "stdout",
     "output_type": "stream",
     "text": [
      "\n",
      "\n",
      "epoch: 3, epoch_step: 47, avg loss: 1.389158\n",
      "learning rate: 0.000567\n",
      "\n",
      "\n"
     ]
    },
    {
     "name": "stderr",
     "output_type": "stream",
     "text": [
      " 93%|█████████▎| 114/123 [00:22<00:01,  5.02it/s]"
     ]
    },
    {
     "name": "stdout",
     "output_type": "stream",
     "text": [
      "\n",
      "\n",
      "epoch: 3, epoch_step: 57, avg loss: 1.380622\n",
      "learning rate: 0.000600\n",
      "\n",
      "\n"
     ]
    },
    {
     "name": "stderr",
     "output_type": "stream",
     "text": [
      "100%|██████████| 123/123 [00:24<00:00,  5.05it/s]\n",
      "  9%|▉         | 11/123 [00:02<00:21,  5.10it/s]"
     ]
    },
    {
     "name": "stdout",
     "output_type": "stream",
     "text": [
      "\n",
      "\n",
      "epoch: 4, epoch_step: 6, avg loss: 1.391567\n",
      "learning rate: 0.000633\n",
      "\n",
      "\n"
     ]
    },
    {
     "name": "stderr",
     "output_type": "stream",
     "text": [
      " 24%|██▍       | 30/123 [00:05<00:18,  5.10it/s]"
     ]
    },
    {
     "name": "stdout",
     "output_type": "stream",
     "text": [
      "\n",
      "\n",
      "epoch: 4, epoch_step: 16, avg loss: 1.378685\n",
      "learning rate: 0.000667\n",
      "\n",
      "\n",
      "\n",
      "Evaluate:\n",
      "\n"
     ]
    },
    {
     "name": "stderr",
     "output_type": "stream",
     "text": [
      " 25%|██▌       | 31/123 [00:06<00:28,  3.21it/s]"
     ]
    },
    {
     "name": "stdout",
     "output_type": "stream",
     "text": [
      "\n",
      "\n",
      "Classification Accuracy: 0.266\n",
      "\n",
      "\n"
     ]
    },
    {
     "name": "stderr",
     "output_type": "stream",
     "text": [
      " 41%|████▏     | 51/123 [00:10<00:14,  5.06it/s]"
     ]
    },
    {
     "name": "stdout",
     "output_type": "stream",
     "text": [
      "\n",
      "\n",
      "epoch: 4, epoch_step: 26, avg loss: 1.382157\n",
      "learning rate: 0.000700\n",
      "\n",
      "\n"
     ]
    },
    {
     "name": "stderr",
     "output_type": "stream",
     "text": [
      " 58%|█████▊    | 71/123 [00:14<00:10,  5.10it/s]"
     ]
    },
    {
     "name": "stdout",
     "output_type": "stream",
     "text": [
      "\n",
      "\n",
      "epoch: 4, epoch_step: 36, avg loss: 1.389369\n",
      "learning rate: 0.000733\n",
      "\n",
      "\n"
     ]
    },
    {
     "name": "stderr",
     "output_type": "stream",
     "text": [
      " 74%|███████▍  | 91/123 [00:18<00:06,  5.13it/s]"
     ]
    },
    {
     "name": "stdout",
     "output_type": "stream",
     "text": [
      "\n",
      "\n",
      "epoch: 4, epoch_step: 46, avg loss: 1.382397\n",
      "learning rate: 0.000767\n",
      "\n",
      "\n"
     ]
    },
    {
     "name": "stderr",
     "output_type": "stream",
     "text": [
      " 90%|█████████ | 111/123 [00:22<00:02,  5.21it/s]"
     ]
    },
    {
     "name": "stdout",
     "output_type": "stream",
     "text": [
      "\n",
      "\n",
      "epoch: 4, epoch_step: 56, avg loss: 1.387689\n",
      "learning rate: 0.000800\n",
      "\n",
      "\n"
     ]
    },
    {
     "name": "stderr",
     "output_type": "stream",
     "text": [
      "100%|██████████| 123/123 [00:24<00:00,  5.04it/s]\n",
      "  6%|▌         | 7/123 [00:01<00:22,  5.17it/s]"
     ]
    },
    {
     "name": "stdout",
     "output_type": "stream",
     "text": [
      "\n",
      "\n",
      "epoch: 5, epoch_step: 4, avg loss: 1.389890\n",
      "learning rate: 0.000833\n",
      "\n",
      "\n",
      "\n",
      "Evaluate:\n",
      "\n"
     ]
    },
    {
     "name": "stderr",
     "output_type": "stream",
     "text": [
      "  7%|▋         | 8/123 [00:01<00:36,  3.18it/s]"
     ]
    },
    {
     "name": "stdout",
     "output_type": "stream",
     "text": [
      "\n",
      "\n",
      "Classification Accuracy: 0.266\n",
      "\n",
      "\n"
     ]
    },
    {
     "name": "stderr",
     "output_type": "stream",
     "text": [
      " 23%|██▎       | 28/123 [00:05<00:18,  5.18it/s]"
     ]
    },
    {
     "name": "stdout",
     "output_type": "stream",
     "text": [
      "\n",
      "\n",
      "epoch: 5, epoch_step: 14, avg loss: 1.379724\n",
      "learning rate: 0.000867\n",
      "\n",
      "\n"
     ]
    },
    {
     "name": "stderr",
     "output_type": "stream",
     "text": [
      " 39%|███▉      | 48/123 [00:09<00:14,  5.20it/s]"
     ]
    },
    {
     "name": "stdout",
     "output_type": "stream",
     "text": [
      "\n",
      "\n",
      "epoch: 5, epoch_step: 24, avg loss: 1.381665\n",
      "learning rate: 0.000900\n",
      "\n",
      "\n"
     ]
    },
    {
     "name": "stderr",
     "output_type": "stream",
     "text": [
      " 55%|█████▌    | 68/123 [00:13<00:10,  5.19it/s]"
     ]
    },
    {
     "name": "stdout",
     "output_type": "stream",
     "text": [
      "\n",
      "\n",
      "epoch: 5, epoch_step: 34, avg loss: 1.390798\n",
      "learning rate: 0.000933\n",
      "\n",
      "\n"
     ]
    },
    {
     "name": "stderr",
     "output_type": "stream",
     "text": [
      " 72%|███████▏  | 88/123 [00:17<00:06,  5.20it/s]"
     ]
    },
    {
     "name": "stdout",
     "output_type": "stream",
     "text": [
      "\n",
      "\n",
      "epoch: 5, epoch_step: 44, avg loss: 1.377584\n",
      "learning rate: 0.000967\n",
      "\n",
      "\n"
     ]
    },
    {
     "name": "stderr",
     "output_type": "stream",
     "text": [
      " 87%|████████▋ | 107/123 [00:20<00:03,  5.23it/s]"
     ]
    },
    {
     "name": "stdout",
     "output_type": "stream",
     "text": [
      "\n",
      "\n",
      "epoch: 5, epoch_step: 54, avg loss: 1.392494\n",
      "learning rate: 0.001000\n",
      "\n",
      "\n",
      "\n",
      "Evaluate:\n",
      "\n"
     ]
    },
    {
     "name": "stderr",
     "output_type": "stream",
     "text": [
      " 88%|████████▊ | 108/123 [00:21<00:04,  3.27it/s]"
     ]
    },
    {
     "name": "stdout",
     "output_type": "stream",
     "text": [
      "\n",
      "\n",
      "Classification Accuracy: 0.266\n",
      "\n",
      "\n"
     ]
    },
    {
     "name": "stderr",
     "output_type": "stream",
     "text": [
      "100%|██████████| 123/123 [00:24<00:00,  5.03it/s]\n"
     ]
    }
   ],
   "source": [
    "# start training\n",
    "import wandb\n",
    "import os\n",
    "wandb.init(project=\"nlp\", name=\"cls\")\n",
    "\n",
    "from tqdm import tqdm\n",
    "import numpy as np\n",
    "\n",
    "encoder_optimizer.zero_grad()\n",
    "step_cnt = 0\n",
    "all_step_cnt = 0\n",
    "avg_loss = 0\n",
    "maximum_f_score = 0\n",
    "ce_fn = nn.CrossEntropyLoss(torch.FloatTensor([0.2, 0.3, 0.5, 1.]).cuda())\n",
    "\n",
    "for epoch in range(5): \n",
    "    epoch_step = 0\n",
    "\n",
    "    for (i, batch) in enumerate(tqdm(dataloader)):\n",
    "        \n",
    "        step_cnt += 1\n",
    "        \n",
    "        # forward pass\n",
    "            \n",
    "        cur_res = cls_model(batch[\"queries\"].cuda(), batch[\"queries_pos\"].cuda())\n",
    "\n",
    "        loss = ce_fn(cur_res, batch[\"labels\"].cuda())\n",
    "        loss = loss / accumulate_step\n",
    "        loss.backward()\n",
    "\n",
    "        avg_loss += loss.item()\n",
    "        if step_cnt == accumulate_step:\n",
    "            # updating\n",
    "            if grad_norm > 0:\n",
    "                nn.utils.clip_grad_norm_(cls_model.parameters(), grad_norm)\n",
    "\n",
    "            step_cnt = 0\n",
    "            epoch_step += 1\n",
    "            all_step_cnt += 1\n",
    "            \n",
    "            # adjust learning rate\n",
    "            if all_step_cnt <= warmup_steps:\n",
    "                lr = all_step_cnt * (max_lr - 2e-8) / warmup_steps + 2e-8\n",
    "            else:\n",
    "                lr = max_lr - (all_step_cnt - warmup_steps) * 1e-6\n",
    "                \n",
    "            encoder_optimizer.step()\n",
    "            encoder_optimizer.zero_grad()\n",
    "        \n",
    "        if all_step_cnt % report_freq == 0 and step_cnt == 0:\n",
    "            if all_step_cnt <= warmup_steps:\n",
    "                lr = all_step_cnt * (max_lr - 2e-8) / warmup_steps + 2e-8\n",
    "            else:\n",
    "                lr = max_lr - (all_step_cnt - warmup_steps) * 1e-6\n",
    "\n",
    "            wandb.log({\"learning_rate\": lr}, step=all_step_cnt)\n",
    "            wandb.log({\"loss\": avg_loss / report_freq}, step=all_step_cnt)\n",
    "            \n",
    "            # report stats\n",
    "            print(\"\\n\")\n",
    "            print(\"epoch: %d, epoch_step: %d, avg loss: %.6f\" % (epoch + 1, epoch_step, avg_loss / report_freq))\n",
    "            print(f\"learning rate: {lr:.6f}\")\n",
    "            print(\"\\n\")\n",
    "\n",
    "            avg_loss = 0\n",
    "        del loss, cur_res\n",
    "\n",
    "        if all_step_cnt % eval_interval == 0 and all_step_cnt != 0 and step_cnt == 0:\n",
    "            # evaluate the model as a scorer\n",
    "            print(\"\\nEvaluate:\\n\")\n",
    "            \n",
    "            f_score = validate(dev_inputs, dev_outputs, cls_model)\n",
    "            wandb.log({\"acc\": f_score}, step=all_step_cnt)\n",
    "\n",
    "            if f_score > maximum_f_score:\n",
    "                maximum_f_score = f_score\n",
    "                torch.save(cls_model.state_dict(), os.path.join(save_dir, \"best_cls_ckpt.bin\"))\n",
    "                print(\"\\n\")\n",
    "                print(\"best val loss - epoch: %d, epoch_step: %d\" % (epoch, epoch_step))\n",
    "                print(\"maximum_f_score\", f_score)\n",
    "                print(\"\\n\")"
   ]
  },
  {
   "cell_type": "code",
   "execution_count": null,
   "metadata": {},
   "outputs": [],
   "source": [
    "def predict(dev_input, cls_model_):\n",
    "    # get evidence embeddings\n",
    "    start_idx = 0\n",
    "    batch_size = 50\n",
    "    pos_len = len(dev_input[0])\n",
    "    cls_model.eval()\n",
    "\n",
    "    cls_res = []\n",
    "    correct_count = 0\n",
    "    while start_idx < len(dev_input):\n",
    "        end_idx = min(start_idx + batch_size, len(dev_input))\n",
    "        \n",
    "        cur_input = torch.LongTensor(dev_input[start_idx:end_idx]).view(-1, pos_len).cuda()\n",
    "        cur_pos = torch.LongTensor([list(range(pos_len)) for _ in range(end_idx - start_idx)]).cuda()\n",
    "\n",
    "        cur_res = cls_model_(cur_input, cur_pos)\n",
    "        cur_res = torch.argmax(cur_res, 1).tolist()\n",
    "        \n",
    "        del cur_input, cur_pos\n",
    "        \n",
    "        cls_res.extend(cur_res)\n",
    "        \n",
    "        start_idx = end_idx\n",
    "\n",
    "    return cls_res"
   ]
  },
  {
   "cell_type": "code",
   "execution_count": null,
   "metadata": {},
   "outputs": [],
   "source": [
    "torch.cuda.empty_cache()"
   ]
  },
  {
   "cell_type": "code",
   "execution_count": null,
   "metadata": {},
   "outputs": [],
   "source": [
    "import os\n",
    "cls_model.load_state_dict(torch.load(os.path.join(save_dir, \"best_cls_ckpt.bin\")))\n",
    "\n",
    "dev_classes = predict(dev_inputs, cls_model)\n",
    "test_classes = predict(test_inputs, cls_model)"
   ]
  },
  {
   "cell_type": "code",
   "execution_count": null,
   "metadata": {},
   "outputs": [],
   "source": [
    "pred_dev_claims = json.load(open(\"data/dev_predict.json\", \"r\"))\n",
    "pred_test_claims = json.load(open(\"data/test-claims-unlabelled.json\", \"r\"))\n",
    "\n",
    "for i, j in zip(dev_claim_id, dev_classes):\n",
    "    claim_label = id2labels[j]\n",
    "    evidences = pred_dev_claims[i]['evidences']\n",
    "    pred_dev_claims[i] = {'claim_text': pred_dev_claims[i]['claim_text'], 'claim_label': claim_label, 'evidences': evidences}\n",
    "\n",
    "for i, j in zip(test_claim_id, test_classes):\n",
    "    claim_label = id2labels[j]\n",
    "    evidences = pred_test_claims[i]['evidences']\n",
    "    pred_test_claims[i] = {'claim_text': pred_test_claims[i]['claim_text'], 'claim_label': claim_label, 'evidences': evidences}\n",
    "\n",
    "json.dump(pred_dev_claims, open(\"data/dev_predict.json\", \"w\"))\n",
    "json.dump(pred_test_claims, open(\"data/test-claims-unlabelled.json\", \"w\"))\n",
    "    "
   ]
  },
  {
   "cell_type": "code",
   "execution_count": null,
   "metadata": {},
   "outputs": [
    {
     "name": "stdout",
     "output_type": "stream",
     "text": [
      "Counter({1: 115, 3: 36, 0: 3})\n"
     ]
    }
   ],
   "source": [
    "from collections import Counter\n",
    "print(Counter(dev_classes))"
   ]
  },
  {
   "cell_type": "code",
   "execution_count": null,
   "metadata": {},
   "outputs": [
    {
     "name": "stdout",
     "output_type": "stream",
     "text": [
      "Counter({1: 97, 3: 51, 0: 5})\n"
     ]
    }
   ],
   "source": [
    "print(Counter(test_classes))"
   ]
  },
  {
   "cell_type": "code",
   "execution_count": null,
   "metadata": {},
   "outputs": [
    {
     "name": "stdout",
     "output_type": "stream",
     "text": [
      "Evidence Retrieval F-score (F): 0.04913419913419914\n",
      "Claim Classification Accuracy (A): 0.2662337662337662\n",
      "Harmonic Mean of F and A: 0.08295822228560733\n"
     ]
    }
   ],
   "source": [
    "import subprocess\n",
    "\n",
    "output = subprocess.check_output(\"python eval.py --predictions data/dev_predict.json --groundtruth data/dev-claims.json\", shell=True)\n",
    "output_str = output.decode('utf-8')\n",
    "\n",
    "# Split the output into lines\n",
    "output_lines = output_str.strip().split('\\n')\n",
    "\n",
    "# Format the output\n",
    "formatted_lines = []\n",
    "for line in output_lines:\n",
    "    metric, value = line.split('=')\n",
    "    metric = metric.strip()\n",
    "    value = value.strip()\n",
    "    formatted_line = f\"{metric}: {value}\"\n",
    "    formatted_lines.append(formatted_line)\n",
    "\n",
    "# Join the formatted lines into a single string\n",
    "formatted_output = '\\n'.join(formatted_lines)\n",
    "print(formatted_output)"
   ]
  },
  {
   "cell_type": "markdown",
   "metadata": {
    "id": "mefSOe8eTmGP"
   },
   "source": [
    "## Object Oriented Programming codes here\n",
    "\n",
    "*You can use multiple code snippets. Just add more if needed*"
   ]
  }
 ],
 "metadata": {
  "colab": {
   "provenance": [],
   "toc_visible": true
  },
  "kernelspec": {
   "display_name": "Python 3 (ipykernel)",
   "language": "python",
   "name": "python3"
  },
  "language_info": {
   "codemirror_mode": {
    "name": "ipython",
    "version": 3
   },
   "file_extension": ".py",
   "mimetype": "text/x-python",
   "name": "python",
   "nbconvert_exporter": "python",
   "pygments_lexer": "ipython3",
   "version": "3.8.19"
  }
 },
 "nbformat": 4,
 "nbformat_minor": 4
}
