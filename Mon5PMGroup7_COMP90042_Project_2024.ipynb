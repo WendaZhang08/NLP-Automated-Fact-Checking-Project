{
 "cells": [
  {
   "cell_type": "markdown",
   "metadata": {
    "id": "32yCsRUo8H33"
   },
   "source": [
    "# 2024 COMP90042 Project\n",
    "*Make sure you change the file name with your group id.*"
   ]
  },
  {
   "cell_type": "markdown",
   "metadata": {
    "id": "XCybYoGz8YWQ"
   },
   "source": [
    "# Readme\n",
    "*If there is something to be noted for the marker, please mention here.*\n",
    "\n",
    "*If you are planning to implement a program with Object Oriented Programming style, please put those the bottom of this ipynb file*"
   ]
  },
  {
   "cell_type": "markdown",
   "metadata": {},
   "source": [
    "**We use pytorch, nltk, scikit-learn in this project.**"
   ]
  },
  {
   "cell_type": "markdown",
   "metadata": {
    "id": "6po98qVA8bJD"
   },
   "source": [
    "# 1.DataSet Processing\n",
    "(You can add as many code blocks and text blocks as you need. However, YOU SHOULD NOT MODIFY the section title)"
   ]
  },
  {
   "cell_type": "markdown",
   "metadata": {
    "id": "qvff21Hv8zjk",
    "tags": []
   },
   "source": [
    "## PreProcess for evidence and claims"
   ]
  },
  {
   "cell_type": "markdown",
   "metadata": {},
   "source": [
    "### preprocessing function"
   ]
  },
  {
   "cell_type": "code",
   "execution_count": 2,
   "metadata": {},
   "outputs": [
    {
     "name": "stdout",
     "output_type": "stream",
     "text": [
      "CUDA available: True\n"
     ]
    }
   ],
   "source": [
    "import torch\n",
    "\n",
    "print(\"CUDA available:\", torch.cuda.is_available())"
   ]
  },
  {
   "cell_type": "code",
   "execution_count": 3,
   "metadata": {},
   "outputs": [
    {
     "name": "stdout",
     "output_type": "stream",
     "text": [
      "Current CUDA device: 0\n",
      "Device count: 1\n",
      "Device name: NVIDIA GeForce RTX 3070 Ti\n"
     ]
    }
   ],
   "source": [
    "print(\"Current CUDA device:\", torch.cuda.current_device())\n",
    "print(\"Device count:\", torch.cuda.device_count())\n",
    "print(\"Device name:\", torch.cuda.get_device_name(torch.cuda.current_device()))"
   ]
  },
  {
   "cell_type": "markdown",
   "metadata": {},
   "source": [
    "### read files"
   ]
  },
  {
   "cell_type": "code",
   "execution_count": 59,
   "metadata": {},
   "outputs": [
    {
     "name": "stderr",
     "output_type": "stream",
     "text": [
      "[nltk_data] Downloading package stopwords to\n",
      "[nltk_data]     C:\\Users\\ABC\\AppData\\Roaming\\nltk_data...\n",
      "[nltk_data]   Package stopwords is already up-to-date!\n",
      "[nltk_data] Downloading package wordnet to\n",
      "[nltk_data]     C:\\Users\\ABC\\AppData\\Roaming\\nltk_data...\n",
      "[nltk_data]   Package wordnet is already up-to-date!\n"
     ]
    },
    {
     "name": "stdout",
     "output_type": "stream",
     "text": [
      "claim count:  1228\n",
      "evidence count:  1208827\n",
      "max claim length:  332\n",
      "min claim length:  26\n",
      "mean claim length:  122.95521172638436\n",
      "max evidence count:  5\n",
      "min evidence count:  1\n",
      "mean evidence count:  3.3566775244299674\n",
      "max evidence length:  1979\n",
      "min evidence length:  13\n",
      "mean evidence length:  173.5\n",
      "Counter({'SUPPORTS': 519, 'NOT_ENOUGH_INFO': 386, 'REFUTES': 199, 'DISPUTED': 124})\n",
      "Dev evi inside train evi 163\n",
      "Dev evi outside train evi 328\n",
      "Train claim count:  1228\n"
     ]
    }
   ],
   "source": [
    "import json\n",
    "import nltk\n",
    "import string\n",
    "import re\n",
    "import numpy as np\n",
    "from sklearn.metrics.pairwise import cosine_similarity\n",
    "from nltk.corpus import stopwords\n",
    "from nltk.tokenize import word_tokenize\n",
    "from collections import Counter\n",
    "from statistics import mean\n",
    "\n",
    "nltk.download('stopwords')\n",
    "nltk.download('wordnet')\n",
    "\n",
    "with open('data/train-claims.json', 'r') as input_file:\n",
    "    train_claims = json.load(input_file)\n",
    "\n",
    "# Read in development data (claim)\n",
    "with open('data/dev-claims.json', 'r') as input_file:\n",
    "    dev_claims = json.load(input_file)\n",
    "\n",
    "# Read in test data (claim)\n",
    "with open('data/test-claims-unlabelled.json', 'r') as input_file:\n",
    "    test_claims = json.load(input_file)\n",
    "\n",
    "# Read in evidence data\n",
    "with open('data/evidence.json', 'r') as input_file:\n",
    "    evidences = json.load(input_file)\n",
    "\n",
    "#EDA\n",
    "\n",
    "\n",
    "claim_count = 0\n",
    "evi_count = 0\n",
    "claim_length = []\n",
    "evidence_count = []\n",
    "evidence_length = []\n",
    "labels = []\n",
    "\n",
    "for key,value in train_claims.items():\n",
    "    claim_count+=1\n",
    "    claim_length.append(len(value[\"claim_text\"]))\n",
    "    evidence_count.append(len(value[\"evidences\"]))\n",
    "    evidence_length += [len(evidences[x]) for x in value[\"evidences\"]]\n",
    "    labels.append(value[\"claim_label\"])\n",
    "\n",
    "for key,value in evidences.items():\n",
    "    evi_count+=1\n",
    "\n",
    "print(\"claim count: \",claim_count)\n",
    "print(\"evidence count: \",evi_count)\n",
    "print(\"max claim length: \",max(claim_length))\n",
    "print(\"min claim length: \",min(claim_length))\n",
    "print(\"mean claim length: \",mean(claim_length))\n",
    "print(\"max evidence count: \",max(evidence_count))\n",
    "print(\"min evidence count: \",min(evidence_count))\n",
    "print(\"mean evidence count: \",mean(evidence_count))\n",
    "print(\"max evidence length: \",max(evidence_length))\n",
    "print(\"min evidence length: \",min(evidence_length))\n",
    "print(\"mean evidence length: \",mean(evidence_length))\n",
    "print(Counter(labels))\n",
    "\n",
    "\n",
    "\n",
    "inside = 0\n",
    "outside = 0\n",
    "\n",
    "train_evi_id = []\n",
    "for claim_id,claim_value in train_claims.items():\n",
    "    train_evi_id=train_evi_id+claim_value['evidences']\n",
    "\n",
    "for claim_id,claim_value in dev_claims.items():\n",
    "    test_evi_id=claim_value['evidences']\n",
    "    for e in test_evi_id:\n",
    "        if e in train_evi_id:\n",
    "            inside += 1\n",
    "        else:\n",
    "            outside += 1\n",
    "print(\"Dev evi inside train evi\", inside)\n",
    "print(\"Dev evi outside train evi\", outside)\n",
    "\n",
    "full_evidence_id = list(evidences.keys())\n",
    "full_evidence_text  = list(evidences.values())\n",
    "train_claim_id = list(train_claims.keys())\n",
    "train_claim_text  = [ v[\"claim_text\"] for v in train_claims.values()]\n",
    "print(\"Train claim count: \",len(train_claim_id))"
   ]
  },
  {
   "cell_type": "code",
   "execution_count": 60,
   "metadata": {},
   "outputs": [],
   "source": [
    "lemmatizer = nltk.stem.wordnet.WordNetLemmatizer()\n",
    "stopwords = set(stopwords.words('english'))\n",
    "\n",
    "def lemmatize(word):\n",
    "    lemma = lemmatizer.lemmatize(word, 'v')\n",
    "    return lemma if lemma != word else lemmatizer.lemmatize(word, 'n')\n",
    "\n",
    "def is_pure_english(text):\n",
    "    english_letters = set(string.ascii_letters)\n",
    "    cleaned_text = ''.join(char for char in text if char.isalpha() or char.isspace())\n",
    "    return all(char in english_letters or char.isspace() for char in cleaned_text)\n",
    "\n",
    "def remove_non_eng(dictionary):\n",
    "    eng_data = {}\n",
    "    for key, value in dictionary.items():\n",
    "        if is_pure_english(value):\n",
    "            eng_data[key] = value\n",
    "    return eng_data\n",
    "\n",
    "def contains_climate_keywords(text, keywords):\n",
    "    text = text.lower()\n",
    "    for keyword in keywords:\n",
    "        if re.search(r\"\\b\" + re.escape(keyword) + r\"\\b\", text):\n",
    "            return True\n",
    "    return False\n",
    "\n",
    "def filter_climate_related(dictionary, keywords):\n",
    "    cs_data = {}\n",
    "    for key, value in dictionary.items():\n",
    "        if contains_climate_keywords(value, keywords):\n",
    "            cs_data[key] = value\n",
    "    return cs_data\n",
    "\n",
    "def text_preprocessing(text, remove_stopwords=False):\n",
    "    if isinstance(text, str):\n",
    "        words = [lemmatize(w) for w in text.lower().split()]\n",
    "    elif isinstance(text, list):\n",
    "        words = [lemmatize(w.lower()) for w in text]\n",
    "    else:\n",
    "        raise ValueError(\"Unsupported type for 'text'. Expected str or list.\")\n",
    "    \n",
    "    if remove_stopwords:\n",
    "        words = [w for w in words if w not in stopwords]\n",
    "    \n",
    "    return \" \".join(words)"
   ]
  },
  {
   "cell_type": "code",
   "execution_count": 61,
   "metadata": {},
   "outputs": [],
   "source": [
    "climate_keywords = [\n",
    "    \"climate\", \"environment\", \"global warming\", \"greenhouse effect\", \"carbon\", \"co2\", \"carbon dioxide\",\n",
    "    \"methane\", \"renewable energy\", \"sustainability\", \"ecology\", \"biodiversity\", \"fossil fuels\",\n",
    "    \"emissions\", \"air quality\", \"ozone\", \"solar energy\", \"wind energy\", \"climate change\", \"climate crisis\",\n",
    "    \"climate adaptation\", \"climate mitigation\", \"ocean\", \"sea levels\", \"ice melting\", \"deforestation\",\n",
    "    \"reforestation\", \"pollution\",\" electricity\",\"energy\",\"solar\",\"wind\",\"renewable\",\"fossil\",\"fuel\",\"emission\",\"air\",\"quality\",\"ozone\",\"solar\",\"wind\",\"climate\",\"change\",\"crisis\",\"adaptation\",\"mitigation\",\"ocean\",\"sea\",\"level\",\"ice\",\"melt\",\"deforestation\",\n",
    "]\n",
    "\n",
    "\n",
    "def preprocess_claim_data(claim_data, existed_evidences_id=None):\n",
    "    claim_data = remove_non_eng(claim_data)\n",
    "    claim_data_text = []\n",
    "    claim_data_id = []\n",
    "    claim_data_label = []\n",
    "    claim_evidences = []\n",
    "    \n",
    "    for key in claim_data.keys():\n",
    "        claim_data[key][\"claim_text\"] = word_tokenize(claim_data[key][\"claim_text\"])\n",
    "        claim_data[key][\"claim_text\"] = text_preprocessing(claim_data[key][\"claim_text\"])\n",
    "        \n",
    "        claim_data_text.append(claim_data[key][\"claim_text\"])\n",
    "        claim_data_id.append(key)\n",
    "        \n",
    "        if \"claim_label\" in claim_data[key]:\n",
    "            claim_data_label.append(claim_data[key][\"claim_label\"])\n",
    "        else:\n",
    "            claim_data_label.append(None)\n",
    "        \n",
    "        if existed_evidences_id and \"evidences\" in claim_data[key]:\n",
    "            valid_evidences = [existed_evidences_id[i] for i in claim_data[key][\"evidences\"] if i in existed_evidences_id]\n",
    "            claim_evidences.append(valid_evidences)\n",
    "        else:\n",
    "            claim_evidences.append([])\n",
    "    \n",
    "    return claim_data_text, claim_data_id, claim_data_label, claim_evidences\n",
    "\n",
    "\n",
    "def preprocess_evi_data(evi_data, climate_keywords):\n",
    "    evi_data = remove_non_eng(evi_data)\n",
    "    cs_evi_data = filter_climate_related(evi_data, climate_keywords)\n",
    "    \n",
    "    for key in cs_evi_data.keys():\n",
    "        cs_evi_data[key] = word_tokenize(cs_evi_data[key])\n",
    "        cs_evi_data[key] = text_preprocessing(cs_evi_data[key], remove_stopwords=True)\n",
    "        \n",
    "    cleaned_evidence_text = list(cs_evi_data.values())\n",
    "    cleaned_evidence_id = list(cs_evi_data.keys())\n",
    "    \n",
    "    return cleaned_evidence_text, cleaned_evidence_id"
   ]
  },
  {
   "cell_type": "code",
   "execution_count": 63,
   "metadata": {},
   "outputs": [],
   "source": [
    "cleaned_evidence_text, cleaned_evidence_id = preprocess_evi_data(evidences, climate_keywords)\n",
    "\n",
    "evidences_texts = cleaned_evidence_text\n",
    "evidences_ids = cleaned_evidence_id\n",
    "evidences_id_dict = {evidence_id: idx for idx, evidence_id in enumerate(cleaned_evidence_id)}\n",
    "evidences_p_texts = cleaned_evidence_text\n",
    "\n",
    "\n",
    "train_claim_text, train_claim_id, train_claim_label, train_claim_evidences = preprocess_claim_data(train_claims, evidences_id_dict)\n",
    "\n",
    "train_texts = train_claim_text\n",
    "train_ids = train_claim_id\n",
    "train_labels = train_claim_label\n",
    "train_evidences = train_claim_evidences\n",
    "train_p_texts = train_claim_text\n",
    "\n",
    "\n",
    "dev_claim_text, dev_claim_id, dev_claim_label, dev_claim_evidences = preprocess_claim_data(dev_claims, evidences_id_dict)\n",
    "\n",
    "dev_texts = dev_claim_text\n",
    "dev_ids = dev_claim_id\n",
    "dev_labels = dev_claim_label\n",
    "dev_evidences = dev_claim_evidences\n",
    "dev_p_texts = dev_claim_text  \n",
    "\n",
    "\n",
    "test_claim_text, test_claim_id, _, _ = preprocess_claim_data(test_claims)\n",
    "\n",
    "test_texts = test_claim_text\n",
    "test_ids = test_claim_id\n",
    "test_p_texts = test_claim_text"
   ]
  },
  {
   "cell_type": "code",
   "execution_count": 68,
   "metadata": {},
   "outputs": [],
   "source": [
    "# save for debug\n",
    "# need to delete when submitting\n",
    "json.dump(train_ids, open(\"temp_data/train_ids.json\", \"w\"))\n",
    "json.dump(train_texts, open(\"temp_data/train_texts.json\", \"w\"))\n",
    "json.dump(train_p_texts, open(\"temp_data/train_p_texts.json\", \"w\"))\n",
    "json.dump(train_evidences, open(\"temp_data/train_evidences.json\", \"w\"))\n",
    "json.dump(train_labels, open(\"temp_data/train_labels.json\", \"w\"))\n",
    "\n",
    "json.dump(dev_ids, open(\"temp_data/dev_ids.json\", \"w\"))\n",
    "json.dump(dev_texts, open(\"temp_data/dev_texts.json\", \"w\"))\n",
    "json.dump(dev_p_texts, open(\"temp_data/dev_p_texts.json\", \"w\"))\n",
    "json.dump(dev_evidences, open(\"temp_data/dev_evidences.json\", \"w\"))\n",
    "json.dump(dev_labels, open(\"temp_data/dev_labels.json\", \"w\"))\n",
    "\n",
    "json.dump(test_ids, open(\"temp_data/test_ids.json\", \"w\"))\n",
    "json.dump(test_texts, open(\"temp_data/test_texts.json\", \"w\"))\n",
    "json.dump(test_p_texts, open(\"temp_data/test_p_texts.json\", \"w\"))\n",
    "\n",
    "json.dump(evidences_texts, open(\"temp_data/evidences_texts.json\", \"w\"))\n",
    "json.dump(evidences_p_texts, open(\"temp_data/evidences_p_texts.json\", \"w\"))\n",
    "json.dump(evidences_ids, open(\"temp_data/evidences_ids.json\", \"w\"))\n",
    "json.dump(evidences_id_dict, open(\"temp_data/evidences_id_dict.json\", \"w\"))\n"
   ]
  },
  {
   "cell_type": "code",
   "execution_count": 8,
   "metadata": {},
   "outputs": [],
   "source": [
    "\n",
    "train_ids = json.load(open(\"temp_data/train_ids.json\", \"r\"))\n",
    "train_texts = json.load(open(\"temp_data/train_texts.json\", \"r\"))\n",
    "train_p_texts = json.load(open(\"temp_data/train_p_texts.json\", \"r\"))\n",
    "train_evidences = json.load(open(\"temp_data/train_evidences.json\", \"r\"))\n",
    "train_labels = json.load(open(\"temp_data/train_labels.json\", \"r\"))\n",
    "\n",
    "dev_ids = json.load(open(\"temp_data/dev_ids.json\", \"r\"))\n",
    "dev_texts = json.load(open(\"temp_data/dev_texts.json\", \"r\"))\n",
    "dev_p_texts = json.load(open(\"temp_data/dev_p_texts.json\", \"r\"))\n",
    "dev_evidences = json.load(open(\"temp_data/dev_evidences.json\", \"r\"))\n",
    "dev_labels = json.load(open(\"temp_data/dev_labels.json\", \"r\"))\n",
    "\n",
    "test_ids = json.load(open(\"temp_data/test_ids.json\", \"r\"))\n",
    "test_texts = json.load(open(\"temp_data/test_texts.json\", \"r\"))\n",
    "test_p_texts = json.load(open(\"temp_data/test_p_texts.json\", \"r\"))\n",
    "\n",
    "evidences_texts = json.load(open(\"temp_data/evidences_texts.json\", \"r\"))\n",
    "evidences_p_texts = json.load(open(\"temp_data/evidences_p_texts.json\", \"r\"))\n",
    "evidences_ids = json.load(open(\"temp_data/evidences_ids.json\", \"r\"))\n",
    "evidences_id_dict = json.load(open(\"temp_data/evidences_id_dict.json\", \"r\"))"
   ]
  },
  {
   "cell_type": "markdown",
   "metadata": {},
   "source": [
    "### tfidf retrieval"
   ]
  },
  {
   "cell_type": "code",
   "execution_count": 64,
   "metadata": {},
   "outputs": [],
   "source": [
    "# from workshop and a1\n",
    "from sklearn.feature_extraction.text import TfidfVectorizer\n",
    "\n",
    "# vectorizer = TfidfVectorizer(max_features=500000)\n",
    "vectorizer = TfidfVectorizer()\n",
    "vectorizer.fit(evidences_texts)\n",
    "# TODO can svd \n",
    "train_tfidf = vectorizer.transform(train_p_texts)\n",
    "dev_tfidf = vectorizer.transform(dev_p_texts)\n",
    "test_tfidf = vectorizer.transform(test_p_texts)\n",
    "evidence_tfidf = vectorizer.transform(evidences_p_texts)\n"
   ]
  },
  {
   "cell_type": "code",
   "execution_count": 65,
   "metadata": {},
   "outputs": [
    {
     "name": "stdout",
     "output_type": "stream",
     "text": [
      "(1228, 54272)\n"
     ]
    }
   ],
   "source": [
    "# need to change this code\n",
    "\n",
    "# scikit-learn can calculate cosine similarity\n",
    "# train_cos_sims = np.dot(train_tfidf, evidence_tfidf.transpose()).toarray()\n",
    "# dev_cos_sims = np.dot(dev_tfidf, evidence_tfidf.transpose()).toarray()\n",
    "# test_cos_sims = np.dot(test_tfidf, evidence_tfidf.transpose()).toarray()\n",
    "train_cos_sims = cosine_similarity(train_tfidf, evidence_tfidf)\n",
    "dev_cos_sims = cosine_similarity(dev_tfidf, evidence_tfidf)\n",
    "test_cos_sims = cosine_similarity(test_tfidf, evidence_tfidf)\n",
    "print(train_cos_sims.shape)"
   ]
  },
  {
   "cell_type": "code",
   "execution_count": 69,
   "metadata": {
    "scrolled": true
   },
   "outputs": [
    {
     "name": "stdout",
     "output_type": "stream",
     "text": [
      "0.14695982627578721\n",
      "0.15670995670995672\n"
     ]
    }
   ],
   "source": [
    "def test_retrieval_topk(k, cur_scores, cur_labels):\n",
    "    ACC = []\n",
    "    top_ids = torch.topk(torch.FloatTensor(cur_scores), k, -1).indices.tolist()\n",
    "    for i in range(len(cur_labels)):\n",
    "        all_count = 0\n",
    "        recall_count = 0\n",
    "        for cur_ in cur_labels[i]:\n",
    "            if cur_ in top_ids[i]:\n",
    "                recall_count += 1\n",
    "            all_count += 1\n",
    "        if all_count == 0:\n",
    "            all_count = 1e-9  # 避免除以0\n",
    "        ACC.append(recall_count / all_count)\n",
    "    print(sum(ACC) / len(ACC))\n",
    "\n",
    "topK = 10\n",
    "test_retrieval_topk(topK, train_cos_sims, train_evidences)\n",
    "test_retrieval_topk(topK, dev_cos_sims, dev_evidences)"
   ]
  },
  {
   "cell_type": "code",
   "execution_count": 70,
   "metadata": {},
   "outputs": [],
   "source": [
    "# need to change this code\n",
    "def sort_evidence_candidates(cos_sims):\n",
    "    # dev_candis = np.argpartition(-cos_sims, candi_num, 1)[:candi_num]\n",
    "    candis = []\n",
    "    for i in range(cos_sims.shape[0]):\n",
    "        cur_top_ids = np.argsort(-cos_sims[i]).tolist()[:10000]\n",
    "        candis.append(cur_top_ids)\n",
    "    return candis"
   ]
  },
  {
   "cell_type": "code",
   "execution_count": 71,
   "metadata": {},
   "outputs": [],
   "source": [
    "dev_sort_evidences = sort_evidence_candidates(dev_cos_sims)\n",
    "test_sort_evidences = sort_evidence_candidates(test_cos_sims)\n",
    "train_sort_evidences = sort_evidence_candidates(train_cos_sims)"
   ]
  },
  {
   "cell_type": "code",
   "execution_count": 72,
   "metadata": {},
   "outputs": [],
   "source": [
    "json.dump(dev_sort_evidences, open(\"temp_data/dev_sort_evidences.json\", \"w\"))\n",
    "json.dump(test_sort_evidences, open(\"temp_data/test_sort_evidences.json\", \"w\"))\n",
    "json.dump(train_sort_evidences, open(\"temp_data/train_sort_evidences.json\", \"w\"))"
   ]
  },
  {
   "cell_type": "markdown",
   "metadata": {},
   "source": [
    "### construct vocab and indexing"
   ]
  },
  {
   "cell_type": "code",
   "execution_count": 73,
   "metadata": {},
   "outputs": [],
   "source": [
    "# construct word2idx and idx2word for taining data\n",
    "# if we use the unprocessed text else use ***_p_texts\n",
    "\n",
    "min_count = 10\n",
    "wordcount = {}\n",
    "idx2word = [\"<pad>\", \"<cls>\", \"<sep>\", \"<unk>\"]\n",
    "word2idx = {\"<pad>\": 0, \"<cls>\": 1, \"<sep>\": 2, \"<unk>\": 3}\n",
    "for texts in train_texts + evidences_texts:\n",
    "    for word in texts.split():\n",
    "        wordcount[word] = wordcount.get(word, 0) + 1\n",
    "idx = 4\n",
    "for i, j in wordcount.items():\n",
    "    if j > min_count:\n",
    "        idx2word.append(i)\n",
    "        word2idx[i] = idx\n",
    "        idx += 1\n",
    "\n",
    "json.dump(idx2word, open(\"temp_data/idx2word.json\", \"w\"))\n",
    "json.dump(word2idx, open(\"temp_data/word2idx.json\", \"w\"))"
   ]
  },
  {
   "cell_type": "code",
   "execution_count": 74,
   "metadata": {},
   "outputs": [],
   "source": [
    "def convert2idx(text_data, word2idx_, idx2word_):\n",
    "    idx_data = []\n",
    "    for texts in text_data:\n",
    "        temp_idx = []\n",
    "        for word in texts.split():\n",
    "            temp_idx.append(word2idx_.get(word, word2idx_[\"<unk>\"]))\n",
    "        idx_data.append(temp_idx)\n",
    "    return idx_data"
   ]
  },
  {
   "cell_type": "code",
   "execution_count": 75,
   "metadata": {},
   "outputs": [],
   "source": [
    "train_text_idx = convert2idx(train_texts, word2idx, idx2word)\n",
    "dev_text_idx = convert2idx(dev_texts, word2idx, idx2word)\n",
    "test_text_idx = convert2idx(test_texts, word2idx, idx2word)\n",
    "evidences_text_idx = convert2idx(evidences_texts, word2idx, idx2word)"
   ]
  },
  {
   "cell_type": "code",
   "execution_count": 76,
   "metadata": {},
   "outputs": [],
   "source": [
    "json.dump(train_text_idx, open(\"temp_data/train_text_idx.json\", \"w\"))\n",
    "json.dump(dev_text_idx, open(\"temp_data/dev_text_idx.json\", \"w\"))\n",
    "json.dump(test_text_idx, open(\"temp_data/test_text_idx.json\", \"w\"))\n",
    "json.dump(evidences_text_idx, open(\"temp_data/evidences_text_idx.json\", \"w\"))"
   ]
  },
  {
   "cell_type": "code",
   "execution_count": 77,
   "metadata": {},
   "outputs": [
    {
     "name": "stdout",
     "output_type": "stream",
     "text": [
      "76 73 60 231\n"
     ]
    }
   ],
   "source": [
    "print(max([len(i) for i in train_text_idx]), max([len(i) for i in dev_text_idx]), max([len(i) for i in test_text_idx]), max([len(i) for i in evidences_text_idx]))"
   ]
  },
  {
   "cell_type": "code",
   "execution_count": 78,
   "metadata": {},
   "outputs": [],
   "source": [
    "text_pad_len = 60\n",
    "evidences_pad_len = 100"
   ]
  },
  {
   "cell_type": "code",
   "execution_count": 79,
   "metadata": {},
   "outputs": [],
   "source": [
    "def construct_input_text(text_idx, padding_len, word2idx_):\n",
    "    idx_data = []\n",
    "    for texts in text_idx:\n",
    "        if len(texts) < padding_len:\n",
    "            idx_data.append([word2idx_[\"<cls>\"]] + texts + [word2idx_[\"<sep>\"]] + [word2idx_[\"<pad>\"]] * (padding_len - len(texts)))\n",
    "        else:\n",
    "            idx_data.append([word2idx_[\"<cls>\"]] + texts[:padding_len] + [word2idx_[\"<sep>\"]])\n",
    "    return idx_data\n",
    "    "
   ]
  },
  {
   "cell_type": "code",
   "execution_count": 80,
   "metadata": {},
   "outputs": [],
   "source": [
    "train_input = construct_input_text(train_text_idx, text_pad_len, word2idx)\n",
    "dev_input = construct_input_text(dev_text_idx, text_pad_len, word2idx)\n",
    "test_input = construct_input_text(test_text_idx, text_pad_len, word2idx)\n",
    "evidences_input = construct_input_text(evidences_text_idx, evidences_pad_len, word2idx)"
   ]
  },
  {
   "cell_type": "code",
   "execution_count": 81,
   "metadata": {},
   "outputs": [
    {
     "name": "stdout",
     "output_type": "stream",
     "text": [
      "62 102\n"
     ]
    }
   ],
   "source": [
    "print(len(train_input[0]), len(evidences_input[0]))"
   ]
  },
  {
   "cell_type": "code",
   "execution_count": 82,
   "metadata": {},
   "outputs": [],
   "source": [
    "json.dump(train_input, open(\"temp_data/train_input.json\", \"w\"))\n",
    "json.dump(dev_input, open(\"temp_data/dev_input.json\", \"w\"))\n",
    "json.dump(test_input, open(\"temp_data/test_input.json\", \"w\"))\n",
    "json.dump(evidences_input, open(\"temp_data/evidences_input.json\", \"w\"))"
   ]
  },
  {
   "cell_type": "code",
   "execution_count": 83,
   "metadata": {},
   "outputs": [],
   "source": [
    "# load save data\n",
    "# need to delete when submitting\n",
    "\n",
    "train_ids = json.load(open(\"temp_data/train_ids.json\", \"r\"))\n",
    "train_texts = json.load(open(\"temp_data/train_texts.json\", \"r\"))\n",
    "train_p_texts = json.load(open(\"temp_data/train_p_texts.json\", \"r\"))\n",
    "train_evidences = json.load(open(\"temp_data/train_evidences.json\", \"r\"))\n",
    "train_labels = json.load(open(\"temp_data/train_labels.json\", \"r\"))\n",
    "\n",
    "dev_ids = json.load(open(\"temp_data/dev_ids.json\", \"r\"))\n",
    "dev_texts = json.load(open(\"temp_data/dev_texts.json\", \"r\"))\n",
    "dev_p_texts = json.load(open(\"temp_data/dev_p_texts.json\", \"r\"))\n",
    "dev_evidences = json.load(open(\"temp_data/dev_evidences.json\", \"r\"))\n",
    "dev_labels = json.load(open(\"temp_data/dev_labels.json\", \"r\"))\n",
    "\n",
    "test_ids = json.load(open(\"temp_data/test_ids.json\", \"r\"))\n",
    "test_texts = json.load(open(\"temp_data/test_texts.json\", \"r\"))\n",
    "test_p_texts = json.load(open(\"temp_data/test_p_texts.json\", \"r\"))\n",
    "\n",
    "evidences_texts = json.load(open(\"temp_data/evidences_texts.json\", \"r\"))\n",
    "evidences_p_texts = json.load(open(\"temp_data/evidences_p_texts.json\", \"r\"))\n",
    "evidences_ids = json.load(open(\"temp_data/evidences_ids.json\", \"r\"))\n",
    "evidences_id_dict = json.load(open(\"temp_data/evidences_id_dict.json\", \"r\"))\n",
    "\n",
    "idx2word = json.load(open(\"temp_data/idx2word.json\", \"r\"))\n",
    "word2idx = json.load(open(\"temp_data/word2idx.json\", \"r\"))\n",
    "\n",
    "train_text_idx = json.load(open(\"temp_data/train_text_idx.json\", \"r\"))\n",
    "dev_text_idx = json.load(open(\"temp_data/dev_text_idx.json\", \"r\"))\n",
    "test_text_idx = json.load(open(\"temp_data/test_text_idx.json\", \"r\"))\n",
    "evidences_text_idx = json.load(open(\"temp_data/evidences_text_idx.json\", \"r\"))\n",
    "\n",
    "train_input = json.load(open(\"temp_data/train_input.json\", \"r\"))\n",
    "dev_input = json.load(open(\"temp_data/dev_input.json\", \"r\"))\n",
    "test_input = json.load(open(\"temp_data/test_input.json\", \"r\"))\n",
    "evidences_input = json.load(open(\"temp_data/evidences_input.json\", \"r\"))\n",
    "\n",
    "dev_sort_evidences = json.load(open(\"temp_data/dev_sort_evidences.json\", \"r\"))\n",
    "test_sort_evidences = json.load(open(\"temp_data/test_sort_evidences.json\", \"r\"))\n",
    "train_sort_evidences = json.load(open(\"temp_data/train_sort_evidences.json\", \"r\"))"
   ]
  },
  {
   "cell_type": "code",
   "execution_count": 84,
   "metadata": {
    "scrolled": true
   },
   "outputs": [
    {
     "name": "stdout",
     "output_type": "stream",
     "text": [
      "7075\n"
     ]
    }
   ],
   "source": [
    "vocab_size = len(idx2word)\n",
    "print(vocab_size)"
   ]
  },
  {
   "cell_type": "code",
   "execution_count": null,
   "metadata": {},
   "outputs": [],
   "source": []
  },
  {
   "cell_type": "code",
   "execution_count": 85,
   "metadata": {},
   "outputs": [],
   "source": [
    "from torch.utils.data import Dataset\n",
    "import random\n",
    "\n",
    "class TrainDataset(Dataset):\n",
    "    def __init__(self, text_input_data, evidence_input_data, tfidf_sort_evidences, evidence_label, negative_num=10):\n",
    "        self.text_input_data = text_input_data\n",
    "        self.evidence_input_data = evidence_input_data\n",
    "        self.tfidf_sort_evidences = tfidf_sort_evidences\n",
    "        self.evidence_label = evidence_label\n",
    "        self.negative_num = 10\n",
    "        self.evidence_len = len(evidence_input_data[0])\n",
    "        self.text_len = len(text_input_data[0])\n",
    "        \n",
    "    def __len__(self):\n",
    "        return len(self.text_input_data)\n",
    "\n",
    "    def __getitem__(self, idx):\n",
    "        # please note the negative evidences\n",
    "        return [self.text_input_data[idx], random.sample(self.tfidf_sort_evidences[idx][10: self.negative_num*10], self.negative_num), self.evidence_label[idx]]\n",
    "\n",
    "    def collate_fn(self, batch):\n",
    "        queries = []\n",
    "        queries_pos = []\n",
    "        evidences = []\n",
    "        temp_labels = []\n",
    "        \n",
    "        for i, j, k in batch:\n",
    "            queries.append(i)\n",
    "            queries_pos.append(list(range(self.text_len)))\n",
    "            temp_labels.append(k)    \n",
    "            evidences.extend(k + j)\n",
    "\n",
    "        evidences = list(set(evidences))\n",
    "        \n",
    "        evidences2idx = {}\n",
    "        for i, j in enumerate(evidences):\n",
    "            evidences2idx[j] = i\n",
    "        \n",
    "        labels = []\n",
    "        for i in temp_labels:\n",
    "            labels.append([evidences2idx[j] for j in i])\n",
    "            \n",
    "        evidences = [self.evidence_input_data[i] for i in evidences]\n",
    "        evidences_pos = [list(range(self.evidence_len)) for _ in range(len(evidences))]\n",
    "\n",
    "        batch_encoding = {}\n",
    "        batch_encoding[\"queries\"] = torch.LongTensor(queries)\n",
    "        batch_encoding[\"evidences\"] = torch.LongTensor(evidences)\n",
    "        \n",
    "        batch_encoding[\"queries_pos\"] = torch.LongTensor(queries_pos)\n",
    "        batch_encoding[\"evidences_pos\"] = torch.LongTensor(evidences_pos)\n",
    "        batch_encoding[\"labels\"] = labels\n",
    "        \n",
    "        return batch_encoding"
   ]
  },
  {
   "cell_type": "code",
   "execution_count": 86,
   "metadata": {},
   "outputs": [],
   "source": [
    "train_set = TrainDataset(train_input, evidences_input, train_sort_evidences, train_evidences, negative_num=1000)\n",
    "from torch.utils.data import DataLoader\n",
    "\n",
    "dataloader = DataLoader(train_set, batch_size=5, shuffle=True, num_workers=0, collate_fn=train_set.collate_fn)"
   ]
  },
  {
   "cell_type": "code",
   "execution_count": null,
   "metadata": {},
   "outputs": [],
   "source": []
  },
  {
   "cell_type": "markdown",
   "metadata": {
    "id": "1FA2ao2l8hOg"
   },
   "source": [
    "# 2. Model Implementation\n",
    "(You can add as many code blocks and text blocks as you need. However, YOU SHOULD NOT MODIFY the section title)"
   ]
  },
  {
   "cell_type": "code",
   "execution_count": 87,
   "metadata": {},
   "outputs": [],
   "source": [
    "# from workshop\n",
    "import torch\n",
    "import torch.nn as nn\n",
    "import torch.optim as optim\n",
    "import torch.nn.functional as F\n",
    "\n",
    "class Encoder(nn.Module):\n",
    "    def __init__(self, vocab_emb, embed_dim, hidden_size, nhead, num_layers, max_position=180):\n",
    "        super(Encoder, self).__init__()\n",
    "\n",
    "        self.hidden_size = hidden_size\n",
    "        self.embedding = nn.Embedding(vocab_emb, embed_dim)\n",
    "        self.pos_embedding = nn.Embedding(max_position, embed_dim)  # https://pytorch.org/tutorials/beginner/translation_transformer.html other method\n",
    "        \n",
    "        #encoder_layer = nn.TransformerEncoderLayer(d_model=hidden_size, nhead=nhead, batch_first=True)\n",
    "        #self.encoder = nn.TransformerEncoder(encoder_layer, num_layers=num_layers, norm=nn.LayerNorm(hidden_size))\n",
    "        self.encoder = nn.LSTM(embed_dim, hidden_size, num_layers=2,batch_first=True)\n",
    "\n",
    "    def forward(self, text_data, position_text):\n",
    "        mask_ = text_data == 0\n",
    "        text_x = self.embedding(text_data) + self.pos_embedding(position_text)\n",
    "        #x_encoded = self.encoder(text_x, src_key_padding_mask=mask_)  # https://zhuanlan.zhihu.com/p/353365423\n",
    "        x_encoded,_ = self.encoder(text_x)\n",
    "        return x_encoded"
   ]
  },
  {
   "cell_type": "code",
   "execution_count": 88,
   "metadata": {
    "scrolled": true
   },
   "outputs": [
    {
     "data": {
      "text/plain": [
       "Encoder(\n",
       "  (embedding): Embedding(7075, 512)\n",
       "  (pos_embedding): Embedding(180, 512)\n",
       "  (encoder): LSTM(512, 512, num_layers=2, batch_first=True)\n",
       ")"
      ]
     },
     "execution_count": 88,
     "metadata": {},
     "output_type": "execute_result"
    }
   ],
   "source": [
    "trans_encoder = Encoder(vocab_emb=vocab_size, embed_dim=512, hidden_size=512, nhead=8, num_layers=6, max_position=180)\n",
    "trans_encoder.cuda()"
   ]
  },
  {
   "cell_type": "code",
   "execution_count": 89,
   "metadata": {},
   "outputs": [],
   "source": [
    "def to_cuda(batch):\n",
    "    # for n in batch.keys():\n",
    "    #     if n != \"labels\":\n",
    "    #         batch[n] = batch[n].cuda()\n",
    "    ## TODO: you can use to define .cuda()\n",
    "    pass"
   ]
  },
  {
   "cell_type": "markdown",
   "metadata": {},
   "source": [
    "### Training"
   ]
  },
  {
   "cell_type": "code",
   "execution_count": 90,
   "metadata": {
    "scrolled": true
   },
   "outputs": [],
   "source": [
    "# from workshop but need to change because I add some speciall setting\n",
    "\n",
    "torch.manual_seed(42)\n",
    "torch.cuda.manual_seed_all(42)\n",
    "random.seed(42)\n",
    "\n",
    "encoder_optimizer = optim.Adam(trans_encoder.parameters())\n",
    "max_lr = 1e-2\n",
    "for param_group in encoder_optimizer.param_groups:\n",
    "    param_group['lr'] = max_lr\n",
    "\n",
    "accumulate_step = 2\n",
    "grad_norm = 0.1\n",
    "warmup_steps = 200\n",
    "report_freq = 10\n",
    "eval_interval = 50\n",
    "save_dir = \"model_ckpts\""
   ]
  },
  {
   "cell_type": "code",
   "execution_count": 91,
   "metadata": {},
   "outputs": [],
   "source": [
    "retrieval_num = 5\n",
    "dev_candis_num = 10\n",
    "\n",
    "def validate(dev_text_idx, evidence_text_idx, dev_sort_evidences, dev_evidences, encoder_model):\n",
    "    # get evidence embeddings\n",
    "    start_idx = 0\n",
    "    batch_size = 1000\n",
    "    evidence_len = len(evidence_text_idx[0])\n",
    "    text_len = len(dev_text_idx[0])\n",
    "    \n",
    "    evidence_embeddings = []\n",
    "    encoder_model.eval()\n",
    "    \n",
    "    while start_idx < len(evidence_text_idx):\n",
    "        end_idx = min(start_idx + batch_size, len(evidence_text_idx))\n",
    "        \n",
    "        cur_evidence = torch.LongTensor(evidence_text_idx[start_idx:end_idx]).view(-1, evidence_len).cuda()\n",
    "        cur_evidence_pos = torch.LongTensor([list(range(evidence_len)) for _ in range(end_idx - start_idx)]).cuda()\n",
    "        print()\n",
    "        cur_embedding = encoder_model(cur_evidence, cur_evidence_pos)\n",
    "        cur_embedding = cur_embedding[:, 0, :].detach()\n",
    "        cur_embedding_cpu = F.normalize(cur_embedding, p=2, dim=1).cpu()\n",
    "        del cur_embedding, cur_evidence, cur_evidence_pos\n",
    "        start_idx = end_idx\n",
    "        evidence_embeddings.append(cur_embedding_cpu)\n",
    "        \n",
    "    evidence_embeddings = torch.cat(evidence_embeddings, dim=0).t()\n",
    "    print(\"get all evidence embeddings!\")\n",
    "    f = []\n",
    "    \n",
    "    start_idx = 0\n",
    "    batch_size = 1000\n",
    "    \n",
    "    while start_idx < len(dev_text_idx):\n",
    "        end_idx = min(start_idx + batch_size, len(dev_text_idx))\n",
    "        \n",
    "        cur_query = torch.LongTensor(dev_text_idx[start_idx:end_idx]).view(-1, text_len).cuda()\n",
    "        cur_query_pos = torch.LongTensor([list(range(text_len)) for _ in range(end_idx - start_idx)]).cuda()\n",
    "\n",
    "        query_embedding = encoder_model(cur_query, cur_query_pos)\n",
    "        query_embedding = query_embedding[:, 0, :].detach()\n",
    "        query_embedding = F.normalize(query_embedding, p=2, dim=1).cpu()\n",
    "        \n",
    "        scores = torch.mm(query_embedding, evidence_embeddings)\n",
    "\n",
    "        for i in range(scores.size(0)):\n",
    "            new_score = torch.index_select(scores[i], 0, torch.LongTensor(dev_sort_evidences[start_idx+i][:dev_candis_num]))\n",
    "            topk_ids = torch.argsort(new_score).tolist()\n",
    "            select_ids = topk_ids[:retrieval_num]\n",
    "            \n",
    "            evidence_correct = 0\n",
    "            pred_evidences = [dev_sort_evidences[start_idx+i][j] for j in select_ids]\n",
    "            label = dev_evidences[start_idx+i]\n",
    "            for evidence_id in label:\n",
    "                if evidence_id in pred_evidences:\n",
    "                    evidence_correct += 1\n",
    "            if evidence_correct > 0:\n",
    "                evidence_recall = float(evidence_correct) / len(label)\n",
    "                evidence_precision = float(evidence_correct) / len(pred_evidences)\n",
    "                evidence_fscore = (2 * evidence_precision * evidence_recall) / (evidence_precision + evidence_recall)\n",
    "                print(evidence_fscore)\n",
    "            else:\n",
    "                evidence_fscore = 0\n",
    "            f.append(evidence_fscore)\n",
    "            \n",
    "        start_idx = end_idx\n",
    "        # print(\"----\")\n",
    "    fscore = np.mean(f)\n",
    "    print(\"\\n\")\n",
    "    print(\"Evidence Retrieval F-score: %.3f\" % fscore)\n",
    "    print(\"\\n\")\n",
    "    encoder_model.train()\n",
    "    return fscore"
   ]
  },
  {
   "cell_type": "code",
   "execution_count": 92,
   "metadata": {},
   "outputs": [
    {
     "name": "stdout",
     "output_type": "stream",
     "text": [
      "env: WANDB_NOTEBOOK_NAME=MelMoxue_NLP_retrieval.ipynb\n"
     ]
    }
   ],
   "source": [
    "%env WANDB_NOTEBOOK_NAME MelMoxue_NLP_retrieval.ipynb"
   ]
  },
  {
   "cell_type": "code",
   "execution_count": 35,
   "metadata": {},
   "outputs": [],
   "source": [
    "# import wandb\n",
    "# import sys\n",
    "# print(sys.path)\n",
    "# print(wandb.__path__)"
   ]
  },
  {
   "cell_type": "code",
   "execution_count": 93,
   "metadata": {
    "scrolled": true
   },
   "outputs": [
    {
     "data": {
      "text/html": [
       "Finishing last run (ID:sojuljg0) before initializing another..."
      ],
      "text/plain": [
       "<IPython.core.display.HTML object>"
      ]
     },
     "metadata": {},
     "output_type": "display_data"
    },
    {
     "data": {
      "text/html": [
       "<style>\n",
       "    table.wandb td:nth-child(1) { padding: 0 10px; text-align: left ; width: auto;} td:nth-child(2) {text-align: left ; width: 100%}\n",
       "    .wandb-row { display: flex; flex-direction: row; flex-wrap: wrap; justify-content: flex-start; width: 100% }\n",
       "    .wandb-col { display: flex; flex-direction: column; flex-basis: 100%; flex: 1; padding: 10px; }\n",
       "    </style>\n",
       "<div class=\"wandb-row\"><div class=\"wandb-col\"><h3>Run history:</h3><br/><table class=\"wandb\"><tr><td>f_score</td><td>▁▁▁▁▁▁▁▁▁▁▁▁</td></tr><tr><td>learning_rate</td><td>▁▁▂▂▃▄▄▅▅▆▇▇██████▇▇▇▇▇▇▇▇▇▆▆▆▆▆▆▆▆▆▅▅▅▅</td></tr><tr><td>loss</td><td>▆▆▅▅▇▇▅▆▂▆▄▄▆▆▇▅▂█▆▇▆▇▆▅▁▆▅▆▅▆▅▅▂█▆▇▄▆▅▄</td></tr></table><br/></div><div class=\"wandb-col\"><h3>Run summary:</h3><br/><table class=\"wandb\"><tr><td>f_score</td><td>0.07792</td></tr><tr><td>learning_rate</td><td>0.0059</td></tr><tr><td>loss</td><td>4.18025</td></tr></table><br/></div></div>"
      ],
      "text/plain": [
       "<IPython.core.display.HTML object>"
      ]
     },
     "metadata": {},
     "output_type": "display_data"
    },
    {
     "data": {
      "text/html": [
       " View run <strong style=\"color:#cdcd00\">dpr</strong> at: <a href='https://wandb.ai/damonz-deeplearning/nlp/runs/sojuljg0' target=\"_blank\">https://wandb.ai/damonz-deeplearning/nlp/runs/sojuljg0</a><br/> View project at: <a href='https://wandb.ai/damonz-deeplearning/nlp' target=\"_blank\">https://wandb.ai/damonz-deeplearning/nlp</a><br/>Synced 5 W&B file(s), 0 media file(s), 2 artifact file(s) and 0 other file(s)"
      ],
      "text/plain": [
       "<IPython.core.display.HTML object>"
      ]
     },
     "metadata": {},
     "output_type": "display_data"
    },
    {
     "data": {
      "text/html": [
       "Find logs at: <code>.\\wandb\\run-20240521_190423-sojuljg0\\logs</code>"
      ],
      "text/plain": [
       "<IPython.core.display.HTML object>"
      ]
     },
     "metadata": {},
     "output_type": "display_data"
    },
    {
     "data": {
      "text/html": [
       "Successfully finished last run (ID:sojuljg0). Initializing new run:<br/>"
      ],
      "text/plain": [
       "<IPython.core.display.HTML object>"
      ]
     },
     "metadata": {},
     "output_type": "display_data"
    },
    {
     "data": {
      "text/html": [
       "Tracking run with wandb version 0.17.0"
      ],
      "text/plain": [
       "<IPython.core.display.HTML object>"
      ]
     },
     "metadata": {},
     "output_type": "display_data"
    },
    {
     "data": {
      "text/html": [
       "Run data is saved locally in <code>f:\\Huafan\\UniMel\\Master\\Master_CodingBase\\COMP90042_NLP\\Synchronous-COMP90042-NLP\\ProjectPytorch\\wandb\\run-20240521_202106-n9w5qjiq</code>"
      ],
      "text/plain": [
       "<IPython.core.display.HTML object>"
      ]
     },
     "metadata": {},
     "output_type": "display_data"
    },
    {
     "data": {
      "text/html": [
       "Syncing run <strong><a href='https://wandb.ai/damonz-deeplearning/nlp/runs/n9w5qjiq' target=\"_blank\">dpr</a></strong> to <a href='https://wandb.ai/damonz-deeplearning/nlp' target=\"_blank\">Weights & Biases</a> (<a href='https://wandb.me/run' target=\"_blank\">docs</a>)<br/>"
      ],
      "text/plain": [
       "<IPython.core.display.HTML object>"
      ]
     },
     "metadata": {},
     "output_type": "display_data"
    },
    {
     "data": {
      "text/html": [
       " View project at <a href='https://wandb.ai/damonz-deeplearning/nlp' target=\"_blank\">https://wandb.ai/damonz-deeplearning/nlp</a>"
      ],
      "text/plain": [
       "<IPython.core.display.HTML object>"
      ]
     },
     "metadata": {},
     "output_type": "display_data"
    },
    {
     "data": {
      "text/html": [
       " View run at <a href='https://wandb.ai/damonz-deeplearning/nlp/runs/n9w5qjiq' target=\"_blank\">https://wandb.ai/damonz-deeplearning/nlp/runs/n9w5qjiq</a>"
      ],
      "text/plain": [
       "<IPython.core.display.HTML object>"
      ]
     },
     "metadata": {},
     "output_type": "display_data"
    },
    {
     "name": "stderr",
     "output_type": "stream",
     "text": [
      "  9%|▉         | 23/246 [00:01<00:10, 20.33it/s]"
     ]
    },
    {
     "name": "stdout",
     "output_type": "stream",
     "text": [
      "\n",
      "\n",
      "epoch: 1, epoch_step: 10, avg loss: nan\n",
      "learning rate: 0.000500\n",
      "\n",
      "\n"
     ]
    },
    {
     "name": "stderr",
     "output_type": "stream",
     "text": [
      " 17%|█▋        | 41/246 [00:02<00:09, 21.51it/s]"
     ]
    },
    {
     "name": "stdout",
     "output_type": "stream",
     "text": [
      "\n",
      "\n",
      "epoch: 1, epoch_step: 20, avg loss: nan\n",
      "learning rate: 0.001000\n",
      "\n",
      "\n"
     ]
    },
    {
     "name": "stderr",
     "output_type": "stream",
     "text": [
      " 25%|██▌       | 62/246 [00:03<00:08, 20.78it/s]"
     ]
    },
    {
     "name": "stdout",
     "output_type": "stream",
     "text": [
      "\n",
      "\n",
      "epoch: 1, epoch_step: 30, avg loss: nan\n",
      "learning rate: 0.001500\n",
      "\n",
      "\n"
     ]
    },
    {
     "name": "stderr",
     "output_type": "stream",
     "text": [
      " 34%|███▎      | 83/246 [00:04<00:08, 20.15it/s]"
     ]
    },
    {
     "name": "stdout",
     "output_type": "stream",
     "text": [
      "\n",
      "\n",
      "epoch: 1, epoch_step: 40, avg loss: nan\n",
      "learning rate: 0.002000\n",
      "\n",
      "\n"
     ]
    },
    {
     "name": "stderr",
     "output_type": "stream",
     "text": [
      " 40%|███▉      | 98/246 [00:04<00:07, 20.83it/s]"
     ]
    },
    {
     "name": "stdout",
     "output_type": "stream",
     "text": [
      "\n",
      "\n",
      "epoch: 1, epoch_step: 50, avg loss: nan\n",
      "learning rate: 0.002500\n",
      "\n",
      "\n",
      "\n",
      "Evaluate:\n",
      "\n",
      "\n",
      "\n",
      "\n",
      "\n",
      "\n",
      "\n",
      "\n",
      "\n",
      "\n",
      "\n",
      "\n",
      "\n",
      "\n",
      "\n",
      "\n",
      "\n",
      "\n",
      "\n",
      "\n",
      "\n",
      "\n",
      "\n",
      "\n",
      "\n",
      "\n",
      "\n",
      "\n",
      "\n",
      "\n",
      "\n",
      "\n",
      "\n",
      "\n",
      "\n",
      "\n",
      "\n",
      "\n",
      "\n",
      "\n",
      "\n",
      "\n",
      "\n",
      "\n",
      "\n",
      "\n",
      "\n",
      "\n",
      "\n",
      "\n",
      "\n",
      "\n",
      "\n",
      "\n",
      "\n",
      "\n",
      "get all evidence embeddings!\n",
      "0.22222222222222224\n",
      "0.28571428571428575\n",
      "0.33333333333333337\n",
      "0.22222222222222224\n",
      "0.33333333333333337\n",
      "0.28571428571428575\n",
      "0.28571428571428575\n",
      "0.20000000000000004\n",
      "0.5714285714285715\n",
      "0.33333333333333337\n",
      "0.33333333333333337\n",
      "0.33333333333333337\n",
      "0.33333333333333337\n",
      "0.20000000000000004\n",
      "0.33333333333333337\n",
      "0.33333333333333337\n",
      "0.28571428571428575\n",
      "0.33333333333333337\n",
      "0.33333333333333337\n",
      "0.25\n",
      "0.20000000000000004\n",
      "0.33333333333333337\n",
      "0.28571428571428575\n",
      "0.4000000000000001\n",
      "0.28571428571428575\n",
      "0.28571428571428575\n",
      "\n",
      "\n",
      "Evidence Retrieval F-score: 0.052\n",
      "\n",
      "\n"
     ]
    },
    {
     "name": "stderr",
     "output_type": "stream",
     "text": [
      " 41%|████      | 101/246 [00:11<01:35,  1.52it/s]"
     ]
    },
    {
     "name": "stdout",
     "output_type": "stream",
     "text": [
      "\n",
      "\n",
      "best val loss - epoch: 0, epoch_step: 50\n",
      "maximum_f_score 0.05150999793856938\n",
      "\n",
      "\n"
     ]
    },
    {
     "name": "stderr",
     "output_type": "stream",
     "text": [
      " 50%|████▉     | 122/246 [00:12<00:12, 10.09it/s]"
     ]
    },
    {
     "name": "stdout",
     "output_type": "stream",
     "text": [
      "\n",
      "\n",
      "epoch: 1, epoch_step: 60, avg loss: nan\n",
      "learning rate: 0.003000\n",
      "\n",
      "\n"
     ]
    },
    {
     "name": "stderr",
     "output_type": "stream",
     "text": [
      " 58%|█████▊    | 143/246 [00:13<00:05, 20.00it/s]"
     ]
    },
    {
     "name": "stdout",
     "output_type": "stream",
     "text": [
      "\n",
      "\n",
      "epoch: 1, epoch_step: 70, avg loss: nan\n",
      "learning rate: 0.003500\n",
      "\n",
      "\n"
     ]
    },
    {
     "name": "stderr",
     "output_type": "stream",
     "text": [
      " 65%|██████▌   | 161/246 [00:13<00:04, 20.76it/s]"
     ]
    },
    {
     "name": "stdout",
     "output_type": "stream",
     "text": [
      "\n",
      "\n",
      "epoch: 1, epoch_step: 80, avg loss: nan\n",
      "learning rate: 0.004000\n",
      "\n",
      "\n"
     ]
    },
    {
     "name": "stderr",
     "output_type": "stream",
     "text": [
      " 74%|███████▍  | 182/246 [00:14<00:02, 21.77it/s]"
     ]
    },
    {
     "name": "stdout",
     "output_type": "stream",
     "text": [
      "\n",
      "\n",
      "epoch: 1, epoch_step: 90, avg loss: nan\n",
      "learning rate: 0.004500\n",
      "\n",
      "\n"
     ]
    },
    {
     "name": "stderr",
     "output_type": "stream",
     "text": [
      " 80%|████████  | 197/246 [00:15<00:02, 20.84it/s]"
     ]
    },
    {
     "name": "stdout",
     "output_type": "stream",
     "text": [
      "\n",
      "\n",
      "epoch: 1, epoch_step: 100, avg loss: nan\n",
      "learning rate: 0.005000\n",
      "\n",
      "\n",
      "\n",
      "Evaluate:\n",
      "\n",
      "\n",
      "\n",
      "\n",
      "\n",
      "\n",
      "\n",
      "\n",
      "\n",
      "\n",
      "\n",
      "\n",
      "\n",
      "\n",
      "\n",
      "\n",
      "\n",
      "\n",
      "\n",
      "\n",
      "\n",
      "\n",
      "\n",
      "\n",
      "\n",
      "\n",
      "\n",
      "\n",
      "\n",
      "\n",
      "\n",
      "\n",
      "\n",
      "\n",
      "\n",
      "\n",
      "\n",
      "\n",
      "\n",
      "\n",
      "\n",
      "\n",
      "\n",
      "\n",
      "\n",
      "\n",
      "\n",
      "\n",
      "\n",
      "\n",
      "\n",
      "\n",
      "\n",
      "\n",
      "\n",
      "\n",
      "get all evidence embeddings!\n",
      "0.22222222222222224\n",
      "0.28571428571428575\n",
      "0.33333333333333337\n",
      "0.22222222222222224\n",
      "0.33333333333333337\n",
      "0.28571428571428575\n",
      "0.28571428571428575\n",
      "0.20000000000000004\n",
      "0.5714285714285715\n",
      "0.33333333333333337\n",
      "0.33333333333333337\n",
      "0.33333333333333337\n",
      "0.33333333333333337\n",
      "0.20000000000000004\n",
      "0.33333333333333337\n",
      "0.33333333333333337\n",
      "0.28571428571428575\n",
      "0.33333333333333337\n",
      "0.33333333333333337\n",
      "0.25\n",
      "0.20000000000000004\n",
      "0.33333333333333337\n",
      "0.28571428571428575\n",
      "0.4000000000000001\n",
      "0.28571428571428575\n",
      "0.28571428571428575\n",
      "\n",
      "\n",
      "Evidence Retrieval F-score: 0.052\n",
      "\n",
      "\n"
     ]
    },
    {
     "name": "stderr",
     "output_type": "stream",
     "text": [
      " 90%|████████▉ | 221/246 [00:22<00:02, 10.36it/s]"
     ]
    },
    {
     "name": "stdout",
     "output_type": "stream",
     "text": [
      "\n",
      "\n",
      "epoch: 1, epoch_step: 110, avg loss: nan\n",
      "learning rate: 0.005500\n",
      "\n",
      "\n"
     ]
    },
    {
     "name": "stderr",
     "output_type": "stream",
     "text": [
      " 98%|█████████▊| 242/246 [00:23<00:00, 18.28it/s]"
     ]
    },
    {
     "name": "stdout",
     "output_type": "stream",
     "text": [
      "\n",
      "\n",
      "epoch: 1, epoch_step: 120, avg loss: nan\n",
      "learning rate: 0.006000\n",
      "\n",
      "\n"
     ]
    },
    {
     "name": "stderr",
     "output_type": "stream",
     "text": [
      "100%|██████████| 246/246 [00:24<00:00, 10.24it/s]\n",
      "  6%|▌         | 15/246 [00:00<00:10, 21.49it/s]"
     ]
    },
    {
     "name": "stdout",
     "output_type": "stream",
     "text": [
      "\n",
      "\n",
      "epoch: 2, epoch_step: 7, avg loss: nan\n",
      "learning rate: 0.006500\n",
      "\n",
      "\n"
     ]
    },
    {
     "name": "stderr",
     "output_type": "stream",
     "text": [
      " 15%|█▍        | 36/246 [00:01<00:10, 20.44it/s]"
     ]
    },
    {
     "name": "stdout",
     "output_type": "stream",
     "text": [
      "\n",
      "\n",
      "epoch: 2, epoch_step: 17, avg loss: nan\n",
      "learning rate: 0.007000\n",
      "\n",
      "\n"
     ]
    },
    {
     "name": "stderr",
     "output_type": "stream",
     "text": [
      " 21%|██        | 51/246 [00:02<00:09, 21.57it/s]"
     ]
    },
    {
     "name": "stdout",
     "output_type": "stream",
     "text": [
      "\n",
      "\n",
      "epoch: 2, epoch_step: 27, avg loss: nan\n",
      "learning rate: 0.007500\n",
      "\n",
      "\n",
      "\n",
      "Evaluate:\n",
      "\n",
      "\n",
      "\n",
      "\n",
      "\n",
      "\n",
      "\n",
      "\n",
      "\n",
      "\n",
      "\n",
      "\n",
      "\n",
      "\n",
      "\n",
      "\n",
      "\n",
      "\n",
      "\n",
      "\n",
      "\n",
      "\n",
      "\n",
      "\n",
      "\n",
      "\n",
      "\n",
      "\n",
      "\n",
      "\n",
      "\n",
      "\n",
      "\n",
      "\n",
      "\n",
      "\n",
      "\n",
      "\n",
      "\n",
      "\n",
      "\n",
      "\n",
      "\n",
      "\n",
      "\n",
      "\n",
      "\n",
      "\n",
      "\n",
      "\n",
      "\n",
      "\n",
      "\n",
      "\n",
      "\n",
      "\n",
      "get all evidence embeddings!\n",
      "0.22222222222222224\n",
      "0.28571428571428575\n",
      "0.33333333333333337\n",
      "0.22222222222222224\n",
      "0.33333333333333337\n",
      "0.28571428571428575\n",
      "0.28571428571428575\n",
      "0.20000000000000004\n",
      "0.5714285714285715\n",
      "0.33333333333333337\n",
      "0.33333333333333337\n",
      "0.33333333333333337\n",
      "0.33333333333333337\n",
      "0.20000000000000004\n",
      "0.33333333333333337\n",
      "0.33333333333333337\n",
      "0.28571428571428575\n",
      "0.33333333333333337\n",
      "0.33333333333333337\n",
      "0.25\n",
      "0.20000000000000004\n",
      "0.33333333333333337\n",
      "0.28571428571428575\n",
      "0.4000000000000001\n",
      "0.28571428571428575\n",
      "0.28571428571428575\n",
      "\n",
      "\n",
      "Evidence Retrieval F-score: 0.052\n",
      "\n",
      "\n"
     ]
    },
    {
     "name": "stderr",
     "output_type": "stream",
     "text": [
      " 31%|███       | 76/246 [00:09<00:14, 11.72it/s]"
     ]
    },
    {
     "name": "stdout",
     "output_type": "stream",
     "text": [
      "\n",
      "\n",
      "epoch: 2, epoch_step: 37, avg loss: nan\n",
      "learning rate: 0.008000\n",
      "\n",
      "\n"
     ]
    },
    {
     "name": "stderr",
     "output_type": "stream",
     "text": [
      " 39%|███▉      | 97/246 [00:10<00:07, 19.14it/s]"
     ]
    },
    {
     "name": "stdout",
     "output_type": "stream",
     "text": [
      "\n",
      "\n",
      "epoch: 2, epoch_step: 47, avg loss: nan\n",
      "learning rate: 0.008500\n",
      "\n",
      "\n"
     ]
    },
    {
     "name": "stderr",
     "output_type": "stream",
     "text": [
      " 48%|████▊     | 118/246 [00:11<00:05, 23.76it/s]"
     ]
    },
    {
     "name": "stdout",
     "output_type": "stream",
     "text": [
      "\n",
      "\n",
      "epoch: 2, epoch_step: 57, avg loss: nan\n",
      "learning rate: 0.009000\n",
      "\n",
      "\n"
     ]
    },
    {
     "name": "stderr",
     "output_type": "stream",
     "text": [
      " 55%|█████▌    | 136/246 [00:12<00:05, 21.06it/s]"
     ]
    },
    {
     "name": "stdout",
     "output_type": "stream",
     "text": [
      "\n",
      "\n",
      "epoch: 2, epoch_step: 67, avg loss: nan\n",
      "learning rate: 0.009500\n",
      "\n",
      "\n"
     ]
    },
    {
     "name": "stderr",
     "output_type": "stream",
     "text": [
      " 61%|██████▏   | 151/246 [00:13<00:04, 21.03it/s]"
     ]
    },
    {
     "name": "stdout",
     "output_type": "stream",
     "text": [
      "\n",
      "\n",
      "epoch: 2, epoch_step: 77, avg loss: nan\n",
      "learning rate: 0.010000\n",
      "\n",
      "\n",
      "\n",
      "Evaluate:\n",
      "\n",
      "\n",
      "\n",
      "\n",
      "\n",
      "\n",
      "\n",
      "\n",
      "\n",
      "\n",
      "\n",
      "\n",
      "\n",
      "\n",
      "\n",
      "\n",
      "\n",
      "\n",
      "\n",
      "\n",
      "\n",
      "\n",
      "\n",
      "\n",
      "\n",
      "\n",
      "\n",
      "\n",
      "\n",
      "\n",
      "\n",
      "\n",
      "\n",
      "\n",
      "\n",
      "\n",
      "\n",
      "\n",
      "\n",
      "\n",
      "\n",
      "\n",
      "\n",
      "\n",
      "\n",
      "\n",
      "\n",
      "\n",
      "\n",
      "\n",
      "\n",
      "\n",
      "\n",
      "\n",
      "\n",
      "\n"
     ]
    },
    {
     "name": "stderr",
     "output_type": "stream",
     "text": [
      " 63%|██████▎   | 154/246 [00:19<01:00,  1.52it/s]"
     ]
    },
    {
     "name": "stdout",
     "output_type": "stream",
     "text": [
      "get all evidence embeddings!\n",
      "0.22222222222222224\n",
      "0.28571428571428575\n",
      "0.33333333333333337\n",
      "0.22222222222222224\n",
      "0.33333333333333337\n",
      "0.28571428571428575\n",
      "0.28571428571428575\n",
      "0.20000000000000004\n",
      "0.5714285714285715\n",
      "0.33333333333333337\n",
      "0.33333333333333337\n",
      "0.33333333333333337\n",
      "0.33333333333333337\n",
      "0.20000000000000004\n",
      "0.33333333333333337\n",
      "0.33333333333333337\n",
      "0.28571428571428575\n",
      "0.33333333333333337\n",
      "0.33333333333333337\n",
      "0.25\n",
      "0.20000000000000004\n",
      "0.33333333333333337\n",
      "0.28571428571428575\n",
      "0.4000000000000001\n",
      "0.28571428571428575\n",
      "0.28571428571428575\n",
      "\n",
      "\n",
      "Evidence Retrieval F-score: 0.052\n",
      "\n",
      "\n"
     ]
    },
    {
     "name": "stderr",
     "output_type": "stream",
     "text": [
      " 72%|███████▏  | 176/246 [00:20<00:06, 11.65it/s]"
     ]
    },
    {
     "name": "stdout",
     "output_type": "stream",
     "text": [
      "\n",
      "\n",
      "epoch: 2, epoch_step: 87, avg loss: nan\n",
      "learning rate: 0.009900\n",
      "\n",
      "\n"
     ]
    },
    {
     "name": "stderr",
     "output_type": "stream",
     "text": [
      " 80%|████████  | 197/246 [00:21<00:02, 20.31it/s]"
     ]
    },
    {
     "name": "stdout",
     "output_type": "stream",
     "text": [
      "\n",
      "\n",
      "epoch: 2, epoch_step: 97, avg loss: nan\n",
      "learning rate: 0.009800\n",
      "\n",
      "\n"
     ]
    },
    {
     "name": "stderr",
     "output_type": "stream",
     "text": [
      " 87%|████████▋ | 215/246 [00:22<00:01, 20.13it/s]"
     ]
    },
    {
     "name": "stdout",
     "output_type": "stream",
     "text": [
      "\n",
      "\n",
      "epoch: 2, epoch_step: 107, avg loss: nan\n",
      "learning rate: 0.009700\n",
      "\n",
      "\n"
     ]
    },
    {
     "name": "stderr",
     "output_type": "stream",
     "text": [
      " 96%|█████████▌| 236/246 [00:23<00:00, 22.27it/s]"
     ]
    },
    {
     "name": "stdout",
     "output_type": "stream",
     "text": [
      "\n",
      "\n",
      "epoch: 2, epoch_step: 117, avg loss: nan\n",
      "learning rate: 0.009600\n",
      "\n",
      "\n"
     ]
    },
    {
     "name": "stderr",
     "output_type": "stream",
     "text": [
      "100%|██████████| 246/246 [00:23<00:00, 10.34it/s]\n",
      "  2%|▏         | 6/246 [00:00<00:11, 20.70it/s]"
     ]
    },
    {
     "name": "stdout",
     "output_type": "stream",
     "text": [
      "\n",
      "\n",
      "epoch: 3, epoch_step: 4, avg loss: nan\n",
      "learning rate: 0.009500\n",
      "\n",
      "\n",
      "\n",
      "Evaluate:\n",
      "\n",
      "\n",
      "\n",
      "\n",
      "\n",
      "\n",
      "\n",
      "\n",
      "\n",
      "\n",
      "\n",
      "\n",
      "\n",
      "\n",
      "\n",
      "\n",
      "\n",
      "\n",
      "\n",
      "\n",
      "\n",
      "\n",
      "\n",
      "\n",
      "\n",
      "\n",
      "\n",
      "\n",
      "\n",
      "\n",
      "\n",
      "\n",
      "\n",
      "\n",
      "\n",
      "\n",
      "\n",
      "\n",
      "\n",
      "\n",
      "\n",
      "\n",
      "\n",
      "\n",
      "\n",
      "\n",
      "\n",
      "\n",
      "\n",
      "\n",
      "\n",
      "\n",
      "\n",
      "\n",
      "\n"
     ]
    },
    {
     "name": "stderr",
     "output_type": "stream",
     "text": [
      "  4%|▎         | 9/246 [00:06<03:51,  1.02it/s]"
     ]
    },
    {
     "name": "stdout",
     "output_type": "stream",
     "text": [
      "\n",
      "get all evidence embeddings!\n",
      "0.22222222222222224\n",
      "0.28571428571428575\n",
      "0.33333333333333337\n",
      "0.22222222222222224\n",
      "0.33333333333333337\n",
      "0.28571428571428575\n",
      "0.28571428571428575\n",
      "0.20000000000000004\n",
      "0.5714285714285715\n",
      "0.33333333333333337\n",
      "0.33333333333333337\n",
      "0.33333333333333337\n",
      "0.33333333333333337\n",
      "0.20000000000000004\n",
      "0.33333333333333337\n",
      "0.33333333333333337\n",
      "0.28571428571428575\n",
      "0.33333333333333337\n",
      "0.33333333333333337\n",
      "0.25\n",
      "0.20000000000000004\n",
      "0.33333333333333337\n",
      "0.28571428571428575\n",
      "0.4000000000000001\n",
      "0.28571428571428575\n",
      "0.28571428571428575\n",
      "\n",
      "\n",
      "Evidence Retrieval F-score: 0.052\n",
      "\n",
      "\n"
     ]
    },
    {
     "name": "stderr",
     "output_type": "stream",
     "text": [
      " 12%|█▏        | 30/246 [00:07<00:21, 10.09it/s]"
     ]
    },
    {
     "name": "stdout",
     "output_type": "stream",
     "text": [
      "\n",
      "\n",
      "epoch: 3, epoch_step: 14, avg loss: nan\n",
      "learning rate: 0.009400\n",
      "\n",
      "\n"
     ]
    },
    {
     "name": "stderr",
     "output_type": "stream",
     "text": [
      " 21%|██        | 51/246 [00:08<00:10, 19.42it/s]"
     ]
    },
    {
     "name": "stdout",
     "output_type": "stream",
     "text": [
      "\n",
      "\n",
      "epoch: 3, epoch_step: 24, avg loss: nan\n",
      "learning rate: 0.009300\n",
      "\n",
      "\n"
     ]
    },
    {
     "name": "stderr",
     "output_type": "stream",
     "text": [
      " 29%|██▉       | 72/246 [00:09<00:08, 21.02it/s]"
     ]
    },
    {
     "name": "stdout",
     "output_type": "stream",
     "text": [
      "\n",
      "\n",
      "epoch: 3, epoch_step: 34, avg loss: nan\n",
      "learning rate: 0.009200\n",
      "\n",
      "\n"
     ]
    },
    {
     "name": "stderr",
     "output_type": "stream",
     "text": [
      " 37%|███▋      | 90/246 [00:10<00:07, 20.96it/s]"
     ]
    },
    {
     "name": "stdout",
     "output_type": "stream",
     "text": [
      "\n",
      "\n",
      "epoch: 3, epoch_step: 44, avg loss: nan\n",
      "learning rate: 0.009100\n",
      "\n",
      "\n"
     ]
    },
    {
     "name": "stderr",
     "output_type": "stream",
     "text": [
      " 43%|████▎     | 105/246 [00:11<00:06, 20.83it/s]"
     ]
    },
    {
     "name": "stdout",
     "output_type": "stream",
     "text": [
      "\n",
      "\n",
      "epoch: 3, epoch_step: 54, avg loss: nan\n",
      "learning rate: 0.009000\n",
      "\n",
      "\n",
      "\n",
      "Evaluate:\n",
      "\n",
      "\n",
      "\n",
      "\n",
      "\n",
      "\n",
      "\n",
      "\n",
      "\n",
      "\n",
      "\n",
      "\n",
      "\n",
      "\n",
      "\n",
      "\n",
      "\n",
      "\n",
      "\n",
      "\n",
      "\n",
      "\n",
      "\n",
      "\n",
      "\n",
      "\n",
      "\n",
      "\n",
      "\n",
      "\n",
      "\n",
      "\n",
      "\n",
      "\n",
      "\n",
      "\n",
      "\n",
      "\n",
      "\n",
      "\n",
      "\n",
      "\n",
      "\n",
      "\n",
      "\n",
      "\n",
      "\n",
      "\n",
      "\n",
      "\n",
      "\n",
      "\n",
      "\n",
      "\n",
      "\n",
      "\n",
      "get all evidence embeddings!\n",
      "0.22222222222222224\n",
      "0.28571428571428575\n",
      "0.33333333333333337\n",
      "0.22222222222222224\n",
      "0.33333333333333337\n",
      "0.28571428571428575\n",
      "0.28571428571428575\n",
      "0.20000000000000004\n",
      "0.5714285714285715\n",
      "0.33333333333333337\n",
      "0.33333333333333337\n",
      "0.33333333333333337\n",
      "0.33333333333333337\n",
      "0.20000000000000004\n",
      "0.33333333333333337\n",
      "0.33333333333333337\n",
      "0.28571428571428575\n",
      "0.33333333333333337\n",
      "0.33333333333333337\n",
      "0.25\n",
      "0.20000000000000004\n",
      "0.33333333333333337\n"
     ]
    },
    {
     "name": "stderr",
     "output_type": "stream",
     "text": [
      " 45%|████▌     | 111/246 [00:17<01:04,  2.11it/s]"
     ]
    },
    {
     "name": "stdout",
     "output_type": "stream",
     "text": [
      "0.28571428571428575\n",
      "0.4000000000000001\n",
      "0.28571428571428575\n",
      "0.28571428571428575\n",
      "\n",
      "\n",
      "Evidence Retrieval F-score: 0.052\n",
      "\n",
      "\n"
     ]
    },
    {
     "name": "stderr",
     "output_type": "stream",
     "text": [
      " 53%|█████▎    | 131/246 [00:18<00:09, 12.33it/s]"
     ]
    },
    {
     "name": "stdout",
     "output_type": "stream",
     "text": [
      "\n",
      "\n",
      "epoch: 3, epoch_step: 64, avg loss: nan\n",
      "learning rate: 0.008900\n",
      "\n",
      "\n"
     ]
    },
    {
     "name": "stderr",
     "output_type": "stream",
     "text": [
      " 61%|██████    | 149/246 [00:19<00:05, 18.61it/s]"
     ]
    },
    {
     "name": "stdout",
     "output_type": "stream",
     "text": [
      "\n",
      "\n",
      "epoch: 3, epoch_step: 74, avg loss: nan\n",
      "learning rate: 0.008800\n",
      "\n",
      "\n"
     ]
    },
    {
     "name": "stderr",
     "output_type": "stream",
     "text": [
      " 69%|██████▉   | 170/246 [00:20<00:03, 21.23it/s]"
     ]
    },
    {
     "name": "stdout",
     "output_type": "stream",
     "text": [
      "\n",
      "\n",
      "epoch: 3, epoch_step: 84, avg loss: nan\n",
      "learning rate: 0.008700\n",
      "\n",
      "\n"
     ]
    },
    {
     "name": "stderr",
     "output_type": "stream",
     "text": [
      " 78%|███████▊  | 191/246 [00:21<00:02, 20.73it/s]"
     ]
    },
    {
     "name": "stdout",
     "output_type": "stream",
     "text": [
      "\n",
      "\n",
      "epoch: 3, epoch_step: 94, avg loss: nan\n",
      "learning rate: 0.008600\n",
      "\n",
      "\n"
     ]
    },
    {
     "name": "stderr",
     "output_type": "stream",
     "text": [
      " 84%|████████▎ | 206/246 [00:22<00:01, 21.39it/s]"
     ]
    },
    {
     "name": "stdout",
     "output_type": "stream",
     "text": [
      "\n",
      "\n",
      "epoch: 3, epoch_step: 104, avg loss: nan\n",
      "learning rate: 0.008500\n",
      "\n",
      "\n",
      "\n",
      "Evaluate:\n",
      "\n",
      "\n",
      "\n",
      "\n",
      "\n",
      "\n",
      "\n",
      "\n",
      "\n",
      "\n",
      "\n",
      "\n",
      "\n",
      "\n",
      "\n",
      "\n",
      "\n",
      "\n",
      "\n",
      "\n",
      "\n",
      "\n",
      "\n",
      "\n",
      "\n",
      "\n",
      "\n",
      "\n",
      "\n",
      "\n",
      "\n",
      "\n",
      "\n",
      "\n",
      "\n",
      "\n",
      "\n",
      "\n",
      "\n",
      "\n",
      "\n",
      "\n",
      "\n",
      "\n",
      "\n",
      "\n",
      "\n",
      "\n",
      "\n",
      "\n",
      "\n",
      "\n",
      "\n",
      "\n",
      "\n",
      "\n",
      "get all evidence embeddings!\n",
      "0.22222222222222224\n",
      "0.28571428571428575\n",
      "0.33333333333333337\n",
      "0.22222222222222224\n",
      "0.33333333333333337\n",
      "0.28571428571428575\n",
      "0.28571428571428575\n",
      "0.20000000000000004\n",
      "0.5714285714285715\n",
      "0.33333333333333337\n",
      "0.33333333333333337\n",
      "0.33333333333333337\n",
      "0.33333333333333337\n",
      "0.20000000000000004\n",
      "0.33333333333333337\n",
      "0.33333333333333337\n",
      "0.28571428571428575\n",
      "0.33333333333333337\n",
      "0.33333333333333337\n",
      "0.25\n",
      "0.20000000000000004\n",
      "0.33333333333333337\n",
      "0.28571428571428575\n",
      "0.4000000000000001\n",
      "0.28571428571428575\n",
      "0.28571428571428575\n",
      "\n",
      "\n",
      "Evidence Retrieval F-score: 0.052\n",
      "\n",
      "\n"
     ]
    },
    {
     "name": "stderr",
     "output_type": "stream",
     "text": [
      " 93%|█████████▎| 230/246 [00:28<00:01, 10.95it/s]"
     ]
    },
    {
     "name": "stdout",
     "output_type": "stream",
     "text": [
      "\n",
      "\n",
      "epoch: 3, epoch_step: 114, avg loss: nan\n",
      "learning rate: 0.008400\n",
      "\n",
      "\n"
     ]
    },
    {
     "name": "stderr",
     "output_type": "stream",
     "text": [
      "100%|██████████| 246/246 [00:29<00:00,  8.37it/s]\n",
      "  2%|▏         | 6/246 [00:00<00:09, 25.16it/s]"
     ]
    },
    {
     "name": "stdout",
     "output_type": "stream",
     "text": [
      "\n",
      "\n",
      "epoch: 4, epoch_step: 1, avg loss: nan\n",
      "learning rate: 0.008300\n",
      "\n",
      "\n"
     ]
    },
    {
     "name": "stderr",
     "output_type": "stream",
     "text": [
      " 10%|▉         | 24/246 [00:01<00:09, 23.33it/s]"
     ]
    },
    {
     "name": "stdout",
     "output_type": "stream",
     "text": [
      "\n",
      "\n",
      "epoch: 4, epoch_step: 11, avg loss: nan\n",
      "learning rate: 0.008200\n",
      "\n",
      "\n"
     ]
    },
    {
     "name": "stderr",
     "output_type": "stream",
     "text": [
      " 18%|█▊        | 45/246 [00:01<00:08, 23.19it/s]"
     ]
    },
    {
     "name": "stdout",
     "output_type": "stream",
     "text": [
      "\n",
      "\n",
      "epoch: 4, epoch_step: 21, avg loss: nan\n",
      "learning rate: 0.008100\n",
      "\n",
      "\n"
     ]
    },
    {
     "name": "stderr",
     "output_type": "stream",
     "text": [
      " 24%|██▍       | 60/246 [00:02<00:08, 22.95it/s]"
     ]
    },
    {
     "name": "stdout",
     "output_type": "stream",
     "text": [
      "\n",
      "\n",
      "epoch: 4, epoch_step: 31, avg loss: nan\n",
      "learning rate: 0.008000\n",
      "\n",
      "\n",
      "\n",
      "Evaluate:\n",
      "\n",
      "\n",
      "\n",
      "\n",
      "\n",
      "\n",
      "\n",
      "\n",
      "\n",
      "\n",
      "\n",
      "\n",
      "\n",
      "\n",
      "\n",
      "\n",
      "\n",
      "\n",
      "\n",
      "\n",
      "\n",
      "\n",
      "\n",
      "\n",
      "\n",
      "\n",
      "\n",
      "\n",
      "\n",
      "\n",
      "\n",
      "\n",
      "\n",
      "\n",
      "\n",
      "\n",
      "\n",
      "\n",
      "\n",
      "\n",
      "\n",
      "\n",
      "\n",
      "\n",
      "\n",
      "\n",
      "\n",
      "\n",
      "\n",
      "\n",
      "\n",
      "\n",
      "\n",
      "\n",
      "\n",
      "\n",
      "get all evidence embeddings!\n",
      "0.22222222222222224\n",
      "0.28571428571428575\n",
      "0.33333333333333337\n",
      "0.22222222222222224\n",
      "0.33333333333333337\n",
      "0.28571428571428575\n",
      "0.28571428571428575\n",
      "0.20000000000000004\n",
      "0.5714285714285715\n",
      "0.33333333333333337\n",
      "0.33333333333333337\n",
      "0.33333333333333337\n",
      "0.33333333333333337\n",
      "0.20000000000000004\n",
      "0.33333333333333337\n",
      "0.33333333333333337\n",
      "0.28571428571428575\n",
      "0.33333333333333337\n",
      "0.33333333333333337\n",
      "0.25\n",
      "0.20000000000000004\n",
      "0.33333333333333337\n",
      "0.28571428571428575\n",
      "0.4000000000000001\n",
      "0.28571428571428575\n",
      "0.28571428571428575\n",
      "\n",
      "\n",
      "Evidence Retrieval F-score: 0.052\n",
      "\n",
      "\n"
     ]
    },
    {
     "name": "stderr",
     "output_type": "stream",
     "text": [
      " 34%|███▍      | 84/246 [00:09<00:15, 10.47it/s]"
     ]
    },
    {
     "name": "stdout",
     "output_type": "stream",
     "text": [
      "\n",
      "\n",
      "epoch: 4, epoch_step: 41, avg loss: nan\n",
      "learning rate: 0.007900\n",
      "\n",
      "\n"
     ]
    },
    {
     "name": "stderr",
     "output_type": "stream",
     "text": [
      " 43%|████▎     | 106/246 [00:10<00:06, 21.70it/s]"
     ]
    },
    {
     "name": "stdout",
     "output_type": "stream",
     "text": [
      "\n",
      "\n",
      "epoch: 4, epoch_step: 51, avg loss: nan\n",
      "learning rate: 0.007800\n",
      "\n",
      "\n"
     ]
    },
    {
     "name": "stderr",
     "output_type": "stream",
     "text": [
      " 50%|█████     | 124/246 [00:11<00:05, 22.25it/s]"
     ]
    },
    {
     "name": "stdout",
     "output_type": "stream",
     "text": [
      "\n",
      "\n",
      "epoch: 4, epoch_step: 61, avg loss: nan\n",
      "learning rate: 0.007700\n",
      "\n",
      "\n"
     ]
    },
    {
     "name": "stderr",
     "output_type": "stream",
     "text": [
      " 59%|█████▉    | 145/246 [00:12<00:04, 23.28it/s]"
     ]
    },
    {
     "name": "stdout",
     "output_type": "stream",
     "text": [
      "\n",
      "\n",
      "epoch: 4, epoch_step: 71, avg loss: nan\n",
      "learning rate: 0.007600\n",
      "\n",
      "\n"
     ]
    },
    {
     "name": "stderr",
     "output_type": "stream",
     "text": [
      " 65%|██████▌   | 160/246 [00:12<00:03, 21.53it/s]"
     ]
    },
    {
     "name": "stdout",
     "output_type": "stream",
     "text": [
      "\n",
      "\n",
      "epoch: 4, epoch_step: 81, avg loss: nan\n",
      "learning rate: 0.007500\n",
      "\n",
      "\n",
      "\n",
      "Evaluate:\n",
      "\n",
      "\n",
      "\n",
      "\n",
      "\n",
      "\n",
      "\n",
      "\n",
      "\n",
      "\n",
      "\n",
      "\n",
      "\n",
      "\n",
      "\n",
      "\n",
      "\n",
      "\n",
      "\n",
      "\n",
      "\n",
      "\n",
      "\n",
      "\n",
      "\n",
      "\n",
      "\n",
      "\n",
      "\n",
      "\n",
      "\n",
      "\n",
      "\n",
      "\n",
      "\n",
      "\n",
      "\n",
      "\n",
      "\n",
      "\n",
      "\n",
      "\n",
      "\n",
      "\n",
      "\n",
      "\n",
      "\n",
      "\n",
      "\n",
      "\n",
      "\n",
      "\n",
      "\n",
      "\n",
      "\n",
      "\n"
     ]
    },
    {
     "name": "stderr",
     "output_type": "stream",
     "text": [
      " 66%|██████▋   | 163/246 [00:18<00:49,  1.68it/s]"
     ]
    },
    {
     "name": "stdout",
     "output_type": "stream",
     "text": [
      "get all evidence embeddings!\n",
      "0.22222222222222224\n",
      "0.28571428571428575\n",
      "0.33333333333333337\n",
      "0.22222222222222224\n",
      "0.33333333333333337\n",
      "0.28571428571428575\n",
      "0.28571428571428575\n",
      "0.20000000000000004\n",
      "0.5714285714285715\n",
      "0.33333333333333337\n",
      "0.33333333333333337\n",
      "0.33333333333333337\n",
      "0.33333333333333337\n",
      "0.20000000000000004\n",
      "0.33333333333333337\n",
      "0.33333333333333337\n",
      "0.28571428571428575\n",
      "0.33333333333333337\n",
      "0.33333333333333337\n",
      "0.25\n",
      "0.20000000000000004\n",
      "0.33333333333333337\n",
      "0.28571428571428575\n",
      "0.4000000000000001\n",
      "0.28571428571428575\n",
      "0.28571428571428575\n",
      "\n",
      "\n",
      "Evidence Retrieval F-score: 0.052\n",
      "\n",
      "\n"
     ]
    },
    {
     "name": "stderr",
     "output_type": "stream",
     "text": [
      " 75%|███████▍  | 184/246 [00:19<00:05, 11.67it/s]"
     ]
    },
    {
     "name": "stdout",
     "output_type": "stream",
     "text": [
      "\n",
      "\n",
      "epoch: 4, epoch_step: 91, avg loss: nan\n",
      "learning rate: 0.007400\n",
      "\n",
      "\n"
     ]
    },
    {
     "name": "stderr",
     "output_type": "stream",
     "text": [
      " 83%|████████▎ | 205/246 [00:20<00:01, 21.29it/s]"
     ]
    },
    {
     "name": "stdout",
     "output_type": "stream",
     "text": [
      "\n",
      "\n",
      "epoch: 4, epoch_step: 101, avg loss: nan\n",
      "learning rate: 0.007300\n",
      "\n",
      "\n"
     ]
    },
    {
     "name": "stderr",
     "output_type": "stream",
     "text": [
      " 92%|█████████▏| 226/246 [00:21<00:00, 23.62it/s]"
     ]
    },
    {
     "name": "stdout",
     "output_type": "stream",
     "text": [
      "\n",
      "\n",
      "epoch: 4, epoch_step: 111, avg loss: nan\n",
      "learning rate: 0.007200\n",
      "\n",
      "\n"
     ]
    },
    {
     "name": "stderr",
     "output_type": "stream",
     "text": [
      " 99%|█████████▉| 244/246 [00:21<00:00, 22.88it/s]"
     ]
    },
    {
     "name": "stdout",
     "output_type": "stream",
     "text": [
      "\n",
      "\n",
      "epoch: 4, epoch_step: 121, avg loss: nan\n",
      "learning rate: 0.007100\n",
      "\n",
      "\n"
     ]
    },
    {
     "name": "stderr",
     "output_type": "stream",
     "text": [
      "100%|██████████| 246/246 [00:21<00:00, 11.24it/s]\n",
      "  6%|▌         | 15/246 [00:00<00:10, 22.61it/s]"
     ]
    },
    {
     "name": "stdout",
     "output_type": "stream",
     "text": [
      "\n",
      "\n",
      "epoch: 5, epoch_step: 8, avg loss: nan\n",
      "learning rate: 0.007000\n",
      "\n",
      "\n",
      "\n",
      "Evaluate:\n",
      "\n",
      "\n",
      "\n",
      "\n",
      "\n",
      "\n",
      "\n",
      "\n",
      "\n",
      "\n",
      "\n",
      "\n",
      "\n",
      "\n",
      "\n",
      "\n",
      "\n",
      "\n",
      "\n",
      "\n",
      "\n",
      "\n",
      "\n",
      "\n",
      "\n",
      "\n",
      "\n",
      "\n",
      "\n",
      "\n",
      "\n",
      "\n",
      "\n",
      "\n",
      "\n",
      "\n",
      "\n",
      "\n",
      "\n",
      "\n",
      "\n",
      "\n",
      "\n",
      "\n",
      "\n",
      "\n",
      "\n",
      "\n",
      "\n",
      "\n",
      "\n",
      "\n",
      "\n",
      "\n",
      "\n",
      "\n",
      "get all evidence embeddings!\n",
      "0.22222222222222224\n",
      "0.28571428571428575\n",
      "0.33333333333333337\n",
      "0.22222222222222224\n",
      "0.33333333333333337\n",
      "0.28571428571428575\n",
      "0.28571428571428575\n",
      "0.20000000000000004\n",
      "0.5714285714285715\n",
      "0.33333333333333337\n",
      "0.33333333333333337\n",
      "0.33333333333333337\n",
      "0.33333333333333337\n",
      "0.20000000000000004\n",
      "0.33333333333333337\n",
      "0.33333333333333337\n",
      "0.28571428571428575\n",
      "0.33333333333333337\n",
      "0.33333333333333337\n",
      "0.25\n",
      "0.20000000000000004\n",
      "0.33333333333333337\n",
      "0.28571428571428575\n",
      "0.4000000000000001\n",
      "0.28571428571428575\n",
      "0.28571428571428575\n",
      "\n",
      "\n",
      "Evidence Retrieval F-score: 0.052\n",
      "\n",
      "\n"
     ]
    },
    {
     "name": "stderr",
     "output_type": "stream",
     "text": [
      " 15%|█▌        | 37/246 [00:07<00:21,  9.76it/s]"
     ]
    },
    {
     "name": "stdout",
     "output_type": "stream",
     "text": [
      "\n",
      "\n",
      "epoch: 5, epoch_step: 18, avg loss: nan\n",
      "learning rate: 0.006900\n",
      "\n",
      "\n"
     ]
    },
    {
     "name": "stderr",
     "output_type": "stream",
     "text": [
      " 24%|██▍       | 60/246 [00:08<00:09, 20.49it/s]"
     ]
    },
    {
     "name": "stdout",
     "output_type": "stream",
     "text": [
      "\n",
      "\n",
      "epoch: 5, epoch_step: 28, avg loss: nan\n",
      "learning rate: 0.006800\n",
      "\n",
      "\n"
     ]
    },
    {
     "name": "stderr",
     "output_type": "stream",
     "text": [
      " 32%|███▏      | 78/246 [00:09<00:08, 20.30it/s]"
     ]
    },
    {
     "name": "stdout",
     "output_type": "stream",
     "text": [
      "\n",
      "\n",
      "epoch: 5, epoch_step: 38, avg loss: nan\n",
      "learning rate: 0.006700\n",
      "\n",
      "\n"
     ]
    },
    {
     "name": "stderr",
     "output_type": "stream",
     "text": [
      " 40%|████      | 99/246 [00:10<00:06, 22.08it/s]"
     ]
    },
    {
     "name": "stdout",
     "output_type": "stream",
     "text": [
      "\n",
      "\n",
      "epoch: 5, epoch_step: 48, avg loss: nan\n",
      "learning rate: 0.006600\n",
      "\n",
      "\n"
     ]
    },
    {
     "name": "stderr",
     "output_type": "stream",
     "text": [
      " 46%|████▋     | 114/246 [00:11<00:06, 21.04it/s]"
     ]
    },
    {
     "name": "stdout",
     "output_type": "stream",
     "text": [
      "\n",
      "\n",
      "epoch: 5, epoch_step: 58, avg loss: nan\n",
      "learning rate: 0.006500\n",
      "\n",
      "\n",
      "\n",
      "Evaluate:\n",
      "\n",
      "\n",
      "\n",
      "\n",
      "\n",
      "\n",
      "\n",
      "\n",
      "\n",
      "\n",
      "\n",
      "\n",
      "\n",
      "\n",
      "\n",
      "\n",
      "\n",
      "\n",
      "\n",
      "\n",
      "\n",
      "\n",
      "\n",
      "\n",
      "\n",
      "\n",
      "\n",
      "\n",
      "\n",
      "\n",
      "\n",
      "\n",
      "\n",
      "\n",
      "\n",
      "\n",
      "\n",
      "\n",
      "\n",
      "\n",
      "\n",
      "\n",
      "\n",
      "\n",
      "\n",
      "\n",
      "\n",
      "\n",
      "\n",
      "\n",
      "\n",
      "\n",
      "\n",
      "\n",
      "\n",
      "\n",
      "get all evidence embeddings!\n",
      "0.22222222222222224\n",
      "0.28571428571428575\n",
      "0.33333333333333337\n",
      "0.22222222222222224\n",
      "0.33333333333333337\n",
      "0.28571428571428575\n",
      "0.28571428571428575\n",
      "0.20000000000000004\n",
      "0.5714285714285715\n",
      "0.33333333333333337\n",
      "0.33333333333333337\n",
      "0.33333333333333337\n",
      "0.33333333333333337\n",
      "0.20000000000000004\n",
      "0.33333333333333337\n",
      "0.33333333333333337\n",
      "0.28571428571428575\n",
      "0.33333333333333337\n",
      "0.33333333333333337\n",
      "0.25\n",
      "0.20000000000000004\n",
      "0.33333333333333337\n",
      "0.28571428571428575\n",
      "0.4000000000000001\n",
      "0.28571428571428575\n",
      "0.28571428571428575\n",
      "\n",
      "\n",
      "Evidence Retrieval F-score: 0.052\n",
      "\n",
      "\n"
     ]
    },
    {
     "name": "stderr",
     "output_type": "stream",
     "text": [
      " 56%|█████▌    | 138/246 [00:18<00:09, 11.05it/s]"
     ]
    },
    {
     "name": "stdout",
     "output_type": "stream",
     "text": [
      "\n",
      "\n",
      "epoch: 5, epoch_step: 68, avg loss: nan\n",
      "learning rate: 0.006400\n",
      "\n",
      "\n"
     ]
    },
    {
     "name": "stderr",
     "output_type": "stream",
     "text": [
      " 65%|██████▍   | 159/246 [00:19<00:04, 20.78it/s]"
     ]
    },
    {
     "name": "stdout",
     "output_type": "stream",
     "text": [
      "\n",
      "\n",
      "epoch: 5, epoch_step: 78, avg loss: nan\n",
      "learning rate: 0.006300\n",
      "\n",
      "\n"
     ]
    },
    {
     "name": "stderr",
     "output_type": "stream",
     "text": [
      " 73%|███████▎  | 180/246 [00:20<00:02, 24.26it/s]"
     ]
    },
    {
     "name": "stdout",
     "output_type": "stream",
     "text": [
      "\n",
      "\n",
      "epoch: 5, epoch_step: 88, avg loss: nan\n",
      "learning rate: 0.006200\n",
      "\n",
      "\n"
     ]
    },
    {
     "name": "stderr",
     "output_type": "stream",
     "text": [
      " 80%|████████  | 198/246 [00:21<00:02, 22.49it/s]"
     ]
    },
    {
     "name": "stdout",
     "output_type": "stream",
     "text": [
      "\n",
      "\n",
      "epoch: 5, epoch_step: 98, avg loss: nan\n",
      "learning rate: 0.006100\n",
      "\n",
      "\n"
     ]
    },
    {
     "name": "stderr",
     "output_type": "stream",
     "text": [
      " 87%|████████▋ | 213/246 [00:21<00:01, 22.22it/s]"
     ]
    },
    {
     "name": "stdout",
     "output_type": "stream",
     "text": [
      "\n",
      "\n",
      "epoch: 5, epoch_step: 108, avg loss: nan\n",
      "learning rate: 0.006000\n",
      "\n",
      "\n",
      "\n",
      "Evaluate:\n",
      "\n",
      "\n",
      "\n",
      "\n",
      "\n",
      "\n",
      "\n",
      "\n",
      "\n",
      "\n",
      "\n",
      "\n",
      "\n",
      "\n",
      "\n",
      "\n",
      "\n",
      "\n",
      "\n",
      "\n",
      "\n",
      "\n",
      "\n",
      "\n",
      "\n",
      "\n",
      "\n",
      "\n",
      "\n",
      "\n",
      "\n",
      "\n",
      "\n",
      "\n",
      "\n",
      "\n",
      "\n",
      "\n",
      "\n",
      "\n",
      "\n",
      "\n",
      "\n",
      "\n",
      "\n",
      "\n",
      "\n",
      "\n",
      "\n",
      "\n",
      "\n",
      "\n",
      "\n",
      "\n",
      "\n",
      "\n"
     ]
    },
    {
     "name": "stderr",
     "output_type": "stream",
     "text": [
      " 89%|████████▉ | 219/246 [00:27<00:11,  2.33it/s]"
     ]
    },
    {
     "name": "stdout",
     "output_type": "stream",
     "text": [
      "get all evidence embeddings!\n",
      "0.22222222222222224\n",
      "0.28571428571428575\n",
      "0.33333333333333337\n",
      "0.22222222222222224\n",
      "0.33333333333333337\n",
      "0.28571428571428575\n",
      "0.28571428571428575\n",
      "0.20000000000000004\n",
      "0.5714285714285715\n",
      "0.33333333333333337\n",
      "0.33333333333333337\n",
      "0.33333333333333337\n",
      "0.33333333333333337\n",
      "0.20000000000000004\n",
      "0.33333333333333337\n",
      "0.33333333333333337\n",
      "0.28571428571428575\n",
      "0.33333333333333337\n",
      "0.33333333333333337\n",
      "0.25\n",
      "0.20000000000000004\n",
      "0.33333333333333337\n",
      "0.28571428571428575\n",
      "0.4000000000000001\n",
      "0.28571428571428575\n",
      "0.28571428571428575\n",
      "\n",
      "\n",
      "Evidence Retrieval F-score: 0.052\n",
      "\n",
      "\n"
     ]
    },
    {
     "name": "stderr",
     "output_type": "stream",
     "text": [
      " 98%|█████████▊| 240/246 [00:28<00:00, 13.34it/s]"
     ]
    },
    {
     "name": "stdout",
     "output_type": "stream",
     "text": [
      "\n",
      "\n",
      "epoch: 5, epoch_step: 118, avg loss: nan\n",
      "learning rate: 0.005900\n",
      "\n",
      "\n"
     ]
    },
    {
     "name": "stderr",
     "output_type": "stream",
     "text": [
      "100%|██████████| 246/246 [00:28<00:00,  8.57it/s]\n"
     ]
    }
   ],
   "source": [
    "# start training\n",
    "import wandb\n",
    "import os\n",
    "wandb.init(project=\"nlp\", name=\"dpr\")\n",
    "\n",
    "from tqdm import tqdm\n",
    "import numpy as np\n",
    "\n",
    "encoder_optimizer.zero_grad()\n",
    "step_cnt = 0\n",
    "all_step_cnt = 0\n",
    "avg_loss = 0\n",
    "maximum_f_score = 0\n",
    "\n",
    "for epoch in range(5): \n",
    "    epoch_step = 0\n",
    "\n",
    "    for (i, batch) in enumerate(tqdm(dataloader)):\n",
    "        \n",
    "        step_cnt += 1\n",
    "        # forward pass\n",
    "        query_embeddings = trans_encoder(batch[\"queries\"].cuda(), batch[\"queries_pos\"].cuda())\n",
    "        evidence_embeddings = trans_encoder(batch[\"evidences\"].cuda(), batch[\"evidences_pos\"].cuda())\n",
    "        \n",
    "        query_embeddings = query_embeddings[:, 0, :]\n",
    "        evidence_embeddings = evidence_embeddings[:, 0, :]\n",
    "\n",
    "        query_embeddings = torch.nn.functional.normalize(query_embeddings, p=2, dim=1)\n",
    "        evidence_embeddings = torch.nn.functional.normalize(evidence_embeddings, p=2, dim=1)\n",
    "\n",
    "        cos_sims = torch.mm(query_embeddings, evidence_embeddings.t())\n",
    "        scores = - torch.nn.functional.log_softmax(cos_sims / 0.1, dim=1)\n",
    "\n",
    "        loss = []\n",
    "        start_idx = 0\n",
    "        for idx, label in enumerate(batch[\"labels\"]):\n",
    "            label = torch.LongTensor(label).cuda()\n",
    "            # print(scores[idx].size())\n",
    "            # assert 0 == 1\n",
    "            cur_loss = torch.mean(torch.index_select(scores[idx], 0, label))\n",
    "            loss.append(cur_loss)\n",
    "\n",
    "        loss = torch.stack(loss).mean()\n",
    "        loss = loss / accumulate_step\n",
    "        loss.backward()\n",
    "\n",
    "        avg_loss += loss.item()\n",
    "        if step_cnt == accumulate_step:\n",
    "            # updating\n",
    "            if grad_norm > 0:\n",
    "                nn.utils.clip_grad_norm_(trans_encoder.parameters(), grad_norm)\n",
    "\n",
    "            step_cnt = 0\n",
    "            epoch_step += 1\n",
    "            all_step_cnt += 1\n",
    "            \n",
    "            # adjust learning rate\n",
    "            if all_step_cnt <= warmup_steps:\n",
    "                lr = all_step_cnt * (max_lr - 2e-8) / warmup_steps + 2e-8\n",
    "            else:\n",
    "                lr = max_lr - (all_step_cnt - warmup_steps) * 1e-5\n",
    "                \n",
    "            encoder_optimizer.step()\n",
    "            encoder_optimizer.zero_grad()\n",
    "        \n",
    "        if all_step_cnt % report_freq == 0 and step_cnt == 0:\n",
    "            if all_step_cnt <= warmup_steps:\n",
    "                lr = all_step_cnt * (max_lr - 2e-8) / warmup_steps + 2e-8\n",
    "            else:\n",
    "                lr = max_lr - (all_step_cnt - warmup_steps) * 1e-5\n",
    "\n",
    "            wandb.log({\"learning_rate\": lr}, step=all_step_cnt)\n",
    "            wandb.log({\"loss\": avg_loss / report_freq}, step=all_step_cnt)\n",
    "            \n",
    "            # report stats\n",
    "            print(\"\\n\")\n",
    "            print(\"epoch: %d, epoch_step: %d, avg loss: %.6f\" % (epoch + 1, epoch_step, avg_loss / report_freq))\n",
    "            print(f\"learning rate: {lr:.6f}\")\n",
    "            print(\"\\n\")\n",
    "            avg_loss = 0\n",
    "        del loss, cos_sims, query_embeddings, evidence_embeddings\n",
    "\n",
    "        if all_step_cnt % eval_interval == 0 and all_step_cnt != 0 and step_cnt == 0:\n",
    "            # evaluate the model as a scorer\n",
    "            print(\"\\nEvaluate:\\n\")\n",
    "            \n",
    "            f_score = validate(dev_input, evidences_input, dev_sort_evidences, dev_evidences, trans_encoder)\n",
    "            wandb.log({\"f_score\": f_score}, step=all_step_cnt)\n",
    "\n",
    "            if f_score > maximum_f_score:\n",
    "                maximum_f_score = f_score\n",
    "                torch.save(trans_encoder.state_dict(), os.path.join(save_dir, \"best_ckpt.bin\"))\n",
    "                # torch.save(last_evidence_embeddings, os.path.join(save_dir, \"evidence_embeddings\"))\n",
    "                print(\"\\n\")\n",
    "                print(\"best val loss - epoch: %d, epoch_step: %d\" % (epoch, epoch_step))\n",
    "                print(\"maximum_f_score\", f_score)\n",
    "                print(\"\\n\")"
   ]
  },
  {
   "cell_type": "code",
   "execution_count": 94,
   "metadata": {},
   "outputs": [],
   "source": [
    "torch.cuda.empty_cache()"
   ]
  },
  {
   "cell_type": "markdown",
   "metadata": {
    "id": "EzGuzHPE87Ya"
   },
   "source": [
    "# 3.Testing and Evaluation\n",
    "(You can add as many code blocks and text blocks as you need. However, YOU SHOULD NOT MODIFY the section title)"
   ]
  },
  {
   "cell_type": "code",
   "execution_count": 95,
   "metadata": {},
   "outputs": [
    {
     "data": {
      "text/plain": [
       "Encoder(\n",
       "  (embedding): Embedding(7075, 512)\n",
       "  (pos_embedding): Embedding(180, 512)\n",
       "  (encoder): LSTM(512, 512, num_layers=2, batch_first=True)\n",
       ")"
      ]
     },
     "execution_count": 95,
     "metadata": {},
     "output_type": "execute_result"
    }
   ],
   "source": [
    "import os\n",
    "trans_encoder.load_state_dict(torch.load(os.path.join(save_dir, \"best_ckpt.bin\")))\n",
    "trans_encoder.cuda()\n",
    "trans_encoder.eval()"
   ]
  },
  {
   "cell_type": "code",
   "execution_count": 96,
   "metadata": {},
   "outputs": [],
   "source": [
    "evidence_embeddings = []\n",
    "start_idx = 0\n",
    "batch_size = 1000\n",
    "evidence_len = len(evidences_input[0])\n",
    "\n",
    "while start_idx < len(evidences_input):\n",
    "    end_idx = min(start_idx + batch_size, len(evidences_input))\n",
    "    \n",
    "    cur_evidence = torch.LongTensor(evidences_input[start_idx:end_idx]).view(-1, evidence_len).cuda()\n",
    "    cur_evidence_pos = torch.LongTensor([list(range(evidence_len)) for _ in range(end_idx - start_idx)]).cuda()\n",
    "\n",
    "    cur_embedding = trans_encoder(cur_evidence, cur_evidence_pos)\n",
    "    cur_embedding = cur_embedding[:, 0, :].detach()\n",
    "    cur_embedding_cpu = F.normalize(cur_embedding, p=2, dim=1).cpu()  # for cosine similarity\n",
    "    \n",
    "    del cur_embedding, cur_evidence, cur_evidence_pos\n",
    "    start_idx = end_idx\n",
    "    evidence_embeddings.append(cur_embedding_cpu)\n",
    "    \n",
    "evidence_embeddings = torch.cat(evidence_embeddings, dim=0).t()\n"
   ]
  },
  {
   "cell_type": "code",
   "execution_count": 97,
   "metadata": {},
   "outputs": [],
   "source": [
    "torch.cuda.empty_cache()"
   ]
  },
  {
   "cell_type": "code",
   "execution_count": 98,
   "metadata": {},
   "outputs": [],
   "source": [
    "import numpy as np"
   ]
  },
  {
   "cell_type": "code",
   "execution_count": 99,
   "metadata": {},
   "outputs": [],
   "source": [
    "retrieval_num = 5\n",
    "dev_candis_num = 10\n",
    "\n",
    "def validate_(dev_text_idx, evidence_embeddings, dev_sort_evidences, dev_evidences, encoder_model):\n",
    "    # get evidence embeddings\n",
    "    encoder_model.eval()\n",
    "\n",
    "    text_len = len(dev_text_idx[0])\n",
    "    f = []\n",
    "    \n",
    "    start_idx = 0\n",
    "    batch_size = 200\n",
    "    \n",
    "    while start_idx < len(dev_text_idx):\n",
    "        end_idx = min(start_idx + batch_size, len(dev_text_idx))\n",
    "        \n",
    "        cur_query = torch.LongTensor(dev_text_idx[start_idx:end_idx]).view(-1, text_len).cuda()\n",
    "        print(cur_query.size())\n",
    "        cur_query_pos = torch.LongTensor([list(range(text_len)) for _ in range(end_idx - start_idx)]).cuda()\n",
    "\n",
    "        query_embedding = encoder_model(cur_query, cur_query_pos)\n",
    "        query_embedding = query_embedding[:, 0, :].detach()\n",
    "        query_embedding = F.normalize(query_embedding, p=2, dim=1).cpu()\n",
    "        \n",
    "        scores = torch.mm(query_embedding, evidence_embeddings)\n",
    "        \n",
    "        for i in range(scores.size(0)):\n",
    "            new_score = torch.index_select(scores[i], 0, torch.LongTensor(dev_sort_evidences[start_idx+i][:dev_candis_num]))\n",
    "            topk_ids = torch.argsort(new_score).tolist()\n",
    "            select_ids = topk_ids[:retrieval_num]\n",
    "            \n",
    "            evidence_correct = 0\n",
    "            pred_evidences = [dev_sort_evidences[start_idx+i][j] for j in select_ids]\n",
    "                        \n",
    "            label = dev_evidences[start_idx+i]\n",
    "                        \n",
    "            for evidence_id in label:\n",
    "                if evidence_id in pred_evidences:\n",
    "                    evidence_correct += 1\n",
    "            if evidence_correct > 0:\n",
    "                evidence_recall = float(evidence_correct) / len(label)\n",
    "                evidence_precision = float(evidence_correct) / len(pred_evidences)\n",
    "                evidence_fscore = (2 * evidence_precision * evidence_recall) / (evidence_precision + evidence_recall)\n",
    "                # print(evidence_fscore)\n",
    "            else:\n",
    "                evidence_fscore = 0\n",
    "            f.append(evidence_fscore)\n",
    "            \n",
    "        start_idx = end_idx\n",
    "        # print(\"----\")\n",
    "    fscore = np.mean(f)\n",
    "    print(\"\\n\")\n",
    "    print(\"Evidence Retrieval F-score: %.3f\" % fscore)\n",
    "    print(\"\\n\")\n",
    "    return fscore"
   ]
  },
  {
   "cell_type": "code",
   "execution_count": 100,
   "metadata": {
    "scrolled": true
   },
   "outputs": [
    {
     "name": "stdout",
     "output_type": "stream",
     "text": [
      "torch.Size([154, 62])\n",
      "\n",
      "\n",
      "Evidence Retrieval F-score: 0.052\n",
      "\n",
      "\n",
      "0.05150999793856938\n"
     ]
    }
   ],
   "source": [
    "retrieval_num = 5\n",
    "dev_candis_num = 10\n",
    "fscore = validate_(dev_input, evidence_embeddings, dev_sort_evidences, dev_evidences, trans_encoder)\n",
    "print(fscore)"
   ]
  },
  {
   "cell_type": "code",
   "execution_count": 101,
   "metadata": {
    "id": "6ZVeNYIH9IaL"
   },
   "outputs": [],
   "source": [
    "retrieval_num = 5\n",
    "dev_candis_num = 10\n",
    "\n",
    "def evidence_predicts(dev_text_idx, evidences_embeddings, dev_sort_evidences, evidences_ids, encoder_model):\n",
    "    # get evidence embeddings\n",
    "    text_len = len(dev_text_idx[0])\n",
    "    encoder_model.eval()\n",
    "\n",
    "    f = []\n",
    "    start_idx = 0\n",
    "    batch_size = 200\n",
    "    preds = []\n",
    "    while start_idx < len(dev_text_idx):\n",
    "        end_idx = min(start_idx + batch_size, len(dev_text_idx))\n",
    "        \n",
    "        cur_query = torch.LongTensor(dev_text_idx[start_idx:end_idx]).view(-1, text_len).cuda()\n",
    "        cur_query_pos = torch.LongTensor([list(range(text_len)) for _ in range(end_idx - start_idx)]).cuda()\n",
    "\n",
    "        query_embedding = encoder_model(cur_query, cur_query_pos)\n",
    "        query_embedding = query_embedding[:, 0, :].detach()\n",
    "        query_embedding = F.normalize(query_embedding, p=2, dim=1).cpu()\n",
    "        \n",
    "        scores = torch.mm(query_embedding, evidences_embeddings)\n",
    "\n",
    "        for i in range(scores.size(0)):\n",
    "            new_score = torch.index_select(scores[i], 0, torch.LongTensor(dev_sort_evidences[start_idx+i][:dev_candis_num]))\n",
    "            topk_ids = torch.argsort(new_score).tolist()\n",
    "            select_ids = topk_ids[:retrieval_num]\n",
    "            \n",
    "            pred_evidences = [evidences_ids[dev_sort_evidences[start_idx+i][j]] for j in select_ids]\n",
    "            preds.append(pred_evidences)\n",
    "            \n",
    "        start_idx = end_idx\n",
    "    return preds"
   ]
  },
  {
   "cell_type": "code",
   "execution_count": 102,
   "metadata": {},
   "outputs": [],
   "source": [
    "dev_evidences_ids = evidence_predicts(dev_input, evidence_embeddings, dev_sort_evidences, evidences_ids, trans_encoder)\n",
    "test_evidences_ids = evidence_predicts(test_input, evidence_embeddings, test_sort_evidences, evidences_ids, trans_encoder)"
   ]
  },
  {
   "cell_type": "code",
   "execution_count": 103,
   "metadata": {},
   "outputs": [],
   "source": [
    "pred_dev_claims = {}\n",
    "pred_test_claims = {}\n",
    "dev_claims = json.load(open(\"data/dev-claims.json\", \"r\"))\n",
    "test_claims = json.load(open(\"data/test-claims-unlabelled.json\", \"r\"))\n",
    "\n",
    "for idx, evidence_ids in enumerate(dev_evidences_ids):\n",
    "    cur_data = dev_claims[dev_ids[idx]]\n",
    "    cur_data['evidences'] = evidence_ids\n",
    "    pred_dev_claims[dev_ids[idx]] = cur_data\n",
    "    \n",
    "\n",
    "for idx, evidence_ids in enumerate(test_evidences_ids):\n",
    "    cur_data = test_claims[test_ids[idx]]\n",
    "    cur_data['evidences'] = evidence_ids\n",
    "    pred_test_claims[test_ids[idx]] = cur_data\n"
   ]
  },
  {
   "cell_type": "code",
   "execution_count": 104,
   "metadata": {},
   "outputs": [],
   "source": [
    "json.dump(pred_dev_claims, open(\"data/dev_predict.json\", \"w\"))\n",
    "json.dump(pred_test_claims, open(\"data/test-claims-unlabelled.json\", \"w\"))"
   ]
  },
  {
   "cell_type": "code",
   "execution_count": 105,
   "metadata": {},
   "outputs": [],
   "source": [
    "retrieval_num = 5\n",
    "dev_candis_num = 10\n",
    "\n",
    "train_evidences_ids = evidence_predicts(train_input, evidence_embeddings, train_sort_evidences, evidences_ids, trans_encoder)\n",
    "\n",
    "pred_train_negative_evidences = []\n",
    "for idx, evidence_ids in enumerate(train_evidences_ids):\n",
    "    temp_ = []\n",
    "    for i in evidence_ids:\n",
    "        if evidences_id_dict[i] not in train_evidences[idx]:\n",
    "            temp_.append(evidences_id_dict[i])\n",
    "    pred_train_negative_evidences.append(temp_)"
   ]
  },
  {
   "cell_type": "code",
   "execution_count": 106,
   "metadata": {},
   "outputs": [],
   "source": [
    "## save prediction data\n",
    "\n",
    "json.dump(pred_train_negative_evidences, open(\"pred_train_negative_evidences.json\", \"w\"))"
   ]
  },
  {
   "cell_type": "code",
   "execution_count": 107,
   "metadata": {},
   "outputs": [],
   "source": [
    "## save cls data\n",
    "\n",
    "dev_cls_data = []\n",
    "test_cls_data = []\n",
    "text_max_len = 60\n",
    "evidence_max_len = 100\n",
    "all_max_len = 580\n",
    "\n",
    "for idx, dev_text in enumerate(dev_text_idx):\n",
    "    cur_data = {\"label\": dev_labels[idx]}\n",
    "    temp_text = [word2idx[\"<cls>\"]] + dev_text_idx[idx][:text_max_len]\n",
    "    for i in dev_evidences_ids[idx]:\n",
    "        temp_text.extend([word2idx[\"<sep>\"]] + evidences_text_idx[evidences_id_dict[i]][:evidence_max_len])\n",
    "    temp_text.append(word2idx[\"<sep>\"])\n",
    "    if len(temp_text) < all_max_len:\n",
    "        temp_text.extend([word2idx[\"<pad>\"]] * (all_max_len - len(temp_text)))\n",
    "    cur_data['text'] = temp_text\n",
    "    dev_cls_data.append(cur_data)\n",
    "\n",
    "for idx, dev_text in enumerate(test_text_idx):\n",
    "    cur_data = {}\n",
    "    temp_text = [word2idx[\"<cls>\"]] + test_text_idx[idx][:text_max_len]\n",
    "    for i in test_evidences_ids[idx]:\n",
    "        temp_text.extend([word2idx[\"<sep>\"]] + evidences_text_idx[evidences_id_dict[i]][:evidence_max_len])\n",
    "    temp_text.append(word2idx[\"<sep>\"])\n",
    "    if len(temp_text) < all_max_len:\n",
    "        temp_text.extend([word2idx[\"<pad>\"]] * (all_max_len - len(temp_text)))\n",
    "    cur_data['text'] = temp_text\n",
    "    test_cls_data.append(cur_data)\n",
    "\n",
    "json.dump(dev_cls_data, open(\"dev_cls_data.json\", \"w\"))\n",
    "json.dump(test_cls_data, open(\"test_cls_data.json\", \"w\"))"
   ]
  },
  {
   "cell_type": "code",
   "execution_count": 108,
   "metadata": {},
   "outputs": [
    {
     "name": "stdout",
     "output_type": "stream",
     "text": [
      "Evidence Retrieval F-score (F): 0.0476911976911977\n",
      "Claim Classification Accuracy (A): 1.0\n",
      "Harmonic Mean of F and A: 0.09104056194476966\n"
     ]
    }
   ],
   "source": [
    "import subprocess\n",
    "\n",
    "# proc = subprocess.Popen([\"python\", \"eval.py\", \"--predictions\", \"data\\dev_predict.json\", \"--groundtruth\", \"data\\dev-claims.json\"\n",
    "# ], stdout=subprocess.PIPE, shell=True)\n",
    "# (out, err) = proc.communicate()\n",
    "# print(str(out))\n",
    "\n",
    "# 高自动化模型/预处理选择，可以自动读取准确度\n",
    "output = subprocess.check_output(\"python eval.py --predictions data/dev_predict.json --groundtruth data/dev-claims.json\", shell=True)\n",
    "output_str = output.decode('utf-8')\n",
    "\n",
    "# Split the output into lines\n",
    "output_lines = output_str.strip().split('\\n')\n",
    "\n",
    "# Format the output\n",
    "formatted_lines = []\n",
    "for line in output_lines:\n",
    "    metric, value = line.split('=')\n",
    "    metric = metric.strip()\n",
    "    value = value.strip()\n",
    "    formatted_line = f\"{metric}: {value}\"\n",
    "    formatted_lines.append(formatted_line)\n",
    "\n",
    "# Join the formatted lines into a single string\n",
    "formatted_output = '\\n'.join(formatted_lines)\n",
    "print(formatted_output)"
   ]
  },
  {
   "cell_type": "markdown",
   "metadata": {
    "id": "mefSOe8eTmGP"
   },
   "source": [
    "## Object Oriented Programming codes here\n",
    "\n",
    "*You can use multiple code snippets. Just add more if needed*"
   ]
  }
 ],
 "metadata": {
  "colab": {
   "provenance": [],
   "toc_visible": true
  },
  "kernelspec": {
   "display_name": "Python 3 (ipykernel)",
   "language": "python",
   "name": "python3"
  },
  "language_info": {
   "codemirror_mode": {
    "name": "ipython",
    "version": 3
   },
   "file_extension": ".py",
   "mimetype": "text/x-python",
   "name": "python",
   "nbconvert_exporter": "python",
   "pygments_lexer": "ipython3",
   "version": "3.9.19"
  }
 },
 "nbformat": 4,
 "nbformat_minor": 4
}
