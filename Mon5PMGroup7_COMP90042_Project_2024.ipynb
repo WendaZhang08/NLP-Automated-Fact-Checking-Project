{
  "cells": [
    {
      "cell_type": "markdown",
      "metadata": {
        "id": "32yCsRUo8H33"
      },
      "source": [
        "# 2024 COMP90042 Project\n",
        "*Make sure you change the file name with your group id.*"
      ]
    },
    {
      "cell_type": "code",
      "source": [
        "from google.colab import drive\n",
        "drive.mount('/content/drive')"
      ],
      "metadata": {
        "colab": {
          "base_uri": "https://localhost:8080/"
        },
        "id": "9EKBFGyeM-c6",
        "outputId": "d86c18d1-80cb-45e0-d388-b808085f6c2e"
      },
      "execution_count": 1,
      "outputs": [
        {
          "output_type": "stream",
          "name": "stdout",
          "text": [
            "Mounted at /content/drive\n"
          ]
        }
      ]
    },
    {
      "cell_type": "markdown",
      "metadata": {
        "id": "XCybYoGz8YWQ"
      },
      "source": [
        "# Readme\n",
        "*If there is something to be noted for the marker, please mention here.*\n",
        "\n",
        "*If you are planning to implement a program with Object Oriented Programming style, please put those the bottom of this ipynb file*"
      ]
    },
    {
      "cell_type": "markdown",
      "metadata": {
        "id": "OslxNaqlMi6z"
      },
      "source": [
        "**We use pytorch, nltk, scikit-learn in this project.**"
      ]
    },
    {
      "cell_type": "markdown",
      "metadata": {
        "id": "6po98qVA8bJD"
      },
      "source": [
        "# 1.DataSet Processing\n",
        "(You can add as many code blocks and text blocks as you need. However, YOU SHOULD NOT MODIFY the section title)"
      ]
    },
    {
      "cell_type": "markdown",
      "metadata": {
        "id": "qvff21Hv8zjk",
        "tags": []
      },
      "source": [
        "## PreProcess for evidence and claims"
      ]
    },
    {
      "cell_type": "markdown",
      "metadata": {
        "id": "tMNd1G2dMi6z"
      },
      "source": [
        "### preprocessing function"
      ]
    },
    {
      "cell_type": "code",
      "execution_count": 168,
      "metadata": {
        "colab": {
          "base_uri": "https://localhost:8080/"
        },
        "id": "Gu5knO3QMi6z",
        "outputId": "f6ee086b-91fb-4e38-b366-15264d47709c"
      },
      "outputs": [
        {
          "output_type": "stream",
          "name": "stdout",
          "text": [
            "CUDA available: True\n"
          ]
        }
      ],
      "source": [
        "import torch\n",
        "print(\"CUDA available:\", torch.cuda.is_available())"
      ]
    },
    {
      "cell_type": "code",
      "execution_count": 169,
      "metadata": {
        "colab": {
          "base_uri": "https://localhost:8080/"
        },
        "id": "rlvmT6gIMi60",
        "outputId": "8fdf63cc-eb77-4c7e-bf7a-2595f1c7d893"
      },
      "outputs": [
        {
          "output_type": "stream",
          "name": "stdout",
          "text": [
            "Current CUDA device: 0\n",
            "Device count: 1\n",
            "Device name: NVIDIA L4\n"
          ]
        }
      ],
      "source": [
        "print(\"Current CUDA device:\", torch.cuda.current_device())\n",
        "print(\"Device count:\", torch.cuda.device_count())\n",
        "print(\"Device name:\", torch.cuda.get_device_name(torch.cuda.current_device()))"
      ]
    },
    {
      "cell_type": "markdown",
      "metadata": {
        "id": "hF2mOso_Mi60"
      },
      "source": [
        "### read files"
      ]
    },
    {
      "cell_type": "code",
      "execution_count": 8,
      "metadata": {
        "colab": {
          "base_uri": "https://localhost:8080/"
        },
        "id": "8E4WmM-9Mi60",
        "outputId": "18e07353-387a-44c4-a1af-e5b90bc5bb96"
      },
      "outputs": [
        {
          "output_type": "stream",
          "name": "stderr",
          "text": [
            "[nltk_data] Downloading package punkt to /root/nltk_data...\n",
            "[nltk_data]   Unzipping tokenizers/punkt.zip.\n",
            "[nltk_data] Downloading package stopwords to /root/nltk_data...\n",
            "[nltk_data]   Package stopwords is already up-to-date!\n",
            "[nltk_data] Downloading package wordnet to /root/nltk_data...\n",
            "[nltk_data]   Package wordnet is already up-to-date!\n"
          ]
        },
        {
          "output_type": "stream",
          "name": "stdout",
          "text": [
            "claim count:  1228\n",
            "evidence count:  1208827\n",
            "max claim length:  332\n",
            "min claim length:  26\n",
            "mean claim length:  122.95521172638436\n",
            "max evidence count:  5\n",
            "min evidence count:  1\n",
            "mean evidence count:  3.3566775244299674\n",
            "max evidence length:  1979\n",
            "min evidence length:  13\n",
            "mean evidence length:  173.5\n",
            "Counter({'SUPPORTS': 519, 'NOT_ENOUGH_INFO': 386, 'REFUTES': 199, 'DISPUTED': 124})\n",
            "Dev evi inside train evi 163\n",
            "Dev evi outside train evi 328\n",
            "Train claim count:  1228\n"
          ]
        }
      ],
      "source": [
        "import json\n",
        "import nltk\n",
        "import string\n",
        "import re\n",
        "import numpy as np\n",
        "import torch\n",
        "from sklearn.metrics.pairwise import cosine_similarity\n",
        "from nltk.corpus import stopwords\n",
        "from nltk.tokenize import word_tokenize\n",
        "from collections import Counter\n",
        "from statistics import mean\n",
        "\n",
        "nltk.download('punkt')\n",
        "nltk.download('stopwords')\n",
        "nltk.download('wordnet')\n",
        "\n",
        "with open('data/train-claims.json', 'r') as input_file:\n",
        "    train_claims = json.load(input_file)\n",
        "\n",
        "# Read in development data (claim)\n",
        "with open('data/dev-claims.json', 'r') as input_file:\n",
        "    dev_claims = json.load(input_file)\n",
        "\n",
        "# Read in test data (claim)\n",
        "with open('data/test-claims-unlabelled.json', 'r') as input_file:\n",
        "    test_claims = json.load(input_file)\n",
        "\n",
        "# Read in evidence data\n",
        "with open('data/evidence.json', 'r') as input_file:\n",
        "    evidences = json.load(input_file)\n",
        "\n",
        "#EDA\n",
        "claim_count = 0\n",
        "evi_count = 0\n",
        "claim_length = []\n",
        "evidence_count = []\n",
        "evidence_length = []\n",
        "labels = []\n",
        "\n",
        "for key,value in train_claims.items():\n",
        "    claim_count+=1\n",
        "    claim_length.append(len(value[\"claim_text\"]))\n",
        "    evidence_count.append(len(value[\"evidences\"]))\n",
        "    evidence_length += [len(evidences[x]) for x in value[\"evidences\"]]\n",
        "    labels.append(value[\"claim_label\"])\n",
        "\n",
        "for key,value in evidences.items():\n",
        "    evi_count+=1\n",
        "\n",
        "print(\"claim count: \",claim_count)\n",
        "print(\"evidence count: \",evi_count)\n",
        "print(\"max claim length: \",max(claim_length))\n",
        "print(\"min claim length: \",min(claim_length))\n",
        "print(\"mean claim length: \",mean(claim_length))\n",
        "print(\"max evidence count: \",max(evidence_count))\n",
        "print(\"min evidence count: \",min(evidence_count))\n",
        "print(\"mean evidence count: \",mean(evidence_count))\n",
        "print(\"max evidence length: \",max(evidence_length))\n",
        "print(\"min evidence length: \",min(evidence_length))\n",
        "print(\"mean evidence length: \",mean(evidence_length))\n",
        "print(Counter(labels))\n",
        "\n",
        "inside = 0\n",
        "outside = 0\n",
        "\n",
        "train_evi_id = []\n",
        "for claim_id,claim_value in train_claims.items():\n",
        "    train_evi_id=train_evi_id+claim_value['evidences']\n",
        "\n",
        "for claim_id,claim_value in dev_claims.items():\n",
        "    test_evi_id=claim_value['evidences']\n",
        "    for e in test_evi_id:\n",
        "        if e in train_evi_id:\n",
        "            inside += 1\n",
        "        else:\n",
        "            outside += 1\n",
        "print(\"Dev evi inside train evi\", inside)\n",
        "print(\"Dev evi outside train evi\", outside)\n",
        "\n",
        "full_evidence_id = list(evidences.keys())\n",
        "full_evidence_text  = list(evidences.values())\n",
        "train_claim_id = list(train_claims.keys())\n",
        "train_claim_text  = [ v[\"claim_text\"] for v in train_claims.values()]\n",
        "print(\"Train claim count: \",len(train_claim_id))"
      ]
    },
    {
      "cell_type": "code",
      "execution_count": 9,
      "metadata": {
        "id": "2DOndpOSMi61"
      },
      "outputs": [],
      "source": [
        "lemmatizer = nltk.stem.wordnet.WordNetLemmatizer()\n",
        "stopwords = set(stopwords.words('english'))\n",
        "\n",
        "def lemmatize_text(text):\n",
        "    words = nltk.word_tokenize(text)\n",
        "    lemmatized_words = [lemmatizer.lemmatize(word) for word in words]\n",
        "    lemmatized_text = ' '.join(lemmatized_words)\n",
        "    return lemmatized_text\n",
        "\n",
        "# def is_pure_english(text):\n",
        "#     english_letters = set(string.ascii_letters)\n",
        "#     cleaned_text = ''.join(char for char in text if char.isalpha() or char.isspace())\n",
        "#     return all(char in english_letters or char.isspace() for char in cleaned_text)\n",
        "\n",
        "# def remove_non_eng(dictionary):\n",
        "#     eng_data = {}\n",
        "#     for key, value in dictionary.items():\n",
        "#         if is_pure_english(value):\n",
        "#             eng_data[key] = value\n",
        "#     return eng_data\n",
        "\n",
        "# def contains_climate_keywords(text, keywords):\n",
        "#     text = text.lower()\n",
        "#     for keyword in keywords:\n",
        "#         if re.search(r\"\\b\" + re.escape(keyword) + r\"\\b\", text):\n",
        "#             return True\n",
        "#     return False\n",
        "\n",
        "# def filter_climate_related(dictionary, keywords):\n",
        "#     cs_data = {}\n",
        "#     for key, value in dictionary.items():\n",
        "#         if contains_climate_keywords(value, keywords):\n",
        "#             cs_data[key] = value\n",
        "#     return cs_data\n",
        "\n",
        "def preprocessing_text(text):\n",
        "\n",
        "     # Convert to lowercase\n",
        "    text = text.lower()\n",
        "\n",
        "     # Lemmatize the text\n",
        "    text = lemmatize_text(text)\n",
        "\n",
        "    # Remove leading/trailing whitespaces\n",
        "    text = text.strip()\n",
        "    return text"
      ]
    },
    {
      "cell_type": "code",
      "execution_count": 11,
      "metadata": {
        "id": "L1e5EkqxMi61"
      },
      "outputs": [],
      "source": [
        "climate_keywords = [\n",
        "    \"climate\", \"environment\", \"global warming\", \"greenhouse effect\", \"carbon\", \"co2\", \"carbon dioxide\",\n",
        "    \"methane\", \"renewable energy\", \"sustainability\", \"ecology\", \"biodiversity\", \"fossil fuels\",\n",
        "    \"emissions\", \"air quality\", \"ozone\", \"solar energy\", \"wind energy\", \"climate change\", \"climate crisis\",\n",
        "    \"climate adaptation\", \"climate mitigation\", \"ocean\", \"sea levels\", \"ice melting\", \"deforestation\",\n",
        "    \"reforestation\", \"pollution\",\" electricity\",\"energy\",\"solar\",\"wind\",\"renewable\",\"fossil\",\"fuel\",\"emission\",\"air\",\"quality\",\"ozone\",\"solar\",\"wind\",\"climate\",\"change\",\"crisis\",\"adaptation\",\"mitigation\",\"ocean\",\"sea\",\"level\",\"ice\",\"melt\",\"deforestation\",\n",
        "]\n",
        "\n",
        "\n",
        "# def preprocess_claim_data(claim_data, existed_evidences_id=None):\n",
        "#     claim_data = remove_non_eng(claim_data)\n",
        "#     claim_data_text = []\n",
        "#     claim_data_id = []\n",
        "#     claim_data_label = []\n",
        "#     claim_evidences = []\n",
        "#     for key in claim_data.keys():\n",
        "#         claim_data[key][\"claim_text\"] = preprocessing_text(claim_data[key][\"claim_text\"])\n",
        "#         claim_data_text.append(claim_data[key][\"claim_text\"])\n",
        "#         claim_data_id.append(key)\n",
        "#         if \"claim_label\" in claim_data[key]:\n",
        "#             claim_data_label.append(claim_data[key][\"claim_label\"])\n",
        "#         else:\n",
        "#             claim_data_label.append(None)\n",
        "#         if existed_evidences_id and \"evidences\" in claim_data[key]:\n",
        "#             valid_evidences = [existed_evidences_id[i] for i in claim_data[key][\"evidences\"] if i in existed_evidences_id]\n",
        "#             claim_evidences.append(valid_evidences)\n",
        "#         else:\n",
        "#             claim_evidences.append([])\n",
        "#     return claim_data_text, claim_data_id, claim_data_label, claim_evidences\n",
        "\n",
        "def preprocess_claim_data(claim_data, existed_evidences_id=None):\n",
        "    claim_data_text = []\n",
        "    claim_data_id = []\n",
        "    claim_data_label = []\n",
        "    claim_evidences = []\n",
        "    for key in claim_data.keys():\n",
        "        claim_data[key][\"claim_text\"] = preprocessing_text(claim_data[key][\"claim_text\"])\n",
        "        claim_data_text.append(claim_data[key][\"claim_text\"])\n",
        "        claim_data_id.append(key)\n",
        "        if \"claim_label\" in claim_data[key]:\n",
        "            claim_data_label.append(claim_data[key][\"claim_label\"])\n",
        "        else:\n",
        "            claim_data_label.append(None)\n",
        "        if existed_evidences_id and \"evidences\" in claim_data[key]:\n",
        "            valid_evidences = [existed_evidences_id[i] for i in claim_data[key][\"evidences\"] if i in existed_evidences_id]\n",
        "            claim_evidences.append(valid_evidences)\n",
        "        else:\n",
        "            claim_evidences.append([])\n",
        "    return claim_data_text, claim_data_id, claim_data_label, claim_evidences\n",
        "\n",
        "# def preprocess_evi_data(evi_data, climate_keywords):\n",
        "#     evi_data = remove_non_eng(evi_data)\n",
        "#     cs_evi_data = filter_climate_related(evi_data, climate_keywords)\n",
        "\n",
        "#     for key in cs_evi_data.keys():\n",
        "#         cs_evi_data[key] = preprocessing_text(cs_evi_data[key])\n",
        "\n",
        "#     cleaned_evidence_text = list(cs_evi_data.values())\n",
        "#     cleaned_evidence_id = list(cs_evi_data.keys())\n",
        "#     return cleaned_evidence_text, cleaned_evidence_id\n",
        "\n",
        "def preprocess_evi_data(evi_data):\n",
        "    cleaned_evidence_text = []\n",
        "    cleaned_evidence_id = []\n",
        "    for key, value in evi_data.items():\n",
        "        cleaned_text = preprocessing_text(value)\n",
        "        cleaned_evidence_text.append(cleaned_text)\n",
        "        cleaned_evidence_id.append(key)\n",
        "    return cleaned_evidence_text, cleaned_evidence_id"
      ]
    },
    {
      "cell_type": "code",
      "execution_count": 12,
      "metadata": {
        "id": "IKxSOkKzMi61"
      },
      "outputs": [],
      "source": [
        "cleaned_evidence_text, cleaned_evidence_id = preprocess_evi_data(evidences)\n",
        "\n",
        "evidences_id_dict = {evidence_id: idx for idx, evidence_id in enumerate(cleaned_evidence_id)}\n",
        "\n",
        "train_claim_text, train_claim_id, train_claim_label, train_claim_evidences = preprocess_claim_data(train_claims, evidences_id_dict)\n",
        "\n",
        "dev_claim_text, dev_claim_id, dev_claim_label, dev_claim_evidences = preprocess_claim_data(dev_claims, evidences_id_dict)\n",
        "\n",
        "test_claim_text, test_claim_id, _, _ = preprocess_claim_data(test_claims)"
      ]
    },
    {
      "cell_type": "code",
      "execution_count": 13,
      "metadata": {
        "colab": {
          "base_uri": "https://localhost:8080/"
        },
        "id": "lwvyE-RIMi61",
        "outputId": "57d70c6e-5de4-40a8-ad61-2da3a3698326"
      },
      "outputs": [
        {
          "output_type": "stream",
          "name": "stdout",
          "text": [
            "Number of claims after removing non-English: 1228\n",
            "Number of claims after preprocessing: 1228\n"
          ]
        }
      ],
      "source": [
        "print(\"Number of claims after removing non-English:\", len(train_claim_evidences))\n",
        "print(\"Number of claims after preprocessing:\", len(train_claim_text))"
      ]
    },
    {
      "cell_type": "code",
      "execution_count": 14,
      "metadata": {
        "colab": {
          "base_uri": "https://localhost:8080/"
        },
        "id": "_UjL_44xMi61",
        "outputId": "6acc0992-e212-4513-933e-8301847fa45a"
      },
      "outputs": [
        {
          "output_type": "stream",
          "name": "stdout",
          "text": [
            "['not only is there no scientific evidence that co2 is a pollutant , higher co2 concentration actually help ecosystem support more plant and animal life .', 'el niño drove record high in global temperature suggesting rise may not be down to man-made emission .', 'in 1946 , pdo switched to a cool phase .', 'weather channel co-founder john coleman provided evidence that convincingly refutes the concept of anthropogenic global warming .', '`` january 2008 capped a 12 month period of global temperature drop on all of the major well respected indicator .', 'the last time the planet wa even four degree warmer , peter brannen point out in the end of the world , his new history of the planet ’ s major extinction event , the ocean were hundred of foot higher .', 'tree-ring proxy reconstruction are reliable before 1960 , tracking closely with the instrumental record and other independent proxy .', 'under the most ambitious scenario , they found a strong likelihood that antarctica would remain fairly stable . ”', 'an additional kick wa supplied by an el niño weather pattern that peaked in 2016 and temporarily warmed much of the surface of the planet , causing the hottest year in a historical record dating to 1880 .', 'when stomata-derived co2 ( red ) is compared to ice core-derived co2 ( blue ) , the stoma generally show much more variability in the atmospheric co2 level and often show level much higher than the ice core .']\n"
          ]
        }
      ],
      "source": [
        "print(train_claim_text[0:10])"
      ]
    },
    {
      "cell_type": "markdown",
      "metadata": {
        "id": "pU0PX5aoMi61"
      },
      "source": [
        "### tfidf retrieval"
      ]
    },
    {
      "cell_type": "code",
      "execution_count": 15,
      "metadata": {
        "id": "m-04L39yMi61"
      },
      "outputs": [],
      "source": [
        "\n",
        "from sklearn.feature_extraction.text import TfidfVectorizer\n",
        "\n",
        "vectorizer = TfidfVectorizer()\n",
        "vectorizer.fit(cleaned_evidence_text)\n",
        "\n",
        "train_tfidf = vectorizer.transform(train_claim_text)\n",
        "dev_tfidf = vectorizer.transform(dev_claim_text)\n",
        "test_tfidf = vectorizer.transform(test_claim_text)\n",
        "evidence_tfidf = vectorizer.transform(cleaned_evidence_text)\n"
      ]
    },
    {
      "cell_type": "code",
      "execution_count": 16,
      "metadata": {
        "colab": {
          "base_uri": "https://localhost:8080/"
        },
        "id": "-16UBVTiMi61",
        "outputId": "fada174c-fa5f-4dca-e11c-7564ac4b0dc7"
      },
      "outputs": [
        {
          "output_type": "stream",
          "name": "stdout",
          "text": [
            "(1228, 1208827)\n"
          ]
        }
      ],
      "source": [
        "train_cos_sims = cosine_similarity(train_tfidf, evidence_tfidf)\n",
        "dev_cos_sims = cosine_similarity(dev_tfidf, evidence_tfidf)\n",
        "test_cos_sims = cosine_similarity(test_tfidf, evidence_tfidf)\n",
        "print(train_cos_sims.shape)"
      ]
    },
    {
      "cell_type": "code",
      "execution_count": 165,
      "metadata": {
        "scrolled": true,
        "colab": {
          "base_uri": "https://localhost:8080/"
        },
        "id": "FNusjhipMi62",
        "outputId": "87e668b7-53c4-4da6-da08-3b36861ea2b8"
      },
      "outputs": [
        {
          "output_type": "stream",
          "name": "stdout",
          "text": [
            "0.26230998914223635\n",
            "0.30573593073593086\n"
          ]
        }
      ],
      "source": [
        "def test_retrieval_topk(k, cur_scores, cur_labels):\n",
        "    ACC = []\n",
        "    top_ids = torch.topk(torch.FloatTensor(cur_scores), k, -1).indices.tolist()\n",
        "    for i in range(len(cur_labels)):\n",
        "        all_count = 0\n",
        "        recall_count = 0\n",
        "        for cur_ in cur_labels[i]:\n",
        "            if cur_ in top_ids[i]:\n",
        "                recall_count += 1\n",
        "            all_count += 1\n",
        "        if all_count == 0:\n",
        "            all_count = 1e-9  # to avoid division by zero\n",
        "        ACC.append(recall_count / all_count)\n",
        "    print(sum(ACC) / len(ACC))\n",
        "\n",
        "topK = 30\n",
        "test_retrieval_topk(topK, train_cos_sims, train_claim_evidences)\n",
        "test_retrieval_topk(topK, dev_cos_sims, dev_claim_evidences)"
      ]
    },
    {
      "cell_type": "code",
      "execution_count": 18,
      "metadata": {
        "id": "sZC6qk_FMi62"
      },
      "outputs": [],
      "source": [
        "def sort_evidence_candidates(cos_sims):\n",
        "    top_ids = np.argsort(-cos_sims, axis=1)[:, :10000]\n",
        "    return top_ids.tolist()"
      ]
    },
    {
      "cell_type": "code",
      "execution_count": 19,
      "metadata": {
        "id": "BbFbYm3CMi62"
      },
      "outputs": [],
      "source": [
        "dev_sort_evidences = sort_evidence_candidates(dev_cos_sims)\n",
        "test_sort_evidences = sort_evidence_candidates(test_cos_sims)\n",
        "train_sort_evidences = sort_evidence_candidates(train_cos_sims)"
      ]
    },
    {
      "cell_type": "markdown",
      "metadata": {
        "id": "rrlRAziKMi62"
      },
      "source": [
        "### construct vocab and indexing"
      ]
    },
    {
      "cell_type": "code",
      "execution_count": 20,
      "metadata": {
        "id": "XookMF_SMi62"
      },
      "outputs": [],
      "source": [
        "from collections import defaultdict\n",
        "\n",
        "min_count = 5\n",
        "wordcount = defaultdict(int)\n",
        "idxword = [\"<cls>\",  \"<sep>\", \"<pad>\", \"<unk>\"]\n",
        "wordidx = {\"<cls>\": 0, \"<sep>\": 1, \"<pad>\":2, \"<unk>\": 3}\n",
        "\n",
        "for texts in train_claim_text + cleaned_evidence_text:\n",
        "    for word in texts.split():\n",
        "        wordcount[word] += 1\n",
        "\n",
        "idx = 4\n",
        "for word, count in wordcount.items():\n",
        "    if count > min_count:\n",
        "        idxword.append(word)\n",
        "        wordidx[word] = idx\n",
        "        idx += 1"
      ]
    },
    {
      "cell_type": "code",
      "execution_count": 21,
      "metadata": {
        "id": "BAvFbSQLMi62"
      },
      "outputs": [],
      "source": [
        "def convert2idx(text_data, wordidx_):\n",
        "    idx_data = []\n",
        "    for texts in text_data:\n",
        "        temp_idx = []\n",
        "        for word in texts.split():\n",
        "            temp_idx.append(wordidx_.get(word, wordidx_[\"<unk>\"]))\n",
        "        idx_data.append(temp_idx)\n",
        "    return idx_data"
      ]
    },
    {
      "cell_type": "code",
      "execution_count": 22,
      "metadata": {
        "id": "ZLr4hHfeMi62"
      },
      "outputs": [],
      "source": [
        "train_text_idx = convert2idx(train_claim_text, wordidx)\n",
        "dev_text_idx = convert2idx(dev_claim_text, wordidx)\n",
        "test_text_idx = convert2idx(test_claim_text, wordidx)\n",
        "evidences_text_idx = convert2idx(cleaned_evidence_text, wordidx)"
      ]
    },
    {
      "cell_type": "code",
      "execution_count": 23,
      "metadata": {
        "colab": {
          "base_uri": "https://localhost:8080/"
        },
        "id": "su44vEZ1Mi62",
        "outputId": "72912714-75bd-48a4-beb1-d92d5e20be0a"
      },
      "outputs": [
        {
          "output_type": "stream",
          "name": "stdout",
          "text": [
            "76 73 60 636\n"
          ]
        }
      ],
      "source": [
        "print(max([len(i) for i in train_text_idx]), max([len(i) for i in dev_text_idx]), max([len(i) for i in test_text_idx]), max([len(i) for i in evidences_text_idx]))"
      ]
    },
    {
      "cell_type": "code",
      "execution_count": 24,
      "metadata": {
        "id": "1M8CK14jMi62"
      },
      "outputs": [],
      "source": [
        "text_pad_len = 50\n",
        "evidences_pad_len = 80"
      ]
    },
    {
      "cell_type": "code",
      "execution_count": 25,
      "metadata": {
        "id": "RKjMjBcDMi62"
      },
      "outputs": [],
      "source": [
        "def construct_input_text(text_idx, padding_len, wordidx_):\n",
        "    idx_data = []\n",
        "    for texts in text_idx:\n",
        "        if len(texts) < padding_len:\n",
        "            idx_data.append([wordidx_[\"<cls>\"]] + texts + [wordidx_[\"<sep>\"]] + [wordidx_[\"<pad>\"]] * (padding_len - len(texts)))\n",
        "        else:\n",
        "            idx_data.append([wordidx_[\"<cls>\"]] + texts[:padding_len] + [wordidx_[\"<sep>\"]])\n",
        "    return idx_data"
      ]
    },
    {
      "cell_type": "code",
      "execution_count": 26,
      "metadata": {
        "id": "rB7q3sG4Mi62"
      },
      "outputs": [],
      "source": [
        "train_input = construct_input_text(train_text_idx, text_pad_len, wordidx)\n",
        "dev_input = construct_input_text(dev_text_idx, text_pad_len, wordidx)\n",
        "test_input = construct_input_text(test_text_idx, text_pad_len, wordidx)\n",
        "evidences_input = construct_input_text(evidences_text_idx, evidences_pad_len, wordidx)"
      ]
    },
    {
      "cell_type": "code",
      "execution_count": 27,
      "metadata": {
        "colab": {
          "base_uri": "https://localhost:8080/"
        },
        "id": "d4ecWuAuMi62",
        "outputId": "8979f06f-40b4-4f94-ee2c-6700b057855a"
      },
      "outputs": [
        {
          "output_type": "stream",
          "name": "stdout",
          "text": [
            "52 82\n"
          ]
        }
      ],
      "source": [
        "print(len(train_input[0]), len(evidences_input[0]))"
      ]
    },
    {
      "cell_type": "code",
      "execution_count": 28,
      "metadata": {
        "scrolled": true,
        "colab": {
          "base_uri": "https://localhost:8080/"
        },
        "id": "bEXFY3vzMi62",
        "outputId": "2839b457-82a1-40e1-9b94-fbe814a51dbc"
      },
      "outputs": [
        {
          "output_type": "stream",
          "name": "stdout",
          "text": [
            "90097\n"
          ]
        }
      ],
      "source": [
        "vocab_size = len(idxword)\n",
        "print(vocab_size)"
      ]
    },
    {
      "cell_type": "code",
      "execution_count": 29,
      "metadata": {
        "id": "QIRiLydLMi63"
      },
      "outputs": [],
      "source": [
        "from torch.utils.data import Dataset\n",
        "import random\n",
        "\n",
        "class TrainDataset(Dataset):\n",
        "    def __init__(self, text_input_data, evidence_input_data, tfidf_sort_evidences, evidence_label, negative_num=10):\n",
        "        self.text_input_data = text_input_data\n",
        "        self.evidence_input_data = evidence_input_data\n",
        "        self.tfidf_sort_evidences = tfidf_sort_evidences\n",
        "        self.evidence_label = evidence_label\n",
        "        self.negative_num = 10\n",
        "        self.evidence_len = len(evidence_input_data[0])\n",
        "        self.text_len = len(text_input_data[0])\n",
        "\n",
        "    def __len__(self):\n",
        "        return len(self.text_input_data)\n",
        "\n",
        "    def __getitem__(self, idx):\n",
        "        # please note the negative evidences\n",
        "        return [self.text_input_data[idx], random.sample(self.tfidf_sort_evidences[idx][10: self.negative_num*10], self.negative_num), self.evidence_label[idx]]\n",
        "\n",
        "    def collate_fn(self, batch):\n",
        "        queries = []\n",
        "        queries_pos = []\n",
        "        evidences = []\n",
        "        temp_labels = []\n",
        "\n",
        "        for i, j, k in batch:\n",
        "            queries.append(i)\n",
        "            queries_pos.append(list(range(self.text_len)))\n",
        "            temp_labels.append(k)\n",
        "            evidences.extend(k + j)\n",
        "\n",
        "        evidences = list(set(evidences))\n",
        "\n",
        "        evidences2idx = {}\n",
        "        for i, j in enumerate(evidences):\n",
        "            evidences2idx[j] = i\n",
        "\n",
        "        labels = []\n",
        "        for i in temp_labels:\n",
        "            labels.append([evidences2idx[j] for j in i])\n",
        "\n",
        "        evidences = [self.evidence_input_data[i] for i in evidences]\n",
        "        evidences_pos = [list(range(self.evidence_len)) for _ in range(len(evidences))]\n",
        "\n",
        "        batch_encoding = {}\n",
        "        batch_encoding[\"queries\"] = torch.LongTensor(queries)\n",
        "        batch_encoding[\"evidences\"] = torch.LongTensor(evidences)\n",
        "        batch_encoding[\"queries_pos\"] = torch.LongTensor(queries_pos)\n",
        "        batch_encoding[\"evidences_pos\"] = torch.LongTensor(evidences_pos)\n",
        "        batch_encoding[\"labels\"] = labels\n",
        "\n",
        "        return batch_encoding"
      ]
    },
    {
      "cell_type": "code",
      "execution_count": 30,
      "metadata": {
        "id": "S_R-VCeCMi63"
      },
      "outputs": [],
      "source": [
        "train_set = TrainDataset(train_input, evidences_input, train_sort_evidences, train_claim_evidences, negative_num=800)\n",
        "from torch.utils.data import DataLoader\n",
        "\n",
        "dataloader = DataLoader(train_set, batch_size=5, shuffle=True, num_workers=0, collate_fn=train_set.collate_fn)"
      ]
    },
    {
      "cell_type": "markdown",
      "metadata": {
        "id": "1FA2ao2l8hOg"
      },
      "source": [
        "# 2. Model Implementation\n",
        "(You can add as many code blocks and text blocks as you need. However, YOU SHOULD NOT MODIFY the section title)"
      ]
    },
    {
      "cell_type": "code",
      "execution_count": 170,
      "metadata": {
        "id": "MTYWdmL0Mi63"
      },
      "outputs": [],
      "source": [
        "# from workshop\n",
        "import torch\n",
        "import torch.nn as nn\n",
        "import torch.optim as optim\n",
        "import torch.nn.functional as F\n",
        "\n",
        "class Encoder(nn.Module):\n",
        "    def __init__(self, vocab_emb, embed_dim, hidden_size, num_layers, max_position=180, dropout=0.2):\n",
        "        super(Encoder, self).__init__()\n",
        "        self.hidden_size = hidden_size\n",
        "        self.embedding = nn.Embedding(vocab_emb, embed_dim)\n",
        "        self.pos_embedding = nn.Embedding(max_position, embed_dim)\n",
        "        self.encoder = nn.LSTM(embed_dim, hidden_size, num_layers=num_layers, batch_first=True, dropout=dropout, bidirectional=True)\n",
        "        self.dropout = nn.Dropout(p=dropout)\n",
        "\n",
        "    def forward(self, text_data, position_text):\n",
        "        text_x = self.embedding(text_data) + self.pos_embedding(position_text)\n",
        "        text_x = self.dropout(text_x)\n",
        "        x_encoded, _ = self.encoder(text_x)\n",
        "        x_encoded = self.dropout(x_encoded)\n",
        "        return x_encoded"
      ]
    },
    {
      "cell_type": "code",
      "execution_count": 171,
      "metadata": {
        "scrolled": true,
        "colab": {
          "base_uri": "https://localhost:8080/",
          "height": 373
        },
        "id": "1x1If_spMi63",
        "outputId": "ec58d8cd-d698-4124-da73-387a72da0376"
      },
      "outputs": [
        {
          "output_type": "error",
          "ename": "RuntimeError",
          "evalue": "CUDA error: device-side assert triggered\nCUDA kernel errors might be asynchronously reported at some other API call, so the stacktrace below might be incorrect.\nFor debugging consider passing CUDA_LAUNCH_BLOCKING=1.\nCompile with `TORCH_USE_CUDA_DSA` to enable device-side assertions.\n",
          "traceback": [
            "\u001b[0;31m---------------------------------------------------------------------------\u001b[0m",
            "\u001b[0;31mRuntimeError\u001b[0m                              Traceback (most recent call last)",
            "\u001b[0;32m<ipython-input-171-b0545a268a63>\u001b[0m in \u001b[0;36m<cell line: 2>\u001b[0;34m()\u001b[0m\n\u001b[1;32m      1\u001b[0m \u001b[0mlstm_encoder\u001b[0m \u001b[0;34m=\u001b[0m \u001b[0mEncoder\u001b[0m\u001b[0;34m(\u001b[0m\u001b[0mvocab_emb\u001b[0m\u001b[0;34m=\u001b[0m\u001b[0mvocab_size\u001b[0m\u001b[0;34m,\u001b[0m \u001b[0membed_dim\u001b[0m\u001b[0;34m=\u001b[0m\u001b[0;36m512\u001b[0m\u001b[0;34m,\u001b[0m \u001b[0mhidden_size\u001b[0m\u001b[0;34m=\u001b[0m\u001b[0;36m512\u001b[0m\u001b[0;34m,\u001b[0m \u001b[0mnum_layers\u001b[0m\u001b[0;34m=\u001b[0m\u001b[0;36m6\u001b[0m\u001b[0;34m,\u001b[0m \u001b[0mmax_position\u001b[0m\u001b[0;34m=\u001b[0m\u001b[0;36m180\u001b[0m\u001b[0;34m)\u001b[0m\u001b[0;34m\u001b[0m\u001b[0;34m\u001b[0m\u001b[0m\n\u001b[0;32m----> 2\u001b[0;31m \u001b[0mlstm_encoder\u001b[0m\u001b[0;34m.\u001b[0m\u001b[0mcuda\u001b[0m\u001b[0;34m(\u001b[0m\u001b[0;34m)\u001b[0m\u001b[0;34m\u001b[0m\u001b[0;34m\u001b[0m\u001b[0m\n\u001b[0m",
            "\u001b[0;32m/usr/local/lib/python3.10/dist-packages/torch/nn/modules/module.py\u001b[0m in \u001b[0;36mcuda\u001b[0;34m(self, device)\u001b[0m\n\u001b[1;32m    913\u001b[0m             \u001b[0mModule\u001b[0m\u001b[0;34m:\u001b[0m \u001b[0mself\u001b[0m\u001b[0;34m\u001b[0m\u001b[0;34m\u001b[0m\u001b[0m\n\u001b[1;32m    914\u001b[0m         \"\"\"\n\u001b[0;32m--> 915\u001b[0;31m         \u001b[0;32mreturn\u001b[0m \u001b[0mself\u001b[0m\u001b[0;34m.\u001b[0m\u001b[0m_apply\u001b[0m\u001b[0;34m(\u001b[0m\u001b[0;32mlambda\u001b[0m \u001b[0mt\u001b[0m\u001b[0;34m:\u001b[0m \u001b[0mt\u001b[0m\u001b[0;34m.\u001b[0m\u001b[0mcuda\u001b[0m\u001b[0;34m(\u001b[0m\u001b[0mdevice\u001b[0m\u001b[0;34m)\u001b[0m\u001b[0;34m)\u001b[0m\u001b[0;34m\u001b[0m\u001b[0;34m\u001b[0m\u001b[0m\n\u001b[0m\u001b[1;32m    916\u001b[0m \u001b[0;34m\u001b[0m\u001b[0m\n\u001b[1;32m    917\u001b[0m     \u001b[0;32mdef\u001b[0m \u001b[0mipu\u001b[0m\u001b[0;34m(\u001b[0m\u001b[0mself\u001b[0m\u001b[0;34m:\u001b[0m \u001b[0mT\u001b[0m\u001b[0;34m,\u001b[0m \u001b[0mdevice\u001b[0m\u001b[0;34m:\u001b[0m \u001b[0mOptional\u001b[0m\u001b[0;34m[\u001b[0m\u001b[0mUnion\u001b[0m\u001b[0;34m[\u001b[0m\u001b[0mint\u001b[0m\u001b[0;34m,\u001b[0m \u001b[0mdevice\u001b[0m\u001b[0;34m]\u001b[0m\u001b[0;34m]\u001b[0m \u001b[0;34m=\u001b[0m \u001b[0;32mNone\u001b[0m\u001b[0;34m)\u001b[0m \u001b[0;34m->\u001b[0m \u001b[0mT\u001b[0m\u001b[0;34m:\u001b[0m\u001b[0;34m\u001b[0m\u001b[0;34m\u001b[0m\u001b[0m\n",
            "\u001b[0;32m/usr/local/lib/python3.10/dist-packages/torch/nn/modules/module.py\u001b[0m in \u001b[0;36m_apply\u001b[0;34m(self, fn, recurse)\u001b[0m\n\u001b[1;32m    777\u001b[0m         \u001b[0;32mif\u001b[0m \u001b[0mrecurse\u001b[0m\u001b[0;34m:\u001b[0m\u001b[0;34m\u001b[0m\u001b[0;34m\u001b[0m\u001b[0m\n\u001b[1;32m    778\u001b[0m             \u001b[0;32mfor\u001b[0m \u001b[0mmodule\u001b[0m \u001b[0;32min\u001b[0m \u001b[0mself\u001b[0m\u001b[0;34m.\u001b[0m\u001b[0mchildren\u001b[0m\u001b[0;34m(\u001b[0m\u001b[0;34m)\u001b[0m\u001b[0;34m:\u001b[0m\u001b[0;34m\u001b[0m\u001b[0;34m\u001b[0m\u001b[0m\n\u001b[0;32m--> 779\u001b[0;31m                 \u001b[0mmodule\u001b[0m\u001b[0;34m.\u001b[0m\u001b[0m_apply\u001b[0m\u001b[0;34m(\u001b[0m\u001b[0mfn\u001b[0m\u001b[0;34m)\u001b[0m\u001b[0;34m\u001b[0m\u001b[0;34m\u001b[0m\u001b[0m\n\u001b[0m\u001b[1;32m    780\u001b[0m \u001b[0;34m\u001b[0m\u001b[0m\n\u001b[1;32m    781\u001b[0m         \u001b[0;32mdef\u001b[0m \u001b[0mcompute_should_use_set_data\u001b[0m\u001b[0;34m(\u001b[0m\u001b[0mtensor\u001b[0m\u001b[0;34m,\u001b[0m \u001b[0mtensor_applied\u001b[0m\u001b[0;34m)\u001b[0m\u001b[0;34m:\u001b[0m\u001b[0;34m\u001b[0m\u001b[0;34m\u001b[0m\u001b[0m\n",
            "\u001b[0;32m/usr/local/lib/python3.10/dist-packages/torch/nn/modules/module.py\u001b[0m in \u001b[0;36m_apply\u001b[0;34m(self, fn, recurse)\u001b[0m\n\u001b[1;32m    802\u001b[0m             \u001b[0;31m# `with torch.no_grad():`\u001b[0m\u001b[0;34m\u001b[0m\u001b[0;34m\u001b[0m\u001b[0m\n\u001b[1;32m    803\u001b[0m             \u001b[0;32mwith\u001b[0m \u001b[0mtorch\u001b[0m\u001b[0;34m.\u001b[0m\u001b[0mno_grad\u001b[0m\u001b[0;34m(\u001b[0m\u001b[0;34m)\u001b[0m\u001b[0;34m:\u001b[0m\u001b[0;34m\u001b[0m\u001b[0;34m\u001b[0m\u001b[0m\n\u001b[0;32m--> 804\u001b[0;31m                 \u001b[0mparam_applied\u001b[0m \u001b[0;34m=\u001b[0m \u001b[0mfn\u001b[0m\u001b[0;34m(\u001b[0m\u001b[0mparam\u001b[0m\u001b[0;34m)\u001b[0m\u001b[0;34m\u001b[0m\u001b[0;34m\u001b[0m\u001b[0m\n\u001b[0m\u001b[1;32m    805\u001b[0m             \u001b[0mp_should_use_set_data\u001b[0m \u001b[0;34m=\u001b[0m \u001b[0mcompute_should_use_set_data\u001b[0m\u001b[0;34m(\u001b[0m\u001b[0mparam\u001b[0m\u001b[0;34m,\u001b[0m \u001b[0mparam_applied\u001b[0m\u001b[0;34m)\u001b[0m\u001b[0;34m\u001b[0m\u001b[0;34m\u001b[0m\u001b[0m\n\u001b[1;32m    806\u001b[0m \u001b[0;34m\u001b[0m\u001b[0m\n",
            "\u001b[0;32m/usr/local/lib/python3.10/dist-packages/torch/nn/modules/module.py\u001b[0m in \u001b[0;36m<lambda>\u001b[0;34m(t)\u001b[0m\n\u001b[1;32m    913\u001b[0m             \u001b[0mModule\u001b[0m\u001b[0;34m:\u001b[0m \u001b[0mself\u001b[0m\u001b[0;34m\u001b[0m\u001b[0;34m\u001b[0m\u001b[0m\n\u001b[1;32m    914\u001b[0m         \"\"\"\n\u001b[0;32m--> 915\u001b[0;31m         \u001b[0;32mreturn\u001b[0m \u001b[0mself\u001b[0m\u001b[0;34m.\u001b[0m\u001b[0m_apply\u001b[0m\u001b[0;34m(\u001b[0m\u001b[0;32mlambda\u001b[0m \u001b[0mt\u001b[0m\u001b[0;34m:\u001b[0m \u001b[0mt\u001b[0m\u001b[0;34m.\u001b[0m\u001b[0mcuda\u001b[0m\u001b[0;34m(\u001b[0m\u001b[0mdevice\u001b[0m\u001b[0;34m)\u001b[0m\u001b[0;34m)\u001b[0m\u001b[0;34m\u001b[0m\u001b[0;34m\u001b[0m\u001b[0m\n\u001b[0m\u001b[1;32m    916\u001b[0m \u001b[0;34m\u001b[0m\u001b[0m\n\u001b[1;32m    917\u001b[0m     \u001b[0;32mdef\u001b[0m \u001b[0mipu\u001b[0m\u001b[0;34m(\u001b[0m\u001b[0mself\u001b[0m\u001b[0;34m:\u001b[0m \u001b[0mT\u001b[0m\u001b[0;34m,\u001b[0m \u001b[0mdevice\u001b[0m\u001b[0;34m:\u001b[0m \u001b[0mOptional\u001b[0m\u001b[0;34m[\u001b[0m\u001b[0mUnion\u001b[0m\u001b[0;34m[\u001b[0m\u001b[0mint\u001b[0m\u001b[0;34m,\u001b[0m \u001b[0mdevice\u001b[0m\u001b[0;34m]\u001b[0m\u001b[0;34m]\u001b[0m \u001b[0;34m=\u001b[0m \u001b[0;32mNone\u001b[0m\u001b[0;34m)\u001b[0m \u001b[0;34m->\u001b[0m \u001b[0mT\u001b[0m\u001b[0;34m:\u001b[0m\u001b[0;34m\u001b[0m\u001b[0;34m\u001b[0m\u001b[0m\n",
            "\u001b[0;31mRuntimeError\u001b[0m: CUDA error: device-side assert triggered\nCUDA kernel errors might be asynchronously reported at some other API call, so the stacktrace below might be incorrect.\nFor debugging consider passing CUDA_LAUNCH_BLOCKING=1.\nCompile with `TORCH_USE_CUDA_DSA` to enable device-side assertions.\n"
          ]
        }
      ],
      "source": [
        "lstm_encoder = Encoder(vocab_emb=vocab_size, embed_dim=512, hidden_size=512, num_layers=6, max_position=180)\n",
        "lstm_encoder.cuda()"
      ]
    },
    {
      "cell_type": "markdown",
      "metadata": {
        "id": "VvPejq1pMi63"
      },
      "source": [
        "### Training"
      ]
    },
    {
      "cell_type": "code",
      "execution_count": 161,
      "metadata": {
        "scrolled": true,
        "id": "zDWk2Z-MMi63"
      },
      "outputs": [],
      "source": [
        "torch.manual_seed(41)\n",
        "torch.cuda.manual_seed_all(41)\n",
        "random.seed(41)\n",
        "\n",
        "weight_decay = 0.01\n",
        "encoder_optimizer = optim.Adam(lstm_encoder.parameters(), weight_decay=weight_decay)\n",
        "max_lr = 1e-4\n",
        "for param_group in encoder_optimizer.param_groups:\n",
        "    param_group['lr'] = max_lr\n",
        "\n",
        "accumulate_step = 2\n",
        "grad_norm = 0.5\n",
        "warmup_steps = 500\n",
        "report_freq = 10\n",
        "eval_interval = 50\n",
        "save_dir = \"model_ckpts\""
      ]
    },
    {
      "cell_type": "code",
      "execution_count": 162,
      "metadata": {
        "id": "LL07Wy-BMi63"
      },
      "outputs": [],
      "source": [
        "retrieval_num = 5\n",
        "dev_candis_num = 10\n",
        "\n",
        "def validate(dev_text_idx, evidence_text_idx, dev_sort_evidences, dev_claim_evidences, encoder_model):\n",
        "    # get evidence embeddings\n",
        "    start_idx = 0\n",
        "    batch_size = 800\n",
        "    evidence_len = len(evidence_text_idx[0])\n",
        "    text_len = len(dev_text_idx[0])\n",
        "\n",
        "    evidence_embeddings = []\n",
        "    encoder_model.eval()\n",
        "\n",
        "    while start_idx < len(evidence_text_idx):\n",
        "        end_idx = min(start_idx + batch_size, len(evidence_text_idx))\n",
        "\n",
        "        cur_evidence = torch.LongTensor(evidence_text_idx[start_idx:end_idx]).view(-1, evidence_len).cuda()\n",
        "        cur_evidence_pos = torch.LongTensor([list(range(evidence_len)) for _ in range(end_idx - start_idx)]).cuda()\n",
        "        print()\n",
        "        cur_embedding = encoder_model(cur_evidence, cur_evidence_pos)\n",
        "        cur_embedding = cur_embedding[:, -1, :].detach()\n",
        "        cur_embedding_cpu = F.normalize(cur_embedding, p=2, dim=1).cpu()\n",
        "        del cur_embedding, cur_evidence, cur_evidence_pos\n",
        "        start_idx = end_idx\n",
        "        evidence_embeddings.append(cur_embedding_cpu)\n",
        "\n",
        "    evidence_embeddings = torch.cat(evidence_embeddings, dim=0).t()\n",
        "    print(\"get all evidence embeddings!\")\n",
        "    f = []\n",
        "\n",
        "    start_idx = 0\n",
        "    batch_size = 800\n",
        "\n",
        "    while start_idx < len(dev_text_idx):\n",
        "        end_idx = min(start_idx + batch_size, len(dev_text_idx))\n",
        "\n",
        "        cur_query = torch.LongTensor(dev_text_idx[start_idx:end_idx]).view(-1, text_len).cuda()\n",
        "        cur_query_pos = torch.LongTensor([list(range(text_len)) for _ in range(end_idx - start_idx)]).cuda()\n",
        "\n",
        "        query_embedding = encoder_model(cur_query, cur_query_pos)\n",
        "        query_embedding = query_embedding[:, -1, :].detach()\n",
        "        query_embedding = F.normalize(query_embedding, p=2, dim=1).cpu()\n",
        "\n",
        "        scores = torch.mm(query_embedding, evidence_embeddings)\n",
        "\n",
        "        for i in range(scores.size(0)):\n",
        "            new_score = torch.index_select(scores[i], 0, torch.LongTensor(dev_sort_evidences[start_idx+i][:dev_candis_num]))\n",
        "            topk_ids = torch.argsort(new_score).tolist()\n",
        "            select_ids = topk_ids[:retrieval_num]\n",
        "\n",
        "            evidence_correct = 0\n",
        "            pred_evidences = [dev_sort_evidences[start_idx+i][j] for j in select_ids]\n",
        "            label = dev_claim_evidences[start_idx+i]\n",
        "            for evidence_id in label:\n",
        "                if evidence_id in pred_evidences:\n",
        "                    evidence_correct += 1\n",
        "            if evidence_correct > 0:\n",
        "                evidence_recall = float(evidence_correct) / len(label)\n",
        "                evidence_precision = float(evidence_correct) / len(pred_evidences)\n",
        "                evidence_fscore = (2 * evidence_precision * evidence_recall) / (evidence_precision + evidence_recall)\n",
        "                print(evidence_fscore)\n",
        "            else:\n",
        "                evidence_fscore = 0\n",
        "            f.append(evidence_fscore)\n",
        "\n",
        "        start_idx = end_idx\n",
        "        # print(\"----\")\n",
        "    fscore = np.mean(f)\n",
        "    print(\"\\n\")\n",
        "    print(\"Evidence Retrieval F-score: %.3f\" % fscore)\n",
        "    print(\"\\n\")\n",
        "    encoder_model.train()\n",
        "    return fscore"
      ]
    },
    {
      "cell_type": "code",
      "execution_count": 35,
      "metadata": {
        "colab": {
          "base_uri": "https://localhost:8080/"
        },
        "id": "TaIrloEEMi66",
        "outputId": "38b288eb-df4e-4829-b599-c94a569e3f18"
      },
      "outputs": [
        {
          "output_type": "stream",
          "name": "stdout",
          "text": [
            "env: WANDB_NOTEBOOK_NAME=Mon5PMGroup7_COMP90042.ipynb\n"
          ]
        }
      ],
      "source": [
        "%env WANDB_NOTEBOOK_NAME Mon5PMGroup7_COMP90042.ipynb"
      ]
    },
    {
      "cell_type": "code",
      "source": [
        "import subprocess\n",
        "\n",
        "def run_command(command):\n",
        "    result = subprocess.run(command, shell=True, text=True, capture_output=True)\n",
        "    if result.returncode != 0:\n",
        "        print(f\"Command failed: {command}\\n{result.stderr}\")\n",
        "    else:\n",
        "        print(f\"Command succeeded: {command}\\n{result.stdout}\")\n",
        "    return result\n",
        "\n",
        "required_packages = [\"wandb\"]\n",
        "run_command(f\"pip install {' '.join(required_packages)}\")"
      ],
      "metadata": {
        "colab": {
          "base_uri": "https://localhost:8080/"
        },
        "id": "75q23EMsQ7ET",
        "outputId": "77793624-4555-4a3b-824d-959ac8c7856f"
      },
      "execution_count": 163,
      "outputs": [
        {
          "output_type": "stream",
          "name": "stdout",
          "text": [
            "Command succeeded: pip install wandb\n",
            "Requirement already satisfied: wandb in /usr/local/lib/python3.10/dist-packages (0.17.0)\n",
            "Requirement already satisfied: click!=8.0.0,>=7.1 in /usr/local/lib/python3.10/dist-packages (from wandb) (8.1.7)\n",
            "Requirement already satisfied: docker-pycreds>=0.4.0 in /usr/local/lib/python3.10/dist-packages (from wandb) (0.4.0)\n",
            "Requirement already satisfied: gitpython!=3.1.29,>=1.0.0 in /usr/local/lib/python3.10/dist-packages (from wandb) (3.1.43)\n",
            "Requirement already satisfied: platformdirs in /usr/local/lib/python3.10/dist-packages (from wandb) (4.2.2)\n",
            "Requirement already satisfied: protobuf!=4.21.0,<5,>=3.19.0 in /usr/local/lib/python3.10/dist-packages (from wandb) (3.20.3)\n",
            "Requirement already satisfied: psutil>=5.0.0 in /usr/local/lib/python3.10/dist-packages (from wandb) (5.9.5)\n",
            "Requirement already satisfied: pyyaml in /usr/local/lib/python3.10/dist-packages (from wandb) (6.0.1)\n",
            "Requirement already satisfied: requests<3,>=2.0.0 in /usr/local/lib/python3.10/dist-packages (from wandb) (2.31.0)\n",
            "Requirement already satisfied: sentry-sdk>=1.0.0 in /usr/local/lib/python3.10/dist-packages (from wandb) (2.3.1)\n",
            "Requirement already satisfied: setproctitle in /usr/local/lib/python3.10/dist-packages (from wandb) (1.3.3)\n",
            "Requirement already satisfied: setuptools in /usr/local/lib/python3.10/dist-packages (from wandb) (67.7.2)\n",
            "Requirement already satisfied: six>=1.4.0 in /usr/local/lib/python3.10/dist-packages (from docker-pycreds>=0.4.0->wandb) (1.16.0)\n",
            "Requirement already satisfied: gitdb<5,>=4.0.1 in /usr/local/lib/python3.10/dist-packages (from gitpython!=3.1.29,>=1.0.0->wandb) (4.0.11)\n",
            "Requirement already satisfied: charset-normalizer<4,>=2 in /usr/local/lib/python3.10/dist-packages (from requests<3,>=2.0.0->wandb) (3.3.2)\n",
            "Requirement already satisfied: idna<4,>=2.5 in /usr/local/lib/python3.10/dist-packages (from requests<3,>=2.0.0->wandb) (3.7)\n",
            "Requirement already satisfied: urllib3<3,>=1.21.1 in /usr/local/lib/python3.10/dist-packages (from requests<3,>=2.0.0->wandb) (2.0.7)\n",
            "Requirement already satisfied: certifi>=2017.4.17 in /usr/local/lib/python3.10/dist-packages (from requests<3,>=2.0.0->wandb) (2024.2.2)\n",
            "Requirement already satisfied: smmap<6,>=3.0.1 in /usr/local/lib/python3.10/dist-packages (from gitdb<5,>=4.0.1->gitpython!=3.1.29,>=1.0.0->wandb) (5.0.1)\n",
            "\n"
          ]
        },
        {
          "output_type": "execute_result",
          "data": {
            "text/plain": [
              "CompletedProcess(args='pip install wandb', returncode=0, stdout='Requirement already satisfied: wandb in /usr/local/lib/python3.10/dist-packages (0.17.0)\\nRequirement already satisfied: click!=8.0.0,>=7.1 in /usr/local/lib/python3.10/dist-packages (from wandb) (8.1.7)\\nRequirement already satisfied: docker-pycreds>=0.4.0 in /usr/local/lib/python3.10/dist-packages (from wandb) (0.4.0)\\nRequirement already satisfied: gitpython!=3.1.29,>=1.0.0 in /usr/local/lib/python3.10/dist-packages (from wandb) (3.1.43)\\nRequirement already satisfied: platformdirs in /usr/local/lib/python3.10/dist-packages (from wandb) (4.2.2)\\nRequirement already satisfied: protobuf!=4.21.0,<5,>=3.19.0 in /usr/local/lib/python3.10/dist-packages (from wandb) (3.20.3)\\nRequirement already satisfied: psutil>=5.0.0 in /usr/local/lib/python3.10/dist-packages (from wandb) (5.9.5)\\nRequirement already satisfied: pyyaml in /usr/local/lib/python3.10/dist-packages (from wandb) (6.0.1)\\nRequirement already satisfied: requests<3,>=2.0.0 in /usr/local/lib/python3.10/dist-packages (from wandb) (2.31.0)\\nRequirement already satisfied: sentry-sdk>=1.0.0 in /usr/local/lib/python3.10/dist-packages (from wandb) (2.3.1)\\nRequirement already satisfied: setproctitle in /usr/local/lib/python3.10/dist-packages (from wandb) (1.3.3)\\nRequirement already satisfied: setuptools in /usr/local/lib/python3.10/dist-packages (from wandb) (67.7.2)\\nRequirement already satisfied: six>=1.4.0 in /usr/local/lib/python3.10/dist-packages (from docker-pycreds>=0.4.0->wandb) (1.16.0)\\nRequirement already satisfied: gitdb<5,>=4.0.1 in /usr/local/lib/python3.10/dist-packages (from gitpython!=3.1.29,>=1.0.0->wandb) (4.0.11)\\nRequirement already satisfied: charset-normalizer<4,>=2 in /usr/local/lib/python3.10/dist-packages (from requests<3,>=2.0.0->wandb) (3.3.2)\\nRequirement already satisfied: idna<4,>=2.5 in /usr/local/lib/python3.10/dist-packages (from requests<3,>=2.0.0->wandb) (3.7)\\nRequirement already satisfied: urllib3<3,>=1.21.1 in /usr/local/lib/python3.10/dist-packages (from requests<3,>=2.0.0->wandb) (2.0.7)\\nRequirement already satisfied: certifi>=2017.4.17 in /usr/local/lib/python3.10/dist-packages (from requests<3,>=2.0.0->wandb) (2024.2.2)\\nRequirement already satisfied: smmap<6,>=3.0.1 in /usr/local/lib/python3.10/dist-packages (from gitdb<5,>=4.0.1->gitpython!=3.1.29,>=1.0.0->wandb) (5.0.1)\\n', stderr='')"
            ]
          },
          "metadata": {},
          "execution_count": 163
        }
      ]
    },
    {
      "cell_type": "code",
      "execution_count": 164,
      "metadata": {
        "scrolled": true,
        "colab": {
          "base_uri": "https://localhost:8080/",
          "height": 801,
          "referenced_widgets": [
            "41aeb6b98e8342a897b755bc5cd162e5",
            "b0b58f518c82445d9e8dff93d6123a93",
            "ad6322e978754703965765f99f1b222e",
            "3da158ade75d4767b89cc0c8c6274183",
            "61246f7cecfd46148c92eee716230050",
            "53bd5ccb1a89435488a03651cb5c8ff7",
            "e6ec98ff8f2e4598a472dbf538c2d726",
            "5211d5777858423c8680ed423b70e835"
          ]
        },
        "id": "IO0G30QDMi66",
        "outputId": "977ef860-6b0b-4b31-ba20-141b14637240"
      },
      "outputs": [
        {
          "output_type": "display_data",
          "data": {
            "text/plain": [
              "<IPython.core.display.HTML object>"
            ],
            "text/html": [
              "Finishing last run (ID:5xk4qt7c) before initializing another..."
            ]
          },
          "metadata": {}
        },
        {
          "output_type": "display_data",
          "data": {
            "text/plain": [
              "VBox(children=(Label(value='0.002 MB of 0.002 MB uploaded\\r'), FloatProgress(value=1.0, max=1.0)))"
            ],
            "application/vnd.jupyter.widget-view+json": {
              "version_major": 2,
              "version_minor": 0,
              "model_id": "41aeb6b98e8342a897b755bc5cd162e5"
            }
          },
          "metadata": {}
        },
        {
          "output_type": "display_data",
          "data": {
            "text/plain": [
              "<IPython.core.display.HTML object>"
            ],
            "text/html": [
              "<style>\n",
              "    table.wandb td:nth-child(1) { padding: 0 10px; text-align: left ; width: auto;} td:nth-child(2) {text-align: left ; width: 100%}\n",
              "    .wandb-row { display: flex; flex-direction: row; flex-wrap: wrap; justify-content: flex-start; width: 100% }\n",
              "    .wandb-col { display: flex; flex-direction: column; flex-basis: 100%; flex: 1; padding: 10px; }\n",
              "    </style>\n",
              "<div class=\"wandb-row\"><div class=\"wandb-col\"><h3>Run history:</h3><br/><table class=\"wandb\"><tr><td>acc</td><td>▁▄█▁█▄</td></tr><tr><td>learning_rate</td><td>▁▁▁▂▂▂▂▃▃▃▃▄▄▄▄▅▅▅▅▆▆▆▆▇▇▇▇███</td></tr><tr><td>loss</td><td>█▃▃▂▂▃▄▃▂▂▂▁▁▁▁▁▁▁▁▁▁▁▁▁▁▁▁▁▁▁</td></tr></table><br/></div><div class=\"wandb-col\"><h3>Run summary:</h3><br/><table class=\"wandb\"><tr><td>acc</td><td>0.26623</td></tr><tr><td>learning_rate</td><td>0.01</td></tr><tr><td>loss</td><td>1.37567</td></tr></table><br/></div></div>"
            ]
          },
          "metadata": {}
        },
        {
          "output_type": "display_data",
          "data": {
            "text/plain": [
              "<IPython.core.display.HTML object>"
            ],
            "text/html": [
              " View run <strong style=\"color:#cdcd00\">cls</strong> at: <a href='https://wandb.ai/damonz-deeplearning/nlp/runs/5xk4qt7c' target=\"_blank\">https://wandb.ai/damonz-deeplearning/nlp/runs/5xk4qt7c</a><br/> View project at: <a href='https://wandb.ai/damonz-deeplearning/nlp' target=\"_blank\">https://wandb.ai/damonz-deeplearning/nlp</a><br/>Synced 5 W&B file(s), 0 media file(s), 0 artifact file(s) and 0 other file(s)"
            ]
          },
          "metadata": {}
        },
        {
          "output_type": "display_data",
          "data": {
            "text/plain": [
              "<IPython.core.display.HTML object>"
            ],
            "text/html": [
              "Find logs at: <code>./wandb/run-20240525_091327-5xk4qt7c/logs</code>"
            ]
          },
          "metadata": {}
        },
        {
          "output_type": "display_data",
          "data": {
            "text/plain": [
              "<IPython.core.display.HTML object>"
            ],
            "text/html": [
              "Successfully finished last run (ID:5xk4qt7c). Initializing new run:<br/>"
            ]
          },
          "metadata": {}
        },
        {
          "output_type": "display_data",
          "data": {
            "text/plain": [
              "<IPython.core.display.HTML object>"
            ],
            "text/html": [
              "Tracking run with wandb version 0.17.0"
            ]
          },
          "metadata": {}
        },
        {
          "output_type": "display_data",
          "data": {
            "text/plain": [
              "<IPython.core.display.HTML object>"
            ],
            "text/html": [
              "Run data is saved locally in <code>/content/wandb/run-20240525_093430-y24tcj9i</code>"
            ]
          },
          "metadata": {}
        },
        {
          "output_type": "display_data",
          "data": {
            "text/plain": [
              "<IPython.core.display.HTML object>"
            ],
            "text/html": [
              "Syncing run <strong><a href='https://wandb.ai/damonz-deeplearning/nlp/runs/y24tcj9i' target=\"_blank\">dpr</a></strong> to <a href='https://wandb.ai/damonz-deeplearning/nlp' target=\"_blank\">Weights & Biases</a> (<a href='https://wandb.me/run' target=\"_blank\">docs</a>)<br/>"
            ]
          },
          "metadata": {}
        },
        {
          "output_type": "display_data",
          "data": {
            "text/plain": [
              "<IPython.core.display.HTML object>"
            ],
            "text/html": [
              " View project at <a href='https://wandb.ai/damonz-deeplearning/nlp' target=\"_blank\">https://wandb.ai/damonz-deeplearning/nlp</a>"
            ]
          },
          "metadata": {}
        },
        {
          "output_type": "display_data",
          "data": {
            "text/plain": [
              "<IPython.core.display.HTML object>"
            ],
            "text/html": [
              " View run at <a href='https://wandb.ai/damonz-deeplearning/nlp/runs/y24tcj9i' target=\"_blank\">https://wandb.ai/damonz-deeplearning/nlp/runs/y24tcj9i</a>"
            ]
          },
          "metadata": {}
        },
        {
          "output_type": "stream",
          "name": "stderr",
          "text": [
            "  0%|          | 0/123 [00:00<?, ?it/s]\n"
          ]
        },
        {
          "output_type": "error",
          "ename": "RuntimeError",
          "evalue": "CUDA error: device-side assert triggered\nCUDA kernel errors might be asynchronously reported at some other API call, so the stacktrace below might be incorrect.\nFor debugging consider passing CUDA_LAUNCH_BLOCKING=1.\nCompile with `TORCH_USE_CUDA_DSA` to enable device-side assertions.\n",
          "traceback": [
            "\u001b[0;31m---------------------------------------------------------------------------\u001b[0m",
            "\u001b[0;31mRuntimeError\u001b[0m                              Traceback (most recent call last)",
            "\u001b[0;32m<ipython-input-164-4906347aec1f>\u001b[0m in \u001b[0;36m<cell line: 15>\u001b[0;34m()\u001b[0m\n\u001b[1;32m     21\u001b[0m \u001b[0;34m\u001b[0m\u001b[0m\n\u001b[1;32m     22\u001b[0m \u001b[0;34m\u001b[0m\u001b[0m\n\u001b[0;32m---> 23\u001b[0;31m         \u001b[0mquery_embeddings\u001b[0m \u001b[0;34m=\u001b[0m \u001b[0mlstm_encoder\u001b[0m\u001b[0;34m(\u001b[0m\u001b[0mbatch\u001b[0m\u001b[0;34m[\u001b[0m\u001b[0;34m\"queries\"\u001b[0m\u001b[0;34m]\u001b[0m\u001b[0;34m.\u001b[0m\u001b[0mcuda\u001b[0m\u001b[0;34m(\u001b[0m\u001b[0;34m)\u001b[0m\u001b[0;34m,\u001b[0m \u001b[0mbatch\u001b[0m\u001b[0;34m[\u001b[0m\u001b[0;34m\"queries_pos\"\u001b[0m\u001b[0;34m]\u001b[0m\u001b[0;34m.\u001b[0m\u001b[0mcuda\u001b[0m\u001b[0;34m(\u001b[0m\u001b[0;34m)\u001b[0m\u001b[0;34m)\u001b[0m\u001b[0;34m\u001b[0m\u001b[0;34m\u001b[0m\u001b[0m\n\u001b[0m\u001b[1;32m     24\u001b[0m         \u001b[0mevidence_embeddings\u001b[0m \u001b[0;34m=\u001b[0m \u001b[0mlstm_encoder\u001b[0m\u001b[0;34m(\u001b[0m\u001b[0mbatch\u001b[0m\u001b[0;34m[\u001b[0m\u001b[0;34m\"evidences\"\u001b[0m\u001b[0;34m]\u001b[0m\u001b[0;34m.\u001b[0m\u001b[0mcuda\u001b[0m\u001b[0;34m(\u001b[0m\u001b[0;34m)\u001b[0m\u001b[0;34m,\u001b[0m \u001b[0mbatch\u001b[0m\u001b[0;34m[\u001b[0m\u001b[0;34m\"evidences_pos\"\u001b[0m\u001b[0;34m]\u001b[0m\u001b[0;34m.\u001b[0m\u001b[0mcuda\u001b[0m\u001b[0;34m(\u001b[0m\u001b[0;34m)\u001b[0m\u001b[0;34m)\u001b[0m\u001b[0;34m\u001b[0m\u001b[0;34m\u001b[0m\u001b[0m\n\u001b[1;32m     25\u001b[0m \u001b[0;34m\u001b[0m\u001b[0m\n",
            "\u001b[0;32m/usr/local/lib/python3.10/dist-packages/torch/nn/modules/module.py\u001b[0m in \u001b[0;36m_wrapped_call_impl\u001b[0;34m(self, *args, **kwargs)\u001b[0m\n\u001b[1;32m   1530\u001b[0m             \u001b[0;32mreturn\u001b[0m \u001b[0mself\u001b[0m\u001b[0;34m.\u001b[0m\u001b[0m_compiled_call_impl\u001b[0m\u001b[0;34m(\u001b[0m\u001b[0;34m*\u001b[0m\u001b[0margs\u001b[0m\u001b[0;34m,\u001b[0m \u001b[0;34m**\u001b[0m\u001b[0mkwargs\u001b[0m\u001b[0;34m)\u001b[0m  \u001b[0;31m# type: ignore[misc]\u001b[0m\u001b[0;34m\u001b[0m\u001b[0;34m\u001b[0m\u001b[0m\n\u001b[1;32m   1531\u001b[0m         \u001b[0;32melse\u001b[0m\u001b[0;34m:\u001b[0m\u001b[0;34m\u001b[0m\u001b[0;34m\u001b[0m\u001b[0m\n\u001b[0;32m-> 1532\u001b[0;31m             \u001b[0;32mreturn\u001b[0m \u001b[0mself\u001b[0m\u001b[0;34m.\u001b[0m\u001b[0m_call_impl\u001b[0m\u001b[0;34m(\u001b[0m\u001b[0;34m*\u001b[0m\u001b[0margs\u001b[0m\u001b[0;34m,\u001b[0m \u001b[0;34m**\u001b[0m\u001b[0mkwargs\u001b[0m\u001b[0;34m)\u001b[0m\u001b[0;34m\u001b[0m\u001b[0;34m\u001b[0m\u001b[0m\n\u001b[0m\u001b[1;32m   1533\u001b[0m \u001b[0;34m\u001b[0m\u001b[0m\n\u001b[1;32m   1534\u001b[0m     \u001b[0;32mdef\u001b[0m \u001b[0m_call_impl\u001b[0m\u001b[0;34m(\u001b[0m\u001b[0mself\u001b[0m\u001b[0;34m,\u001b[0m \u001b[0;34m*\u001b[0m\u001b[0margs\u001b[0m\u001b[0;34m,\u001b[0m \u001b[0;34m**\u001b[0m\u001b[0mkwargs\u001b[0m\u001b[0;34m)\u001b[0m\u001b[0;34m:\u001b[0m\u001b[0;34m\u001b[0m\u001b[0;34m\u001b[0m\u001b[0m\n",
            "\u001b[0;32m/usr/local/lib/python3.10/dist-packages/torch/nn/modules/module.py\u001b[0m in \u001b[0;36m_call_impl\u001b[0;34m(self, *args, **kwargs)\u001b[0m\n\u001b[1;32m   1539\u001b[0m                 \u001b[0;32mor\u001b[0m \u001b[0m_global_backward_pre_hooks\u001b[0m \u001b[0;32mor\u001b[0m \u001b[0m_global_backward_hooks\u001b[0m\u001b[0;34m\u001b[0m\u001b[0;34m\u001b[0m\u001b[0m\n\u001b[1;32m   1540\u001b[0m                 or _global_forward_hooks or _global_forward_pre_hooks):\n\u001b[0;32m-> 1541\u001b[0;31m             \u001b[0;32mreturn\u001b[0m \u001b[0mforward_call\u001b[0m\u001b[0;34m(\u001b[0m\u001b[0;34m*\u001b[0m\u001b[0margs\u001b[0m\u001b[0;34m,\u001b[0m \u001b[0;34m**\u001b[0m\u001b[0mkwargs\u001b[0m\u001b[0;34m)\u001b[0m\u001b[0;34m\u001b[0m\u001b[0;34m\u001b[0m\u001b[0m\n\u001b[0m\u001b[1;32m   1542\u001b[0m \u001b[0;34m\u001b[0m\u001b[0m\n\u001b[1;32m   1543\u001b[0m         \u001b[0;32mtry\u001b[0m\u001b[0;34m:\u001b[0m\u001b[0;34m\u001b[0m\u001b[0;34m\u001b[0m\u001b[0m\n",
            "\u001b[0;32m<ipython-input-82-e2e8397dc0d0>\u001b[0m in \u001b[0;36mforward\u001b[0;34m(self, text_data, position_text)\u001b[0m\n\u001b[1;32m     17\u001b[0m         \u001b[0mtext_x\u001b[0m \u001b[0;34m=\u001b[0m \u001b[0mself\u001b[0m\u001b[0;34m.\u001b[0m\u001b[0membedding\u001b[0m\u001b[0;34m(\u001b[0m\u001b[0mtext_data\u001b[0m\u001b[0;34m)\u001b[0m \u001b[0;34m+\u001b[0m \u001b[0mself\u001b[0m\u001b[0;34m.\u001b[0m\u001b[0mpos_embedding\u001b[0m\u001b[0;34m(\u001b[0m\u001b[0mposition_text\u001b[0m\u001b[0;34m)\u001b[0m\u001b[0;34m\u001b[0m\u001b[0;34m\u001b[0m\u001b[0m\n\u001b[1;32m     18\u001b[0m         \u001b[0mtext_x\u001b[0m \u001b[0;34m=\u001b[0m \u001b[0mself\u001b[0m\u001b[0;34m.\u001b[0m\u001b[0mdropout\u001b[0m\u001b[0;34m(\u001b[0m\u001b[0mtext_x\u001b[0m\u001b[0;34m)\u001b[0m\u001b[0;34m\u001b[0m\u001b[0;34m\u001b[0m\u001b[0m\n\u001b[0;32m---> 19\u001b[0;31m         \u001b[0mx_encoded\u001b[0m\u001b[0;34m,\u001b[0m \u001b[0m_\u001b[0m \u001b[0;34m=\u001b[0m \u001b[0mself\u001b[0m\u001b[0;34m.\u001b[0m\u001b[0mencoder\u001b[0m\u001b[0;34m(\u001b[0m\u001b[0mtext_x\u001b[0m\u001b[0;34m)\u001b[0m\u001b[0;34m\u001b[0m\u001b[0;34m\u001b[0m\u001b[0m\n\u001b[0m\u001b[1;32m     20\u001b[0m         \u001b[0mx_encoded\u001b[0m \u001b[0;34m=\u001b[0m \u001b[0mself\u001b[0m\u001b[0;34m.\u001b[0m\u001b[0mdropout\u001b[0m\u001b[0;34m(\u001b[0m\u001b[0mx_encoded\u001b[0m\u001b[0;34m)\u001b[0m\u001b[0;34m\u001b[0m\u001b[0;34m\u001b[0m\u001b[0m\n\u001b[1;32m     21\u001b[0m         \u001b[0;32mreturn\u001b[0m \u001b[0mx_encoded\u001b[0m\u001b[0;34m\u001b[0m\u001b[0;34m\u001b[0m\u001b[0m\n",
            "\u001b[0;32m/usr/local/lib/python3.10/dist-packages/torch/nn/modules/module.py\u001b[0m in \u001b[0;36m_wrapped_call_impl\u001b[0;34m(self, *args, **kwargs)\u001b[0m\n\u001b[1;32m   1530\u001b[0m             \u001b[0;32mreturn\u001b[0m \u001b[0mself\u001b[0m\u001b[0;34m.\u001b[0m\u001b[0m_compiled_call_impl\u001b[0m\u001b[0;34m(\u001b[0m\u001b[0;34m*\u001b[0m\u001b[0margs\u001b[0m\u001b[0;34m,\u001b[0m \u001b[0;34m**\u001b[0m\u001b[0mkwargs\u001b[0m\u001b[0;34m)\u001b[0m  \u001b[0;31m# type: ignore[misc]\u001b[0m\u001b[0;34m\u001b[0m\u001b[0;34m\u001b[0m\u001b[0m\n\u001b[1;32m   1531\u001b[0m         \u001b[0;32melse\u001b[0m\u001b[0;34m:\u001b[0m\u001b[0;34m\u001b[0m\u001b[0;34m\u001b[0m\u001b[0m\n\u001b[0;32m-> 1532\u001b[0;31m             \u001b[0;32mreturn\u001b[0m \u001b[0mself\u001b[0m\u001b[0;34m.\u001b[0m\u001b[0m_call_impl\u001b[0m\u001b[0;34m(\u001b[0m\u001b[0;34m*\u001b[0m\u001b[0margs\u001b[0m\u001b[0;34m,\u001b[0m \u001b[0;34m**\u001b[0m\u001b[0mkwargs\u001b[0m\u001b[0;34m)\u001b[0m\u001b[0;34m\u001b[0m\u001b[0;34m\u001b[0m\u001b[0m\n\u001b[0m\u001b[1;32m   1533\u001b[0m \u001b[0;34m\u001b[0m\u001b[0m\n\u001b[1;32m   1534\u001b[0m     \u001b[0;32mdef\u001b[0m \u001b[0m_call_impl\u001b[0m\u001b[0;34m(\u001b[0m\u001b[0mself\u001b[0m\u001b[0;34m,\u001b[0m \u001b[0;34m*\u001b[0m\u001b[0margs\u001b[0m\u001b[0;34m,\u001b[0m \u001b[0;34m**\u001b[0m\u001b[0mkwargs\u001b[0m\u001b[0;34m)\u001b[0m\u001b[0;34m:\u001b[0m\u001b[0;34m\u001b[0m\u001b[0;34m\u001b[0m\u001b[0m\n",
            "\u001b[0;32m/usr/local/lib/python3.10/dist-packages/torch/nn/modules/module.py\u001b[0m in \u001b[0;36m_call_impl\u001b[0;34m(self, *args, **kwargs)\u001b[0m\n\u001b[1;32m   1539\u001b[0m                 \u001b[0;32mor\u001b[0m \u001b[0m_global_backward_pre_hooks\u001b[0m \u001b[0;32mor\u001b[0m \u001b[0m_global_backward_hooks\u001b[0m\u001b[0;34m\u001b[0m\u001b[0;34m\u001b[0m\u001b[0m\n\u001b[1;32m   1540\u001b[0m                 or _global_forward_hooks or _global_forward_pre_hooks):\n\u001b[0;32m-> 1541\u001b[0;31m             \u001b[0;32mreturn\u001b[0m \u001b[0mforward_call\u001b[0m\u001b[0;34m(\u001b[0m\u001b[0;34m*\u001b[0m\u001b[0margs\u001b[0m\u001b[0;34m,\u001b[0m \u001b[0;34m**\u001b[0m\u001b[0mkwargs\u001b[0m\u001b[0;34m)\u001b[0m\u001b[0;34m\u001b[0m\u001b[0;34m\u001b[0m\u001b[0m\n\u001b[0m\u001b[1;32m   1542\u001b[0m \u001b[0;34m\u001b[0m\u001b[0m\n\u001b[1;32m   1543\u001b[0m         \u001b[0;32mtry\u001b[0m\u001b[0;34m:\u001b[0m\u001b[0;34m\u001b[0m\u001b[0;34m\u001b[0m\u001b[0m\n",
            "\u001b[0;32m/usr/local/lib/python3.10/dist-packages/torch/nn/modules/rnn.py\u001b[0m in \u001b[0;36mforward\u001b[0;34m(self, input, hx)\u001b[0m\n\u001b[1;32m    909\u001b[0m \u001b[0;34m\u001b[0m\u001b[0m\n\u001b[1;32m    910\u001b[0m         \u001b[0;32mif\u001b[0m \u001b[0mbatch_sizes\u001b[0m \u001b[0;32mis\u001b[0m \u001b[0;32mNone\u001b[0m\u001b[0;34m:\u001b[0m\u001b[0;34m\u001b[0m\u001b[0;34m\u001b[0m\u001b[0m\n\u001b[0;32m--> 911\u001b[0;31m             result = _VF.lstm(input, hx, self._flat_weights, self.bias, self.num_layers,\n\u001b[0m\u001b[1;32m    912\u001b[0m                               self.dropout, self.training, self.bidirectional, self.batch_first)\n\u001b[1;32m    913\u001b[0m         \u001b[0;32melse\u001b[0m\u001b[0;34m:\u001b[0m\u001b[0;34m\u001b[0m\u001b[0;34m\u001b[0m\u001b[0m\n",
            "\u001b[0;31mRuntimeError\u001b[0m: CUDA error: device-side assert triggered\nCUDA kernel errors might be asynchronously reported at some other API call, so the stacktrace below might be incorrect.\nFor debugging consider passing CUDA_LAUNCH_BLOCKING=1.\nCompile with `TORCH_USE_CUDA_DSA` to enable device-side assertions.\n"
          ]
        }
      ],
      "source": [
        "# start training\n",
        "import wandb\n",
        "import os\n",
        "wandb.init(project=\"nlp\", name=\"dpr\")\n",
        "\n",
        "from tqdm import tqdm\n",
        "import numpy as np\n",
        "\n",
        "encoder_optimizer.zero_grad()\n",
        "step_cnt = 0\n",
        "all_step_cnt = 0\n",
        "avg_loss = 0\n",
        "maximum_f_score = 0\n",
        "\n",
        "for epoch in range(5):\n",
        "    epoch_step = 0\n",
        "\n",
        "    for (i, batch) in enumerate(tqdm(dataloader)):\n",
        "\n",
        "        step_cnt += 1\n",
        "\n",
        "\n",
        "        query_embeddings = lstm_encoder(batch[\"queries\"].cuda(), batch[\"queries_pos\"].cuda())\n",
        "        evidence_embeddings = lstm_encoder(batch[\"evidences\"].cuda(), batch[\"evidences_pos\"].cuda())\n",
        "\n",
        "        query_embeddings = query_embeddings[:, -1, :]\n",
        "        evidence_embeddings = evidence_embeddings[:, -1, :]\n",
        "\n",
        "        assert query_embeddings.size(1) == evidence_embeddings.size(1), \"Embedding dimensions do not match!\"\n",
        "\n",
        "        query_embeddings = torch.nn.functional.normalize(query_embeddings, p=2, dim=1)\n",
        "        evidence_embeddings = torch.nn.functional.normalize(evidence_embeddings, p=2, dim=1)\n",
        "\n",
        "        cos_sims = torch.mm(query_embeddings, evidence_embeddings.t())\n",
        "        scores = cos_sims / 0.1\n",
        "        loss = []\n",
        "        start_idx = 0\n",
        "        criterion = torch.nn.CrossEntropyLoss()\n",
        "        for idx, labels in enumerate(batch[\"labels\"]):\n",
        "            labels = torch.LongTensor(labels).cuda()\n",
        "            cur_loss = criterion(scores[idx].unsqueeze(0).repeat(len(labels), 1), labels)\n",
        "            loss.append(cur_loss)\n",
        "\n",
        "        # cos_sims = torch.mm(query_embeddings, evidence_embeddings.t())\n",
        "        # scores = - torch.nn.functional.log_softmax(cos_sims / 0.1 + 1e-10, dim=1)\n",
        "        # loss = []\n",
        "        # start_idx = 0\n",
        "        # for idx, label in enumerate(batch[\"labels\"]):\n",
        "        #     label = torch.LongTensor(label).cuda()\n",
        "        #     cur_loss = torch.mean(torch.index_select(scores[idx], 0, label))\n",
        "        #     loss.append(cur_loss)\n",
        "\n",
        "        # cos_sims = torch.mm(query_embeddings, evidence_embeddings.t())\n",
        "        # scores = - torch.nn.functional.log_softmax(cos_sims / 0.1, dim=1)\n",
        "\n",
        "        # loss = []\n",
        "        # start_idx = 0\n",
        "        # for idx, label in enumerate(batch[\"labels\"]):\n",
        "        #     label = torch.LongTensor(label).cuda()\n",
        "        #     cur_loss = torch.mean(torch.index_select(scores[idx], 0, label))\n",
        "        #     loss.append(cur_loss)\n",
        "\n",
        "        loss = torch.stack(loss).mean()\n",
        "        loss = loss / accumulate_step\n",
        "        loss.backward()\n",
        "\n",
        "        avg_loss += loss.item()\n",
        "        if step_cnt == accumulate_step:\n",
        "            # updating\n",
        "            if grad_norm > 0:\n",
        "                nn.utils.clip_grad_norm_(lstm_encoder.parameters(), grad_norm)\n",
        "\n",
        "            step_cnt = 0\n",
        "            epoch_step += 1\n",
        "            all_step_cnt += 1\n",
        "\n",
        "            # adjust learning rate\n",
        "            if all_step_cnt <= warmup_steps:\n",
        "                lr = all_step_cnt * (max_lr - 2e-8) / warmup_steps + 2e-8\n",
        "            else:\n",
        "                lr = max_lr - (all_step_cnt - warmup_steps) * 1e-5\n",
        "\n",
        "            encoder_optimizer.step()\n",
        "            encoder_optimizer.zero_grad()\n",
        "\n",
        "        if all_step_cnt % report_freq == 0 and step_cnt == 0:\n",
        "            if all_step_cnt <= warmup_steps:\n",
        "                lr = all_step_cnt * (max_lr - 2e-8) / warmup_steps + 2e-8\n",
        "            else:\n",
        "                lr = max_lr - (all_step_cnt - warmup_steps) * 1e-5\n",
        "\n",
        "            wandb.log({\"learning_rate\": lr}, step=all_step_cnt)\n",
        "            wandb.log({\"loss\": avg_loss / report_freq}, step=all_step_cnt)\n",
        "\n",
        "            # report stats\n",
        "            print(\"\\n\")\n",
        "            print(\"epoch: %d, epoch_step: %d, avg loss: %.6f\" % (epoch + 1, epoch_step, avg_loss / report_freq))\n",
        "            print(f\"learning rate: {lr:.6f}\")\n",
        "            print(\"\\n\")\n",
        "            avg_loss = 0\n",
        "        del loss, cos_sims, query_embeddings, evidence_embeddings\n",
        "\n",
        "        if all_step_cnt % eval_interval == 0 and all_step_cnt != 0 and step_cnt == 0:\n",
        "            # evaluate the model as a scorer\n",
        "            print(\"\\nEvaluate:\\n\")\n",
        "\n",
        "            f_score = validate(dev_input, evidences_input, dev_sort_evidences, dev_claim_evidences, lstm_encoder)\n",
        "            wandb.log({\"f_score\": f_score}, step=all_step_cnt)\n",
        "\n",
        "            if f_score > maximum_f_score:\n",
        "                maximum_f_score = f_score\n",
        "                os.makedirs(save_dir, exist_ok=True)\n",
        "                torch.save(lstm_encoder.state_dict(), os.path.join(os.path.abspath(save_dir), \"best_ckpt.bin\"))\n",
        "                print(\"\\n\")\n",
        "                print(\"best val loss - epoch: %d, epoch_step: %d\" % (epoch, epoch_step))\n",
        "                print(\"maximum_f_score\", f_score)\n",
        "                print(\"\\n\")"
      ]
    },
    {
      "cell_type": "code",
      "execution_count": 87,
      "metadata": {
        "id": "x-gvGMF7Mi67"
      },
      "outputs": [],
      "source": [
        "torch.cuda.empty_cache()"
      ]
    },
    {
      "cell_type": "markdown",
      "metadata": {
        "id": "EzGuzHPE87Ya"
      },
      "source": [
        "# 3.Testing and Evaluation\n",
        "(You can add as many code blocks and text blocks as you need. However, YOU SHOULD NOT MODIFY the section title)"
      ]
    },
    {
      "cell_type": "code",
      "execution_count": 88,
      "metadata": {
        "colab": {
          "base_uri": "https://localhost:8080/"
        },
        "id": "SCju1uz6Mi67",
        "outputId": "a6644fbd-677f-4a2d-e35a-766966a7f7a2"
      },
      "outputs": [
        {
          "output_type": "execute_result",
          "data": {
            "text/plain": [
              "Encoder(\n",
              "  (embedding): Embedding(90097, 512)\n",
              "  (pos_embedding): Embedding(180, 512)\n",
              "  (encoder): LSTM(512, 512, num_layers=6, batch_first=True, dropout=0.2, bidirectional=True)\n",
              "  (dropout): Dropout(p=0.2, inplace=False)\n",
              ")"
            ]
          },
          "metadata": {},
          "execution_count": 88
        }
      ],
      "source": [
        "import os\n",
        "lstm_encoder.load_state_dict(torch.load(os.path.join(save_dir, \"best_ckpt.bin\")))\n",
        "lstm_encoder.cuda()\n",
        "lstm_encoder.eval()"
      ]
    },
    {
      "cell_type": "code",
      "execution_count": 90,
      "metadata": {
        "id": "WfKUOmR2Mi67"
      },
      "outputs": [],
      "source": [
        "evidence_embeddings = []\n",
        "start_idx = 0\n",
        "batch_size = 800\n",
        "evidence_len = len(evidences_input[0])\n",
        "\n",
        "while start_idx < len(evidences_input):\n",
        "    end_idx = min(start_idx + batch_size, len(evidences_input))\n",
        "\n",
        "    cur_evidence = torch.LongTensor(evidences_input[start_idx:end_idx]).view(-1, evidence_len).cuda()\n",
        "    cur_evidence_pos = torch.LongTensor([list(range(evidence_len)) for _ in range(end_idx - start_idx)]).cuda()\n",
        "\n",
        "    cur_embedding = lstm_encoder(cur_evidence, cur_evidence_pos)\n",
        "    cur_embedding = cur_embedding[:, -1, :].detach()\n",
        "    cur_embedding_cpu = F.normalize(cur_embedding, p=2, dim=1).cpu()  # for cosine similarity\n",
        "\n",
        "    del cur_embedding, cur_evidence, cur_evidence_pos\n",
        "    start_idx = end_idx\n",
        "    evidence_embeddings.append(cur_embedding_cpu)\n",
        "\n",
        "evidence_embeddings = torch.cat(evidence_embeddings, dim=0).t()\n"
      ]
    },
    {
      "cell_type": "code",
      "execution_count": 91,
      "metadata": {
        "id": "y65jLqftMi67"
      },
      "outputs": [],
      "source": [
        "torch.cuda.empty_cache()"
      ]
    },
    {
      "cell_type": "code",
      "execution_count": 92,
      "metadata": {
        "id": "YGpOolTxMi67"
      },
      "outputs": [],
      "source": [
        "import numpy as np"
      ]
    },
    {
      "cell_type": "code",
      "execution_count": 93,
      "metadata": {
        "id": "Gyh8HsbeMi67"
      },
      "outputs": [],
      "source": [
        "retrieval_num = 5\n",
        "dev_candis_num = 10\n",
        "\n",
        "def validate_(dev_text_idx, evidence_embeddings, dev_sort_evidences, dev_claim_evidences, encoder_model):\n",
        "    # get evidence embeddings\n",
        "    encoder_model.eval()\n",
        "\n",
        "    text_len = len(dev_text_idx[0])\n",
        "    f = []\n",
        "\n",
        "    start_idx = 0\n",
        "    batch_size = 200\n",
        "\n",
        "    while start_idx < len(dev_text_idx):\n",
        "        end_idx = min(start_idx + batch_size, len(dev_text_idx))\n",
        "\n",
        "        cur_query = torch.LongTensor(dev_text_idx[start_idx:end_idx]).view(-1, text_len).cuda()\n",
        "        cur_query_pos = torch.LongTensor([list(range(text_len)) for _ in range(end_idx - start_idx)]).cuda()\n",
        "\n",
        "        query_embedding = encoder_model(cur_query, cur_query_pos)\n",
        "        query_embedding = query_embedding[:, -1, :].detach()\n",
        "        query_embedding = F.normalize(query_embedding, p=2, dim=1).cpu()\n",
        "\n",
        "        scores = torch.mm(query_embedding, evidence_embeddings)\n",
        "\n",
        "        for i in range(scores.size(0)):\n",
        "            new_score = torch.index_select(scores[i], 0, torch.LongTensor(dev_sort_evidences[start_idx+i][:dev_candis_num]))\n",
        "            topk_ids = torch.argsort(new_score).tolist()\n",
        "            select_ids = topk_ids[:retrieval_num]\n",
        "\n",
        "            evidence_correct = 0\n",
        "            pred_evidences = [dev_sort_evidences[start_idx+i][j] for j in select_ids]\n",
        "\n",
        "            label = dev_claim_evidences[start_idx+i]\n",
        "\n",
        "            for evidence_id in label:\n",
        "                if evidence_id in pred_evidences:\n",
        "                    evidence_correct += 1\n",
        "            if evidence_correct > 0:\n",
        "                evidence_recall = float(evidence_correct) / len(label)\n",
        "                evidence_precision = float(evidence_correct) / len(pred_evidences)\n",
        "                evidence_fscore = (2 * evidence_precision * evidence_recall) / (evidence_precision + evidence_recall)\n",
        "                # print(evidence_fscore)\n",
        "            else:\n",
        "                evidence_fscore = 0\n",
        "            f.append(evidence_fscore)\n",
        "\n",
        "        start_idx = end_idx\n",
        "        # print(\"----\")\n",
        "    fscore = np.mean(f)\n",
        "    print(\"\\n\")\n",
        "    print(\"Evidence Retrieval F-score: %.3f\" % fscore)\n",
        "    print(\"\\n\")\n",
        "    return fscore"
      ]
    },
    {
      "cell_type": "code",
      "execution_count": 94,
      "metadata": {
        "scrolled": true,
        "colab": {
          "base_uri": "https://localhost:8080/"
        },
        "id": "oCG9reKvMi67",
        "outputId": "0035b15b-6d20-4750-d551-448b9077f3f4"
      },
      "outputs": [
        {
          "output_type": "stream",
          "name": "stdout",
          "text": [
            "\n",
            "\n",
            "Evidence Retrieval F-score: 0.091\n",
            "\n",
            "\n",
            "0.09137291280148424\n"
          ]
        }
      ],
      "source": [
        "retrieval_num = 5\n",
        "dev_candis_num = 10\n",
        "fscore = validate_(dev_input, evidence_embeddings, dev_sort_evidences, dev_claim_evidences, lstm_encoder)\n",
        "print(fscore)"
      ]
    },
    {
      "cell_type": "code",
      "execution_count": 95,
      "metadata": {
        "id": "6ZVeNYIH9IaL"
      },
      "outputs": [],
      "source": [
        "retrieval_num = 5\n",
        "dev_candis_num = 10\n",
        "\n",
        "def evidence_predicts(dev_text_idx, evidences_embeddings, dev_sort_evidences, cleaned_evidence_id, encoder_model):\n",
        "    # get evidence embeddings\n",
        "    text_len = len(dev_text_idx[0])\n",
        "    encoder_model.eval()\n",
        "\n",
        "    f = []\n",
        "    start_idx = 0\n",
        "    batch_size = 200\n",
        "    preds = []\n",
        "    while start_idx < len(dev_text_idx):\n",
        "        end_idx = min(start_idx + batch_size, len(dev_text_idx))\n",
        "\n",
        "        cur_query = torch.LongTensor(dev_text_idx[start_idx:end_idx]).view(-1, text_len).cuda()\n",
        "        cur_query_pos = torch.LongTensor([list(range(text_len)) for _ in range(end_idx - start_idx)]).cuda()\n",
        "\n",
        "        query_embedding = encoder_model(cur_query, cur_query_pos)\n",
        "        query_embedding = query_embedding[:, -1, :].detach()\n",
        "        query_embedding = F.normalize(query_embedding, p=2, dim=1).cpu()\n",
        "\n",
        "        scores = torch.mm(query_embedding, evidences_embeddings)\n",
        "\n",
        "        for i in range(scores.size(0)):\n",
        "            new_score = torch.index_select(scores[i], 0, torch.LongTensor(dev_sort_evidences[start_idx+i][:dev_candis_num]))\n",
        "            topk_ids = torch.argsort(new_score).tolist()\n",
        "            select_ids = topk_ids[:retrieval_num]\n",
        "\n",
        "            pred_evidences = [cleaned_evidence_id[dev_sort_evidences[start_idx+i][j]] for j in select_ids]\n",
        "            preds.append(pred_evidences)\n",
        "\n",
        "        start_idx = end_idx\n",
        "    return preds"
      ]
    },
    {
      "cell_type": "code",
      "execution_count": 96,
      "metadata": {
        "id": "0x6hNJ-YMi67"
      },
      "outputs": [],
      "source": [
        "dev_evidences_ids = evidence_predicts(dev_input, evidence_embeddings, dev_sort_evidences, cleaned_evidence_id, lstm_encoder)\n",
        "test_evidences_ids = evidence_predicts(test_input, evidence_embeddings, test_sort_evidences, cleaned_evidence_id, lstm_encoder)"
      ]
    },
    {
      "cell_type": "code",
      "execution_count": 97,
      "metadata": {
        "id": "PY0kSIrAMi67"
      },
      "outputs": [],
      "source": [
        "pred_dev_claims = {}\n",
        "pred_test_claims = {}\n",
        "dev_claims = json.load(open(\"data/dev-claims.json\", \"r\"))\n",
        "test_claims = json.load(open(\"data/test-claims-unlabelled.json\", \"r\"))\n",
        "\n",
        "for idx, evidence_ids in enumerate(dev_evidences_ids):\n",
        "    cur_data = dev_claims[dev_claim_id[idx]]\n",
        "    cur_data['evidences'] = evidence_ids\n",
        "    pred_dev_claims[dev_claim_id[idx]] = cur_data\n",
        "\n",
        "\n",
        "for idx, evidence_ids in enumerate(test_evidences_ids):\n",
        "    cur_data = test_claims[test_claim_id[idx]]\n",
        "    cur_data['evidences'] = evidence_ids\n",
        "    pred_test_claims[test_claim_id[idx]] = cur_data\n"
      ]
    },
    {
      "cell_type": "code",
      "execution_count": 98,
      "metadata": {
        "id": "o0xOV8MNMi68"
      },
      "outputs": [],
      "source": [
        "json.dump(pred_dev_claims, open(\"data/dev_predict.json\", \"w\"))\n",
        "json.dump(pred_test_claims, open(\"data/test-claims-unlabelled.json\", \"w\"))"
      ]
    },
    {
      "cell_type": "code",
      "execution_count": 99,
      "metadata": {
        "id": "Qu7PuqPTMi68"
      },
      "outputs": [],
      "source": [
        "retrieval_num = 5\n",
        "dev_candis_num = 10\n",
        "\n",
        "train_evidences_ids = evidence_predicts(train_input, evidence_embeddings, train_sort_evidences, cleaned_evidence_id, lstm_encoder)\n",
        "\n",
        "pred_train_negative_evidences = []\n",
        "for idx, evidence_ids in enumerate(train_evidences_ids):\n",
        "    temp_ = []\n",
        "    for i in evidence_ids:\n",
        "        if evidences_id_dict[i] not in train_claim_evidences[idx]:\n",
        "            temp_.append(evidences_id_dict[i])\n",
        "    pred_train_negative_evidences.append(temp_)"
      ]
    },
    {
      "cell_type": "code",
      "execution_count": 100,
      "metadata": {
        "id": "tbp7MswwMi68"
      },
      "outputs": [],
      "source": [
        "## save prediction data\n",
        "\n",
        "json.dump(pred_train_negative_evidences, open(\"pred_train_negative_evidences.json\", \"w\"))"
      ]
    },
    {
      "cell_type": "code",
      "execution_count": 101,
      "metadata": {
        "id": "WOMXMrZKMi68"
      },
      "outputs": [],
      "source": [
        "## save cls data\n",
        "\n",
        "dev_cls_data = []\n",
        "test_cls_data = []\n",
        "text_max_len = 60\n",
        "evidence_max_len = 100\n",
        "all_max_len = 580\n",
        "\n",
        "for idx, dev_text in enumerate(dev_text_idx):\n",
        "    cur_data = {\"label\": dev_claim_label[idx]}\n",
        "    temp_text = [wordidx[\"<cls>\"]] + dev_text_idx[idx][:text_max_len]\n",
        "    for i in dev_evidences_ids[idx]:\n",
        "        temp_text.extend([wordidx[\"<sep>\"]] + evidences_text_idx[evidences_id_dict[i]][:evidence_max_len])\n",
        "    temp_text.append(wordidx[\"<sep>\"])\n",
        "    if len(temp_text) < all_max_len:\n",
        "        temp_text.extend([wordidx[\"<pad>\"]] * (all_max_len - len(temp_text)))\n",
        "    cur_data['text'] = temp_text\n",
        "    dev_cls_data.append(cur_data)\n",
        "\n",
        "for idx, dev_text in enumerate(test_text_idx):\n",
        "    cur_data = {}\n",
        "    temp_text = [wordidx[\"<cls>\"]] + test_text_idx[idx][:text_max_len]\n",
        "    for i in test_evidences_ids[idx]:\n",
        "        temp_text.extend([wordidx[\"<sep>\"]] + evidences_text_idx[evidences_id_dict[i]][:evidence_max_len])\n",
        "    temp_text.append(wordidx[\"<sep>\"])\n",
        "    if len(temp_text) < all_max_len:\n",
        "        temp_text.extend([wordidx[\"<pad>\"]] * (all_max_len - len(temp_text)))\n",
        "    cur_data['text'] = temp_text\n",
        "    test_cls_data.append(cur_data)\n",
        "\n",
        "json.dump(dev_cls_data, open(\"dev_cls_data.json\", \"w\"))\n",
        "json.dump(test_cls_data, open(\"test_cls_data.json\", \"w\"))"
      ]
    },
    {
      "cell_type": "markdown",
      "metadata": {
        "id": "d1FOTvx8Mi68"
      },
      "source": [
        "Task2"
      ]
    },
    {
      "cell_type": "markdown",
      "metadata": {
        "id": "Ahi90VHDMi68"
      },
      "source": [
        "Preprocessing"
      ]
    },
    {
      "cell_type": "code",
      "execution_count": 102,
      "metadata": {
        "id": "nRUpnimHMi68"
      },
      "outputs": [],
      "source": [
        "import json\n",
        "\n",
        "dev_cls_data = json.load(open(\"dev_cls_data.json\", \"r\"))\n",
        "test_cls_data = json.load(open(\"test_cls_data.json\", \"r\"))\n",
        "\n",
        "text_max_len = 60\n",
        "evidence_max_len = 100\n",
        "all_max_len = 580\n",
        "retrieval_num = 5\n",
        "\n",
        "id2labels = [\"SUPPORTS\", \"NOT_ENOUGH_INFO\", \"REFUTES\", \"DISPUTED\"]\n",
        "labels2id = {\"SUPPORTS\": 0, \"NOT_ENOUGH_INFO\": 1, \"REFUTES\": 2, \"DISPUTED\": 3}\n",
        "\n",
        "train_negative_evidences = json.load(open(\"pred_train_negative_evidences.json\", \"r\"))\n"
      ]
    },
    {
      "cell_type": "code",
      "execution_count": 103,
      "metadata": {
        "id": "hZggUhuFMi68"
      },
      "outputs": [],
      "source": [
        "from torch.utils.data import Dataset\n",
        "import random\n",
        "\n",
        "class TrainDataset(Dataset):\n",
        "    def __init__(self, text_data, evidence_data, positive_evidences, negative_evidences, cls_label, cls_idx, sep_idx, pad_idx, evidence_num=5):\n",
        "        self.text_data = text_data\n",
        "        self.evidence_data = evidence_data\n",
        "\n",
        "        self.negative_evidences = negative_evidences\n",
        "\n",
        "        self.cls_label = [labels2id[i] for i in cls_label]\n",
        "        self.evidence_num = evidence_num\n",
        "        self.positive_evidences = positive_evidences\n",
        "\n",
        "        self.cls_idx = cls_idx\n",
        "        self.sep_idx = sep_idx\n",
        "        self.pad_idx = pad_idx\n",
        "\n",
        "    def __len__(self):\n",
        "        return len(self.text_data)\n",
        "\n",
        "    def __getitem__(self, idx):\n",
        "        return [self.text_data[idx][:text_max_len], self.positive_evidences[idx], self.negative_evidences[idx], self.cls_label[idx]]\n",
        "\n",
        "    def collate_fn(self, batch):\n",
        "        queries = []\n",
        "        queries_pos = []\n",
        "        labels = []\n",
        "\n",
        "        for i, j, h, k in batch:\n",
        "            temp_text = [self.cls_idx]\n",
        "            temp_text.extend(i)\n",
        "            for p in j:\n",
        "                temp_text.append(self.sep_idx)\n",
        "                temp_text.extend(self.evidence_data[p][:evidence_max_len])\n",
        "            if self.evidence_num > len(j):\n",
        "                n = random.sample(h, self.evidence_num - len(j))\n",
        "                for p in n:\n",
        "                    temp_text.append(self.sep_idx)\n",
        "                    temp_text.extend(self.evidence_data[p][:evidence_max_len])\n",
        "            temp_text.append(self.sep_idx)\n",
        "            if len(temp_text) < all_max_len:\n",
        "                temp_text.extend([self.pad_idx] * (all_max_len - len(temp_text)))\n",
        "\n",
        "            queries.append(temp_text)\n",
        "            queries_pos.append(list(range(all_max_len)))\n",
        "            labels.append(k)\n",
        "\n",
        "        batch_encoding = {}\n",
        "        batch_encoding[\"queries\"] = torch.LongTensor(queries)\n",
        "        batch_encoding[\"queries_pos\"] = torch.LongTensor(queries_pos)\n",
        "        batch_encoding[\"labels\"] = torch.LongTensor(labels)\n",
        "\n",
        "        return batch_encoding"
      ]
    },
    {
      "cell_type": "code",
      "execution_count": 104,
      "metadata": {
        "id": "1miLddNYMi68"
      },
      "outputs": [],
      "source": [
        "dev_inputs = [i['text'] for i in dev_cls_data]\n",
        "test_inputs = [i['text'] for i in test_cls_data]\n",
        "dev_outputs = [labels2id[i[\"label\"]] for i in dev_cls_data]"
      ]
    },
    {
      "cell_type": "code",
      "execution_count": 105,
      "metadata": {
        "id": "-F3WN0IoMi68"
      },
      "outputs": [],
      "source": [
        "train_set = TrainDataset(train_text_idx, evidences_text_idx, train_claim_evidences, train_negative_evidences, train_claim_label, wordidx[\"<cls>\"], wordidx[\"<sep>\"], wordidx[\"<pad>\"], evidence_num=retrieval_num)\n",
        "from torch.utils.data import DataLoader\n",
        "dataloader = DataLoader(train_set, batch_size=10, shuffle=True, num_workers=0, collate_fn=train_set.collate_fn)"
      ]
    },
    {
      "cell_type": "code",
      "execution_count": 106,
      "metadata": {
        "colab": {
          "base_uri": "https://localhost:8080/"
        },
        "id": "TggPRE2XMi68",
        "outputId": "504ce5a4-47b9-49e9-82f1-28a13d705ebc"
      },
      "outputs": [
        {
          "output_type": "stream",
          "name": "stdout",
          "text": [
            "Counter({'SUPPORTS': 519, 'NOT_ENOUGH_INFO': 386, 'REFUTES': 199, 'DISPUTED': 124})\n"
          ]
        }
      ],
      "source": [
        "from collections import Counter\n",
        "print(Counter(train_claim_label))"
      ]
    },
    {
      "cell_type": "code",
      "execution_count": 145,
      "metadata": {
        "id": "0Qluioo8Mi68"
      },
      "outputs": [],
      "source": [
        "# from workshop\n",
        "import torch\n",
        "import torch.nn as nn\n",
        "import torch.optim as optim\n",
        "import torch.nn.functional as F\n",
        "\n",
        "class CLS(nn.Module):\n",
        "    def __init__(self, vocab_emb, embed_dim, hidden_size, output_size, num_layers, max_position=all_max_len):\n",
        "        super(CLS, self).__init__()\n",
        "\n",
        "        self.hidden_size = hidden_size\n",
        "        self.embedding = nn.Embedding(vocab_emb, embed_dim)\n",
        "        self.pos_embedding = nn.Embedding(max_position, embed_dim)\n",
        "\n",
        "        self.encoder = nn.LSTM(embed_dim, hidden_size, num_layers=num_layers, batch_first=True, bidirectional=True)\n",
        "        self.hidden_layer = nn.Linear(hidden_size * 2, hidden_size)\n",
        "        self.cls = nn.Linear(hidden_size, output_size)\n",
        "        self.dropout = nn.Dropout(0.2)\n",
        "\n",
        "    def forward(self, text_data, position_text):\n",
        "        text_x = self.embedding(text_data) + self.pos_embedding(position_text) * 0.01\n",
        "        x_encoded,_ = self.encoder(text_x)\n",
        "        x_cls = x_encoded[:, 0, :]\n",
        "        x_hidden = F.tanh(self.hidden_layer(x_cls))\n",
        "        self.dropout(x_hidden)\n",
        "        cls_res = self.cls(x_hidden)\n",
        "        return cls_res\n"
      ]
    },
    {
      "cell_type": "code",
      "execution_count": 146,
      "metadata": {
        "colab": {
          "base_uri": "https://localhost:8080/"
        },
        "id": "3FvqKOYCMi69",
        "outputId": "83b2a19e-5745-4663-d43f-6875f833c07d"
      },
      "outputs": [
        {
          "output_type": "execute_result",
          "data": {
            "text/plain": [
              "CLS(\n",
              "  (embedding): Embedding(90097, 256)\n",
              "  (pos_embedding): Embedding(700, 256)\n",
              "  (encoder): LSTM(256, 256, num_layers=7, batch_first=True, bidirectional=True)\n",
              "  (hidden_layer): Linear(in_features=512, out_features=256, bias=True)\n",
              "  (cls): Linear(in_features=256, out_features=4, bias=True)\n",
              "  (dropout): Dropout(p=0.2, inplace=False)\n",
              ")"
            ]
          },
          "metadata": {},
          "execution_count": 146
        }
      ],
      "source": [
        "cls_model = CLS(vocab_emb=len(idxword), embed_dim=256, hidden_size=256, output_size=4, num_layers=7, max_position=700)\n",
        "cls_model.cuda()"
      ]
    },
    {
      "cell_type": "code",
      "execution_count": 150,
      "metadata": {
        "id": "OE952ySQMi69"
      },
      "outputs": [],
      "source": [
        "torch.manual_seed(41)\n",
        "torch.cuda.manual_seed_all(41)\n",
        "random.seed(41)\n",
        "\n",
        "weight_decay = 0.02\n",
        "encoder_optimizer = optim.AdamW(cls_model.parameters(), weight_decay=weight_decay)\n",
        "max_lr = 1e-2\n",
        "for param_group in encoder_optimizer.param_groups:\n",
        "    param_group['lr'] = max_lr\n",
        "accumulate_step = 2\n",
        "grad_norm = 3\n",
        "warmup_steps = 300\n",
        "report_freq = 10\n",
        "eval_interval = 50\n",
        "save_dir = \"model_ckpts\""
      ]
    },
    {
      "cell_type": "code",
      "execution_count": 151,
      "metadata": {
        "id": "9JwJIVDmMi69"
      },
      "outputs": [],
      "source": [
        "def validate(dev_input, dev_output, cls_model_):\n",
        "    # get evidence embeddings\n",
        "    start_idx = 0\n",
        "    batch_size = 40\n",
        "    pos_len = len(dev_input[0])\n",
        "    cls_model.eval()\n",
        "\n",
        "    acc = []\n",
        "    correct_count = 0\n",
        "    while start_idx < len(dev_output):\n",
        "        end_idx = min(start_idx + batch_size, len(dev_output))\n",
        "\n",
        "        cur_input = torch.LongTensor(dev_input[start_idx:end_idx]).view(-1, pos_len).cuda()\n",
        "        cur_pos = torch.LongTensor([list(range(pos_len)) for _ in range(end_idx - start_idx)]).cuda()\n",
        "\n",
        "        cur_res = cls_model_(cur_input, cur_pos)\n",
        "        cur_res = torch.argmax(cur_res, 1).tolist()\n",
        "\n",
        "        del cur_input, cur_pos\n",
        "\n",
        "        for i, j in zip(cur_res, dev_output[start_idx: end_idx]):\n",
        "            if i == j:\n",
        "                correct_count += 1\n",
        "\n",
        "        start_idx = end_idx\n",
        "    acc = correct_count / len(dev_output)\n",
        "    print(\"\\n\")\n",
        "    print(\"Classification Accuracy: %.3f\" % acc)\n",
        "    print(\"\\n\")\n",
        "\n",
        "    cls_model.train()\n",
        "    return acc"
      ]
    },
    {
      "cell_type": "code",
      "execution_count": 111,
      "metadata": {
        "colab": {
          "base_uri": "https://localhost:8080/"
        },
        "id": "zyxtsPxoMi69",
        "outputId": "260b72dd-68f9-49d9-e25c-d1bb4425ec4d"
      },
      "outputs": [
        {
          "output_type": "stream",
          "name": "stdout",
          "text": [
            "env: WANDB_NOTEBOOK_NAME=Mon5PMGroup7_COMP90042.ipynb\n"
          ]
        }
      ],
      "source": [
        "%env WANDB_NOTEBOOK_NAME Mon5PMGroup7_COMP90042.ipynb"
      ]
    },
    {
      "cell_type": "code",
      "execution_count": 152,
      "metadata": {
        "colab": {
          "base_uri": "https://localhost:8080/",
          "height": 1000,
          "referenced_widgets": [
            "fae0e93c1a184d09b9da53a638c0a436",
            "537dc3ee33594e8c8ec8a78f87ad2a01",
            "61311823b271420a9f71aa4c2906d6be",
            "f9b3800064414bd590fe26697c49295d",
            "1918269c1a9546cea0cae1f45178016f",
            "35005ac807844b1faf83a2e3218c8fad",
            "cbdf1349be854e57a296437d4701a4be",
            "18fbdde4c7cc4ba889eddfbecba354dd"
          ]
        },
        "id": "MpPWrLbgMi69",
        "outputId": "09a1e0eb-2e3c-43e5-88fe-af63152c4824"
      },
      "outputs": [
        {
          "output_type": "display_data",
          "data": {
            "text/plain": [
              "<IPython.core.display.HTML object>"
            ],
            "text/html": [
              "Finishing last run (ID:rmtfnurq) before initializing another..."
            ]
          },
          "metadata": {}
        },
        {
          "output_type": "display_data",
          "data": {
            "text/plain": [
              "VBox(children=(Label(value='0.002 MB of 0.002 MB uploaded\\r'), FloatProgress(value=1.0, max=1.0)))"
            ],
            "application/vnd.jupyter.widget-view+json": {
              "version_major": 2,
              "version_minor": 0,
              "model_id": "fae0e93c1a184d09b9da53a638c0a436"
            }
          },
          "metadata": {}
        },
        {
          "output_type": "display_data",
          "data": {
            "text/plain": [
              "<IPython.core.display.HTML object>"
            ],
            "text/html": [
              "<style>\n",
              "    table.wandb td:nth-child(1) { padding: 0 10px; text-align: left ; width: auto;} td:nth-child(2) {text-align: left ; width: 100%}\n",
              "    .wandb-row { display: flex; flex-direction: row; flex-wrap: wrap; justify-content: flex-start; width: 100% }\n",
              "    .wandb-col { display: flex; flex-direction: column; flex-basis: 100%; flex: 1; padding: 10px; }\n",
              "    </style>\n",
              "<div class=\"wandb-row\"><div class=\"wandb-col\"><h3>Run history:</h3><br/><table class=\"wandb\"><tr><td>acc</td><td>▁▁▁</td></tr><tr><td>learning_rate</td><td>▁▁▂▂▃▃▄▄▅▅▆▆▇▇██</td></tr><tr><td>loss</td><td>▆▄▂█▅▆▇▅▄▅▇▄▄▁█▅</td></tr></table><br/></div><div class=\"wandb-col\"><h3>Run summary:</h3><br/><table class=\"wandb\"><tr><td>acc</td><td>0.26623</td></tr><tr><td>learning_rate</td><td>0.008</td></tr><tr><td>loss</td><td>1.38793</td></tr></table><br/></div></div>"
            ]
          },
          "metadata": {}
        },
        {
          "output_type": "display_data",
          "data": {
            "text/plain": [
              "<IPython.core.display.HTML object>"
            ],
            "text/html": [
              " View run <strong style=\"color:#cdcd00\">cls</strong> at: <a href='https://wandb.ai/damonz-deeplearning/nlp/runs/rmtfnurq' target=\"_blank\">https://wandb.ai/damonz-deeplearning/nlp/runs/rmtfnurq</a><br/> View project at: <a href='https://wandb.ai/damonz-deeplearning/nlp' target=\"_blank\">https://wandb.ai/damonz-deeplearning/nlp</a><br/>Synced 5 W&B file(s), 0 media file(s), 0 artifact file(s) and 0 other file(s)"
            ]
          },
          "metadata": {}
        },
        {
          "output_type": "display_data",
          "data": {
            "text/plain": [
              "<IPython.core.display.HTML object>"
            ],
            "text/html": [
              "Find logs at: <code>./wandb/run-20240525_091108-rmtfnurq/logs</code>"
            ]
          },
          "metadata": {}
        },
        {
          "output_type": "display_data",
          "data": {
            "text/plain": [
              "<IPython.core.display.HTML object>"
            ],
            "text/html": [
              "Successfully finished last run (ID:rmtfnurq). Initializing new run:<br/>"
            ]
          },
          "metadata": {}
        },
        {
          "output_type": "display_data",
          "data": {
            "text/plain": [
              "<IPython.core.display.HTML object>"
            ],
            "text/html": [
              "Tracking run with wandb version 0.17.0"
            ]
          },
          "metadata": {}
        },
        {
          "output_type": "display_data",
          "data": {
            "text/plain": [
              "<IPython.core.display.HTML object>"
            ],
            "text/html": [
              "Run data is saved locally in <code>/content/wandb/run-20240525_091327-5xk4qt7c</code>"
            ]
          },
          "metadata": {}
        },
        {
          "output_type": "display_data",
          "data": {
            "text/plain": [
              "<IPython.core.display.HTML object>"
            ],
            "text/html": [
              "Syncing run <strong><a href='https://wandb.ai/damonz-deeplearning/nlp/runs/5xk4qt7c' target=\"_blank\">cls</a></strong> to <a href='https://wandb.ai/damonz-deeplearning/nlp' target=\"_blank\">Weights & Biases</a> (<a href='https://wandb.me/run' target=\"_blank\">docs</a>)<br/>"
            ]
          },
          "metadata": {}
        },
        {
          "output_type": "display_data",
          "data": {
            "text/plain": [
              "<IPython.core.display.HTML object>"
            ],
            "text/html": [
              " View project at <a href='https://wandb.ai/damonz-deeplearning/nlp' target=\"_blank\">https://wandb.ai/damonz-deeplearning/nlp</a>"
            ]
          },
          "metadata": {}
        },
        {
          "output_type": "display_data",
          "data": {
            "text/plain": [
              "<IPython.core.display.HTML object>"
            ],
            "text/html": [
              " View run at <a href='https://wandb.ai/damonz-deeplearning/nlp/runs/5xk4qt7c' target=\"_blank\">https://wandb.ai/damonz-deeplearning/nlp/runs/5xk4qt7c</a>"
            ]
          },
          "metadata": {}
        },
        {
          "output_type": "stream",
          "name": "stderr",
          "text": [
            " 16%|█▋        | 20/123 [00:04<00:22,  4.53it/s]"
          ]
        },
        {
          "output_type": "stream",
          "name": "stdout",
          "text": [
            "\n",
            "\n",
            "epoch: 1, epoch_step: 10, avg loss: 1.839830\n",
            "learning rate: 0.000333\n",
            "\n",
            "\n"
          ]
        },
        {
          "output_type": "stream",
          "name": "stderr",
          "text": [
            " 33%|███▎      | 40/123 [00:08<00:18,  4.53it/s]"
          ]
        },
        {
          "output_type": "stream",
          "name": "stdout",
          "text": [
            "\n",
            "\n",
            "epoch: 1, epoch_step: 20, avg loss: 1.475521\n",
            "learning rate: 0.000667\n",
            "\n",
            "\n"
          ]
        },
        {
          "output_type": "stream",
          "name": "stderr",
          "text": [
            " 49%|████▉     | 60/123 [00:13<00:13,  4.51it/s]"
          ]
        },
        {
          "output_type": "stream",
          "name": "stdout",
          "text": [
            "\n",
            "\n",
            "epoch: 1, epoch_step: 30, avg loss: 1.491153\n",
            "learning rate: 0.001000\n",
            "\n",
            "\n"
          ]
        },
        {
          "output_type": "stream",
          "name": "stderr",
          "text": [
            " 65%|██████▌   | 80/123 [00:17<00:09,  4.53it/s]"
          ]
        },
        {
          "output_type": "stream",
          "name": "stdout",
          "text": [
            "\n",
            "\n",
            "epoch: 1, epoch_step: 40, avg loss: 1.436506\n",
            "learning rate: 0.001333\n",
            "\n",
            "\n"
          ]
        },
        {
          "output_type": "stream",
          "name": "stderr",
          "text": [
            " 80%|████████  | 99/123 [00:21<00:05,  4.51it/s]"
          ]
        },
        {
          "output_type": "stream",
          "name": "stdout",
          "text": [
            "\n",
            "\n",
            "epoch: 1, epoch_step: 50, avg loss: 1.440874\n",
            "learning rate: 0.001667\n",
            "\n",
            "\n",
            "\n",
            "Evaluate:\n",
            "\n",
            "\n",
            "\n",
            "Classification Accuracy: 0.117\n",
            "\n",
            "\n"
          ]
        },
        {
          "output_type": "stream",
          "name": "stderr",
          "text": [
            "\r 81%|████████▏ | 100/123 [00:22<00:09,  2.43it/s]"
          ]
        },
        {
          "output_type": "stream",
          "name": "stdout",
          "text": [
            "\n",
            "\n",
            "best val loss - epoch: 0, epoch_step: 50\n",
            "maximum_f_score 0.11688311688311688\n",
            "\n",
            "\n"
          ]
        },
        {
          "output_type": "stream",
          "name": "stderr",
          "text": [
            " 98%|█████████▊| 120/123 [00:27<00:00,  4.52it/s]"
          ]
        },
        {
          "output_type": "stream",
          "name": "stdout",
          "text": [
            "\n",
            "\n",
            "epoch: 1, epoch_step: 60, avg loss: 1.500998\n",
            "learning rate: 0.002000\n",
            "\n",
            "\n"
          ]
        },
        {
          "output_type": "stream",
          "name": "stderr",
          "text": [
            "100%|██████████| 123/123 [00:27<00:00,  4.42it/s]\n",
            " 14%|█▍        | 17/123 [00:03<00:23,  4.52it/s]"
          ]
        },
        {
          "output_type": "stream",
          "name": "stdout",
          "text": [
            "\n",
            "\n",
            "epoch: 2, epoch_step: 9, avg loss: 1.586200\n",
            "learning rate: 0.002333\n",
            "\n",
            "\n"
          ]
        },
        {
          "output_type": "stream",
          "name": "stderr",
          "text": [
            " 30%|███       | 37/123 [00:08<00:19,  4.50it/s]"
          ]
        },
        {
          "output_type": "stream",
          "name": "stdout",
          "text": [
            "\n",
            "\n",
            "epoch: 2, epoch_step: 19, avg loss: 1.533727\n",
            "learning rate: 0.002667\n",
            "\n",
            "\n"
          ]
        },
        {
          "output_type": "stream",
          "name": "stderr",
          "text": [
            " 46%|████▋     | 57/123 [00:12<00:14,  4.51it/s]"
          ]
        },
        {
          "output_type": "stream",
          "name": "stdout",
          "text": [
            "\n",
            "\n",
            "epoch: 2, epoch_step: 29, avg loss: 1.473653\n",
            "learning rate: 0.003000\n",
            "\n",
            "\n"
          ]
        },
        {
          "output_type": "stream",
          "name": "stderr",
          "text": [
            " 62%|██████▏   | 76/123 [00:16<00:10,  4.56it/s]"
          ]
        },
        {
          "output_type": "stream",
          "name": "stdout",
          "text": [
            "\n",
            "\n",
            "epoch: 2, epoch_step: 39, avg loss: 1.413532\n",
            "learning rate: 0.003333\n",
            "\n",
            "\n",
            "\n",
            "Evaluate:\n",
            "\n",
            "\n",
            "\n",
            "Classification Accuracy: 0.266\n",
            "\n",
            "\n"
          ]
        },
        {
          "output_type": "stream",
          "name": "stderr",
          "text": [
            "\r 63%|██████▎   | 77/123 [00:17<00:17,  2.58it/s]"
          ]
        },
        {
          "output_type": "stream",
          "name": "stdout",
          "text": [
            "\n",
            "\n",
            "best val loss - epoch: 1, epoch_step: 39\n",
            "maximum_f_score 0.2662337662337662\n",
            "\n",
            "\n"
          ]
        },
        {
          "output_type": "stream",
          "name": "stderr",
          "text": [
            " 79%|███████▉  | 97/123 [00:22<00:05,  4.50it/s]"
          ]
        },
        {
          "output_type": "stream",
          "name": "stdout",
          "text": [
            "\n",
            "\n",
            "epoch: 2, epoch_step: 49, avg loss: 1.427777\n",
            "learning rate: 0.003667\n",
            "\n",
            "\n"
          ]
        },
        {
          "output_type": "stream",
          "name": "stderr",
          "text": [
            " 95%|█████████▌| 117/123 [00:26<00:01,  4.56it/s]"
          ]
        },
        {
          "output_type": "stream",
          "name": "stdout",
          "text": [
            "\n",
            "\n",
            "epoch: 2, epoch_step: 59, avg loss: 1.389016\n",
            "learning rate: 0.004000\n",
            "\n",
            "\n"
          ]
        },
        {
          "output_type": "stream",
          "name": "stderr",
          "text": [
            "100%|██████████| 123/123 [00:27<00:00,  4.43it/s]\n",
            " 11%|█▏        | 14/123 [00:03<00:23,  4.55it/s]"
          ]
        },
        {
          "output_type": "stream",
          "name": "stdout",
          "text": [
            "\n",
            "\n",
            "epoch: 3, epoch_step: 7, avg loss: 1.381470\n",
            "learning rate: 0.004333\n",
            "\n",
            "\n"
          ]
        },
        {
          "output_type": "stream",
          "name": "stderr",
          "text": [
            " 28%|██▊       | 34/123 [00:07<00:20,  4.40it/s]"
          ]
        },
        {
          "output_type": "stream",
          "name": "stdout",
          "text": [
            "\n",
            "\n",
            "epoch: 3, epoch_step: 17, avg loss: 1.377119\n",
            "learning rate: 0.004667\n",
            "\n",
            "\n"
          ]
        },
        {
          "output_type": "stream",
          "name": "stderr",
          "text": [
            " 43%|████▎     | 53/123 [00:11<00:15,  4.52it/s]"
          ]
        },
        {
          "output_type": "stream",
          "name": "stdout",
          "text": [
            "\n",
            "\n",
            "epoch: 3, epoch_step: 27, avg loss: 1.400734\n",
            "learning rate: 0.005000\n",
            "\n",
            "\n",
            "\n",
            "Evaluate:\n",
            "\n",
            "\n",
            "\n",
            "Classification Accuracy: 0.442\n",
            "\n",
            "\n"
          ]
        },
        {
          "output_type": "stream",
          "name": "stderr",
          "text": [
            "\r 44%|████▍     | 54/123 [00:12<00:27,  2.52it/s]"
          ]
        },
        {
          "output_type": "stream",
          "name": "stdout",
          "text": [
            "\n",
            "\n",
            "best val loss - epoch: 2, epoch_step: 27\n",
            "maximum_f_score 0.44155844155844154\n",
            "\n",
            "\n"
          ]
        },
        {
          "output_type": "stream",
          "name": "stderr",
          "text": [
            " 60%|██████    | 74/123 [00:17<00:10,  4.51it/s]"
          ]
        },
        {
          "output_type": "stream",
          "name": "stdout",
          "text": [
            "\n",
            "\n",
            "epoch: 3, epoch_step: 37, avg loss: 1.396136\n",
            "learning rate: 0.005333\n",
            "\n",
            "\n"
          ]
        },
        {
          "output_type": "stream",
          "name": "stderr",
          "text": [
            " 76%|███████▋  | 94/123 [00:21<00:06,  4.48it/s]"
          ]
        },
        {
          "output_type": "stream",
          "name": "stdout",
          "text": [
            "\n",
            "\n",
            "epoch: 3, epoch_step: 47, avg loss: 1.385151\n",
            "learning rate: 0.005667\n",
            "\n",
            "\n"
          ]
        },
        {
          "output_type": "stream",
          "name": "stderr",
          "text": [
            " 93%|█████████▎| 114/123 [00:25<00:01,  4.55it/s]"
          ]
        },
        {
          "output_type": "stream",
          "name": "stdout",
          "text": [
            "\n",
            "\n",
            "epoch: 3, epoch_step: 57, avg loss: 1.387402\n",
            "learning rate: 0.006000\n",
            "\n",
            "\n"
          ]
        },
        {
          "output_type": "stream",
          "name": "stderr",
          "text": [
            "100%|██████████| 123/123 [00:27<00:00,  4.41it/s]\n",
            "  9%|▉         | 11/123 [00:02<00:25,  4.48it/s]"
          ]
        },
        {
          "output_type": "stream",
          "name": "stdout",
          "text": [
            "\n",
            "\n",
            "epoch: 4, epoch_step: 6, avg loss: 1.390220\n",
            "learning rate: 0.006333\n",
            "\n",
            "\n"
          ]
        },
        {
          "output_type": "stream",
          "name": "stderr",
          "text": [
            " 24%|██▍       | 30/123 [00:06<00:20,  4.51it/s]"
          ]
        },
        {
          "output_type": "stream",
          "name": "stdout",
          "text": [
            "\n",
            "\n",
            "epoch: 4, epoch_step: 16, avg loss: 1.382342\n",
            "learning rate: 0.006667\n",
            "\n",
            "\n",
            "\n",
            "Evaluate:\n",
            "\n"
          ]
        },
        {
          "output_type": "stream",
          "name": "stderr",
          "text": [
            "\r 25%|██▌       | 31/123 [00:07<00:30,  3.03it/s]"
          ]
        },
        {
          "output_type": "stream",
          "name": "stdout",
          "text": [
            "\n",
            "\n",
            "Classification Accuracy: 0.117\n",
            "\n",
            "\n"
          ]
        },
        {
          "output_type": "stream",
          "name": "stderr",
          "text": [
            " 41%|████▏     | 51/123 [00:11<00:16,  4.47it/s]"
          ]
        },
        {
          "output_type": "stream",
          "name": "stdout",
          "text": [
            "\n",
            "\n",
            "epoch: 4, epoch_step: 26, avg loss: 1.381685\n",
            "learning rate: 0.007000\n",
            "\n",
            "\n"
          ]
        },
        {
          "output_type": "stream",
          "name": "stderr",
          "text": [
            " 58%|█████▊    | 71/123 [00:16<00:11,  4.52it/s]"
          ]
        },
        {
          "output_type": "stream",
          "name": "stdout",
          "text": [
            "\n",
            "\n",
            "epoch: 4, epoch_step: 36, avg loss: 1.390694\n",
            "learning rate: 0.007333\n",
            "\n",
            "\n"
          ]
        },
        {
          "output_type": "stream",
          "name": "stderr",
          "text": [
            " 74%|███████▍  | 91/123 [00:20<00:07,  4.50it/s]"
          ]
        },
        {
          "output_type": "stream",
          "name": "stdout",
          "text": [
            "\n",
            "\n",
            "epoch: 4, epoch_step: 46, avg loss: 1.394673\n",
            "learning rate: 0.007667\n",
            "\n",
            "\n"
          ]
        },
        {
          "output_type": "stream",
          "name": "stderr",
          "text": [
            " 90%|█████████ | 111/123 [00:24<00:02,  4.54it/s]"
          ]
        },
        {
          "output_type": "stream",
          "name": "stdout",
          "text": [
            "\n",
            "\n",
            "epoch: 4, epoch_step: 56, avg loss: 1.383986\n",
            "learning rate: 0.008000\n",
            "\n",
            "\n"
          ]
        },
        {
          "output_type": "stream",
          "name": "stderr",
          "text": [
            "100%|██████████| 123/123 [00:27<00:00,  4.46it/s]\n",
            "  6%|▌         | 7/123 [00:01<00:25,  4.57it/s]"
          ]
        },
        {
          "output_type": "stream",
          "name": "stdout",
          "text": [
            "\n",
            "\n",
            "epoch: 5, epoch_step: 4, avg loss: 1.388803\n",
            "learning rate: 0.008333\n",
            "\n",
            "\n",
            "\n",
            "Evaluate:\n",
            "\n"
          ]
        },
        {
          "output_type": "stream",
          "name": "stderr",
          "text": [
            "\r  7%|▋         | 8/123 [00:02<00:38,  3.01it/s]"
          ]
        },
        {
          "output_type": "stream",
          "name": "stdout",
          "text": [
            "\n",
            "\n",
            "Classification Accuracy: 0.442\n",
            "\n",
            "\n"
          ]
        },
        {
          "output_type": "stream",
          "name": "stderr",
          "text": [
            " 23%|██▎       | 28/123 [00:06<00:20,  4.53it/s]"
          ]
        },
        {
          "output_type": "stream",
          "name": "stdout",
          "text": [
            "\n",
            "\n",
            "epoch: 5, epoch_step: 14, avg loss: 1.389468\n",
            "learning rate: 0.008667\n",
            "\n",
            "\n"
          ]
        },
        {
          "output_type": "stream",
          "name": "stderr",
          "text": [
            " 39%|███▉      | 48/123 [00:10<00:16,  4.51it/s]"
          ]
        },
        {
          "output_type": "stream",
          "name": "stdout",
          "text": [
            "\n",
            "\n",
            "epoch: 5, epoch_step: 24, avg loss: 1.382789\n",
            "learning rate: 0.009000\n",
            "\n",
            "\n"
          ]
        },
        {
          "output_type": "stream",
          "name": "stderr",
          "text": [
            " 55%|█████▌    | 68/123 [00:15<00:12,  4.52it/s]"
          ]
        },
        {
          "output_type": "stream",
          "name": "stdout",
          "text": [
            "\n",
            "\n",
            "epoch: 5, epoch_step: 34, avg loss: 1.386847\n",
            "learning rate: 0.009333\n",
            "\n",
            "\n"
          ]
        },
        {
          "output_type": "stream",
          "name": "stderr",
          "text": [
            " 72%|███████▏  | 88/123 [00:19<00:07,  4.54it/s]"
          ]
        },
        {
          "output_type": "stream",
          "name": "stdout",
          "text": [
            "\n",
            "\n",
            "epoch: 5, epoch_step: 44, avg loss: 1.386591\n",
            "learning rate: 0.009667\n",
            "\n",
            "\n"
          ]
        },
        {
          "output_type": "stream",
          "name": "stderr",
          "text": [
            " 87%|████████▋ | 107/123 [00:23<00:03,  4.50it/s]"
          ]
        },
        {
          "output_type": "stream",
          "name": "stdout",
          "text": [
            "\n",
            "\n",
            "epoch: 5, epoch_step: 54, avg loss: 1.375668\n",
            "learning rate: 0.010000\n",
            "\n",
            "\n",
            "\n",
            "Evaluate:\n",
            "\n"
          ]
        },
        {
          "output_type": "stream",
          "name": "stderr",
          "text": [
            "\r 88%|████████▊ | 108/123 [00:24<00:04,  3.06it/s]"
          ]
        },
        {
          "output_type": "stream",
          "name": "stdout",
          "text": [
            "\n",
            "\n",
            "Classification Accuracy: 0.266\n",
            "\n",
            "\n"
          ]
        },
        {
          "output_type": "stream",
          "name": "stderr",
          "text": [
            "100%|██████████| 123/123 [00:27<00:00,  4.43it/s]\n"
          ]
        }
      ],
      "source": [
        "# start training\n",
        "import wandb\n",
        "import os\n",
        "wandb.init(project=\"nlp\", name=\"cls\")\n",
        "\n",
        "from tqdm import tqdm\n",
        "import numpy as np\n",
        "\n",
        "encoder_optimizer.zero_grad()\n",
        "step_cnt = 0\n",
        "all_step_cnt = 0\n",
        "avg_loss = 0\n",
        "maximum_f_score = 0\n",
        "ce_fn = nn.CrossEntropyLoss(torch.FloatTensor([0.2, 0.3, 0.5, 1.]).cuda())\n",
        "\n",
        "for epoch in range(5):\n",
        "    epoch_step = 0\n",
        "\n",
        "    for (i, batch) in enumerate(tqdm(dataloader)):\n",
        "\n",
        "        step_cnt += 1\n",
        "\n",
        "        # forward pass\n",
        "\n",
        "        cur_res = cls_model(batch[\"queries\"].cuda(), batch[\"queries_pos\"].cuda())\n",
        "\n",
        "        loss = ce_fn(cur_res, batch[\"labels\"].cuda())\n",
        "        loss = loss / accumulate_step\n",
        "        loss.backward()\n",
        "\n",
        "        avg_loss += loss.item()\n",
        "        if step_cnt == accumulate_step:\n",
        "            # updating\n",
        "            if grad_norm > 0:\n",
        "                nn.utils.clip_grad_norm_(cls_model.parameters(), grad_norm)\n",
        "\n",
        "            step_cnt = 0\n",
        "            epoch_step += 1\n",
        "            all_step_cnt += 1\n",
        "\n",
        "            # adjust learning rate\n",
        "            if all_step_cnt <= warmup_steps:\n",
        "                lr = all_step_cnt * (max_lr - 2e-8) / warmup_steps + 2e-8\n",
        "            else:\n",
        "                lr = max_lr - (all_step_cnt - warmup_steps) * 1e-6\n",
        "\n",
        "            encoder_optimizer.step()\n",
        "            encoder_optimizer.zero_grad()\n",
        "\n",
        "        if all_step_cnt % report_freq == 0 and step_cnt == 0:\n",
        "            if all_step_cnt <= warmup_steps:\n",
        "                lr = all_step_cnt * (max_lr - 2e-8) / warmup_steps + 2e-8\n",
        "            else:\n",
        "                lr = max_lr - (all_step_cnt - warmup_steps) * 1e-6\n",
        "\n",
        "            wandb.log({\"learning_rate\": lr}, step=all_step_cnt)\n",
        "            wandb.log({\"loss\": avg_loss / report_freq}, step=all_step_cnt)\n",
        "\n",
        "            # report stats\n",
        "            print(\"\\n\")\n",
        "            print(\"epoch: %d, epoch_step: %d, avg loss: %.6f\" % (epoch + 1, epoch_step, avg_loss / report_freq))\n",
        "            print(f\"learning rate: {lr:.6f}\")\n",
        "            print(\"\\n\")\n",
        "\n",
        "            avg_loss = 0\n",
        "        del loss, cur_res\n",
        "\n",
        "        if all_step_cnt % eval_interval == 0 and all_step_cnt != 0 and step_cnt == 0:\n",
        "            # evaluate the model as a scorer\n",
        "            print(\"\\nEvaluate:\\n\")\n",
        "\n",
        "            f_score = validate(dev_inputs, dev_outputs, cls_model)\n",
        "            wandb.log({\"acc\": f_score}, step=all_step_cnt)\n",
        "\n",
        "            if f_score > maximum_f_score:\n",
        "                maximum_f_score = f_score\n",
        "                torch.save(cls_model.state_dict(), os.path.join(save_dir, \"best_cls_ckpt.bin\"))\n",
        "                print(\"\\n\")\n",
        "                print(\"best val loss - epoch: %d, epoch_step: %d\" % (epoch, epoch_step))\n",
        "                print(\"maximum_f_score\", f_score)\n",
        "                print(\"\\n\")"
      ]
    },
    {
      "cell_type": "code",
      "execution_count": 153,
      "metadata": {
        "id": "0Y14qewlMi69"
      },
      "outputs": [],
      "source": [
        "def predict(dev_input, cls_model_):\n",
        "    # get evidence embeddings\n",
        "    start_idx = 0\n",
        "    batch_size = 50\n",
        "    pos_len = len(dev_input[0])\n",
        "    cls_model.eval()\n",
        "\n",
        "    cls_res = []\n",
        "    correct_count = 0\n",
        "    while start_idx < len(dev_input):\n",
        "        end_idx = min(start_idx + batch_size, len(dev_input))\n",
        "\n",
        "        cur_input = torch.LongTensor(dev_input[start_idx:end_idx]).view(-1, pos_len).cuda()\n",
        "        cur_pos = torch.LongTensor([list(range(pos_len)) for _ in range(end_idx - start_idx)]).cuda()\n",
        "\n",
        "        cur_res = cls_model_(cur_input, cur_pos)\n",
        "        cur_res = torch.argmax(cur_res, 1).tolist()\n",
        "\n",
        "        del cur_input, cur_pos\n",
        "\n",
        "        cls_res.extend(cur_res)\n",
        "\n",
        "        start_idx = end_idx\n",
        "\n",
        "    return cls_res"
      ]
    },
    {
      "cell_type": "code",
      "execution_count": 154,
      "metadata": {
        "id": "cErPL01gMi69"
      },
      "outputs": [],
      "source": [
        "torch.cuda.empty_cache()"
      ]
    },
    {
      "cell_type": "code",
      "execution_count": 155,
      "metadata": {
        "id": "zWW-2oXfMi69"
      },
      "outputs": [],
      "source": [
        "import os\n",
        "cls_model.load_state_dict(torch.load(os.path.join(save_dir, \"best_cls_ckpt.bin\")))\n",
        "\n",
        "dev_classes = predict(dev_inputs, cls_model)\n",
        "test_classes = predict(test_inputs, cls_model)"
      ]
    },
    {
      "cell_type": "code",
      "execution_count": 156,
      "metadata": {
        "id": "FyZGY4f9Mi69"
      },
      "outputs": [],
      "source": [
        "pred_dev_claims = json.load(open(\"data/dev_predict.json\", \"r\"))\n",
        "pred_test_claims = json.load(open(\"data/test-claims-unlabelled.json\", \"r\"))\n",
        "\n",
        "for i, j in zip(dev_claim_id, dev_classes):\n",
        "    claim_label = id2labels[j]\n",
        "    evidences = pred_dev_claims[i]['evidences']\n",
        "    pred_dev_claims[i] = {'claim_text': pred_dev_claims[i]['claim_text'], 'claim_label': claim_label, 'evidences': evidences}\n",
        "\n",
        "for i, j in zip(test_claim_id, test_classes):\n",
        "    claim_label = id2labels[j]\n",
        "    evidences = pred_test_claims[i]['evidences']\n",
        "    pred_test_claims[i] = {'claim_text': pred_test_claims[i]['claim_text'], 'claim_label': claim_label, 'evidences': evidences}\n",
        "\n",
        "json.dump(pred_dev_claims, open(\"data/dev_predict.json\", \"w\"))\n",
        "json.dump(pred_test_claims, open(\"data/test-claims-unlabelled.json\", \"w\"))\n",
        ""
      ]
    },
    {
      "cell_type": "code",
      "execution_count": 157,
      "metadata": {
        "colab": {
          "base_uri": "https://localhost:8080/"
        },
        "id": "8uESP35hMi69",
        "outputId": "fa8ed4ec-ddea-4ac9-b3f8-e9b924333667"
      },
      "outputs": [
        {
          "output_type": "stream",
          "name": "stdout",
          "text": [
            "Counter({0: 154})\n"
          ]
        }
      ],
      "source": [
        "from collections import Counter\n",
        "print(Counter(dev_classes))"
      ]
    },
    {
      "cell_type": "code",
      "execution_count": 158,
      "metadata": {
        "colab": {
          "base_uri": "https://localhost:8080/"
        },
        "id": "GbKflCM1Mi69",
        "outputId": "6079a301-2dd1-4799-93b3-4caae40a413c"
      },
      "outputs": [
        {
          "output_type": "stream",
          "name": "stdout",
          "text": [
            "Counter({0: 153})\n"
          ]
        }
      ],
      "source": [
        "print(Counter(test_classes))"
      ]
    },
    {
      "cell_type": "code",
      "execution_count": 159,
      "metadata": {
        "colab": {
          "base_uri": "https://localhost:8080/"
        },
        "id": "96VmCASgMi69",
        "outputId": "e96ef3f1-1ded-49d5-e941-40cb8de43924"
      },
      "outputs": [
        {
          "output_type": "stream",
          "name": "stdout",
          "text": [
            "Evidence Retrieval F-score (F): 0.09137291280148424\n",
            "Claim Classification Accuracy (A): 0.44155844155844154\n",
            "Harmonic Mean of F and A: 0.15141342556486162\n"
          ]
        }
      ],
      "source": [
        "import subprocess\n",
        "\n",
        "output = subprocess.check_output(\"python eval.py --predictions data/dev_predict.json --groundtruth data/dev-claims.json\", shell=True)\n",
        "output_str = output.decode('utf-8')\n",
        "\n",
        "# Split the output into lines\n",
        "output_lines = output_str.strip().split('\\n')\n",
        "\n",
        "# Format the output\n",
        "formatted_lines = []\n",
        "for line in output_lines:\n",
        "    metric, value = line.split('=')\n",
        "    metric = metric.strip()\n",
        "    value = value.strip()\n",
        "    formatted_line = f\"{metric}: {value}\"\n",
        "    formatted_lines.append(formatted_line)\n",
        "\n",
        "# Join the formatted lines into a single string\n",
        "formatted_output = '\\n'.join(formatted_lines)\n",
        "print(formatted_output)"
      ]
    },
    {
      "cell_type": "markdown",
      "metadata": {
        "id": "mefSOe8eTmGP"
      },
      "source": [
        "## Object Oriented Programming codes here\n",
        "\n",
        "*You can use multiple code snippets. Just add more if needed*"
      ]
    }
  ],
  "metadata": {
    "colab": {
      "provenance": [],
      "machine_shape": "hm",
      "gpuType": "L4"
    },
    "kernelspec": {
      "display_name": "Python 3",
      "name": "python3"
    },
    "language_info": {
      "codemirror_mode": {
        "name": "ipython",
        "version": 3
      },
      "file_extension": ".py",
      "mimetype": "text/x-python",
      "name": "python",
      "nbconvert_exporter": "python",
      "pygments_lexer": "ipython3",
      "version": "3.9.19"
    },
    "accelerator": "GPU",
    "widgets": {
      "application/vnd.jupyter.widget-state+json": {
        "41aeb6b98e8342a897b755bc5cd162e5": {
          "model_module": "@jupyter-widgets/controls",
          "model_name": "VBoxModel",
          "model_module_version": "1.5.0",
          "state": {
            "_dom_classes": [],
            "_model_module": "@jupyter-widgets/controls",
            "_model_module_version": "1.5.0",
            "_model_name": "VBoxModel",
            "_view_count": null,
            "_view_module": "@jupyter-widgets/controls",
            "_view_module_version": "1.5.0",
            "_view_name": "VBoxView",
            "box_style": "",
            "children": [
              "IPY_MODEL_b0b58f518c82445d9e8dff93d6123a93",
              "IPY_MODEL_ad6322e978754703965765f99f1b222e"
            ],
            "layout": "IPY_MODEL_3da158ade75d4767b89cc0c8c6274183"
          }
        },
        "b0b58f518c82445d9e8dff93d6123a93": {
          "model_module": "@jupyter-widgets/controls",
          "model_name": "LabelModel",
          "model_module_version": "1.5.0",
          "state": {
            "_dom_classes": [],
            "_model_module": "@jupyter-widgets/controls",
            "_model_module_version": "1.5.0",
            "_model_name": "LabelModel",
            "_view_count": null,
            "_view_module": "@jupyter-widgets/controls",
            "_view_module_version": "1.5.0",
            "_view_name": "LabelView",
            "description": "",
            "description_tooltip": null,
            "layout": "IPY_MODEL_61246f7cecfd46148c92eee716230050",
            "placeholder": "​",
            "style": "IPY_MODEL_53bd5ccb1a89435488a03651cb5c8ff7",
            "value": "0.018 MB of 0.018 MB uploaded\r"
          }
        },
        "ad6322e978754703965765f99f1b222e": {
          "model_module": "@jupyter-widgets/controls",
          "model_name": "FloatProgressModel",
          "model_module_version": "1.5.0",
          "state": {
            "_dom_classes": [],
            "_model_module": "@jupyter-widgets/controls",
            "_model_module_version": "1.5.0",
            "_model_name": "FloatProgressModel",
            "_view_count": null,
            "_view_module": "@jupyter-widgets/controls",
            "_view_module_version": "1.5.0",
            "_view_name": "ProgressView",
            "bar_style": "",
            "description": "",
            "description_tooltip": null,
            "layout": "IPY_MODEL_e6ec98ff8f2e4598a472dbf538c2d726",
            "max": 1,
            "min": 0,
            "orientation": "horizontal",
            "style": "IPY_MODEL_5211d5777858423c8680ed423b70e835",
            "value": 1
          }
        },
        "3da158ade75d4767b89cc0c8c6274183": {
          "model_module": "@jupyter-widgets/base",
          "model_name": "LayoutModel",
          "model_module_version": "1.2.0",
          "state": {
            "_model_module": "@jupyter-widgets/base",
            "_model_module_version": "1.2.0",
            "_model_name": "LayoutModel",
            "_view_count": null,
            "_view_module": "@jupyter-widgets/base",
            "_view_module_version": "1.2.0",
            "_view_name": "LayoutView",
            "align_content": null,
            "align_items": null,
            "align_self": null,
            "border": null,
            "bottom": null,
            "display": null,
            "flex": null,
            "flex_flow": null,
            "grid_area": null,
            "grid_auto_columns": null,
            "grid_auto_flow": null,
            "grid_auto_rows": null,
            "grid_column": null,
            "grid_gap": null,
            "grid_row": null,
            "grid_template_areas": null,
            "grid_template_columns": null,
            "grid_template_rows": null,
            "height": null,
            "justify_content": null,
            "justify_items": null,
            "left": null,
            "margin": null,
            "max_height": null,
            "max_width": null,
            "min_height": null,
            "min_width": null,
            "object_fit": null,
            "object_position": null,
            "order": null,
            "overflow": null,
            "overflow_x": null,
            "overflow_y": null,
            "padding": null,
            "right": null,
            "top": null,
            "visibility": null,
            "width": null
          }
        },
        "61246f7cecfd46148c92eee716230050": {
          "model_module": "@jupyter-widgets/base",
          "model_name": "LayoutModel",
          "model_module_version": "1.2.0",
          "state": {
            "_model_module": "@jupyter-widgets/base",
            "_model_module_version": "1.2.0",
            "_model_name": "LayoutModel",
            "_view_count": null,
            "_view_module": "@jupyter-widgets/base",
            "_view_module_version": "1.2.0",
            "_view_name": "LayoutView",
            "align_content": null,
            "align_items": null,
            "align_self": null,
            "border": null,
            "bottom": null,
            "display": null,
            "flex": null,
            "flex_flow": null,
            "grid_area": null,
            "grid_auto_columns": null,
            "grid_auto_flow": null,
            "grid_auto_rows": null,
            "grid_column": null,
            "grid_gap": null,
            "grid_row": null,
            "grid_template_areas": null,
            "grid_template_columns": null,
            "grid_template_rows": null,
            "height": null,
            "justify_content": null,
            "justify_items": null,
            "left": null,
            "margin": null,
            "max_height": null,
            "max_width": null,
            "min_height": null,
            "min_width": null,
            "object_fit": null,
            "object_position": null,
            "order": null,
            "overflow": null,
            "overflow_x": null,
            "overflow_y": null,
            "padding": null,
            "right": null,
            "top": null,
            "visibility": null,
            "width": null
          }
        },
        "53bd5ccb1a89435488a03651cb5c8ff7": {
          "model_module": "@jupyter-widgets/controls",
          "model_name": "DescriptionStyleModel",
          "model_module_version": "1.5.0",
          "state": {
            "_model_module": "@jupyter-widgets/controls",
            "_model_module_version": "1.5.0",
            "_model_name": "DescriptionStyleModel",
            "_view_count": null,
            "_view_module": "@jupyter-widgets/base",
            "_view_module_version": "1.2.0",
            "_view_name": "StyleView",
            "description_width": ""
          }
        },
        "e6ec98ff8f2e4598a472dbf538c2d726": {
          "model_module": "@jupyter-widgets/base",
          "model_name": "LayoutModel",
          "model_module_version": "1.2.0",
          "state": {
            "_model_module": "@jupyter-widgets/base",
            "_model_module_version": "1.2.0",
            "_model_name": "LayoutModel",
            "_view_count": null,
            "_view_module": "@jupyter-widgets/base",
            "_view_module_version": "1.2.0",
            "_view_name": "LayoutView",
            "align_content": null,
            "align_items": null,
            "align_self": null,
            "border": null,
            "bottom": null,
            "display": null,
            "flex": null,
            "flex_flow": null,
            "grid_area": null,
            "grid_auto_columns": null,
            "grid_auto_flow": null,
            "grid_auto_rows": null,
            "grid_column": null,
            "grid_gap": null,
            "grid_row": null,
            "grid_template_areas": null,
            "grid_template_columns": null,
            "grid_template_rows": null,
            "height": null,
            "justify_content": null,
            "justify_items": null,
            "left": null,
            "margin": null,
            "max_height": null,
            "max_width": null,
            "min_height": null,
            "min_width": null,
            "object_fit": null,
            "object_position": null,
            "order": null,
            "overflow": null,
            "overflow_x": null,
            "overflow_y": null,
            "padding": null,
            "right": null,
            "top": null,
            "visibility": null,
            "width": null
          }
        },
        "5211d5777858423c8680ed423b70e835": {
          "model_module": "@jupyter-widgets/controls",
          "model_name": "ProgressStyleModel",
          "model_module_version": "1.5.0",
          "state": {
            "_model_module": "@jupyter-widgets/controls",
            "_model_module_version": "1.5.0",
            "_model_name": "ProgressStyleModel",
            "_view_count": null,
            "_view_module": "@jupyter-widgets/base",
            "_view_module_version": "1.2.0",
            "_view_name": "StyleView",
            "bar_color": null,
            "description_width": ""
          }
        },
        "fae0e93c1a184d09b9da53a638c0a436": {
          "model_module": "@jupyter-widgets/controls",
          "model_name": "VBoxModel",
          "model_module_version": "1.5.0",
          "state": {
            "_dom_classes": [],
            "_model_module": "@jupyter-widgets/controls",
            "_model_module_version": "1.5.0",
            "_model_name": "VBoxModel",
            "_view_count": null,
            "_view_module": "@jupyter-widgets/controls",
            "_view_module_version": "1.5.0",
            "_view_name": "VBoxView",
            "box_style": "",
            "children": [
              "IPY_MODEL_537dc3ee33594e8c8ec8a78f87ad2a01",
              "IPY_MODEL_61311823b271420a9f71aa4c2906d6be"
            ],
            "layout": "IPY_MODEL_f9b3800064414bd590fe26697c49295d"
          }
        },
        "537dc3ee33594e8c8ec8a78f87ad2a01": {
          "model_module": "@jupyter-widgets/controls",
          "model_name": "LabelModel",
          "model_module_version": "1.5.0",
          "state": {
            "_dom_classes": [],
            "_model_module": "@jupyter-widgets/controls",
            "_model_module_version": "1.5.0",
            "_model_name": "LabelModel",
            "_view_count": null,
            "_view_module": "@jupyter-widgets/controls",
            "_view_module_version": "1.5.0",
            "_view_name": "LabelView",
            "description": "",
            "description_tooltip": null,
            "layout": "IPY_MODEL_1918269c1a9546cea0cae1f45178016f",
            "placeholder": "​",
            "style": "IPY_MODEL_35005ac807844b1faf83a2e3218c8fad",
            "value": "0.014 MB of 0.014 MB uploaded\r"
          }
        },
        "61311823b271420a9f71aa4c2906d6be": {
          "model_module": "@jupyter-widgets/controls",
          "model_name": "FloatProgressModel",
          "model_module_version": "1.5.0",
          "state": {
            "_dom_classes": [],
            "_model_module": "@jupyter-widgets/controls",
            "_model_module_version": "1.5.0",
            "_model_name": "FloatProgressModel",
            "_view_count": null,
            "_view_module": "@jupyter-widgets/controls",
            "_view_module_version": "1.5.0",
            "_view_name": "ProgressView",
            "bar_style": "",
            "description": "",
            "description_tooltip": null,
            "layout": "IPY_MODEL_cbdf1349be854e57a296437d4701a4be",
            "max": 1,
            "min": 0,
            "orientation": "horizontal",
            "style": "IPY_MODEL_18fbdde4c7cc4ba889eddfbecba354dd",
            "value": 1
          }
        },
        "f9b3800064414bd590fe26697c49295d": {
          "model_module": "@jupyter-widgets/base",
          "model_name": "LayoutModel",
          "model_module_version": "1.2.0",
          "state": {
            "_model_module": "@jupyter-widgets/base",
            "_model_module_version": "1.2.0",
            "_model_name": "LayoutModel",
            "_view_count": null,
            "_view_module": "@jupyter-widgets/base",
            "_view_module_version": "1.2.0",
            "_view_name": "LayoutView",
            "align_content": null,
            "align_items": null,
            "align_self": null,
            "border": null,
            "bottom": null,
            "display": null,
            "flex": null,
            "flex_flow": null,
            "grid_area": null,
            "grid_auto_columns": null,
            "grid_auto_flow": null,
            "grid_auto_rows": null,
            "grid_column": null,
            "grid_gap": null,
            "grid_row": null,
            "grid_template_areas": null,
            "grid_template_columns": null,
            "grid_template_rows": null,
            "height": null,
            "justify_content": null,
            "justify_items": null,
            "left": null,
            "margin": null,
            "max_height": null,
            "max_width": null,
            "min_height": null,
            "min_width": null,
            "object_fit": null,
            "object_position": null,
            "order": null,
            "overflow": null,
            "overflow_x": null,
            "overflow_y": null,
            "padding": null,
            "right": null,
            "top": null,
            "visibility": null,
            "width": null
          }
        },
        "1918269c1a9546cea0cae1f45178016f": {
          "model_module": "@jupyter-widgets/base",
          "model_name": "LayoutModel",
          "model_module_version": "1.2.0",
          "state": {
            "_model_module": "@jupyter-widgets/base",
            "_model_module_version": "1.2.0",
            "_model_name": "LayoutModel",
            "_view_count": null,
            "_view_module": "@jupyter-widgets/base",
            "_view_module_version": "1.2.0",
            "_view_name": "LayoutView",
            "align_content": null,
            "align_items": null,
            "align_self": null,
            "border": null,
            "bottom": null,
            "display": null,
            "flex": null,
            "flex_flow": null,
            "grid_area": null,
            "grid_auto_columns": null,
            "grid_auto_flow": null,
            "grid_auto_rows": null,
            "grid_column": null,
            "grid_gap": null,
            "grid_row": null,
            "grid_template_areas": null,
            "grid_template_columns": null,
            "grid_template_rows": null,
            "height": null,
            "justify_content": null,
            "justify_items": null,
            "left": null,
            "margin": null,
            "max_height": null,
            "max_width": null,
            "min_height": null,
            "min_width": null,
            "object_fit": null,
            "object_position": null,
            "order": null,
            "overflow": null,
            "overflow_x": null,
            "overflow_y": null,
            "padding": null,
            "right": null,
            "top": null,
            "visibility": null,
            "width": null
          }
        },
        "35005ac807844b1faf83a2e3218c8fad": {
          "model_module": "@jupyter-widgets/controls",
          "model_name": "DescriptionStyleModel",
          "model_module_version": "1.5.0",
          "state": {
            "_model_module": "@jupyter-widgets/controls",
            "_model_module_version": "1.5.0",
            "_model_name": "DescriptionStyleModel",
            "_view_count": null,
            "_view_module": "@jupyter-widgets/base",
            "_view_module_version": "1.2.0",
            "_view_name": "StyleView",
            "description_width": ""
          }
        },
        "cbdf1349be854e57a296437d4701a4be": {
          "model_module": "@jupyter-widgets/base",
          "model_name": "LayoutModel",
          "model_module_version": "1.2.0",
          "state": {
            "_model_module": "@jupyter-widgets/base",
            "_model_module_version": "1.2.0",
            "_model_name": "LayoutModel",
            "_view_count": null,
            "_view_module": "@jupyter-widgets/base",
            "_view_module_version": "1.2.0",
            "_view_name": "LayoutView",
            "align_content": null,
            "align_items": null,
            "align_self": null,
            "border": null,
            "bottom": null,
            "display": null,
            "flex": null,
            "flex_flow": null,
            "grid_area": null,
            "grid_auto_columns": null,
            "grid_auto_flow": null,
            "grid_auto_rows": null,
            "grid_column": null,
            "grid_gap": null,
            "grid_row": null,
            "grid_template_areas": null,
            "grid_template_columns": null,
            "grid_template_rows": null,
            "height": null,
            "justify_content": null,
            "justify_items": null,
            "left": null,
            "margin": null,
            "max_height": null,
            "max_width": null,
            "min_height": null,
            "min_width": null,
            "object_fit": null,
            "object_position": null,
            "order": null,
            "overflow": null,
            "overflow_x": null,
            "overflow_y": null,
            "padding": null,
            "right": null,
            "top": null,
            "visibility": null,
            "width": null
          }
        },
        "18fbdde4c7cc4ba889eddfbecba354dd": {
          "model_module": "@jupyter-widgets/controls",
          "model_name": "ProgressStyleModel",
          "model_module_version": "1.5.0",
          "state": {
            "_model_module": "@jupyter-widgets/controls",
            "_model_module_version": "1.5.0",
            "_model_name": "ProgressStyleModel",
            "_view_count": null,
            "_view_module": "@jupyter-widgets/base",
            "_view_module_version": "1.2.0",
            "_view_name": "StyleView",
            "bar_color": null,
            "description_width": ""
          }
        }
      }
    }
  },
  "nbformat": 4,
  "nbformat_minor": 0
}