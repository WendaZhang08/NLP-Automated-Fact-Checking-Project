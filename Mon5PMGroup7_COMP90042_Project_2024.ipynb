{
 "cells": [
  {
   "cell_type": "markdown",
   "metadata": {
    "id": "32yCsRUo8H33"
   },
   "source": [
    "# 2024 COMP90042 Project\n",
    "*Make sure you change the file name with your group id.*"
   ]
  },
  {
   "cell_type": "markdown",
   "metadata": {
    "id": "XCybYoGz8YWQ"
   },
   "source": [
    "# Readme\n",
    "*If there is something to be noted for the marker, please mention here.*\n",
    "\n",
    "*If you are planning to implement a program with Object Oriented Programming style, please put those the bottom of this ipynb file*"
   ]
  },
  {
   "cell_type": "markdown",
   "metadata": {},
   "source": [
    "**We use pytorch, nltk, scikit-learn in this project.**"
   ]
  },
  {
   "cell_type": "markdown",
   "metadata": {
    "id": "6po98qVA8bJD"
   },
   "source": [
    "# 1.DataSet Processing\n",
    "(You can add as many code blocks and text blocks as you need. However, YOU SHOULD NOT MODIFY the section title)"
   ]
  },
  {
   "cell_type": "markdown",
   "metadata": {
    "id": "qvff21Hv8zjk",
    "tags": []
   },
   "source": [
    "## PreProcess for evidence and claims"
   ]
  },
  {
   "cell_type": "markdown",
   "metadata": {},
   "source": [
    "### preprocessing function"
   ]
  },
  {
   "cell_type": "code",
   "execution_count": 1,
   "metadata": {},
   "outputs": [
    {
     "name": "stdout",
     "output_type": "stream",
     "text": [
      "CUDA available: True\n"
     ]
    }
   ],
   "source": [
    "import torch\n",
    "\n",
    "print(\"CUDA available:\", torch.cuda.is_available())"
   ]
  },
  {
   "cell_type": "code",
   "execution_count": 2,
   "metadata": {},
   "outputs": [
    {
     "name": "stdout",
     "output_type": "stream",
     "text": [
      "Current CUDA device: 0\n",
      "Device count: 1\n",
      "Device name: NVIDIA GeForce RTX 4070 Ti SUPER\n"
     ]
    }
   ],
   "source": [
    "print(\"Current CUDA device:\", torch.cuda.current_device())\n",
    "print(\"Device count:\", torch.cuda.device_count())\n",
    "print(\"Device name:\", torch.cuda.get_device_name(torch.cuda.current_device()))"
   ]
  },
  {
   "cell_type": "markdown",
   "metadata": {},
   "source": [
    "### read files"
   ]
  },
  {
   "cell_type": "code",
   "execution_count": 3,
   "metadata": {},
   "outputs": [
    {
     "name": "stderr",
     "output_type": "stream",
     "text": [
      "[nltk_data] Downloading package stopwords to\n",
      "[nltk_data]     C:\\Users\\ABC\\AppData\\Roaming\\nltk_data...\n",
      "[nltk_data]   Package stopwords is already up-to-date!\n",
      "[nltk_data] Downloading package wordnet to\n",
      "[nltk_data]     C:\\Users\\ABC\\AppData\\Roaming\\nltk_data...\n",
      "[nltk_data]   Package wordnet is already up-to-date!\n"
     ]
    },
    {
     "name": "stdout",
     "output_type": "stream",
     "text": [
      "claim count:  1228\n",
      "evidence count:  1208827\n",
      "max claim length:  332\n",
      "min claim length:  26\n",
      "mean claim length:  122.95521172638436\n",
      "max evidence count:  5\n",
      "min evidence count:  1\n",
      "mean evidence count:  3.3566775244299674\n",
      "max evidence length:  1979\n",
      "min evidence length:  13\n",
      "mean evidence length:  173.5\n",
      "Counter({'SUPPORTS': 519, 'NOT_ENOUGH_INFO': 386, 'REFUTES': 199, 'DISPUTED': 124})\n",
      "Dev evi inside train evi 163\n",
      "Dev evi outside train evi 328\n",
      "Train claim count:  1228\n"
     ]
    }
   ],
   "source": [
    "import json\n",
    "import nltk\n",
    "import string\n",
    "import re\n",
    "import numpy as np\n",
    "from sklearn.metrics.pairwise import cosine_similarity\n",
    "from nltk.corpus import stopwords\n",
    "from nltk.tokenize import word_tokenize\n",
    "from collections import Counter\n",
    "from statistics import mean\n",
    "\n",
    "nltk.download('stopwords')\n",
    "nltk.download('wordnet')\n",
    "\n",
    "with open('data/train-claims.json', 'r') as input_file:\n",
    "    train_claims = json.load(input_file)\n",
    "\n",
    "# Read in development data (claim)\n",
    "with open('data/dev-claims.json', 'r') as input_file:\n",
    "    dev_claims = json.load(input_file)\n",
    "\n",
    "# Read in test data (claim)\n",
    "with open('data/test-claims-unlabelled.json', 'r') as input_file:\n",
    "    test_claims = json.load(input_file)\n",
    "\n",
    "# Read in evidence data\n",
    "with open('data/evidence.json', 'r') as input_file:\n",
    "    evidences = json.load(input_file)\n",
    "\n",
    "#EDA\n",
    "claim_count = 0\n",
    "evi_count = 0\n",
    "claim_length = []\n",
    "evidence_count = []\n",
    "evidence_length = []\n",
    "labels = []\n",
    "\n",
    "for key,value in train_claims.items():\n",
    "    claim_count+=1\n",
    "    claim_length.append(len(value[\"claim_text\"]))\n",
    "    evidence_count.append(len(value[\"evidences\"]))\n",
    "    evidence_length += [len(evidences[x]) for x in value[\"evidences\"]]\n",
    "    labels.append(value[\"claim_label\"])\n",
    "\n",
    "for key,value in evidences.items():\n",
    "    evi_count+=1\n",
    "\n",
    "print(\"claim count: \",claim_count)\n",
    "print(\"evidence count: \",evi_count)\n",
    "print(\"max claim length: \",max(claim_length))\n",
    "print(\"min claim length: \",min(claim_length))\n",
    "print(\"mean claim length: \",mean(claim_length))\n",
    "print(\"max evidence count: \",max(evidence_count))\n",
    "print(\"min evidence count: \",min(evidence_count))\n",
    "print(\"mean evidence count: \",mean(evidence_count))\n",
    "print(\"max evidence length: \",max(evidence_length))\n",
    "print(\"min evidence length: \",min(evidence_length))\n",
    "print(\"mean evidence length: \",mean(evidence_length))\n",
    "print(Counter(labels))\n",
    "\n",
    "inside = 0\n",
    "outside = 0\n",
    "\n",
    "train_evi_id = []\n",
    "for claim_id,claim_value in train_claims.items():\n",
    "    train_evi_id=train_evi_id+claim_value['evidences']\n",
    "\n",
    "for claim_id,claim_value in dev_claims.items():\n",
    "    test_evi_id=claim_value['evidences']\n",
    "    for e in test_evi_id:\n",
    "        if e in train_evi_id:\n",
    "            inside += 1\n",
    "        else:\n",
    "            outside += 1\n",
    "print(\"Dev evi inside train evi\", inside)\n",
    "print(\"Dev evi outside train evi\", outside)\n",
    "\n",
    "full_evidence_id = list(evidences.keys())\n",
    "full_evidence_text  = list(evidences.values())\n",
    "train_claim_id = list(train_claims.keys())\n",
    "train_claim_text  = [ v[\"claim_text\"] for v in train_claims.values()]\n",
    "print(\"Train claim count: \",len(train_claim_id))"
   ]
  },
  {
   "cell_type": "code",
   "execution_count": 4,
   "metadata": {},
   "outputs": [],
   "source": [
    "lemmatizer = nltk.stem.wordnet.WordNetLemmatizer()\n",
    "stopwords = set(stopwords.words('english'))\n",
    "\n",
    "def lemmatize(word):\n",
    "    lemma = lemmatizer.lemmatize(word, 'v')\n",
    "    return lemma if lemma != word else lemmatizer.lemmatize(word, 'n')\n",
    "\n",
    "def is_pure_english(text):\n",
    "    english_letters = set(string.ascii_letters)\n",
    "    cleaned_text = ''.join(char for char in text if char.isalpha() or char.isspace())\n",
    "    return all(char in english_letters or char.isspace() for char in cleaned_text)\n",
    "\n",
    "def remove_non_eng(dictionary):\n",
    "    eng_data = {}\n",
    "    for key, value in dictionary.items():\n",
    "        if is_pure_english(value):\n",
    "            eng_data[key] = value\n",
    "    return eng_data\n",
    "\n",
    "def contains_climate_keywords(text, keywords):\n",
    "    text = text.lower()\n",
    "    for keyword in keywords:\n",
    "        if re.search(r\"\\b\" + re.escape(keyword) + r\"\\b\", text):\n",
    "            return True\n",
    "    return False\n",
    "\n",
    "def filter_climate_related(dictionary, keywords):\n",
    "    cs_data = {}\n",
    "    for key, value in dictionary.items():\n",
    "        if contains_climate_keywords(value, keywords):\n",
    "            cs_data[key] = value\n",
    "    return cs_data\n",
    "\n",
    "def text_preprocessing(text, remove_stopwords=False):\n",
    "    if isinstance(text, str):\n",
    "        words = [lemmatize(w) for w in text.lower().split()]\n",
    "    elif isinstance(text, list):\n",
    "        words = [lemmatize(w.lower()) for w in text]\n",
    "    else:\n",
    "        raise ValueError(\"Unsupported type for 'text'. Expected str or list.\")\n",
    "    \n",
    "    if remove_stopwords:\n",
    "        words = [w for w in words if w not in stopwords]\n",
    "    \n",
    "    return \" \".join(words)"
   ]
  },
  {
   "cell_type": "code",
   "execution_count": 5,
   "metadata": {},
   "outputs": [],
   "source": [
    "climate_keywords = [\n",
    "    \"climate\", \"environment\", \"global warming\", \"greenhouse effect\", \"carbon\", \"co2\", \"carbon dioxide\",\n",
    "    \"methane\", \"renewable energy\", \"sustainability\", \"ecology\", \"biodiversity\", \"fossil fuels\",\n",
    "    \"emissions\", \"air quality\", \"ozone\", \"solar energy\", \"wind energy\", \"climate change\", \"climate crisis\",\n",
    "    \"climate adaptation\", \"climate mitigation\", \"ocean\", \"sea levels\", \"ice melting\", \"deforestation\",\n",
    "    \"reforestation\", \"pollution\",\" electricity\",\"energy\",\"solar\",\"wind\",\"renewable\",\"fossil\",\"fuel\",\"emission\",\"air\",\"quality\",\"ozone\",\"solar\",\"wind\",\"climate\",\"change\",\"crisis\",\"adaptation\",\"mitigation\",\"ocean\",\"sea\",\"level\",\"ice\",\"melt\",\"deforestation\",\n",
    "]\n",
    "\n",
    "\n",
    "def preprocess_claim_data(claim_data, existed_evidences_id=None):\n",
    "    claim_data = remove_non_eng(claim_data)\n",
    "    claim_data_text = []\n",
    "    claim_data_id = []\n",
    "    claim_data_label = []\n",
    "    claim_evidences = []\n",
    "    \n",
    "    for key in claim_data.keys():\n",
    "        claim_data[key][\"claim_text\"] = word_tokenize(claim_data[key][\"claim_text\"])\n",
    "        claim_data[key][\"claim_text\"] = text_preprocessing(claim_data[key][\"claim_text\"])\n",
    "        \n",
    "        claim_data_text.append(claim_data[key][\"claim_text\"])\n",
    "        claim_data_id.append(key)\n",
    "        \n",
    "        if \"claim_label\" in claim_data[key]:\n",
    "            claim_data_label.append(claim_data[key][\"claim_label\"])\n",
    "        else:\n",
    "            claim_data_label.append(None)\n",
    "        \n",
    "        if existed_evidences_id and \"evidences\" in claim_data[key]:\n",
    "            valid_evidences = [existed_evidences_id[i] for i in claim_data[key][\"evidences\"] if i in existed_evidences_id]\n",
    "            claim_evidences.append(valid_evidences)\n",
    "        else:\n",
    "            claim_evidences.append([])\n",
    "    \n",
    "    return claim_data_text, claim_data_id, claim_data_label, claim_evidences\n",
    "\n",
    "\n",
    "def preprocess_evi_data(evi_data, climate_keywords):\n",
    "    evi_data = remove_non_eng(evi_data)\n",
    "    cs_evi_data = filter_climate_related(evi_data, climate_keywords)\n",
    "    \n",
    "    for key in cs_evi_data.keys():\n",
    "        cs_evi_data[key] = word_tokenize(cs_evi_data[key])\n",
    "        cs_evi_data[key] = text_preprocessing(cs_evi_data[key], remove_stopwords=True)\n",
    "        \n",
    "    cleaned_evidence_text = list(cs_evi_data.values())\n",
    "    cleaned_evidence_id = list(cs_evi_data.keys())\n",
    "    \n",
    "    return cleaned_evidence_text, cleaned_evidence_id"
   ]
  },
  {
   "cell_type": "code",
   "execution_count": 6,
   "metadata": {},
   "outputs": [],
   "source": [
    "cleaned_evidence_text, cleaned_evidence_id = preprocess_evi_data(evidences, climate_keywords)\n",
    "\n",
    "evidences_id_dict = {evidence_id: idx for idx, evidence_id in enumerate(cleaned_evidence_id)}\n",
    "\n",
    "train_claim_text, train_claim_id, train_claim_label, train_claim_evidences = preprocess_claim_data(train_claims, evidences_id_dict)\n",
    "\n",
    "dev_claim_text, dev_claim_id, dev_claim_label, dev_claim_evidences = preprocess_claim_data(dev_claims, evidences_id_dict)\n",
    "\n",
    "test_claim_text, test_claim_id, _, _ = preprocess_claim_data(test_claims)"
   ]
  },
  {
   "cell_type": "markdown",
   "metadata": {},
   "source": [
    "### tfidf retrieval"
   ]
  },
  {
   "cell_type": "code",
   "execution_count": 7,
   "metadata": {},
   "outputs": [],
   "source": [
    "\n",
    "from sklearn.feature_extraction.text import TfidfVectorizer\n",
    "\n",
    "# vectorizer = TfidfVectorizer(max_features=500000)\n",
    "vectorizer = TfidfVectorizer()\n",
    "vectorizer.fit(cleaned_evidence_text)\n",
    "# TODO can svd \n",
    "train_tfidf = vectorizer.transform(train_claim_text)\n",
    "dev_tfidf = vectorizer.transform(dev_claim_text  )\n",
    "test_tfidf = vectorizer.transform(test_claim_text)\n",
    "evidence_tfidf = vectorizer.transform(cleaned_evidence_text)\n"
   ]
  },
  {
   "cell_type": "code",
   "execution_count": 8,
   "metadata": {},
   "outputs": [
    {
     "name": "stdout",
     "output_type": "stream",
     "text": [
      "(1228, 54272)\n"
     ]
    }
   ],
   "source": [
    "train_cos_sims = cosine_similarity(train_tfidf, evidence_tfidf)\n",
    "dev_cos_sims = cosine_similarity(dev_tfidf, evidence_tfidf)\n",
    "test_cos_sims = cosine_similarity(test_tfidf, evidence_tfidf)\n",
    "print(train_cos_sims.shape)"
   ]
  },
  {
   "cell_type": "code",
   "execution_count": 9,
   "metadata": {
    "scrolled": true
   },
   "outputs": [
    {
     "name": "stdout",
     "output_type": "stream",
     "text": [
      "0.14695982627578721\n",
      "0.15670995670995672\n"
     ]
    }
   ],
   "source": [
    "def test_retrieval_topk(k, cur_scores, cur_labels):\n",
    "    ACC = []\n",
    "    top_ids = torch.topk(torch.FloatTensor(cur_scores), k, -1).indices.tolist()\n",
    "    for i in range(len(cur_labels)):\n",
    "        all_count = 0\n",
    "        recall_count = 0\n",
    "        for cur_ in cur_labels[i]:\n",
    "            if cur_ in top_ids[i]:\n",
    "                recall_count += 1\n",
    "            all_count += 1\n",
    "        if all_count == 0:\n",
    "            all_count = 1e-9  # to avoid division by zero\n",
    "        ACC.append(recall_count / all_count)\n",
    "    print(sum(ACC) / len(ACC))\n",
    "\n",
    "topK = 10\n",
    "test_retrieval_topk(topK, train_cos_sims, train_claim_evidences)\n",
    "test_retrieval_topk(topK, dev_cos_sims, dev_claim_evidences)"
   ]
  },
  {
   "cell_type": "code",
   "execution_count": 10,
   "metadata": {},
   "outputs": [],
   "source": [
    "# need to change this code\n",
    "def sort_evidence_candidates(cos_sims):\n",
    "    # dev_candis = np.argpartition(-cos_sims, candi_num, 1)[:candi_num]\n",
    "    candis = []\n",
    "    for i in range(cos_sims.shape[0]):\n",
    "        cur_top_ids = np.argsort(-cos_sims[i]).tolist()[:10000]\n",
    "        candis.append(cur_top_ids)\n",
    "    return candis"
   ]
  },
  {
   "cell_type": "code",
   "execution_count": 11,
   "metadata": {},
   "outputs": [],
   "source": [
    "dev_sort_evidences = sort_evidence_candidates(dev_cos_sims)\n",
    "test_sort_evidences = sort_evidence_candidates(test_cos_sims)\n",
    "train_sort_evidences = sort_evidence_candidates(train_cos_sims)"
   ]
  },
  {
   "cell_type": "markdown",
   "metadata": {},
   "source": [
    "### construct vocab and indexing"
   ]
  },
  {
   "cell_type": "code",
   "execution_count": 12,
   "metadata": {},
   "outputs": [],
   "source": [
    "# construct word2idx and idx2word for taining data\n",
    "# if we use the unprocessed text else use ***_p_texts\n",
    "\n",
    "min_count = 10\n",
    "wordcount = {}\n",
    "idx2word = [\"<pad>\", \"<cls>\", \"<sep>\", \"<unk>\"]\n",
    "word2idx = {\"<pad>\": 0, \"<cls>\": 1, \"<sep>\": 2, \"<unk>\": 3}\n",
    "for texts in train_claim_text + cleaned_evidence_text:\n",
    "    for word in texts.split():\n",
    "        wordcount[word] = wordcount.get(word, 0) + 1\n",
    "idx = 4\n",
    "for i, j in wordcount.items():\n",
    "    if j > min_count:\n",
    "        idx2word.append(i)\n",
    "        word2idx[i] = idx\n",
    "        idx += 1"
   ]
  },
  {
   "cell_type": "code",
   "execution_count": 13,
   "metadata": {},
   "outputs": [],
   "source": [
    "def convert2idx(text_data, word2idx_, idx2word_):\n",
    "    idx_data = []\n",
    "    for texts in text_data:\n",
    "        temp_idx = []\n",
    "        for word in texts.split():\n",
    "            temp_idx.append(word2idx_.get(word, word2idx_[\"<unk>\"]))\n",
    "        idx_data.append(temp_idx)\n",
    "    return idx_data"
   ]
  },
  {
   "cell_type": "code",
   "execution_count": 14,
   "metadata": {},
   "outputs": [],
   "source": [
    "train_text_idx = convert2idx(train_claim_text, word2idx, idx2word)\n",
    "dev_text_idx = convert2idx(dev_claim_text, word2idx, idx2word)\n",
    "test_text_idx = convert2idx(test_claim_text, word2idx, idx2word)\n",
    "evidences_text_idx = convert2idx(cleaned_evidence_text, word2idx, idx2word)"
   ]
  },
  {
   "cell_type": "code",
   "execution_count": 15,
   "metadata": {},
   "outputs": [
    {
     "name": "stdout",
     "output_type": "stream",
     "text": [
      "76 73 60 231\n"
     ]
    }
   ],
   "source": [
    "print(max([len(i) for i in train_text_idx]), max([len(i) for i in dev_text_idx]), max([len(i) for i in test_text_idx]), max([len(i) for i in evidences_text_idx]))"
   ]
  },
  {
   "cell_type": "code",
   "execution_count": 16,
   "metadata": {},
   "outputs": [],
   "source": [
    "text_pad_len = 60\n",
    "evidences_pad_len = 100"
   ]
  },
  {
   "cell_type": "code",
   "execution_count": 17,
   "metadata": {},
   "outputs": [],
   "source": [
    "def construct_input_text(text_idx, padding_len, word2idx_):\n",
    "    idx_data = []\n",
    "    for texts in text_idx:\n",
    "        if len(texts) < padding_len:\n",
    "            idx_data.append([word2idx_[\"<cls>\"]] + texts + [word2idx_[\"<sep>\"]] + [word2idx_[\"<pad>\"]] * (padding_len - len(texts)))\n",
    "        else:\n",
    "            idx_data.append([word2idx_[\"<cls>\"]] + texts[:padding_len] + [word2idx_[\"<sep>\"]])\n",
    "    return idx_data\n",
    "    "
   ]
  },
  {
   "cell_type": "code",
   "execution_count": 18,
   "metadata": {},
   "outputs": [],
   "source": [
    "train_input = construct_input_text(train_text_idx, text_pad_len, word2idx)\n",
    "dev_input = construct_input_text(dev_text_idx, text_pad_len, word2idx)\n",
    "test_input = construct_input_text(test_text_idx, text_pad_len, word2idx)\n",
    "evidences_input = construct_input_text(evidences_text_idx, evidences_pad_len, word2idx)"
   ]
  },
  {
   "cell_type": "code",
   "execution_count": 19,
   "metadata": {},
   "outputs": [
    {
     "name": "stdout",
     "output_type": "stream",
     "text": [
      "62 102\n"
     ]
    }
   ],
   "source": [
    "print(len(train_input[0]), len(evidences_input[0]))"
   ]
  },
  {
   "cell_type": "code",
   "execution_count": 20,
   "metadata": {
    "scrolled": true
   },
   "outputs": [
    {
     "name": "stdout",
     "output_type": "stream",
     "text": [
      "7075\n"
     ]
    }
   ],
   "source": [
    "vocab_size = len(idx2word)\n",
    "print(vocab_size)"
   ]
  },
  {
   "cell_type": "code",
   "execution_count": 21,
   "metadata": {},
   "outputs": [],
   "source": [
    "from torch.utils.data import Dataset\n",
    "import random\n",
    "\n",
    "class TrainDataset(Dataset):\n",
    "    def __init__(self, text_input_data, evidence_input_data, tfidf_sort_evidences, evidence_label, negative_num=10):\n",
    "        self.text_input_data = text_input_data\n",
    "        self.evidence_input_data = evidence_input_data\n",
    "        self.tfidf_sort_evidences = tfidf_sort_evidences\n",
    "        self.evidence_label = evidence_label\n",
    "        self.negative_num = 10\n",
    "        self.evidence_len = len(evidence_input_data[0])\n",
    "        self.text_len = len(text_input_data[0])\n",
    "        \n",
    "    def __len__(self):\n",
    "        return len(self.text_input_data)\n",
    "\n",
    "    def __getitem__(self, idx):\n",
    "        # please note the negative evidences\n",
    "        return [self.text_input_data[idx], random.sample(self.tfidf_sort_evidences[idx][10: self.negative_num*10], self.negative_num), self.evidence_label[idx]]\n",
    "\n",
    "    def collate_fn(self, batch):\n",
    "        queries = []\n",
    "        queries_pos = []\n",
    "        evidences = []\n",
    "        temp_labels = []\n",
    "        \n",
    "        for i, j, k in batch:\n",
    "            queries.append(i)\n",
    "            queries_pos.append(list(range(self.text_len)))\n",
    "            temp_labels.append(k)    \n",
    "            evidences.extend(k + j)\n",
    "\n",
    "        evidences = list(set(evidences))\n",
    "        \n",
    "        evidences2idx = {}\n",
    "        for i, j in enumerate(evidences):\n",
    "            evidences2idx[j] = i\n",
    "        \n",
    "        labels = []\n",
    "        for i in temp_labels:\n",
    "            labels.append([evidences2idx[j] for j in i])\n",
    "            \n",
    "        evidences = [self.evidence_input_data[i] for i in evidences]\n",
    "        evidences_pos = [list(range(self.evidence_len)) for _ in range(len(evidences))]\n",
    "\n",
    "        batch_encoding = {}\n",
    "        batch_encoding[\"queries\"] = torch.LongTensor(queries)\n",
    "        batch_encoding[\"evidences\"] = torch.LongTensor(evidences)\n",
    "        \n",
    "        batch_encoding[\"queries_pos\"] = torch.LongTensor(queries_pos)\n",
    "        batch_encoding[\"evidences_pos\"] = torch.LongTensor(evidences_pos)\n",
    "        batch_encoding[\"labels\"] = labels\n",
    "        \n",
    "        return batch_encoding"
   ]
  },
  {
   "cell_type": "code",
   "execution_count": 22,
   "metadata": {},
   "outputs": [],
   "source": [
    "train_set = TrainDataset(train_input, evidences_input, train_sort_evidences, train_claim_evidences, negative_num=1000)\n",
    "from torch.utils.data import DataLoader\n",
    "\n",
    "dataloader = DataLoader(train_set, batch_size=5, shuffle=True, num_workers=0, collate_fn=train_set.collate_fn)"
   ]
  },
  {
   "cell_type": "markdown",
   "metadata": {
    "id": "1FA2ao2l8hOg"
   },
   "source": [
    "# 2. Model Implementation\n",
    "(You can add as many code blocks and text blocks as you need. However, YOU SHOULD NOT MODIFY the section title)"
   ]
  },
  {
   "cell_type": "code",
   "execution_count": 23,
   "metadata": {},
   "outputs": [],
   "source": [
    "# from workshop\n",
    "import torch\n",
    "import torch.nn as nn\n",
    "import torch.optim as optim\n",
    "import torch.nn.functional as F\n",
    "\n",
    "class Encoder(nn.Module):\n",
    "    def __init__(self, vocab_emb, embed_dim, hidden_size, nhead, num_layers, max_position=180):\n",
    "        super(Encoder, self).__init__()\n",
    "\n",
    "        self.hidden_size = hidden_size\n",
    "        self.embedding = nn.Embedding(vocab_emb, embed_dim)\n",
    "        self.pos_embedding = nn.Embedding(max_position, embed_dim)  # https://pytorch.org/tutorials/beginner/translation_transformer.html other method\n",
    "        \n",
    "        #encoder_layer = nn.TransformerEncoderLayer(d_model=hidden_size, nhead=nhead, batch_first=True)\n",
    "        #self.encoder = nn.TransformerEncoder(encoder_layer, num_layers=num_layers, norm=nn.LayerNorm(hidden_size))\n",
    "        self.encoder = nn.LSTM(embed_dim, hidden_size, num_layers=2,batch_first=True)\n",
    "\n",
    "    def forward(self, text_data, position_text):\n",
    "        mask_ = text_data == 0\n",
    "        text_x = self.embedding(text_data) + self.pos_embedding(position_text)\n",
    "        #x_encoded = self.encoder(text_x, src_key_padding_mask=mask_)  # https://zhuanlan.zhihu.com/p/353365423\n",
    "        x_encoded,_ = self.encoder(text_x)\n",
    "        return x_encoded"
   ]
  },
  {
   "cell_type": "code",
   "execution_count": 24,
   "metadata": {
    "scrolled": true
   },
   "outputs": [
    {
     "data": {
      "text/plain": [
       "Encoder(\n",
       "  (embedding): Embedding(7075, 512)\n",
       "  (pos_embedding): Embedding(180, 512)\n",
       "  (encoder): LSTM(512, 512, num_layers=2, batch_first=True)\n",
       ")"
      ]
     },
     "execution_count": 24,
     "metadata": {},
     "output_type": "execute_result"
    }
   ],
   "source": [
    "trans_encoder = Encoder(vocab_emb=vocab_size, embed_dim=512, hidden_size=512, nhead=8, num_layers=6, max_position=180)\n",
    "trans_encoder.cuda()"
   ]
  },
  {
   "cell_type": "markdown",
   "metadata": {},
   "source": [
    "### Training"
   ]
  },
  {
   "cell_type": "code",
   "execution_count": 25,
   "metadata": {
    "scrolled": true
   },
   "outputs": [],
   "source": [
    "torch.manual_seed(42)\n",
    "torch.cuda.manual_seed_all(42)\n",
    "random.seed(42)\n",
    "\n",
    "encoder_optimizer = optim.Adam(trans_encoder.parameters())\n",
    "max_lr = 1e-2\n",
    "for param_group in encoder_optimizer.param_groups:\n",
    "    param_group['lr'] = max_lr\n",
    "\n",
    "accumulate_step = 2\n",
    "grad_norm = 0.1\n",
    "warmup_steps = 200\n",
    "report_freq = 10\n",
    "eval_interval = 50\n",
    "save_dir = \"model_ckpts\""
   ]
  },
  {
   "cell_type": "code",
   "execution_count": 26,
   "metadata": {},
   "outputs": [],
   "source": [
    "retrieval_num = 5\n",
    "dev_candis_num = 10\n",
    "\n",
    "def validate(dev_text_idx, evidence_text_idx, dev_sort_evidences, dev_claim_evidences, encoder_model):\n",
    "    # get evidence embeddings\n",
    "    start_idx = 0\n",
    "    batch_size = 1000\n",
    "    evidence_len = len(evidence_text_idx[0])\n",
    "    text_len = len(dev_text_idx[0])\n",
    "    \n",
    "    evidence_embeddings = []\n",
    "    encoder_model.eval()\n",
    "    \n",
    "    while start_idx < len(evidence_text_idx):\n",
    "        end_idx = min(start_idx + batch_size, len(evidence_text_idx))\n",
    "        \n",
    "        cur_evidence = torch.LongTensor(evidence_text_idx[start_idx:end_idx]).view(-1, evidence_len).cuda()\n",
    "        cur_evidence_pos = torch.LongTensor([list(range(evidence_len)) for _ in range(end_idx - start_idx)]).cuda()\n",
    "        print()\n",
    "        cur_embedding = encoder_model(cur_evidence, cur_evidence_pos)\n",
    "        cur_embedding = cur_embedding[:, 0, :].detach()\n",
    "        cur_embedding_cpu = F.normalize(cur_embedding, p=2, dim=1).cpu()\n",
    "        del cur_embedding, cur_evidence, cur_evidence_pos\n",
    "        start_idx = end_idx\n",
    "        evidence_embeddings.append(cur_embedding_cpu)\n",
    "        \n",
    "    evidence_embeddings = torch.cat(evidence_embeddings, dim=0).t()\n",
    "    print(\"get all evidence embeddings!\")\n",
    "    f = []\n",
    "    \n",
    "    start_idx = 0\n",
    "    batch_size = 1000\n",
    "    \n",
    "    while start_idx < len(dev_text_idx):\n",
    "        end_idx = min(start_idx + batch_size, len(dev_text_idx))\n",
    "        \n",
    "        cur_query = torch.LongTensor(dev_text_idx[start_idx:end_idx]).view(-1, text_len).cuda()\n",
    "        cur_query_pos = torch.LongTensor([list(range(text_len)) for _ in range(end_idx - start_idx)]).cuda()\n",
    "\n",
    "        query_embedding = encoder_model(cur_query, cur_query_pos)\n",
    "        query_embedding = query_embedding[:, 0, :].detach()\n",
    "        query_embedding = F.normalize(query_embedding, p=2, dim=1).cpu()\n",
    "        \n",
    "        scores = torch.mm(query_embedding, evidence_embeddings)\n",
    "\n",
    "        for i in range(scores.size(0)):\n",
    "            new_score = torch.index_select(scores[i], 0, torch.LongTensor(dev_sort_evidences[start_idx+i][:dev_candis_num]))\n",
    "            topk_ids = torch.argsort(new_score).tolist()\n",
    "            select_ids = topk_ids[:retrieval_num]\n",
    "            \n",
    "            evidence_correct = 0\n",
    "            pred_evidences = [dev_sort_evidences[start_idx+i][j] for j in select_ids]\n",
    "            label = dev_claim_evidences[start_idx+i]\n",
    "            for evidence_id in label:\n",
    "                if evidence_id in pred_evidences:\n",
    "                    evidence_correct += 1\n",
    "            if evidence_correct > 0:\n",
    "                evidence_recall = float(evidence_correct) / len(label)\n",
    "                evidence_precision = float(evidence_correct) / len(pred_evidences)\n",
    "                evidence_fscore = (2 * evidence_precision * evidence_recall) / (evidence_precision + evidence_recall)\n",
    "                print(evidence_fscore)\n",
    "            else:\n",
    "                evidence_fscore = 0\n",
    "            f.append(evidence_fscore)\n",
    "            \n",
    "        start_idx = end_idx\n",
    "        # print(\"----\")\n",
    "    fscore = np.mean(f)\n",
    "    print(\"\\n\")\n",
    "    print(\"Evidence Retrieval F-score: %.3f\" % fscore)\n",
    "    print(\"\\n\")\n",
    "    encoder_model.train()\n",
    "    return fscore"
   ]
  },
  {
   "cell_type": "code",
   "execution_count": 27,
   "metadata": {},
   "outputs": [
    {
     "name": "stdout",
     "output_type": "stream",
     "text": [
      "env: WANDB_NOTEBOOK_NAME=MelMoxue_NLP_retrieval.ipynb\n"
     ]
    }
   ],
   "source": [
    "%env WANDB_NOTEBOOK_NAME MelMoxue_NLP_retrieval.ipynb"
   ]
  },
  {
   "cell_type": "code",
   "execution_count": 28,
   "metadata": {},
   "outputs": [],
   "source": [
    "# import wandb\n",
    "# import sys\n",
    "# print(sys.path)\n",
    "# print(wandb.__path__)"
   ]
  },
  {
   "cell_type": "code",
   "execution_count": 29,
   "metadata": {
    "scrolled": true
   },
   "outputs": [
    {
     "name": "stderr",
     "output_type": "stream",
     "text": [
      "\u001b[34m\u001b[1mwandb\u001b[0m: \u001b[33mWARNING\u001b[0m WANDB_NOTEBOOK_NAME should be a path to a notebook file, couldn't find MelMoxue_NLP_retrieval.ipynb.\n",
      "\u001b[34m\u001b[1mwandb\u001b[0m: Currently logged in as: \u001b[33mcyl101397\u001b[0m (\u001b[33mnlp_project_5pmteam7\u001b[0m). Use \u001b[1m`wandb login --relogin`\u001b[0m to force relogin\n"
     ]
    },
    {
     "data": {
      "text/html": [
       "Tracking run with wandb version 0.17.0"
      ],
      "text/plain": [
       "<IPython.core.display.HTML object>"
      ]
     },
     "metadata": {},
     "output_type": "display_data"
    },
    {
     "data": {
      "text/html": [
       "Run data is saved locally in <code>c:\\Users\\ABC\\Desktop\\学习\\NLP\\project nlp\\COMP90042-NLP-Project-Team07\\wandb\\run-20240523_202103-jwsj90e0</code>"
      ],
      "text/plain": [
       "<IPython.core.display.HTML object>"
      ]
     },
     "metadata": {},
     "output_type": "display_data"
    },
    {
     "data": {
      "text/html": [
       "Syncing run <strong><a href='https://wandb.ai/nlp_project_5pmteam7/nlp/runs/jwsj90e0' target=\"_blank\">dpr</a></strong> to <a href='https://wandb.ai/nlp_project_5pmteam7/nlp' target=\"_blank\">Weights & Biases</a> (<a href='https://wandb.me/run' target=\"_blank\">docs</a>)<br/>"
      ],
      "text/plain": [
       "<IPython.core.display.HTML object>"
      ]
     },
     "metadata": {},
     "output_type": "display_data"
    },
    {
     "data": {
      "text/html": [
       " View project at <a href='https://wandb.ai/nlp_project_5pmteam7/nlp' target=\"_blank\">https://wandb.ai/nlp_project_5pmteam7/nlp</a>"
      ],
      "text/plain": [
       "<IPython.core.display.HTML object>"
      ]
     },
     "metadata": {},
     "output_type": "display_data"
    },
    {
     "data": {
      "text/html": [
       " View run at <a href='https://wandb.ai/nlp_project_5pmteam7/nlp/runs/jwsj90e0' target=\"_blank\">https://wandb.ai/nlp_project_5pmteam7/nlp/runs/jwsj90e0</a>"
      ],
      "text/plain": [
       "<IPython.core.display.HTML object>"
      ]
     },
     "metadata": {},
     "output_type": "display_data"
    },
    {
     "name": "stderr",
     "output_type": "stream",
     "text": [
      " 12%|█▏        | 30/246 [00:00<00:04, 53.68it/s]"
     ]
    },
    {
     "name": "stdout",
     "output_type": "stream",
     "text": [
      "\n",
      "\n",
      "epoch: 1, epoch_step: 10, avg loss: nan\n",
      "learning rate: 0.000500\n",
      "\n",
      "\n"
     ]
    },
    {
     "name": "stderr",
     "output_type": "stream",
     "text": [
      " 20%|██        | 50/246 [00:00<00:03, 58.27it/s]"
     ]
    },
    {
     "name": "stdout",
     "output_type": "stream",
     "text": [
      "\n",
      "\n",
      "epoch: 1, epoch_step: 20, avg loss: nan\n",
      "learning rate: 0.001000\n",
      "\n",
      "\n"
     ]
    },
    {
     "name": "stderr",
     "output_type": "stream",
     "text": [
      " 28%|██▊       | 70/246 [00:01<00:02, 59.44it/s]"
     ]
    },
    {
     "name": "stdout",
     "output_type": "stream",
     "text": [
      "\n",
      "\n",
      "epoch: 1, epoch_step: 30, avg loss: nan\n",
      "learning rate: 0.001500\n",
      "\n",
      "\n"
     ]
    },
    {
     "name": "stderr",
     "output_type": "stream",
     "text": [
      " 36%|███▌      | 89/246 [00:01<00:02, 59.73it/s]"
     ]
    },
    {
     "name": "stdout",
     "output_type": "stream",
     "text": [
      "\n",
      "\n",
      "epoch: 1, epoch_step: 40, avg loss: nan\n",
      "learning rate: 0.002000\n",
      "\n",
      "\n"
     ]
    },
    {
     "name": "stderr",
     "output_type": "stream",
     "text": [
      " 39%|███▊      | 95/246 [00:01<00:02, 59.36it/s]"
     ]
    },
    {
     "name": "stdout",
     "output_type": "stream",
     "text": [
      "\n",
      "\n",
      "epoch: 1, epoch_step: 50, avg loss: nan\n",
      "learning rate: 0.002500\n",
      "\n",
      "\n",
      "\n",
      "Evaluate:\n",
      "\n",
      "\n",
      "\n",
      "\n",
      "\n",
      "\n",
      "\n",
      "\n",
      "\n",
      "\n",
      "\n",
      "\n",
      "\n",
      "\n",
      "\n",
      "\n",
      "\n",
      "\n",
      "\n",
      "\n",
      "\n",
      "\n",
      "\n",
      "\n",
      "\n",
      "\n",
      "\n",
      "\n",
      "\n",
      "\n",
      "\n",
      "\n",
      "\n",
      "\n",
      "\n",
      "\n",
      "\n",
      "\n",
      "\n",
      "\n",
      "\n",
      "\n",
      "\n",
      "\n",
      "\n",
      "\n",
      "\n",
      "\n",
      "\n",
      "\n",
      "\n",
      "\n",
      "\n",
      "\n"
     ]
    },
    {
     "name": "stderr",
     "output_type": "stream",
     "text": [
      " 41%|████      | 101/246 [00:04<00:17,  8.18it/s]"
     ]
    },
    {
     "name": "stdout",
     "output_type": "stream",
     "text": [
      "\n",
      "\n",
      "get all evidence embeddings!\n",
      "0.22222222222222224\n",
      "0.28571428571428575\n",
      "0.33333333333333337\n",
      "0.22222222222222224\n",
      "0.33333333333333337\n",
      "0.28571428571428575\n",
      "0.28571428571428575\n",
      "0.20000000000000004\n",
      "0.5714285714285715\n",
      "0.33333333333333337\n",
      "0.33333333333333337\n",
      "0.33333333333333337\n",
      "0.33333333333333337\n",
      "0.20000000000000004\n",
      "0.33333333333333337\n",
      "0.33333333333333337\n",
      "0.28571428571428575\n",
      "0.33333333333333337\n",
      "0.33333333333333337\n",
      "0.25\n",
      "0.20000000000000004\n",
      "0.33333333333333337\n",
      "0.28571428571428575\n",
      "0.4000000000000001\n",
      "0.28571428571428575\n",
      "0.28571428571428575\n",
      "\n",
      "\n",
      "Evidence Retrieval F-score: 0.052\n",
      "\n",
      "\n",
      "\n",
      "\n",
      "best val loss - epoch: 0, epoch_step: 50\n",
      "maximum_f_score 0.05150999793856938\n",
      "\n",
      "\n"
     ]
    },
    {
     "name": "stderr",
     "output_type": "stream",
     "text": [
      " 51%|█████     | 126/246 [00:04<00:05, 23.59it/s]"
     ]
    },
    {
     "name": "stdout",
     "output_type": "stream",
     "text": [
      "\n",
      "\n",
      "epoch: 1, epoch_step: 60, avg loss: nan\n",
      "learning rate: 0.003000\n",
      "\n",
      "\n"
     ]
    },
    {
     "name": "stderr",
     "output_type": "stream",
     "text": [
      " 59%|█████▉    | 146/246 [00:04<00:02, 40.14it/s]"
     ]
    },
    {
     "name": "stdout",
     "output_type": "stream",
     "text": [
      "\n",
      "\n",
      "epoch: 1, epoch_step: 70, avg loss: nan\n",
      "learning rate: 0.003500\n",
      "\n",
      "\n"
     ]
    },
    {
     "name": "stderr",
     "output_type": "stream",
     "text": [
      " 67%|██████▋   | 166/246 [00:05<00:01, 51.38it/s]"
     ]
    },
    {
     "name": "stdout",
     "output_type": "stream",
     "text": [
      "\n",
      "\n",
      "epoch: 1, epoch_step: 80, avg loss: nan\n",
      "learning rate: 0.004000\n",
      "\n",
      "\n"
     ]
    },
    {
     "name": "stderr",
     "output_type": "stream",
     "text": [
      " 76%|███████▌  | 187/246 [00:05<00:01, 57.25it/s]"
     ]
    },
    {
     "name": "stdout",
     "output_type": "stream",
     "text": [
      "\n",
      "\n",
      "epoch: 1, epoch_step: 90, avg loss: nan\n",
      "learning rate: 0.004500\n",
      "\n",
      "\n"
     ]
    },
    {
     "name": "stderr",
     "output_type": "stream",
     "text": [
      " 79%|███████▉  | 194/246 [00:05<00:00, 58.22it/s]"
     ]
    },
    {
     "name": "stdout",
     "output_type": "stream",
     "text": [
      "\n",
      "\n",
      "epoch: 1, epoch_step: 100, avg loss: nan\n",
      "learning rate: 0.005000\n",
      "\n",
      "\n",
      "\n",
      "Evaluate:\n",
      "\n",
      "\n",
      "\n",
      "\n",
      "\n",
      "\n",
      "\n",
      "\n",
      "\n",
      "\n",
      "\n",
      "\n",
      "\n",
      "\n",
      "\n",
      "\n",
      "\n",
      "\n",
      "\n",
      "\n",
      "\n",
      "\n",
      "\n",
      "\n",
      "\n",
      "\n",
      "\n",
      "\n",
      "\n",
      "\n",
      "\n",
      "\n",
      "\n",
      "\n",
      "\n",
      "\n",
      "\n",
      "\n",
      "\n",
      "\n",
      "\n",
      "\n",
      "\n",
      "\n",
      "\n",
      "\n",
      "\n",
      "\n",
      "\n",
      "\n",
      "\n",
      "\n",
      "\n",
      "\n"
     ]
    },
    {
     "name": "stderr",
     "output_type": "stream",
     "text": [
      " 82%|████████▏ | 201/246 [00:07<00:04,  9.27it/s]"
     ]
    },
    {
     "name": "stdout",
     "output_type": "stream",
     "text": [
      "\n",
      "\n",
      "get all evidence embeddings!\n",
      "0.22222222222222224\n",
      "0.28571428571428575\n",
      "0.33333333333333337\n",
      "0.22222222222222224\n",
      "0.33333333333333337\n",
      "0.28571428571428575\n",
      "0.28571428571428575\n",
      "0.20000000000000004\n",
      "0.5714285714285715\n",
      "0.33333333333333337\n",
      "0.33333333333333337\n",
      "0.33333333333333337\n",
      "0.33333333333333337\n",
      "0.20000000000000004\n",
      "0.33333333333333337\n",
      "0.33333333333333337\n",
      "0.28571428571428575\n",
      "0.33333333333333337\n",
      "0.33333333333333337\n",
      "0.25\n",
      "0.20000000000000004\n",
      "0.33333333333333337\n",
      "0.28571428571428575\n",
      "0.4000000000000001\n",
      "0.28571428571428575\n",
      "0.28571428571428575\n",
      "\n",
      "\n",
      "Evidence Retrieval F-score: 0.052\n",
      "\n",
      "\n"
     ]
    },
    {
     "name": "stderr",
     "output_type": "stream",
     "text": [
      " 93%|█████████▎| 228/246 [00:08<00:00, 25.66it/s]"
     ]
    },
    {
     "name": "stdout",
     "output_type": "stream",
     "text": [
      "\n",
      "\n",
      "epoch: 1, epoch_step: 110, avg loss: nan\n",
      "learning rate: 0.005500\n",
      "\n",
      "\n"
     ]
    },
    {
     "name": "stderr",
     "output_type": "stream",
     "text": [
      "100%|██████████| 246/246 [00:08<00:00, 28.87it/s]\n"
     ]
    },
    {
     "name": "stdout",
     "output_type": "stream",
     "text": [
      "\n",
      "\n",
      "epoch: 1, epoch_step: 120, avg loss: nan\n",
      "learning rate: 0.006000\n",
      "\n",
      "\n"
     ]
    },
    {
     "name": "stderr",
     "output_type": "stream",
     "text": [
      "  9%|▊         | 21/246 [00:00<00:03, 62.01it/s]"
     ]
    },
    {
     "name": "stdout",
     "output_type": "stream",
     "text": [
      "\n",
      "\n",
      "epoch: 2, epoch_step: 7, avg loss: nan\n",
      "learning rate: 0.006500\n",
      "\n",
      "\n"
     ]
    },
    {
     "name": "stderr",
     "output_type": "stream",
     "text": [
      " 17%|█▋        | 42/246 [00:00<00:03, 61.53it/s]"
     ]
    },
    {
     "name": "stdout",
     "output_type": "stream",
     "text": [
      "\n",
      "\n",
      "epoch: 2, epoch_step: 17, avg loss: nan\n",
      "learning rate: 0.007000\n",
      "\n",
      "\n"
     ]
    },
    {
     "name": "stderr",
     "output_type": "stream",
     "text": [
      " 20%|█▉        | 49/246 [00:00<00:03, 61.38it/s]"
     ]
    },
    {
     "name": "stdout",
     "output_type": "stream",
     "text": [
      "\n",
      "\n",
      "epoch: 2, epoch_step: 27, avg loss: nan\n",
      "learning rate: 0.007500\n",
      "\n",
      "\n",
      "\n",
      "Evaluate:\n",
      "\n",
      "\n",
      "\n",
      "\n",
      "\n",
      "\n",
      "\n",
      "\n",
      "\n",
      "\n",
      "\n",
      "\n",
      "\n",
      "\n",
      "\n",
      "\n",
      "\n",
      "\n",
      "\n",
      "\n",
      "\n",
      "\n",
      "\n",
      "\n",
      "\n",
      "\n",
      "\n",
      "\n",
      "\n",
      "\n",
      "\n",
      "\n",
      "\n",
      "\n",
      "\n",
      "\n",
      "\n",
      "\n",
      "\n",
      "\n",
      "\n",
      "\n",
      "\n",
      "\n",
      "\n",
      "\n",
      "\n",
      "\n",
      "\n",
      "\n",
      "\n",
      "\n",
      "\n",
      "\n",
      "\n"
     ]
    },
    {
     "name": "stderr",
     "output_type": "stream",
     "text": [
      " 23%|██▎       | 56/246 [00:02<00:21,  8.99it/s]"
     ]
    },
    {
     "name": "stdout",
     "output_type": "stream",
     "text": [
      "\n",
      "get all evidence embeddings!\n",
      "0.22222222222222224\n",
      "0.28571428571428575\n",
      "0.33333333333333337\n",
      "0.22222222222222224\n",
      "0.33333333333333337\n",
      "0.28571428571428575\n",
      "0.28571428571428575\n",
      "0.20000000000000004\n",
      "0.5714285714285715\n",
      "0.33333333333333337\n",
      "0.33333333333333337\n",
      "0.33333333333333337\n",
      "0.33333333333333337\n",
      "0.20000000000000004\n",
      "0.33333333333333337\n",
      "0.33333333333333337\n",
      "0.28571428571428575\n",
      "0.33333333333333337\n",
      "0.33333333333333337\n",
      "0.25\n",
      "0.20000000000000004\n",
      "0.33333333333333337\n",
      "0.28571428571428575\n",
      "0.4000000000000001\n",
      "0.28571428571428575\n",
      "0.28571428571428575\n",
      "\n",
      "\n",
      "Evidence Retrieval F-score: 0.052\n",
      "\n",
      "\n"
     ]
    },
    {
     "name": "stderr",
     "output_type": "stream",
     "text": [
      " 34%|███▎      | 83/246 [00:03<00:06, 25.73it/s]"
     ]
    },
    {
     "name": "stdout",
     "output_type": "stream",
     "text": [
      "\n",
      "\n",
      "epoch: 2, epoch_step: 37, avg loss: nan\n",
      "learning rate: 0.008000\n",
      "\n",
      "\n"
     ]
    },
    {
     "name": "stderr",
     "output_type": "stream",
     "text": [
      " 42%|████▏     | 103/246 [00:03<00:03, 41.63it/s]"
     ]
    },
    {
     "name": "stdout",
     "output_type": "stream",
     "text": [
      "\n",
      "\n",
      "epoch: 2, epoch_step: 47, avg loss: nan\n",
      "learning rate: 0.008500\n",
      "\n",
      "\n"
     ]
    },
    {
     "name": "stderr",
     "output_type": "stream",
     "text": [
      " 50%|█████     | 124/246 [00:04<00:02, 52.42it/s]"
     ]
    },
    {
     "name": "stdout",
     "output_type": "stream",
     "text": [
      "\n",
      "\n",
      "epoch: 2, epoch_step: 57, avg loss: nan\n",
      "learning rate: 0.009000\n",
      "\n",
      "\n"
     ]
    },
    {
     "name": "stderr",
     "output_type": "stream",
     "text": [
      " 56%|█████▌    | 138/246 [00:04<00:01, 56.44it/s]"
     ]
    },
    {
     "name": "stdout",
     "output_type": "stream",
     "text": [
      "\n",
      "\n",
      "epoch: 2, epoch_step: 67, avg loss: nan\n",
      "learning rate: 0.009500\n",
      "\n",
      "\n"
     ]
    },
    {
     "name": "stderr",
     "output_type": "stream",
     "text": [
      " 62%|██████▏   | 152/246 [00:04<00:01, 58.97it/s]"
     ]
    },
    {
     "name": "stdout",
     "output_type": "stream",
     "text": [
      "\n",
      "\n",
      "epoch: 2, epoch_step: 77, avg loss: nan\n",
      "learning rate: 0.010000\n",
      "\n",
      "\n",
      "\n",
      "Evaluate:\n",
      "\n",
      "\n",
      "\n",
      "\n",
      "\n",
      "\n",
      "\n",
      "\n",
      "\n",
      "\n",
      "\n",
      "\n",
      "\n",
      "\n",
      "\n",
      "\n",
      "\n",
      "\n",
      "\n",
      "\n",
      "\n",
      "\n",
      "\n",
      "\n",
      "\n",
      "\n",
      "\n",
      "\n",
      "\n",
      "\n",
      "\n",
      "\n",
      "\n",
      "\n",
      "\n",
      "\n",
      "\n",
      "\n",
      "\n",
      "\n",
      "\n",
      "\n",
      "\n",
      "\n",
      "\n",
      "\n",
      "\n",
      "\n",
      "\n",
      "\n",
      "\n",
      "\n",
      "\n",
      "\n"
     ]
    },
    {
     "name": "stderr",
     "output_type": "stream",
     "text": [
      " 65%|██████▍   | 159/246 [00:06<00:09,  9.38it/s]"
     ]
    },
    {
     "name": "stdout",
     "output_type": "stream",
     "text": [
      "\n",
      "\n",
      "get all evidence embeddings!\n",
      "0.22222222222222224\n",
      "0.28571428571428575\n",
      "0.33333333333333337\n",
      "0.22222222222222224\n",
      "0.33333333333333337\n",
      "0.28571428571428575\n",
      "0.28571428571428575\n",
      "0.20000000000000004\n",
      "0.5714285714285715\n",
      "0.33333333333333337\n",
      "0.33333333333333337\n",
      "0.33333333333333337\n",
      "0.33333333333333337\n",
      "0.20000000000000004\n",
      "0.33333333333333337\n",
      "0.33333333333333337\n",
      "0.28571428571428575\n",
      "0.33333333333333337\n",
      "0.33333333333333337\n",
      "0.25\n",
      "0.20000000000000004\n",
      "0.33333333333333337\n",
      "0.28571428571428575\n",
      "0.4000000000000001\n",
      "0.28571428571428575\n",
      "0.28571428571428575\n",
      "\n",
      "\n",
      "Evidence Retrieval F-score: 0.052\n",
      "\n",
      "\n"
     ]
    },
    {
     "name": "stderr",
     "output_type": "stream",
     "text": [
      " 73%|███████▎  | 180/246 [00:07<00:03, 21.18it/s]"
     ]
    },
    {
     "name": "stdout",
     "output_type": "stream",
     "text": [
      "\n",
      "\n",
      "epoch: 2, epoch_step: 87, avg loss: nan\n",
      "learning rate: 0.009900\n",
      "\n",
      "\n"
     ]
    },
    {
     "name": "stderr",
     "output_type": "stream",
     "text": [
      " 82%|████████▏ | 201/246 [00:07<00:01, 37.30it/s]"
     ]
    },
    {
     "name": "stdout",
     "output_type": "stream",
     "text": [
      "\n",
      "\n",
      "epoch: 2, epoch_step: 97, avg loss: nan\n",
      "learning rate: 0.009800\n",
      "\n",
      "\n"
     ]
    },
    {
     "name": "stderr",
     "output_type": "stream",
     "text": [
      " 90%|█████████ | 222/246 [00:07<00:00, 50.30it/s]"
     ]
    },
    {
     "name": "stdout",
     "output_type": "stream",
     "text": [
      "\n",
      "\n",
      "epoch: 2, epoch_step: 107, avg loss: nan\n",
      "learning rate: 0.009700\n",
      "\n",
      "\n"
     ]
    },
    {
     "name": "stderr",
     "output_type": "stream",
     "text": [
      " 99%|█████████▉| 243/246 [00:08<00:00, 57.16it/s]"
     ]
    },
    {
     "name": "stdout",
     "output_type": "stream",
     "text": [
      "\n",
      "\n",
      "epoch: 2, epoch_step: 117, avg loss: nan\n",
      "learning rate: 0.009600\n",
      "\n",
      "\n"
     ]
    },
    {
     "name": "stderr",
     "output_type": "stream",
     "text": [
      "100%|██████████| 246/246 [00:08<00:00, 29.99it/s]\n",
      "  3%|▎         | 7/246 [00:00<00:03, 61.86it/s]"
     ]
    },
    {
     "name": "stdout",
     "output_type": "stream",
     "text": [
      "\n",
      "\n",
      "epoch: 3, epoch_step: 4, avg loss: nan\n",
      "learning rate: 0.009500\n",
      "\n",
      "\n",
      "\n",
      "Evaluate:\n",
      "\n",
      "\n",
      "\n",
      "\n",
      "\n",
      "\n",
      "\n",
      "\n",
      "\n",
      "\n",
      "\n",
      "\n",
      "\n",
      "\n",
      "\n",
      "\n",
      "\n",
      "\n",
      "\n",
      "\n",
      "\n",
      "\n",
      "\n",
      "\n",
      "\n",
      "\n",
      "\n",
      "\n",
      "\n",
      "\n",
      "\n",
      "\n",
      "\n",
      "\n",
      "\n",
      "\n",
      "\n",
      "\n",
      "\n",
      "\n",
      "\n",
      "\n",
      "\n",
      "\n",
      "\n",
      "\n",
      "\n",
      "\n",
      "\n",
      "\n",
      "\n",
      "\n",
      "\n",
      "\n"
     ]
    },
    {
     "name": "stderr",
     "output_type": "stream",
     "text": [
      "  6%|▌         | 14/246 [00:02<00:44,  5.22it/s]"
     ]
    },
    {
     "name": "stdout",
     "output_type": "stream",
     "text": [
      "\n",
      "\n",
      "get all evidence embeddings!\n",
      "0.22222222222222224\n",
      "0.28571428571428575\n",
      "0.33333333333333337\n",
      "0.22222222222222224\n",
      "0.33333333333333337\n",
      "0.28571428571428575\n",
      "0.28571428571428575\n",
      "0.20000000000000004\n",
      "0.5714285714285715\n",
      "0.33333333333333337\n",
      "0.33333333333333337\n",
      "0.33333333333333337\n",
      "0.33333333333333337\n",
      "0.20000000000000004\n",
      "0.33333333333333337\n",
      "0.33333333333333337\n",
      "0.28571428571428575\n",
      "0.33333333333333337\n",
      "0.33333333333333337\n",
      "0.25\n",
      "0.20000000000000004\n",
      "0.33333333333333337\n",
      "0.28571428571428575\n",
      "0.4000000000000001\n",
      "0.28571428571428575\n",
      "0.28571428571428575\n",
      "\n",
      "\n",
      "Evidence Retrieval F-score: 0.052\n",
      "\n",
      "\n"
     ]
    },
    {
     "name": "stderr",
     "output_type": "stream",
     "text": [
      " 14%|█▍        | 35/246 [00:02<00:11, 18.82it/s]"
     ]
    },
    {
     "name": "stdout",
     "output_type": "stream",
     "text": [
      "\n",
      "\n",
      "epoch: 3, epoch_step: 14, avg loss: nan\n",
      "learning rate: 0.009400\n",
      "\n",
      "\n"
     ]
    },
    {
     "name": "stderr",
     "output_type": "stream",
     "text": [
      " 23%|██▎       | 56/246 [00:02<00:05, 36.44it/s]"
     ]
    },
    {
     "name": "stdout",
     "output_type": "stream",
     "text": [
      "\n",
      "\n",
      "epoch: 3, epoch_step: 24, avg loss: nan\n",
      "learning rate: 0.009300\n",
      "\n",
      "\n"
     ]
    },
    {
     "name": "stderr",
     "output_type": "stream",
     "text": [
      " 31%|███▏      | 77/246 [00:03<00:03, 49.92it/s]"
     ]
    },
    {
     "name": "stdout",
     "output_type": "stream",
     "text": [
      "\n",
      "\n",
      "epoch: 3, epoch_step: 34, avg loss: nan\n",
      "learning rate: 0.009200\n",
      "\n",
      "\n"
     ]
    },
    {
     "name": "stderr",
     "output_type": "stream",
     "text": [
      " 40%|███▉      | 98/246 [00:03<00:02, 56.59it/s]"
     ]
    },
    {
     "name": "stdout",
     "output_type": "stream",
     "text": [
      "\n",
      "\n",
      "epoch: 3, epoch_step: 44, avg loss: nan\n",
      "learning rate: 0.009100\n",
      "\n",
      "\n"
     ]
    },
    {
     "name": "stderr",
     "output_type": "stream",
     "text": [
      " 43%|████▎     | 105/246 [00:03<00:02, 57.72it/s]"
     ]
    },
    {
     "name": "stdout",
     "output_type": "stream",
     "text": [
      "\n",
      "\n",
      "epoch: 3, epoch_step: 54, avg loss: nan\n",
      "learning rate: 0.009000\n",
      "\n",
      "\n",
      "\n",
      "Evaluate:\n",
      "\n",
      "\n",
      "\n",
      "\n",
      "\n",
      "\n",
      "\n",
      "\n",
      "\n",
      "\n",
      "\n",
      "\n",
      "\n",
      "\n",
      "\n",
      "\n",
      "\n",
      "\n",
      "\n",
      "\n",
      "\n",
      "\n",
      "\n",
      "\n",
      "\n",
      "\n",
      "\n",
      "\n",
      "\n",
      "\n",
      "\n",
      "\n",
      "\n",
      "\n",
      "\n",
      "\n",
      "\n",
      "\n",
      "\n",
      "\n",
      "\n",
      "\n",
      "\n",
      "\n",
      "\n",
      "\n",
      "\n",
      "\n",
      "\n",
      "\n",
      "\n",
      "\n",
      "\n",
      "\n",
      "\n"
     ]
    },
    {
     "name": "stderr",
     "output_type": "stream",
     "text": [
      " 46%|████▌     | 112/246 [00:06<00:14,  9.36it/s]"
     ]
    },
    {
     "name": "stdout",
     "output_type": "stream",
     "text": [
      "\n",
      "get all evidence embeddings!\n",
      "0.22222222222222224\n",
      "0.28571428571428575\n",
      "0.33333333333333337\n",
      "0.22222222222222224\n",
      "0.33333333333333337\n",
      "0.28571428571428575\n",
      "0.28571428571428575\n",
      "0.20000000000000004\n",
      "0.5714285714285715\n",
      "0.33333333333333337\n",
      "0.33333333333333337\n",
      "0.33333333333333337\n",
      "0.33333333333333337\n",
      "0.20000000000000004\n",
      "0.33333333333333337\n",
      "0.33333333333333337\n",
      "0.28571428571428575\n",
      "0.33333333333333337\n",
      "0.33333333333333337\n",
      "0.25\n",
      "0.20000000000000004\n",
      "0.33333333333333337\n",
      "0.28571428571428575\n",
      "0.4000000000000001\n",
      "0.28571428571428575\n",
      "0.28571428571428575\n",
      "\n",
      "\n",
      "Evidence Retrieval F-score: 0.052\n",
      "\n",
      "\n"
     ]
    },
    {
     "name": "stderr",
     "output_type": "stream",
     "text": [
      " 54%|█████▍    | 133/246 [00:06<00:05, 21.19it/s]"
     ]
    },
    {
     "name": "stdout",
     "output_type": "stream",
     "text": [
      "\n",
      "\n",
      "epoch: 3, epoch_step: 64, avg loss: nan\n",
      "learning rate: 0.008900\n",
      "\n",
      "\n"
     ]
    },
    {
     "name": "stderr",
     "output_type": "stream",
     "text": [
      " 63%|██████▎   | 154/246 [00:06<00:02, 37.47it/s]"
     ]
    },
    {
     "name": "stdout",
     "output_type": "stream",
     "text": [
      "\n",
      "\n",
      "epoch: 3, epoch_step: 74, avg loss: nan\n",
      "learning rate: 0.008800\n",
      "\n",
      "\n"
     ]
    },
    {
     "name": "stderr",
     "output_type": "stream",
     "text": [
      " 71%|███████   | 175/246 [00:07<00:01, 50.64it/s]"
     ]
    },
    {
     "name": "stdout",
     "output_type": "stream",
     "text": [
      "\n",
      "\n",
      "epoch: 3, epoch_step: 84, avg loss: nan\n",
      "learning rate: 0.008700\n",
      "\n",
      "\n"
     ]
    },
    {
     "name": "stderr",
     "output_type": "stream",
     "text": [
      " 80%|███████▉  | 196/246 [00:07<00:00, 57.15it/s]"
     ]
    },
    {
     "name": "stdout",
     "output_type": "stream",
     "text": [
      "\n",
      "\n",
      "epoch: 3, epoch_step: 94, avg loss: nan\n",
      "learning rate: 0.008600\n",
      "\n",
      "\n"
     ]
    },
    {
     "name": "stderr",
     "output_type": "stream",
     "text": [
      " 83%|████████▎ | 203/246 [00:07<00:00, 58.42it/s]"
     ]
    },
    {
     "name": "stdout",
     "output_type": "stream",
     "text": [
      "\n",
      "\n",
      "epoch: 3, epoch_step: 104, avg loss: nan\n",
      "learning rate: 0.008500\n",
      "\n",
      "\n",
      "\n",
      "Evaluate:\n",
      "\n",
      "\n",
      "\n",
      "\n",
      "\n",
      "\n",
      "\n",
      "\n",
      "\n",
      "\n",
      "\n",
      "\n",
      "\n",
      "\n",
      "\n",
      "\n",
      "\n",
      "\n",
      "\n",
      "\n",
      "\n",
      "\n",
      "\n",
      "\n",
      "\n",
      "\n",
      "\n",
      "\n",
      "\n",
      "\n",
      "\n",
      "\n",
      "\n",
      "\n",
      "\n",
      "\n",
      "\n",
      "\n",
      "\n",
      "\n",
      "\n",
      "\n",
      "\n",
      "\n",
      "\n",
      "\n",
      "\n",
      "\n",
      "\n",
      "\n",
      "\n",
      "\n",
      "\n",
      "\n",
      "\n"
     ]
    },
    {
     "name": "stderr",
     "output_type": "stream",
     "text": [
      " 85%|████████▌ | 210/246 [00:09<00:03,  9.40it/s]"
     ]
    },
    {
     "name": "stdout",
     "output_type": "stream",
     "text": [
      "\n",
      "get all evidence embeddings!\n",
      "0.22222222222222224\n",
      "0.28571428571428575\n",
      "0.33333333333333337\n",
      "0.22222222222222224\n",
      "0.33333333333333337\n",
      "0.28571428571428575\n",
      "0.28571428571428575\n",
      "0.20000000000000004\n",
      "0.5714285714285715\n",
      "0.33333333333333337\n",
      "0.33333333333333337\n",
      "0.33333333333333337\n",
      "0.33333333333333337\n",
      "0.20000000000000004\n",
      "0.33333333333333337\n",
      "0.33333333333333337\n",
      "0.28571428571428575\n",
      "0.33333333333333337\n",
      "0.33333333333333337\n",
      "0.25\n",
      "0.20000000000000004\n",
      "0.33333333333333337\n",
      "0.28571428571428575\n",
      "0.4000000000000001\n",
      "0.28571428571428575\n",
      "0.28571428571428575\n",
      "\n",
      "\n",
      "Evidence Retrieval F-score: 0.052\n",
      "\n",
      "\n"
     ]
    },
    {
     "name": "stderr",
     "output_type": "stream",
     "text": [
      " 97%|█████████▋| 238/246 [00:10<00:00, 26.41it/s]"
     ]
    },
    {
     "name": "stdout",
     "output_type": "stream",
     "text": [
      "\n",
      "\n",
      "epoch: 3, epoch_step: 114, avg loss: nan\n",
      "learning rate: 0.008400\n",
      "\n",
      "\n"
     ]
    },
    {
     "name": "stderr",
     "output_type": "stream",
     "text": [
      "100%|██████████| 246/246 [00:10<00:00, 23.97it/s]\n",
      "  3%|▎         | 7/246 [00:00<00:03, 61.61it/s]"
     ]
    },
    {
     "name": "stdout",
     "output_type": "stream",
     "text": [
      "\n",
      "\n",
      "epoch: 4, epoch_step: 1, avg loss: nan\n",
      "learning rate: 0.008300\n",
      "\n",
      "\n"
     ]
    },
    {
     "name": "stderr",
     "output_type": "stream",
     "text": [
      " 11%|█▏        | 28/246 [00:00<00:03, 61.76it/s]"
     ]
    },
    {
     "name": "stdout",
     "output_type": "stream",
     "text": [
      "\n",
      "\n",
      "epoch: 4, epoch_step: 11, avg loss: nan\n",
      "learning rate: 0.008200\n",
      "\n",
      "\n"
     ]
    },
    {
     "name": "stderr",
     "output_type": "stream",
     "text": [
      " 20%|█▉        | 49/246 [00:00<00:03, 61.24it/s]"
     ]
    },
    {
     "name": "stdout",
     "output_type": "stream",
     "text": [
      "\n",
      "\n",
      "epoch: 4, epoch_step: 21, avg loss: nan\n",
      "learning rate: 0.008100\n",
      "\n",
      "\n"
     ]
    },
    {
     "name": "stderr",
     "output_type": "stream",
     "text": [
      " 23%|██▎       | 56/246 [00:00<00:03, 61.19it/s]"
     ]
    },
    {
     "name": "stdout",
     "output_type": "stream",
     "text": [
      "\n",
      "\n",
      "epoch: 4, epoch_step: 31, avg loss: nan\n",
      "learning rate: 0.008000\n",
      "\n",
      "\n",
      "\n",
      "Evaluate:\n",
      "\n",
      "\n",
      "\n",
      "\n",
      "\n",
      "\n",
      "\n",
      "\n",
      "\n",
      "\n",
      "\n",
      "\n",
      "\n",
      "\n",
      "\n",
      "\n",
      "\n",
      "\n",
      "\n",
      "\n",
      "\n",
      "\n",
      "\n",
      "\n",
      "\n",
      "\n",
      "\n",
      "\n",
      "\n",
      "\n",
      "\n",
      "\n",
      "\n",
      "\n",
      "\n",
      "\n",
      "\n",
      "\n",
      "\n",
      "\n",
      "\n",
      "\n",
      "\n",
      "\n",
      "\n",
      "\n",
      "\n",
      "\n",
      "\n",
      "\n",
      "\n",
      "\n",
      "\n",
      "\n",
      "\n"
     ]
    },
    {
     "name": "stderr",
     "output_type": "stream",
     "text": [
      " 28%|██▊       | 70/246 [00:03<00:14, 12.50it/s]"
     ]
    },
    {
     "name": "stdout",
     "output_type": "stream",
     "text": [
      "\n",
      "get all evidence embeddings!\n",
      "0.22222222222222224\n",
      "0.28571428571428575\n",
      "0.33333333333333337\n",
      "0.22222222222222224\n",
      "0.33333333333333337\n",
      "0.28571428571428575\n",
      "0.28571428571428575\n",
      "0.20000000000000004\n",
      "0.5714285714285715\n",
      "0.33333333333333337\n",
      "0.33333333333333337\n",
      "0.33333333333333337\n",
      "0.33333333333333337\n",
      "0.20000000000000004\n",
      "0.33333333333333337\n",
      "0.33333333333333337\n",
      "0.28571428571428575\n",
      "0.33333333333333337\n",
      "0.33333333333333337\n",
      "0.25\n",
      "0.20000000000000004\n",
      "0.33333333333333337\n",
      "0.28571428571428575\n",
      "0.4000000000000001\n",
      "0.28571428571428575\n",
      "0.28571428571428575\n",
      "\n",
      "\n",
      "Evidence Retrieval F-score: 0.052\n",
      "\n",
      "\n"
     ]
    },
    {
     "name": "stderr",
     "output_type": "stream",
     "text": [
      " 37%|███▋      | 91/246 [00:03<00:05, 26.59it/s]"
     ]
    },
    {
     "name": "stdout",
     "output_type": "stream",
     "text": [
      "\n",
      "\n",
      "epoch: 4, epoch_step: 41, avg loss: nan\n",
      "learning rate: 0.007900\n",
      "\n",
      "\n"
     ]
    },
    {
     "name": "stderr",
     "output_type": "stream",
     "text": [
      " 45%|████▌     | 111/246 [00:03<00:03, 41.63it/s]"
     ]
    },
    {
     "name": "stdout",
     "output_type": "stream",
     "text": [
      "\n",
      "\n",
      "epoch: 4, epoch_step: 51, avg loss: nan\n",
      "learning rate: 0.007800\n",
      "\n",
      "\n"
     ]
    },
    {
     "name": "stderr",
     "output_type": "stream",
     "text": [
      " 54%|█████▎    | 132/246 [00:04<00:02, 52.99it/s]"
     ]
    },
    {
     "name": "stdout",
     "output_type": "stream",
     "text": [
      "\n",
      "\n",
      "epoch: 4, epoch_step: 61, avg loss: nan\n",
      "learning rate: 0.007700\n",
      "\n",
      "\n"
     ]
    },
    {
     "name": "stderr",
     "output_type": "stream",
     "text": [
      " 59%|█████▉    | 146/246 [00:04<00:01, 56.87it/s]"
     ]
    },
    {
     "name": "stdout",
     "output_type": "stream",
     "text": [
      "\n",
      "\n",
      "epoch: 4, epoch_step: 71, avg loss: nan\n",
      "learning rate: 0.007600\n",
      "\n",
      "\n"
     ]
    },
    {
     "name": "stderr",
     "output_type": "stream",
     "text": [
      " 65%|██████▌   | 160/246 [00:04<00:01, 59.05it/s]"
     ]
    },
    {
     "name": "stdout",
     "output_type": "stream",
     "text": [
      "\n",
      "\n",
      "epoch: 4, epoch_step: 81, avg loss: nan\n",
      "learning rate: 0.007500\n",
      "\n",
      "\n",
      "\n",
      "Evaluate:\n",
      "\n",
      "\n",
      "\n",
      "\n",
      "\n",
      "\n",
      "\n",
      "\n",
      "\n",
      "\n",
      "\n",
      "\n",
      "\n",
      "\n",
      "\n",
      "\n",
      "\n",
      "\n",
      "\n",
      "\n",
      "\n",
      "\n",
      "\n",
      "\n",
      "\n",
      "\n",
      "\n",
      "\n",
      "\n",
      "\n",
      "\n",
      "\n",
      "\n",
      "\n",
      "\n",
      "\n",
      "\n",
      "\n",
      "\n",
      "\n",
      "\n",
      "\n",
      "\n",
      "\n",
      "\n",
      "\n",
      "\n",
      "\n",
      "\n",
      "\n",
      "\n",
      "\n",
      "\n",
      "\n"
     ]
    },
    {
     "name": "stderr",
     "output_type": "stream",
     "text": [
      " 68%|██████▊   | 167/246 [00:06<00:08,  9.38it/s]"
     ]
    },
    {
     "name": "stdout",
     "output_type": "stream",
     "text": [
      "\n",
      "\n",
      "get all evidence embeddings!\n",
      "0.22222222222222224\n",
      "0.28571428571428575\n",
      "0.33333333333333337\n",
      "0.22222222222222224\n",
      "0.33333333333333337\n",
      "0.28571428571428575\n",
      "0.28571428571428575\n",
      "0.20000000000000004\n",
      "0.5714285714285715\n",
      "0.33333333333333337\n",
      "0.33333333333333337\n",
      "0.33333333333333337\n",
      "0.33333333333333337\n",
      "0.20000000000000004\n",
      "0.33333333333333337\n",
      "0.33333333333333337\n",
      "0.28571428571428575\n",
      "0.33333333333333337\n",
      "0.33333333333333337\n",
      "0.25\n",
      "0.20000000000000004\n",
      "0.33333333333333337\n",
      "0.28571428571428575\n",
      "0.4000000000000001\n",
      "0.28571428571428575\n",
      "0.28571428571428575\n",
      "\n",
      "\n",
      "Evidence Retrieval F-score: 0.052\n",
      "\n",
      "\n"
     ]
    },
    {
     "name": "stderr",
     "output_type": "stream",
     "text": [
      " 76%|███████▋  | 188/246 [00:07<00:02, 21.20it/s]"
     ]
    },
    {
     "name": "stdout",
     "output_type": "stream",
     "text": [
      "\n",
      "\n",
      "epoch: 4, epoch_step: 91, avg loss: nan\n",
      "learning rate: 0.007400\n",
      "\n",
      "\n"
     ]
    },
    {
     "name": "stderr",
     "output_type": "stream",
     "text": [
      " 85%|████████▍ | 208/246 [00:07<00:01, 36.53it/s]"
     ]
    },
    {
     "name": "stdout",
     "output_type": "stream",
     "text": [
      "\n",
      "\n",
      "epoch: 4, epoch_step: 101, avg loss: nan\n",
      "learning rate: 0.007300\n",
      "\n",
      "\n"
     ]
    },
    {
     "name": "stderr",
     "output_type": "stream",
     "text": [
      " 93%|█████████▎| 228/246 [00:07<00:00, 49.35it/s]"
     ]
    },
    {
     "name": "stdout",
     "output_type": "stream",
     "text": [
      "\n",
      "\n",
      "epoch: 4, epoch_step: 111, avg loss: nan\n",
      "learning rate: 0.007200\n",
      "\n",
      "\n"
     ]
    },
    {
     "name": "stderr",
     "output_type": "stream",
     "text": [
      "100%|██████████| 246/246 [00:08<00:00, 30.06it/s]\n"
     ]
    },
    {
     "name": "stdout",
     "output_type": "stream",
     "text": [
      "\n",
      "\n",
      "epoch: 4, epoch_step: 121, avg loss: nan\n",
      "learning rate: 0.007100\n",
      "\n",
      "\n"
     ]
    },
    {
     "name": "stderr",
     "output_type": "stream",
     "text": [
      "  6%|▌         | 14/246 [00:00<00:03, 61.00it/s]"
     ]
    },
    {
     "name": "stdout",
     "output_type": "stream",
     "text": [
      "\n",
      "\n",
      "epoch: 5, epoch_step: 8, avg loss: nan\n",
      "learning rate: 0.007000\n",
      "\n",
      "\n",
      "\n",
      "Evaluate:\n",
      "\n",
      "\n",
      "\n",
      "\n",
      "\n",
      "\n",
      "\n",
      "\n",
      "\n",
      "\n",
      "\n",
      "\n",
      "\n",
      "\n",
      "\n",
      "\n",
      "\n",
      "\n",
      "\n",
      "\n",
      "\n",
      "\n",
      "\n",
      "\n",
      "\n",
      "\n",
      "\n",
      "\n",
      "\n",
      "\n",
      "\n",
      "\n",
      "\n",
      "\n",
      "\n",
      "\n",
      "\n",
      "\n",
      "\n",
      "\n",
      "\n",
      "\n",
      "\n",
      "\n",
      "\n",
      "\n",
      "\n",
      "\n",
      "\n",
      "\n",
      "\n",
      "\n",
      "\n",
      "\n",
      "\n"
     ]
    },
    {
     "name": "stderr",
     "output_type": "stream",
     "text": [
      "  9%|▊         | 21/246 [00:02<00:34,  6.56it/s]"
     ]
    },
    {
     "name": "stdout",
     "output_type": "stream",
     "text": [
      "\n",
      "get all evidence embeddings!\n",
      "0.22222222222222224\n",
      "0.28571428571428575\n",
      "0.33333333333333337\n",
      "0.22222222222222224\n",
      "0.33333333333333337\n",
      "0.28571428571428575\n",
      "0.28571428571428575\n",
      "0.20000000000000004\n",
      "0.5714285714285715\n",
      "0.33333333333333337\n",
      "0.33333333333333337\n",
      "0.33333333333333337\n",
      "0.33333333333333337\n",
      "0.20000000000000004\n",
      "0.33333333333333337\n",
      "0.33333333333333337\n",
      "0.28571428571428575\n",
      "0.33333333333333337\n",
      "0.33333333333333337\n",
      "0.25\n",
      "0.20000000000000004\n",
      "0.33333333333333337\n",
      "0.28571428571428575\n",
      "0.4000000000000001\n",
      "0.28571428571428575\n",
      "0.28571428571428575\n",
      "\n",
      "\n",
      "Evidence Retrieval F-score: 0.052\n",
      "\n",
      "\n"
     ]
    },
    {
     "name": "stderr",
     "output_type": "stream",
     "text": [
      " 17%|█▋        | 42/246 [00:02<00:10, 19.58it/s]"
     ]
    },
    {
     "name": "stdout",
     "output_type": "stream",
     "text": [
      "\n",
      "\n",
      "epoch: 5, epoch_step: 18, avg loss: nan\n",
      "learning rate: 0.006900\n",
      "\n",
      "\n"
     ]
    },
    {
     "name": "stderr",
     "output_type": "stream",
     "text": [
      " 26%|██▌       | 63/246 [00:03<00:05, 36.59it/s]"
     ]
    },
    {
     "name": "stdout",
     "output_type": "stream",
     "text": [
      "\n",
      "\n",
      "epoch: 5, epoch_step: 28, avg loss: nan\n",
      "learning rate: 0.006800\n",
      "\n",
      "\n"
     ]
    },
    {
     "name": "stderr",
     "output_type": "stream",
     "text": [
      " 34%|███▎      | 83/246 [00:03<00:03, 49.39it/s]"
     ]
    },
    {
     "name": "stdout",
     "output_type": "stream",
     "text": [
      "\n",
      "\n",
      "epoch: 5, epoch_step: 38, avg loss: nan\n",
      "learning rate: 0.006700\n",
      "\n",
      "\n"
     ]
    },
    {
     "name": "stderr",
     "output_type": "stream",
     "text": [
      " 42%|████▏     | 104/246 [00:03<00:02, 57.02it/s]"
     ]
    },
    {
     "name": "stdout",
     "output_type": "stream",
     "text": [
      "\n",
      "\n",
      "epoch: 5, epoch_step: 48, avg loss: nan\n",
      "learning rate: 0.006600\n",
      "\n",
      "\n"
     ]
    },
    {
     "name": "stderr",
     "output_type": "stream",
     "text": [
      " 45%|████▌     | 111/246 [00:03<00:02, 58.05it/s]"
     ]
    },
    {
     "name": "stdout",
     "output_type": "stream",
     "text": [
      "\n",
      "\n",
      "epoch: 5, epoch_step: 58, avg loss: nan\n",
      "learning rate: 0.006500\n",
      "\n",
      "\n",
      "\n",
      "Evaluate:\n",
      "\n",
      "\n",
      "\n",
      "\n",
      "\n",
      "\n",
      "\n",
      "\n",
      "\n",
      "\n",
      "\n",
      "\n",
      "\n",
      "\n",
      "\n",
      "\n",
      "\n",
      "\n",
      "\n",
      "\n",
      "\n",
      "\n",
      "\n",
      "\n",
      "\n",
      "\n",
      "\n",
      "\n",
      "\n",
      "\n",
      "\n",
      "\n",
      "\n",
      "\n",
      "\n",
      "\n",
      "\n",
      "\n",
      "\n",
      "\n",
      "\n",
      "\n",
      "\n",
      "\n",
      "\n",
      "\n",
      "\n",
      "\n",
      "\n",
      "\n",
      "\n",
      "\n",
      "\n",
      "\n",
      "\n"
     ]
    },
    {
     "name": "stderr",
     "output_type": "stream",
     "text": [
      " 48%|████▊     | 118/246 [00:06<00:13,  9.35it/s]"
     ]
    },
    {
     "name": "stdout",
     "output_type": "stream",
     "text": [
      "\n",
      "get all evidence embeddings!\n",
      "0.22222222222222224\n",
      "0.28571428571428575\n",
      "0.33333333333333337\n",
      "0.22222222222222224\n",
      "0.33333333333333337\n",
      "0.28571428571428575\n",
      "0.28571428571428575\n",
      "0.20000000000000004\n",
      "0.5714285714285715\n",
      "0.33333333333333337\n",
      "0.33333333333333337\n",
      "0.33333333333333337\n",
      "0.33333333333333337\n",
      "0.20000000000000004\n",
      "0.33333333333333337\n",
      "0.33333333333333337\n",
      "0.28571428571428575\n",
      "0.33333333333333337\n",
      "0.33333333333333337\n",
      "0.25\n",
      "0.20000000000000004\n",
      "0.33333333333333337\n",
      "0.28571428571428575\n",
      "0.4000000000000001\n",
      "0.28571428571428575\n",
      "0.28571428571428575\n",
      "\n",
      "\n",
      "Evidence Retrieval F-score: 0.052\n",
      "\n",
      "\n"
     ]
    },
    {
     "name": "stderr",
     "output_type": "stream",
     "text": [
      " 59%|█████▉    | 146/246 [00:06<00:03, 26.34it/s]"
     ]
    },
    {
     "name": "stdout",
     "output_type": "stream",
     "text": [
      "\n",
      "\n",
      "epoch: 5, epoch_step: 68, avg loss: nan\n",
      "learning rate: 0.006400\n",
      "\n",
      "\n"
     ]
    },
    {
     "name": "stderr",
     "output_type": "stream",
     "text": [
      " 67%|██████▋   | 166/246 [00:06<00:01, 41.68it/s]"
     ]
    },
    {
     "name": "stdout",
     "output_type": "stream",
     "text": [
      "\n",
      "\n",
      "epoch: 5, epoch_step: 78, avg loss: nan\n",
      "learning rate: 0.006300\n",
      "\n",
      "\n"
     ]
    },
    {
     "name": "stderr",
     "output_type": "stream",
     "text": [
      " 76%|███████▌  | 187/246 [00:07<00:01, 52.74it/s]"
     ]
    },
    {
     "name": "stdout",
     "output_type": "stream",
     "text": [
      "\n",
      "\n",
      "epoch: 5, epoch_step: 88, avg loss: nan\n",
      "learning rate: 0.006200\n",
      "\n",
      "\n"
     ]
    },
    {
     "name": "stderr",
     "output_type": "stream",
     "text": [
      " 81%|████████▏ | 200/246 [00:07<00:00, 55.40it/s]"
     ]
    },
    {
     "name": "stdout",
     "output_type": "stream",
     "text": [
      "\n",
      "\n",
      "epoch: 5, epoch_step: 98, avg loss: nan\n",
      "learning rate: 0.006100\n",
      "\n",
      "\n"
     ]
    },
    {
     "name": "stderr",
     "output_type": "stream",
     "text": [
      " 87%|████████▋ | 214/246 [00:07<00:00, 57.96it/s]"
     ]
    },
    {
     "name": "stdout",
     "output_type": "stream",
     "text": [
      "\n",
      "\n",
      "epoch: 5, epoch_step: 108, avg loss: nan\n",
      "learning rate: 0.006000\n",
      "\n",
      "\n",
      "\n",
      "Evaluate:\n",
      "\n",
      "\n",
      "\n",
      "\n",
      "\n",
      "\n",
      "\n",
      "\n",
      "\n",
      "\n",
      "\n",
      "\n",
      "\n",
      "\n",
      "\n",
      "\n",
      "\n",
      "\n",
      "\n",
      "\n",
      "\n",
      "\n",
      "\n",
      "\n",
      "\n",
      "\n",
      "\n",
      "\n",
      "\n",
      "\n",
      "\n",
      "\n",
      "\n",
      "\n",
      "\n",
      "\n",
      "\n",
      "\n",
      "\n",
      "\n",
      "\n",
      "\n",
      "\n",
      "\n",
      "\n",
      "\n",
      "\n",
      "\n",
      "\n",
      "\n",
      "\n",
      "\n",
      "\n",
      "\n",
      "\n"
     ]
    },
    {
     "name": "stderr",
     "output_type": "stream",
     "text": [
      " 90%|████████▉ | 221/246 [00:09<00:02,  9.30it/s]"
     ]
    },
    {
     "name": "stdout",
     "output_type": "stream",
     "text": [
      "\n",
      "get all evidence embeddings!\n",
      "0.22222222222222224\n",
      "0.28571428571428575\n",
      "0.33333333333333337\n",
      "0.22222222222222224\n",
      "0.33333333333333337\n",
      "0.28571428571428575\n",
      "0.28571428571428575\n",
      "0.20000000000000004\n",
      "0.5714285714285715\n",
      "0.33333333333333337\n",
      "0.33333333333333337\n",
      "0.33333333333333337\n",
      "0.33333333333333337\n",
      "0.20000000000000004\n",
      "0.33333333333333337\n",
      "0.33333333333333337\n",
      "0.28571428571428575\n",
      "0.33333333333333337\n",
      "0.33333333333333337\n",
      "0.25\n",
      "0.20000000000000004\n",
      "0.33333333333333337\n",
      "0.28571428571428575\n",
      "0.4000000000000001\n",
      "0.28571428571428575\n",
      "0.28571428571428575\n",
      "\n",
      "\n",
      "Evidence Retrieval F-score: 0.052\n",
      "\n",
      "\n"
     ]
    },
    {
     "name": "stderr",
     "output_type": "stream",
     "text": [
      "100%|██████████| 246/246 [00:10<00:00, 23.90it/s]"
     ]
    },
    {
     "name": "stdout",
     "output_type": "stream",
     "text": [
      "\n",
      "\n",
      "epoch: 5, epoch_step: 118, avg loss: nan\n",
      "learning rate: 0.005900\n",
      "\n",
      "\n"
     ]
    },
    {
     "name": "stderr",
     "output_type": "stream",
     "text": [
      "\n"
     ]
    }
   ],
   "source": [
    "# start training\n",
    "import wandb\n",
    "import os\n",
    "wandb.init(project=\"nlp\", name=\"dpr\")\n",
    "\n",
    "from tqdm import tqdm\n",
    "import numpy as np\n",
    "\n",
    "encoder_optimizer.zero_grad()\n",
    "step_cnt = 0\n",
    "all_step_cnt = 0\n",
    "avg_loss = 0\n",
    "maximum_f_score = 0\n",
    "\n",
    "for epoch in range(5): \n",
    "    epoch_step = 0\n",
    "\n",
    "    for (i, batch) in enumerate(tqdm(dataloader)):\n",
    "        \n",
    "        step_cnt += 1\n",
    "        # forward pass\n",
    "        query_embeddings = trans_encoder(batch[\"queries\"].cuda(), batch[\"queries_pos\"].cuda())\n",
    "        evidence_embeddings = trans_encoder(batch[\"evidences\"].cuda(), batch[\"evidences_pos\"].cuda())\n",
    "        \n",
    "        query_embeddings = query_embeddings[:, 0, :]\n",
    "        evidence_embeddings = evidence_embeddings[:, 0, :]\n",
    "\n",
    "        query_embeddings = torch.nn.functional.normalize(query_embeddings, p=2, dim=1)\n",
    "        evidence_embeddings = torch.nn.functional.normalize(evidence_embeddings, p=2, dim=1)\n",
    "\n",
    "        cos_sims = torch.mm(query_embeddings, evidence_embeddings.t())\n",
    "        scores = - torch.nn.functional.log_softmax(cos_sims / 0.1, dim=1)\n",
    "\n",
    "        loss = []\n",
    "        start_idx = 0\n",
    "        for idx, label in enumerate(batch[\"labels\"]):\n",
    "            label = torch.LongTensor(label).cuda()\n",
    "            cur_loss = torch.mean(torch.index_select(scores[idx], 0, label))\n",
    "            loss.append(cur_loss)\n",
    "\n",
    "        loss = torch.stack(loss).mean()\n",
    "        loss = loss / accumulate_step\n",
    "        loss.backward()\n",
    "\n",
    "        avg_loss += loss.item()\n",
    "        if step_cnt == accumulate_step:\n",
    "            # updating\n",
    "            if grad_norm > 0:\n",
    "                nn.utils.clip_grad_norm_(trans_encoder.parameters(), grad_norm)\n",
    "\n",
    "            step_cnt = 0\n",
    "            epoch_step += 1\n",
    "            all_step_cnt += 1\n",
    "            \n",
    "            # adjust learning rate\n",
    "            if all_step_cnt <= warmup_steps:\n",
    "                lr = all_step_cnt * (max_lr - 2e-8) / warmup_steps + 2e-8\n",
    "            else:\n",
    "                lr = max_lr - (all_step_cnt - warmup_steps) * 1e-5\n",
    "                \n",
    "            encoder_optimizer.step()\n",
    "            encoder_optimizer.zero_grad()\n",
    "        \n",
    "        if all_step_cnt % report_freq == 0 and step_cnt == 0:\n",
    "            if all_step_cnt <= warmup_steps:\n",
    "                lr = all_step_cnt * (max_lr - 2e-8) / warmup_steps + 2e-8\n",
    "            else:\n",
    "                lr = max_lr - (all_step_cnt - warmup_steps) * 1e-5\n",
    "\n",
    "            wandb.log({\"learning_rate\": lr}, step=all_step_cnt)\n",
    "            wandb.log({\"loss\": avg_loss / report_freq}, step=all_step_cnt)\n",
    "            \n",
    "            # report stats\n",
    "            print(\"\\n\")\n",
    "            print(\"epoch: %d, epoch_step: %d, avg loss: %.6f\" % (epoch + 1, epoch_step, avg_loss / report_freq))\n",
    "            print(f\"learning rate: {lr:.6f}\")\n",
    "            print(\"\\n\")\n",
    "            avg_loss = 0\n",
    "        del loss, cos_sims, query_embeddings, evidence_embeddings\n",
    "\n",
    "        if all_step_cnt % eval_interval == 0 and all_step_cnt != 0 and step_cnt == 0:\n",
    "            # evaluate the model as a scorer\n",
    "            print(\"\\nEvaluate:\\n\")\n",
    "            \n",
    "            f_score = validate(dev_input, evidences_input, dev_sort_evidences, dev_claim_evidences, trans_encoder)\n",
    "            wandb.log({\"f_score\": f_score}, step=all_step_cnt)\n",
    "\n",
    "            if f_score > maximum_f_score:\n",
    "                maximum_f_score = f_score\n",
    "                torch.save(trans_encoder.state_dict(), os.path.join(save_dir, \"best_ckpt.bin\"))\n",
    "                print(\"\\n\")\n",
    "                print(\"best val loss - epoch: %d, epoch_step: %d\" % (epoch, epoch_step))\n",
    "                print(\"maximum_f_score\", f_score)\n",
    "                print(\"\\n\")"
   ]
  },
  {
   "cell_type": "code",
   "execution_count": 30,
   "metadata": {},
   "outputs": [],
   "source": [
    "torch.cuda.empty_cache()"
   ]
  },
  {
   "cell_type": "markdown",
   "metadata": {
    "id": "EzGuzHPE87Ya"
   },
   "source": [
    "# 3.Testing and Evaluation\n",
    "(You can add as many code blocks and text blocks as you need. However, YOU SHOULD NOT MODIFY the section title)"
   ]
  },
  {
   "cell_type": "code",
   "execution_count": 31,
   "metadata": {},
   "outputs": [
    {
     "data": {
      "text/plain": [
       "Encoder(\n",
       "  (embedding): Embedding(7075, 512)\n",
       "  (pos_embedding): Embedding(180, 512)\n",
       "  (encoder): LSTM(512, 512, num_layers=2, batch_first=True)\n",
       ")"
      ]
     },
     "execution_count": 31,
     "metadata": {},
     "output_type": "execute_result"
    }
   ],
   "source": [
    "import os\n",
    "trans_encoder.load_state_dict(torch.load(os.path.join(save_dir, \"best_ckpt.bin\")))\n",
    "trans_encoder.cuda()\n",
    "trans_encoder.eval()"
   ]
  },
  {
   "cell_type": "code",
   "execution_count": 32,
   "metadata": {},
   "outputs": [],
   "source": [
    "evidence_embeddings = []\n",
    "start_idx = 0\n",
    "batch_size = 1000\n",
    "evidence_len = len(evidences_input[0])\n",
    "\n",
    "while start_idx < len(evidences_input):\n",
    "    end_idx = min(start_idx + batch_size, len(evidences_input))\n",
    "    \n",
    "    cur_evidence = torch.LongTensor(evidences_input[start_idx:end_idx]).view(-1, evidence_len).cuda()\n",
    "    cur_evidence_pos = torch.LongTensor([list(range(evidence_len)) for _ in range(end_idx - start_idx)]).cuda()\n",
    "\n",
    "    cur_embedding = trans_encoder(cur_evidence, cur_evidence_pos)\n",
    "    cur_embedding = cur_embedding[:, 0, :].detach()\n",
    "    cur_embedding_cpu = F.normalize(cur_embedding, p=2, dim=1).cpu()  # for cosine similarity\n",
    "    \n",
    "    del cur_embedding, cur_evidence, cur_evidence_pos\n",
    "    start_idx = end_idx\n",
    "    evidence_embeddings.append(cur_embedding_cpu)\n",
    "    \n",
    "evidence_embeddings = torch.cat(evidence_embeddings, dim=0).t()\n"
   ]
  },
  {
   "cell_type": "code",
   "execution_count": 33,
   "metadata": {},
   "outputs": [],
   "source": [
    "torch.cuda.empty_cache()"
   ]
  },
  {
   "cell_type": "code",
   "execution_count": 34,
   "metadata": {},
   "outputs": [],
   "source": [
    "import numpy as np"
   ]
  },
  {
   "cell_type": "code",
   "execution_count": 35,
   "metadata": {},
   "outputs": [],
   "source": [
    "retrieval_num = 5\n",
    "dev_candis_num = 10\n",
    "\n",
    "def validate_(dev_text_idx, evidence_embeddings, dev_sort_evidences, dev_claim_evidences, encoder_model):\n",
    "    # get evidence embeddings\n",
    "    encoder_model.eval()\n",
    "\n",
    "    text_len = len(dev_text_idx[0])\n",
    "    f = []\n",
    "    \n",
    "    start_idx = 0\n",
    "    batch_size = 200\n",
    "    \n",
    "    while start_idx < len(dev_text_idx):\n",
    "        end_idx = min(start_idx + batch_size, len(dev_text_idx))\n",
    "        \n",
    "        cur_query = torch.LongTensor(dev_text_idx[start_idx:end_idx]).view(-1, text_len).cuda()\n",
    "        print(cur_query.size())\n",
    "        cur_query_pos = torch.LongTensor([list(range(text_len)) for _ in range(end_idx - start_idx)]).cuda()\n",
    "\n",
    "        query_embedding = encoder_model(cur_query, cur_query_pos)\n",
    "        query_embedding = query_embedding[:, 0, :].detach()\n",
    "        query_embedding = F.normalize(query_embedding, p=2, dim=1).cpu()\n",
    "        \n",
    "        scores = torch.mm(query_embedding, evidence_embeddings)\n",
    "        \n",
    "        for i in range(scores.size(0)):\n",
    "            new_score = torch.index_select(scores[i], 0, torch.LongTensor(dev_sort_evidences[start_idx+i][:dev_candis_num]))\n",
    "            topk_ids = torch.argsort(new_score).tolist()\n",
    "            select_ids = topk_ids[:retrieval_num]\n",
    "            \n",
    "            evidence_correct = 0\n",
    "            pred_evidences = [dev_sort_evidences[start_idx+i][j] for j in select_ids]\n",
    "                        \n",
    "            label = dev_claim_evidences[start_idx+i]\n",
    "                        \n",
    "            for evidence_id in label:\n",
    "                if evidence_id in pred_evidences:\n",
    "                    evidence_correct += 1\n",
    "            if evidence_correct > 0:\n",
    "                evidence_recall = float(evidence_correct) / len(label)\n",
    "                evidence_precision = float(evidence_correct) / len(pred_evidences)\n",
    "                evidence_fscore = (2 * evidence_precision * evidence_recall) / (evidence_precision + evidence_recall)\n",
    "                # print(evidence_fscore)\n",
    "            else:\n",
    "                evidence_fscore = 0\n",
    "            f.append(evidence_fscore)\n",
    "            \n",
    "        start_idx = end_idx\n",
    "        # print(\"----\")\n",
    "    fscore = np.mean(f)\n",
    "    print(\"\\n\")\n",
    "    print(\"Evidence Retrieval F-score: %.3f\" % fscore)\n",
    "    print(\"\\n\")\n",
    "    return fscore"
   ]
  },
  {
   "cell_type": "code",
   "execution_count": 36,
   "metadata": {
    "scrolled": true
   },
   "outputs": [
    {
     "name": "stdout",
     "output_type": "stream",
     "text": [
      "torch.Size([154, 62])\n",
      "\n",
      "\n",
      "Evidence Retrieval F-score: 0.052\n",
      "\n",
      "\n",
      "0.05150999793856938\n"
     ]
    }
   ],
   "source": [
    "retrieval_num = 5\n",
    "dev_candis_num = 10\n",
    "fscore = validate_(dev_input, evidence_embeddings, dev_sort_evidences, dev_claim_evidences, trans_encoder)\n",
    "print(fscore)"
   ]
  },
  {
   "cell_type": "code",
   "execution_count": 37,
   "metadata": {
    "id": "6ZVeNYIH9IaL"
   },
   "outputs": [],
   "source": [
    "retrieval_num = 5\n",
    "dev_candis_num = 10\n",
    "\n",
    "def evidence_predicts(dev_text_idx, evidences_embeddings, dev_sort_evidences, cleaned_evidence_id, encoder_model):\n",
    "    # get evidence embeddings\n",
    "    text_len = len(dev_text_idx[0])\n",
    "    encoder_model.eval()\n",
    "\n",
    "    f = []\n",
    "    start_idx = 0\n",
    "    batch_size = 200\n",
    "    preds = []\n",
    "    while start_idx < len(dev_text_idx):\n",
    "        end_idx = min(start_idx + batch_size, len(dev_text_idx))\n",
    "        \n",
    "        cur_query = torch.LongTensor(dev_text_idx[start_idx:end_idx]).view(-1, text_len).cuda()\n",
    "        cur_query_pos = torch.LongTensor([list(range(text_len)) for _ in range(end_idx - start_idx)]).cuda()\n",
    "\n",
    "        query_embedding = encoder_model(cur_query, cur_query_pos)\n",
    "        query_embedding = query_embedding[:, 0, :].detach()\n",
    "        query_embedding = F.normalize(query_embedding, p=2, dim=1).cpu()\n",
    "        \n",
    "        scores = torch.mm(query_embedding, evidences_embeddings)\n",
    "\n",
    "        for i in range(scores.size(0)):\n",
    "            new_score = torch.index_select(scores[i], 0, torch.LongTensor(dev_sort_evidences[start_idx+i][:dev_candis_num]))\n",
    "            topk_ids = torch.argsort(new_score).tolist()\n",
    "            select_ids = topk_ids[:retrieval_num]\n",
    "            \n",
    "            pred_evidences = [cleaned_evidence_id[dev_sort_evidences[start_idx+i][j]] for j in select_ids]\n",
    "            preds.append(pred_evidences)\n",
    "            \n",
    "        start_idx = end_idx\n",
    "    return preds"
   ]
  },
  {
   "cell_type": "code",
   "execution_count": 38,
   "metadata": {},
   "outputs": [],
   "source": [
    "dev_evidences_ids = evidence_predicts(dev_input, evidence_embeddings, dev_sort_evidences, cleaned_evidence_id, trans_encoder)\n",
    "test_evidences_ids = evidence_predicts(test_input, evidence_embeddings, test_sort_evidences, cleaned_evidence_id, trans_encoder)"
   ]
  },
  {
   "cell_type": "code",
   "execution_count": 39,
   "metadata": {},
   "outputs": [],
   "source": [
    "pred_dev_claims = {}\n",
    "pred_test_claims = {}\n",
    "dev_claims = json.load(open(\"data/dev-claims.json\", \"r\"))\n",
    "test_claims = json.load(open(\"data/test-claims-unlabelled.json\", \"r\"))\n",
    "\n",
    "for idx, evidence_ids in enumerate(dev_evidences_ids):\n",
    "    cur_data = dev_claims[dev_claim_id[idx]]\n",
    "    cur_data['evidences'] = evidence_ids\n",
    "    pred_dev_claims[dev_claim_id[idx]] = cur_data\n",
    "    \n",
    "\n",
    "for idx, evidence_ids in enumerate(test_evidences_ids):\n",
    "    cur_data = test_claims[test_claim_id[idx]]\n",
    "    cur_data['evidences'] = evidence_ids\n",
    "    pred_test_claims[test_claim_id[idx]] = cur_data\n"
   ]
  },
  {
   "cell_type": "code",
   "execution_count": 40,
   "metadata": {},
   "outputs": [],
   "source": [
    "json.dump(pred_dev_claims, open(\"data/dev_predict.json\", \"w\"))\n",
    "json.dump(pred_test_claims, open(\"data/test-claims-unlabelled.json\", \"w\"))"
   ]
  },
  {
   "cell_type": "code",
   "execution_count": 41,
   "metadata": {},
   "outputs": [],
   "source": [
    "retrieval_num = 5\n",
    "dev_candis_num = 10\n",
    "\n",
    "train_evidences_ids = evidence_predicts(train_input, evidence_embeddings, train_sort_evidences, cleaned_evidence_id, trans_encoder)\n",
    "\n",
    "pred_train_negative_evidences = []\n",
    "for idx, evidence_ids in enumerate(train_evidences_ids):\n",
    "    temp_ = []\n",
    "    for i in evidence_ids:\n",
    "        if evidences_id_dict[i] not in train_claim_evidences[idx]:\n",
    "            temp_.append(evidences_id_dict[i])\n",
    "    pred_train_negative_evidences.append(temp_)"
   ]
  },
  {
   "cell_type": "code",
   "execution_count": 42,
   "metadata": {},
   "outputs": [],
   "source": [
    "## save prediction data\n",
    "\n",
    "json.dump(pred_train_negative_evidences, open(\"pred_train_negative_evidences.json\", \"w\"))"
   ]
  },
  {
   "cell_type": "code",
   "execution_count": 43,
   "metadata": {},
   "outputs": [],
   "source": [
    "## save cls data\n",
    "\n",
    "dev_cls_data = []\n",
    "test_cls_data = []\n",
    "text_max_len = 60\n",
    "evidence_max_len = 100\n",
    "all_max_len = 580\n",
    "\n",
    "for idx, dev_text in enumerate(dev_text_idx):\n",
    "    cur_data = {\"label\": dev_claim_label[idx]}\n",
    "    temp_text = [word2idx[\"<cls>\"]] + dev_text_idx[idx][:text_max_len]\n",
    "    for i in dev_evidences_ids[idx]:\n",
    "        temp_text.extend([word2idx[\"<sep>\"]] + evidences_text_idx[evidences_id_dict[i]][:evidence_max_len])\n",
    "    temp_text.append(word2idx[\"<sep>\"])\n",
    "    if len(temp_text) < all_max_len:\n",
    "        temp_text.extend([word2idx[\"<pad>\"]] * (all_max_len - len(temp_text)))\n",
    "    cur_data['text'] = temp_text\n",
    "    dev_cls_data.append(cur_data)\n",
    "\n",
    "for idx, dev_text in enumerate(test_text_idx):\n",
    "    cur_data = {}\n",
    "    temp_text = [word2idx[\"<cls>\"]] + test_text_idx[idx][:text_max_len]\n",
    "    for i in test_evidences_ids[idx]:\n",
    "        temp_text.extend([word2idx[\"<sep>\"]] + evidences_text_idx[evidences_id_dict[i]][:evidence_max_len])\n",
    "    temp_text.append(word2idx[\"<sep>\"])\n",
    "    if len(temp_text) < all_max_len:\n",
    "        temp_text.extend([word2idx[\"<pad>\"]] * (all_max_len - len(temp_text)))\n",
    "    cur_data['text'] = temp_text\n",
    "    test_cls_data.append(cur_data)\n",
    "\n",
    "json.dump(dev_cls_data, open(\"dev_cls_data.json\", \"w\"))\n",
    "json.dump(test_cls_data, open(\"test_cls_data.json\", \"w\"))"
   ]
  },
  {
   "cell_type": "markdown",
   "metadata": {},
   "source": [
    "Task2 "
   ]
  },
  {
   "cell_type": "markdown",
   "metadata": {},
   "source": [
    "Preprocessing"
   ]
  },
  {
   "cell_type": "code",
   "execution_count": 44,
   "metadata": {},
   "outputs": [],
   "source": [
    "import json\n",
    "\n",
    "dev_cls_data = json.load(open(\"dev_cls_data.json\", \"r\"))\n",
    "test_cls_data = json.load(open(\"test_cls_data.json\", \"r\"))\n",
    "\n",
    "\n",
    "train_text_idx = json.load(open(\"temp_data/train_text_idx.json\", \"r\"))\n",
    "evidences_text_idx = json.load(open(\"temp_data/evidences_text_idx.json\", \"r\"))\n",
    "\n",
    "text_max_len = 60\n",
    "evidence_max_len = 100\n",
    "all_max_len = 580\n",
    "retrieval_num = 5\n",
    "\n",
    "id2labels = [\"SUPPORTS\", \"NOT_ENOUGH_INFO\", \"REFUTES\", \"DISPUTED\"]\n",
    "labels2id = {\"SUPPORTS\": 0, \"NOT_ENOUGH_INFO\": 1, \"REFUTES\": 2, \"DISPUTED\": 3}\n",
    "\n",
    "train_negative_evidences = json.load(open(\"pred_train_negative_evidences.json\", \"r\"))\n"
   ]
  },
  {
   "cell_type": "code",
   "execution_count": 45,
   "metadata": {},
   "outputs": [],
   "source": [
    "from torch.utils.data import Dataset\n",
    "import random\n",
    "\n",
    "class TrainDataset(Dataset):\n",
    "    def __init__(self, text_data, evidence_data, positive_evidences, negative_evidences, cls_label, cls_idx, sep_idx, pad_idx, evidence_num=5):\n",
    "        self.text_data = text_data\n",
    "        self.evidence_data = evidence_data\n",
    "        \n",
    "        self.negative_evidences = negative_evidences\n",
    "\n",
    "        self.cls_label = [labels2id[i] for i in cls_label]\n",
    "        self.evidence_num = evidence_num\n",
    "        self.positive_evidences = positive_evidences\n",
    "        \n",
    "        self.cls_idx = cls_idx\n",
    "        self.sep_idx = sep_idx\n",
    "        self.pad_idx = pad_idx\n",
    "        \n",
    "    def __len__(self):\n",
    "        return len(self.text_data)\n",
    "\n",
    "    def __getitem__(self, idx):\n",
    "        return [self.text_data[idx][:text_max_len], self.positive_evidences[idx], self.negative_evidences[idx], self.cls_label[idx]]\n",
    "\n",
    "    def collate_fn(self, batch):\n",
    "        queries = []\n",
    "        queries_pos = []\n",
    "        labels = []\n",
    "        \n",
    "        for i, j, h, k in batch:\n",
    "            temp_text = [self.cls_idx]\n",
    "            temp_text.extend(i)\n",
    "            for p in j:\n",
    "                temp_text.append(self.sep_idx)\n",
    "                temp_text.extend(self.evidence_data[p][:evidence_max_len])\n",
    "            if self.evidence_num > len(j):\n",
    "                n = random.sample(h, self.evidence_num - len(j))\n",
    "                for p in n:\n",
    "                    temp_text.append(self.sep_idx)\n",
    "                    temp_text.extend(self.evidence_data[p][:evidence_max_len])\n",
    "            temp_text.append(self.sep_idx)\n",
    "            if len(temp_text) < all_max_len:\n",
    "                temp_text.extend([self.pad_idx] * (all_max_len - len(temp_text)))\n",
    "                \n",
    "            queries.append(temp_text)\n",
    "            queries_pos.append(list(range(all_max_len)))\n",
    "            labels.append(k)    \n",
    "\n",
    "        batch_encoding = {}\n",
    "        batch_encoding[\"queries\"] = torch.LongTensor(queries)        \n",
    "        batch_encoding[\"queries_pos\"] = torch.LongTensor(queries_pos)\n",
    "        batch_encoding[\"labels\"] = torch.LongTensor(labels)\n",
    "        \n",
    "        return batch_encoding"
   ]
  },
  {
   "cell_type": "code",
   "execution_count": 46,
   "metadata": {},
   "outputs": [],
   "source": [
    "dev_inputs = [i['text'] for i in dev_cls_data]\n",
    "test_inputs = [i['text'] for i in test_cls_data]\n",
    "dev_outputs = [labels2id[i[\"label\"]] for i in dev_cls_data]"
   ]
  },
  {
   "cell_type": "code",
   "execution_count": 47,
   "metadata": {},
   "outputs": [],
   "source": [
    "train_set = TrainDataset(train_text_idx, evidences_text_idx, train_claim_evidences, train_negative_evidences, train_claim_label, word2idx[\"<cls>\"], word2idx[\"<sep>\"], word2idx[\"<pad>\"], evidence_num=retrieval_num)\n",
    "from torch.utils.data import DataLoader\n",
    "dataloader = DataLoader(train_set, batch_size=10, shuffle=True, num_workers=0, collate_fn=train_set.collate_fn)"
   ]
  },
  {
   "cell_type": "code",
   "execution_count": 48,
   "metadata": {},
   "outputs": [
    {
     "name": "stdout",
     "output_type": "stream",
     "text": [
      "Counter({'SUPPORTS': 519, 'NOT_ENOUGH_INFO': 386, 'REFUTES': 199, 'DISPUTED': 124})\n"
     ]
    }
   ],
   "source": [
    "from collections import Counter\n",
    "print(Counter(train_claim_label))"
   ]
  },
  {
   "cell_type": "code",
   "execution_count": 49,
   "metadata": {},
   "outputs": [],
   "source": [
    "# from workshop\n",
    "import torch\n",
    "import torch.nn as nn\n",
    "import torch.optim as optim\n",
    "import torch.nn.functional as F\n",
    "\n",
    "class CLS(nn.Module):\n",
    "    def __init__(self, vocab_emb, embed_dim, hidden_size, output_size, nhead, num_layers, max_position=all_max_len):\n",
    "        super(CLS, self).__init__()\n",
    "\n",
    "        self.hidden_size = hidden_size\n",
    "        self.embedding = nn.Embedding(vocab_emb, embed_dim)\n",
    "        self.pos_embedding = nn.Embedding(max_position, embed_dim)\n",
    "        \n",
    "        self.encoder = nn.LSTM(embed_dim, hidden_size, num_layers=2)\n",
    "        self.hidden_layer = nn.Linear(hidden_size, hidden_size // 2)\n",
    "        self.cls = nn.Linear(hidden_size // 2, output_size)\n",
    "        self.dropout = nn.Dropout(0.1)\n",
    "\n",
    "    def forward(self, text_data, position_text):\n",
    "        mask_ = text_data == 0\n",
    "        text_x = self.embedding(text_data) + self.pos_embedding(position_text) * 0.01\n",
    "        x_encoded,_ = self.encoder(text_x)\n",
    "        x_cls = x_encoded[:, 0, :]\n",
    "        x_hidden = F.tanh(self.hidden_layer(x_cls))\n",
    "        self.dropout(x_hidden)\n",
    "        cls_res = self.cls(x_hidden)\n",
    "        return cls_res\n"
   ]
  },
  {
   "cell_type": "code",
   "execution_count": 50,
   "metadata": {},
   "outputs": [
    {
     "data": {
      "text/plain": [
       "CLS(\n",
       "  (embedding): Embedding(7075, 512)\n",
       "  (pos_embedding): Embedding(700, 512)\n",
       "  (encoder): LSTM(512, 512, num_layers=2)\n",
       "  (hidden_layer): Linear(in_features=512, out_features=256, bias=True)\n",
       "  (cls): Linear(in_features=256, out_features=4, bias=True)\n",
       "  (dropout): Dropout(p=0.1, inplace=False)\n",
       ")"
      ]
     },
     "execution_count": 50,
     "metadata": {},
     "output_type": "execute_result"
    }
   ],
   "source": [
    "cls_model = CLS(vocab_emb=len(idx2word), embed_dim=512, hidden_size=512, output_size=4, nhead=8, num_layers=6, max_position=700)\n",
    "cls_model.cuda()"
   ]
  },
  {
   "cell_type": "code",
   "execution_count": 51,
   "metadata": {},
   "outputs": [],
   "source": [
    "torch.manual_seed(42)\n",
    "torch.cuda.manual_seed_all(42)\n",
    "random.seed(42)\n",
    "\n",
    "encoder_optimizer = optim.Adam(cls_model.parameters())\n",
    "max_lr = 1e-3\n",
    "for param_group in encoder_optimizer.param_groups:\n",
    "    param_group['lr'] = max_lr\n",
    "accumulate_step = 2\n",
    "grad_norm = 4\n",
    "warmup_steps = 300\n",
    "report_freq = 10\n",
    "eval_interval = 50\n",
    "save_dir = \"model_ckpts\""
   ]
  },
  {
   "cell_type": "code",
   "execution_count": 52,
   "metadata": {},
   "outputs": [],
   "source": [
    "def validate(dev_input, dev_output, cls_model_):\n",
    "    # get evidence embeddings\n",
    "    start_idx = 0\n",
    "    batch_size = 50\n",
    "    pos_len = len(dev_input[0])\n",
    "    cls_model.eval()\n",
    "\n",
    "    acc = []\n",
    "    correct_count = 0\n",
    "    while start_idx < len(dev_output):\n",
    "        end_idx = min(start_idx + batch_size, len(dev_output))\n",
    "        \n",
    "        cur_input = torch.LongTensor(dev_input[start_idx:end_idx]).view(-1, pos_len).cuda()\n",
    "        cur_pos = torch.LongTensor([list(range(pos_len)) for _ in range(end_idx - start_idx)]).cuda()\n",
    "\n",
    "        cur_res = cls_model_(cur_input, cur_pos)\n",
    "        cur_res = torch.argmax(cur_res, 1).tolist()\n",
    "        \n",
    "        del cur_input, cur_pos\n",
    "        \n",
    "        for i, j in zip(cur_res, dev_output[start_idx: end_idx]):\n",
    "            if i == j:\n",
    "                correct_count += 1\n",
    "        \n",
    "        start_idx = end_idx\n",
    "    acc = correct_count / len(dev_output)\n",
    "    print(\"\\n\")\n",
    "    print(\"Classification Accuracy: %.3f\" % acc)\n",
    "    print(\"\\n\")\n",
    "    \n",
    "    cls_model.train()\n",
    "    return acc"
   ]
  },
  {
   "cell_type": "code",
   "execution_count": 53,
   "metadata": {},
   "outputs": [
    {
     "name": "stdout",
     "output_type": "stream",
     "text": [
      "env: WANDB_NOTEBOOK_NAME=MelMoxue_NLP_CLS.ipynb\n"
     ]
    }
   ],
   "source": [
    "%env WANDB_NOTEBOOK_NAME MelMoxue_NLP_CLS.ipynb"
   ]
  },
  {
   "cell_type": "code",
   "execution_count": 54,
   "metadata": {},
   "outputs": [
    {
     "data": {
      "text/html": [
       "Changes to your `wandb` environment variables will be ignored because your `wandb` session has already started. For more information on how to modify your settings with `wandb.init()` arguments, please refer to <a href='https://wandb.me/wandb-init' target=\"_blank\">the W&B docs</a>."
      ],
      "text/plain": [
       "<IPython.core.display.HTML object>"
      ]
     },
     "metadata": {},
     "output_type": "display_data"
    },
    {
     "data": {
      "text/html": [
       "Finishing last run (ID:jwsj90e0) before initializing another..."
      ],
      "text/plain": [
       "<IPython.core.display.HTML object>"
      ]
     },
     "metadata": {},
     "output_type": "display_data"
    },
    {
     "data": {
      "text/html": [
       "<style>\n",
       "    table.wandb td:nth-child(1) { padding: 0 10px; text-align: left ; width: auto;} td:nth-child(2) {text-align: left ; width: 100%}\n",
       "    .wandb-row { display: flex; flex-direction: row; flex-wrap: wrap; justify-content: flex-start; width: 100% }\n",
       "    .wandb-col { display: flex; flex-direction: column; flex-basis: 100%; flex: 1; padding: 10px; }\n",
       "    </style>\n",
       "<div class=\"wandb-row\"><div class=\"wandb-col\"><h3>Run history:</h3><br/><table class=\"wandb\"><tr><td>f_score</td><td>▁▁▁▁▁▁▁▁▁▁▁▁</td></tr><tr><td>learning_rate</td><td>▁▁▂▂▃▄▄▅▅▆▇▇██████▇▇▇▇▇▇▇▇▇▆▆▆▆▆▆▆▆▆▅▅▅▅</td></tr></table><br/></div><div class=\"wandb-col\"><h3>Run summary:</h3><br/><table class=\"wandb\"><tr><td>f_score</td><td>0.05151</td></tr><tr><td>learning_rate</td><td>0.0059</td></tr><tr><td>loss</td><td>nan</td></tr></table><br/></div></div>"
      ],
      "text/plain": [
       "<IPython.core.display.HTML object>"
      ]
     },
     "metadata": {},
     "output_type": "display_data"
    },
    {
     "data": {
      "text/html": [
       " View run <strong style=\"color:#cdcd00\">dpr</strong> at: <a href='https://wandb.ai/nlp_project_5pmteam7/nlp/runs/jwsj90e0' target=\"_blank\">https://wandb.ai/nlp_project_5pmteam7/nlp/runs/jwsj90e0</a><br/> View project at: <a href='https://wandb.ai/nlp_project_5pmteam7/nlp' target=\"_blank\">https://wandb.ai/nlp_project_5pmteam7/nlp</a><br/>Synced 6 W&B file(s), 0 media file(s), 0 artifact file(s) and 0 other file(s)"
      ],
      "text/plain": [
       "<IPython.core.display.HTML object>"
      ]
     },
     "metadata": {},
     "output_type": "display_data"
    },
    {
     "data": {
      "text/html": [
       "Find logs at: <code>.\\wandb\\run-20240523_202103-jwsj90e0\\logs</code>"
      ],
      "text/plain": [
       "<IPython.core.display.HTML object>"
      ]
     },
     "metadata": {},
     "output_type": "display_data"
    },
    {
     "data": {
      "text/html": [
       "Successfully finished last run (ID:jwsj90e0). Initializing new run:<br/>"
      ],
      "text/plain": [
       "<IPython.core.display.HTML object>"
      ]
     },
     "metadata": {},
     "output_type": "display_data"
    },
    {
     "data": {
      "text/html": [
       "Tracking run with wandb version 0.17.0"
      ],
      "text/plain": [
       "<IPython.core.display.HTML object>"
      ]
     },
     "metadata": {},
     "output_type": "display_data"
    },
    {
     "data": {
      "text/html": [
       "Run data is saved locally in <code>c:\\Users\\ABC\\Desktop\\学习\\NLP\\project nlp\\COMP90042-NLP-Project-Team07\\wandb\\run-20240523_202154-yuer3ch6</code>"
      ],
      "text/plain": [
       "<IPython.core.display.HTML object>"
      ]
     },
     "metadata": {},
     "output_type": "display_data"
    },
    {
     "data": {
      "text/html": [
       "Syncing run <strong><a href='https://wandb.ai/nlp_project_5pmteam7/nlp/runs/yuer3ch6' target=\"_blank\">cls</a></strong> to <a href='https://wandb.ai/nlp_project_5pmteam7/nlp' target=\"_blank\">Weights & Biases</a> (<a href='https://wandb.me/run' target=\"_blank\">docs</a>)<br/>"
      ],
      "text/plain": [
       "<IPython.core.display.HTML object>"
      ]
     },
     "metadata": {},
     "output_type": "display_data"
    },
    {
     "data": {
      "text/html": [
       " View project at <a href='https://wandb.ai/nlp_project_5pmteam7/nlp' target=\"_blank\">https://wandb.ai/nlp_project_5pmteam7/nlp</a>"
      ],
      "text/plain": [
       "<IPython.core.display.HTML object>"
      ]
     },
     "metadata": {},
     "output_type": "display_data"
    },
    {
     "data": {
      "text/html": [
       " View run at <a href='https://wandb.ai/nlp_project_5pmteam7/nlp/runs/yuer3ch6' target=\"_blank\">https://wandb.ai/nlp_project_5pmteam7/nlp/runs/yuer3ch6</a>"
      ],
      "text/plain": [
       "<IPython.core.display.HTML object>"
      ]
     },
     "metadata": {},
     "output_type": "display_data"
    },
    {
     "name": "stderr",
     "output_type": "stream",
     "text": [
      " 35%|███▍      | 43/123 [00:00<00:00, 103.52it/s]"
     ]
    },
    {
     "name": "stdout",
     "output_type": "stream",
     "text": [
      "\n",
      "\n",
      "epoch: 1, epoch_step: 10, avg loss: 1.432436\n",
      "learning rate: 0.000033\n",
      "\n",
      "\n",
      "\n",
      "\n",
      "epoch: 1, epoch_step: 20, avg loss: 1.383202\n",
      "learning rate: 0.000067\n",
      "\n",
      "\n"
     ]
    },
    {
     "name": "stderr",
     "output_type": "stream",
     "text": [
      " 69%|██████▉   | 85/123 [00:00<00:00, 127.77it/s]"
     ]
    },
    {
     "name": "stdout",
     "output_type": "stream",
     "text": [
      "\n",
      "\n",
      "epoch: 1, epoch_step: 30, avg loss: 1.387958\n",
      "learning rate: 0.000100\n",
      "\n",
      "\n",
      "\n",
      "\n",
      "epoch: 1, epoch_step: 40, avg loss: 1.381224\n",
      "learning rate: 0.000133\n",
      "\n",
      "\n"
     ]
    },
    {
     "name": "stderr",
     "output_type": "stream",
     "text": [
      " 81%|████████▏ | 100/123 [00:01<00:00, 106.52it/s]"
     ]
    },
    {
     "name": "stdout",
     "output_type": "stream",
     "text": [
      "\n",
      "\n",
      "epoch: 1, epoch_step: 50, avg loss: 1.384781\n",
      "learning rate: 0.000167\n",
      "\n",
      "\n",
      "\n",
      "Evaluate:\n",
      "\n",
      "\n",
      "\n",
      "Classification Accuracy: 0.442\n",
      "\n",
      "\n",
      "\n",
      "\n",
      "best val loss - epoch: 0, epoch_step: 50\n",
      "maximum_f_score 0.44155844155844154\n",
      "\n",
      "\n"
     ]
    },
    {
     "name": "stderr",
     "output_type": "stream",
     "text": [
      "100%|██████████| 123/123 [00:01<00:00, 104.80it/s]\n"
     ]
    },
    {
     "name": "stdout",
     "output_type": "stream",
     "text": [
      "\n",
      "\n",
      "epoch: 1, epoch_step: 60, avg loss: 1.408185\n",
      "learning rate: 0.000200\n",
      "\n",
      "\n"
     ]
    },
    {
     "name": "stderr",
     "output_type": "stream",
     "text": [
      " 12%|█▏        | 15/123 [00:00<00:00, 146.12it/s]"
     ]
    },
    {
     "name": "stdout",
     "output_type": "stream",
     "text": [
      "\n",
      "\n",
      "epoch: 2, epoch_step: 9, avg loss: 1.387671\n",
      "learning rate: 0.000233\n",
      "\n",
      "\n"
     ]
    },
    {
     "name": "stderr",
     "output_type": "stream",
     "text": [
      " 24%|██▍       | 30/123 [00:00<00:00, 144.47it/s]"
     ]
    },
    {
     "name": "stdout",
     "output_type": "stream",
     "text": [
      "\n",
      "\n",
      "epoch: 2, epoch_step: 19, avg loss: 1.387340\n",
      "learning rate: 0.000267\n",
      "\n",
      "\n"
     ]
    },
    {
     "name": "stderr",
     "output_type": "stream",
     "text": [
      " 49%|████▉     | 60/123 [00:00<00:00, 142.05it/s]"
     ]
    },
    {
     "name": "stdout",
     "output_type": "stream",
     "text": [
      "\n",
      "\n",
      "epoch: 2, epoch_step: 29, avg loss: 1.387748\n",
      "learning rate: 0.000300\n",
      "\n",
      "\n"
     ]
    },
    {
     "name": "stderr",
     "output_type": "stream",
     "text": [
      " 61%|██████    | 75/123 [00:00<00:00, 142.09it/s]"
     ]
    },
    {
     "name": "stdout",
     "output_type": "stream",
     "text": [
      "\n",
      "\n",
      "epoch: 2, epoch_step: 39, avg loss: 1.384078\n",
      "learning rate: 0.000333\n",
      "\n",
      "\n",
      "\n",
      "Evaluate:\n",
      "\n",
      "\n",
      "\n",
      "Classification Accuracy: 0.266\n",
      "\n",
      "\n"
     ]
    },
    {
     "name": "stderr",
     "output_type": "stream",
     "text": [
      " 73%|███████▎  | 90/123 [00:00<00:00, 128.08it/s]"
     ]
    },
    {
     "name": "stdout",
     "output_type": "stream",
     "text": [
      "\n"
     ]
    },
    {
     "name": "stderr",
     "output_type": "stream",
     "text": [
      "100%|██████████| 123/123 [00:00<00:00, 136.54it/s]\n"
     ]
    },
    {
     "name": "stdout",
     "output_type": "stream",
     "text": [
      "\n",
      "epoch: 2, epoch_step: 49, avg loss: 1.383670\n",
      "learning rate: 0.000367\n",
      "\n",
      "\n",
      "\n",
      "\n",
      "epoch: 2, epoch_step: 59, avg loss: 1.389684\n",
      "learning rate: 0.000400\n",
      "\n",
      "\n"
     ]
    },
    {
     "name": "stderr",
     "output_type": "stream",
     "text": [
      " 24%|██▍       | 30/123 [00:00<00:00, 143.90it/s]"
     ]
    },
    {
     "name": "stdout",
     "output_type": "stream",
     "text": [
      "\n",
      "\n",
      "epoch: 3, epoch_step: 7, avg loss: 1.378068\n",
      "learning rate: 0.000433\n",
      "\n",
      "\n",
      "\n",
      "\n",
      "epoch: 3, epoch_step: 17, avg loss: 1.384330\n",
      "learning rate: 0.000467\n",
      "\n",
      "\n"
     ]
    },
    {
     "name": "stderr",
     "output_type": "stream",
     "text": [
      " 61%|██████    | 75/123 [00:00<00:00, 131.91it/s]"
     ]
    },
    {
     "name": "stdout",
     "output_type": "stream",
     "text": [
      "\n",
      "\n",
      "epoch: 3, epoch_step: 27, avg loss: 1.387607\n",
      "learning rate: 0.000500\n",
      "\n",
      "\n",
      "\n",
      "Evaluate:\n",
      "\n",
      "\n",
      "\n",
      "Classification Accuracy: 0.442\n",
      "\n",
      "\n",
      "\n",
      "\n",
      "epoch: 3, epoch_step: 37, avg loss: 1.389933\n",
      "learning rate: 0.000533\n",
      "\n",
      "\n"
     ]
    },
    {
     "name": "stderr",
     "output_type": "stream",
     "text": [
      " 98%|█████████▊| 120/123 [00:00<00:00, 138.57it/s]"
     ]
    },
    {
     "name": "stdout",
     "output_type": "stream",
     "text": [
      "\n",
      "\n",
      "epoch: 3, epoch_step: 47, avg loss: 1.389113\n",
      "learning rate: 0.000567\n",
      "\n",
      "\n",
      "\n",
      "\n",
      "epoch: 3, epoch_step: 57, avg loss: 1.380768\n",
      "learning rate: 0.000600\n",
      "\n",
      "\n"
     ]
    },
    {
     "name": "stderr",
     "output_type": "stream",
     "text": [
      "100%|██████████| 123/123 [00:00<00:00, 137.38it/s]\n",
      " 24%|██▍       | 30/123 [00:00<00:00, 143.04it/s]"
     ]
    },
    {
     "name": "stdout",
     "output_type": "stream",
     "text": [
      "\n",
      "\n",
      "epoch: 4, epoch_step: 6, avg loss: 1.392083\n",
      "learning rate: 0.000633\n",
      "\n",
      "\n",
      "\n",
      "\n",
      "epoch: 4, epoch_step: 16, avg loss: 1.378137\n",
      "learning rate: 0.000667\n",
      "\n",
      "\n",
      "\n",
      "Evaluate:\n",
      "\n",
      "\n",
      "\n",
      "Classification Accuracy: 0.266\n",
      "\n",
      "\n"
     ]
    },
    {
     "name": "stderr",
     "output_type": "stream",
     "text": [
      " 61%|██████    | 75/123 [00:00<00:00, 134.63it/s]"
     ]
    },
    {
     "name": "stdout",
     "output_type": "stream",
     "text": [
      "\n",
      "\n",
      "epoch: 4, epoch_step: 26, avg loss: 1.382424\n",
      "learning rate: 0.000700\n",
      "\n",
      "\n",
      "\n",
      "\n",
      "epoch: 4, epoch_step: 36, avg loss: 1.390576\n",
      "learning rate: 0.000733\n",
      "\n",
      "\n"
     ]
    },
    {
     "name": "stderr",
     "output_type": "stream",
     "text": [
      " 85%|████████▌ | 105/123 [00:00<00:00, 139.21it/s]"
     ]
    },
    {
     "name": "stdout",
     "output_type": "stream",
     "text": [
      "\n",
      "\n",
      "epoch: 4, epoch_step: 46, avg loss: 1.383170\n",
      "learning rate: 0.000767\n",
      "\n",
      "\n",
      "\n",
      "\n",
      "epoch: 4, epoch_step: 56, avg loss: 1.387977\n",
      "learning rate: 0.000800\n",
      "\n",
      "\n"
     ]
    },
    {
     "name": "stderr",
     "output_type": "stream",
     "text": [
      "100%|██████████| 123/123 [00:00<00:00, 137.17it/s]\n",
      " 20%|██        | 25/123 [00:00<00:00, 123.90it/s]"
     ]
    },
    {
     "name": "stdout",
     "output_type": "stream",
     "text": [
      "\n",
      "\n",
      "epoch: 5, epoch_step: 4, avg loss: 1.388170\n",
      "learning rate: 0.000833\n",
      "\n",
      "\n",
      "\n",
      "Evaluate:\n",
      "\n",
      "\n",
      "\n",
      "Classification Accuracy: 0.442\n",
      "\n",
      "\n",
      "\n",
      "\n",
      "epoch: 5, epoch_step: 14, avg loss: 1.381160\n",
      "learning rate: 0.000867\n",
      "\n",
      "\n"
     ]
    },
    {
     "name": "stderr",
     "output_type": "stream",
     "text": [
      " 57%|█████▋    | 70/123 [00:00<00:00, 137.55it/s]"
     ]
    },
    {
     "name": "stdout",
     "output_type": "stream",
     "text": [
      "\n",
      "\n",
      "epoch: 5, epoch_step: 24, avg loss: 1.381928\n",
      "learning rate: 0.000900\n",
      "\n",
      "\n",
      "\n",
      "\n",
      "epoch: 5, epoch_step: 34, avg loss: 1.391425\n",
      "learning rate: 0.000933\n",
      "\n",
      "\n"
     ]
    },
    {
     "name": "stderr",
     "output_type": "stream",
     "text": [
      " 81%|████████▏ | 100/123 [00:00<00:00, 139.88it/s]"
     ]
    },
    {
     "name": "stdout",
     "output_type": "stream",
     "text": [
      "\n",
      "\n",
      "epoch: 5, epoch_step: 44, avg loss: 1.377798\n",
      "learning rate: 0.000967\n",
      "\n",
      "\n",
      "\n",
      "\n",
      "epoch: 5, epoch_step: 54, avg loss: 1.393120\n",
      "learning rate: 0.001000\n",
      "\n",
      "\n",
      "\n",
      "Evaluate:\n",
      "\n",
      "\n",
      "\n",
      "Classification Accuracy: 0.266\n",
      "\n",
      "\n"
     ]
    },
    {
     "name": "stderr",
     "output_type": "stream",
     "text": [
      "100%|██████████| 123/123 [00:00<00:00, 131.76it/s]\n"
     ]
    }
   ],
   "source": [
    "# start training\n",
    "import wandb\n",
    "import os\n",
    "wandb.init(project=\"nlp\", name=\"cls\")\n",
    "\n",
    "from tqdm import tqdm\n",
    "import numpy as np\n",
    "\n",
    "encoder_optimizer.zero_grad()\n",
    "step_cnt = 0\n",
    "all_step_cnt = 0\n",
    "avg_loss = 0\n",
    "maximum_f_score = 0\n",
    "ce_fn = nn.CrossEntropyLoss(torch.FloatTensor([0.2, 0.3, 0.5, 1.]).cuda())\n",
    "\n",
    "for epoch in range(5): \n",
    "    epoch_step = 0\n",
    "\n",
    "    for (i, batch) in enumerate(tqdm(dataloader)):\n",
    "        \n",
    "        step_cnt += 1\n",
    "        \n",
    "        # forward pass\n",
    "            \n",
    "        cur_res = cls_model(batch[\"queries\"].cuda(), batch[\"queries_pos\"].cuda())\n",
    "\n",
    "        loss = ce_fn(cur_res, batch[\"labels\"].cuda())\n",
    "        loss = loss / accumulate_step\n",
    "        loss.backward()\n",
    "\n",
    "        avg_loss += loss.item()\n",
    "        if step_cnt == accumulate_step:\n",
    "            # updating\n",
    "            if grad_norm > 0:\n",
    "                nn.utils.clip_grad_norm_(cls_model.parameters(), grad_norm)\n",
    "\n",
    "            step_cnt = 0\n",
    "            epoch_step += 1\n",
    "            all_step_cnt += 1\n",
    "            \n",
    "            # adjust learning rate\n",
    "            if all_step_cnt <= warmup_steps:\n",
    "                lr = all_step_cnt * (max_lr - 2e-8) / warmup_steps + 2e-8\n",
    "            else:\n",
    "                lr = max_lr - (all_step_cnt - warmup_steps) * 1e-6\n",
    "                \n",
    "            encoder_optimizer.step()\n",
    "            encoder_optimizer.zero_grad()\n",
    "        \n",
    "        if all_step_cnt % report_freq == 0 and step_cnt == 0:\n",
    "            if all_step_cnt <= warmup_steps:\n",
    "                lr = all_step_cnt * (max_lr - 2e-8) / warmup_steps + 2e-8\n",
    "            else:\n",
    "                lr = max_lr - (all_step_cnt - warmup_steps) * 1e-6\n",
    "\n",
    "            wandb.log({\"learning_rate\": lr}, step=all_step_cnt)\n",
    "            wandb.log({\"loss\": avg_loss / report_freq}, step=all_step_cnt)\n",
    "            \n",
    "            # report stats\n",
    "            print(\"\\n\")\n",
    "            print(\"epoch: %d, epoch_step: %d, avg loss: %.6f\" % (epoch + 1, epoch_step, avg_loss / report_freq))\n",
    "            print(f\"learning rate: {lr:.6f}\")\n",
    "            print(\"\\n\")\n",
    "\n",
    "            avg_loss = 0\n",
    "        del loss, cur_res\n",
    "\n",
    "        if all_step_cnt % eval_interval == 0 and all_step_cnt != 0 and step_cnt == 0:\n",
    "            # evaluate the model as a scorer\n",
    "            print(\"\\nEvaluate:\\n\")\n",
    "            \n",
    "            f_score = validate(dev_inputs, dev_outputs, cls_model)\n",
    "            wandb.log({\"acc\": f_score}, step=all_step_cnt)\n",
    "\n",
    "            if f_score > maximum_f_score:\n",
    "                maximum_f_score = f_score\n",
    "                torch.save(cls_model.state_dict(), os.path.join(save_dir, \"best_cls_ckpt.bin\"))\n",
    "                # torch.save(last_evidence_embeddings, os.path.join(save_dir, \"evidence_embeddings\"))\n",
    "                print(\"\\n\")\n",
    "                print(\"best val loss - epoch: %d, epoch_step: %d\" % (epoch, epoch_step))\n",
    "                print(\"maximum_f_score\", f_score)\n",
    "                print(\"\\n\")"
   ]
  },
  {
   "cell_type": "code",
   "execution_count": 55,
   "metadata": {},
   "outputs": [],
   "source": [
    "def predict(dev_input, cls_model_):\n",
    "    # get evidence embeddings\n",
    "    start_idx = 0\n",
    "    batch_size = 50\n",
    "    pos_len = len(dev_input[0])\n",
    "    cls_model.eval()\n",
    "\n",
    "    cls_res = []\n",
    "    correct_count = 0\n",
    "    while start_idx < len(dev_input):\n",
    "        end_idx = min(start_idx + batch_size, len(dev_input))\n",
    "        \n",
    "        cur_input = torch.LongTensor(dev_input[start_idx:end_idx]).view(-1, pos_len).cuda()\n",
    "        cur_pos = torch.LongTensor([list(range(pos_len)) for _ in range(end_idx - start_idx)]).cuda()\n",
    "\n",
    "        cur_res = cls_model_(cur_input, cur_pos)\n",
    "        cur_res = torch.argmax(cur_res, 1).tolist()\n",
    "        \n",
    "        del cur_input, cur_pos\n",
    "        \n",
    "        cls_res.extend(cur_res)\n",
    "        \n",
    "        start_idx = end_idx\n",
    "\n",
    "    return cls_res"
   ]
  },
  {
   "cell_type": "code",
   "execution_count": 56,
   "metadata": {},
   "outputs": [],
   "source": [
    "torch.cuda.empty_cache()"
   ]
  },
  {
   "cell_type": "code",
   "execution_count": 57,
   "metadata": {},
   "outputs": [],
   "source": [
    "import os\n",
    "cls_model.load_state_dict(torch.load(os.path.join(save_dir, \"best_cls_ckpt.bin\")))\n",
    "\n",
    "dev_classes = predict(dev_inputs, cls_model)\n",
    "test_classes = predict(test_inputs, cls_model)"
   ]
  },
  {
   "cell_type": "code",
   "execution_count": 58,
   "metadata": {},
   "outputs": [],
   "source": [
    "pred_dev_claims = json.load(open(\"data/dev_predict.json\", \"r\"))\n",
    "pred_test_claims = json.load(open(\"data/test-claims-unlabelled.json\", \"r\"))\n",
    "\n",
    "for i, j in zip(dev_claim_id, dev_classes):\n",
    "    pred_dev_claims[i]['claim_label'] = id2labels[j]\n",
    "\n",
    "for i, j in zip(test_claim_id, test_classes):\n",
    "    pred_test_claims[i]['claim_label'] = id2labels[j]\n",
    "    "
   ]
  },
  {
   "cell_type": "code",
   "execution_count": 59,
   "metadata": {},
   "outputs": [],
   "source": [
    "json.dump(pred_dev_claims, open(\"data/dev_predict.json\", \"w\"))\n",
    "json.dump(pred_test_claims, open(\"data/test-claims-unlabelled.json\", \"w\"))"
   ]
  },
  {
   "cell_type": "code",
   "execution_count": 60,
   "metadata": {},
   "outputs": [
    {
     "name": "stdout",
     "output_type": "stream",
     "text": [
      "Counter({0: 154})\n"
     ]
    }
   ],
   "source": [
    "from collections import Counter\n",
    "print(Counter(dev_classes))"
   ]
  },
  {
   "cell_type": "code",
   "execution_count": 61,
   "metadata": {},
   "outputs": [
    {
     "name": "stdout",
     "output_type": "stream",
     "text": [
      "Counter({0: 153})\n"
     ]
    }
   ],
   "source": [
    "print(Counter(test_classes))"
   ]
  },
  {
   "cell_type": "code",
   "execution_count": 62,
   "metadata": {},
   "outputs": [
    {
     "name": "stdout",
     "output_type": "stream",
     "text": [
      "Evidence Retrieval F-score (F): 0.0476911976911977\n",
      "Claim Classification Accuracy (A): 0.44155844155844154\n",
      "Harmonic Mean of F and A: 0.08608468658608757\n"
     ]
    }
   ],
   "source": [
    "import subprocess\n",
    "\n",
    "output = subprocess.check_output(\"python eval.py --predictions data/dev_predict.json --groundtruth data/dev-claims.json\", shell=True)\n",
    "output_str = output.decode('utf-8')\n",
    "\n",
    "# Split the output into lines\n",
    "output_lines = output_str.strip().split('\\n')\n",
    "\n",
    "# Format the output\n",
    "formatted_lines = []\n",
    "for line in output_lines:\n",
    "    metric, value = line.split('=')\n",
    "    metric = metric.strip()\n",
    "    value = value.strip()\n",
    "    formatted_line = f\"{metric}: {value}\"\n",
    "    formatted_lines.append(formatted_line)\n",
    "\n",
    "# Join the formatted lines into a single string\n",
    "formatted_output = '\\n'.join(formatted_lines)\n",
    "print(formatted_output)"
   ]
  },
  {
   "cell_type": "markdown",
   "metadata": {
    "id": "mefSOe8eTmGP"
   },
   "source": [
    "## Object Oriented Programming codes here\n",
    "\n",
    "*You can use multiple code snippets. Just add more if needed*"
   ]
  }
 ],
 "metadata": {
  "colab": {
   "provenance": [],
   "toc_visible": true
  },
  "kernelspec": {
   "display_name": "Python 3 (ipykernel)",
   "language": "python",
   "name": "python3"
  },
  "language_info": {
   "codemirror_mode": {
    "name": "ipython",
    "version": 3
   },
   "file_extension": ".py",
   "mimetype": "text/x-python",
   "name": "python",
   "nbconvert_exporter": "python",
   "pygments_lexer": "ipython3",
   "version": "3.8.19"
  }
 },
 "nbformat": 4,
 "nbformat_minor": 4
}
