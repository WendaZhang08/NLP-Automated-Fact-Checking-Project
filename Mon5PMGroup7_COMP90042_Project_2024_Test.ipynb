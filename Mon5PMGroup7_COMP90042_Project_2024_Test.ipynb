{
  "cells": [
    {
      "cell_type": "markdown",
      "metadata": {
        "id": "32yCsRUo8H33"
      },
      "source": [
        "# 2024 COMP90042 Project\n",
        "*Make sure you change the file name with your group id.*"
      ]
    },
    {
      "cell_type": "markdown",
      "metadata": {
        "id": "XCybYoGz8YWQ"
      },
      "source": [
        "# Readme\n",
        "*If there is something to be noted for the marker, please mention here.*\n",
        "\n",
        "*If you are planning to implement a program with Object Oriented Programming style, please put those the bottom of this ipynb file*"
      ]
    },
    {
      "cell_type": "markdown",
      "metadata": {
        "id": "krRzbuxWhYSm"
      },
      "source": [
        "**We use pytorch, nltk, scikit-learn in this project.**"
      ]
    },
    {
      "cell_type": "code",
      "execution_count": 2,
      "metadata": {
        "colab": {
          "base_uri": "https://localhost:8080/"
        },
        "id": "hckg2zcjsoKf",
        "outputId": "665b2ab0-d12a-4e10-cc37-f13771db99af"
      },
      "outputs": [],
      "source": [
        "# from google.colab import drive\n",
        "# drive.mount('/content/drive')"
      ]
    },
    {
      "cell_type": "markdown",
      "metadata": {},
      "source": [
        "# 0.Importpreparation in advance"
      ]
    },
    {
      "cell_type": "markdown",
      "metadata": {},
      "source": [
        "## import"
      ]
    },
    {
      "cell_type": "code",
      "execution_count": null,
      "metadata": {},
      "outputs": [],
      "source": [
        "import torch\n",
        "import json\n",
        "import nltk\n",
        "import string\n",
        "import re\n",
        "import random\n",
        "import numpy as np\n",
        "import torch\n",
        "import torch.nn as nn\n",
        "import torch.optim as optim\n",
        "import torch.nn.functional as F\n",
        "import random\n",
        "import os\n",
        "import subprocess\n",
        "\n",
        "from sklearn.metrics.pairwise import cosine_similarity\n",
        "from nltk.corpus import stopwords\n",
        "from nltk.tokenize import word_tokenize\n",
        "from collections import Counter\n",
        "from statistics import mean\n",
        "from sklearn.feature_extraction.text import TfidfVectorizer\n",
        "from collections import defaultdict\n",
        "from torch.utils.data import Dataset, DataLoader\n",
        "from tqdm import tqdm\n"
      ]
    },
    {
      "cell_type": "markdown",
      "metadata": {},
      "source": [
        "## test cuda "
      ]
    },
    {
      "cell_type": "code",
      "execution_count": null,
      "metadata": {},
      "outputs": [],
      "source": [
        "print(\"CUDA available:\", torch.cuda.is_available())\n",
        "print(\"Current CUDA device:\", torch.cuda.current_device())\n",
        "print(\"Device count:\", torch.cuda.device_count())\n",
        "print(\"Device name:\", torch.cuda.get_device_name(torch.cuda.current_device()))"
      ]
    },
    {
      "cell_type": "markdown",
      "metadata": {},
      "source": [
        "## read files"
      ]
    },
    {
      "cell_type": "code",
      "execution_count": null,
      "metadata": {},
      "outputs": [],
      "source": [
        "\n",
        "torch.manual_seed(42)\n",
        "torch.cuda.manual_seed_all(42)\n",
        "random.seed(42)\n",
        "\n",
        "nltk.download('stopwords')\n",
        "nltk.download('wordnet')\n",
        "nltk.download('punkt')\n",
        "\n",
        "lemmatizer = nltk.stem.wordnet.WordNetLemmatizer()\n",
        "stopwords = set(stopwords.words('english'))\n",
        "\n",
        "with open('data/train-claims.json', 'r') as input_file:\n",
        "    train_claims = json.load(input_file)\n",
        "\n",
        "# Read in development data (claim)\n",
        "with open('data/dev-claims.json', 'r') as input_file:\n",
        "    dev_claims = json.load(input_file)\n",
        "\n",
        "# Read in test data (claim)\n",
        "with open('data/test-claims-unlabelled.json', 'r') as input_file:\n",
        "    test_claims = json.load(input_file)\n",
        "\n",
        "# Read in evidence data\n",
        "with open('data/evidence.json', 'r') as input_file:\n",
        "    evidences = json.load(input_file)\n",
        "\n",
        "#EDA\n",
        "claim_count = 0\n",
        "evi_count = 0\n",
        "claim_length = []\n",
        "evidence_count = []\n",
        "evidence_length = []\n",
        "labels = []\n",
        "\n",
        "for key,value in train_claims.items():\n",
        "    claim_count+=1\n",
        "    claim_length.append(len(value[\"claim_text\"]))\n",
        "    evidence_count.append(len(value[\"evidences\"]))\n",
        "    evidence_length += [len(evidences[x]) for x in value[\"evidences\"]]\n",
        "    labels.append(value[\"claim_label\"])\n",
        "\n",
        "for key,value in evidences.items():\n",
        "    evi_count+=1\n",
        "\n",
        "print(\"claim count: \",claim_count)\n",
        "print(\"evidence count: \",evi_count)\n",
        "print(\"max claim length: \",max(claim_length))\n",
        "print(\"min claim length: \",min(claim_length))\n",
        "print(\"mean claim length: \",mean(claim_length))\n",
        "print(\"max evidence count: \",max(evidence_count))\n",
        "print(\"min evidence count: \",min(evidence_count))\n",
        "print(\"mean evidence count: \",mean(evidence_count))\n",
        "print(\"max evidence length: \",max(evidence_length))\n",
        "print(\"min evidence length: \",min(evidence_length))\n",
        "print(\"mean evidence length: \",mean(evidence_length))\n",
        "print(Counter(labels))\n",
        "\n",
        "inside = 0\n",
        "outside = 0\n",
        "\n",
        "train_evi_id = []\n",
        "for claim_id,claim_value in train_claims.items():\n",
        "    train_evi_id=train_evi_id+claim_value['evidences']\n",
        "\n",
        "for claim_id,claim_value in dev_claims.items():\n",
        "    test_evi_id=claim_value['evidences']\n",
        "    for e in test_evi_id:\n",
        "        if e in train_evi_id:\n",
        "            inside += 1\n",
        "        else:\n",
        "            outside += 1\n",
        "print(\"Dev evi inside train evi\", inside)\n",
        "print(\"Dev evi outside train evi\", outside)\n",
        "\n",
        "full_evidence_id = list(evidences.keys())\n",
        "full_evidence_text  = list(evidences.values())\n",
        "train_claim_id = list(train_claims.keys())\n",
        "train_claim_text  = [ v[\"claim_text\"] for v in train_claims.values()]\n",
        "print(\"Train claim count: \",len(train_claim_id))"
      ]
    },
    {
      "cell_type": "markdown",
      "metadata": {},
      "source": [
        "# TASK 1:   PRIDICT EVI FOR CLAIM"
      ]
    },
    {
      "cell_type": "markdown",
      "metadata": {
        "id": "6po98qVA8bJD"
      },
      "source": [
        "# 1.DataSet Processing\n",
        "(You can add as many code blocks and text blocks as you need. However, YOU SHOULD NOT MODIFY the section title)"
      ]
    },
    {
      "cell_type": "markdown",
      "metadata": {
        "id": "qvff21Hv8zjk",
        "tags": []
      },
      "source": [
        "## PreProcess for evidence and claims"
      ]
    },
    {
      "cell_type": "markdown",
      "metadata": {
        "id": "bxclURH8hYSn"
      },
      "source": [
        "### preprocessing function"
      ]
    },
    {
      "cell_type": "code",
      "execution_count": 6,
      "metadata": {
        "id": "GvaeShUihYSs"
      },
      "outputs": [],
      "source": [
        "def lemmatize_text(text):\n",
        "    words = nltk.word_tokenize(text)\n",
        "    lemmatized_words = [lemmatizer.lemmatize(word) for word in words]\n",
        "    lemmatized_text = ' '.join(lemmatized_words)\n",
        "    return lemmatized_text\n",
        "\n",
        "def preprocessing_text(text):\n",
        "\n",
        "    # Convert to lowercase\n",
        "    text = text.lower()\n",
        "\n",
        "    # Lemmatize the text\n",
        "    text = lemmatize_text(text)\n",
        "\n",
        "    # Remove leading/trailing whitespaces\n",
        "    text = text.strip()\n",
        "\n",
        "    return text\n",
        "\n",
        "def preprocess_claim_data(claim_data, existed_evidences_id=None):\n",
        "    claim_data_text = []\n",
        "    claim_data_id = []\n",
        "    claim_data_label = []\n",
        "    claim_evidences = []\n",
        "    for key in claim_data.keys():\n",
        "        claim_data[key][\"claim_text\"] = preprocessing_text(claim_data[key][\"claim_text\"])\n",
        "        claim_data_text.append(claim_data[key][\"claim_text\"])\n",
        "        claim_data_id.append(key)\n",
        "        if \"claim_label\" in claim_data[key]:\n",
        "            claim_data_label.append(claim_data[key][\"claim_label\"])\n",
        "        else:\n",
        "            claim_data_label.append(None)\n",
        "        if existed_evidences_id and \"evidences\" in claim_data[key]:\n",
        "            valid_evidences = [existed_evidences_id[i] for i in claim_data[key][\"evidences\"] if i in existed_evidences_id]\n",
        "            claim_evidences.append(valid_evidences)\n",
        "        else:\n",
        "            claim_evidences.append([])\n",
        "    return claim_data_text, claim_data_id, claim_data_label, claim_evidences\n",
        "\n",
        "\n",
        "def preprocess_evi_data(evi_data):\n",
        "    cleaned_evidence_text = []\n",
        "    cleaned_evidence_id = []\n",
        "    for key, value in evi_data.items():\n",
        "        cleaned_text = preprocessing_text(value)\n",
        "        cleaned_evidence_text.append(cleaned_text)\n",
        "        cleaned_evidence_id.append(key)\n",
        "    return cleaned_evidence_text, cleaned_evidence_id"
      ]
    },
    {
      "cell_type": "code",
      "execution_count": 8,
      "metadata": {
        "id": "T7kVxuNjhYSs"
      },
      "outputs": [],
      "source": [
        "cleaned_evidence_text, cleaned_evidence_id = preprocess_evi_data(evidences)\n",
        "\n",
        "evidences_id_dict = {evidence_id: idx for idx, evidence_id in enumerate(cleaned_evidence_id)}\n",
        "\n",
        "train_claim_text, train_claim_id, train_claim_label, train_claim_evidences = preprocess_claim_data(train_claims, evidences_id_dict)\n",
        "\n",
        "dev_claim_text, dev_claim_id, dev_claim_label, dev_claim_evidences = preprocess_claim_data(dev_claims, evidences_id_dict)\n",
        "\n",
        "test_claim_text, test_claim_id, _, _ = preprocess_claim_data(test_claims)"
      ]
    },
    {
      "cell_type": "markdown",
      "metadata": {
        "id": "MA-5L_gUhYSt"
      },
      "source": [
        "### tfidf retrieval"
      ]
    },
    {
      "cell_type": "code",
      "execution_count": 9,
      "metadata": {
        "id": "HRuI5fIthYSt"
      },
      "outputs": [],
      "source": [
        "vectorizer = TfidfVectorizer()\n",
        "vectorizer.fit(cleaned_evidence_text)\n",
        "\n",
        "def fit_transform_tfidf(train_texts, dev_texts, test_texts, evidence_texts):\n",
        "    train_tfidf = vectorizer.transform(train_texts)\n",
        "    dev_tfidf = vectorizer.transform(dev_texts)\n",
        "    test_tfidf = vectorizer.transform(test_texts)\n",
        "    evidence_tfidf = vectorizer.transform(evidence_texts)\n",
        "\n",
        "    return train_tfidf, dev_tfidf, test_tfidf, evidence_tfidf\n",
        "\n",
        "train_tfidf, dev_tfidf, test_tfidf, evidence_tfidf = fit_transform_tfidf(train_claim_text, dev_claim_text, test_claim_text, cleaned_evidence_text)"
      ]
    },
    {
      "cell_type": "markdown",
      "metadata": {},
      "source": [
        "## calculate similarity"
      ]
    },
    {
      "cell_type": "markdown",
      "metadata": {},
      "source": [
        "Similarity calculation and sorting"
      ]
    },
    {
      "cell_type": "code",
      "execution_count": null,
      "metadata": {},
      "outputs": [],
      "source": [
        "# use cos similarity to calculate the similarity between the claim and evidence\n",
        "train_cos_sims = cosine_similarity(train_tfidf, evidence_tfidf)\n",
        "dev_cos_sims = cosine_similarity(dev_tfidf, evidence_tfidf)\n",
        "test_cos_sims = cosine_similarity(test_tfidf, evidence_tfidf)\n",
        "\n",
        "# sort the evidence and choose first 10000 evidence for each claim based on the similarity\n",
        "def sort_evidence(cos_sims):\n",
        "    top_ids = np.argsort(-cos_sims, axis=1)[:, :10000]\n",
        "    return top_ids.tolist()"
      ]
    },
    {
      "cell_type": "code",
      "execution_count": 13,
      "metadata": {
        "id": "ko-vH1c1hYSu"
      },
      "outputs": [],
      "source": [
        "dev_sort_evidences = sort_evidence(dev_cos_sims)\n",
        "test_sort_evidences = sort_evidence(test_cos_sims)\n",
        "train_sort_evidences = sort_evidence(train_cos_sims)"
      ]
    },
    {
      "cell_type": "markdown",
      "metadata": {
        "id": "0zkxl9S5hYSv"
      },
      "source": [
        "### construct word frequency list and filter"
      ]
    },
    {
      "cell_type": "code",
      "execution_count": null,
      "metadata": {
        "id": "rmJcld7shYSv"
      },
      "outputs": [],
      "source": [
        "min_count = 5\n",
        "wordcount = defaultdict(int)\n",
        "idxword = [\"<cls>\",  \"<sep>\", \"<pad>\", \"<unk>\"]\n",
        "\n",
        "for texts in train_claim_text + cleaned_evidence_text:\n",
        "    for word in texts.split():\n",
        "        wordcount[word] += 1\n",
        "\n",
        "for word, count in wordcount.items():\n",
        "    if count > min_count:\n",
        "        idxword.append(word)\n",
        "\n",
        "wordidx = {value: i for i, value in enumerate(idxword)}\n",
        "\n",
        "def text_to_idx(text_data, wordidx_):\n",
        "    idx_data = []\n",
        "    unk_idx = wordidx_[\"<unk>\"]\n",
        "    for texts in text_data:\n",
        "        temp_idx = [wordidx_.get(word, unk_idx) for word in texts.split()]\n",
        "        idx_data.append(temp_idx)\n",
        "    return idx_data\n",
        "\n",
        "def construct_input_text(text_idx, padding_len, wordidx_):\n",
        "    idx_data = []\n",
        "    cls_idx = wordidx_[\"<cls>\"]\n",
        "    sep_idx = wordidx_[\"<sep>\"]\n",
        "    pad_idx = wordidx_[\"<pad>\"]\n",
        "\n",
        "    for texts in text_idx:\n",
        "        if len(texts) < padding_len:\n",
        "            padded_text = [cls_idx] + texts + [sep_idx] + [pad_idx] * (padding_len - len(texts))\n",
        "        else:\n",
        "            padded_text = [cls_idx] + texts[:padding_len] + [sep_idx]\n",
        "        idx_data.append(padded_text)\n",
        "\n",
        "    return idx_data"
      ]
    },
    {
      "cell_type": "code",
      "execution_count": 15,
      "metadata": {
        "id": "aGSZqyC3hYTD"
      },
      "outputs": [],
      "source": [
        "train_text_idx = text_to_idx(train_claim_text, wordidx)\n",
        "dev_text_idx = text_to_idx(dev_claim_text, wordidx)\n",
        "test_text_idx = text_to_idx(test_claim_text, wordidx)\n",
        "evidences_text_idx = text_to_idx(cleaned_evidence_text, wordidx)\n",
        "\n",
        "train_max_freq = max([len(i) for i in train_text_idx])\n",
        "dev_max_freq = max([len(i) for i in dev_text_idx])\n",
        "test_max_freq = max([len(i) for i in test_text_idx])\n",
        "evidences_max_freq = max([len(i) for i in evidences_text_idx])\n",
        "\n",
        "print(train_max_freq, dev_max_freq, test_max_freq, evidences_max_freq)\n",
        "\n",
        "text_pad_len = 50\n",
        "evidences_pad_len = 80\n",
        "\n",
        "train_input = construct_input_text(train_text_idx, text_pad_len, wordidx)\n",
        "dev_input = construct_input_text(dev_text_idx, text_pad_len, wordidx)\n",
        "test_input = construct_input_text(test_text_idx, text_pad_len, wordidx)\n",
        "evidences_input = construct_input_text(evidences_text_idx, evidences_pad_len, wordidx)\n",
        "\n",
        "vocab_size = len(idxword)\n",
        "print(vocab_size)\n",
        "print(len(train_input[0]), len(evidences_input[0]))"
      ]
    },
    {
      "cell_type": "markdown",
      "metadata": {},
      "source": [
        "## Construct TrainDataset"
      ]
    },
    {
      "cell_type": "code",
      "execution_count": 20,
      "metadata": {
        "id": "PJM58s9MhYTF"
      },
      "outputs": [],
      "source": [
        "class TrainDataset(Dataset):\n",
        "    def __init__(self, text_data, evidence_data, sorted_evidences, evidence_label, negative_num):\n",
        "        self.text_data = text_data\n",
        "        self.evidence_data = evidence_data\n",
        "        self.sorted_evidences = sorted_evidences\n",
        "        self.evidence_label = evidence_label\n",
        "        self.negative_num = negative_num\n",
        "        self.evidence_len = len(evidence_data[0])\n",
        "        self.text_len = len(text_data[0])\n",
        "\n",
        "    def __len__(self):\n",
        "        return len(self.text_data)\n",
        "\n",
        "    def __getitem__(self, idx):\n",
        "        positive_evidences = self.evidence_label[idx]\n",
        "        negative_evidences = random.sample(self.sorted_evidences[idx][30: self.negative_num * 10], self.negative_num)\n",
        "        return [self.text_data[idx], negative_evidences, positive_evidences]\n",
        "\n",
        "    def collate_fn(self, batch):\n",
        "        queries, queries_pos, evidences, temp_labels = [], [], [], []\n",
        "\n",
        "        for i, j, k in batch:\n",
        "            queries = queries + [i]\n",
        "            queries_pos = queries_pos + [list(range(self.text_len))]\n",
        "            temp_labels.append(k)\n",
        "            evidences.extend(k + j)\n",
        "\n",
        "        evidences = list(set(evidences))\n",
        "\n",
        "        evidences2idx = {evid: i for i, evid in enumerate(evidences)}\n",
        "        labels = [[evidences2idx[evid] for evid in pos_evidences] for pos_evidences in temp_labels]\n",
        "\n",
        "        evidences = [self.evidence_data[i] for i in evidences]\n",
        "        evidences_pos = [list(range(self.evidence_len)) for _ in range(len(evidences))]\n",
        "\n",
        "\n",
        "        batch_encoding = {\n",
        "            \"queries\": torch.LongTensor(queries),\n",
        "            \"evidences\": torch.LongTensor(evidences),\n",
        "            \"queries_pos\": torch.LongTensor(queries_pos),\n",
        "            \"evidences_pos\": torch.LongTensor(evidences_pos),\n",
        "            \"labels\": labels\n",
        "        }\n",
        "\n",
        "        return batch_encoding"
      ]
    },
    {
      "cell_type": "code",
      "execution_count": 21,
      "metadata": {
        "id": "hgO5_1FPhYTF"
      },
      "outputs": [],
      "source": [
        "train_set = TrainDataset(train_input, evidences_input, train_sort_evidences, train_claim_evidences, negative_num=10)\n",
        "dataloader = DataLoader(train_set, batch_size=5, shuffle=True, num_workers=0, collate_fn=train_set.collate_fn)"
      ]
    },
    {
      "cell_type": "markdown",
      "metadata": {
        "id": "1FA2ao2l8hOg"
      },
      "source": [
        "# 2. Model Implementation\n",
        "(You can add as many code blocks and text blocks as you need. However, YOU SHOULD NOT MODIFY the section title)"
      ]
    },
    {
      "cell_type": "markdown",
      "metadata": {},
      "source": [
        "### Construct Encoder"
      ]
    },
    {
      "cell_type": "code",
      "execution_count": 22,
      "metadata": {
        "id": "ufBUIwDIhYTG"
      },
      "outputs": [],
      "source": [
        "class Encoder(nn.Module):\n",
        "    def __init__(self, vocab_emb, embed_dim, hidden_size, num_layers, max_position=180, dropout=0.2):\n",
        "        super(Encoder, self).__init__()\n",
        "        self.hidden_size = hidden_size\n",
        "        self.embedding = nn.Embedding(vocab_emb, embed_dim)\n",
        "        self.pos_embedding = nn.Embedding(max_position, embed_dim)\n",
        "        self.encoder = nn.LSTM(embed_dim, hidden_size, num_layers=num_layers, batch_first=True, dropout=dropout, bidirectional=True)\n",
        "        self.dropout = nn.Dropout(p=dropout)\n",
        "\n",
        "    def forward(self, text_data, position_text):\n",
        "        text_x = self.embedding(text_data) + self.pos_embedding(position_text)\n",
        "        text_x = self.dropout(text_x)\n",
        "        x_encoded, _ = self.encoder(text_x)\n",
        "        x_encoded = self.dropout(x_encoded)\n",
        "        return x_encoded"
      ]
    },
    {
      "cell_type": "code",
      "execution_count": 23,
      "metadata": {
        "colab": {
          "base_uri": "https://localhost:8080/"
        },
        "id": "CbUbl-behYTG",
        "outputId": "8bc6e708-7068-4782-a38a-5f93a9375e45",
        "scrolled": true
      },
      "outputs": [
        {
          "data": {
            "text/plain": [
              "Encoder(\n",
              "  (embedding): Embedding(90097, 512)\n",
              "  (pos_embedding): Embedding(180, 512)\n",
              "  (encoder): LSTM(512, 512, num_layers=6, batch_first=True, dropout=0.2, bidirectional=True)\n",
              "  (dropout): Dropout(p=0.2, inplace=False)\n",
              ")"
            ]
          },
          "execution_count": 23,
          "metadata": {},
          "output_type": "execute_result"
        }
      ],
      "source": [
        "lstm_encoder = Encoder(vocab_emb=vocab_size, embed_dim=512, hidden_size=512, num_layers=6, max_position=180)\n",
        "lstm_encoder.cuda()"
      ]
    },
    {
      "cell_type": "markdown",
      "metadata": {
        "id": "YmbwzEeWhYTG"
      },
      "source": [
        "### Set model hyperparameters and save pathTraining"
      ]
    },
    {
      "cell_type": "code",
      "execution_count": 24,
      "metadata": {
        "id": "BjbW3QXThYTG",
        "scrolled": true
      },
      "outputs": [],
      "source": [
        "torch.manual_seed(41)\n",
        "torch.cuda.manual_seed_all(41)\n",
        "random.seed(41)\n",
        "\n",
        "weight_decay = 1e-4\n",
        "encoder_optimizer = optim.Adam(lstm_encoder.parameters(), weight_decay=weight_decay)\n",
        "scheduler = torch.optim.lr_scheduler.ReduceLROnPlateau(\n",
        "    encoder_optimizer,\n",
        "    mode='min',\n",
        "    factor=0.1,\n",
        "    patience=10,\n",
        "    threshold=0.0001,\n",
        "    threshold_mode='rel',\n",
        "    cooldown=0,\n",
        "    min_lr=1e-8,\n",
        "    eps=1e-08\n",
        ")\n",
        "\n",
        "max_lr = 1e-3\n",
        "for param_group in encoder_optimizer.param_groups:\n",
        "    param_group['lr'] = max_lr\n",
        "\n",
        "accumulate_step = 3\n",
        "grad_norm = 0.5\n",
        "warmup_steps = 500\n",
        "report_freq = 10\n",
        "eval_interval = 50\n",
        "save_dir = \"save_model\""
      ]
    },
    {
      "cell_type": "markdown",
      "metadata": {},
      "source": [
        "### validate function to evaluate each epoch"
      ]
    },
    {
      "cell_type": "code",
      "execution_count": 25,
      "metadata": {
        "id": "csm7PhMutAA4"
      },
      "outputs": [],
      "source": [
        "def cal_fscore(evidence_correct, label, pred_evidences):\n",
        "    if evidence_correct > 0:\n",
        "        evidence_recall = float(evidence_correct) / len(label)\n",
        "        evidence_precision = float(evidence_correct) / len(pred_evidences)\n",
        "        evidence_fscore = (2 * evidence_precision * evidence_recall) / (evidence_precision + evidence_recall)\n",
        "        print(evidence_fscore)\n",
        "    else:\n",
        "        evidence_fscore = 0\n",
        "    return evidence_fscore\n",
        "\n",
        "def get_embeddings(text_indices, encoder_model, batch_size=800):\n",
        "    embeddings = []\n",
        "    text_len = len(text_indices[0])\n",
        "\n",
        "    for start_idx in range(0, len(text_indices), batch_size):\n",
        "        end_idx = min(start_idx + batch_size, len(text_indices))\n",
        "        cur_query = torch.LongTensor(text_indices[start_idx:end_idx]).view(-1, text_len).cuda()\n",
        "        cur_query_pos = torch.LongTensor([list(range(text_len)) for _ in range(end_idx - start_idx)]).cuda()\n",
        "\n",
        "        query_embedding = encoder_model(cur_query, cur_query_pos)\n",
        "        query_embedding = query_embedding[:, -1, :].detach().cpu()\n",
        "        embeddings.append(query_embedding)\n",
        "\n",
        "    return torch.cat(embeddings, dim=0).t()"
      ]
    },
    {
      "cell_type": "code",
      "execution_count": 26,
      "metadata": {
        "id": "SAS3OoQ5hYTH"
      },
      "outputs": [],
      "source": [
        "retrieval_num = 5\n",
        "dev_candis_num = 10\n",
        "\n",
        "def validate(dev_text_idx, evidence_text_idx, dev_sort_evidences, dev_claim_evidences, encoder_model):\n",
        "    # get evidence embeddings\n",
        "\n",
        "    encoder_model.eval()\n",
        "    start_idx = 0\n",
        "    batch_size = 800\n",
        "    evidence_embeddings = get_embeddings(evidence_text_idx, encoder_model, batch_size)\n",
        "\n",
        "    text_len = len(dev_text_idx[0])\n",
        "\n",
        "    f_scores = []\n",
        "\n",
        "    while start_idx < len(dev_text_idx):\n",
        "        end_idx = min(start_idx + batch_size, len(dev_text_idx))\n",
        "\n",
        "        cur_query = torch.LongTensor(dev_text_idx[start_idx:end_idx]).view(-1, text_len).cuda()\n",
        "        cur_query_pos = torch.LongTensor([list(range(text_len)) for _ in range(end_idx - start_idx)]).cuda()\n",
        "\n",
        "        query_embedding = encoder_model(cur_query, cur_query_pos)\n",
        "        query_embedding = query_embedding[:, -1, :].detach()\n",
        "        query_embedding = F.normalize(query_embedding, p=2, dim=1).cpu()\n",
        "\n",
        "        scores = torch.mm(query_embedding, evidence_embeddings)\n",
        "\n",
        "        for i in range(scores.size(0)):\n",
        "            new_score = torch.index_select(scores[i], 0, torch.LongTensor(dev_sort_evidences[start_idx+i][:dev_candis_num]))\n",
        "            topk_ids = torch.argsort(new_score).tolist()\n",
        "            select_ids = topk_ids[:retrieval_num]\n",
        "\n",
        "            evidence_correct = 0\n",
        "            pred_evidences = [dev_sort_evidences[start_idx+i][j] for j in select_ids]\n",
        "            label = dev_claim_evidences[start_idx+i]\n",
        "            for evidence_id in label:\n",
        "                if evidence_id in pred_evidences:\n",
        "                    evidence_correct += 1\n",
        "            evidence_fscore = cal_fscore(evidence_correct, label, pred_evidences)\n",
        "            f_scores = f_scores + [evidence_fscore]\n",
        "\n",
        "        start_idx = end_idx\n",
        "\n",
        "    fscore = np.mean(f_scores)\n",
        "    encoder_model.train()\n",
        "    print(\"\\n\\nEvidence Retrieval F-score: %.3f\\n\\n\" % fscore)\n",
        "    return fscore"
      ]
    },
    {
      "cell_type": "markdown",
      "metadata": {},
      "source": [
        "### Start training"
      ]
    },
    {
      "cell_type": "code",
      "execution_count": 29,
      "metadata": {
        "colab": {
          "base_uri": "https://localhost:8080/",
          "height": 1000,
          "referenced_widgets": [
            "ecb0b8f903dd4f3c967f9b17219dccbd",
            "ad30a3edd6f0453aa1502b8ab277a4b4",
            "258aec747780449db3e1e507c5994d81",
            "117518de5ed14fc1b9535952f2bc3de7",
            "e670ba7d9a4e471a979486b7ccc7c3e0",
            "7c6571466a394a9b905082e358ef3ce3",
            "ef7fe2a1502b48f9b9c913ff34525378",
            "52b8e933323143d4952023034adfc6de"
          ]
        },
        "id": "P7euW_2thYTL",
        "outputId": "46b07be5-6879-4311-d046-87dccd8a001f"
      },
      "outputs": [
        {
          "name": "stderr",
          "output_type": "stream",
          "text": [
            "\u001b[34m\u001b[1mwandb\u001b[0m: Currently logged in as: \u001b[33mcyl101397\u001b[0m (\u001b[33mnlp_project_5pmteam7\u001b[0m). Use \u001b[1m`wandb login --relogin`\u001b[0m to force relogin\n"
          ]
        },
        {
          "data": {
            "text/html": [
              "Tracking run with wandb version 0.17.0"
            ],
            "text/plain": [
              "<IPython.core.display.HTML object>"
            ]
          },
          "metadata": {},
          "output_type": "display_data"
        },
        {
          "data": {
            "text/html": [
              "Run data is saved locally in <code>c:\\Users\\ABC\\Desktop\\学习\\NLP\\project nlp\\COMP90042-NLP-Project-Team07\\wandb\\run-20240526_151746-eok8a5my</code>"
            ],
            "text/plain": [
              "<IPython.core.display.HTML object>"
            ]
          },
          "metadata": {},
          "output_type": "display_data"
        },
        {
          "data": {
            "text/html": [
              "Syncing run <strong><a href='https://wandb.ai/nlp_project_5pmteam7/nlp/runs/eok8a5my' target=\"_blank\">WZTestEvi</a></strong> to <a href='https://wandb.ai/nlp_project_5pmteam7/nlp' target=\"_blank\">Weights & Biases</a> (<a href='https://wandb.me/run' target=\"_blank\">docs</a>)<br/>"
            ],
            "text/plain": [
              "<IPython.core.display.HTML object>"
            ]
          },
          "metadata": {},
          "output_type": "display_data"
        },
        {
          "data": {
            "text/html": [
              " View project at <a href='https://wandb.ai/nlp_project_5pmteam7/nlp' target=\"_blank\">https://wandb.ai/nlp_project_5pmteam7/nlp</a>"
            ],
            "text/plain": [
              "<IPython.core.display.HTML object>"
            ]
          },
          "metadata": {},
          "output_type": "display_data"
        },
        {
          "data": {
            "text/html": [
              " View run at <a href='https://wandb.ai/nlp_project_5pmteam7/nlp/runs/eok8a5my' target=\"_blank\">https://wandb.ai/nlp_project_5pmteam7/nlp/runs/eok8a5my</a>"
            ],
            "text/plain": [
              "<IPython.core.display.HTML object>"
            ]
          },
          "metadata": {},
          "output_type": "display_data"
        },
        {
          "name": "stderr",
          "output_type": "stream",
          "text": [
            " 13%|█▎        | 32/246 [00:03<00:17, 11.92it/s]"
          ]
        },
        {
          "name": "stdout",
          "output_type": "stream",
          "text": [
            "\n",
            "\n",
            "epoch: 1, epoch_step: 10, avg loss: 4.199338\n",
            "learning rate: 0.000020\n",
            "\n",
            "\n"
          ]
        },
        {
          "name": "stderr",
          "output_type": "stream",
          "text": [
            " 25%|██▌       | 62/246 [00:05<00:14, 12.35it/s]"
          ]
        },
        {
          "name": "stdout",
          "output_type": "stream",
          "text": [
            "\n",
            "\n",
            "epoch: 1, epoch_step: 20, avg loss: 4.205086\n",
            "learning rate: 0.000040\n",
            "\n",
            "\n"
          ]
        },
        {
          "name": "stderr",
          "output_type": "stream",
          "text": [
            " 37%|███▋      | 92/246 [00:07<00:12, 12.36it/s]"
          ]
        },
        {
          "name": "stdout",
          "output_type": "stream",
          "text": [
            "\n",
            "\n",
            "epoch: 1, epoch_step: 30, avg loss: 4.227416\n",
            "learning rate: 0.000060\n",
            "\n",
            "\n"
          ]
        },
        {
          "name": "stderr",
          "output_type": "stream",
          "text": [
            " 50%|████▉     | 122/246 [00:10<00:10, 11.81it/s]"
          ]
        },
        {
          "name": "stdout",
          "output_type": "stream",
          "text": [
            "\n",
            "\n",
            "epoch: 1, epoch_step: 40, avg loss: 4.170825\n",
            "learning rate: 0.000080\n",
            "\n",
            "\n"
          ]
        },
        {
          "name": "stderr",
          "output_type": "stream",
          "text": [
            " 60%|██████    | 148/246 [00:12<00:08, 12.20it/s]"
          ]
        },
        {
          "name": "stdout",
          "output_type": "stream",
          "text": [
            "\n",
            "\n",
            "epoch: 1, epoch_step: 50, avg loss: 4.187892\n",
            "learning rate: 0.000100\n",
            "\n",
            "\n",
            "\n",
            "Evaluate:\n",
            "\n"
          ]
        },
        {
          "name": "stderr",
          "output_type": "stream",
          "text": [
            " 60%|██████    | 148/246 [00:29<00:08, 12.20it/s]"
          ]
        },
        {
          "name": "stdout",
          "output_type": "stream",
          "text": [
            "0.28571428571428575\n",
            "0.28571428571428575\n",
            "0.20000000000000004\n",
            "0.20000000000000004\n",
            "0.25\n",
            "0.22222222222222224\n",
            "0.20000000000000004\n",
            "0.20000000000000004\n",
            "0.28571428571428575\n",
            "0.20000000000000004\n",
            "0.22222222222222224\n",
            "0.20000000000000004\n",
            "0.20000000000000004\n",
            "0.28571428571428575\n",
            "0.33333333333333337\n",
            "0.20000000000000004\n",
            "0.28571428571428575\n",
            "0.20000000000000004\n",
            "0.20000000000000004\n",
            "0.5\n",
            "0.33333333333333337\n",
            "0.5\n",
            "0.20000000000000004\n",
            "0.28571428571428575\n",
            "0.33333333333333337\n",
            "0.20000000000000004\n",
            "0.25\n",
            "0.20000000000000004\n",
            "0.20000000000000004\n",
            "0.20000000000000004\n",
            "0.28571428571428575\n",
            "0.20000000000000004\n",
            "0.20000000000000004\n",
            "0.22222222222222224\n",
            "0.33333333333333337\n",
            "0.33333333333333337\n",
            "0.28571428571428575\n",
            "0.25\n",
            "0.20000000000000004\n",
            "0.20000000000000004\n",
            "0.25\n",
            "0.20000000000000004\n",
            "0.20000000000000004\n",
            "0.20000000000000004\n",
            "\n",
            "\n",
            "Evidence Retrieval F-score: 0.072\n",
            "\n",
            "\n"
          ]
        },
        {
          "name": "stderr",
          "output_type": "stream",
          "text": [
            " 62%|██████▏   | 152/246 [03:38<33:55, 21.65s/it]"
          ]
        },
        {
          "name": "stdout",
          "output_type": "stream",
          "text": [
            "\n",
            "\n",
            "best val loss - epoch: 0, epoch_step: 50\n",
            "maxi_f_score 0.07155225726654299 \n",
            "\n",
            "\n"
          ]
        },
        {
          "name": "stderr",
          "output_type": "stream",
          "text": [
            " 74%|███████▍  | 182/246 [03:40<00:11,  5.49it/s]"
          ]
        },
        {
          "name": "stdout",
          "output_type": "stream",
          "text": [
            "\n",
            "\n",
            "epoch: 1, epoch_step: 60, avg loss: 4.410746\n",
            "learning rate: 0.000120\n",
            "\n",
            "\n"
          ]
        },
        {
          "name": "stderr",
          "output_type": "stream",
          "text": [
            " 86%|████████▌ | 212/246 [03:43<00:02, 12.38it/s]"
          ]
        },
        {
          "name": "stdout",
          "output_type": "stream",
          "text": [
            "\n",
            "\n",
            "epoch: 1, epoch_step: 70, avg loss: 4.249171\n",
            "learning rate: 0.000140\n",
            "\n",
            "\n"
          ]
        },
        {
          "name": "stderr",
          "output_type": "stream",
          "text": [
            " 98%|█████████▊| 242/246 [03:45<00:00, 12.65it/s]"
          ]
        },
        {
          "name": "stdout",
          "output_type": "stream",
          "text": [
            "\n",
            "\n",
            "epoch: 1, epoch_step: 80, avg loss: 4.197874\n",
            "learning rate: 0.000160\n",
            "\n",
            "\n"
          ]
        },
        {
          "name": "stderr",
          "output_type": "stream",
          "text": [
            "100%|██████████| 246/246 [03:45<00:00,  1.09it/s]\n",
            " 11%|█         | 26/246 [00:02<00:17, 12.50it/s]"
          ]
        },
        {
          "name": "stdout",
          "output_type": "stream",
          "text": [
            "\n",
            "\n",
            "epoch: 2, epoch_step: 8, avg loss: 4.144449\n",
            "learning rate: 0.000180\n",
            "\n",
            "\n"
          ]
        },
        {
          "name": "stderr",
          "output_type": "stream",
          "text": [
            " 21%|██        | 52/246 [00:04<00:15, 12.19it/s]"
          ]
        },
        {
          "name": "stdout",
          "output_type": "stream",
          "text": [
            "\n",
            "\n",
            "epoch: 2, epoch_step: 18, avg loss: 4.195648\n",
            "learning rate: 0.000200\n",
            "\n",
            "\n",
            "\n",
            "Evaluate:\n",
            "\n"
          ]
        },
        {
          "name": "stderr",
          "output_type": "stream",
          "text": [
            " 21%|██        | 52/246 [00:24<00:15, 12.19it/s]"
          ]
        },
        {
          "name": "stdout",
          "output_type": "stream",
          "text": [
            "0.28571428571428575\n",
            "0.28571428571428575\n",
            "0.20000000000000004\n",
            "0.20000000000000004\n",
            "0.25\n",
            "0.22222222222222224\n",
            "0.20000000000000004\n",
            "0.20000000000000004\n",
            "0.28571428571428575\n",
            "0.4000000000000001\n",
            "0.33333333333333337\n",
            "0.28571428571428575\n",
            "0.22222222222222224\n",
            "0.20000000000000004\n",
            "0.28571428571428575\n",
            "0.33333333333333337\n",
            "0.20000000000000004\n",
            "0.28571428571428575\n",
            "0.20000000000000004\n",
            "0.5\n",
            "0.33333333333333337\n",
            "0.25\n",
            "0.25\n",
            "0.20000000000000004\n",
            "0.28571428571428575\n",
            "0.33333333333333337\n",
            "0.6\n",
            "0.25\n",
            "0.20000000000000004\n",
            "0.20000000000000004\n",
            "0.20000000000000004\n",
            "0.28571428571428575\n",
            "0.33333333333333337\n",
            "0.20000000000000004\n",
            "0.20000000000000004\n",
            "0.22222222222222224\n",
            "0.25\n",
            "0.33333333333333337\n",
            "0.28571428571428575\n",
            "0.33333333333333337\n",
            "0.28571428571428575\n",
            "0.25\n",
            "0.4000000000000001\n",
            "0.20000000000000004\n",
            "0.25\n",
            "0.8000000000000002\n",
            "0.20000000000000004\n",
            "\n",
            "\n",
            "Evidence Retrieval F-score: 0.086\n",
            "\n",
            "\n"
          ]
        },
        {
          "name": "stderr",
          "output_type": "stream",
          "text": [
            " 23%|██▎       | 56/246 [03:31<1:09:11, 21.85s/it]"
          ]
        },
        {
          "name": "stdout",
          "output_type": "stream",
          "text": [
            "\n",
            "\n",
            "best val loss - epoch: 1, epoch_step: 18\n",
            "maxi_f_score 0.08641001855287572 \n",
            "\n",
            "\n"
          ]
        },
        {
          "name": "stderr",
          "output_type": "stream",
          "text": [
            " 35%|███▍      | 86/246 [03:34<00:29,  5.44it/s]  "
          ]
        },
        {
          "name": "stdout",
          "output_type": "stream",
          "text": [
            "\n",
            "\n",
            "epoch: 2, epoch_step: 28, avg loss: 4.197912\n",
            "learning rate: 0.000220\n",
            "\n",
            "\n"
          ]
        },
        {
          "name": "stderr",
          "output_type": "stream",
          "text": [
            " 46%|████▋     | 114/246 [03:36<00:11, 11.29it/s]"
          ]
        },
        {
          "name": "stdout",
          "output_type": "stream",
          "text": [
            "\n",
            "\n",
            "epoch: 2, epoch_step: 38, avg loss: 4.203417\n",
            "learning rate: 0.000240\n",
            "\n",
            "\n"
          ]
        },
        {
          "name": "stderr",
          "output_type": "stream",
          "text": [
            " 59%|█████▉    | 146/246 [03:39<00:08, 11.98it/s]"
          ]
        },
        {
          "name": "stdout",
          "output_type": "stream",
          "text": [
            "\n",
            "\n",
            "epoch: 2, epoch_step: 48, avg loss: 4.183603\n",
            "learning rate: 0.000260\n",
            "\n",
            "\n"
          ]
        },
        {
          "name": "stderr",
          "output_type": "stream",
          "text": [
            " 72%|███████▏  | 176/246 [03:41<00:05, 12.29it/s]"
          ]
        },
        {
          "name": "stdout",
          "output_type": "stream",
          "text": [
            "\n",
            "\n",
            "epoch: 2, epoch_step: 58, avg loss: 4.200558\n",
            "learning rate: 0.000280\n",
            "\n",
            "\n"
          ]
        },
        {
          "name": "stderr",
          "output_type": "stream",
          "text": [
            " 82%|████████▏ | 202/246 [03:44<00:03, 12.14it/s]"
          ]
        },
        {
          "name": "stdout",
          "output_type": "stream",
          "text": [
            "\n",
            "\n",
            "epoch: 2, epoch_step: 68, avg loss: 4.212100\n",
            "learning rate: 0.000300\n",
            "\n",
            "\n",
            "\n",
            "Evaluate:\n",
            "\n"
          ]
        },
        {
          "name": "stderr",
          "output_type": "stream",
          "text": [
            " 82%|████████▏ | 202/246 [03:54<00:03, 12.14it/s]"
          ]
        },
        {
          "name": "stdout",
          "output_type": "stream",
          "text": [
            "0.28571428571428575\n",
            "0.28571428571428575\n",
            "0.20000000000000004\n",
            "0.20000000000000004\n",
            "0.25\n",
            "0.22222222222222224\n",
            "0.20000000000000004\n",
            "0.20000000000000004\n",
            "0.28571428571428575\n",
            "0.4000000000000001\n",
            "0.28571428571428575\n",
            "0.22222222222222224\n",
            "0.20000000000000004\n",
            "0.20000000000000004\n",
            "0.28571428571428575\n",
            "0.33333333333333337\n",
            "0.20000000000000004\n",
            "0.28571428571428575\n",
            "0.20000000000000004\n",
            "0.20000000000000004\n",
            "0.5\n",
            "0.33333333333333337\n",
            "0.25\n",
            "0.5\n",
            "0.20000000000000004\n",
            "0.28571428571428575\n",
            "0.33333333333333337\n",
            "0.6\n",
            "0.5\n",
            "0.20000000000000004\n",
            "0.20000000000000004\n",
            "0.20000000000000004\n",
            "0.28571428571428575\n",
            "0.33333333333333337\n",
            "0.20000000000000004\n",
            "0.20000000000000004\n",
            "0.25\n",
            "0.33333333333333337\n",
            "0.28571428571428575\n",
            "0.33333333333333337\n",
            "0.28571428571428575\n",
            "0.25\n",
            "0.4000000000000001\n",
            "0.20000000000000004\n",
            "0.20000000000000004\n",
            "0.8000000000000002\n",
            "0.20000000000000004\n",
            "\n",
            "\n",
            "Evidence Retrieval F-score: 0.088\n",
            "\n",
            "\n"
          ]
        },
        {
          "name": "stderr",
          "output_type": "stream",
          "text": [
            " 84%|████████▎ | 206/246 [07:09<14:26, 21.66s/it]"
          ]
        },
        {
          "name": "stdout",
          "output_type": "stream",
          "text": [
            "\n",
            "\n",
            "best val loss - epoch: 1, epoch_step: 68\n",
            "maxi_f_score 0.08832199546485263 \n",
            "\n",
            "\n"
          ]
        },
        {
          "name": "stderr",
          "output_type": "stream",
          "text": [
            " 96%|█████████▌| 236/246 [07:12<00:01,  5.28it/s]"
          ]
        },
        {
          "name": "stdout",
          "output_type": "stream",
          "text": [
            "\n",
            "\n",
            "epoch: 2, epoch_step: 78, avg loss: 4.192981\n",
            "learning rate: 0.000320\n",
            "\n",
            "\n"
          ]
        },
        {
          "name": "stderr",
          "output_type": "stream",
          "text": [
            "100%|██████████| 246/246 [07:13<00:00,  1.76s/it]\n",
            "  8%|▊         | 20/246 [00:01<00:19, 11.76it/s]"
          ]
        },
        {
          "name": "stdout",
          "output_type": "stream",
          "text": [
            "\n",
            "\n",
            "epoch: 3, epoch_step: 6, avg loss: 4.165759\n",
            "learning rate: 0.000340\n",
            "\n",
            "\n"
          ]
        },
        {
          "name": "stderr",
          "output_type": "stream",
          "text": [
            " 20%|██        | 50/246 [00:04<00:16, 12.05it/s]"
          ]
        },
        {
          "name": "stdout",
          "output_type": "stream",
          "text": [
            "\n",
            "\n",
            "epoch: 3, epoch_step: 16, avg loss: 4.208925\n",
            "learning rate: 0.000360\n",
            "\n",
            "\n"
          ]
        },
        {
          "name": "stderr",
          "output_type": "stream",
          "text": [
            " 33%|███▎      | 80/246 [00:06<00:13, 12.25it/s]"
          ]
        },
        {
          "name": "stdout",
          "output_type": "stream",
          "text": [
            "\n",
            "\n",
            "epoch: 3, epoch_step: 26, avg loss: 4.232152\n",
            "learning rate: 0.000380\n",
            "\n",
            "\n"
          ]
        },
        {
          "name": "stderr",
          "output_type": "stream",
          "text": [
            " 43%|████▎     | 106/246 [00:08<00:11, 11.78it/s]"
          ]
        },
        {
          "name": "stdout",
          "output_type": "stream",
          "text": [
            "\n",
            "\n",
            "epoch: 3, epoch_step: 36, avg loss: 4.189977\n",
            "learning rate: 0.000400\n",
            "\n",
            "\n",
            "\n",
            "Evaluate:\n",
            "\n"
          ]
        },
        {
          "name": "stderr",
          "output_type": "stream",
          "text": [
            " 43%|████▎     | 106/246 [00:20<00:11, 11.78it/s]"
          ]
        },
        {
          "name": "stdout",
          "output_type": "stream",
          "text": [
            "0.28571428571428575\n",
            "0.28571428571428575\n",
            "0.20000000000000004\n",
            "0.20000000000000004\n",
            "0.5\n",
            "0.22222222222222224\n",
            "0.20000000000000004\n",
            "0.28571428571428575\n",
            "0.4000000000000001\n",
            "0.33333333333333337\n",
            "0.28571428571428575\n",
            "0.22222222222222224\n",
            "0.20000000000000004\n",
            "0.20000000000000004\n",
            "0.28571428571428575\n",
            "0.33333333333333337\n",
            "0.20000000000000004\n",
            "0.28571428571428575\n",
            "0.20000000000000004\n",
            "0.20000000000000004\n",
            "0.5\n",
            "0.33333333333333337\n",
            "0.25\n",
            "0.5\n",
            "0.20000000000000004\n",
            "0.28571428571428575\n",
            "0.33333333333333337\n",
            "0.4000000000000001\n",
            "0.5\n",
            "0.20000000000000004\n",
            "0.20000000000000004\n",
            "0.20000000000000004\n",
            "0.28571428571428575\n",
            "0.33333333333333337\n",
            "0.20000000000000004\n",
            "0.4000000000000001\n",
            "0.22222222222222224\n",
            "0.33333333333333337\n",
            "0.28571428571428575\n",
            "0.33333333333333337\n",
            "0.28571428571428575\n",
            "0.25\n",
            "0.20000000000000004\n",
            "0.20000000000000004\n",
            "0.25\n",
            "0.20000000000000004\n",
            "0.8000000000000002\n",
            "0.20000000000000004\n",
            "\n",
            "\n",
            "Evidence Retrieval F-score: 0.091\n",
            "\n",
            "\n"
          ]
        },
        {
          "name": "stderr",
          "output_type": "stream",
          "text": [
            " 45%|████▍     | 110/246 [03:35<49:22, 21.78s/it]  "
          ]
        },
        {
          "name": "stdout",
          "output_type": "stream",
          "text": [
            "\n",
            "\n",
            "best val loss - epoch: 2, epoch_step: 36\n",
            "maxi_f_score 0.09095547309833026 \n",
            "\n",
            "\n"
          ]
        },
        {
          "name": "stderr",
          "output_type": "stream",
          "text": [
            " 57%|█████▋    | 140/246 [03:38<00:19,  5.42it/s]"
          ]
        },
        {
          "name": "stdout",
          "output_type": "stream",
          "text": [
            "\n",
            "\n",
            "epoch: 3, epoch_step: 46, avg loss: 4.203455\n",
            "learning rate: 0.000420\n",
            "\n",
            "\n"
          ]
        },
        {
          "name": "stderr",
          "output_type": "stream",
          "text": [
            " 69%|██████▉   | 170/246 [03:40<00:06, 12.25it/s]"
          ]
        },
        {
          "name": "stdout",
          "output_type": "stream",
          "text": [
            "\n",
            "\n",
            "epoch: 3, epoch_step: 56, avg loss: 4.195634\n",
            "learning rate: 0.000440\n",
            "\n",
            "\n"
          ]
        },
        {
          "name": "stderr",
          "output_type": "stream",
          "text": [
            " 81%|████████▏ | 200/246 [03:43<00:03, 12.49it/s]"
          ]
        },
        {
          "name": "stdout",
          "output_type": "stream",
          "text": [
            "\n",
            "\n",
            "epoch: 3, epoch_step: 66, avg loss: 4.228290\n",
            "learning rate: 0.000460\n",
            "\n",
            "\n"
          ]
        },
        {
          "name": "stderr",
          "output_type": "stream",
          "text": [
            " 93%|█████████▎| 230/246 [03:45<00:01, 12.40it/s]"
          ]
        },
        {
          "name": "stdout",
          "output_type": "stream",
          "text": [
            "\n",
            "\n",
            "epoch: 3, epoch_step: 76, avg loss: 4.188524\n",
            "learning rate: 0.000480\n",
            "\n",
            "\n"
          ]
        },
        {
          "name": "stderr",
          "output_type": "stream",
          "text": [
            "100%|██████████| 246/246 [03:46<00:00,  1.08it/s]\n",
            "  4%|▍         | 10/246 [00:00<00:19, 12.33it/s]"
          ]
        },
        {
          "name": "stdout",
          "output_type": "stream",
          "text": [
            "\n",
            "\n",
            "epoch: 4, epoch_step: 4, avg loss: 4.188038\n",
            "learning rate: 0.000500\n",
            "\n",
            "\n",
            "\n",
            "Evaluate:\n",
            "\n"
          ]
        },
        {
          "name": "stderr",
          "output_type": "stream",
          "text": [
            "  4%|▍         | 10/246 [00:13<00:19, 12.33it/s]"
          ]
        },
        {
          "name": "stdout",
          "output_type": "stream",
          "text": [
            "0.28571428571428575\n",
            "0.28571428571428575\n",
            "0.25\n",
            "0.22222222222222224\n",
            "0.20000000000000004\n",
            "0.28571428571428575\n",
            "0.4000000000000001\n",
            "0.33333333333333337\n",
            "0.28571428571428575\n",
            "0.22222222222222224\n",
            "0.20000000000000004\n",
            "0.20000000000000004\n",
            "0.25\n",
            "0.20000000000000004\n",
            "0.28571428571428575\n",
            "0.20000000000000004\n",
            "0.20000000000000004\n",
            "0.5\n",
            "0.33333333333333337\n",
            "0.25\n",
            "0.5\n",
            "0.20000000000000004\n",
            "0.28571428571428575\n",
            "0.33333333333333337\n",
            "0.20000000000000004\n",
            "0.5\n",
            "0.20000000000000004\n",
            "0.20000000000000004\n",
            "0.20000000000000004\n",
            "0.25\n",
            "0.33333333333333337\n",
            "0.4000000000000001\n",
            "0.4000000000000001\n",
            "0.22222222222222224\n",
            "0.33333333333333337\n",
            "0.28571428571428575\n",
            "0.33333333333333337\n",
            "0.28571428571428575\n",
            "0.25\n",
            "0.25\n",
            "0.4000000000000001\n",
            "0.20000000000000004\n",
            "0.20000000000000004\n",
            "0.6\n",
            "0.20000000000000004\n",
            "\n",
            "\n",
            "Evidence Retrieval F-score: 0.084\n",
            "\n",
            "\n"
          ]
        },
        {
          "name": "stderr",
          "output_type": "stream",
          "text": [
            " 18%|█▊        | 44/246 [03:30<00:37,  5.44it/s]  "
          ]
        },
        {
          "name": "stdout",
          "output_type": "stream",
          "text": [
            "\n",
            "\n",
            "epoch: 4, epoch_step: 14, avg loss: 4.193564\n",
            "learning rate: 0.000520\n",
            "\n",
            "\n"
          ]
        },
        {
          "name": "stderr",
          "output_type": "stream",
          "text": [
            " 30%|███       | 74/246 [03:33<00:13, 12.42it/s]"
          ]
        },
        {
          "name": "stdout",
          "output_type": "stream",
          "text": [
            "\n",
            "\n",
            "epoch: 4, epoch_step: 24, avg loss: 4.225201\n",
            "learning rate: 0.000540\n",
            "\n",
            "\n"
          ]
        },
        {
          "name": "stderr",
          "output_type": "stream",
          "text": [
            " 42%|████▏     | 104/246 [03:35<00:11, 12.51it/s]"
          ]
        },
        {
          "name": "stdout",
          "output_type": "stream",
          "text": [
            "\n",
            "\n",
            "epoch: 4, epoch_step: 34, avg loss: 4.206849\n",
            "learning rate: 0.000560\n",
            "\n",
            "\n"
          ]
        },
        {
          "name": "stderr",
          "output_type": "stream",
          "text": [
            " 54%|█████▍    | 134/246 [03:37<00:09, 12.33it/s]"
          ]
        },
        {
          "name": "stdout",
          "output_type": "stream",
          "text": [
            "\n",
            "\n",
            "epoch: 4, epoch_step: 44, avg loss: 4.216021\n",
            "learning rate: 0.000580\n",
            "\n",
            "\n"
          ]
        },
        {
          "name": "stderr",
          "output_type": "stream",
          "text": [
            " 65%|██████▌   | 160/246 [03:40<00:06, 12.36it/s]"
          ]
        },
        {
          "name": "stdout",
          "output_type": "stream",
          "text": [
            "\n",
            "\n",
            "epoch: 4, epoch_step: 54, avg loss: 4.235664\n",
            "learning rate: 0.000600\n",
            "\n",
            "\n",
            "\n",
            "Evaluate:\n",
            "\n"
          ]
        },
        {
          "name": "stderr",
          "output_type": "stream",
          "text": [
            " 65%|██████▌   | 160/246 [03:53<00:06, 12.36it/s]"
          ]
        },
        {
          "name": "stdout",
          "output_type": "stream",
          "text": [
            "0.28571428571428575\n",
            "0.28571428571428575\n",
            "0.20000000000000004\n",
            "0.20000000000000004\n",
            "0.25\n",
            "0.22222222222222224\n",
            "0.20000000000000004\n",
            "0.20000000000000004\n",
            "0.28571428571428575\n",
            "0.4000000000000001\n",
            "0.33333333333333337\n",
            "0.28571428571428575\n",
            "0.22222222222222224\n",
            "0.20000000000000004\n",
            "0.20000000000000004\n",
            "0.28571428571428575\n",
            "0.33333333333333337\n",
            "0.25\n",
            "0.20000000000000004\n",
            "0.28571428571428575\n",
            "0.20000000000000004\n",
            "0.20000000000000004\n",
            "0.5\n",
            "0.33333333333333337\n",
            "0.25\n",
            "0.25\n",
            "0.20000000000000004\n",
            "0.28571428571428575\n",
            "0.33333333333333337\n",
            "0.20000000000000004\n",
            "0.5\n",
            "0.20000000000000004\n",
            "0.20000000000000004\n",
            "0.20000000000000004\n",
            "0.28571428571428575\n",
            "0.33333333333333337\n",
            "0.4000000000000001\n",
            "0.20000000000000004\n",
            "0.22222222222222224\n",
            "0.33333333333333337\n",
            "0.28571428571428575\n",
            "0.33333333333333337\n",
            "0.28571428571428575\n",
            "0.25\n",
            "0.25\n",
            "0.4000000000000001\n",
            "0.20000000000000004\n",
            "0.20000000000000004\n",
            "0.8000000000000002\n",
            "0.20000000000000004\n",
            "\n",
            "\n",
            "Evidence Retrieval F-score: 0.091\n",
            "\n",
            "\n"
          ]
        },
        {
          "name": "stderr",
          "output_type": "stream",
          "text": [
            " 79%|███████▉  | 194/246 [07:02<00:09,  5.58it/s]"
          ]
        },
        {
          "name": "stdout",
          "output_type": "stream",
          "text": [
            "\n",
            "\n",
            "epoch: 4, epoch_step: 64, avg loss: 4.187320\n",
            "learning rate: 0.000620\n",
            "\n",
            "\n"
          ]
        },
        {
          "name": "stderr",
          "output_type": "stream",
          "text": [
            " 91%|█████████ | 224/246 [07:05<00:01, 12.54it/s]"
          ]
        },
        {
          "name": "stdout",
          "output_type": "stream",
          "text": [
            "\n",
            "\n",
            "epoch: 4, epoch_step: 74, avg loss: 4.235623\n",
            "learning rate: 0.000640\n",
            "\n",
            "\n"
          ]
        },
        {
          "name": "stderr",
          "output_type": "stream",
          "text": [
            "100%|██████████| 246/246 [07:06<00:00,  1.74s/it]\n",
            "  3%|▎         | 8/246 [00:00<00:18, 12.71it/s]"
          ]
        },
        {
          "name": "stdout",
          "output_type": "stream",
          "text": [
            "\n",
            "\n",
            "epoch: 5, epoch_step: 2, avg loss: 4.202347\n",
            "learning rate: 0.000660\n",
            "\n",
            "\n"
          ]
        },
        {
          "name": "stderr",
          "output_type": "stream",
          "text": [
            " 15%|█▌        | 38/246 [00:02<00:16, 12.88it/s]"
          ]
        },
        {
          "name": "stdout",
          "output_type": "stream",
          "text": [
            "\n",
            "\n",
            "epoch: 5, epoch_step: 12, avg loss: 4.193675\n",
            "learning rate: 0.000680\n",
            "\n",
            "\n"
          ]
        },
        {
          "name": "stderr",
          "output_type": "stream",
          "text": [
            " 26%|██▌       | 64/246 [00:05<00:14, 12.39it/s]"
          ]
        },
        {
          "name": "stdout",
          "output_type": "stream",
          "text": [
            "\n",
            "\n",
            "epoch: 5, epoch_step: 22, avg loss: 4.184556\n",
            "learning rate: 0.000700\n",
            "\n",
            "\n",
            "\n",
            "Evaluate:\n",
            "\n"
          ]
        },
        {
          "name": "stderr",
          "output_type": "stream",
          "text": [
            " 26%|██▌       | 64/246 [00:17<00:14, 12.39it/s]"
          ]
        },
        {
          "name": "stdout",
          "output_type": "stream",
          "text": [
            "0.5714285714285715\n",
            "0.28571428571428575\n",
            "0.5\n",
            "0.22222222222222224\n",
            "0.20000000000000004\n",
            "0.20000000000000004\n",
            "0.28571428571428575\n",
            "0.4000000000000001\n",
            "0.33333333333333337\n",
            "0.28571428571428575\n",
            "0.22222222222222224\n",
            "0.20000000000000004\n",
            "0.25\n",
            "0.20000000000000004\n",
            "0.28571428571428575\n",
            "0.20000000000000004\n",
            "0.20000000000000004\n",
            "0.25\n",
            "0.33333333333333337\n",
            "0.25\n",
            "0.5\n",
            "0.28571428571428575\n",
            "0.33333333333333337\n",
            "0.20000000000000004\n",
            "0.25\n",
            "0.20000000000000004\n",
            "0.20000000000000004\n",
            "0.20000000000000004\n",
            "0.20000000000000004\n",
            "0.25\n",
            "0.28571428571428575\n",
            "0.33333333333333337\n",
            "0.20000000000000004\n",
            "0.22222222222222224\n",
            "0.20000000000000004\n",
            "0.4000000000000001\n",
            "0.22222222222222224\n",
            "0.25\n",
            "0.28571428571428575\n",
            "0.33333333333333337\n",
            "0.28571428571428575\n",
            "0.25\n",
            "0.25\n",
            "0.20000000000000004\n",
            "0.20000000000000004\n",
            "0.25\n",
            "0.6\n",
            "\n",
            "\n",
            "Evidence Retrieval F-score: 0.085\n",
            "\n",
            "\n"
          ]
        },
        {
          "name": "stderr",
          "output_type": "stream",
          "text": [
            " 40%|███▉      | 98/246 [03:28<00:26,  5.52it/s]  "
          ]
        },
        {
          "name": "stdout",
          "output_type": "stream",
          "text": [
            "\n",
            "\n",
            "epoch: 5, epoch_step: 32, avg loss: 4.216505\n",
            "learning rate: 0.000720\n",
            "\n",
            "\n"
          ]
        },
        {
          "name": "stderr",
          "output_type": "stream",
          "text": [
            " 52%|█████▏    | 128/246 [03:30<00:09, 12.44it/s]"
          ]
        },
        {
          "name": "stdout",
          "output_type": "stream",
          "text": [
            "\n",
            "\n",
            "epoch: 5, epoch_step: 42, avg loss: 4.183382\n",
            "learning rate: 0.000740\n",
            "\n",
            "\n"
          ]
        },
        {
          "name": "stderr",
          "output_type": "stream",
          "text": [
            " 64%|██████▍   | 158/246 [03:33<00:07, 12.33it/s]"
          ]
        },
        {
          "name": "stdout",
          "output_type": "stream",
          "text": [
            "\n",
            "\n",
            "epoch: 5, epoch_step: 52, avg loss: 4.215314\n",
            "learning rate: 0.000760\n",
            "\n",
            "\n"
          ]
        },
        {
          "name": "stderr",
          "output_type": "stream",
          "text": [
            " 76%|███████▋  | 188/246 [03:35<00:04, 12.50it/s]"
          ]
        },
        {
          "name": "stdout",
          "output_type": "stream",
          "text": [
            "\n",
            "\n",
            "epoch: 5, epoch_step: 62, avg loss: 4.230684\n",
            "learning rate: 0.000780\n",
            "\n",
            "\n"
          ]
        },
        {
          "name": "stderr",
          "output_type": "stream",
          "text": [
            " 87%|████████▋ | 214/246 [03:37<00:02, 12.14it/s]"
          ]
        },
        {
          "name": "stdout",
          "output_type": "stream",
          "text": [
            "\n",
            "\n",
            "epoch: 5, epoch_step: 72, avg loss: 4.191739\n",
            "learning rate: 0.000800\n",
            "\n",
            "\n",
            "\n",
            "Evaluate:\n",
            "\n"
          ]
        },
        {
          "name": "stderr",
          "output_type": "stream",
          "text": [
            " 87%|████████▋ | 214/246 [03:57<00:02, 12.14it/s]"
          ]
        },
        {
          "name": "stdout",
          "output_type": "stream",
          "text": [
            "0.28571428571428575\n",
            "0.28571428571428575\n",
            "0.20000000000000004\n",
            "0.20000000000000004\n",
            "0.25\n",
            "0.22222222222222224\n",
            "0.20000000000000004\n",
            "0.20000000000000004\n",
            "0.28571428571428575\n",
            "0.4000000000000001\n",
            "0.33333333333333337\n",
            "0.28571428571428575\n",
            "0.22222222222222224\n",
            "0.20000000000000004\n",
            "0.20000000000000004\n",
            "0.28571428571428575\n",
            "0.33333333333333337\n",
            "0.20000000000000004\n",
            "0.28571428571428575\n",
            "0.20000000000000004\n",
            "0.20000000000000004\n",
            "0.5\n",
            "0.33333333333333337\n",
            "0.25\n",
            "0.5\n",
            "0.20000000000000004\n",
            "0.28571428571428575\n",
            "0.33333333333333337\n",
            "0.6\n",
            "0.5\n",
            "0.20000000000000004\n",
            "0.20000000000000004\n",
            "0.20000000000000004\n",
            "0.28571428571428575\n",
            "0.33333333333333337\n",
            "0.4000000000000001\n",
            "0.20000000000000004\n",
            "0.22222222222222224\n",
            "0.33333333333333337\n",
            "0.28571428571428575\n",
            "0.33333333333333337\n",
            "0.28571428571428575\n",
            "0.25\n",
            "0.4000000000000001\n",
            "0.20000000000000004\n",
            "0.20000000000000004\n",
            "1.0\n",
            "0.20000000000000004\n",
            "\n",
            "\n",
            "Evidence Retrieval F-score: 0.093\n",
            "\n",
            "\n"
          ]
        },
        {
          "name": "stderr",
          "output_type": "stream",
          "text": [
            " 89%|████████▊ | 218/246 [06:58<09:51, 21.13s/it]"
          ]
        },
        {
          "name": "stdout",
          "output_type": "stream",
          "text": [
            "\n",
            "\n",
            "best val loss - epoch: 4, epoch_step: 72\n",
            "maxi_f_score 0.09290352504638219 \n",
            "\n",
            "\n"
          ]
        },
        {
          "name": "stderr",
          "output_type": "stream",
          "text": [
            "100%|██████████| 246/246 [07:00<00:00,  1.71s/it]"
          ]
        },
        {
          "name": "stdout",
          "output_type": "stream",
          "text": [
            "\n",
            "\n",
            "epoch: 5, epoch_step: 82, avg loss: 4.176377\n",
            "learning rate: 0.000820\n",
            "\n",
            "\n"
          ]
        },
        {
          "name": "stderr",
          "output_type": "stream",
          "text": [
            "\n"
          ]
        }
      ],
      "source": [
        "encoder_optimizer.zero_grad()\n",
        "step_cnt, all_step_cnt, avg_loss, maximum_f_score = 0, 0, 0, 0\n",
        "n_epochs = 5\n",
        "for epoch in range(n_epochs):\n",
        "    epoch_step = 0\n",
        "\n",
        "    for (i, batch) in enumerate(tqdm(dataloader)):\n",
        "\n",
        "        query_embeddings = lstm_encoder(batch[\"queries\"].cuda(), batch[\"queries_pos\"].cuda())\n",
        "        evidence_embeddings = lstm_encoder(batch[\"evidences\"].cuda(), batch[\"evidences_pos\"].cuda())\n",
        "\n",
        "        query_embeddings = query_embeddings[:, -1, :]\n",
        "        evidence_embeddings = evidence_embeddings[:, -1, :]\n",
        "\n",
        "        assert query_embeddings.size(1) == evidence_embeddings.size(1), \"Embedding dimensions not match\"\n",
        "\n",
        "        query_embeddings = torch.nn.functional.normalize(query_embeddings, p=2, dim=1)\n",
        "        evidence_embeddings = torch.nn.functional.normalize(evidence_embeddings, p=2, dim=1)\n",
        "\n",
        "        cos_sims = torch.mm(query_embeddings, evidence_embeddings.t())\n",
        "        scores = cos_sims / 0.1\n",
        "        loss = []\n",
        "        start_idx = 0\n",
        "        criterion = torch.nn.CrossEntropyLoss()\n",
        "        for idx, labels in enumerate(batch[\"labels\"]):\n",
        "            labels = torch.LongTensor(labels).cuda()\n",
        "            cur_loss = criterion(scores[idx].unsqueeze(0).repeat(len(labels), 1), labels)\n",
        "        loss = loss + [cur_loss]\n",
        "        loss = torch.stack(loss).mean()\n",
        "\n",
        "        # cos_sims = torch.mm(query_embeddings, evidence_embeddings.t())\n",
        "        # scores = - torch.nn.functional.log_softmax(cos_sims / 0.1 + 1e-10, dim=1)\n",
        "        # loss = []\n",
        "        # start_idx = 0\n",
        "        # for idx, label in enumerate(batch[\"labels\"]):\n",
        "        #     label = torch.LongTensor(label).cuda()\n",
        "        #     cur_loss = torch.mean(torch.index_select(scores[idx], 0, label))\n",
        "        #     loss.append(cur_loss)\n",
        "        # loss = torch.stack(loss).mean()\n",
        "\n",
        "        loss = loss / accumulate_step\n",
        "        loss.backward()\n",
        "\n",
        "        avg_loss += loss.item()\n",
        "\n",
        "        step_cnt += 1\n",
        "        if step_cnt == accumulate_step:\n",
        "            # updating\n",
        "            if grad_norm > 0:\n",
        "                nn.utils.clip_grad_norm_(lstm_encoder.parameters(), grad_norm)\n",
        "\n",
        "            step_cnt = 0\n",
        "            epoch_step += 1\n",
        "            all_step_cnt += 1\n",
        "\n",
        "            # adjust learning rate\n",
        "            if all_step_cnt <= warmup_steps:\n",
        "                lr = all_step_cnt * (max_lr - 2e-8) / warmup_steps + 2e-8\n",
        "            else:\n",
        "                lr = max_lr - (all_step_cnt - warmup_steps) * 1e-5\n",
        "\n",
        "            encoder_optimizer.step()\n",
        "            encoder_optimizer.zero_grad()\n",
        "\n",
        "        if all_step_cnt % report_freq == 0 and step_cnt == 0:\n",
        "            if all_step_cnt <= warmup_steps:\n",
        "                lr = all_step_cnt * (max_lr - 2e-8) / warmup_steps + 2e-8\n",
        "            else:\n",
        "                lr = max_lr - (all_step_cnt - warmup_steps) * 1e-5\n",
        "\n",
        "            # report stats\n",
        "            print(\"\\n\")\n",
        "            print(\"epoch: %d, epoch_step: %d, avg loss: %.6f\" % (epoch + 1, epoch_step, avg_loss / report_freq))\n",
        "            print(f\"learning rate: {lr:.6f}\")\n",
        "            print(\"\\n\")\n",
        "            avg_loss = 0\n",
        "        del loss, cos_sims, query_embeddings, evidence_embeddings\n",
        "\n",
        "        if all_step_cnt % eval_interval == 0 and all_step_cnt != 0 and step_cnt == 0:\n",
        "            # evaluate the model as a scorer\n",
        "            print(\"\\nEvaluate:\\n\")\n",
        "\n",
        "            f_score = validate(dev_input, evidences_input, dev_sort_evidences, dev_claim_evidences, lstm_encoder)\n",
        "\n",
        "            if f_score > maximum_f_score:\n",
        "                maximum_f_score = f_score\n",
        "                os.makedirs(save_dir, exist_ok=True)\n",
        "                torch.save(lstm_encoder.state_dict(), os.path.join(os.path.abspath(save_dir), \"best_model.bin\"))\n",
        "                print()\n",
        "                print()\n",
        "                print(\"best val loss - epoch: %d, epoch_step: %d\" % (epoch, epoch_step))\n",
        "                print(\"maxi_f_score\", f_score, \"\\n\\n\")"
      ]
    },
    {
      "cell_type": "code",
      "execution_count": 30,
      "metadata": {
        "id": "P4tH0OoAhYTM"
      },
      "outputs": [],
      "source": [
        "torch.cuda.empty_cache()"
      ]
    },
    {
      "cell_type": "markdown",
      "metadata": {
        "id": "EzGuzHPE87Ya"
      },
      "source": [
        "# 3.Testing and Evaluation\n",
        "(You can add as many code blocks and text blocks as you need. However, YOU SHOULD NOT MODIFY the section title)"
      ]
    },
    {
      "cell_type": "markdown",
      "metadata": {},
      "source": [
        "### get the best one to evaluate"
      ]
    },
    {
      "cell_type": "code",
      "execution_count": 31,
      "metadata": {
        "colab": {
          "base_uri": "https://localhost:8080/"
        },
        "id": "vS0YxgEuhYTN",
        "outputId": "f13cb429-478f-4199-bd94-792147f27ec3"
      },
      "outputs": [
        {
          "data": {
            "text/plain": [
              "Encoder(\n",
              "  (embedding): Embedding(90097, 512)\n",
              "  (pos_embedding): Embedding(180, 512)\n",
              "  (encoder): LSTM(512, 512, num_layers=6, batch_first=True, dropout=0.2, bidirectional=True)\n",
              "  (dropout): Dropout(p=0.2, inplace=False)\n",
              ")"
            ]
          },
          "execution_count": 31,
          "metadata": {},
          "output_type": "execute_result"
        }
      ],
      "source": [
        "lstm_encoder.load_state_dict(torch.load(os.path.join(save_dir, \"best_model.bin\")))\n",
        "lstm_encoder.cuda().eval()"
      ]
    },
    {
      "cell_type": "code",
      "execution_count": 32,
      "metadata": {
        "id": "c0X6Q2aUhYTN"
      },
      "outputs": [],
      "source": [
        "evidence_embeddings = []\n",
        "start_idx = 0\n",
        "batch_size = 800\n",
        "evidence_len = len(evidences_input[0])\n",
        "\n",
        "while start_idx < len(evidences_input):\n",
        "    end_idx = min(start_idx + batch_size, len(evidences_input))\n",
        "\n",
        "    cur_evidence = torch.LongTensor(evidences_input[start_idx:end_idx]).view(-1, evidence_len).cuda()\n",
        "    cur_evidence_pos = torch.LongTensor([list(range(evidence_len)) for _ in range(end_idx - start_idx)]).cuda()\n",
        "    start_idx = end_idx\n",
        "\n",
        "    cur_embedding = lstm_encoder(cur_evidence, cur_evidence_pos)\n",
        "    cur_embedding = cur_embedding[:, -1, :].detach()\n",
        "    cur_embedding_cpu = F.normalize(cur_embedding, p=2, dim=1).cpu()  # for cosine similarity\n",
        "    evidence_embeddings = evidence_embeddings + [cur_embedding_cpu]\n",
        "\n",
        "    del cur_embedding, cur_evidence, cur_evidence_pos\n",
        "\n",
        "evidence_embeddings = torch.cat(evidence_embeddings, dim=0).t()\n"
      ]
    },
    {
      "cell_type": "code",
      "execution_count": 33,
      "metadata": {
        "id": "NGXYpUNvhYTN"
      },
      "outputs": [],
      "source": [
        "torch.cuda.empty_cache()"
      ]
    },
    {
      "cell_type": "markdown",
      "metadata": {},
      "source": [
        "### evaluation function"
      ]
    },
    {
      "cell_type": "code",
      "execution_count": 34,
      "metadata": {
        "id": "XUHbeVmXhYTN"
      },
      "outputs": [],
      "source": [
        "def evaluate(dev_text_idx, evidence_embeddings, dev_sort_evidences, dev_claim_evidences, model):\n",
        "    # get evidence embeddings\n",
        "    model.eval()\n",
        "\n",
        "    text_len = len(dev_text_idx[0])\n",
        "    f = []\n",
        "\n",
        "    start_idx = 0\n",
        "\n",
        "    while start_idx < len(dev_text_idx):\n",
        "        end_idx = min(start_idx + 200, len(dev_text_idx))\n",
        "\n",
        "        cur_query = torch.LongTensor(dev_text_idx[start_idx:end_idx]).view(-1, text_len).cuda()\n",
        "        cur_query_pos = torch.LongTensor([list(range(text_len)) for _ in range(end_idx - start_idx)]).cuda()\n",
        "\n",
        "        query_embedding = model(cur_query, cur_query_pos)\n",
        "        query_embedding = query_embedding[:, -1, :].detach()\n",
        "        query_embedding = F.normalize(query_embedding, p=2, dim=1).cpu()\n",
        "\n",
        "        scores = torch.mm(query_embedding, evidence_embeddings)\n",
        "\n",
        "        for i in range(scores.size(0)):\n",
        "            new_score = torch.index_select(scores[i], 0, torch.LongTensor(dev_sort_evidences[start_idx+i][:dev_candis_num]))\n",
        "            topk_ids = torch.argsort(new_score).tolist()\n",
        "            select_ids = topk_ids[:retrieval_num]\n",
        "\n",
        "            evidence_correct = 0\n",
        "            pred_evidences = [dev_sort_evidences[start_idx+i][j] for j in select_ids]\n",
        "\n",
        "            label = dev_claim_evidences[start_idx+i]\n",
        "\n",
        "            for evidence_id in label:\n",
        "                if evidence_id in pred_evidences:\n",
        "                    evidence_correct += 1\n",
        "            evidence_fscore = cal_fscore(evidence_correct, label, pred_evidences)\n",
        "            f.append(evidence_fscore)\n",
        "\n",
        "        start_idx = end_idx\n",
        "\n",
        "    fscore = np.mean(f)\n",
        "    print(\"\\n\\nEvidence Retrieval F-score: %.3f\\n\\n\" % fscore)\n",
        "    return fscore"
      ]
    },
    {
      "cell_type": "code",
      "execution_count": 35,
      "metadata": {
        "colab": {
          "base_uri": "https://localhost:8080/"
        },
        "id": "Em1EG8V_hYTO",
        "outputId": "ed329e93-b39b-411b-85f4-2f643c61dcee",
        "scrolled": true
      },
      "outputs": [
        {
          "name": "stdout",
          "output_type": "stream",
          "text": [
            "0.28571428571428575\n",
            "0.28571428571428575\n",
            "0.20000000000000004\n",
            "0.20000000000000004\n",
            "0.25\n",
            "0.22222222222222224\n",
            "0.20000000000000004\n",
            "0.28571428571428575\n",
            "0.4000000000000001\n",
            "0.33333333333333337\n",
            "0.28571428571428575\n",
            "0.22222222222222224\n",
            "0.20000000000000004\n",
            "0.20000000000000004\n",
            "0.28571428571428575\n",
            "0.33333333333333337\n",
            "0.20000000000000004\n",
            "0.28571428571428575\n",
            "0.20000000000000004\n",
            "0.20000000000000004\n",
            "0.5\n",
            "0.33333333333333337\n",
            "0.25\n",
            "0.5\n",
            "0.20000000000000004\n",
            "0.28571428571428575\n",
            "0.33333333333333337\n",
            "0.6\n",
            "0.5\n",
            "0.20000000000000004\n",
            "0.20000000000000004\n",
            "0.20000000000000004\n",
            "0.28571428571428575\n",
            "0.33333333333333337\n",
            "0.20000000000000004\n",
            "0.6\n",
            "0.22222222222222224\n",
            "0.33333333333333337\n",
            "0.28571428571428575\n",
            "0.33333333333333337\n",
            "0.28571428571428575\n",
            "0.25\n",
            "0.4000000000000001\n",
            "0.20000000000000004\n",
            "0.20000000000000004\n",
            "1.0\n",
            "0.20000000000000004\n",
            "\n",
            "\n",
            "Evidence Retrieval F-score: 0.093\n",
            "\n",
            "\n",
            "0.09290352504638219\n"
          ]
        }
      ],
      "source": [
        "fscore = evaluate(dev_input, evidence_embeddings, dev_sort_evidences, dev_claim_evidences, lstm_encoder)\n",
        "print(fscore)"
      ]
    },
    {
      "cell_type": "markdown",
      "metadata": {},
      "source": [
        "# 4. Make prediction "
      ]
    },
    {
      "cell_type": "markdown",
      "metadata": {},
      "source": [
        "### prediction function"
      ]
    },
    {
      "cell_type": "code",
      "execution_count": 36,
      "metadata": {
        "id": "6ZVeNYIH9IaL"
      },
      "outputs": [],
      "source": [
        "def do_prediction(dev_text_idx, evidences_embeddings, dev_sort_evidences, cleaned_evidence_id, encoder_model):\n",
        "    # get evidence embeddings\n",
        "    text_len = len(dev_text_idx[0])\n",
        "    encoder_model.eval()\n",
        "\n",
        "    start_idx = 0\n",
        "    prediction = []\n",
        "    while start_idx < len(dev_text_idx):\n",
        "        end_idx = min(start_idx + 200, len(dev_text_idx))\n",
        "\n",
        "        cur_query = torch.LongTensor(dev_text_idx[start_idx:end_idx]).view(-1, text_len).cuda()\n",
        "        cur_query_pos = torch.LongTensor([list(range(text_len)) for _ in range(end_idx - start_idx)]).cuda()\n",
        "\n",
        "        query_embedding = encoder_model(cur_query, cur_query_pos)\n",
        "        query_embedding = query_embedding[:, -1, :].detach()\n",
        "        query_embedding = F.normalize(query_embedding, p=2, dim=1).cpu()\n",
        "\n",
        "        scores = torch.mm(query_embedding, evidences_embeddings)\n",
        "\n",
        "        for i in range(scores.size(0)):\n",
        "            new_score = torch.index_select(scores[i], 0, torch.LongTensor(dev_sort_evidences[start_idx+i][:dev_candis_num]))\n",
        "            topk_ids = torch.argsort(new_score).tolist()\n",
        "\n",
        "            pred_evidences = [cleaned_evidence_id[dev_sort_evidences[start_idx+i][j]] for j in topk_ids[:retrieval_num]]\n",
        "            prediction.append(pred_evidences)\n",
        "\n",
        "        start_idx = end_idx\n",
        "    return prediction"
      ]
    },
    {
      "cell_type": "code",
      "execution_count": 37,
      "metadata": {
        "id": "4ImDGI4uhYTO"
      },
      "outputs": [],
      "source": [
        "pred_dev_claims = dict()\n",
        "pred_test_claims = dict()\n",
        "dev_evidence_ids = do_prediction(dev_input, evidence_embeddings, dev_sort_evidences, cleaned_evidence_id, lstm_encoder)\n",
        "test_evidence_ids = do_prediction(test_input, evidence_embeddings, test_sort_evidences, cleaned_evidence_id, lstm_encoder)\n",
        "\n",
        "with open(\"data/dev-claims.json\", \"r\") as f:\n",
        "    dev_claims = json.load(f)\n",
        "with open(\"data/test-claims-unlabelled.json\", \"r\") as f:\n",
        "    test_claims = json.load(f)\n",
        "\n",
        "for idx, evidence_ids in enumerate(dev_evidence_ids):\n",
        "    pred_dev_claims[dev_claim_id[idx]] = dev_claims[dev_claim_id[idx]]\n",
        "    pred_dev_claims[dev_claim_id[idx]]['evidences'] = evidence_ids\n",
        "\n",
        "\n",
        "for idx, evidence_ids in enumerate(test_evidence_ids):\n",
        "    pred_test_claims[test_claim_id[idx]] = test_claims[test_claim_id[idx]]\n",
        "    pred_test_claims[test_claim_id[idx]]['evidences'] = evidence_ids\n",
        "\n",
        "with open(\"data/dev_predict.json\", \"w\") as f:\n",
        "    json.dump(pred_dev_claims, f)\n",
        "with open(\"data/test-claims-unlabelled.json\", \"w\") as f:\n",
        "    json.dump(pred_test_claims, f)"
      ]
    },
    {
      "cell_type": "markdown",
      "metadata": {
        "id": "M5o1MDvvhYTP"
      },
      "source": [
        "# Task2: CLS LABEL FOR CLAIM"
      ]
    },
    {
      "cell_type": "markdown",
      "metadata": {
        "id": "z7rcckpOhYTP"
      },
      "source": [
        "# 1.Preprocessing"
      ]
    },
    {
      "cell_type": "code",
      "execution_count": null,
      "metadata": {},
      "outputs": [],
      "source": [
        "dev_cls_data = []\n",
        "test_cls_data = []\n",
        "all_max_len = 580\n",
        "\n",
        "for idx, dev_text in enumerate(dev_text_idx):\n",
        "    temp_data = {\"label\": dev_claim_label[idx]}\n",
        "    temp_text = [wordidx[\"<cls>\"]] + dev_text_idx[idx][:60]\n",
        "    for i in dev_evidence_ids[idx]:\n",
        "        temp_text = temp_text + [wordidx[\"<sep>\"]] + evidences_text_idx[evidences_id_dict[i]][:100]\n",
        "    temp_text.append(wordidx[\"<sep>\"])\n",
        "    if len(temp_text) < all_max_len:\n",
        "        temp_text = temp_text + [wordidx[\"<pad>\"]] * (all_max_len - len(temp_text))\n",
        "    temp_data['text'] = temp_text\n",
        "    dev_cls_data.append(temp_data)\n",
        "\n",
        "for idx, test_text in enumerate(test_text_idx):\n",
        "    temp_data = {}\n",
        "    temp_text = [wordidx[\"<cls>\"]] + test_text_idx[idx][:60]\n",
        "    for i in test_evidence_ids[idx]:\n",
        "        temp_text = temp_text + [wordidx[\"<sep>\"]] + evidences_text_idx[evidences_id_dict[i]][:100]\n",
        "    temp_text.append(wordidx[\"<sep>\"])\n",
        "    if len(temp_text) < all_max_len:\n",
        "        temp_text = temp_text + [wordidx[\"<pad>\"]] * (all_max_len - len(temp_text))\n",
        "    temp_data['text'] = temp_text\n",
        "    test_cls_data.append(temp_data)\n",
        "with open(\"dev_cls_data.json\", \"w\") as f:\n",
        "    json.dump(dev_cls_data, f)\n",
        "with open(\"test_cls_data.json\", \"w\") as f:\n",
        "    json.dump(test_cls_data, f)"
      ]
    },
    {
      "cell_type": "code",
      "execution_count": 39,
      "metadata": {
        "id": "TYmE_e2dhYTQ"
      },
      "outputs": [],
      "source": [
        "with open(\"dev_cls_data.json\", \"r\") as f:\n",
        "    dev_cls_data = json.load(f)\n",
        "with open(\"test_cls_data.json\", \"r\") as f:\n",
        "    test_cls_data = json.load(f)\n",
        "with open(\"pred_train_negative_evidences.json\", \"r\") as f:\n",
        "    train_negative_evidences = json.load(f)\n",
        "\n",
        "labels = [\"SUPPORTS\", \"NOT_ENOUGH_INFO\", \"REFUTES\", \"DISPUTED\"]\n",
        "labels_id = {\"SUPPORTS\": 0, \"NOT_ENOUGH_INFO\": 1, \"REFUTES\": 2, \"DISPUTED\": 3}"
      ]
    },
    {
      "cell_type": "markdown",
      "metadata": {},
      "source": [
        "### Construct TrainDataset"
      ]
    },
    {
      "cell_type": "code",
      "execution_count": 40,
      "metadata": {
        "id": "Qn6cP3kKhYTQ"
      },
      "outputs": [],
      "source": [
        "text_max_len = 60\n",
        "evidence_max_len = 100\n",
        "all_max_len = 580\n",
        "retrieval_num = 5\n",
        "\n",
        "class TrainDataset(Dataset):\n",
        "    def __init__(self, text_data, evidence_data, positive_evidences, negative_evidences, cls_label, cls_idx, sep_idx, pad_idx, evidence_num=5):\n",
        "        self.text_data = text_data\n",
        "        self.evidence_data = evidence_data\n",
        "        self.negative_evidences = negative_evidences\n",
        "        self.evidence_num = evidence_num\n",
        "        self.positive_evidences = positive_evidences\n",
        "        self.cls_idx = cls_idx\n",
        "        self.sep_idx = sep_idx\n",
        "        self.pad_idx = pad_idx\n",
        "\n",
        "        self.cls_label = [labels_id[i] for i in cls_label]\n",
        "\n",
        "    def __len__(self):\n",
        "        return len(self.text_data)\n",
        "\n",
        "    def __getitem__(self, idx):\n",
        "        positive_evidences = self.positive_evidences[idx]\n",
        "        negative_evidences = self.negative_evidences[idx]\n",
        "        cls_label = self.cls_label[idx]\n",
        "        return [self.text_data[idx][:text_max_len], positive_evidences, negative_evidences, self.cls_label[idx]]\n",
        "\n",
        "    def collate_fn(self, batch):\n",
        "        queries, queries_pos, labels = [], [], []\n",
        "\n",
        "        for i, j, h, k in batch:\n",
        "            l = len(j)\n",
        "            temp_text = [self.cls_idx]\n",
        "            temp_text = temp_text + i\n",
        "            for p in j:\n",
        "                temp_text = temp_text + [self.sep_idx]\n",
        "                temp_text = temp_text + self.evidence_data[p][:evidence_max_len]\n",
        "            if self.evidence_num > l:\n",
        "                n = random.sample(h, self.evidence_num - l)\n",
        "                for p in n:\n",
        "                    temp_text = temp_text + [self.sep_idx]\n",
        "                    temp_text = temp_text + self.evidence_data[p][:evidence_max_len]\n",
        "            temp_text = temp_text + [self.sep_idx]\n",
        "            if len(temp_text) < all_max_len:\n",
        "                temp_text = temp_text + [self.pad_idx] * (all_max_len - len(temp_text))\n",
        "\n",
        "            queries = queries + [temp_text]\n",
        "            queries_pos = queries_pos + [list(range(all_max_len))]\n",
        "            labels = labels + [k]\n",
        "\n",
        "        batch_encoding = {\"queries\": torch.LongTensor(queries),\n",
        "                          \"queries_pos\": torch.LongTensor(queries_pos),\n",
        "                          \"labels\": torch.LongTensor(labels)}\n",
        "\n",
        "        return batch_encoding"
      ]
    },
    {
      "cell_type": "code",
      "execution_count": 43,
      "metadata": {
        "colab": {
          "base_uri": "https://localhost:8080/"
        },
        "id": "g7IVqXY7hYTQ",
        "outputId": "e151d198-7b2d-47a7-eab2-d3f973563a1c"
      },
      "outputs": [
        {
          "name": "stdout",
          "output_type": "stream",
          "text": [
            "Counter({'SUPPORTS': 519, 'NOT_ENOUGH_INFO': 386, 'REFUTES': 199, 'DISPUTED': 124})\n"
          ]
        }
      ],
      "source": [
        "labels = [i[\"label\"] for i in dev_cls_data]\n",
        "dev_outputs = [labels_id[i] for i in labels]\n",
        "dev_inputs = [i['text'] for i in dev_cls_data]\n",
        "test_inputs = [i['text'] for i in test_cls_data]\n",
        "\n",
        "train_set = TrainDataset(train_text_idx, evidences_text_idx, train_claim_evidences, train_negative_evidences, train_claim_label, wordidx[\"<cls>\"], wordidx[\"<sep>\"], wordidx[\"<pad>\"], evidence_num=retrieval_num)\n",
        "dataloader = DataLoader(train_set, batch_size=10, shuffle=True, num_workers=0, collate_fn=train_set.collate_fn)\n",
        "\n",
        "print(Counter(train_claim_label))"
      ]
    },
    {
      "cell_type": "markdown",
      "metadata": {},
      "source": [
        "# 2. Model Implementation"
      ]
    },
    {
      "cell_type": "markdown",
      "metadata": {},
      "source": [
        "### construct cls encoder"
      ]
    },
    {
      "cell_type": "code",
      "execution_count": 44,
      "metadata": {
        "id": "CpiHMK58hYTQ"
      },
      "outputs": [],
      "source": [
        "class CLS(nn.Module):\n",
        "    def __init__(self, vocab_emb, embed_dim, hidden_size, output_size, num_layers, max_position=all_max_len):\n",
        "        super(CLS, self).__init__()\n",
        "\n",
        "        self.embedding = nn.Embedding(vocab_emb, embed_dim)\n",
        "        self.pos_embedding = nn.Embedding(max_position, embed_dim)\n",
        "\n",
        "        self.encoder = nn.LSTM(embed_dim, hidden_size, num_layers=num_layers, batch_first=True, bidirectional=True)\n",
        "        self.hidden_layer = nn.Linear(hidden_size * 2, hidden_size)\n",
        "        self.cls = nn.Linear(hidden_size, output_size)\n",
        "        self.dropout = nn.Dropout(0.2)\n",
        "        self.hidden_size = hidden_size\n",
        "\n",
        "    def forward(self, text_data, position_text):\n",
        "        text_x = self.embedding(text_data) + self.pos_embedding(position_text) * 0.01\n",
        "        x_encoded,_ = self.encoder(text_x)\n",
        "        x_cls = x_encoded[:, 0, :]\n",
        "        x_hidden = F.tanh(self.hidden_layer(x_cls))\n",
        "        x_hidden = self.dropout(x_hidden)\n",
        "        cls_res = self.cls(x_hidden)\n",
        "        return cls_res\n"
      ]
    },
    {
      "cell_type": "code",
      "execution_count": 45,
      "metadata": {
        "id": "wYgQRFQnhYTR"
      },
      "outputs": [],
      "source": [
        "cls_model = CLS(vocab_emb=len(idxword), embed_dim=256, hidden_size=256, output_size=4, num_layers=7, max_position=700).cuda()"
      ]
    },
    {
      "cell_type": "markdown",
      "metadata": {},
      "source": [
        "### Set model hyperparameters"
      ]
    },
    {
      "cell_type": "code",
      "execution_count": 46,
      "metadata": {
        "id": "w7Q9satehYTR"
      },
      "outputs": [],
      "source": [
        "weight_decay = 0.02\n",
        "encoder_optimizer = optim.AdamW(cls_model.parameters(), weight_decay=weight_decay)\n",
        "max_lr = 1e-2\n",
        "for param_group in encoder_optimizer.param_groups:\n",
        "    param_group['lr'] = max_lr\n",
        "warmup_steps = 300"
      ]
    },
    {
      "cell_type": "markdown",
      "metadata": {},
      "source": [
        "### validate function to evaluate each epoch"
      ]
    },
    {
      "cell_type": "code",
      "execution_count": 47,
      "metadata": {
        "id": "trwLJX8QhYTR"
      },
      "outputs": [],
      "source": [
        "def validate(dev_input, dev_output, cls_model_):\n",
        "    # get evidence embeddings\n",
        "    start_idx = 0\n",
        "    cls_model.eval()\n",
        "    l = len(dev_output)\n",
        "    acc = []\n",
        "    correct_count = 0\n",
        "    while start_idx < l:\n",
        "        end_idx = min(start_idx + 50, l)\n",
        "\n",
        "        cur_input = torch.LongTensor(dev_input[start_idx:end_idx]).view(-1, len(dev_input[0])).cuda()\n",
        "        cur_pos = torch.LongTensor([list(range(len(dev_input[0]))) for _ in range(end_idx - start_idx)]).cuda()\n",
        "\n",
        "        cur_res = cls_model_(cur_input, cur_pos)\n",
        "        cur_res = torch.argmax(cur_res, 1)\n",
        "        cur_res = cur_res.tolist()\n",
        "\n",
        "        for i, j in zip(cur_res, dev_output[start_idx: end_idx]):\n",
        "            if i == j:\n",
        "                correct_count += 1\n",
        "\n",
        "        del cur_input, cur_pos\n",
        "        start_idx = end_idx\n",
        "    acc = correct_count / l\n",
        "    print(\"\\n\\nClassification Accuracy: %.3f\\n\\n\" % acc)\n",
        "    cls_model.train()\n",
        "    return acc"
      ]
    },
    {
      "cell_type": "markdown",
      "metadata": {},
      "source": [
        "### Start training"
      ]
    },
    {
      "cell_type": "code",
      "execution_count": 49,
      "metadata": {
        "colab": {
          "base_uri": "https://localhost:8080/",
          "height": 1000,
          "referenced_widgets": [
            "b4502d8550f84911abdc6ee406044b33",
            "ca8dd1219595461b90fd5518e739ec08",
            "43058dfd55bb490ca3d8b3d3fce89bc9",
            "7f1835eded9a4300a94dac4b07db5dc2",
            "5d6153f35d4740178f8ad604c4e8bec3",
            "a928dfd466354d9eb3c2361f9ef437a6",
            "01e375eb57c841069708111b45122162",
            "48903d12901a4d71996d6d3b9b73e3a1"
          ]
        },
        "id": "EiNR7wR7hYTS",
        "outputId": "60ceb8f0-3100-4d73-e037-ace8124337cd"
      },
      "outputs": [
        {
          "data": {
            "text/html": [
              "Finishing last run (ID:eok8a5my) before initializing another..."
            ],
            "text/plain": [
              "<IPython.core.display.HTML object>"
            ]
          },
          "metadata": {},
          "output_type": "display_data"
        },
        {
          "data": {
            "text/html": [
              "<style>\n",
              "    table.wandb td:nth-child(1) { padding: 0 10px; text-align: left ; width: auto;} td:nth-child(2) {text-align: left ; width: 100%}\n",
              "    .wandb-row { display: flex; flex-direction: row; flex-wrap: wrap; justify-content: flex-start; width: 100% }\n",
              "    .wandb-col { display: flex; flex-direction: column; flex-basis: 100%; flex: 1; padding: 10px; }\n",
              "    </style>\n",
              "<div class=\"wandb-row\"><div class=\"wandb-col\"><h3>Run history:</h3><br/><table class=\"wandb\"><tr><td>F_score</td><td>▁▆▆▇▅▇▅█</td></tr><tr><td>Learning_rate</td><td>▁▁▁▂▂▂▂▂▂▃▃▃▃▃▃▄▄▄▄▄▄▅▅▅▅▅▆▆▆▆▆▆▇▇▇▇▇▇██</td></tr><tr><td>Loss</td><td>▂▃▃▂▂█▄▂▁▂▂▃▂▂▃▂▂▃▃▂▃▂▃▂▂▂▃▃▃▃▂▃▃▂▂▃▂▃▃▂</td></tr></table><br/></div><div class=\"wandb-col\"><h3>Run summary:</h3><br/><table class=\"wandb\"><tr><td>F_score</td><td>0.0929</td></tr><tr><td>Learning_rate</td><td>0.00082</td></tr><tr><td>Loss</td><td>4.17638</td></tr></table><br/></div></div>"
            ],
            "text/plain": [
              "<IPython.core.display.HTML object>"
            ]
          },
          "metadata": {},
          "output_type": "display_data"
        },
        {
          "data": {
            "text/html": [
              " View run <strong style=\"color:#cdcd00\">WZTestEvi</strong> at: <a href='https://wandb.ai/nlp_project_5pmteam7/nlp/runs/eok8a5my' target=\"_blank\">https://wandb.ai/nlp_project_5pmteam7/nlp/runs/eok8a5my</a><br/> View project at: <a href='https://wandb.ai/nlp_project_5pmteam7/nlp' target=\"_blank\">https://wandb.ai/nlp_project_5pmteam7/nlp</a><br/>Synced 6 W&B file(s), 0 media file(s), 0 artifact file(s) and 0 other file(s)"
            ],
            "text/plain": [
              "<IPython.core.display.HTML object>"
            ]
          },
          "metadata": {},
          "output_type": "display_data"
        },
        {
          "data": {
            "text/html": [
              "Find logs at: <code>.\\wandb\\run-20240526_151746-eok8a5my\\logs</code>"
            ],
            "text/plain": [
              "<IPython.core.display.HTML object>"
            ]
          },
          "metadata": {},
          "output_type": "display_data"
        },
        {
          "data": {
            "text/html": [
              "Successfully finished last run (ID:eok8a5my). Initializing new run:<br/>"
            ],
            "text/plain": [
              "<IPython.core.display.HTML object>"
            ]
          },
          "metadata": {},
          "output_type": "display_data"
        },
        {
          "data": {
            "text/html": [
              "Tracking run with wandb version 0.17.0"
            ],
            "text/plain": [
              "<IPython.core.display.HTML object>"
            ]
          },
          "metadata": {},
          "output_type": "display_data"
        },
        {
          "data": {
            "text/html": [
              "Run data is saved locally in <code>c:\\Users\\ABC\\Desktop\\学习\\NLP\\project nlp\\COMP90042-NLP-Project-Team07\\wandb\\run-20240526_155005-5nbbq9dt</code>"
            ],
            "text/plain": [
              "<IPython.core.display.HTML object>"
            ]
          },
          "metadata": {},
          "output_type": "display_data"
        },
        {
          "data": {
            "text/html": [
              "Syncing run <strong><a href='https://wandb.ai/nlp_project_5pmteam7/nlp/runs/5nbbq9dt' target=\"_blank\">WZTestCLS</a></strong> to <a href='https://wandb.ai/nlp_project_5pmteam7/nlp' target=\"_blank\">Weights & Biases</a> (<a href='https://wandb.me/run' target=\"_blank\">docs</a>)<br/>"
            ],
            "text/plain": [
              "<IPython.core.display.HTML object>"
            ]
          },
          "metadata": {},
          "output_type": "display_data"
        },
        {
          "data": {
            "text/html": [
              " View project at <a href='https://wandb.ai/nlp_project_5pmteam7/nlp' target=\"_blank\">https://wandb.ai/nlp_project_5pmteam7/nlp</a>"
            ],
            "text/plain": [
              "<IPython.core.display.HTML object>"
            ]
          },
          "metadata": {},
          "output_type": "display_data"
        },
        {
          "data": {
            "text/html": [
              " View run at <a href='https://wandb.ai/nlp_project_5pmteam7/nlp/runs/5nbbq9dt' target=\"_blank\">https://wandb.ai/nlp_project_5pmteam7/nlp/runs/5nbbq9dt</a>"
            ],
            "text/plain": [
              "<IPython.core.display.HTML object>"
            ]
          },
          "metadata": {},
          "output_type": "display_data"
        },
        {
          "name": "stderr",
          "output_type": "stream",
          "text": [
            " 16%|█▋        | 20/123 [00:04<00:20,  5.11it/s]"
          ]
        },
        {
          "name": "stdout",
          "output_type": "stream",
          "text": [
            "\n",
            "\n",
            "Epoch: 1, Epoch_step: 10, Avg loss: 2.304117\n",
            "Learning rate: 0.000333\n",
            "\n",
            "\n"
          ]
        },
        {
          "name": "stderr",
          "output_type": "stream",
          "text": [
            " 33%|███▎      | 40/123 [00:08<00:16,  5.11it/s]"
          ]
        },
        {
          "name": "stdout",
          "output_type": "stream",
          "text": [
            "\n",
            "\n",
            "Epoch: 1, Epoch_step: 20, Avg loss: 1.507000\n",
            "Learning rate: 0.000667\n",
            "\n",
            "\n"
          ]
        },
        {
          "name": "stderr",
          "output_type": "stream",
          "text": [
            " 49%|████▉     | 60/123 [00:11<00:12,  5.22it/s]"
          ]
        },
        {
          "name": "stdout",
          "output_type": "stream",
          "text": [
            "\n",
            "\n",
            "Epoch: 1, Epoch_step: 30, Avg loss: 1.571600\n",
            "Learning rate: 0.001000\n",
            "\n",
            "\n"
          ]
        },
        {
          "name": "stderr",
          "output_type": "stream",
          "text": [
            " 65%|██████▌   | 80/123 [00:15<00:08,  5.11it/s]"
          ]
        },
        {
          "name": "stdout",
          "output_type": "stream",
          "text": [
            "\n",
            "\n",
            "Epoch: 1, Epoch_step: 40, Avg loss: 1.815439\n",
            "Learning rate: 0.001333\n",
            "\n",
            "\n"
          ]
        },
        {
          "name": "stderr",
          "output_type": "stream",
          "text": [
            " 80%|████████  | 99/123 [00:19<00:04,  5.14it/s]"
          ]
        },
        {
          "name": "stdout",
          "output_type": "stream",
          "text": [
            "\n",
            "\n",
            "Epoch: 1, Epoch_step: 50, Avg loss: 1.595932\n",
            "Learning rate: 0.001667\n",
            "\n",
            "\n",
            "\n",
            "Evaluate:\n",
            "\n",
            "\n",
            "\n",
            "Classification Accuracy: 0.442\n",
            "\n",
            "\n",
            "\n",
            "\n",
            "Best val loss - epoch: 0, Epoch_step: 50"
          ]
        },
        {
          "name": "stderr",
          "output_type": "stream",
          "text": [
            " 81%|████████▏ | 100/123 [00:20<00:09,  2.49it/s]"
          ]
        },
        {
          "name": "stdout",
          "output_type": "stream",
          "text": [
            "\n",
            "Max_accuracy 0.44155844155844154 \n",
            "\n",
            "\n"
          ]
        },
        {
          "name": "stderr",
          "output_type": "stream",
          "text": [
            " 98%|█████████▊| 120/123 [00:24<00:00,  5.04it/s]"
          ]
        },
        {
          "name": "stdout",
          "output_type": "stream",
          "text": [
            "\n",
            "\n",
            "Epoch: 1, Epoch_step: 60, Avg loss: 1.494501\n",
            "Learning rate: 0.002000\n",
            "\n",
            "\n"
          ]
        },
        {
          "name": "stderr",
          "output_type": "stream",
          "text": [
            "100%|██████████| 123/123 [00:24<00:00,  4.93it/s]\n",
            " 14%|█▍        | 17/123 [00:03<00:20,  5.05it/s]"
          ]
        },
        {
          "name": "stdout",
          "output_type": "stream",
          "text": [
            "\n",
            "\n",
            "Epoch: 2, Epoch_step: 9, Avg loss: 1.544255\n",
            "Learning rate: 0.002333\n",
            "\n",
            "\n"
          ]
        },
        {
          "name": "stderr",
          "output_type": "stream",
          "text": [
            " 30%|███       | 37/123 [00:07<00:16,  5.10it/s]"
          ]
        },
        {
          "name": "stdout",
          "output_type": "stream",
          "text": [
            "\n",
            "\n",
            "Epoch: 2, Epoch_step: 19, Avg loss: 1.640329\n",
            "Learning rate: 0.002667\n",
            "\n",
            "\n"
          ]
        },
        {
          "name": "stderr",
          "output_type": "stream",
          "text": [
            " 46%|████▋     | 57/123 [00:11<00:13,  5.01it/s]"
          ]
        },
        {
          "name": "stdout",
          "output_type": "stream",
          "text": [
            "\n",
            "\n",
            "Epoch: 2, Epoch_step: 29, Avg loss: 1.484893\n",
            "Learning rate: 0.003000\n",
            "\n",
            "\n"
          ]
        },
        {
          "name": "stderr",
          "output_type": "stream",
          "text": [
            " 62%|██████▏   | 76/123 [00:15<00:09,  5.01it/s]"
          ]
        },
        {
          "name": "stdout",
          "output_type": "stream",
          "text": [
            "\n",
            "\n",
            "Epoch: 2, Epoch_step: 39, Avg loss: 1.468899\n",
            "Learning rate: 0.003333\n",
            "\n",
            "\n",
            "\n",
            "Evaluate:\n",
            "\n"
          ]
        },
        {
          "name": "stderr",
          "output_type": "stream",
          "text": [
            " 63%|██████▎   | 77/123 [00:15<00:14,  3.15it/s]"
          ]
        },
        {
          "name": "stdout",
          "output_type": "stream",
          "text": [
            "\n",
            "\n",
            "Classification Accuracy: 0.266\n",
            "\n",
            "\n"
          ]
        },
        {
          "name": "stderr",
          "output_type": "stream",
          "text": [
            " 79%|███████▉  | 97/123 [00:19<00:05,  5.05it/s]"
          ]
        },
        {
          "name": "stdout",
          "output_type": "stream",
          "text": [
            "\n",
            "\n",
            "Epoch: 2, Epoch_step: 49, Avg loss: 1.429720\n",
            "Learning rate: 0.003667\n",
            "\n",
            "\n"
          ]
        },
        {
          "name": "stderr",
          "output_type": "stream",
          "text": [
            " 95%|█████████▌| 117/123 [00:23<00:01,  5.05it/s]"
          ]
        },
        {
          "name": "stdout",
          "output_type": "stream",
          "text": [
            "\n",
            "\n",
            "Epoch: 2, Epoch_step: 59, Avg loss: 1.400015\n",
            "Learning rate: 0.004000\n",
            "\n",
            "\n"
          ]
        },
        {
          "name": "stderr",
          "output_type": "stream",
          "text": [
            "100%|██████████| 123/123 [00:24<00:00,  4.96it/s]\n",
            " 11%|█▏        | 14/123 [00:02<00:21,  5.02it/s]"
          ]
        },
        {
          "name": "stdout",
          "output_type": "stream",
          "text": [
            "\n",
            "\n",
            "Epoch: 3, Epoch_step: 7, Avg loss: 1.365819\n",
            "Learning rate: 0.004333\n",
            "\n",
            "\n"
          ]
        },
        {
          "name": "stderr",
          "output_type": "stream",
          "text": [
            " 28%|██▊       | 34/123 [00:06<00:17,  5.01it/s]"
          ]
        },
        {
          "name": "stdout",
          "output_type": "stream",
          "text": [
            "\n",
            "\n",
            "Epoch: 3, Epoch_step: 17, Avg loss: 1.404617\n",
            "Learning rate: 0.004667\n",
            "\n",
            "\n"
          ]
        },
        {
          "name": "stderr",
          "output_type": "stream",
          "text": [
            " 43%|████▎     | 53/123 [00:10<00:13,  5.04it/s]"
          ]
        },
        {
          "name": "stdout",
          "output_type": "stream",
          "text": [
            "\n",
            "\n",
            "Epoch: 3, Epoch_step: 27, Avg loss: 1.392720\n",
            "Learning rate: 0.005000\n",
            "\n",
            "\n",
            "\n",
            "Evaluate:\n",
            "\n"
          ]
        },
        {
          "name": "stderr",
          "output_type": "stream",
          "text": [
            " 44%|████▍     | 54/123 [00:11<00:21,  3.26it/s]"
          ]
        },
        {
          "name": "stdout",
          "output_type": "stream",
          "text": [
            "\n",
            "\n",
            "Classification Accuracy: 0.117\n",
            "\n",
            "\n"
          ]
        },
        {
          "name": "stderr",
          "output_type": "stream",
          "text": [
            " 60%|██████    | 74/123 [00:15<00:09,  5.08it/s]"
          ]
        },
        {
          "name": "stdout",
          "output_type": "stream",
          "text": [
            "\n",
            "\n",
            "Epoch: 3, Epoch_step: 37, Avg loss: 1.388385\n",
            "Learning rate: 0.005333\n",
            "\n",
            "\n"
          ]
        },
        {
          "name": "stderr",
          "output_type": "stream",
          "text": [
            " 76%|███████▋  | 94/123 [00:19<00:05,  4.99it/s]"
          ]
        },
        {
          "name": "stdout",
          "output_type": "stream",
          "text": [
            "\n",
            "\n",
            "Epoch: 3, Epoch_step: 47, Avg loss: 1.398821\n",
            "Learning rate: 0.005667\n",
            "\n",
            "\n"
          ]
        },
        {
          "name": "stderr",
          "output_type": "stream",
          "text": [
            " 93%|█████████▎| 114/123 [00:22<00:01,  5.08it/s]"
          ]
        },
        {
          "name": "stdout",
          "output_type": "stream",
          "text": [
            "\n",
            "\n",
            "Epoch: 3, Epoch_step: 57, Avg loss: 1.390976\n",
            "Learning rate: 0.006000\n",
            "\n",
            "\n"
          ]
        },
        {
          "name": "stderr",
          "output_type": "stream",
          "text": [
            "100%|██████████| 123/123 [00:24<00:00,  4.97it/s]\n",
            "  9%|▉         | 11/123 [00:02<00:22,  5.03it/s]"
          ]
        },
        {
          "name": "stdout",
          "output_type": "stream",
          "text": [
            "\n",
            "\n",
            "Epoch: 4, Epoch_step: 6, Avg loss: 1.395507\n",
            "Learning rate: 0.006333\n",
            "\n",
            "\n"
          ]
        },
        {
          "name": "stderr",
          "output_type": "stream",
          "text": [
            " 24%|██▍       | 30/123 [00:05<00:18,  5.07it/s]"
          ]
        },
        {
          "name": "stdout",
          "output_type": "stream",
          "text": [
            "\n",
            "\n",
            "Epoch: 4, Epoch_step: 16, Avg loss: 1.383334\n",
            "Learning rate: 0.006667\n",
            "\n",
            "\n",
            "\n",
            "Evaluate:\n",
            "\n"
          ]
        },
        {
          "name": "stderr",
          "output_type": "stream",
          "text": [
            " 25%|██▌       | 31/123 [00:06<00:28,  3.28it/s]"
          ]
        },
        {
          "name": "stdout",
          "output_type": "stream",
          "text": [
            "\n",
            "\n",
            "Classification Accuracy: 0.266\n",
            "\n",
            "\n"
          ]
        },
        {
          "name": "stderr",
          "output_type": "stream",
          "text": [
            " 41%|████▏     | 51/123 [00:10<00:14,  5.11it/s]"
          ]
        },
        {
          "name": "stdout",
          "output_type": "stream",
          "text": [
            "\n",
            "\n",
            "Epoch: 4, Epoch_step: 26, Avg loss: 1.381854\n",
            "Learning rate: 0.007000\n",
            "\n",
            "\n"
          ]
        },
        {
          "name": "stderr",
          "output_type": "stream",
          "text": [
            " 58%|█████▊    | 71/123 [00:14<00:10,  5.10it/s]"
          ]
        },
        {
          "name": "stdout",
          "output_type": "stream",
          "text": [
            "\n",
            "\n",
            "Epoch: 4, Epoch_step: 36, Avg loss: 1.386146\n",
            "Learning rate: 0.007333\n",
            "\n",
            "\n"
          ]
        },
        {
          "name": "stderr",
          "output_type": "stream",
          "text": [
            " 74%|███████▍  | 91/123 [00:18<00:06,  5.11it/s]"
          ]
        },
        {
          "name": "stdout",
          "output_type": "stream",
          "text": [
            "\n",
            "\n",
            "Epoch: 4, Epoch_step: 46, Avg loss: 1.384133\n",
            "Learning rate: 0.007667\n",
            "\n",
            "\n"
          ]
        },
        {
          "name": "stderr",
          "output_type": "stream",
          "text": [
            " 90%|█████████ | 111/123 [00:22<00:02,  5.10it/s]"
          ]
        },
        {
          "name": "stdout",
          "output_type": "stream",
          "text": [
            "\n",
            "\n",
            "Epoch: 4, Epoch_step: 56, Avg loss: 1.386935\n",
            "Learning rate: 0.008000\n",
            "\n",
            "\n"
          ]
        },
        {
          "name": "stderr",
          "output_type": "stream",
          "text": [
            "100%|██████████| 123/123 [00:24<00:00,  5.03it/s]\n",
            "  6%|▌         | 7/123 [00:01<00:22,  5.13it/s]"
          ]
        },
        {
          "name": "stdout",
          "output_type": "stream",
          "text": [
            "\n",
            "\n",
            "Epoch: 5, Epoch_step: 4, Avg loss: 1.396879\n",
            "Learning rate: 0.008333\n",
            "\n",
            "\n",
            "\n",
            "Evaluate:\n",
            "\n"
          ]
        },
        {
          "name": "stderr",
          "output_type": "stream",
          "text": [
            "  7%|▋         | 8/123 [00:01<00:35,  3.24it/s]"
          ]
        },
        {
          "name": "stdout",
          "output_type": "stream",
          "text": [
            "\n",
            "\n",
            "Classification Accuracy: 0.266\n",
            "\n",
            "\n"
          ]
        },
        {
          "name": "stderr",
          "output_type": "stream",
          "text": [
            " 23%|██▎       | 28/123 [00:05<00:18,  5.12it/s]"
          ]
        },
        {
          "name": "stdout",
          "output_type": "stream",
          "text": [
            "\n",
            "\n",
            "Epoch: 5, Epoch_step: 14, Avg loss: 1.388349\n",
            "Learning rate: 0.008667\n",
            "\n",
            "\n"
          ]
        },
        {
          "name": "stderr",
          "output_type": "stream",
          "text": [
            " 39%|███▉      | 48/123 [00:09<00:14,  5.12it/s]"
          ]
        },
        {
          "name": "stdout",
          "output_type": "stream",
          "text": [
            "\n",
            "\n",
            "Epoch: 5, Epoch_step: 24, Avg loss: 1.388666\n",
            "Learning rate: 0.009000\n",
            "\n",
            "\n"
          ]
        },
        {
          "name": "stderr",
          "output_type": "stream",
          "text": [
            " 55%|█████▌    | 68/123 [00:13<00:10,  5.13it/s]"
          ]
        },
        {
          "name": "stdout",
          "output_type": "stream",
          "text": [
            "\n",
            "\n",
            "Epoch: 5, Epoch_step: 34, Avg loss: 1.383945\n",
            "Learning rate: 0.009333\n",
            "\n",
            "\n"
          ]
        },
        {
          "name": "stderr",
          "output_type": "stream",
          "text": [
            " 72%|███████▏  | 88/123 [00:17<00:06,  5.15it/s]"
          ]
        },
        {
          "name": "stdout",
          "output_type": "stream",
          "text": [
            "\n",
            "\n",
            "Epoch: 5, Epoch_step: 44, Avg loss: 1.388509\n",
            "Learning rate: 0.009667\n",
            "\n",
            "\n"
          ]
        },
        {
          "name": "stderr",
          "output_type": "stream",
          "text": [
            " 87%|████████▋ | 107/123 [00:21<00:03,  5.11it/s]"
          ]
        },
        {
          "name": "stdout",
          "output_type": "stream",
          "text": [
            "\n",
            "\n",
            "Epoch: 5, Epoch_step: 54, Avg loss: 1.397145\n",
            "Learning rate: 0.010000\n",
            "\n",
            "\n",
            "\n",
            "Evaluate:\n",
            "\n"
          ]
        },
        {
          "name": "stderr",
          "output_type": "stream",
          "text": [
            " 88%|████████▊ | 108/123 [00:21<00:04,  3.30it/s]"
          ]
        },
        {
          "name": "stdout",
          "output_type": "stream",
          "text": [
            "\n",
            "\n",
            "Classification Accuracy: 0.266\n",
            "\n",
            "\n"
          ]
        },
        {
          "name": "stderr",
          "output_type": "stream",
          "text": [
            "100%|██████████| 123/123 [00:24<00:00,  4.98it/s]\n"
          ]
        }
      ],
      "source": [
        "encoder_optimizer.zero_grad()\n",
        "step_cnt, all_step_cnt, avg_loss, maximum_f_score = 0, 0, 0, 0\n",
        "ce_fn = nn.CrossEntropyLoss(torch.FloatTensor([0.2, 0.3, 0.5, 1.]).cuda())\n",
        "\n",
        "n_epochs = 5\n",
        "for epoch in range(n_epochs):\n",
        "    epoch_step = 0\n",
        "\n",
        "    for (i, batch) in enumerate(tqdm(dataloader)):\n",
        "\n",
        "        step_cnt += 1\n",
        "        cur_res = cls_model(batch[\"queries\"].cuda(), batch[\"queries_pos\"].cuda())\n",
        "        loss = ce_fn(cur_res, batch[\"labels\"].cuda()) / 2\n",
        "        loss.backward()\n",
        "\n",
        "        avg_loss += loss.item()\n",
        "        if step_cnt == 2:\n",
        "            # updating\n",
        "            nn.utils.clip_grad_norm_(cls_model.parameters(), 4)\n",
        "\n",
        "            step_cnt = 0\n",
        "            epoch_step += 1\n",
        "            all_step_cnt += 1\n",
        "\n",
        "            # adjust learning rate\n",
        "            if all_step_cnt <= warmup_steps:\n",
        "                lr = all_step_cnt * (max_lr - 2e-8) / warmup_steps + 2e-8\n",
        "            else:\n",
        "                lr = max_lr - (all_step_cnt - warmup_steps) * 1e-6\n",
        "\n",
        "            encoder_optimizer.step()\n",
        "            encoder_optimizer.zero_grad()\n",
        "\n",
        "        if all_step_cnt % 10 == 0 and step_cnt == 0:\n",
        "            if all_step_cnt <= warmup_steps:\n",
        "                lr = all_step_cnt * (max_lr - 2e-8) / warmup_steps + 2e-8\n",
        "            else:\n",
        "                lr = max_lr - (all_step_cnt - warmup_steps) * 1e-6\n",
        "\n",
        "            # report stats\n",
        "            print(\"\\n\\nEpoch: %d, Epoch_step: %d, Avg loss: %.6f\" % (epoch + 1, epoch_step, avg_loss / 10))\n",
        "            print(f\"Learning rate: {lr:.6f}\\n\\n\")\n",
        "\n",
        "            avg_loss = 0\n",
        "        del loss, cur_res\n",
        "\n",
        "        if all_step_cnt % 50 == 0 and all_step_cnt != 0 and step_cnt == 0:\n",
        "            # evaluate the model as a scorer\n",
        "            print(\"\\nEvaluate:\\n\")\n",
        "\n",
        "            accuracy = validate(dev_inputs, dev_outputs, cls_model)\n",
        "\n",
        "            if accuracy > maximum_f_score:\n",
        "                maximum_f_score = accuracy\n",
        "                torch.save(cls_model.state_dict(), os.path.join(\"save_model\", \"best_cls_model.bin\"))\n",
        "                print(\"\\n\\nBest val loss - epoch: %d, Epoch_step: %d\" % (epoch, epoch_step))\n",
        "                print(\"Max_accuracy\", accuracy, \"\\n\\n\")"
      ]
    },
    {
      "cell_type": "markdown",
      "metadata": {},
      "source": [
        "# 3. Make Prediction"
      ]
    },
    {
      "cell_type": "code",
      "execution_count": 50,
      "metadata": {
        "id": "ijKVlRvNhYTS"
      },
      "outputs": [],
      "source": [
        "def do_cls_predict(dev_input, cls_model_):\n",
        "    # get evidence embeddings\n",
        "    start_idx = 0\n",
        "    cls_model.eval()\n",
        "\n",
        "    cls_res = []\n",
        "    while start_idx < len(dev_input):\n",
        "        end_idx = min(start_idx + 50, len(dev_input))\n",
        "\n",
        "        temp_input = torch.LongTensor(dev_input[start_idx:end_idx]).view(-1, len(dev_input[0])).cuda()\n",
        "        temp_pos = torch.LongTensor([list(range(len(dev_input[0]))) for _ in range(end_idx - start_idx)]).cuda()\n",
        "\n",
        "        temp_res = cls_model_(temp_input, temp_pos)\n",
        "        temp_res = torch.argmax(temp_res, 1).tolist()\n",
        "\n",
        "\n",
        "        cls_res = cls_res + temp_res\n",
        "\n",
        "        start_idx = end_idx\n",
        "        del temp_input, temp_pos\n",
        "\n",
        "    return cls_res"
      ]
    },
    {
      "cell_type": "code",
      "execution_count": 51,
      "metadata": {
        "id": "Y6woHYPDhYTS"
      },
      "outputs": [],
      "source": [
        "torch.cuda.empty_cache()"
      ]
    },
    {
      "cell_type": "code",
      "execution_count": 53,
      "metadata": {
        "id": "aMYIWLEVhYTS"
      },
      "outputs": [],
      "source": [
        "cls_model.load_state_dict(torch.load(os.path.join(\"save_model\", \"best_cls_model.bin\")))\n",
        "\n",
        "dev_classes = do_cls_predict(dev_inputs, cls_model)\n",
        "test_classes = do_cls_predict(test_inputs, cls_model)"
      ]
    },
    {
      "cell_type": "code",
      "execution_count": 54,
      "metadata": {
        "id": "MBDrLA6thYTS"
      },
      "outputs": [],
      "source": [
        "with open(\"data/dev_predict.json\", \"r\") as f:\n",
        "    pred_dev_claims = json.load(f)\n",
        "with open(\"data/test-claims-unlabelled.json\", \"r\") as f:\n",
        "    pred_test_claims = json.load(f)\n",
        "\n",
        "for i, j in zip(dev_claim_id, dev_classes):\n",
        "    claim_label = labels[j]\n",
        "    evidences = pred_dev_claims[i]['evidences']\n",
        "    pred_dev_claims[i] = {'claim_text': pred_dev_claims[i]['claim_text'], 'claim_label': claim_label, 'evidences': evidences}\n",
        "\n",
        "for i, j in zip(test_claim_id, test_classes):\n",
        "    claim_label = labels[j]\n",
        "    evidences = pred_test_claims[i]['evidences']\n",
        "    pred_test_claims[i] = {'claim_text': pred_test_claims[i]['claim_text'], 'claim_label': claim_label, 'evidences': evidences}\n",
        "\n",
        "with open(\"data/dev_predict.json\", \"w\") as f:\n",
        "    json.dump(pred_dev_claims, f)\n",
        "with open(\"data/test-claims-unlabelled.json\", \"w\") as f:\n",
        "    json.dump(pred_test_claims, f)"
      ]
    },
    {
      "cell_type": "markdown",
      "metadata": {},
      "source": [
        "# 4. Evaluate whole project"
      ]
    },
    {
      "cell_type": "code",
      "execution_count": 56,
      "metadata": {
        "colab": {
          "base_uri": "https://localhost:8080/"
        },
        "id": "m_Een36khYTT",
        "outputId": "9b1779fb-9feb-40dd-cb7d-0a5da8ac1083"
      },
      "outputs": [
        {
          "name": "stdout",
          "output_type": "stream",
          "text": [
            "Evidence Retrieval F-score (F): 0.0929035250463822\n",
            "Claim Classification Accuracy (A): 0.44155844155844154\n",
            "Harmonic Mean of F and A: 0.15350890539643472\n"
          ]
        }
      ],
      "source": [
        "output = subprocess.check_output(\"python eval.py --predictions data/dev_predict.json --groundtruth data/dev-claims.json\", shell=True)\n",
        "output_str = output.decode('utf-8')\n",
        "\n",
        "# Split the output into lines\n",
        "output_lines = output_str.strip().split('\\n')\n",
        "\n",
        "# Format the output\n",
        "formatted_lines = []\n",
        "for line in output_lines:\n",
        "    metric, value = line.split('=')\n",
        "    metric = metric.strip()\n",
        "    value = value.strip()\n",
        "    formatted_line = f\"{metric}: {value}\"\n",
        "    formatted_lines.append(formatted_line)\n",
        "\n",
        "# Join the formatted lines into a single string\n",
        "formatted_output = '\\n'.join(formatted_lines)\n",
        "print(formatted_output)"
      ]
    },
    {
      "cell_type": "markdown",
      "metadata": {
        "id": "mefSOe8eTmGP"
      },
      "source": [
        "## Object Oriented Programming codes here\n",
        "\n",
        "*You can use multiple code snippets. Just add more if needed*"
      ]
    }
  ],
  "metadata": {
    "accelerator": "GPU",
    "colab": {
      "gpuType": "L4",
      "machine_shape": "hm",
      "provenance": []
    },
    "kernelspec": {
      "display_name": "Python 3",
      "name": "python3"
    },
    "language_info": {
      "codemirror_mode": {
        "name": "ipython",
        "version": 3
      },
      "file_extension": ".py",
      "mimetype": "text/x-python",
      "name": "python",
      "nbconvert_exporter": "python",
      "pygments_lexer": "ipython3",
      "version": "3.8.19"
    },
    "widgets": {
      "application/vnd.jupyter.widget-state+json": {
        "01e375eb57c841069708111b45122162": {
          "model_module": "@jupyter-widgets/base",
          "model_module_version": "1.2.0",
          "model_name": "LayoutModel",
          "state": {
            "_model_module": "@jupyter-widgets/base",
            "_model_module_version": "1.2.0",
            "_model_name": "LayoutModel",
            "_view_count": null,
            "_view_module": "@jupyter-widgets/base",
            "_view_module_version": "1.2.0",
            "_view_name": "LayoutView",
            "align_content": null,
            "align_items": null,
            "align_self": null,
            "border": null,
            "bottom": null,
            "display": null,
            "flex": null,
            "flex_flow": null,
            "grid_area": null,
            "grid_auto_columns": null,
            "grid_auto_flow": null,
            "grid_auto_rows": null,
            "grid_column": null,
            "grid_gap": null,
            "grid_row": null,
            "grid_template_areas": null,
            "grid_template_columns": null,
            "grid_template_rows": null,
            "height": null,
            "justify_content": null,
            "justify_items": null,
            "left": null,
            "margin": null,
            "max_height": null,
            "max_width": null,
            "min_height": null,
            "min_width": null,
            "object_fit": null,
            "object_position": null,
            "order": null,
            "overflow": null,
            "overflow_x": null,
            "overflow_y": null,
            "padding": null,
            "right": null,
            "top": null,
            "visibility": null,
            "width": null
          }
        },
        "117518de5ed14fc1b9535952f2bc3de7": {
          "model_module": "@jupyter-widgets/base",
          "model_module_version": "1.2.0",
          "model_name": "LayoutModel",
          "state": {
            "_model_module": "@jupyter-widgets/base",
            "_model_module_version": "1.2.0",
            "_model_name": "LayoutModel",
            "_view_count": null,
            "_view_module": "@jupyter-widgets/base",
            "_view_module_version": "1.2.0",
            "_view_name": "LayoutView",
            "align_content": null,
            "align_items": null,
            "align_self": null,
            "border": null,
            "bottom": null,
            "display": null,
            "flex": null,
            "flex_flow": null,
            "grid_area": null,
            "grid_auto_columns": null,
            "grid_auto_flow": null,
            "grid_auto_rows": null,
            "grid_column": null,
            "grid_gap": null,
            "grid_row": null,
            "grid_template_areas": null,
            "grid_template_columns": null,
            "grid_template_rows": null,
            "height": null,
            "justify_content": null,
            "justify_items": null,
            "left": null,
            "margin": null,
            "max_height": null,
            "max_width": null,
            "min_height": null,
            "min_width": null,
            "object_fit": null,
            "object_position": null,
            "order": null,
            "overflow": null,
            "overflow_x": null,
            "overflow_y": null,
            "padding": null,
            "right": null,
            "top": null,
            "visibility": null,
            "width": null
          }
        },
        "258aec747780449db3e1e507c5994d81": {
          "model_module": "@jupyter-widgets/controls",
          "model_module_version": "1.5.0",
          "model_name": "FloatProgressModel",
          "state": {
            "_dom_classes": [],
            "_model_module": "@jupyter-widgets/controls",
            "_model_module_version": "1.5.0",
            "_model_name": "FloatProgressModel",
            "_view_count": null,
            "_view_module": "@jupyter-widgets/controls",
            "_view_module_version": "1.5.0",
            "_view_name": "ProgressView",
            "bar_style": "",
            "description": "",
            "description_tooltip": null,
            "layout": "IPY_MODEL_ef7fe2a1502b48f9b9c913ff34525378",
            "max": 1,
            "min": 0,
            "orientation": "horizontal",
            "style": "IPY_MODEL_52b8e933323143d4952023034adfc6de",
            "value": 1
          }
        },
        "43058dfd55bb490ca3d8b3d3fce89bc9": {
          "model_module": "@jupyter-widgets/controls",
          "model_module_version": "1.5.0",
          "model_name": "FloatProgressModel",
          "state": {
            "_dom_classes": [],
            "_model_module": "@jupyter-widgets/controls",
            "_model_module_version": "1.5.0",
            "_model_name": "FloatProgressModel",
            "_view_count": null,
            "_view_module": "@jupyter-widgets/controls",
            "_view_module_version": "1.5.0",
            "_view_name": "ProgressView",
            "bar_style": "",
            "description": "",
            "description_tooltip": null,
            "layout": "IPY_MODEL_01e375eb57c841069708111b45122162",
            "max": 1,
            "min": 0,
            "orientation": "horizontal",
            "style": "IPY_MODEL_48903d12901a4d71996d6d3b9b73e3a1",
            "value": 1
          }
        },
        "48903d12901a4d71996d6d3b9b73e3a1": {
          "model_module": "@jupyter-widgets/controls",
          "model_module_version": "1.5.0",
          "model_name": "ProgressStyleModel",
          "state": {
            "_model_module": "@jupyter-widgets/controls",
            "_model_module_version": "1.5.0",
            "_model_name": "ProgressStyleModel",
            "_view_count": null,
            "_view_module": "@jupyter-widgets/base",
            "_view_module_version": "1.2.0",
            "_view_name": "StyleView",
            "bar_color": null,
            "description_width": ""
          }
        },
        "52b8e933323143d4952023034adfc6de": {
          "model_module": "@jupyter-widgets/controls",
          "model_module_version": "1.5.0",
          "model_name": "ProgressStyleModel",
          "state": {
            "_model_module": "@jupyter-widgets/controls",
            "_model_module_version": "1.5.0",
            "_model_name": "ProgressStyleModel",
            "_view_count": null,
            "_view_module": "@jupyter-widgets/base",
            "_view_module_version": "1.2.0",
            "_view_name": "StyleView",
            "bar_color": null,
            "description_width": ""
          }
        },
        "5d6153f35d4740178f8ad604c4e8bec3": {
          "model_module": "@jupyter-widgets/base",
          "model_module_version": "1.2.0",
          "model_name": "LayoutModel",
          "state": {
            "_model_module": "@jupyter-widgets/base",
            "_model_module_version": "1.2.0",
            "_model_name": "LayoutModel",
            "_view_count": null,
            "_view_module": "@jupyter-widgets/base",
            "_view_module_version": "1.2.0",
            "_view_name": "LayoutView",
            "align_content": null,
            "align_items": null,
            "align_self": null,
            "border": null,
            "bottom": null,
            "display": null,
            "flex": null,
            "flex_flow": null,
            "grid_area": null,
            "grid_auto_columns": null,
            "grid_auto_flow": null,
            "grid_auto_rows": null,
            "grid_column": null,
            "grid_gap": null,
            "grid_row": null,
            "grid_template_areas": null,
            "grid_template_columns": null,
            "grid_template_rows": null,
            "height": null,
            "justify_content": null,
            "justify_items": null,
            "left": null,
            "margin": null,
            "max_height": null,
            "max_width": null,
            "min_height": null,
            "min_width": null,
            "object_fit": null,
            "object_position": null,
            "order": null,
            "overflow": null,
            "overflow_x": null,
            "overflow_y": null,
            "padding": null,
            "right": null,
            "top": null,
            "visibility": null,
            "width": null
          }
        },
        "7c6571466a394a9b905082e358ef3ce3": {
          "model_module": "@jupyter-widgets/controls",
          "model_module_version": "1.5.0",
          "model_name": "DescriptionStyleModel",
          "state": {
            "_model_module": "@jupyter-widgets/controls",
            "_model_module_version": "1.5.0",
            "_model_name": "DescriptionStyleModel",
            "_view_count": null,
            "_view_module": "@jupyter-widgets/base",
            "_view_module_version": "1.2.0",
            "_view_name": "StyleView",
            "description_width": ""
          }
        },
        "7f1835eded9a4300a94dac4b07db5dc2": {
          "model_module": "@jupyter-widgets/base",
          "model_module_version": "1.2.0",
          "model_name": "LayoutModel",
          "state": {
            "_model_module": "@jupyter-widgets/base",
            "_model_module_version": "1.2.0",
            "_model_name": "LayoutModel",
            "_view_count": null,
            "_view_module": "@jupyter-widgets/base",
            "_view_module_version": "1.2.0",
            "_view_name": "LayoutView",
            "align_content": null,
            "align_items": null,
            "align_self": null,
            "border": null,
            "bottom": null,
            "display": null,
            "flex": null,
            "flex_flow": null,
            "grid_area": null,
            "grid_auto_columns": null,
            "grid_auto_flow": null,
            "grid_auto_rows": null,
            "grid_column": null,
            "grid_gap": null,
            "grid_row": null,
            "grid_template_areas": null,
            "grid_template_columns": null,
            "grid_template_rows": null,
            "height": null,
            "justify_content": null,
            "justify_items": null,
            "left": null,
            "margin": null,
            "max_height": null,
            "max_width": null,
            "min_height": null,
            "min_width": null,
            "object_fit": null,
            "object_position": null,
            "order": null,
            "overflow": null,
            "overflow_x": null,
            "overflow_y": null,
            "padding": null,
            "right": null,
            "top": null,
            "visibility": null,
            "width": null
          }
        },
        "a928dfd466354d9eb3c2361f9ef437a6": {
          "model_module": "@jupyter-widgets/controls",
          "model_module_version": "1.5.0",
          "model_name": "DescriptionStyleModel",
          "state": {
            "_model_module": "@jupyter-widgets/controls",
            "_model_module_version": "1.5.0",
            "_model_name": "DescriptionStyleModel",
            "_view_count": null,
            "_view_module": "@jupyter-widgets/base",
            "_view_module_version": "1.2.0",
            "_view_name": "StyleView",
            "description_width": ""
          }
        },
        "ad30a3edd6f0453aa1502b8ab277a4b4": {
          "model_module": "@jupyter-widgets/controls",
          "model_module_version": "1.5.0",
          "model_name": "LabelModel",
          "state": {
            "_dom_classes": [],
            "_model_module": "@jupyter-widgets/controls",
            "_model_module_version": "1.5.0",
            "_model_name": "LabelModel",
            "_view_count": null,
            "_view_module": "@jupyter-widgets/controls",
            "_view_module_version": "1.5.0",
            "_view_name": "LabelView",
            "description": "",
            "description_tooltip": null,
            "layout": "IPY_MODEL_e670ba7d9a4e471a979486b7ccc7c3e0",
            "placeholder": "​",
            "style": "IPY_MODEL_7c6571466a394a9b905082e358ef3ce3",
            "value": "0.018 MB of 0.018 MB uploaded\r"
          }
        },
        "b4502d8550f84911abdc6ee406044b33": {
          "model_module": "@jupyter-widgets/controls",
          "model_module_version": "1.5.0",
          "model_name": "VBoxModel",
          "state": {
            "_dom_classes": [],
            "_model_module": "@jupyter-widgets/controls",
            "_model_module_version": "1.5.0",
            "_model_name": "VBoxModel",
            "_view_count": null,
            "_view_module": "@jupyter-widgets/controls",
            "_view_module_version": "1.5.0",
            "_view_name": "VBoxView",
            "box_style": "",
            "children": [
              "IPY_MODEL_ca8dd1219595461b90fd5518e739ec08",
              "IPY_MODEL_43058dfd55bb490ca3d8b3d3fce89bc9"
            ],
            "layout": "IPY_MODEL_7f1835eded9a4300a94dac4b07db5dc2"
          }
        },
        "ca8dd1219595461b90fd5518e739ec08": {
          "model_module": "@jupyter-widgets/controls",
          "model_module_version": "1.5.0",
          "model_name": "LabelModel",
          "state": {
            "_dom_classes": [],
            "_model_module": "@jupyter-widgets/controls",
            "_model_module_version": "1.5.0",
            "_model_name": "LabelModel",
            "_view_count": null,
            "_view_module": "@jupyter-widgets/controls",
            "_view_module_version": "1.5.0",
            "_view_name": "LabelView",
            "description": "",
            "description_tooltip": null,
            "layout": "IPY_MODEL_5d6153f35d4740178f8ad604c4e8bec3",
            "placeholder": "​",
            "style": "IPY_MODEL_a928dfd466354d9eb3c2361f9ef437a6",
            "value": "0.013 MB of 0.013 MB uploaded\r"
          }
        },
        "e670ba7d9a4e471a979486b7ccc7c3e0": {
          "model_module": "@jupyter-widgets/base",
          "model_module_version": "1.2.0",
          "model_name": "LayoutModel",
          "state": {
            "_model_module": "@jupyter-widgets/base",
            "_model_module_version": "1.2.0",
            "_model_name": "LayoutModel",
            "_view_count": null,
            "_view_module": "@jupyter-widgets/base",
            "_view_module_version": "1.2.0",
            "_view_name": "LayoutView",
            "align_content": null,
            "align_items": null,
            "align_self": null,
            "border": null,
            "bottom": null,
            "display": null,
            "flex": null,
            "flex_flow": null,
            "grid_area": null,
            "grid_auto_columns": null,
            "grid_auto_flow": null,
            "grid_auto_rows": null,
            "grid_column": null,
            "grid_gap": null,
            "grid_row": null,
            "grid_template_areas": null,
            "grid_template_columns": null,
            "grid_template_rows": null,
            "height": null,
            "justify_content": null,
            "justify_items": null,
            "left": null,
            "margin": null,
            "max_height": null,
            "max_width": null,
            "min_height": null,
            "min_width": null,
            "object_fit": null,
            "object_position": null,
            "order": null,
            "overflow": null,
            "overflow_x": null,
            "overflow_y": null,
            "padding": null,
            "right": null,
            "top": null,
            "visibility": null,
            "width": null
          }
        },
        "ecb0b8f903dd4f3c967f9b17219dccbd": {
          "model_module": "@jupyter-widgets/controls",
          "model_module_version": "1.5.0",
          "model_name": "VBoxModel",
          "state": {
            "_dom_classes": [],
            "_model_module": "@jupyter-widgets/controls",
            "_model_module_version": "1.5.0",
            "_model_name": "VBoxModel",
            "_view_count": null,
            "_view_module": "@jupyter-widgets/controls",
            "_view_module_version": "1.5.0",
            "_view_name": "VBoxView",
            "box_style": "",
            "children": [
              "IPY_MODEL_ad30a3edd6f0453aa1502b8ab277a4b4",
              "IPY_MODEL_258aec747780449db3e1e507c5994d81"
            ],
            "layout": "IPY_MODEL_117518de5ed14fc1b9535952f2bc3de7"
          }
        },
        "ef7fe2a1502b48f9b9c913ff34525378": {
          "model_module": "@jupyter-widgets/base",
          "model_module_version": "1.2.0",
          "model_name": "LayoutModel",
          "state": {
            "_model_module": "@jupyter-widgets/base",
            "_model_module_version": "1.2.0",
            "_model_name": "LayoutModel",
            "_view_count": null,
            "_view_module": "@jupyter-widgets/base",
            "_view_module_version": "1.2.0",
            "_view_name": "LayoutView",
            "align_content": null,
            "align_items": null,
            "align_self": null,
            "border": null,
            "bottom": null,
            "display": null,
            "flex": null,
            "flex_flow": null,
            "grid_area": null,
            "grid_auto_columns": null,
            "grid_auto_flow": null,
            "grid_auto_rows": null,
            "grid_column": null,
            "grid_gap": null,
            "grid_row": null,
            "grid_template_areas": null,
            "grid_template_columns": null,
            "grid_template_rows": null,
            "height": null,
            "justify_content": null,
            "justify_items": null,
            "left": null,
            "margin": null,
            "max_height": null,
            "max_width": null,
            "min_height": null,
            "min_width": null,
            "object_fit": null,
            "object_position": null,
            "order": null,
            "overflow": null,
            "overflow_x": null,
            "overflow_y": null,
            "padding": null,
            "right": null,
            "top": null,
            "visibility": null,
            "width": null
          }
        }
      }
    }
  },
  "nbformat": 4,
  "nbformat_minor": 0
}
