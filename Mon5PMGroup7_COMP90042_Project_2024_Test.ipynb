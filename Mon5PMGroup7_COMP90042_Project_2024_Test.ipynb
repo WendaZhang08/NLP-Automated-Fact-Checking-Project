{
  "cells": [
    {
      "cell_type": "markdown",
      "metadata": {
        "id": "32yCsRUo8H33"
      },
      "source": [
        "# 2024 COMP90042 Project\n",
        "*Make sure you change the file name with your group id.*"
      ]
    },
    {
      "cell_type": "markdown",
      "metadata": {
        "id": "XCybYoGz8YWQ"
      },
      "source": [
        "# Readme\n",
        "*If there is something to be noted for the marker, please mention here.*\n",
        "\n",
        "*If you are planning to implement a program with Object Oriented Programming style, please put those the bottom of this ipynb file*"
      ]
    },
    {
      "cell_type": "markdown",
      "metadata": {
        "id": "krRzbuxWhYSm"
      },
      "source": [
        "**We use pytorch, nltk, scikit-learn in this project.**"
      ]
    },
    {
      "cell_type": "code",
      "source": [
        "from google.colab import drive\n",
        "drive.mount('/content/drive')"
      ],
      "metadata": {
        "colab": {
          "base_uri": "https://localhost:8080/"
        },
        "id": "hckg2zcjsoKf",
        "outputId": "978e925f-d3d7-4b8e-94a0-d33c2ba0ec26"
      },
      "execution_count": 1,
      "outputs": [
        {
          "output_type": "stream",
          "name": "stdout",
          "text": [
            "Mounted at /content/drive\n"
          ]
        }
      ]
    },
    {
      "cell_type": "markdown",
      "metadata": {
        "id": "6po98qVA8bJD"
      },
      "source": [
        "# 1.DataSet Processing\n",
        "(You can add as many code blocks and text blocks as you need. However, YOU SHOULD NOT MODIFY the section title)"
      ]
    },
    {
      "cell_type": "markdown",
      "metadata": {
        "id": "qvff21Hv8zjk",
        "tags": []
      },
      "source": [
        "## PreProcess for evidence and claims"
      ]
    },
    {
      "cell_type": "markdown",
      "metadata": {
        "id": "bxclURH8hYSn"
      },
      "source": [
        "### preprocessing function"
      ]
    },
    {
      "cell_type": "code",
      "execution_count": 14,
      "metadata": {
        "colab": {
          "base_uri": "https://localhost:8080/"
        },
        "id": "hAUkvJmjhYSo",
        "outputId": "5bb31117-d74d-4b4a-a5fd-6c79673e202e"
      },
      "outputs": [
        {
          "output_type": "stream",
          "name": "stdout",
          "text": [
            "CUDA available: True\n"
          ]
        }
      ],
      "source": [
        "import torch\n",
        "print(\"CUDA available:\", torch.cuda.is_available())"
      ]
    },
    {
      "cell_type": "code",
      "execution_count": 15,
      "metadata": {
        "id": "jHabd2NPhYSq",
        "outputId": "11222479-2033-47b6-9b2a-3796b7254bd1",
        "colab": {
          "base_uri": "https://localhost:8080/"
        }
      },
      "outputs": [
        {
          "output_type": "stream",
          "name": "stdout",
          "text": [
            "Current CUDA device: 0\n",
            "Device count: 1\n",
            "Device name: NVIDIA L4\n"
          ]
        }
      ],
      "source": [
        "print(\"Current CUDA device:\", torch.cuda.current_device())\n",
        "print(\"Device count:\", torch.cuda.device_count())\n",
        "print(\"Device name:\", torch.cuda.get_device_name(torch.cuda.current_device()))"
      ]
    },
    {
      "cell_type": "markdown",
      "metadata": {
        "id": "sr__0gNyhYSq"
      },
      "source": [
        "### read files"
      ]
    },
    {
      "cell_type": "code",
      "execution_count": 16,
      "metadata": {
        "colab": {
          "base_uri": "https://localhost:8080/"
        },
        "id": "JB7QMLwFhYSr",
        "outputId": "874f7929-e931-4ecf-a76e-8662192cd165"
      },
      "outputs": [
        {
          "output_type": "stream",
          "name": "stderr",
          "text": [
            "[nltk_data] Downloading package stopwords to /root/nltk_data...\n",
            "[nltk_data]   Package stopwords is already up-to-date!\n",
            "[nltk_data] Downloading package wordnet to /root/nltk_data...\n",
            "[nltk_data]   Package wordnet is already up-to-date!\n",
            "[nltk_data] Downloading package punkt to /root/nltk_data...\n",
            "[nltk_data]   Package punkt is already up-to-date!\n"
          ]
        },
        {
          "output_type": "stream",
          "name": "stdout",
          "text": [
            "claim count:  1228\n",
            "evidence count:  1208827\n",
            "max claim length:  332\n",
            "min claim length:  26\n",
            "mean claim length:  122.95521172638436\n",
            "max evidence count:  5\n",
            "min evidence count:  1\n",
            "mean evidence count:  3.3566775244299674\n",
            "max evidence length:  1979\n",
            "min evidence length:  13\n",
            "mean evidence length:  173.5\n",
            "Counter({'SUPPORTS': 519, 'NOT_ENOUGH_INFO': 386, 'REFUTES': 199, 'DISPUTED': 124})\n",
            "Dev evi inside train evi 163\n",
            "Dev evi outside train evi 328\n",
            "Train claim count:  1228\n"
          ]
        }
      ],
      "source": [
        "import json\n",
        "import nltk\n",
        "import string\n",
        "import re\n",
        "import random\n",
        "import numpy as np\n",
        "from sklearn.metrics.pairwise import cosine_similarity\n",
        "from nltk.corpus import stopwords\n",
        "from nltk.tokenize import word_tokenize\n",
        "from collections import Counter\n",
        "from statistics import mean\n",
        "import torch\n",
        "\n",
        "torch.manual_seed(42)\n",
        "torch.cuda.manual_seed_all(42)\n",
        "random.seed(42)\n",
        "\n",
        "nltk.download('stopwords')\n",
        "nltk.download('wordnet')\n",
        "nltk.download('punkt')\n",
        "\n",
        "lemmatizer = nltk.stem.wordnet.WordNetLemmatizer()\n",
        "stopwords = set(stopwords.words('english'))\n",
        "\n",
        "with open('data/train-claims.json', 'r') as input_file:\n",
        "    train_claims = json.load(input_file)\n",
        "\n",
        "# Read in development data (claim)\n",
        "with open('data/dev-claims.json', 'r') as input_file:\n",
        "    dev_claims = json.load(input_file)\n",
        "\n",
        "# Read in test data (claim)\n",
        "with open('data/test-claims-unlabelled.json', 'r') as input_file:\n",
        "    test_claims = json.load(input_file)\n",
        "\n",
        "# Read in evidence data\n",
        "with open('data/evidence.json', 'r') as input_file:\n",
        "    evidences = json.load(input_file)\n",
        "\n",
        "#EDA\n",
        "claim_count = 0\n",
        "evi_count = 0\n",
        "claim_length = []\n",
        "evidence_count = []\n",
        "evidence_length = []\n",
        "labels = []\n",
        "\n",
        "for key,value in train_claims.items():\n",
        "    claim_count+=1\n",
        "    claim_length.append(len(value[\"claim_text\"]))\n",
        "    evidence_count.append(len(value[\"evidences\"]))\n",
        "    evidence_length += [len(evidences[x]) for x in value[\"evidences\"]]\n",
        "    labels.append(value[\"claim_label\"])\n",
        "\n",
        "for key,value in evidences.items():\n",
        "    evi_count+=1\n",
        "\n",
        "print(\"claim count: \",claim_count)\n",
        "print(\"evidence count: \",evi_count)\n",
        "print(\"max claim length: \",max(claim_length))\n",
        "print(\"min claim length: \",min(claim_length))\n",
        "print(\"mean claim length: \",mean(claim_length))\n",
        "print(\"max evidence count: \",max(evidence_count))\n",
        "print(\"min evidence count: \",min(evidence_count))\n",
        "print(\"mean evidence count: \",mean(evidence_count))\n",
        "print(\"max evidence length: \",max(evidence_length))\n",
        "print(\"min evidence length: \",min(evidence_length))\n",
        "print(\"mean evidence length: \",mean(evidence_length))\n",
        "print(Counter(labels))\n",
        "\n",
        "inside = 0\n",
        "outside = 0\n",
        "\n",
        "train_evi_id = []\n",
        "for claim_id,claim_value in train_claims.items():\n",
        "    train_evi_id=train_evi_id+claim_value['evidences']\n",
        "\n",
        "for claim_id,claim_value in dev_claims.items():\n",
        "    test_evi_id=claim_value['evidences']\n",
        "    for e in test_evi_id:\n",
        "        if e in train_evi_id:\n",
        "            inside += 1\n",
        "        else:\n",
        "            outside += 1\n",
        "print(\"Dev evi inside train evi\", inside)\n",
        "print(\"Dev evi outside train evi\", outside)\n",
        "\n",
        "full_evidence_id = list(evidences.keys())\n",
        "full_evidence_text  = list(evidences.values())\n",
        "train_claim_id = list(train_claims.keys())\n",
        "train_claim_text  = [ v[\"claim_text\"] for v in train_claims.values()]\n",
        "print(\"Train claim count: \",len(train_claim_id))"
      ]
    },
    {
      "cell_type": "code",
      "execution_count": 17,
      "metadata": {
        "id": "S3OaUin53_OV"
      },
      "outputs": [],
      "source": [
        "import torch.nn as nn\n",
        "import torch.optim as optim\n",
        "import torch.nn.functional as F"
      ]
    },
    {
      "cell_type": "code",
      "execution_count": 18,
      "metadata": {
        "id": "GvaeShUihYSs"
      },
      "outputs": [],
      "source": [
        "def lemmatize_text(text):\n",
        "    words = nltk.word_tokenize(text)\n",
        "    lemmatized_words = [lemmatizer.lemmatize(word) for word in words]\n",
        "    lemmatized_text = ' '.join(lemmatized_words)\n",
        "    return lemmatized_text\n",
        "\n",
        "\n",
        "def preprocessing_text(text):\n",
        "\n",
        "    # Convert to lowercase\n",
        "    text = text.lower()\n",
        "\n",
        "    # Lemmatize the text\n",
        "    text = lemmatize_text(text)\n",
        "\n",
        "    # Remove leading/trailing whitespaces\n",
        "    text = text.strip()\n",
        "\n",
        "    return text"
      ]
    },
    {
      "cell_type": "code",
      "execution_count": 19,
      "metadata": {
        "id": "11NItdNBhYSs"
      },
      "outputs": [],
      "source": [
        "def preprocess_claim_data(claim_data, existed_evidences_id=None):\n",
        "    claim_data_text = []\n",
        "    claim_data_id = []\n",
        "    claim_data_label = []\n",
        "    claim_evidences = []\n",
        "    for key in claim_data.keys():\n",
        "        claim_data[key][\"claim_text\"] = preprocessing_text(claim_data[key][\"claim_text\"])\n",
        "        claim_data_text.append(claim_data[key][\"claim_text\"])\n",
        "        claim_data_id.append(key)\n",
        "        if \"claim_label\" in claim_data[key]:\n",
        "            claim_data_label.append(claim_data[key][\"claim_label\"])\n",
        "        else:\n",
        "            claim_data_label.append(None)\n",
        "        if existed_evidences_id and \"evidences\" in claim_data[key]:\n",
        "            valid_evidences = [existed_evidences_id[i] for i in claim_data[key][\"evidences\"] if i in existed_evidences_id]\n",
        "            claim_evidences.append(valid_evidences)\n",
        "        else:\n",
        "            claim_evidences.append([])\n",
        "    return claim_data_text, claim_data_id, claim_data_label, claim_evidences\n",
        "\n",
        "\n",
        "def preprocess_evi_data(evi_data):\n",
        "    cleaned_evidence_text = []\n",
        "    cleaned_evidence_id = []\n",
        "    for key, value in evi_data.items():\n",
        "        cleaned_text = preprocessing_text(value)\n",
        "        cleaned_evidence_text.append(cleaned_text)\n",
        "        cleaned_evidence_id.append(key)\n",
        "    return cleaned_evidence_text, cleaned_evidence_id"
      ]
    },
    {
      "cell_type": "code",
      "execution_count": 20,
      "metadata": {
        "id": "T7kVxuNjhYSs"
      },
      "outputs": [],
      "source": [
        "cleaned_evidence_text, cleaned_evidence_id = preprocess_evi_data(evidences)\n",
        "\n",
        "evidences_id_dict = {evidence_id: idx for idx, evidence_id in enumerate(cleaned_evidence_id)}\n",
        "\n",
        "train_claim_text, train_claim_id, train_claim_label, train_claim_evidences = preprocess_claim_data(train_claims, evidences_id_dict)\n",
        "\n",
        "dev_claim_text, dev_claim_id, dev_claim_label, dev_claim_evidences = preprocess_claim_data(dev_claims, evidences_id_dict)\n",
        "\n",
        "test_claim_text, test_claim_id, _, _ = preprocess_claim_data(test_claims)"
      ]
    },
    {
      "cell_type": "code",
      "execution_count": 21,
      "metadata": {
        "colab": {
          "base_uri": "https://localhost:8080/"
        },
        "id": "lro5JDrchYSt",
        "outputId": "1914fd7a-32fc-4797-f8ea-c471770249ce"
      },
      "outputs": [
        {
          "output_type": "stream",
          "name": "stdout",
          "text": [
            "Number of claims after removing non-English: 1228\n",
            "Number of claims after preprocessing: 1228\n"
          ]
        }
      ],
      "source": [
        "print(\"Number of claims after removing non-English:\", len(train_claim_evidences))\n",
        "print(\"Number of claims after preprocessing:\", len(train_claim_text))"
      ]
    },
    {
      "cell_type": "code",
      "execution_count": 22,
      "metadata": {
        "colab": {
          "base_uri": "https://localhost:8080/"
        },
        "id": "gUiLauhphYSt",
        "outputId": "a04b60aa-0832-46e5-ed7b-f35ad9a641d3"
      },
      "outputs": [
        {
          "output_type": "stream",
          "name": "stdout",
          "text": [
            "['not only is there no scientific evidence that co2 is a pollutant , higher co2 concentration actually help ecosystem support more plant and animal life .', 'el niño drove record high in global temperature suggesting rise may not be down to man-made emission .', 'in 1946 , pdo switched to a cool phase .', 'weather channel co-founder john coleman provided evidence that convincingly refutes the concept of anthropogenic global warming .', '`` january 2008 capped a 12 month period of global temperature drop on all of the major well respected indicator .', 'the last time the planet wa even four degree warmer , peter brannen point out in the end of the world , his new history of the planet ’ s major extinction event , the ocean were hundred of foot higher .', 'tree-ring proxy reconstruction are reliable before 1960 , tracking closely with the instrumental record and other independent proxy .', 'under the most ambitious scenario , they found a strong likelihood that antarctica would remain fairly stable . ”', 'an additional kick wa supplied by an el niño weather pattern that peaked in 2016 and temporarily warmed much of the surface of the planet , causing the hottest year in a historical record dating to 1880 .', 'when stomata-derived co2 ( red ) is compared to ice core-derived co2 ( blue ) , the stoma generally show much more variability in the atmospheric co2 level and often show level much higher than the ice core .']\n"
          ]
        }
      ],
      "source": [
        "print(train_claim_text[0:10])"
      ]
    },
    {
      "cell_type": "markdown",
      "metadata": {
        "id": "MA-5L_gUhYSt"
      },
      "source": [
        "### tfidf retrieval"
      ]
    },
    {
      "cell_type": "code",
      "execution_count": 23,
      "metadata": {
        "id": "HRuI5fIthYSt"
      },
      "outputs": [],
      "source": [
        "from sklearn.feature_extraction.text import TfidfVectorizer\n",
        "\n",
        "vectorizer = TfidfVectorizer()\n",
        "vectorizer.fit(cleaned_evidence_text)\n",
        "\n",
        "def fit_transform_tfidf(train_texts, dev_texts, test_texts, evidence_texts):\n",
        "    train_tfidf = vectorizer.transform(train_texts)\n",
        "    dev_tfidf = vectorizer.transform(dev_texts)\n",
        "    test_tfidf = vectorizer.transform(test_texts)\n",
        "    evidence_tfidf = vectorizer.transform(evidence_texts)\n",
        "\n",
        "    return train_tfidf, dev_tfidf, test_tfidf, evidence_tfidf\n",
        "\n",
        "train_tfidf, dev_tfidf, test_tfidf, evidence_tfidf = fit_transform_tfidf(train_claim_text, dev_claim_text, test_claim_text, cleaned_evidence_text)"
      ]
    },
    {
      "cell_type": "code",
      "execution_count": 24,
      "metadata": {
        "colab": {
          "base_uri": "https://localhost:8080/"
        },
        "id": "S3KVuMeShYSu",
        "outputId": "99fa095b-56aa-4210-f8b5-74c1d1cf77bb"
      },
      "outputs": [
        {
          "output_type": "stream",
          "name": "stdout",
          "text": [
            "(1228, 1208827)\n"
          ]
        }
      ],
      "source": [
        "train_cos_sims = cosine_similarity(train_tfidf, evidence_tfidf)\n",
        "dev_cos_sims = cosine_similarity(dev_tfidf, evidence_tfidf)\n",
        "test_cos_sims = cosine_similarity(test_tfidf, evidence_tfidf)\n",
        "print(train_cos_sims.shape)"
      ]
    },
    {
      "cell_type": "code",
      "execution_count": 25,
      "metadata": {
        "colab": {
          "base_uri": "https://localhost:8080/"
        },
        "id": "ykoLaKcXhYSu",
        "outputId": "7700d16e-4ab5-44c0-9d44-d8d37404366b",
        "scrolled": true
      },
      "outputs": [
        {
          "output_type": "stream",
          "name": "stdout",
          "text": [
            "0.26230998914223635\n",
            "0.30573593073593086\n"
          ]
        }
      ],
      "source": [
        "def test_retrieval_topk(k, cur_scores, cur_labels):\n",
        "    ACC = []\n",
        "    top_ids = torch.topk(torch.FloatTensor(cur_scores), k, -1).indices.tolist()\n",
        "    for i in range(len(cur_labels)):\n",
        "        no_recall_count = 0\n",
        "        recall_count = 0\n",
        "        for cur_ in cur_labels[i]:\n",
        "            if cur_ in top_ids[i]:\n",
        "                recall_count += 1\n",
        "            else:\n",
        "                no_recall_count += 1\n",
        "        if recall_count + no_recall_count == 0:\n",
        "            no_recall_count = 1e-9  # to avoid division by zero\n",
        "        ACC.append(recall_count / (recall_count + no_recall_count))\n",
        "    return sum(ACC) / len(ACC)\n",
        "\n",
        "topK = 30\n",
        "print(test_retrieval_topk(topK, train_cos_sims, train_claim_evidences))\n",
        "print(test_retrieval_topk(topK, dev_cos_sims, dev_claim_evidences))"
      ]
    },
    {
      "cell_type": "code",
      "execution_count": 26,
      "metadata": {
        "id": "AEJ6cjJfhYSu"
      },
      "outputs": [],
      "source": [
        "def sort_evidence_candidates(cos_sims):\n",
        "    top_ids = np.argsort(-cos_sims, axis=1)[:, :10000]\n",
        "    return top_ids.tolist()"
      ]
    },
    {
      "cell_type": "code",
      "execution_count": 27,
      "metadata": {
        "id": "ko-vH1c1hYSu"
      },
      "outputs": [],
      "source": [
        "dev_sort_evidences = sort_evidence_candidates(dev_cos_sims)\n",
        "test_sort_evidences = sort_evidence_candidates(test_cos_sims)\n",
        "train_sort_evidences = sort_evidence_candidates(train_cos_sims)"
      ]
    },
    {
      "cell_type": "markdown",
      "metadata": {
        "id": "0zkxl9S5hYSv"
      },
      "source": [
        "### construct vocab and indexing"
      ]
    },
    {
      "cell_type": "code",
      "execution_count": 28,
      "metadata": {
        "id": "rmJcld7shYSv"
      },
      "outputs": [],
      "source": [
        "from collections import defaultdict\n",
        "from torch.utils.data import Dataset, DataLoader\n",
        "import random\n",
        "\n",
        "min_count = 5\n",
        "wordcount = defaultdict(int)\n",
        "idxword = [\"<cls>\",  \"<sep>\", \"<pad>\", \"<unk>\"]\n",
        "\n",
        "for texts in train_claim_text + cleaned_evidence_text:\n",
        "    for word in texts.split():\n",
        "        wordcount[word] += 1\n",
        "\n",
        "for word, count in wordcount.items():\n",
        "    if count > min_count:\n",
        "        idxword.append(word)\n",
        "\n",
        "wordidx = {value: i for i, value in enumerate(idxword)}"
      ]
    },
    {
      "cell_type": "code",
      "execution_count": 29,
      "metadata": {
        "id": "4Fy5s-ZxhYSv"
      },
      "outputs": [],
      "source": [
        "def convert2idx(text_data, wordidx_):\n",
        "    idx_data = []\n",
        "    unk_idx = wordidx_[\"<unk>\"]\n",
        "    for texts in text_data:\n",
        "        temp_idx = [wordidx_.get(word, unk_idx) for word in texts.split()]\n",
        "        idx_data.append(temp_idx)\n",
        "    return idx_data"
      ]
    },
    {
      "cell_type": "code",
      "execution_count": 30,
      "metadata": {
        "id": "aGSZqyC3hYTD"
      },
      "outputs": [],
      "source": [
        "train_text_idx = convert2idx(train_claim_text, wordidx)\n",
        "dev_text_idx = convert2idx(dev_claim_text, wordidx)\n",
        "test_text_idx = convert2idx(test_claim_text, wordidx)\n",
        "evidences_text_idx = convert2idx(cleaned_evidence_text, wordidx)"
      ]
    },
    {
      "cell_type": "code",
      "execution_count": 31,
      "metadata": {
        "colab": {
          "base_uri": "https://localhost:8080/"
        },
        "id": "Rx2JeKRwhYTE",
        "outputId": "93eabd6a-6802-42bb-8575-823ca2758f0f"
      },
      "outputs": [
        {
          "output_type": "stream",
          "name": "stdout",
          "text": [
            "76 73 60 636\n"
          ]
        }
      ],
      "source": [
        "print(max([len(i) for i in train_text_idx]), max([len(i) for i in dev_text_idx]), max([len(i) for i in test_text_idx]), max([len(i) for i in evidences_text_idx]))"
      ]
    },
    {
      "cell_type": "code",
      "execution_count": 32,
      "metadata": {
        "id": "UruA8812hYTE"
      },
      "outputs": [],
      "source": [
        "def construct_input_text(text_idx, padding_len, wordidx_):\n",
        "    idx_data = []\n",
        "    cls_idx = wordidx_[\"<cls>\"]\n",
        "    sep_idx = wordidx_[\"<sep>\"]\n",
        "    pad_idx = wordidx_[\"<pad>\"]\n",
        "\n",
        "    for texts in text_idx:\n",
        "        if len(texts) < padding_len:\n",
        "            padded_text = [cls_idx] + texts + [sep_idx] + [pad_idx] * (padding_len - len(texts))\n",
        "        else:\n",
        "            padded_text = [cls_idx] + texts[:padding_len] + [sep_idx]\n",
        "        idx_data.append(padded_text)\n",
        "\n",
        "    return idx_data"
      ]
    },
    {
      "cell_type": "code",
      "execution_count": 33,
      "metadata": {
        "id": "K5hb5qfFhYTF"
      },
      "outputs": [],
      "source": [
        "text_pad_len = 50\n",
        "evidences_pad_len = 80\n",
        "train_input = construct_input_text(train_text_idx, text_pad_len, wordidx)\n",
        "dev_input = construct_input_text(dev_text_idx, text_pad_len, wordidx)\n",
        "test_input = construct_input_text(test_text_idx, text_pad_len, wordidx)\n",
        "evidences_input = construct_input_text(evidences_text_idx, evidences_pad_len, wordidx)"
      ]
    },
    {
      "cell_type": "code",
      "execution_count": 34,
      "metadata": {
        "colab": {
          "base_uri": "https://localhost:8080/"
        },
        "id": "Hm3NpJlihYTF",
        "outputId": "f97841e9-2977-4709-8fa3-bcc0e6755dcb"
      },
      "outputs": [
        {
          "output_type": "stream",
          "name": "stdout",
          "text": [
            "52 82\n"
          ]
        }
      ],
      "source": [
        "print(len(train_input[0]), len(evidences_input[0]))"
      ]
    },
    {
      "cell_type": "code",
      "execution_count": 35,
      "metadata": {
        "colab": {
          "base_uri": "https://localhost:8080/"
        },
        "id": "R1gDUsJohYTF",
        "outputId": "751a9160-dad4-422b-8747-8b4a48d7bb01",
        "scrolled": true
      },
      "outputs": [
        {
          "output_type": "stream",
          "name": "stdout",
          "text": [
            "90097\n"
          ]
        }
      ],
      "source": [
        "vocab_size = len(idxword)\n",
        "print(vocab_size)"
      ]
    },
    {
      "cell_type": "code",
      "execution_count": 36,
      "metadata": {
        "id": "PJM58s9MhYTF"
      },
      "outputs": [],
      "source": [
        "class TrainDataset(Dataset):\n",
        "    def __init__(self, text_data, evidence_data, sorted_evidences, evidence_label, negative_num):\n",
        "        self.text_data = text_data\n",
        "        self.evidence_data = evidence_data\n",
        "        self.sorted_evidences = sorted_evidences\n",
        "        self.evidence_label = evidence_label\n",
        "        self.negative_num = negative_num\n",
        "        self.evidence_len = len(evidence_data[0])\n",
        "        self.text_len = len(text_data[0])\n",
        "\n",
        "    def __len__(self):\n",
        "        return len(self.text_data)\n",
        "\n",
        "    def __getitem__(self, idx):\n",
        "        positive_evidences = self.evidence_label[idx]\n",
        "        negative_evidences = random.sample(self.sorted_evidences[idx][30: self.negative_num * 10], self.negative_num)\n",
        "        return [self.text_data[idx], negative_evidences, positive_evidences]\n",
        "\n",
        "    def collate_fn(self, batch):\n",
        "        queries, queries_pos, evidences, temp_labels = [], [], [], []\n",
        "\n",
        "        for i, j, k in batch:\n",
        "            queries = queries + [i]\n",
        "            queries_pos = queries_pos + [list(range(self.text_len))]\n",
        "            temp_labels.append(k)\n",
        "            evidences.extend(k + j)\n",
        "\n",
        "        evidences = list(set(evidences))\n",
        "\n",
        "        evidences2idx = {evid: i for i, evid in enumerate(evidences)}\n",
        "        labels = [[evidences2idx[evid] for evid in pos_evidences] for pos_evidences in temp_labels]\n",
        "\n",
        "        evidences = [self.evidence_data[i] for i in evidences]\n",
        "        evidences_pos = [list(range(self.evidence_len)) for _ in range(len(evidences))]\n",
        "\n",
        "\n",
        "        batch_encoding = {\n",
        "            \"queries\": torch.LongTensor(queries),\n",
        "            \"evidences\": torch.LongTensor(evidences),\n",
        "            \"queries_pos\": torch.LongTensor(queries_pos),\n",
        "            \"evidences_pos\": torch.LongTensor(evidences_pos),\n",
        "            \"labels\": labels\n",
        "        }\n",
        "\n",
        "        return batch_encoding"
      ]
    },
    {
      "cell_type": "code",
      "execution_count": 37,
      "metadata": {
        "id": "hgO5_1FPhYTF"
      },
      "outputs": [],
      "source": [
        "train_set = TrainDataset(train_input, evidences_input, train_sort_evidences, train_claim_evidences, negative_num=10)\n",
        "dataloader = DataLoader(train_set, batch_size=5, shuffle=True, num_workers=0, collate_fn=train_set.collate_fn)"
      ]
    },
    {
      "cell_type": "markdown",
      "metadata": {
        "id": "1FA2ao2l8hOg"
      },
      "source": [
        "# 2. Model Implementation\n",
        "(You can add as many code blocks and text blocks as you need. However, YOU SHOULD NOT MODIFY the section title)"
      ]
    },
    {
      "cell_type": "code",
      "execution_count": 38,
      "metadata": {
        "id": "ufBUIwDIhYTG"
      },
      "outputs": [],
      "source": [
        "class Encoder(nn.Module):\n",
        "    def __init__(self, vocab_emb, embed_dim, hidden_size, num_layers, max_position=180, dropout=0.2):\n",
        "        super(Encoder, self).__init__()\n",
        "        self.hidden_size = hidden_size\n",
        "        self.embedding = nn.Embedding(vocab_emb, embed_dim)\n",
        "        self.pos_embedding = nn.Embedding(max_position, embed_dim)\n",
        "        self.encoder = nn.LSTM(embed_dim, hidden_size, num_layers=num_layers, batch_first=True, dropout=dropout, bidirectional=True)\n",
        "        self.dropout = nn.Dropout(p=dropout)\n",
        "\n",
        "    def forward(self, text_data, position_text):\n",
        "        text_x = self.embedding(text_data) + self.pos_embedding(position_text)\n",
        "        text_x = self.dropout(text_x)\n",
        "        x_encoded, _ = self.encoder(text_x)\n",
        "        x_encoded = self.dropout(x_encoded)\n",
        "        return x_encoded"
      ]
    },
    {
      "cell_type": "code",
      "execution_count": 39,
      "metadata": {
        "colab": {
          "base_uri": "https://localhost:8080/"
        },
        "id": "CbUbl-behYTG",
        "outputId": "6e8d2c89-3fb0-455e-c7e9-00264b088945",
        "scrolled": true
      },
      "outputs": [
        {
          "output_type": "execute_result",
          "data": {
            "text/plain": [
              "Encoder(\n",
              "  (embedding): Embedding(90097, 512)\n",
              "  (pos_embedding): Embedding(180, 512)\n",
              "  (encoder): LSTM(512, 512, num_layers=6, batch_first=True, dropout=0.2, bidirectional=True)\n",
              "  (dropout): Dropout(p=0.2, inplace=False)\n",
              ")"
            ]
          },
          "metadata": {},
          "execution_count": 39
        }
      ],
      "source": [
        "lstm_encoder = Encoder(vocab_emb=vocab_size, embed_dim=512, hidden_size=512, num_layers=6, max_position=180)\n",
        "lstm_encoder.cuda()"
      ]
    },
    {
      "cell_type": "markdown",
      "metadata": {
        "id": "YmbwzEeWhYTG"
      },
      "source": [
        "### Training"
      ]
    },
    {
      "cell_type": "code",
      "execution_count": 40,
      "metadata": {
        "id": "BjbW3QXThYTG",
        "scrolled": true,
        "colab": {
          "base_uri": "https://localhost:8080/"
        },
        "outputId": "e98c65ea-5d3f-4598-8cad-60d7cf4cc18a"
      },
      "outputs": [
        {
          "output_type": "stream",
          "name": "stderr",
          "text": [
            "/usr/local/lib/python3.10/dist-packages/torch/optim/lr_scheduler.py:28: UserWarning: The verbose parameter is deprecated. Please use get_last_lr() to access the learning rate.\n",
            "  warnings.warn(\"The verbose parameter is deprecated. Please use get_last_lr() \"\n"
          ]
        }
      ],
      "source": [
        "torch.manual_seed(41)\n",
        "torch.cuda.manual_seed_all(41)\n",
        "random.seed(41)\n",
        "\n",
        "weight_decay = 1e-4\n",
        "encoder_optimizer = optim.Adam(lstm_encoder.parameters(), weight_decay=weight_decay)\n",
        "scheduler = torch.optim.lr_scheduler.ReduceLROnPlateau(encoder_optimizer, mode='min', factor=0.1, patience=10, verbose=True, threshold=0.0001, threshold_mode='rel', cooldown=0, min_lr=1e-8, eps=1e-08)\n",
        "\n",
        "max_lr = 1e-5\n",
        "for param_group in encoder_optimizer.param_groups:\n",
        "    param_group['lr'] = max_lr\n",
        "\n",
        "accumulate_step = 3\n",
        "grad_norm = 0.5\n",
        "warmup_steps = 500\n",
        "report_freq = 10\n",
        "eval_interval = 50\n",
        "save_dir = \"model_ckpts\""
      ]
    },
    {
      "cell_type": "code",
      "execution_count": 41,
      "metadata": {
        "id": "csm7PhMutAA4"
      },
      "outputs": [],
      "source": [
        "def cal_fscore(evidence_correct, label, pred_evidences):\n",
        "    if evidence_correct > 0:\n",
        "        evidence_recall = float(evidence_correct) / len(label)\n",
        "        evidence_precision = float(evidence_correct) / len(pred_evidences)\n",
        "        evidence_fscore = (2 * evidence_precision * evidence_recall) / (evidence_precision + evidence_recall)\n",
        "        print(evidence_fscore)\n",
        "    else:\n",
        "        evidence_fscore = 0\n",
        "    return evidence_fscore"
      ]
    },
    {
      "cell_type": "code",
      "execution_count": 42,
      "metadata": {
        "id": "SAS3OoQ5hYTH"
      },
      "outputs": [],
      "source": [
        "retrieval_num = 5\n",
        "dev_candis_num = 10\n",
        "\n",
        "def validate(dev_text_idx, evidence_text_idx, dev_sort_evidences, dev_claim_evidences, encoder_model):\n",
        "    # get evidence embeddings\n",
        "\n",
        "    encoder_model.eval()\n",
        "    start_idx = 0\n",
        "    batch_size = 800\n",
        "    evidence_embeddings = get_embeddings(evidence_text_idx, encoder_model, batch_size)\n",
        "\n",
        "    text_len = len(dev_text_idx[0])\n",
        "\n",
        "    f_scores = []\n",
        "\n",
        "    while start_idx < len(dev_text_idx):\n",
        "        end_idx = min(start_idx + batch_size, len(dev_text_idx))\n",
        "\n",
        "        cur_query = torch.LongTensor(dev_text_idx[start_idx:end_idx]).view(-1, text_len).cuda()\n",
        "        cur_query_pos = torch.LongTensor([list(range(text_len)) for _ in range(end_idx - start_idx)]).cuda()\n",
        "\n",
        "        query_embedding = encoder_model(cur_query, cur_query_pos)\n",
        "        query_embedding = query_embedding[:, -1, :].detach()\n",
        "        query_embedding = F.normalize(query_embedding, p=2, dim=1).cpu()\n",
        "\n",
        "        scores = torch.mm(query_embedding, evidence_embeddings)\n",
        "\n",
        "        for i in range(scores.size(0)):\n",
        "            new_score = torch.index_select(scores[i], 0, torch.LongTensor(dev_sort_evidences[start_idx+i][:dev_candis_num]))\n",
        "            topk_ids = torch.argsort(new_score).tolist()\n",
        "            select_ids = topk_ids[:retrieval_num]\n",
        "\n",
        "            evidence_correct = 0\n",
        "            pred_evidences = [dev_sort_evidences[start_idx+i][j] for j in select_ids]\n",
        "            label = dev_claim_evidences[start_idx+i]\n",
        "            for evidence_id in label:\n",
        "                if evidence_id in pred_evidences:\n",
        "                    evidence_correct += 1\n",
        "            evidence_fscore = cal_fscore(evidence_correct, label, pred_evidences)\n",
        "            f_scores = f_scores + [evidence_fscore]\n",
        "\n",
        "        start_idx = end_idx\n",
        "\n",
        "    fscore = np.mean(f_scores)\n",
        "    encoder_model.train()\n",
        "    print(\"\\n\\nEvidence Retrieval F-score: %.3f\\n\\n\" % fscore)\n",
        "    return fscore\n",
        "\n",
        "def get_embeddings(text_indices, encoder_model, batch_size=800):\n",
        "    embeddings = []\n",
        "    text_len = len(text_indices[0])\n",
        "\n",
        "    for start_idx in range(0, len(text_indices), batch_size):\n",
        "        end_idx = min(start_idx + batch_size, len(text_indices))\n",
        "        cur_query = torch.LongTensor(text_indices[start_idx:end_idx]).view(-1, text_len).cuda()\n",
        "        cur_query_pos = torch.LongTensor([list(range(text_len)) for _ in range(end_idx - start_idx)]).cuda()\n",
        "\n",
        "        query_embedding = encoder_model(cur_query, cur_query_pos)\n",
        "        query_embedding = query_embedding[:, -1, :].detach().cpu()\n",
        "        embeddings.append(query_embedding)\n",
        "\n",
        "    return torch.cat(embeddings, dim=0).t()\n"
      ]
    },
    {
      "cell_type": "code",
      "execution_count": 43,
      "metadata": {
        "colab": {
          "base_uri": "https://localhost:8080/"
        },
        "id": "m6-Hha1rsIhy",
        "outputId": "2163c693-2c47-4afa-e75e-4b72c47ec711"
      },
      "outputs": [
        {
          "output_type": "stream",
          "name": "stdout",
          "text": [
            "env: WANDB_NOTEBOOK_NAME=Mon5PMGroup7_COMP90042_Project_2024_Test.ipynb\n"
          ]
        }
      ],
      "source": [
        "%env WANDB_NOTEBOOK_NAME Mon5PMGroup7_COMP90042_Project_2024_Test.ipynb"
      ]
    },
    {
      "cell_type": "code",
      "execution_count": 44,
      "metadata": {
        "colab": {
          "base_uri": "https://localhost:8080/"
        },
        "id": "1siffR8esIhy",
        "outputId": "9f70bf42-d645-4346-de8b-529a0212684e"
      },
      "outputs": [
        {
          "output_type": "stream",
          "name": "stdout",
          "text": [
            "Command succeeded: pip install wandb\n",
            "Collecting wandb\n",
            "  Downloading wandb-0.17.0-py3-none-manylinux_2_5_x86_64.manylinux1_x86_64.manylinux_2_17_x86_64.manylinux2014_x86_64.whl (6.7 MB)\n",
            "     ━━━━━━━━━━━━━━━━━━━━━━━━━━━━━━━━━━━━━━━━ 6.7/6.7 MB 61.5 MB/s eta 0:00:00\n",
            "Requirement already satisfied: click!=8.0.0,>=7.1 in /usr/local/lib/python3.10/dist-packages (from wandb) (8.1.7)\n",
            "Collecting docker-pycreds>=0.4.0 (from wandb)\n",
            "  Downloading docker_pycreds-0.4.0-py2.py3-none-any.whl (9.0 kB)\n",
            "Collecting gitpython!=3.1.29,>=1.0.0 (from wandb)\n",
            "  Downloading GitPython-3.1.43-py3-none-any.whl (207 kB)\n",
            "     ━━━━━━━━━━━━━━━━━━━━━━━━━━━━━━━━━━━━━━━━ 207.3/207.3 kB 30.3 MB/s eta 0:00:00\n",
            "Requirement already satisfied: platformdirs in /usr/local/lib/python3.10/dist-packages (from wandb) (4.2.2)\n",
            "Requirement already satisfied: protobuf!=4.21.0,<5,>=3.19.0 in /usr/local/lib/python3.10/dist-packages (from wandb) (3.20.3)\n",
            "Requirement already satisfied: psutil>=5.0.0 in /usr/local/lib/python3.10/dist-packages (from wandb) (5.9.5)\n",
            "Requirement already satisfied: pyyaml in /usr/local/lib/python3.10/dist-packages (from wandb) (6.0.1)\n",
            "Requirement already satisfied: requests<3,>=2.0.0 in /usr/local/lib/python3.10/dist-packages (from wandb) (2.31.0)\n",
            "Collecting sentry-sdk>=1.0.0 (from wandb)\n",
            "  Downloading sentry_sdk-2.3.1-py2.py3-none-any.whl (289 kB)\n",
            "     ━━━━━━━━━━━━━━━━━━━━━━━━━━━━━━━━━━━━━━━━ 289.0/289.0 kB 36.0 MB/s eta 0:00:00\n",
            "Collecting setproctitle (from wandb)\n",
            "  Downloading setproctitle-1.3.3-cp310-cp310-manylinux_2_5_x86_64.manylinux1_x86_64.manylinux_2_17_x86_64.manylinux2014_x86_64.whl (30 kB)\n",
            "Requirement already satisfied: setuptools in /usr/local/lib/python3.10/dist-packages (from wandb) (67.7.2)\n",
            "Requirement already satisfied: six>=1.4.0 in /usr/local/lib/python3.10/dist-packages (from docker-pycreds>=0.4.0->wandb) (1.16.0)\n",
            "Collecting gitdb<5,>=4.0.1 (from gitpython!=3.1.29,>=1.0.0->wandb)\n",
            "  Downloading gitdb-4.0.11-py3-none-any.whl (62 kB)\n",
            "     ━━━━━━━━━━━━━━━━━━━━━━━━━━━━━━━━━━━━━━━━ 62.7/62.7 kB 9.4 MB/s eta 0:00:00\n",
            "Requirement already satisfied: charset-normalizer<4,>=2 in /usr/local/lib/python3.10/dist-packages (from requests<3,>=2.0.0->wandb) (3.3.2)\n",
            "Requirement already satisfied: idna<4,>=2.5 in /usr/local/lib/python3.10/dist-packages (from requests<3,>=2.0.0->wandb) (3.7)\n",
            "Requirement already satisfied: urllib3<3,>=1.21.1 in /usr/local/lib/python3.10/dist-packages (from requests<3,>=2.0.0->wandb) (2.0.7)\n",
            "Requirement already satisfied: certifi>=2017.4.17 in /usr/local/lib/python3.10/dist-packages (from requests<3,>=2.0.0->wandb) (2024.2.2)\n",
            "Collecting smmap<6,>=3.0.1 (from gitdb<5,>=4.0.1->gitpython!=3.1.29,>=1.0.0->wandb)\n",
            "  Downloading smmap-5.0.1-py3-none-any.whl (24 kB)\n",
            "Installing collected packages: smmap, setproctitle, sentry-sdk, docker-pycreds, gitdb, gitpython, wandb\n",
            "Successfully installed docker-pycreds-0.4.0 gitdb-4.0.11 gitpython-3.1.43 sentry-sdk-2.3.1 setproctitle-1.3.3 smmap-5.0.1 wandb-0.17.0\n",
            "\n"
          ]
        },
        {
          "output_type": "execute_result",
          "data": {
            "text/plain": [
              "CompletedProcess(args='pip install wandb', returncode=0, stdout='Collecting wandb\\n  Downloading wandb-0.17.0-py3-none-manylinux_2_5_x86_64.manylinux1_x86_64.manylinux_2_17_x86_64.manylinux2014_x86_64.whl (6.7 MB)\\n     ━━━━━━━━━━━━━━━━━━━━━━━━━━━━━━━━━━━━━━━━ 6.7/6.7 MB 61.5 MB/s eta 0:00:00\\nRequirement already satisfied: click!=8.0.0,>=7.1 in /usr/local/lib/python3.10/dist-packages (from wandb) (8.1.7)\\nCollecting docker-pycreds>=0.4.0 (from wandb)\\n  Downloading docker_pycreds-0.4.0-py2.py3-none-any.whl (9.0 kB)\\nCollecting gitpython!=3.1.29,>=1.0.0 (from wandb)\\n  Downloading GitPython-3.1.43-py3-none-any.whl (207 kB)\\n     ━━━━━━━━━━━━━━━━━━━━━━━━━━━━━━━━━━━━━━━━ 207.3/207.3 kB 30.3 MB/s eta 0:00:00\\nRequirement already satisfied: platformdirs in /usr/local/lib/python3.10/dist-packages (from wandb) (4.2.2)\\nRequirement already satisfied: protobuf!=4.21.0,<5,>=3.19.0 in /usr/local/lib/python3.10/dist-packages (from wandb) (3.20.3)\\nRequirement already satisfied: psutil>=5.0.0 in /usr/local/lib/python3.10/dist-packages (from wandb) (5.9.5)\\nRequirement already satisfied: pyyaml in /usr/local/lib/python3.10/dist-packages (from wandb) (6.0.1)\\nRequirement already satisfied: requests<3,>=2.0.0 in /usr/local/lib/python3.10/dist-packages (from wandb) (2.31.0)\\nCollecting sentry-sdk>=1.0.0 (from wandb)\\n  Downloading sentry_sdk-2.3.1-py2.py3-none-any.whl (289 kB)\\n     ━━━━━━━━━━━━━━━━━━━━━━━━━━━━━━━━━━━━━━━━ 289.0/289.0 kB 36.0 MB/s eta 0:00:00\\nCollecting setproctitle (from wandb)\\n  Downloading setproctitle-1.3.3-cp310-cp310-manylinux_2_5_x86_64.manylinux1_x86_64.manylinux_2_17_x86_64.manylinux2014_x86_64.whl (30 kB)\\nRequirement already satisfied: setuptools in /usr/local/lib/python3.10/dist-packages (from wandb) (67.7.2)\\nRequirement already satisfied: six>=1.4.0 in /usr/local/lib/python3.10/dist-packages (from docker-pycreds>=0.4.0->wandb) (1.16.0)\\nCollecting gitdb<5,>=4.0.1 (from gitpython!=3.1.29,>=1.0.0->wandb)\\n  Downloading gitdb-4.0.11-py3-none-any.whl (62 kB)\\n     ━━━━━━━━━━━━━━━━━━━━━━━━━━━━━━━━━━━━━━━━ 62.7/62.7 kB 9.4 MB/s eta 0:00:00\\nRequirement already satisfied: charset-normalizer<4,>=2 in /usr/local/lib/python3.10/dist-packages (from requests<3,>=2.0.0->wandb) (3.3.2)\\nRequirement already satisfied: idna<4,>=2.5 in /usr/local/lib/python3.10/dist-packages (from requests<3,>=2.0.0->wandb) (3.7)\\nRequirement already satisfied: urllib3<3,>=1.21.1 in /usr/local/lib/python3.10/dist-packages (from requests<3,>=2.0.0->wandb) (2.0.7)\\nRequirement already satisfied: certifi>=2017.4.17 in /usr/local/lib/python3.10/dist-packages (from requests<3,>=2.0.0->wandb) (2024.2.2)\\nCollecting smmap<6,>=3.0.1 (from gitdb<5,>=4.0.1->gitpython!=3.1.29,>=1.0.0->wandb)\\n  Downloading smmap-5.0.1-py3-none-any.whl (24 kB)\\nInstalling collected packages: smmap, setproctitle, sentry-sdk, docker-pycreds, gitdb, gitpython, wandb\\nSuccessfully installed docker-pycreds-0.4.0 gitdb-4.0.11 gitpython-3.1.43 sentry-sdk-2.3.1 setproctitle-1.3.3 smmap-5.0.1 wandb-0.17.0\\n', stderr='')"
            ]
          },
          "metadata": {},
          "execution_count": 44
        }
      ],
      "source": [
        "import subprocess\n",
        "\n",
        "def run_command(command):\n",
        "    result = subprocess.run(command, shell=True, text=True, capture_output=True)\n",
        "    if result.returncode != 0:\n",
        "        print(f\"Command failed: {command}\\n{result.stderr}\")\n",
        "    else:\n",
        "        print(f\"Command succeeded: {command}\\n{result.stdout}\")\n",
        "    return result\n",
        "\n",
        "required_packages = [\"wandb\"]\n",
        "run_command(f\"pip install {' '.join(required_packages)}\")"
      ]
    },
    {
      "cell_type": "code",
      "execution_count": 45,
      "metadata": {
        "colab": {
          "base_uri": "https://localhost:8080/",
          "height": 1000
        },
        "id": "P7euW_2thYTL",
        "outputId": "24bebcae-5e01-4306-d8ea-f4f5190840bc"
      },
      "outputs": [
        {
          "output_type": "stream",
          "name": "stderr",
          "text": [
            "\u001b[34m\u001b[1mwandb\u001b[0m: \u001b[33mWARNING\u001b[0m WANDB_NOTEBOOK_NAME should be a path to a notebook file, couldn't find Mon5PMGroup7_COMP90042_Project_2024_Test.ipynb.\n"
          ]
        },
        {
          "output_type": "display_data",
          "data": {
            "text/plain": [
              "<IPython.core.display.Javascript object>"
            ],
            "application/javascript": [
              "\n",
              "        window._wandbApiKey = new Promise((resolve, reject) => {\n",
              "            function loadScript(url) {\n",
              "            return new Promise(function(resolve, reject) {\n",
              "                let newScript = document.createElement(\"script\");\n",
              "                newScript.onerror = reject;\n",
              "                newScript.onload = resolve;\n",
              "                document.body.appendChild(newScript);\n",
              "                newScript.src = url;\n",
              "            });\n",
              "            }\n",
              "            loadScript(\"https://cdn.jsdelivr.net/npm/postmate/build/postmate.min.js\").then(() => {\n",
              "            const iframe = document.createElement('iframe')\n",
              "            iframe.style.cssText = \"width:0;height:0;border:none\"\n",
              "            document.body.appendChild(iframe)\n",
              "            const handshake = new Postmate({\n",
              "                container: iframe,\n",
              "                url: 'https://wandb.ai/authorize'\n",
              "            });\n",
              "            const timeout = setTimeout(() => reject(\"Couldn't auto authenticate\"), 5000)\n",
              "            handshake.then(function(child) {\n",
              "                child.on('authorize', data => {\n",
              "                    clearTimeout(timeout)\n",
              "                    resolve(data)\n",
              "                });\n",
              "            });\n",
              "            })\n",
              "        });\n",
              "    "
            ]
          },
          "metadata": {}
        },
        {
          "output_type": "stream",
          "name": "stderr",
          "text": [
            "\u001b[34m\u001b[1mwandb\u001b[0m: Logging into wandb.ai. (Learn how to deploy a W&B server locally: https://wandb.me/wandb-server)\n",
            "\u001b[34m\u001b[1mwandb\u001b[0m: You can find your API key in your browser here: https://wandb.ai/authorize\n",
            "wandb: Paste an API key from your profile and hit enter, or press ctrl+c to quit:"
          ]
        },
        {
          "name": "stdout",
          "output_type": "stream",
          "text": [
            " ··········\n"
          ]
        },
        {
          "output_type": "stream",
          "name": "stderr",
          "text": [
            "\u001b[34m\u001b[1mwandb\u001b[0m: Appending key for api.wandb.ai to your netrc file: /root/.netrc\n"
          ]
        },
        {
          "output_type": "display_data",
          "data": {
            "text/plain": [
              "<IPython.core.display.HTML object>"
            ],
            "text/html": [
              "Tracking run with wandb version 0.17.0"
            ]
          },
          "metadata": {}
        },
        {
          "output_type": "display_data",
          "data": {
            "text/plain": [
              "<IPython.core.display.HTML object>"
            ],
            "text/html": [
              "Run data is saved locally in <code>/content/wandb/run-20240525_123646-rvhwtzal</code>"
            ]
          },
          "metadata": {}
        },
        {
          "output_type": "display_data",
          "data": {
            "text/plain": [
              "<IPython.core.display.HTML object>"
            ],
            "text/html": [
              "Syncing run <strong><a href='https://wandb.ai/damonz-deeplearning/nlp/runs/rvhwtzal' target=\"_blank\">WZTestEvi</a></strong> to <a href='https://wandb.ai/damonz-deeplearning/nlp' target=\"_blank\">Weights & Biases</a> (<a href='https://wandb.me/run' target=\"_blank\">docs</a>)<br/>"
            ]
          },
          "metadata": {}
        },
        {
          "output_type": "display_data",
          "data": {
            "text/plain": [
              "<IPython.core.display.HTML object>"
            ],
            "text/html": [
              " View project at <a href='https://wandb.ai/damonz-deeplearning/nlp' target=\"_blank\">https://wandb.ai/damonz-deeplearning/nlp</a>"
            ]
          },
          "metadata": {}
        },
        {
          "output_type": "display_data",
          "data": {
            "text/plain": [
              "<IPython.core.display.HTML object>"
            ],
            "text/html": [
              " View run at <a href='https://wandb.ai/damonz-deeplearning/nlp/runs/rvhwtzal' target=\"_blank\">https://wandb.ai/damonz-deeplearning/nlp/runs/rvhwtzal</a>"
            ]
          },
          "metadata": {}
        },
        {
          "output_type": "stream",
          "name": "stderr",
          "text": [
            " 13%|█▎        | 31/246 [00:05<00:24,  8.80it/s]"
          ]
        },
        {
          "output_type": "stream",
          "name": "stdout",
          "text": [
            "\n",
            "\n",
            "epoch: 1, epoch_step: 10, avg loss: 4.178419\n",
            "learning rate: 0.000000\n",
            "\n",
            "\n"
          ]
        },
        {
          "output_type": "stream",
          "name": "stderr",
          "text": [
            " 25%|██▍       | 61/246 [00:08<00:20,  8.84it/s]"
          ]
        },
        {
          "output_type": "stream",
          "name": "stdout",
          "text": [
            "\n",
            "\n",
            "epoch: 1, epoch_step: 20, avg loss: 4.212841\n",
            "learning rate: 0.000000\n",
            "\n",
            "\n"
          ]
        },
        {
          "output_type": "stream",
          "name": "stderr",
          "text": [
            " 37%|███▋      | 91/246 [00:11<00:17,  8.68it/s]"
          ]
        },
        {
          "output_type": "stream",
          "name": "stdout",
          "text": [
            "\n",
            "\n",
            "epoch: 1, epoch_step: 30, avg loss: 4.206546\n",
            "learning rate: 0.000001\n",
            "\n",
            "\n"
          ]
        },
        {
          "output_type": "stream",
          "name": "stderr",
          "text": [
            " 49%|████▉     | 121/246 [00:15<00:14,  8.82it/s]"
          ]
        },
        {
          "output_type": "stream",
          "name": "stdout",
          "text": [
            "\n",
            "\n",
            "epoch: 1, epoch_step: 40, avg loss: 4.208574\n",
            "learning rate: 0.000001\n",
            "\n",
            "\n"
          ]
        },
        {
          "output_type": "stream",
          "name": "stderr",
          "text": [
            " 61%|██████    | 149/246 [00:18<00:10,  9.05it/s]"
          ]
        },
        {
          "output_type": "stream",
          "name": "stdout",
          "text": [
            "\n",
            "\n",
            "epoch: 1, epoch_step: 50, avg loss: 4.229799\n",
            "learning rate: 0.000001\n",
            "\n",
            "\n",
            "\n",
            "Evaluate:\n",
            "\n",
            "0.28571428571428575\n",
            "0.28571428571428575\n",
            "0.5\n",
            "0.22222222222222224\n",
            "0.6\n",
            "0.20000000000000004\n",
            "0.20000000000000004\n",
            "0.20000000000000004\n",
            "0.33333333333333337\n",
            "0.20000000000000004\n",
            "0.7499999999999999\n",
            "0.33333333333333337\n",
            "0.5714285714285715\n",
            "0.20000000000000004\n",
            "0.25\n",
            "0.20000000000000004\n",
            "0.20000000000000004\n",
            "0.20000000000000004\n",
            "0.28571428571428575\n",
            "0.20000000000000004\n",
            "0.22222222222222224\n",
            "0.20000000000000004\n",
            "0.6\n",
            "0.28571428571428575\n",
            "0.25\n",
            "0.25\n",
            "0.20000000000000004\n",
            "0.25\n",
            "0.4000000000000001\n",
            "0.28571428571428575\n",
            "\n",
            "\n",
            "Evidence Retrieval F-score: 0.059\n",
            "\n",
            "\n"
          ]
        },
        {
          "output_type": "stream",
          "name": "stderr",
          "text": [
            "\r 61%|██████    | 150/246 [06:44<2:34:47, 96.75s/it]"
          ]
        },
        {
          "output_type": "stream",
          "name": "stdout",
          "text": [
            "\n",
            "\n",
            "best val loss - epoch: 0, epoch_step: 50\n",
            "maximum_f_score 0.05948773448773449 \n",
            "\n",
            "\n"
          ]
        },
        {
          "output_type": "stream",
          "name": "stderr",
          "text": [
            " 74%|███████▎  | 181/246 [06:47<00:07,  8.72it/s]"
          ]
        },
        {
          "output_type": "stream",
          "name": "stdout",
          "text": [
            "\n",
            "\n",
            "epoch: 1, epoch_step: 60, avg loss: 4.163828\n",
            "learning rate: 0.000001\n",
            "\n",
            "\n"
          ]
        },
        {
          "output_type": "stream",
          "name": "stderr",
          "text": [
            " 86%|████████▌ | 211/246 [06:51<00:04,  8.71it/s]"
          ]
        },
        {
          "output_type": "stream",
          "name": "stdout",
          "text": [
            "\n",
            "\n",
            "epoch: 1, epoch_step: 70, avg loss: 4.228285\n",
            "learning rate: 0.000001\n",
            "\n",
            "\n"
          ]
        },
        {
          "output_type": "stream",
          "name": "stderr",
          "text": [
            " 98%|█████████▊| 241/246 [06:54<00:00,  9.05it/s]"
          ]
        },
        {
          "output_type": "stream",
          "name": "stdout",
          "text": [
            "\n",
            "\n",
            "epoch: 1, epoch_step: 80, avg loss: 4.226500\n",
            "learning rate: 0.000002\n",
            "\n",
            "\n"
          ]
        },
        {
          "output_type": "stream",
          "name": "stderr",
          "text": [
            "100%|██████████| 246/246 [06:55<00:00,  1.69s/it]\n",
            " 10%|█         | 25/246 [00:02<00:25,  8.60it/s]"
          ]
        },
        {
          "output_type": "stream",
          "name": "stdout",
          "text": [
            "\n",
            "\n",
            "epoch: 2, epoch_step: 8, avg loss: 4.201340\n",
            "learning rate: 0.000002\n",
            "\n",
            "\n"
          ]
        },
        {
          "output_type": "stream",
          "name": "stderr",
          "text": [
            " 22%|██▏       | 53/246 [00:06<00:23,  8.38it/s]"
          ]
        },
        {
          "output_type": "stream",
          "name": "stdout",
          "text": [
            "\n",
            "\n",
            "epoch: 2, epoch_step: 18, avg loss: 4.224994\n",
            "learning rate: 0.000002\n",
            "\n",
            "\n",
            "\n",
            "Evaluate:\n",
            "\n",
            "0.5714285714285715\n",
            "0.5714285714285715\n",
            "0.20000000000000004\n",
            "0.5\n",
            "0.4000000000000001\n",
            "0.20000000000000004\n",
            "0.28571428571428575\n",
            "0.20000000000000004\n",
            "0.33333333333333337\n",
            "0.4444444444444445\n",
            "0.20000000000000004\n",
            "0.20000000000000004\n",
            "0.33333333333333337\n",
            "0.28571428571428575\n",
            "0.20000000000000004\n",
            "0.25\n",
            "0.33333333333333337\n",
            "0.25\n",
            "0.20000000000000004\n",
            "0.5714285714285715\n",
            "0.33333333333333337\n",
            "0.4000000000000001\n",
            "0.20000000000000004\n",
            "0.20000000000000004\n",
            "0.25\n",
            "0.20000000000000004\n",
            "0.22222222222222224\n",
            "0.25\n",
            "0.33333333333333337\n",
            "0.33333333333333337\n",
            "0.20000000000000004\n",
            "0.20000000000000004\n",
            "0.4000000000000001\n",
            "0.4000000000000001\n",
            "0.20000000000000004\n",
            "\n",
            "\n",
            "Evidence Retrieval F-score: 0.069\n",
            "\n",
            "\n"
          ]
        },
        {
          "output_type": "stream",
          "name": "stderr",
          "text": [
            "\r 22%|██▏       | 54/246 [06:33<6:11:02, 115.95s/it]"
          ]
        },
        {
          "output_type": "stream",
          "name": "stdout",
          "text": [
            "\n",
            "\n",
            "best val loss - epoch: 1, epoch_step: 18\n",
            "maximum_f_score 0.0691713048855906 \n",
            "\n",
            "\n"
          ]
        },
        {
          "output_type": "stream",
          "name": "stderr",
          "text": [
            " 35%|███▍      | 85/246 [06:36<00:20,  7.93it/s]"
          ]
        },
        {
          "output_type": "stream",
          "name": "stdout",
          "text": [
            "\n",
            "\n",
            "epoch: 2, epoch_step: 28, avg loss: 4.205119\n",
            "learning rate: 0.000002\n",
            "\n",
            "\n"
          ]
        },
        {
          "output_type": "stream",
          "name": "stderr",
          "text": [
            " 47%|████▋     | 115/246 [06:40<00:15,  8.42it/s]"
          ]
        },
        {
          "output_type": "stream",
          "name": "stdout",
          "text": [
            "\n",
            "\n",
            "epoch: 2, epoch_step: 38, avg loss: 4.171901\n",
            "learning rate: 0.000002\n",
            "\n",
            "\n"
          ]
        },
        {
          "output_type": "stream",
          "name": "stderr",
          "text": [
            " 59%|█████▉    | 145/246 [06:43<00:11,  8.51it/s]"
          ]
        },
        {
          "output_type": "stream",
          "name": "stdout",
          "text": [
            "\n",
            "\n",
            "epoch: 2, epoch_step: 48, avg loss: 4.221365\n",
            "learning rate: 0.000003\n",
            "\n",
            "\n"
          ]
        },
        {
          "output_type": "stream",
          "name": "stderr",
          "text": [
            " 71%|███████   | 175/246 [06:46<00:07,  8.92it/s]"
          ]
        },
        {
          "output_type": "stream",
          "name": "stdout",
          "text": [
            "\n",
            "\n",
            "epoch: 2, epoch_step: 58, avg loss: 4.191739\n",
            "learning rate: 0.000003\n",
            "\n",
            "\n"
          ]
        },
        {
          "output_type": "stream",
          "name": "stderr",
          "text": [
            " 83%|████████▎ | 203/246 [06:50<00:04,  8.91it/s]"
          ]
        },
        {
          "output_type": "stream",
          "name": "stdout",
          "text": [
            "\n",
            "\n",
            "epoch: 2, epoch_step: 68, avg loss: 4.174821\n",
            "learning rate: 0.000003\n",
            "\n",
            "\n",
            "\n",
            "Evaluate:\n",
            "\n",
            "0.28571428571428575\n",
            "0.5714285714285715\n",
            "0.20000000000000004\n",
            "0.22222222222222224\n",
            "0.4000000000000001\n",
            "0.28571428571428575\n",
            "0.20000000000000004\n",
            "0.28571428571428575\n",
            "0.20000000000000004\n",
            "0.20000000000000004\n",
            "0.20000000000000004\n",
            "0.20000000000000004\n",
            "0.25\n",
            "0.33333333333333337\n",
            "0.25\n",
            "0.5\n",
            "0.20000000000000004\n",
            "0.5714285714285715\n",
            "0.6\n",
            "0.5\n",
            "0.20000000000000004\n",
            "0.20000000000000004\n",
            "0.33333333333333337\n",
            "0.22222222222222224\n",
            "0.25\n",
            "0.20000000000000004\n",
            "0.28571428571428575\n",
            "0.33333333333333337\n",
            "0.28571428571428575\n",
            "0.25\n",
            "0.20000000000000004\n",
            "0.20000000000000004\n",
            "0.25\n",
            "0.6\n",
            "0.20000000000000004\n",
            "\n",
            "\n",
            "Evidence Retrieval F-score: 0.068\n",
            "\n",
            "\n"
          ]
        },
        {
          "output_type": "stream",
          "name": "stderr",
          "text": [
            " 96%|█████████▌| 235/246 [13:18<00:01,  8.28it/s]"
          ]
        },
        {
          "output_type": "stream",
          "name": "stdout",
          "text": [
            "\n",
            "\n",
            "epoch: 2, epoch_step: 78, avg loss: 4.225349\n",
            "learning rate: 0.000003\n",
            "\n",
            "\n"
          ]
        },
        {
          "output_type": "stream",
          "name": "stderr",
          "text": [
            "100%|██████████| 246/246 [13:20<00:00,  3.25s/it]\n",
            "  8%|▊         | 19/246 [00:02<00:27,  8.31it/s]"
          ]
        },
        {
          "output_type": "stream",
          "name": "stdout",
          "text": [
            "\n",
            "\n",
            "epoch: 3, epoch_step: 6, avg loss: 4.195570\n",
            "learning rate: 0.000003\n",
            "\n",
            "\n"
          ]
        },
        {
          "output_type": "stream",
          "name": "stderr",
          "text": [
            " 20%|█▉        | 49/246 [00:05<00:22,  8.65it/s]"
          ]
        },
        {
          "output_type": "stream",
          "name": "stdout",
          "text": [
            "\n",
            "\n",
            "epoch: 3, epoch_step: 16, avg loss: 4.206132\n",
            "learning rate: 0.000004\n",
            "\n",
            "\n"
          ]
        },
        {
          "output_type": "stream",
          "name": "stderr",
          "text": [
            " 32%|███▏      | 79/246 [00:09<00:19,  8.61it/s]"
          ]
        },
        {
          "output_type": "stream",
          "name": "stdout",
          "text": [
            "\n",
            "\n",
            "epoch: 3, epoch_step: 26, avg loss: 4.227584\n",
            "learning rate: 0.000004\n",
            "\n",
            "\n"
          ]
        },
        {
          "output_type": "stream",
          "name": "stderr",
          "text": [
            " 43%|████▎     | 106/246 [00:12<00:16,  8.74it/s]"
          ]
        },
        {
          "output_type": "stream",
          "name": "stdout",
          "text": [
            "\n",
            "\n",
            "epoch: 3, epoch_step: 36, avg loss: 4.238637\n",
            "learning rate: 0.000004\n",
            "\n",
            "\n",
            "\n",
            "Evaluate:\n",
            "\n",
            "0.5714285714285715\n",
            "0.5714285714285715\n",
            "0.25\n",
            "0.4000000000000001\n",
            "0.20000000000000004\n",
            "0.28571428571428575\n",
            "0.20000000000000004\n",
            "0.33333333333333337\n",
            "0.22222222222222224\n",
            "0.20000000000000004\n",
            "0.20000000000000004\n",
            "0.20000000000000004\n",
            "0.20000000000000004\n",
            "0.5\n",
            "0.33333333333333337\n",
            "0.25\n",
            "0.28571428571428575\n",
            "0.20000000000000004\n",
            "0.25\n",
            "0.33333333333333337\n",
            "0.20000000000000004\n",
            "0.4000000000000001\n",
            "0.22222222222222224\n",
            "0.33333333333333337\n",
            "0.28571428571428575\n",
            "0.25\n",
            "0.20000000000000004\n",
            "0.20000000000000004\n",
            "0.20000000000000004\n",
            "0.4000000000000001\n",
            "\n",
            "\n",
            "Evidence Retrieval F-score: 0.056\n",
            "\n",
            "\n"
          ]
        },
        {
          "output_type": "stream",
          "name": "stderr",
          "text": [
            " 57%|█████▋    | 139/246 [06:40<00:13,  8.12it/s]"
          ]
        },
        {
          "output_type": "stream",
          "name": "stdout",
          "text": [
            "\n",
            "\n",
            "epoch: 3, epoch_step: 46, avg loss: 4.203062\n",
            "learning rate: 0.000004\n",
            "\n",
            "\n"
          ]
        },
        {
          "output_type": "stream",
          "name": "stderr",
          "text": [
            " 69%|██████▊   | 169/246 [06:44<00:08,  8.60it/s]"
          ]
        },
        {
          "output_type": "stream",
          "name": "stdout",
          "text": [
            "\n",
            "\n",
            "epoch: 3, epoch_step: 56, avg loss: 4.196205\n",
            "learning rate: 0.000004\n",
            "\n",
            "\n"
          ]
        },
        {
          "output_type": "stream",
          "name": "stderr",
          "text": [
            " 81%|████████  | 199/246 [06:47<00:05,  8.89it/s]"
          ]
        },
        {
          "output_type": "stream",
          "name": "stdout",
          "text": [
            "\n",
            "\n",
            "epoch: 3, epoch_step: 66, avg loss: 4.224746\n",
            "learning rate: 0.000005\n",
            "\n",
            "\n"
          ]
        },
        {
          "output_type": "stream",
          "name": "stderr",
          "text": [
            " 93%|█████████▎| 229/246 [06:50<00:01,  8.58it/s]"
          ]
        },
        {
          "output_type": "stream",
          "name": "stdout",
          "text": [
            "\n",
            "\n",
            "epoch: 3, epoch_step: 76, avg loss: 4.198257\n",
            "learning rate: 0.000005\n",
            "\n",
            "\n"
          ]
        },
        {
          "output_type": "stream",
          "name": "stderr",
          "text": [
            "100%|██████████| 246/246 [06:52<00:00,  1.68s/it]\n",
            "  4%|▍         | 11/246 [00:01<00:26,  8.87it/s]"
          ]
        },
        {
          "output_type": "stream",
          "name": "stdout",
          "text": [
            "\n",
            "\n",
            "epoch: 4, epoch_step: 4, avg loss: 4.170400\n",
            "learning rate: 0.000005\n",
            "\n",
            "\n",
            "\n",
            "Evaluate:\n",
            "\n",
            "0.28571428571428575\n",
            "0.28571428571428575\n",
            "0.20000000000000004\n",
            "0.5\n",
            "0.22222222222222224\n",
            "0.4000000000000001\n",
            "0.20000000000000004\n",
            "0.28571428571428575\n",
            "0.20000000000000004\n",
            "0.22222222222222224\n",
            "0.20000000000000004\n",
            "0.20000000000000004\n",
            "0.25\n",
            "0.28571428571428575\n",
            "0.5\n",
            "0.33333333333333337\n",
            "0.25\n",
            "0.25\n",
            "0.4000000000000001\n",
            "0.5714285714285715\n",
            "0.33333333333333337\n",
            "0.20000000000000004\n",
            "0.25\n",
            "0.20000000000000004\n",
            "0.20000000000000004\n",
            "0.25\n",
            "0.28571428571428575\n",
            "0.4000000000000001\n",
            "0.4000000000000001\n",
            "0.25\n",
            "0.33333333333333337\n",
            "0.25\n",
            "0.25\n",
            "0.20000000000000004\n",
            "0.20000000000000004\n",
            "0.25\n",
            "0.20000000000000004\n",
            "0.4000000000000001\n",
            "0.20000000000000004\n",
            "\n",
            "\n",
            "Evidence Retrieval F-score: 0.072\n",
            "\n",
            "\n"
          ]
        },
        {
          "output_type": "stream",
          "name": "stderr",
          "text": [
            "  5%|▌         | 13/246 [06:27<5:18:13, 81.94s/it] "
          ]
        },
        {
          "output_type": "stream",
          "name": "stdout",
          "text": [
            "\n",
            "\n",
            "best val loss - epoch: 3, epoch_step: 4\n",
            "maximum_f_score 0.07204184704184705 \n",
            "\n",
            "\n"
          ]
        },
        {
          "output_type": "stream",
          "name": "stderr",
          "text": [
            " 17%|█▋        | 43/246 [06:30<00:24,  8.28it/s]"
          ]
        },
        {
          "output_type": "stream",
          "name": "stdout",
          "text": [
            "\n",
            "\n",
            "epoch: 4, epoch_step: 14, avg loss: 4.201465\n",
            "learning rate: 0.000005\n",
            "\n",
            "\n"
          ]
        },
        {
          "output_type": "stream",
          "name": "stderr",
          "text": [
            " 30%|██▉       | 73/246 [06:34<00:19,  8.66it/s]"
          ]
        },
        {
          "output_type": "stream",
          "name": "stdout",
          "text": [
            "\n",
            "\n",
            "epoch: 4, epoch_step: 24, avg loss: 4.212944\n",
            "learning rate: 0.000005\n",
            "\n",
            "\n"
          ]
        },
        {
          "output_type": "stream",
          "name": "stderr",
          "text": [
            " 42%|████▏     | 103/246 [06:37<00:16,  8.55it/s]"
          ]
        },
        {
          "output_type": "stream",
          "name": "stdout",
          "text": [
            "\n",
            "\n",
            "epoch: 4, epoch_step: 34, avg loss: 4.197094\n",
            "learning rate: 0.000006\n",
            "\n",
            "\n"
          ]
        },
        {
          "output_type": "stream",
          "name": "stderr",
          "text": [
            " 54%|█████▍    | 133/246 [06:41<00:12,  8.70it/s]"
          ]
        },
        {
          "output_type": "stream",
          "name": "stdout",
          "text": [
            "\n",
            "\n",
            "epoch: 4, epoch_step: 44, avg loss: 4.243584\n",
            "learning rate: 0.000006\n",
            "\n",
            "\n"
          ]
        },
        {
          "output_type": "stream",
          "name": "stderr",
          "text": [
            " 65%|██████▌   | 161/246 [06:44<00:09,  8.76it/s]"
          ]
        },
        {
          "output_type": "stream",
          "name": "stdout",
          "text": [
            "\n",
            "\n",
            "epoch: 4, epoch_step: 54, avg loss: 4.210644\n",
            "learning rate: 0.000006\n",
            "\n",
            "\n",
            "\n",
            "Evaluate:\n",
            "\n",
            "0.28571428571428575\n",
            "0.28571428571428575\n",
            "0.5\n",
            "0.4000000000000001\n",
            "0.20000000000000004\n",
            "0.28571428571428575\n",
            "0.20000000000000004\n",
            "0.33333333333333337\n",
            "0.28571428571428575\n",
            "0.22222222222222224\n",
            "0.20000000000000004\n",
            "0.28571428571428575\n",
            "0.5\n",
            "0.33333333333333337\n",
            "0.25\n",
            "0.5\n",
            "0.20000000000000004\n",
            "0.28571428571428575\n",
            "0.33333333333333337\n",
            "0.4000000000000001\n",
            "0.5\n",
            "0.25\n",
            "0.28571428571428575\n",
            "0.20000000000000004\n",
            "0.25\n",
            "0.4000000000000001\n",
            "0.33333333333333337\n",
            "0.28571428571428575\n",
            "0.33333333333333337\n",
            "0.28571428571428575\n",
            "0.25\n",
            "0.20000000000000004\n",
            "0.20000000000000004\n",
            "0.25\n",
            "0.4000000000000001\n",
            "0.20000000000000004\n",
            "\n",
            "\n",
            "Evidence Retrieval F-score: 0.071\n",
            "\n",
            "\n"
          ]
        },
        {
          "output_type": "stream",
          "name": "stderr",
          "text": [
            " 78%|███████▊  | 193/246 [13:12<00:06,  8.09it/s]"
          ]
        },
        {
          "output_type": "stream",
          "name": "stdout",
          "text": [
            "\n",
            "\n",
            "epoch: 4, epoch_step: 64, avg loss: 4.194517\n",
            "learning rate: 0.000006\n",
            "\n",
            "\n"
          ]
        },
        {
          "output_type": "stream",
          "name": "stderr",
          "text": [
            " 91%|█████████ | 223/246 [13:16<00:02,  8.63it/s]"
          ]
        },
        {
          "output_type": "stream",
          "name": "stdout",
          "text": [
            "\n",
            "\n",
            "epoch: 4, epoch_step: 74, avg loss: 4.223542\n",
            "learning rate: 0.000006\n",
            "\n",
            "\n"
          ]
        },
        {
          "output_type": "stream",
          "name": "stderr",
          "text": [
            "100%|██████████| 246/246 [13:18<00:00,  3.25s/it]\n",
            "  3%|▎         | 7/246 [00:00<00:28,  8.53it/s]"
          ]
        },
        {
          "output_type": "stream",
          "name": "stdout",
          "text": [
            "\n",
            "\n",
            "epoch: 5, epoch_step: 2, avg loss: 4.150872\n",
            "learning rate: 0.000007\n",
            "\n",
            "\n"
          ]
        },
        {
          "output_type": "stream",
          "name": "stderr",
          "text": [
            " 15%|█▌        | 37/246 [00:04<00:24,  8.69it/s]"
          ]
        },
        {
          "output_type": "stream",
          "name": "stdout",
          "text": [
            "\n",
            "\n",
            "epoch: 5, epoch_step: 12, avg loss: 4.190445\n",
            "learning rate: 0.000007\n",
            "\n",
            "\n"
          ]
        },
        {
          "output_type": "stream",
          "name": "stderr",
          "text": [
            " 26%|██▋       | 65/246 [00:07<00:20,  9.01it/s]"
          ]
        },
        {
          "output_type": "stream",
          "name": "stdout",
          "text": [
            "\n",
            "\n",
            "epoch: 5, epoch_step: 22, avg loss: 4.199891\n",
            "learning rate: 0.000007\n",
            "\n",
            "\n",
            "\n",
            "Evaluate:\n",
            "\n",
            "0.28571428571428575\n",
            "0.25\n",
            "0.4000000000000001\n",
            "0.28571428571428575\n",
            "0.33333333333333337\n",
            "0.20000000000000004\n",
            "0.20000000000000004\n",
            "0.20000000000000004\n",
            "0.25\n",
            "0.33333333333333337\n",
            "0.4000000000000001\n",
            "0.28571428571428575\n",
            "0.33333333333333337\n",
            "0.6\n",
            "0.5\n",
            "0.33333333333333337\n",
            "0.4000000000000001\n",
            "0.20000000000000004\n",
            "0.25\n",
            "0.20000000000000004\n",
            "0.22222222222222224\n",
            "0.33333333333333337\n",
            "0.25\n",
            "0.20000000000000004\n",
            "0.20000000000000004\n",
            "0.25\n",
            "0.4000000000000001\n",
            "0.28571428571428575\n",
            "0.20000000000000004\n",
            "\n",
            "\n",
            "Evidence Retrieval F-score: 0.056\n",
            "\n",
            "\n"
          ]
        },
        {
          "output_type": "stream",
          "name": "stderr",
          "text": [
            " 39%|███▉      | 97/246 [06:36<00:17,  8.35it/s]"
          ]
        },
        {
          "output_type": "stream",
          "name": "stdout",
          "text": [
            "\n",
            "\n",
            "epoch: 5, epoch_step: 32, avg loss: 4.232130\n",
            "learning rate: 0.000007\n",
            "\n",
            "\n"
          ]
        },
        {
          "output_type": "stream",
          "name": "stderr",
          "text": [
            " 52%|█████▏    | 127/246 [06:39<00:13,  8.99it/s]"
          ]
        },
        {
          "output_type": "stream",
          "name": "stdout",
          "text": [
            "\n",
            "\n",
            "epoch: 5, epoch_step: 42, avg loss: 4.211962\n",
            "learning rate: 0.000007\n",
            "\n",
            "\n"
          ]
        },
        {
          "output_type": "stream",
          "name": "stderr",
          "text": [
            " 64%|██████▍   | 157/246 [06:42<00:10,  8.60it/s]"
          ]
        },
        {
          "output_type": "stream",
          "name": "stdout",
          "text": [
            "\n",
            "\n",
            "epoch: 5, epoch_step: 52, avg loss: 4.227707\n",
            "learning rate: 0.000008\n",
            "\n",
            "\n"
          ]
        },
        {
          "output_type": "stream",
          "name": "stderr",
          "text": [
            " 76%|███████▌  | 187/246 [06:46<00:06,  8.86it/s]"
          ]
        },
        {
          "output_type": "stream",
          "name": "stdout",
          "text": [
            "\n",
            "\n",
            "epoch: 5, epoch_step: 62, avg loss: 4.200952\n",
            "learning rate: 0.000008\n",
            "\n",
            "\n"
          ]
        },
        {
          "output_type": "stream",
          "name": "stderr",
          "text": [
            " 87%|████████▋ | 215/246 [06:49<00:03,  8.68it/s]"
          ]
        },
        {
          "output_type": "stream",
          "name": "stdout",
          "text": [
            "\n",
            "\n",
            "epoch: 5, epoch_step: 72, avg loss: 4.224077\n",
            "learning rate: 0.000008\n",
            "\n",
            "\n",
            "\n",
            "Evaluate:\n",
            "\n",
            "0.28571428571428575\n",
            "0.20000000000000004\n",
            "0.5\n",
            "0.22222222222222224\n",
            "0.4000000000000001\n",
            "0.28571428571428575\n",
            "0.33333333333333337\n",
            "0.28571428571428575\n",
            "0.22222222222222224\n",
            "0.20000000000000004\n",
            "0.20000000000000004\n",
            "0.33333333333333337\n",
            "0.25\n",
            "0.20000000000000004\n",
            "0.28571428571428575\n",
            "0.20000000000000004\n",
            "0.5\n",
            "0.33333333333333337\n",
            "0.25\n",
            "0.25\n",
            "0.20000000000000004\n",
            "0.5714285714285715\n",
            "0.4000000000000001\n",
            "0.5\n",
            "0.20000000000000004\n",
            "0.28571428571428575\n",
            "0.33333333333333337\n",
            "0.20000000000000004\n",
            "0.4000000000000001\n",
            "0.22222222222222224\n",
            "0.25\n",
            "0.33333333333333337\n",
            "0.28571428571428575\n",
            "0.28571428571428575\n",
            "0.25\n",
            "0.20000000000000004\n",
            "0.20000000000000004\n",
            "0.20000000000000004\n",
            "0.20000000000000004\n",
            "\n",
            "\n",
            "Evidence Retrieval F-score: 0.073\n",
            "\n",
            "\n"
          ]
        },
        {
          "output_type": "stream",
          "name": "stderr",
          "text": [
            "\r 88%|████████▊ | 216/246 [13:15<57:51, 115.73s/it]"
          ]
        },
        {
          "output_type": "stream",
          "name": "stdout",
          "text": [
            "\n",
            "\n",
            "best val loss - epoch: 4, epoch_step: 72\n",
            "maximum_f_score 0.07308286951144095 \n",
            "\n",
            "\n"
          ]
        },
        {
          "output_type": "stream",
          "name": "stderr",
          "text": [
            "100%|██████████| 246/246 [13:18<00:00,  3.25s/it]\n"
          ]
        },
        {
          "output_type": "stream",
          "name": "stdout",
          "text": [
            "\n",
            "\n",
            "epoch: 5, epoch_step: 82, avg loss: 4.179590\n",
            "learning rate: 0.000008\n",
            "\n",
            "\n"
          ]
        }
      ],
      "source": [
        "# start training\n",
        "import wandb\n",
        "import os\n",
        "\n",
        "wandb.init(project=\"nlp\", name=\"WZTestEvi\")\n",
        "\n",
        "from tqdm import tqdm\n",
        "\n",
        "encoder_optimizer.zero_grad()\n",
        "step_cnt, all_step_cnt, avg_loss, maximum_f_score = 0, 0, 0, 0\n",
        "n_epochs = 5\n",
        "for epoch in range(n_epochs):\n",
        "    epoch_step = 0\n",
        "\n",
        "    for (i, batch) in enumerate(tqdm(dataloader)):\n",
        "\n",
        "        query_embeddings = lstm_encoder(batch[\"queries\"].cuda(), batch[\"queries_pos\"].cuda())\n",
        "        evidence_embeddings = lstm_encoder(batch[\"evidences\"].cuda(), batch[\"evidences_pos\"].cuda())\n",
        "\n",
        "        query_embeddings = query_embeddings[:, -1, :]\n",
        "        evidence_embeddings = evidence_embeddings[:, -1, :]\n",
        "\n",
        "        assert query_embeddings.size(1) == evidence_embeddings.size(1), \"Embedding dimensions do not match!\"\n",
        "\n",
        "        query_embeddings = torch.nn.functional.normalize(query_embeddings, p=2, dim=1)\n",
        "        evidence_embeddings = torch.nn.functional.normalize(evidence_embeddings, p=2, dim=1)\n",
        "\n",
        "        cos_sims = torch.mm(query_embeddings, evidence_embeddings.t())\n",
        "        scores = cos_sims / 0.1\n",
        "        loss = []\n",
        "        start_idx = 0\n",
        "        criterion = torch.nn.CrossEntropyLoss()\n",
        "        for idx, labels in enumerate(batch[\"labels\"]):\n",
        "            labels = torch.LongTensor(labels).cuda()\n",
        "            cur_loss = criterion(scores[idx].unsqueeze(0).repeat(len(labels), 1), labels)\n",
        "        loss = loss + [cur_loss]\n",
        "        loss = torch.stack(loss).mean()\n",
        "\n",
        "        # cos_sims = torch.mm(query_embeddings, evidence_embeddings.t())\n",
        "        # scores = - torch.nn.functional.log_softmax(cos_sims / 0.1 + 1e-10, dim=1)\n",
        "        # loss = []\n",
        "        # start_idx = 0\n",
        "        # for idx, label in enumerate(batch[\"labels\"]):\n",
        "        #     label = torch.LongTensor(label).cuda()\n",
        "        #     cur_loss = torch.mean(torch.index_select(scores[idx], 0, label))\n",
        "        #     loss.append(cur_loss)\n",
        "        # loss = torch.stack(loss).mean()\n",
        "\n",
        "        loss = loss / accumulate_step\n",
        "        loss.backward()\n",
        "\n",
        "        avg_loss += loss.item()\n",
        "\n",
        "        step_cnt += 1\n",
        "        if step_cnt == accumulate_step:\n",
        "            # updating\n",
        "            if grad_norm > 0:\n",
        "                nn.utils.clip_grad_norm_(lstm_encoder.parameters(), grad_norm)\n",
        "\n",
        "            step_cnt = 0\n",
        "            epoch_step += 1\n",
        "            all_step_cnt += 1\n",
        "\n",
        "            # adjust learning rate\n",
        "            if all_step_cnt <= warmup_steps:\n",
        "                lr = all_step_cnt * (max_lr - 2e-8) / warmup_steps + 2e-8\n",
        "            else:\n",
        "                lr = max_lr - (all_step_cnt - warmup_steps) * 1e-5\n",
        "\n",
        "            encoder_optimizer.step()\n",
        "            encoder_optimizer.zero_grad()\n",
        "\n",
        "        if all_step_cnt % report_freq == 0 and step_cnt == 0:\n",
        "            if all_step_cnt <= warmup_steps:\n",
        "                lr = all_step_cnt * (max_lr - 2e-8) / warmup_steps + 2e-8\n",
        "            else:\n",
        "                lr = max_lr - (all_step_cnt - warmup_steps) * 1e-5\n",
        "\n",
        "            wandb.log({\"Learning_rate\": lr}, step=all_step_cnt)\n",
        "            wandb.log({\"Loss\": avg_loss / report_freq}, step=all_step_cnt)\n",
        "\n",
        "            # report stats\n",
        "            print(\"\\n\")\n",
        "            print(\"epoch: %d, epoch_step: %d, avg loss: %.6f\" % (epoch + 1, epoch_step, avg_loss / report_freq))\n",
        "            print(f\"learning rate: {lr:.6f}\")\n",
        "            print(\"\\n\")\n",
        "            avg_loss = 0\n",
        "        del loss, cos_sims, query_embeddings, evidence_embeddings\n",
        "\n",
        "        if all_step_cnt % eval_interval == 0 and all_step_cnt != 0 and step_cnt == 0:\n",
        "            # evaluate the model as a scorer\n",
        "            print(\"\\nEvaluate:\\n\")\n",
        "\n",
        "            f_score = validate(dev_input, evidences_input, dev_sort_evidences, dev_claim_evidences, lstm_encoder)\n",
        "            wandb.log({\"F_score\": f_score}, step=all_step_cnt)\n",
        "\n",
        "            if f_score > maximum_f_score:\n",
        "                maximum_f_score = f_score\n",
        "                os.makedirs(save_dir, exist_ok=True)\n",
        "                torch.save(lstm_encoder.state_dict(), os.path.join(os.path.abspath(save_dir), \"best_ckpt.bin\"))\n",
        "                print()\n",
        "                print()\n",
        "                print(\"best val loss - epoch: %d, epoch_step: %d\" % (epoch, epoch_step))\n",
        "                print(\"maximum_f_score\", f_score, \"\\n\\n\")"
      ]
    },
    {
      "cell_type": "code",
      "execution_count": 46,
      "metadata": {
        "id": "P4tH0OoAhYTM"
      },
      "outputs": [],
      "source": [
        "torch.cuda.empty_cache()"
      ]
    },
    {
      "cell_type": "markdown",
      "metadata": {
        "id": "EzGuzHPE87Ya"
      },
      "source": [
        "# 3.Testing and Evaluation\n",
        "(You can add as many code blocks and text blocks as you need. However, YOU SHOULD NOT MODIFY the section title)"
      ]
    },
    {
      "cell_type": "code",
      "execution_count": 47,
      "metadata": {
        "colab": {
          "base_uri": "https://localhost:8080/"
        },
        "id": "vS0YxgEuhYTN",
        "outputId": "6c797dca-421e-4986-bfdc-7caa525eafca"
      },
      "outputs": [
        {
          "output_type": "execute_result",
          "data": {
            "text/plain": [
              "Encoder(\n",
              "  (embedding): Embedding(90097, 512)\n",
              "  (pos_embedding): Embedding(180, 512)\n",
              "  (encoder): LSTM(512, 512, num_layers=6, batch_first=True, dropout=0.2, bidirectional=True)\n",
              "  (dropout): Dropout(p=0.2, inplace=False)\n",
              ")"
            ]
          },
          "metadata": {},
          "execution_count": 47
        }
      ],
      "source": [
        "lstm_encoder.load_state_dict(torch.load(os.path.join(save_dir, \"best_ckpt.bin\")))\n",
        "lstm_encoder.cuda().eval()"
      ]
    },
    {
      "cell_type": "code",
      "execution_count": 48,
      "metadata": {
        "id": "c0X6Q2aUhYTN"
      },
      "outputs": [],
      "source": [
        "evidence_embeddings = []\n",
        "start_idx = 0\n",
        "batch_size = 900\n",
        "evidence_len = len(evidences_input[0])\n",
        "\n",
        "while start_idx < len(evidences_input):\n",
        "    end_idx = min(start_idx + batch_size, len(evidences_input))\n",
        "\n",
        "    cur_evidence = torch.LongTensor(evidences_input[start_idx:end_idx]).view(-1, evidence_len).cuda()\n",
        "    cur_evidence_pos = torch.LongTensor([list(range(evidence_len)) for _ in range(end_idx - start_idx)]).cuda()\n",
        "    start_idx = end_idx\n",
        "\n",
        "    cur_embedding = lstm_encoder(cur_evidence, cur_evidence_pos)\n",
        "    cur_embedding = cur_embedding[:, -1, :].detach()\n",
        "    cur_embedding_cpu = F.normalize(cur_embedding, p=2, dim=1).cpu()  # for cosine similarity\n",
        "    evidence_embeddings = evidence_embeddings + [cur_embedding_cpu]\n",
        "\n",
        "    del cur_embedding, cur_evidence, cur_evidence_pos\n",
        "\n",
        "evidence_embeddings = torch.cat(evidence_embeddings, dim=0).t()\n"
      ]
    },
    {
      "cell_type": "code",
      "execution_count": 49,
      "metadata": {
        "id": "NGXYpUNvhYTN"
      },
      "outputs": [],
      "source": [
        "torch.cuda.empty_cache()"
      ]
    },
    {
      "cell_type": "code",
      "execution_count": 50,
      "metadata": {
        "id": "XUHbeVmXhYTN"
      },
      "outputs": [],
      "source": [
        "def validate_(dev_text_idx, evidence_embeddings, dev_sort_evidences, dev_claim_evidences, encoder_model):\n",
        "    # get evidence embeddings\n",
        "    encoder_model.eval()\n",
        "\n",
        "    text_len = len(dev_text_idx[0])\n",
        "    f = []\n",
        "\n",
        "    start_idx = 0\n",
        "\n",
        "    while start_idx < len(dev_text_idx):\n",
        "        end_idx = min(start_idx + 200, len(dev_text_idx))\n",
        "\n",
        "        cur_query = torch.LongTensor(dev_text_idx[start_idx:end_idx]).view(-1, text_len).cuda()\n",
        "        cur_query_pos = torch.LongTensor([list(range(text_len)) for _ in range(end_idx - start_idx)]).cuda()\n",
        "\n",
        "        query_embedding = encoder_model(cur_query, cur_query_pos)\n",
        "        query_embedding = query_embedding[:, -1, :].detach()\n",
        "        query_embedding = F.normalize(query_embedding, p=2, dim=1).cpu()\n",
        "\n",
        "        scores = torch.mm(query_embedding, evidence_embeddings)\n",
        "\n",
        "        for i in range(scores.size(0)):\n",
        "            new_score = torch.index_select(scores[i], 0, torch.LongTensor(dev_sort_evidences[start_idx+i][:dev_candis_num]))\n",
        "            topk_ids = torch.argsort(new_score).tolist()\n",
        "            select_ids = topk_ids[:retrieval_num]\n",
        "\n",
        "            evidence_correct = 0\n",
        "            pred_evidences = [dev_sort_evidences[start_idx+i][j] for j in select_ids]\n",
        "\n",
        "            label = dev_claim_evidences[start_idx+i]\n",
        "\n",
        "            for evidence_id in label:\n",
        "                if evidence_id in pred_evidences:\n",
        "                    evidence_correct += 1\n",
        "            evidence_fscore = cal_fscore(evidence_correct, label, pred_evidences)\n",
        "            f.append(evidence_fscore)\n",
        "\n",
        "        start_idx = end_idx\n",
        "\n",
        "    fscore = np.mean(f)\n",
        "    print(\"\\n\\nEvidence Retrieval F-score: %.3f\\n\\n\" % fscore)\n",
        "    return fscore"
      ]
    },
    {
      "cell_type": "code",
      "execution_count": 51,
      "metadata": {
        "colab": {
          "base_uri": "https://localhost:8080/"
        },
        "id": "Em1EG8V_hYTO",
        "outputId": "ca124e1a-1518-4cbe-f1fb-7c1cc8b3ce2d",
        "scrolled": true
      },
      "outputs": [
        {
          "output_type": "stream",
          "name": "stdout",
          "text": [
            "0.28571428571428575\n",
            "0.20000000000000004\n",
            "0.5\n",
            "0.4000000000000001\n",
            "0.20000000000000004\n",
            "0.28571428571428575\n",
            "0.4000000000000001\n",
            "0.28571428571428575\n",
            "0.4444444444444445\n",
            "0.20000000000000004\n",
            "0.28571428571428575\n",
            "0.20000000000000004\n",
            "0.20000000000000004\n",
            "0.25\n",
            "0.33333333333333337\n",
            "0.25\n",
            "0.5\n",
            "0.28571428571428575\n",
            "0.33333333333333337\n",
            "0.4000000000000001\n",
            "0.5\n",
            "0.25\n",
            "0.20000000000000004\n",
            "0.22222222222222224\n",
            "0.20000000000000004\n",
            "0.4000000000000001\n",
            "0.22222222222222224\n",
            "0.28571428571428575\n",
            "0.25\n",
            "0.20000000000000004\n",
            "0.20000000000000004\n",
            "0.6\n",
            "0.28571428571428575\n",
            "0.20000000000000004\n",
            "\n",
            "\n",
            "Evidence Retrieval F-score: 0.067\n",
            "\n",
            "\n",
            "0.0665945165945166\n"
          ]
        }
      ],
      "source": [
        "fscore = validate_(dev_input, evidence_embeddings, dev_sort_evidences, dev_claim_evidences, lstm_encoder)\n",
        "print(fscore)"
      ]
    },
    {
      "cell_type": "code",
      "execution_count": 52,
      "metadata": {
        "id": "6ZVeNYIH9IaL"
      },
      "outputs": [],
      "source": [
        "def evidence_predicts(dev_text_idx, evidences_embeddings, dev_sort_evidences, cleaned_evidence_id, encoder_model):\n",
        "    # get evidence embeddings\n",
        "    text_len = len(dev_text_idx[0])\n",
        "    encoder_model.eval()\n",
        "\n",
        "    start_idx = 0\n",
        "    preds = []\n",
        "    while start_idx < len(dev_text_idx):\n",
        "        end_idx = min(start_idx + 200, len(dev_text_idx))\n",
        "\n",
        "        cur_query = torch.LongTensor(dev_text_idx[start_idx:end_idx]).view(-1, text_len).cuda()\n",
        "        cur_query_pos = torch.LongTensor([list(range(text_len)) for _ in range(end_idx - start_idx)]).cuda()\n",
        "\n",
        "        query_embedding = encoder_model(cur_query, cur_query_pos)\n",
        "        query_embedding = query_embedding[:, -1, :].detach()\n",
        "        query_embedding = F.normalize(query_embedding, p=2, dim=1).cpu()\n",
        "\n",
        "        scores = torch.mm(query_embedding, evidences_embeddings)\n",
        "\n",
        "        for i in range(scores.size(0)):\n",
        "            new_score = torch.index_select(scores[i], 0, torch.LongTensor(dev_sort_evidences[start_idx+i][:dev_candis_num]))\n",
        "            topk_ids = torch.argsort(new_score).tolist()\n",
        "\n",
        "            pred_evidences = [cleaned_evidence_id[dev_sort_evidences[start_idx+i][j]] for j in topk_ids[:retrieval_num]]\n",
        "            preds.append(pred_evidences)\n",
        "\n",
        "        start_idx = end_idx\n",
        "    return preds"
      ]
    },
    {
      "cell_type": "code",
      "execution_count": 53,
      "metadata": {
        "id": "4ImDGI4uhYTO"
      },
      "outputs": [],
      "source": [
        "pred_dev_claims = dict()\n",
        "pred_test_claims = dict()\n",
        "dev_evidences_ids = evidence_predicts(dev_input, evidence_embeddings, dev_sort_evidences, cleaned_evidence_id, lstm_encoder)\n",
        "test_evidences_ids = evidence_predicts(test_input, evidence_embeddings, test_sort_evidences, cleaned_evidence_id, lstm_encoder)\n",
        "with open(\"data/dev-claims.json\", \"r\") as f:\n",
        "    dev_claims = json.load(f)\n",
        "with open(\"data/test-claims-unlabelled.json\", \"r\") as f:\n",
        "    test_claims = json.load(f)\n",
        "\n",
        "for idx, evidence_ids in enumerate(dev_evidences_ids):\n",
        "    pred_dev_claims[dev_claim_id[idx]] = dev_claims[dev_claim_id[idx]]\n",
        "    pred_dev_claims[dev_claim_id[idx]]['evidences'] = evidence_ids\n",
        "\n",
        "\n",
        "for idx, evidence_ids in enumerate(test_evidences_ids):\n",
        "    pred_test_claims[test_claim_id[idx]] = test_claims[test_claim_id[idx]]\n",
        "    pred_test_claims[test_claim_id[idx]]['evidences'] = evidence_ids\n"
      ]
    },
    {
      "cell_type": "code",
      "execution_count": 54,
      "metadata": {
        "id": "uj99wgishYTO"
      },
      "outputs": [],
      "source": [
        "with open(\"data/dev_predict.json\", \"w\") as f:\n",
        "    json.dump(pred_dev_claims, f)\n",
        "with open(\"data/test-claims-unlabelled.json\", \"w\") as f:\n",
        "    json.dump(pred_test_claims, f)"
      ]
    },
    {
      "cell_type": "code",
      "execution_count": 55,
      "metadata": {
        "id": "J-5D7YzWhYTP"
      },
      "outputs": [],
      "source": [
        "train_evidences_ids = evidence_predicts(train_input, evidence_embeddings, train_sort_evidences, cleaned_evidence_id, lstm_encoder)\n",
        "\n",
        "pred_train_negative_evidences = []\n",
        "for idx, evidence_ids in enumerate(train_evidences_ids):\n",
        "    temp_ = []\n",
        "    for i in evidence_ids:\n",
        "        if evidences_id_dict[i] not in train_claim_evidences[idx]:\n",
        "            temp_ = temp_ + [evidences_id_dict[i]]\n",
        "    pred_train_negative_evidences.append(temp_)"
      ]
    },
    {
      "cell_type": "code",
      "execution_count": 56,
      "metadata": {
        "id": "KRr92z0rhYTP"
      },
      "outputs": [],
      "source": [
        "## save prediction data\n",
        "with open(\"pred_train_negative_evidences.json\", \"w\") as f:\n",
        "    json.dump(pred_train_negative_evidences, f)"
      ]
    },
    {
      "cell_type": "code",
      "execution_count": 57,
      "metadata": {
        "id": "xyRBKPHMhYTP"
      },
      "outputs": [],
      "source": [
        "## save cls data\n",
        "\n",
        "dev_cls_data = []\n",
        "test_cls_data = []\n",
        "all_max_len = 580\n",
        "\n",
        "for idx, dev_text in enumerate(dev_text_idx):\n",
        "    cur_data = {\"label\": dev_claim_label[idx]}\n",
        "    temp_text = [wordidx[\"<cls>\"]] + dev_text_idx[idx][:60]\n",
        "    for i in dev_evidences_ids[idx]:\n",
        "        temp_text = temp_text + [wordidx[\"<sep>\"]] + evidences_text_idx[evidences_id_dict[i]][:100]\n",
        "    temp_text.append(wordidx[\"<sep>\"])\n",
        "    if len(temp_text) < all_max_len:\n",
        "        temp_text = temp_text + [wordidx[\"<pad>\"]] * (all_max_len - len(temp_text))\n",
        "    cur_data['text'] = temp_text\n",
        "    dev_cls_data.append(cur_data)\n",
        "\n",
        "for idx, dev_text in enumerate(test_text_idx):\n",
        "    cur_data = {}\n",
        "    temp_text = [wordidx[\"<cls>\"]] + test_text_idx[idx][:60]\n",
        "    for i in test_evidences_ids[idx]:\n",
        "        temp_text = temp_text + [wordidx[\"<sep>\"]] + evidences_text_idx[evidences_id_dict[i]][:100]\n",
        "    temp_text.append(wordidx[\"<sep>\"])\n",
        "    if len(temp_text) < all_max_len:\n",
        "        temp_text = temp_text + [wordidx[\"<pad>\"]] * (all_max_len - len(temp_text))\n",
        "    cur_data['text'] = temp_text\n",
        "    test_cls_data.append(cur_data)\n",
        "with open(\"dev_cls_data.json\", \"w\") as f:\n",
        "    json.dump(dev_cls_data, f)\n",
        "with open(\"test_cls_data.json\", \"w\") as f:\n",
        "    json.dump(test_cls_data, f)"
      ]
    },
    {
      "cell_type": "markdown",
      "metadata": {
        "id": "M5o1MDvvhYTP"
      },
      "source": [
        "Task2"
      ]
    },
    {
      "cell_type": "markdown",
      "metadata": {
        "id": "z7rcckpOhYTP"
      },
      "source": [
        "Preprocessing"
      ]
    },
    {
      "cell_type": "code",
      "execution_count": 58,
      "metadata": {
        "id": "TYmE_e2dhYTQ"
      },
      "outputs": [],
      "source": [
        "import json\n",
        "\n",
        "with open(\"dev_cls_data.json\", \"r\") as f:\n",
        "    dev_cls_data = json.load(f)\n",
        "with open(\"test_cls_data.json\", \"r\") as f:\n",
        "    test_cls_data = json.load(f)\n",
        "with open(\"pred_train_negative_evidences.json\", \"r\") as f:\n",
        "    train_negative_evidences = json.load(f)\n",
        "\n",
        "id2labels = [\"SUPPORTS\", \"NOT_ENOUGH_INFO\", \"REFUTES\", \"DISPUTED\"]\n",
        "labels2id = {\"SUPPORTS\": 0, \"NOT_ENOUGH_INFO\": 1, \"REFUTES\": 2, \"DISPUTED\": 3}"
      ]
    },
    {
      "cell_type": "code",
      "execution_count": 59,
      "metadata": {
        "id": "Qn6cP3kKhYTQ"
      },
      "outputs": [],
      "source": [
        "text_max_len = 60\n",
        "evidence_max_len = 100\n",
        "all_max_len = 580\n",
        "retrieval_num = 5\n",
        "\n",
        "class TrainDataset(Dataset):\n",
        "    def __init__(self, text_data, evidence_data, positive_evidences, negative_evidences, cls_label, cls_idx, sep_idx, pad_idx, evidence_num=5):\n",
        "        self.text_data = text_data\n",
        "        self.evidence_data = evidence_data\n",
        "        self.negative_evidences = negative_evidences\n",
        "        self.evidence_num = evidence_num\n",
        "        self.positive_evidences = positive_evidences\n",
        "        self.cls_idx = cls_idx\n",
        "        self.sep_idx = sep_idx\n",
        "        self.pad_idx = pad_idx\n",
        "\n",
        "        self.cls_label = [labels2id[i] for i in cls_label]\n",
        "\n",
        "    def __len__(self):\n",
        "        return len(self.text_data)\n",
        "\n",
        "    def __getitem__(self, idx):\n",
        "        positive_evidences = self.positive_evidences[idx]\n",
        "        negative_evidences = self.negative_evidences[idx]\n",
        "        cls_label = self.cls_label[idx]\n",
        "        return [self.text_data[idx][:text_max_len], positive_evidences, negative_evidences, self.cls_label[idx]]\n",
        "\n",
        "    def collate_fn(self, batch):\n",
        "        queries, queries_pos, labels = [], [], []\n",
        "\n",
        "        for i, j, h, k in batch:\n",
        "            l = len(j)\n",
        "            temp_text = [self.cls_idx]\n",
        "            temp_text = temp_text + i\n",
        "            for p in j:\n",
        "                temp_text = temp_text + [self.sep_idx]\n",
        "                temp_text = temp_text + self.evidence_data[p][:evidence_max_len]\n",
        "            if self.evidence_num > l:\n",
        "                n = random.sample(h, self.evidence_num - l)\n",
        "                for p in n:\n",
        "                    temp_text = temp_text + [self.sep_idx]\n",
        "                    temp_text = temp_text + self.evidence_data[p][:evidence_max_len]\n",
        "            temp_text = temp_text + [self.sep_idx]\n",
        "            if len(temp_text) < all_max_len:\n",
        "                temp_text = temp_text + [self.pad_idx] * (all_max_len - len(temp_text))\n",
        "\n",
        "            queries = queries + [temp_text]\n",
        "            queries_pos = queries_pos + [list(range(all_max_len))]\n",
        "            labels = labels + [k]\n",
        "\n",
        "        batch_encoding = {\"queries\": torch.LongTensor(queries),\n",
        "                          \"queries_pos\": torch.LongTensor(queries_pos),\n",
        "                          \"labels\": torch.LongTensor(labels)}\n",
        "\n",
        "        return batch_encoding"
      ]
    },
    {
      "cell_type": "code",
      "execution_count": 60,
      "metadata": {
        "id": "MVTOzk2vhYTQ"
      },
      "outputs": [],
      "source": [
        "labels = [i[\"label\"] for i in dev_cls_data]\n",
        "dev_outputs = [labels2id[i] for i in labels]\n",
        "dev_inputs = [i['text'] for i in dev_cls_data]\n",
        "test_inputs = [i['text'] for i in test_cls_data]"
      ]
    },
    {
      "cell_type": "code",
      "execution_count": 61,
      "metadata": {
        "id": "iEuf_jRwhYTQ"
      },
      "outputs": [],
      "source": [
        "train_set = TrainDataset(train_text_idx, evidences_text_idx, train_claim_evidences, train_negative_evidences, train_claim_label, wordidx[\"<cls>\"], wordidx[\"<sep>\"], wordidx[\"<pad>\"], evidence_num=retrieval_num)\n",
        "dataloader = DataLoader(train_set, batch_size=10, shuffle=True, num_workers=0, collate_fn=train_set.collate_fn)"
      ]
    },
    {
      "cell_type": "code",
      "execution_count": 62,
      "metadata": {
        "colab": {
          "base_uri": "https://localhost:8080/"
        },
        "id": "g7IVqXY7hYTQ",
        "outputId": "c4cd6e82-bc05-4de6-a1ef-b11e2aa9e50f"
      },
      "outputs": [
        {
          "output_type": "stream",
          "name": "stdout",
          "text": [
            "Counter({'SUPPORTS': 519, 'NOT_ENOUGH_INFO': 386, 'REFUTES': 199, 'DISPUTED': 124})\n"
          ]
        }
      ],
      "source": [
        "print(Counter(train_claim_label))"
      ]
    },
    {
      "cell_type": "code",
      "execution_count": 63,
      "metadata": {
        "id": "CpiHMK58hYTQ"
      },
      "outputs": [],
      "source": [
        "class CLS(nn.Module):\n",
        "    def __init__(self, vocab_emb, embed_dim, hidden_size, output_size, num_layers, max_position=all_max_len):\n",
        "        super(CLS, self).__init__()\n",
        "\n",
        "        self.embedding = nn.Embedding(vocab_emb, embed_dim)\n",
        "        self.pos_embedding = nn.Embedding(max_position, embed_dim)\n",
        "\n",
        "        self.encoder = nn.LSTM(embed_dim, hidden_size, num_layers=num_layers, batch_first=True, bidirectional=True)\n",
        "        self.hidden_layer = nn.Linear(hidden_size * 2, hidden_size)\n",
        "        self.cls = nn.Linear(hidden_size, output_size)\n",
        "        self.dropout = nn.Dropout(0.1)\n",
        "        self.hidden_size = hidden_size\n",
        "\n",
        "    def forward(self, text_data, position_text):\n",
        "        text_x = self.embedding(text_data) + self.pos_embedding(position_text) * 0.01\n",
        "        x_encoded,_ = self.encoder(text_x)\n",
        "        x_cls = x_encoded[:, 0, :]\n",
        "        x_hidden = F.tanh(self.hidden_layer(x_cls))\n",
        "        x_hidden = self.dropout(x_hidden)\n",
        "        cls_res = self.cls(x_hidden)\n",
        "        return cls_res\n"
      ]
    },
    {
      "cell_type": "code",
      "execution_count": 64,
      "metadata": {
        "id": "wYgQRFQnhYTR"
      },
      "outputs": [],
      "source": [
        "cls_model = CLS(vocab_emb=len(idxword), embed_dim=256, hidden_size=256, output_size=4, num_layers=7, max_position=700).cuda()"
      ]
    },
    {
      "cell_type": "code",
      "execution_count": 65,
      "metadata": {
        "id": "w7Q9satehYTR"
      },
      "outputs": [],
      "source": [
        "encoder_optimizer = optim.AdamW(cls_model.parameters())\n",
        "max_lr = 1e-2\n",
        "for param_group in encoder_optimizer.param_groups:\n",
        "    param_group['lr'] = max_lr\n",
        "warmup_steps = 300"
      ]
    },
    {
      "cell_type": "code",
      "execution_count": 66,
      "metadata": {
        "id": "trwLJX8QhYTR"
      },
      "outputs": [],
      "source": [
        "def validate(dev_input, dev_output, cls_model_):\n",
        "    # get evidence embeddings\n",
        "    start_idx = 0\n",
        "    cls_model.eval()\n",
        "    l = len(dev_output)\n",
        "    acc = []\n",
        "    correct_count = 0\n",
        "    while start_idx < l:\n",
        "        end_idx = min(start_idx + 50, l)\n",
        "\n",
        "        cur_input = torch.LongTensor(dev_input[start_idx:end_idx]).view(-1, len(dev_input[0])).cuda()\n",
        "        cur_pos = torch.LongTensor([list(range(len(dev_input[0]))) for _ in range(end_idx - start_idx)]).cuda()\n",
        "\n",
        "        cur_res = cls_model_(cur_input, cur_pos)\n",
        "        cur_res = torch.argmax(cur_res, 1)\n",
        "        cur_res = cur_res.tolist()\n",
        "\n",
        "        for i, j in zip(cur_res, dev_output[start_idx: end_idx]):\n",
        "            if i == j:\n",
        "                correct_count += 1\n",
        "\n",
        "        del cur_input, cur_pos\n",
        "        start_idx = end_idx\n",
        "    acc = correct_count / l\n",
        "    print(\"\\n\\nClassification Accuracy: %.3f\\n\\n\" % acc)\n",
        "    cls_model.train()\n",
        "    return acc"
      ]
    },
    {
      "cell_type": "code",
      "execution_count": 67,
      "metadata": {
        "colab": {
          "base_uri": "https://localhost:8080/"
        },
        "id": "JWzEnqABhYTR",
        "outputId": "344848cd-478e-406f-b82e-d4121c6918f5"
      },
      "outputs": [
        {
          "output_type": "stream",
          "name": "stdout",
          "text": [
            "env: WANDB_NOTEBOOK_NAME=Mon5PMGroup7_COMP90042_Project_2024_Test.ipynb\n"
          ]
        }
      ],
      "source": [
        "%env WANDB_NOTEBOOK_NAME Mon5PMGroup7_COMP90042_Project_2024_Test.ipynb"
      ]
    },
    {
      "cell_type": "code",
      "execution_count": 68,
      "metadata": {
        "colab": {
          "base_uri": "https://localhost:8080/",
          "height": 1000,
          "referenced_widgets": [
            "10486014f3fe4ce2b347b4e93e0cbdc4",
            "586bf91d1c664e6eac2a46a96fe6f6e3",
            "7281ef47c6e647a9a79209d99c01f9ee",
            "4e7b0d9ba1e6442f94ffee29c1b09e77",
            "314850731523486fb1cdbd963ce14d75",
            "61854082f6b5448faffaa6b0241d968f",
            "e2fa9194d56044248c1dd08ff2da1295",
            "1cb39013a5a446d98dccd3f33b8e0ddb"
          ]
        },
        "id": "EiNR7wR7hYTS",
        "outputId": "22a98c9e-0174-4c0b-b340-22b0c5b4d157"
      },
      "outputs": [
        {
          "output_type": "display_data",
          "data": {
            "text/plain": [
              "<IPython.core.display.HTML object>"
            ],
            "text/html": [
              "Finishing last run (ID:rvhwtzal) before initializing another..."
            ]
          },
          "metadata": {}
        },
        {
          "output_type": "display_data",
          "data": {
            "text/plain": [
              "VBox(children=(Label(value='0.002 MB of 0.002 MB uploaded\\r'), FloatProgress(value=1.0, max=1.0)))"
            ],
            "application/vnd.jupyter.widget-view+json": {
              "version_major": 2,
              "version_minor": 0,
              "model_id": "10486014f3fe4ce2b347b4e93e0cbdc4"
            }
          },
          "metadata": {}
        },
        {
          "output_type": "display_data",
          "data": {
            "text/plain": [
              "<IPython.core.display.HTML object>"
            ],
            "text/html": [
              "<style>\n",
              "    table.wandb td:nth-child(1) { padding: 0 10px; text-align: left ; width: auto;} td:nth-child(2) {text-align: left ; width: 100%}\n",
              "    .wandb-row { display: flex; flex-direction: row; flex-wrap: wrap; justify-content: flex-start; width: 100% }\n",
              "    .wandb-col { display: flex; flex-direction: column; flex-basis: 100%; flex: 1; padding: 10px; }\n",
              "    </style>\n",
              "<div class=\"wandb-row\"><div class=\"wandb-col\"><h3>Run history:</h3><br/><table class=\"wandb\"><tr><td>f_score</td><td>▃▆▆▁█▇▁█</td></tr><tr><td>learning_rate</td><td>▁▁▁▂▂▂▂▂▂▃▃▃▃▃▃▄▄▄▄▄▄▅▅▅▅▅▆▆▆▆▆▆▇▇▇▇▇▇██</td></tr><tr><td>loss</td><td>▃▆▅▅▇▂▇▇▅▇▅▃▆▄▃▇▄▅▇█▅▄▇▅▂▅▆▄█▆▄▆▁▄▅▇▆▇▅▃</td></tr></table><br/></div><div class=\"wandb-col\"><h3>Run summary:</h3><br/><table class=\"wandb\"><tr><td>f_score</td><td>0.07308</td></tr><tr><td>learning_rate</td><td>1e-05</td></tr><tr><td>loss</td><td>4.17959</td></tr></table><br/></div></div>"
            ]
          },
          "metadata": {}
        },
        {
          "output_type": "display_data",
          "data": {
            "text/plain": [
              "<IPython.core.display.HTML object>"
            ],
            "text/html": [
              " View run <strong style=\"color:#cdcd00\">WZTestEvi</strong> at: <a href='https://wandb.ai/damonz-deeplearning/nlp/runs/rvhwtzal' target=\"_blank\">https://wandb.ai/damonz-deeplearning/nlp/runs/rvhwtzal</a><br/> View project at: <a href='https://wandb.ai/damonz-deeplearning/nlp' target=\"_blank\">https://wandb.ai/damonz-deeplearning/nlp</a><br/>Synced 5 W&B file(s), 0 media file(s), 0 artifact file(s) and 0 other file(s)"
            ]
          },
          "metadata": {}
        },
        {
          "output_type": "display_data",
          "data": {
            "text/plain": [
              "<IPython.core.display.HTML object>"
            ],
            "text/html": [
              "Find logs at: <code>./wandb/run-20240525_123646-rvhwtzal/logs</code>"
            ]
          },
          "metadata": {}
        },
        {
          "output_type": "display_data",
          "data": {
            "text/plain": [
              "<IPython.core.display.HTML object>"
            ],
            "text/html": [
              "Successfully finished last run (ID:rvhwtzal). Initializing new run:<br/>"
            ]
          },
          "metadata": {}
        },
        {
          "output_type": "display_data",
          "data": {
            "text/plain": [
              "<IPython.core.display.HTML object>"
            ],
            "text/html": [
              "Tracking run with wandb version 0.17.0"
            ]
          },
          "metadata": {}
        },
        {
          "output_type": "display_data",
          "data": {
            "text/plain": [
              "<IPython.core.display.HTML object>"
            ],
            "text/html": [
              "Run data is saved locally in <code>/content/wandb/run-20240525_133713-1xu0nc5l</code>"
            ]
          },
          "metadata": {}
        },
        {
          "output_type": "display_data",
          "data": {
            "text/plain": [
              "<IPython.core.display.HTML object>"
            ],
            "text/html": [
              "Syncing run <strong><a href='https://wandb.ai/damonz-deeplearning/nlp/runs/1xu0nc5l' target=\"_blank\">WZTestCLS</a></strong> to <a href='https://wandb.ai/damonz-deeplearning/nlp' target=\"_blank\">Weights & Biases</a> (<a href='https://wandb.me/run' target=\"_blank\">docs</a>)<br/>"
            ]
          },
          "metadata": {}
        },
        {
          "output_type": "display_data",
          "data": {
            "text/plain": [
              "<IPython.core.display.HTML object>"
            ],
            "text/html": [
              " View project at <a href='https://wandb.ai/damonz-deeplearning/nlp' target=\"_blank\">https://wandb.ai/damonz-deeplearning/nlp</a>"
            ]
          },
          "metadata": {}
        },
        {
          "output_type": "display_data",
          "data": {
            "text/plain": [
              "<IPython.core.display.HTML object>"
            ],
            "text/html": [
              " View run at <a href='https://wandb.ai/damonz-deeplearning/nlp/runs/1xu0nc5l' target=\"_blank\">https://wandb.ai/damonz-deeplearning/nlp/runs/1xu0nc5l</a>"
            ]
          },
          "metadata": {}
        },
        {
          "output_type": "stream",
          "name": "stderr",
          "text": [
            " 16%|█▋        | 20/123 [00:04<00:22,  4.59it/s]"
          ]
        },
        {
          "output_type": "stream",
          "name": "stdout",
          "text": [
            "\n",
            "\n",
            "Epoch: 1, Epoch_step: 10, Avg loss: 2.284140\n",
            "Learning rate: 0.000333\n",
            "\n",
            "\n"
          ]
        },
        {
          "output_type": "stream",
          "name": "stderr",
          "text": [
            " 33%|███▎      | 40/123 [00:08<00:18,  4.61it/s]"
          ]
        },
        {
          "output_type": "stream",
          "name": "stdout",
          "text": [
            "\n",
            "\n",
            "Epoch: 1, Epoch_step: 20, Avg loss: 1.526402\n",
            "Learning rate: 0.000667\n",
            "\n",
            "\n"
          ]
        },
        {
          "output_type": "stream",
          "name": "stderr",
          "text": [
            " 49%|████▉     | 60/123 [00:13<00:13,  4.59it/s]"
          ]
        },
        {
          "output_type": "stream",
          "name": "stdout",
          "text": [
            "\n",
            "\n",
            "Epoch: 1, Epoch_step: 30, Avg loss: 1.557914\n",
            "Learning rate: 0.001000\n",
            "\n",
            "\n"
          ]
        },
        {
          "output_type": "stream",
          "name": "stderr",
          "text": [
            " 65%|██████▌   | 80/123 [00:17<00:09,  4.64it/s]"
          ]
        },
        {
          "output_type": "stream",
          "name": "stdout",
          "text": [
            "\n",
            "\n",
            "Epoch: 1, Epoch_step: 40, Avg loss: 1.674818\n",
            "Learning rate: 0.001333\n",
            "\n",
            "\n"
          ]
        },
        {
          "output_type": "stream",
          "name": "stderr",
          "text": [
            " 80%|████████  | 99/123 [00:21<00:05,  4.66it/s]"
          ]
        },
        {
          "output_type": "stream",
          "name": "stdout",
          "text": [
            "\n",
            "\n",
            "Epoch: 1, Epoch_step: 50, Avg loss: 1.646501\n",
            "Learning rate: 0.001667\n",
            "\n",
            "\n",
            "\n",
            "Evaluate:\n",
            "\n"
          ]
        },
        {
          "output_type": "stream",
          "name": "stderr",
          "text": [
            "\r 81%|████████▏ | 100/123 [00:22<00:08,  2.59it/s]"
          ]
        },
        {
          "output_type": "stream",
          "name": "stdout",
          "text": [
            "\n",
            "\n",
            "Classification Accuracy: 0.442\n",
            "\n",
            "\n",
            "\n",
            "\n",
            "Best val loss - epoch: 0, Epoch_step: 50\n",
            "Maximum_f_score 0.44155844155844154 \n",
            "\n",
            "\n"
          ]
        },
        {
          "output_type": "stream",
          "name": "stderr",
          "text": [
            " 98%|█████████▊| 120/123 [00:26<00:00,  4.45it/s]"
          ]
        },
        {
          "output_type": "stream",
          "name": "stdout",
          "text": [
            "\n",
            "\n",
            "Epoch: 1, Epoch_step: 60, Avg loss: 1.579471\n",
            "Learning rate: 0.002000\n",
            "\n",
            "\n"
          ]
        },
        {
          "output_type": "stream",
          "name": "stderr",
          "text": [
            "100%|██████████| 123/123 [00:27<00:00,  4.51it/s]\n",
            " 14%|█▍        | 17/123 [00:03<00:22,  4.61it/s]"
          ]
        },
        {
          "output_type": "stream",
          "name": "stdout",
          "text": [
            "\n",
            "\n",
            "Epoch: 2, Epoch_step: 9, Avg loss: 1.583868\n",
            "Learning rate: 0.002333\n",
            "\n",
            "\n"
          ]
        },
        {
          "output_type": "stream",
          "name": "stderr",
          "text": [
            " 30%|███       | 37/123 [00:08<00:18,  4.57it/s]"
          ]
        },
        {
          "output_type": "stream",
          "name": "stdout",
          "text": [
            "\n",
            "\n",
            "Epoch: 2, Epoch_step: 19, Avg loss: 1.878935\n",
            "Learning rate: 0.002667\n",
            "\n",
            "\n"
          ]
        },
        {
          "output_type": "stream",
          "name": "stderr",
          "text": [
            " 46%|████▋     | 57/123 [00:12<00:14,  4.63it/s]"
          ]
        },
        {
          "output_type": "stream",
          "name": "stdout",
          "text": [
            "\n",
            "\n",
            "Epoch: 2, Epoch_step: 29, Avg loss: 1.700298\n",
            "Learning rate: 0.003000\n",
            "\n",
            "\n"
          ]
        },
        {
          "output_type": "stream",
          "name": "stderr",
          "text": [
            " 62%|██████▏   | 76/123 [00:16<00:10,  4.68it/s]"
          ]
        },
        {
          "output_type": "stream",
          "name": "stdout",
          "text": [
            "\n",
            "\n",
            "Epoch: 2, Epoch_step: 39, Avg loss: 1.649832\n",
            "Learning rate: 0.003333\n",
            "\n",
            "\n",
            "\n",
            "Evaluate:\n",
            "\n"
          ]
        },
        {
          "output_type": "stream",
          "name": "stderr",
          "text": [
            "\r 63%|██████▎   | 77/123 [00:16<00:15,  3.05it/s]"
          ]
        },
        {
          "output_type": "stream",
          "name": "stdout",
          "text": [
            "\n",
            "\n",
            "Classification Accuracy: 0.266\n",
            "\n",
            "\n"
          ]
        },
        {
          "output_type": "stream",
          "name": "stderr",
          "text": [
            " 79%|███████▉  | 97/123 [00:21<00:05,  4.63it/s]"
          ]
        },
        {
          "output_type": "stream",
          "name": "stdout",
          "text": [
            "\n",
            "\n",
            "Epoch: 2, Epoch_step: 49, Avg loss: 1.981069\n",
            "Learning rate: 0.003667\n",
            "\n",
            "\n"
          ]
        },
        {
          "output_type": "stream",
          "name": "stderr",
          "text": [
            " 95%|█████████▌| 117/123 [00:25<00:01,  4.61it/s]"
          ]
        },
        {
          "output_type": "stream",
          "name": "stdout",
          "text": [
            "\n",
            "\n",
            "Epoch: 2, Epoch_step: 59, Avg loss: 1.737115\n",
            "Learning rate: 0.004000\n",
            "\n",
            "\n"
          ]
        },
        {
          "output_type": "stream",
          "name": "stderr",
          "text": [
            "100%|██████████| 123/123 [00:26<00:00,  4.57it/s]\n",
            " 11%|█▏        | 14/123 [00:03<00:23,  4.60it/s]"
          ]
        },
        {
          "output_type": "stream",
          "name": "stdout",
          "text": [
            "\n",
            "\n",
            "Epoch: 3, Epoch_step: 7, Avg loss: 1.705600\n",
            "Learning rate: 0.004333\n",
            "\n",
            "\n"
          ]
        },
        {
          "output_type": "stream",
          "name": "stderr",
          "text": [
            " 28%|██▊       | 34/123 [00:07<00:19,  4.61it/s]"
          ]
        },
        {
          "output_type": "stream",
          "name": "stdout",
          "text": [
            "\n",
            "\n",
            "Epoch: 3, Epoch_step: 17, Avg loss: 1.590504\n",
            "Learning rate: 0.004667\n",
            "\n",
            "\n"
          ]
        },
        {
          "output_type": "stream",
          "name": "stderr",
          "text": [
            " 43%|████▎     | 53/123 [00:11<00:15,  4.64it/s]"
          ]
        },
        {
          "output_type": "stream",
          "name": "stdout",
          "text": [
            "\n",
            "\n",
            "Epoch: 3, Epoch_step: 27, Avg loss: 1.614441\n",
            "Learning rate: 0.005000\n",
            "\n",
            "\n",
            "\n",
            "Evaluate:\n",
            "\n"
          ]
        },
        {
          "output_type": "stream",
          "name": "stderr",
          "text": [
            "\r 44%|████▍     | 54/123 [00:12<00:22,  3.07it/s]"
          ]
        },
        {
          "output_type": "stream",
          "name": "stdout",
          "text": [
            "\n",
            "\n",
            "Classification Accuracy: 0.117\n",
            "\n",
            "\n"
          ]
        },
        {
          "output_type": "stream",
          "name": "stderr",
          "text": [
            " 60%|██████    | 74/123 [00:16<00:10,  4.67it/s]"
          ]
        },
        {
          "output_type": "stream",
          "name": "stdout",
          "text": [
            "\n",
            "\n",
            "Epoch: 3, Epoch_step: 37, Avg loss: 1.581992\n",
            "Learning rate: 0.005333\n",
            "\n",
            "\n"
          ]
        },
        {
          "output_type": "stream",
          "name": "stderr",
          "text": [
            " 76%|███████▋  | 94/123 [00:20<00:06,  4.68it/s]"
          ]
        },
        {
          "output_type": "stream",
          "name": "stdout",
          "text": [
            "\n",
            "\n",
            "Epoch: 3, Epoch_step: 47, Avg loss: 1.600835\n",
            "Learning rate: 0.005667\n",
            "\n",
            "\n"
          ]
        },
        {
          "output_type": "stream",
          "name": "stderr",
          "text": [
            " 93%|█████████▎| 114/123 [00:24<00:01,  4.63it/s]"
          ]
        },
        {
          "output_type": "stream",
          "name": "stdout",
          "text": [
            "\n",
            "\n",
            "Epoch: 3, Epoch_step: 57, Avg loss: 1.483252\n",
            "Learning rate: 0.006000\n",
            "\n",
            "\n"
          ]
        },
        {
          "output_type": "stream",
          "name": "stderr",
          "text": [
            "100%|██████████| 123/123 [00:26<00:00,  4.58it/s]\n",
            "  9%|▉         | 11/123 [00:02<00:24,  4.61it/s]"
          ]
        },
        {
          "output_type": "stream",
          "name": "stdout",
          "text": [
            "\n",
            "\n",
            "Epoch: 4, Epoch_step: 6, Avg loss: 1.463374\n",
            "Learning rate: 0.006333\n",
            "\n",
            "\n"
          ]
        },
        {
          "output_type": "stream",
          "name": "stderr",
          "text": [
            " 24%|██▍       | 30/123 [00:06<00:20,  4.59it/s]"
          ]
        },
        {
          "output_type": "stream",
          "name": "stdout",
          "text": [
            "\n",
            "\n",
            "Epoch: 4, Epoch_step: 16, Avg loss: 1.485248\n",
            "Learning rate: 0.006667\n",
            "\n",
            "\n",
            "\n",
            "Evaluate:\n",
            "\n"
          ]
        },
        {
          "output_type": "stream",
          "name": "stderr",
          "text": [
            "\r 25%|██▌       | 31/123 [00:07<00:30,  3.04it/s]"
          ]
        },
        {
          "output_type": "stream",
          "name": "stdout",
          "text": [
            "\n",
            "\n",
            "Classification Accuracy: 0.266\n",
            "\n",
            "\n"
          ]
        },
        {
          "output_type": "stream",
          "name": "stderr",
          "text": [
            " 41%|████▏     | 51/123 [00:11<00:15,  4.64it/s]"
          ]
        },
        {
          "output_type": "stream",
          "name": "stdout",
          "text": [
            "\n",
            "\n",
            "Epoch: 4, Epoch_step: 26, Avg loss: 1.578226\n",
            "Learning rate: 0.007000\n",
            "\n",
            "\n"
          ]
        },
        {
          "output_type": "stream",
          "name": "stderr",
          "text": [
            " 58%|█████▊    | 71/123 [00:15<00:11,  4.69it/s]"
          ]
        },
        {
          "output_type": "stream",
          "name": "stdout",
          "text": [
            "\n",
            "\n",
            "Epoch: 4, Epoch_step: 36, Avg loss: 1.647883\n",
            "Learning rate: 0.007333\n",
            "\n",
            "\n"
          ]
        },
        {
          "output_type": "stream",
          "name": "stderr",
          "text": [
            " 74%|███████▍  | 91/123 [00:19<00:06,  4.67it/s]"
          ]
        },
        {
          "output_type": "stream",
          "name": "stdout",
          "text": [
            "\n",
            "\n",
            "Epoch: 4, Epoch_step: 46, Avg loss: 1.588070\n",
            "Learning rate: 0.007667\n",
            "\n",
            "\n"
          ]
        },
        {
          "output_type": "stream",
          "name": "stderr",
          "text": [
            " 90%|█████████ | 111/123 [00:24<00:02,  4.61it/s]"
          ]
        },
        {
          "output_type": "stream",
          "name": "stdout",
          "text": [
            "\n",
            "\n",
            "Epoch: 4, Epoch_step: 56, Avg loss: 1.869197\n",
            "Learning rate: 0.008000\n",
            "\n",
            "\n"
          ]
        },
        {
          "output_type": "stream",
          "name": "stderr",
          "text": [
            "100%|██████████| 123/123 [00:26<00:00,  4.57it/s]\n",
            "  6%|▌         | 7/123 [00:01<00:25,  4.64it/s]"
          ]
        },
        {
          "output_type": "stream",
          "name": "stdout",
          "text": [
            "\n",
            "\n",
            "Epoch: 5, Epoch_step: 4, Avg loss: 1.704953\n",
            "Learning rate: 0.008333\n",
            "\n",
            "\n",
            "\n",
            "Evaluate:\n",
            "\n"
          ]
        },
        {
          "output_type": "stream",
          "name": "stderr",
          "text": [
            "\r  7%|▋         | 8/123 [00:02<00:38,  3.01it/s]"
          ]
        },
        {
          "output_type": "stream",
          "name": "stdout",
          "text": [
            "\n",
            "\n",
            "Classification Accuracy: 0.117\n",
            "\n",
            "\n"
          ]
        },
        {
          "output_type": "stream",
          "name": "stderr",
          "text": [
            " 23%|██▎       | 28/123 [00:06<00:20,  4.64it/s]"
          ]
        },
        {
          "output_type": "stream",
          "name": "stdout",
          "text": [
            "\n",
            "\n",
            "Epoch: 5, Epoch_step: 14, Avg loss: 1.700009\n",
            "Learning rate: 0.008667\n",
            "\n",
            "\n"
          ]
        },
        {
          "output_type": "stream",
          "name": "stderr",
          "text": [
            " 39%|███▉      | 48/123 [00:10<00:16,  4.64it/s]"
          ]
        },
        {
          "output_type": "stream",
          "name": "stdout",
          "text": [
            "\n",
            "\n",
            "Epoch: 5, Epoch_step: 24, Avg loss: 1.457838\n",
            "Learning rate: 0.009000\n",
            "\n",
            "\n"
          ]
        },
        {
          "output_type": "stream",
          "name": "stderr",
          "text": [
            " 55%|█████▌    | 68/123 [00:14<00:11,  4.65it/s]"
          ]
        },
        {
          "output_type": "stream",
          "name": "stdout",
          "text": [
            "\n",
            "\n",
            "Epoch: 5, Epoch_step: 34, Avg loss: 1.512401\n",
            "Learning rate: 0.009333\n",
            "\n",
            "\n"
          ]
        },
        {
          "output_type": "stream",
          "name": "stderr",
          "text": [
            " 72%|███████▏  | 88/123 [00:19<00:07,  4.58it/s]"
          ]
        },
        {
          "output_type": "stream",
          "name": "stdout",
          "text": [
            "\n",
            "\n",
            "Epoch: 5, Epoch_step: 44, Avg loss: 1.668595\n",
            "Learning rate: 0.009667\n",
            "\n",
            "\n"
          ]
        },
        {
          "output_type": "stream",
          "name": "stderr",
          "text": [
            " 87%|████████▋ | 107/123 [00:23<00:03,  4.60it/s]"
          ]
        },
        {
          "output_type": "stream",
          "name": "stdout",
          "text": [
            "\n",
            "\n",
            "Epoch: 5, Epoch_step: 54, Avg loss: 1.544487\n",
            "Learning rate: 0.010000\n",
            "\n",
            "\n",
            "\n",
            "Evaluate:\n",
            "\n"
          ]
        },
        {
          "output_type": "stream",
          "name": "stderr",
          "text": [
            "\r 88%|████████▊ | 108/123 [00:24<00:04,  3.04it/s]"
          ]
        },
        {
          "output_type": "stream",
          "name": "stdout",
          "text": [
            "\n",
            "\n",
            "Classification Accuracy: 0.266\n",
            "\n",
            "\n"
          ]
        },
        {
          "output_type": "stream",
          "name": "stderr",
          "text": [
            "100%|██████████| 123/123 [00:27<00:00,  4.51it/s]\n"
          ]
        }
      ],
      "source": [
        "import wandb\n",
        "wandb.init(project=\"nlp\", name=\"WZTestCLS\")\n",
        "\n",
        "encoder_optimizer.zero_grad()\n",
        "step_cnt, all_step_cnt, avg_loss, maximum_f_score = 0, 0, 0, 0\n",
        "ce_fn = nn.CrossEntropyLoss(torch.FloatTensor([0.2, 0.3, 0.5, 1.]).cuda())\n",
        "\n",
        "n_epochs = 5\n",
        "for epoch in range(n_epochs):\n",
        "    epoch_step = 0\n",
        "\n",
        "    for (i, batch) in enumerate(tqdm(dataloader)):\n",
        "\n",
        "        step_cnt += 1\n",
        "        cur_res = cls_model(batch[\"queries\"].cuda(), batch[\"queries_pos\"].cuda())\n",
        "        loss = ce_fn(cur_res, batch[\"labels\"].cuda()) / 2\n",
        "        loss.backward()\n",
        "\n",
        "        avg_loss += loss.item()\n",
        "        if step_cnt == 2:\n",
        "            # updating\n",
        "            nn.utils.clip_grad_norm_(cls_model.parameters(), 4)\n",
        "\n",
        "            step_cnt = 0\n",
        "            epoch_step += 1\n",
        "            all_step_cnt += 1\n",
        "\n",
        "            # adjust learning rate\n",
        "            if all_step_cnt <= warmup_steps:\n",
        "                lr = all_step_cnt * (max_lr - 2e-8) / warmup_steps + 2e-8\n",
        "            else:\n",
        "                lr = max_lr - (all_step_cnt - warmup_steps) * 1e-6\n",
        "\n",
        "            encoder_optimizer.step()\n",
        "            encoder_optimizer.zero_grad()\n",
        "\n",
        "        if all_step_cnt % 10 == 0 and step_cnt == 0:\n",
        "            if all_step_cnt <= warmup_steps:\n",
        "                lr = all_step_cnt * (max_lr - 2e-8) / warmup_steps + 2e-8\n",
        "            else:\n",
        "                lr = max_lr - (all_step_cnt - warmup_steps) * 1e-6\n",
        "\n",
        "            wandb.log({\"Learning_rate\": lr}, step=all_step_cnt)\n",
        "            wandb.log({\"Loss\": avg_loss / report_freq}, step=all_step_cnt)\n",
        "\n",
        "            # report stats\n",
        "            print(\"\\n\\nEpoch: %d, Epoch_step: %d, Avg loss: %.6f\" % (epoch + 1, epoch_step, avg_loss / 10))\n",
        "            print(f\"Learning rate: {lr:.6f}\\n\\n\")\n",
        "\n",
        "            avg_loss = 0\n",
        "        del loss, cur_res\n",
        "\n",
        "        if all_step_cnt % 50 == 0 and all_step_cnt != 0 and step_cnt == 0:\n",
        "            # evaluate the model as a scorer\n",
        "            print(\"\\nEvaluate:\\n\")\n",
        "\n",
        "            accuracy = validate(dev_inputs, dev_outputs, cls_model)\n",
        "            wandb.log({\"Accuracy\": accuracy}, step=all_step_cnt)\n",
        "\n",
        "            if accuracy > maximum_accuracy:\n",
        "                maximum_accuracy = accuracy\n",
        "                torch.save(cls_model.state_dict(), os.path.join(\"model_ckpts\", \"best_cls_ckpt.bin\"))\n",
        "                print(\"\\n\\nBest val loss - epoch: %d, Epoch_step: %d\" % (epoch, epoch_step))\n",
        "                print(\"Maximum_accuracy\", accuracy, \"\\n\\n\")"
      ]
    },
    {
      "cell_type": "code",
      "execution_count": 69,
      "metadata": {
        "id": "ijKVlRvNhYTS"
      },
      "outputs": [],
      "source": [
        "def predict(dev_input, cls_model_):\n",
        "    # get evidence embeddings\n",
        "    start_idx = 0\n",
        "    cls_model.eval()\n",
        "\n",
        "    cls_res = []\n",
        "    correct_count = 0\n",
        "    while start_idx < len(dev_input):\n",
        "        end_idx = min(start_idx + 50, len(dev_input))\n",
        "\n",
        "        cur_input = torch.LongTensor(dev_input[start_idx:end_idx]).view(-1, len(dev_input[0])).cuda()\n",
        "        cur_pos = torch.LongTensor([list(range(len(dev_input[0]))) for _ in range(end_idx - start_idx)]).cuda()\n",
        "\n",
        "        cur_res = cls_model_(cur_input, cur_pos)\n",
        "        cur_res = torch.argmax(cur_res, 1).tolist()\n",
        "\n",
        "\n",
        "        cls_res = cls_res + cur_res\n",
        "\n",
        "        start_idx = end_idx\n",
        "        del cur_input, cur_pos\n",
        "\n",
        "    return cls_res"
      ]
    },
    {
      "cell_type": "code",
      "execution_count": 70,
      "metadata": {
        "id": "Y6woHYPDhYTS"
      },
      "outputs": [],
      "source": [
        "torch.cuda.empty_cache()"
      ]
    },
    {
      "cell_type": "code",
      "execution_count": 71,
      "metadata": {
        "id": "aMYIWLEVhYTS"
      },
      "outputs": [],
      "source": [
        "cls_model.load_state_dict(torch.load(os.path.join(\"model_ckpts\", \"best_cls_ckpt.bin\")))\n",
        "\n",
        "dev_classes = predict(dev_inputs, cls_model)\n",
        "test_classes = predict(test_inputs, cls_model)"
      ]
    },
    {
      "cell_type": "code",
      "execution_count": 72,
      "metadata": {
        "id": "MBDrLA6thYTS"
      },
      "outputs": [],
      "source": [
        "with open(\"data/dev_predict.json\", \"r\") as f:\n",
        "    pred_dev_claims = json.load(f)\n",
        "with open(\"data/test-claims-unlabelled.json\", \"r\") as f:\n",
        "    pred_test_claims = json.load(f)\n",
        "\n",
        "for i, j in zip(dev_claim_id, dev_classes):\n",
        "    claim_label = id2labels[j]\n",
        "    evidences = pred_dev_claims[i]['evidences']\n",
        "    pred_dev_claims[i] = {'claim_text': pred_dev_claims[i]['claim_text'], 'claim_label': claim_label, 'evidences': evidences}\n",
        "\n",
        "for i, j in zip(test_claim_id, test_classes):\n",
        "    claim_label = id2labels[j]\n",
        "    evidences = pred_test_claims[i]['evidences']\n",
        "    pred_test_claims[i] = {'claim_text': pred_test_claims[i]['claim_text'], 'claim_label': claim_label, 'evidences': evidences}\n",
        "\n",
        "with open(\"data/dev_predict.json\", \"w\") as f:\n",
        "    json.dump(pred_dev_claims, f)\n",
        "with open(\"data/test-claims-unlabelled.json\", \"w\") as f:\n",
        "    json.dump(pred_test_claims, f)"
      ]
    },
    {
      "cell_type": "code",
      "execution_count": 73,
      "metadata": {
        "colab": {
          "base_uri": "https://localhost:8080/"
        },
        "id": "IW_BEcfihYTS",
        "outputId": "96087d3d-7d1b-452f-903e-cd55c639da6b"
      },
      "outputs": [
        {
          "output_type": "stream",
          "name": "stdout",
          "text": [
            "Counter({0: 154})\n"
          ]
        }
      ],
      "source": [
        "print(Counter(dev_classes))"
      ]
    },
    {
      "cell_type": "code",
      "execution_count": 74,
      "metadata": {
        "colab": {
          "base_uri": "https://localhost:8080/"
        },
        "id": "L9RYY4KUhYTT",
        "outputId": "bed9b062-0f9b-46a9-e0d7-38a1a1842a90"
      },
      "outputs": [
        {
          "output_type": "stream",
          "name": "stdout",
          "text": [
            "Counter({0: 153})\n"
          ]
        }
      ],
      "source": [
        "print(Counter(test_classes))"
      ]
    },
    {
      "cell_type": "code",
      "execution_count": 75,
      "metadata": {
        "colab": {
          "base_uri": "https://localhost:8080/"
        },
        "id": "m_Een36khYTT",
        "outputId": "ec73e23b-f88c-4bc6-8951-2da770b57f5a"
      },
      "outputs": [
        {
          "output_type": "stream",
          "name": "stdout",
          "text": [
            "Evidence Retrieval F-score (F): 0.0665945165945166\n",
            "Claim Classification Accuracy (A): 0.44155844155844154\n",
            "Harmonic Mean of F and A: 0.11573432956366365\n"
          ]
        }
      ],
      "source": [
        "import subprocess\n",
        "\n",
        "output = subprocess.check_output(\"python eval.py --predictions data/dev_predict.json --groundtruth data/dev-claims.json\", shell=True)\n",
        "output_str = output.decode('utf-8')\n",
        "\n",
        "# Split the output into lines\n",
        "output_lines = output_str.strip().split('\\n')\n",
        "\n",
        "# Format the output\n",
        "formatted_lines = []\n",
        "for line in output_lines:\n",
        "    metric, value = line.split('=')\n",
        "    metric = metric.strip()\n",
        "    value = value.strip()\n",
        "    formatted_line = f\"{metric}: {value}\"\n",
        "    formatted_lines.append(formatted_line)\n",
        "\n",
        "# Join the formatted lines into a single string\n",
        "formatted_output = '\\n'.join(formatted_lines)\n",
        "print(formatted_output)"
      ]
    },
    {
      "cell_type": "markdown",
      "metadata": {
        "id": "mefSOe8eTmGP"
      },
      "source": [
        "## Object Oriented Programming codes here\n",
        "\n",
        "*You can use multiple code snippets. Just add more if needed*"
      ]
    }
  ],
  "metadata": {
    "accelerator": "GPU",
    "colab": {
      "gpuType": "L4",
      "provenance": [],
      "machine_shape": "hm"
    },
    "kernelspec": {
      "display_name": "Python 3",
      "name": "python3"
    },
    "language_info": {
      "codemirror_mode": {
        "name": "ipython",
        "version": 3
      },
      "file_extension": ".py",
      "mimetype": "text/x-python",
      "name": "python",
      "nbconvert_exporter": "python",
      "pygments_lexer": "ipython3",
      "version": "3.8.19"
    },
    "widgets": {
      "application/vnd.jupyter.widget-state+json": {
        "10486014f3fe4ce2b347b4e93e0cbdc4": {
          "model_module": "@jupyter-widgets/controls",
          "model_name": "VBoxModel",
          "model_module_version": "1.5.0",
          "state": {
            "_dom_classes": [],
            "_model_module": "@jupyter-widgets/controls",
            "_model_module_version": "1.5.0",
            "_model_name": "VBoxModel",
            "_view_count": null,
            "_view_module": "@jupyter-widgets/controls",
            "_view_module_version": "1.5.0",
            "_view_name": "VBoxView",
            "box_style": "",
            "children": [
              "IPY_MODEL_586bf91d1c664e6eac2a46a96fe6f6e3",
              "IPY_MODEL_7281ef47c6e647a9a79209d99c01f9ee"
            ],
            "layout": "IPY_MODEL_4e7b0d9ba1e6442f94ffee29c1b09e77"
          }
        },
        "586bf91d1c664e6eac2a46a96fe6f6e3": {
          "model_module": "@jupyter-widgets/controls",
          "model_name": "LabelModel",
          "model_module_version": "1.5.0",
          "state": {
            "_dom_classes": [],
            "_model_module": "@jupyter-widgets/controls",
            "_model_module_version": "1.5.0",
            "_model_name": "LabelModel",
            "_view_count": null,
            "_view_module": "@jupyter-widgets/controls",
            "_view_module_version": "1.5.0",
            "_view_name": "LabelView",
            "description": "",
            "description_tooltip": null,
            "layout": "IPY_MODEL_314850731523486fb1cdbd963ce14d75",
            "placeholder": "​",
            "style": "IPY_MODEL_61854082f6b5448faffaa6b0241d968f",
            "value": "0.022 MB of 0.022 MB uploaded\r"
          }
        },
        "7281ef47c6e647a9a79209d99c01f9ee": {
          "model_module": "@jupyter-widgets/controls",
          "model_name": "FloatProgressModel",
          "model_module_version": "1.5.0",
          "state": {
            "_dom_classes": [],
            "_model_module": "@jupyter-widgets/controls",
            "_model_module_version": "1.5.0",
            "_model_name": "FloatProgressModel",
            "_view_count": null,
            "_view_module": "@jupyter-widgets/controls",
            "_view_module_version": "1.5.0",
            "_view_name": "ProgressView",
            "bar_style": "",
            "description": "",
            "description_tooltip": null,
            "layout": "IPY_MODEL_e2fa9194d56044248c1dd08ff2da1295",
            "max": 1,
            "min": 0,
            "orientation": "horizontal",
            "style": "IPY_MODEL_1cb39013a5a446d98dccd3f33b8e0ddb",
            "value": 1
          }
        },
        "4e7b0d9ba1e6442f94ffee29c1b09e77": {
          "model_module": "@jupyter-widgets/base",
          "model_name": "LayoutModel",
          "model_module_version": "1.2.0",
          "state": {
            "_model_module": "@jupyter-widgets/base",
            "_model_module_version": "1.2.0",
            "_model_name": "LayoutModel",
            "_view_count": null,
            "_view_module": "@jupyter-widgets/base",
            "_view_module_version": "1.2.0",
            "_view_name": "LayoutView",
            "align_content": null,
            "align_items": null,
            "align_self": null,
            "border": null,
            "bottom": null,
            "display": null,
            "flex": null,
            "flex_flow": null,
            "grid_area": null,
            "grid_auto_columns": null,
            "grid_auto_flow": null,
            "grid_auto_rows": null,
            "grid_column": null,
            "grid_gap": null,
            "grid_row": null,
            "grid_template_areas": null,
            "grid_template_columns": null,
            "grid_template_rows": null,
            "height": null,
            "justify_content": null,
            "justify_items": null,
            "left": null,
            "margin": null,
            "max_height": null,
            "max_width": null,
            "min_height": null,
            "min_width": null,
            "object_fit": null,
            "object_position": null,
            "order": null,
            "overflow": null,
            "overflow_x": null,
            "overflow_y": null,
            "padding": null,
            "right": null,
            "top": null,
            "visibility": null,
            "width": null
          }
        },
        "314850731523486fb1cdbd963ce14d75": {
          "model_module": "@jupyter-widgets/base",
          "model_name": "LayoutModel",
          "model_module_version": "1.2.0",
          "state": {
            "_model_module": "@jupyter-widgets/base",
            "_model_module_version": "1.2.0",
            "_model_name": "LayoutModel",
            "_view_count": null,
            "_view_module": "@jupyter-widgets/base",
            "_view_module_version": "1.2.0",
            "_view_name": "LayoutView",
            "align_content": null,
            "align_items": null,
            "align_self": null,
            "border": null,
            "bottom": null,
            "display": null,
            "flex": null,
            "flex_flow": null,
            "grid_area": null,
            "grid_auto_columns": null,
            "grid_auto_flow": null,
            "grid_auto_rows": null,
            "grid_column": null,
            "grid_gap": null,
            "grid_row": null,
            "grid_template_areas": null,
            "grid_template_columns": null,
            "grid_template_rows": null,
            "height": null,
            "justify_content": null,
            "justify_items": null,
            "left": null,
            "margin": null,
            "max_height": null,
            "max_width": null,
            "min_height": null,
            "min_width": null,
            "object_fit": null,
            "object_position": null,
            "order": null,
            "overflow": null,
            "overflow_x": null,
            "overflow_y": null,
            "padding": null,
            "right": null,
            "top": null,
            "visibility": null,
            "width": null
          }
        },
        "61854082f6b5448faffaa6b0241d968f": {
          "model_module": "@jupyter-widgets/controls",
          "model_name": "DescriptionStyleModel",
          "model_module_version": "1.5.0",
          "state": {
            "_model_module": "@jupyter-widgets/controls",
            "_model_module_version": "1.5.0",
            "_model_name": "DescriptionStyleModel",
            "_view_count": null,
            "_view_module": "@jupyter-widgets/base",
            "_view_module_version": "1.2.0",
            "_view_name": "StyleView",
            "description_width": ""
          }
        },
        "e2fa9194d56044248c1dd08ff2da1295": {
          "model_module": "@jupyter-widgets/base",
          "model_name": "LayoutModel",
          "model_module_version": "1.2.0",
          "state": {
            "_model_module": "@jupyter-widgets/base",
            "_model_module_version": "1.2.0",
            "_model_name": "LayoutModel",
            "_view_count": null,
            "_view_module": "@jupyter-widgets/base",
            "_view_module_version": "1.2.0",
            "_view_name": "LayoutView",
            "align_content": null,
            "align_items": null,
            "align_self": null,
            "border": null,
            "bottom": null,
            "display": null,
            "flex": null,
            "flex_flow": null,
            "grid_area": null,
            "grid_auto_columns": null,
            "grid_auto_flow": null,
            "grid_auto_rows": null,
            "grid_column": null,
            "grid_gap": null,
            "grid_row": null,
            "grid_template_areas": null,
            "grid_template_columns": null,
            "grid_template_rows": null,
            "height": null,
            "justify_content": null,
            "justify_items": null,
            "left": null,
            "margin": null,
            "max_height": null,
            "max_width": null,
            "min_height": null,
            "min_width": null,
            "object_fit": null,
            "object_position": null,
            "order": null,
            "overflow": null,
            "overflow_x": null,
            "overflow_y": null,
            "padding": null,
            "right": null,
            "top": null,
            "visibility": null,
            "width": null
          }
        },
        "1cb39013a5a446d98dccd3f33b8e0ddb": {
          "model_module": "@jupyter-widgets/controls",
          "model_name": "ProgressStyleModel",
          "model_module_version": "1.5.0",
          "state": {
            "_model_module": "@jupyter-widgets/controls",
            "_model_module_version": "1.5.0",
            "_model_name": "ProgressStyleModel",
            "_view_count": null,
            "_view_module": "@jupyter-widgets/base",
            "_view_module_version": "1.2.0",
            "_view_name": "StyleView",
            "bar_color": null,
            "description_width": ""
          }
        }
      }
    }
  },
  "nbformat": 4,
  "nbformat_minor": 0
}