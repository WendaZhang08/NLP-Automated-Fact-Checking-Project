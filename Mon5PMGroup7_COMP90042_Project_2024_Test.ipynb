{
  "cells": [
    {
      "cell_type": "markdown",
      "metadata": {
        "id": "32yCsRUo8H33"
      },
      "source": [
        "# 2024 COMP90042 Project\n",
        "*Make sure you change the file name with your group id.*"
      ]
    },
    {
      "cell_type": "markdown",
      "metadata": {
        "id": "XCybYoGz8YWQ"
      },
      "source": [
        "# Readme\n",
        "*If there is something to be noted for the marker, please mention here.*\n",
        "\n",
        "*If you are planning to implement a program with Object Oriented Programming style, please put those the bottom of this ipynb file*"
      ]
    },
    {
      "cell_type": "markdown",
      "metadata": {
        "id": "krRzbuxWhYSm"
      },
      "source": [
        "**We use pytorch, nltk, scikit-learn in this project.**"
      ]
    },
    {
      "cell_type": "markdown",
      "metadata": {
        "id": "6po98qVA8bJD"
      },
      "source": [
        "# 1.DataSet Processing\n",
        "(You can add as many code blocks and text blocks as you need. However, YOU SHOULD NOT MODIFY the section title)"
      ]
    },
    {
      "cell_type": "markdown",
      "metadata": {
        "id": "qvff21Hv8zjk",
        "tags": []
      },
      "source": [
        "## PreProcess for evidence and claims"
      ]
    },
    {
      "cell_type": "markdown",
      "metadata": {
        "id": "bxclURH8hYSn"
      },
      "source": [
        "### preprocessing function"
      ]
    },
    {
      "cell_type": "code",
      "execution_count": 3,
      "metadata": {
        "colab": {
          "base_uri": "https://localhost:8080/"
        },
        "id": "hAUkvJmjhYSo",
        "outputId": "2248a4a6-c444-4679-e00c-65f93493d24c"
      },
      "outputs": [
        {
          "name": "stdout",
          "output_type": "stream",
          "text": [
            "CUDA available: True\n"
          ]
        }
      ],
      "source": [
        "import torch\n",
        "print(\"CUDA available:\", torch.cuda.is_available())"
      ]
    },
    {
      "cell_type": "code",
      "execution_count": null,
      "metadata": {
        "id": "jHabd2NPhYSq",
        "outputId": "9fe99736-9a88-4ad8-a0ad-11418a90655a"
      },
      "outputs": [
        {
          "name": "stdout",
          "output_type": "stream",
          "text": [
            "Current CUDA device: 0\n",
            "Device count: 1\n",
            "Device name: NVIDIA GeForce RTX 4070 Ti SUPER\n"
          ]
        }
      ],
      "source": [
        "print(\"Current CUDA device:\", torch.cuda.current_device())\n",
        "print(\"Device count:\", torch.cuda.device_count())\n",
        "print(\"Device name:\", torch.cuda.get_device_name(torch.cuda.current_device()))"
      ]
    },
    {
      "cell_type": "markdown",
      "metadata": {
        "id": "sr__0gNyhYSq"
      },
      "source": [
        "### read files"
      ]
    },
    {
      "cell_type": "code",
      "execution_count": 9,
      "metadata": {
        "colab": {
          "base_uri": "https://localhost:8080/"
        },
        "id": "JB7QMLwFhYSr",
        "outputId": "167285af-82e9-4bbc-d58b-92c36dccf751"
      },
      "outputs": [
        {
          "name": "stderr",
          "output_type": "stream",
          "text": [
            "[nltk_data] Downloading package stopwords to /root/nltk_data...\n",
            "[nltk_data]   Package stopwords is already up-to-date!\n",
            "[nltk_data] Downloading package wordnet to /root/nltk_data...\n",
            "[nltk_data]   Package wordnet is already up-to-date!\n",
            "[nltk_data] Downloading package punkt to /root/nltk_data...\n",
            "[nltk_data]   Unzipping tokenizers/punkt.zip.\n"
          ]
        },
        {
          "name": "stdout",
          "output_type": "stream",
          "text": [
            "claim count:  1228\n",
            "evidence count:  1208827\n",
            "max claim length:  332\n",
            "min claim length:  26\n",
            "mean claim length:  122.95521172638436\n",
            "max evidence count:  5\n",
            "min evidence count:  1\n",
            "mean evidence count:  3.3566775244299674\n",
            "max evidence length:  1979\n",
            "min evidence length:  13\n",
            "mean evidence length:  173.5\n",
            "Counter({'SUPPORTS': 519, 'NOT_ENOUGH_INFO': 386, 'REFUTES': 199, 'DISPUTED': 124})\n",
            "Dev evi inside train evi 163\n",
            "Dev evi outside train evi 328\n",
            "Train claim count:  1228\n"
          ]
        }
      ],
      "source": [
        "import json\n",
        "import nltk\n",
        "import string\n",
        "import re\n",
        "import random\n",
        "import numpy as np\n",
        "from sklearn.metrics.pairwise import cosine_similarity\n",
        "from nltk.corpus import stopwords\n",
        "from nltk.tokenize import word_tokenize\n",
        "from collections import Counter\n",
        "from statistics import mean\n",
        "import torch\n",
        "\n",
        "torch.manual_seed(42)\n",
        "torch.cuda.manual_seed_all(42)\n",
        "random.seed(42)\n",
        "\n",
        "nltk.download('stopwords')\n",
        "nltk.download('wordnet')\n",
        "nltk.download('punkt')\n",
        "\n",
        "lemmatizer = nltk.stem.wordnet.WordNetLemmatizer()\n",
        "stopwords = set(stopwords.words('english'))\n",
        "\n",
        "with open('data/train-claims.json', 'r') as input_file:\n",
        "    train_claims = json.load(input_file)\n",
        "\n",
        "# Read in development data (claim)\n",
        "with open('data/dev-claims.json', 'r') as input_file:\n",
        "    dev_claims = json.load(input_file)\n",
        "\n",
        "# Read in test data (claim)\n",
        "with open('data/test-claims-unlabelled.json', 'r') as input_file:\n",
        "    test_claims = json.load(input_file)\n",
        "\n",
        "# Read in evidence data\n",
        "with open('data/evidence.json', 'r') as input_file:\n",
        "    evidences = json.load(input_file)\n",
        "\n",
        "#EDA\n",
        "claim_count = 0\n",
        "evi_count = 0\n",
        "claim_length = []\n",
        "evidence_count = []\n",
        "evidence_length = []\n",
        "labels = []\n",
        "\n",
        "for key,value in train_claims.items():\n",
        "    claim_count+=1\n",
        "    claim_length.append(len(value[\"claim_text\"]))\n",
        "    evidence_count.append(len(value[\"evidences\"]))\n",
        "    evidence_length += [len(evidences[x]) for x in value[\"evidences\"]]\n",
        "    labels.append(value[\"claim_label\"])\n",
        "\n",
        "for key,value in evidences.items():\n",
        "    evi_count+=1\n",
        "\n",
        "print(\"claim count: \",claim_count)\n",
        "print(\"evidence count: \",evi_count)\n",
        "print(\"max claim length: \",max(claim_length))\n",
        "print(\"min claim length: \",min(claim_length))\n",
        "print(\"mean claim length: \",mean(claim_length))\n",
        "print(\"max evidence count: \",max(evidence_count))\n",
        "print(\"min evidence count: \",min(evidence_count))\n",
        "print(\"mean evidence count: \",mean(evidence_count))\n",
        "print(\"max evidence length: \",max(evidence_length))\n",
        "print(\"min evidence length: \",min(evidence_length))\n",
        "print(\"mean evidence length: \",mean(evidence_length))\n",
        "print(Counter(labels))\n",
        "\n",
        "inside = 0\n",
        "outside = 0\n",
        "\n",
        "train_evi_id = []\n",
        "for claim_id,claim_value in train_claims.items():\n",
        "    train_evi_id=train_evi_id+claim_value['evidences']\n",
        "\n",
        "for claim_id,claim_value in dev_claims.items():\n",
        "    test_evi_id=claim_value['evidences']\n",
        "    for e in test_evi_id:\n",
        "        if e in train_evi_id:\n",
        "            inside += 1\n",
        "        else:\n",
        "            outside += 1\n",
        "print(\"Dev evi inside train evi\", inside)\n",
        "print(\"Dev evi outside train evi\", outside)\n",
        "\n",
        "full_evidence_id = list(evidences.keys())\n",
        "full_evidence_text  = list(evidences.values())\n",
        "train_claim_id = list(train_claims.keys())\n",
        "train_claim_text  = [ v[\"claim_text\"] for v in train_claims.values()]\n",
        "print(\"Train claim count: \",len(train_claim_id))"
      ]
    },
    {
      "cell_type": "code",
      "execution_count": 5,
      "metadata": {
        "id": "S3OaUin53_OV"
      },
      "outputs": [],
      "source": [
        "import torch.nn as nn\n",
        "import torch.optim as optim\n",
        "import torch.nn.functional as F"
      ]
    },
    {
      "cell_type": "code",
      "execution_count": 6,
      "metadata": {
        "id": "GvaeShUihYSs"
      },
      "outputs": [],
      "source": [
        "lemmatizer = nltk.stem.wordnet.WordNetLemmatizer()\n",
        "stopwords = set(stopwords.words('english'))\n",
        "\n",
        "def lemmatize_text(text):\n",
        "    words = nltk.word_tokenize(text)\n",
        "    lemmatized_words = [lemmatizer.lemmatize(word) for word in words]\n",
        "    lemmatized_text = ' '.join(lemmatized_words)\n",
        "    return lemmatized_text\n",
        "\n",
        "\n",
        "def preprocessing_text(text):\n",
        "\n",
        "     # Convert to lowercase\n",
        "    text = text.lower()\n",
        "\n",
        "     # Lemmatize the text\n",
        "    text = lemmatize_text(text)\n",
        "\n",
        "    # Remove leading/trailing whitespaces\n",
        "    text = text.strip()\n",
        "    \n",
        "    return text"
      ]
    },
    {
      "cell_type": "code",
      "execution_count": 7,
      "metadata": {
        "id": "11NItdNBhYSs"
      },
      "outputs": [],
      "source": [
        "def preprocess_claim_data(claim_data, existed_evidences_id=None):\n",
        "    claim_data_text = []\n",
        "    claim_data_id = []\n",
        "    claim_data_label = []\n",
        "    claim_evidences = []\n",
        "    for key in claim_data.keys():\n",
        "        claim_data[key][\"claim_text\"] = preprocessing_text(claim_data[key][\"claim_text\"])\n",
        "        claim_data_text.append(claim_data[key][\"claim_text\"])\n",
        "        claim_data_id.append(key)\n",
        "        if \"claim_label\" in claim_data[key]:\n",
        "            claim_data_label.append(claim_data[key][\"claim_label\"])\n",
        "        else:\n",
        "            claim_data_label.append(None)\n",
        "        if existed_evidences_id and \"evidences\" in claim_data[key]:\n",
        "            valid_evidences = [existed_evidences_id[i] for i in claim_data[key][\"evidences\"] if i in existed_evidences_id]\n",
        "            claim_evidences.append(valid_evidences)\n",
        "        else:\n",
        "            claim_evidences.append([])\n",
        "    return claim_data_text, claim_data_id, claim_data_label, claim_evidences\n",
        "\n",
        "\n",
        "def preprocess_evi_data(evi_data):\n",
        "    cleaned_evidence_text = []\n",
        "    cleaned_evidence_id = []\n",
        "    for key, value in evi_data.items():\n",
        "        cleaned_text = preprocessing_text(value)\n",
        "        cleaned_evidence_text.append(cleaned_text)\n",
        "        cleaned_evidence_id.append(key)\n",
        "    return cleaned_evidence_text, cleaned_evidence_id"
      ]
    },
    {
      "cell_type": "code",
      "execution_count": 10,
      "metadata": {
        "id": "T7kVxuNjhYSs"
      },
      "outputs": [],
      "source": [
        "cleaned_evidence_text, cleaned_evidence_id = preprocess_evi_data(evidences)\n",
        "\n",
        "evidences_id_dict = {evidence_id: idx for idx, evidence_id in enumerate(cleaned_evidence_id)}\n",
        "\n",
        "train_claim_text, train_claim_id, train_claim_label, train_claim_evidences = preprocess_claim_data(train_claims, evidences_id_dict)\n",
        "\n",
        "dev_claim_text, dev_claim_id, dev_claim_label, dev_claim_evidences = preprocess_claim_data(dev_claims, evidences_id_dict)\n",
        "\n",
        "test_claim_text, test_claim_id, _, _ = preprocess_claim_data(test_claims)"
      ]
    },
    {
      "cell_type": "code",
      "execution_count": 11,
      "metadata": {
        "colab": {
          "base_uri": "https://localhost:8080/"
        },
        "id": "lro5JDrchYSt",
        "outputId": "f9c47d15-058a-443a-e5d4-7407b3baeb91"
      },
      "outputs": [
        {
          "name": "stdout",
          "output_type": "stream",
          "text": [
            "Number of claims after removing non-English: 1228\n",
            "Number of claims after preprocessing: 1228\n"
          ]
        }
      ],
      "source": [
        "print(\"Number of claims after removing non-English:\", len(train_claim_evidences))\n",
        "print(\"Number of claims after preprocessing:\", len(train_claim_text))"
      ]
    },
    {
      "cell_type": "code",
      "execution_count": 12,
      "metadata": {
        "colab": {
          "base_uri": "https://localhost:8080/"
        },
        "id": "gUiLauhphYSt",
        "outputId": "170808d3-bf52-46b3-96d6-40bdf4042ef2"
      },
      "outputs": [
        {
          "name": "stdout",
          "output_type": "stream",
          "text": [
            "['not only is there no scientific evidence that co2 is a pollutant , higher co2 concentration actually help ecosystem support more plant and animal life .', 'el niño drove record high in global temperature suggesting rise may not be down to man-made emission .', 'in 1946 , pdo switched to a cool phase .', 'weather channel co-founder john coleman provided evidence that convincingly refutes the concept of anthropogenic global warming .', '`` january 2008 capped a 12 month period of global temperature drop on all of the major well respected indicator .', 'the last time the planet wa even four degree warmer , peter brannen point out in the end of the world , his new history of the planet ’ s major extinction event , the ocean were hundred of foot higher .', 'tree-ring proxy reconstruction are reliable before 1960 , tracking closely with the instrumental record and other independent proxy .', 'under the most ambitious scenario , they found a strong likelihood that antarctica would remain fairly stable . ”', 'an additional kick wa supplied by an el niño weather pattern that peaked in 2016 and temporarily warmed much of the surface of the planet , causing the hottest year in a historical record dating to 1880 .', 'when stomata-derived co2 ( red ) is compared to ice core-derived co2 ( blue ) , the stoma generally show much more variability in the atmospheric co2 level and often show level much higher than the ice core .']\n"
          ]
        }
      ],
      "source": [
        "print(train_claim_text[0:10])"
      ]
    },
    {
      "cell_type": "markdown",
      "metadata": {
        "id": "MA-5L_gUhYSt"
      },
      "source": [
        "### tfidf retrieval"
      ]
    },
    {
      "cell_type": "code",
      "execution_count": 13,
      "metadata": {
        "id": "HRuI5fIthYSt"
      },
      "outputs": [],
      "source": [
        "from sklearn.feature_extraction.text import TfidfVectorizer\n",
        "\n",
        "vectorizer = TfidfVectorizer()\n",
        "vectorizer.fit(cleaned_evidence_text)\n",
        "\n",
        "def fit_transform_tfidf(train_texts, dev_texts, test_texts, evidence_texts):\n",
        "    train_tfidf = vectorizer.transform(train_texts)\n",
        "    dev_tfidf = vectorizer.transform(dev_texts)\n",
        "    test_tfidf = vectorizer.transform(test_texts)\n",
        "    evidence_tfidf = vectorizer.transform(evidence_texts)\n",
        "\n",
        "    return train_tfidf, dev_tfidf, test_tfidf, evidence_tfidf\n",
        "\n",
        "train_tfidf, dev_tfidf, test_tfidf, evidence_tfidf = fit_transform_tfidf(train_claim_text, dev_claim_text, test_claim_text, cleaned_evidence_text)"
      ]
    },
    {
      "cell_type": "code",
      "execution_count": 14,
      "metadata": {
        "colab": {
          "base_uri": "https://localhost:8080/"
        },
        "id": "S3KVuMeShYSu",
        "outputId": "f2561c6f-3b9e-4872-dd60-c8d758564d53"
      },
      "outputs": [
        {
          "name": "stdout",
          "output_type": "stream",
          "text": [
            "(1228, 54272)\n"
          ]
        }
      ],
      "source": [
        "train_cos_sims = cosine_similarity(train_tfidf, evidence_tfidf)\n",
        "dev_cos_sims = cosine_similarity(dev_tfidf, evidence_tfidf)\n",
        "test_cos_sims = cosine_similarity(test_tfidf, evidence_tfidf)\n",
        "print(train_cos_sims.shape)"
      ]
    },
    {
      "cell_type": "code",
      "execution_count": 15,
      "metadata": {
        "colab": {
          "base_uri": "https://localhost:8080/"
        },
        "id": "ykoLaKcXhYSu",
        "outputId": "712f3377-5627-421f-8282-3236e7721ee4",
        "scrolled": true
      },
      "outputs": [
        {
          "name": "stdout",
          "output_type": "stream",
          "text": [
            "0.2799809989142237\n",
            "0.32932900432900436\n"
          ]
        }
      ],
      "source": [
        "def test_retrieval_topk(k, cur_scores, cur_labels):\n",
        "    ACC = []\n",
        "    top_ids = torch.topk(torch.FloatTensor(cur_scores), k, -1).indices.tolist()\n",
        "    for i in range(len(cur_labels)):\n",
        "        no_recall_count = 0\n",
        "        recall_count = 0\n",
        "        for cur_ in cur_labels[i]:\n",
        "            if cur_ in top_ids[i]:\n",
        "                recall_count += 1\n",
        "            else:\n",
        "                no_recall_count += 1\n",
        "        if recall_count + no_recall_count == 0:\n",
        "            no_recall_count = 1e-9  # to avoid division by zero\n",
        "        ACC.append(recall_count / (recall_count + no_recall_count))\n",
        "    return sum(ACC) / len(ACC)\n",
        "\n",
        "topK = 30\n",
        "print(test_retrieval_topk(topK, train_cos_sims, train_claim_evidences))\n",
        "print(test_retrieval_topk(topK, dev_cos_sims, dev_claim_evidences))"
      ]
    },
    {
      "cell_type": "code",
      "execution_count": 16,
      "metadata": {
        "id": "AEJ6cjJfhYSu"
      },
      "outputs": [],
      "source": [
        "def sort_evidence_candidates(cos_sims):\n",
        "    top_ids = np.argsort(-cos_sims, axis=1)[:, :10000]\n",
        "    return top_ids.tolist()"
      ]
    },
    {
      "cell_type": "code",
      "execution_count": 17,
      "metadata": {
        "id": "ko-vH1c1hYSu"
      },
      "outputs": [],
      "source": [
        "dev_sort_evidences = sort_evidence_candidates(dev_cos_sims)\n",
        "test_sort_evidences = sort_evidence_candidates(test_cos_sims)\n",
        "train_sort_evidences = sort_evidence_candidates(train_cos_sims)"
      ]
    },
    {
      "cell_type": "markdown",
      "metadata": {
        "id": "0zkxl9S5hYSv"
      },
      "source": [
        "### construct vocab and indexing"
      ]
    },
    {
      "cell_type": "code",
      "execution_count": 18,
      "metadata": {
        "id": "rmJcld7shYSv"
      },
      "outputs": [],
      "source": [
        "from collections import defaultdict\n",
        "from torch.utils.data import Dataset, DataLoader\n",
        "import random\n",
        "\n",
        "min_count = 5\n",
        "wordcount = defaultdict(int)\n",
        "idxword = [\"<cls>\",  \"<sep>\", \"<pad>\", \"<unk>\"]\n",
        "\n",
        "for texts in train_claim_text + cleaned_evidence_text:\n",
        "    for word in texts.split():\n",
        "        wordcount[word] += 1\n",
        "\n",
        "for word, count in wordcount.items():\n",
        "    if count > min_count:\n",
        "        idxword.append(word)\n",
        "\n",
        "wordidx = {value: i for i, value in enumerate(idxword)}"
      ]
    },
    {
      "cell_type": "code",
      "execution_count": 19,
      "metadata": {
        "id": "4Fy5s-ZxhYSv"
      },
      "outputs": [],
      "source": [
        "def convert2idx(text_data, wordidx_):\n",
        "    idx_data = []\n",
        "    unk_idx = wordidx_[\"<unk>\"]\n",
        "    for texts in text_data:\n",
        "        temp_idx = [wordidx_.get(word, unk_idx) for word in texts.split()]\n",
        "        idx_data.append(temp_idx)\n",
        "    return idx_data"
      ]
    },
    {
      "cell_type": "code",
      "execution_count": 20,
      "metadata": {
        "id": "aGSZqyC3hYTD"
      },
      "outputs": [],
      "source": [
        "train_text_idx = convert2idx(train_claim_text, wordidx)\n",
        "dev_text_idx = convert2idx(dev_claim_text, wordidx)\n",
        "test_text_idx = convert2idx(test_claim_text, wordidx)\n",
        "evidences_text_idx = convert2idx(cleaned_evidence_text, wordidx)"
      ]
    },
    {
      "cell_type": "code",
      "execution_count": 21,
      "metadata": {
        "colab": {
          "base_uri": "https://localhost:8080/"
        },
        "id": "Rx2JeKRwhYTE",
        "outputId": "9c766c30-7988-4115-f0db-3a8b7d34b69c"
      },
      "outputs": [
        {
          "name": "stdout",
          "output_type": "stream",
          "text": [
            "76 73 60 298\n"
          ]
        }
      ],
      "source": [
        "print(max([len(i) for i in train_text_idx]), max([len(i) for i in dev_text_idx]), max([len(i) for i in test_text_idx]), max([len(i) for i in evidences_text_idx]))"
      ]
    },
    {
      "cell_type": "code",
      "execution_count": 22,
      "metadata": {
        "id": "UruA8812hYTE"
      },
      "outputs": [],
      "source": [
        "def construct_input_text(text_idx, padding_len, wordidx_):\n",
        "    idx_data = []\n",
        "    cls_idx = wordidx_[\"<cls>\"]\n",
        "    sep_idx = wordidx_[\"<sep>\"]\n",
        "    pad_idx = wordidx_[\"<pad>\"]\n",
        "\n",
        "    for texts in text_idx:\n",
        "        if len(texts) < padding_len:\n",
        "            padded_text = [cls_idx] + texts + [sep_idx] + [pad_idx] * (padding_len - len(texts))\n",
        "        else:\n",
        "            padded_text = [cls_idx] + texts[:padding_len] + [sep_idx]\n",
        "        idx_data.append(padded_text)\n",
        "\n",
        "    return idx_data"
      ]
    },
    {
      "cell_type": "code",
      "execution_count": 23,
      "metadata": {
        "id": "K5hb5qfFhYTF"
      },
      "outputs": [],
      "source": [
        "text_pad_len = 50\n",
        "evidences_pad_len = 80\n",
        "train_input = construct_input_text(train_text_idx, text_pad_len, wordidx)\n",
        "dev_input = construct_input_text(dev_text_idx, text_pad_len, wordidx)\n",
        "test_input = construct_input_text(test_text_idx, text_pad_len, wordidx)\n",
        "evidences_input = construct_input_text(evidences_text_idx, evidences_pad_len, wordidx)"
      ]
    },
    {
      "cell_type": "code",
      "execution_count": 24,
      "metadata": {
        "colab": {
          "base_uri": "https://localhost:8080/"
        },
        "id": "Hm3NpJlihYTF",
        "outputId": "979c58dd-e26b-4c68-96c6-cf78c133dcaa"
      },
      "outputs": [
        {
          "name": "stdout",
          "output_type": "stream",
          "text": [
            "52 82\n"
          ]
        }
      ],
      "source": [
        "print(len(train_input[0]), len(evidences_input[0]))"
      ]
    },
    {
      "cell_type": "code",
      "execution_count": 25,
      "metadata": {
        "colab": {
          "base_uri": "https://localhost:8080/"
        },
        "id": "R1gDUsJohYTF",
        "outputId": "674b0fde-7b53-4f28-d6de-5a85e66d0444",
        "scrolled": true
      },
      "outputs": [
        {
          "name": "stdout",
          "output_type": "stream",
          "text": [
            "11792\n"
          ]
        }
      ],
      "source": [
        "vocab_size = len(idxword)\n",
        "print(vocab_size)"
      ]
    },
    {
      "cell_type": "code",
      "execution_count": 39,
      "metadata": {
        "id": "PJM58s9MhYTF"
      },
      "outputs": [],
      "source": [
        "class TrainDataset(Dataset):\n",
        "    def __init__(self, text_data, evidence_data, sorted_evidences, evidence_label, negative_num):\n",
        "        self.text_data = text_data\n",
        "        self.evidence_data = evidence_data\n",
        "        self.sorted_evidences = sorted_evidences\n",
        "        self.evidence_label = evidence_label\n",
        "        self.negative_num = negative_num\n",
        "        self.evidence_len = len(evidence_data[0])\n",
        "        self.text_len = len(text_data[0])\n",
        "\n",
        "    def __len__(self):\n",
        "        return len(self.text_data)\n",
        "\n",
        "    def __getitem__(self, idx):\n",
        "        positive_evidences = self.evidence_label[idx]\n",
        "        negative_evidences = random.sample(self.sorted_evidences[idx][30: self.negative_num * 10], self.negative_num)\n",
        "        return [self.text_data[idx], negative_evidences, positive_evidences]\n",
        "\n",
        "    def collate_fn(self, batch):\n",
        "        queries, queries_pos, evidences, temp_labels = [], [], [], []\n",
        "\n",
        "        for i, j, k in batch:\n",
        "            queries = queries + [i]\n",
        "            queries_pos = queries_pos + [list(range(self.text_len))]\n",
        "            temp_labels.append(k)\n",
        "            evidences.extend(k + j)\n",
        "\n",
        "        evidences = list(set(evidences))\n",
        "\n",
        "        evidences2idx = {evid: i for i, evid in enumerate(evidences)}\n",
        "        labels = [[evidences2idx[evid] for evid in pos_evidences] for pos_evidences in temp_labels]\n",
        "\n",
        "        evidences = [self.evidence_data[i] for i in evidences]\n",
        "        evidences_pos = [list(range(self.evidence_len)) for _ in range(len(evidences))]\n",
        "\n",
        "\n",
        "        batch_encoding = {\n",
        "            \"queries\": torch.LongTensor(queries),\n",
        "            \"evidences\": torch.LongTensor(evidences),\n",
        "            \"queries_pos\": torch.LongTensor(queries_pos),\n",
        "            \"evidences_pos\": torch.LongTensor(evidences_pos),\n",
        "            \"labels\": labels\n",
        "        }\n",
        "\n",
        "        return batch_encoding"
      ]
    },
    {
      "cell_type": "code",
      "execution_count": 40,
      "metadata": {
        "id": "hgO5_1FPhYTF"
      },
      "outputs": [],
      "source": [
        "train_set = TrainDataset(train_input, evidences_input, train_sort_evidences, train_claim_evidences, negative_num=10)\n",
        "dataloader = DataLoader(train_set, batch_size=5, shuffle=True, num_workers=0, collate_fn=train_set.collate_fn)"
      ]
    },
    {
      "cell_type": "markdown",
      "metadata": {
        "id": "1FA2ao2l8hOg"
      },
      "source": [
        "# 2. Model Implementation\n",
        "(You can add as many code blocks and text blocks as you need. However, YOU SHOULD NOT MODIFY the section title)"
      ]
    },
    {
      "cell_type": "code",
      "execution_count": 50,
      "metadata": {
        "id": "ufBUIwDIhYTG"
      },
      "outputs": [],
      "source": [
        "class Encoder(nn.Module):\n",
        "    def __init__(self, vocab_emb, embed_dim, hidden_size, num_layers, max_position=180, dropout=0.2):\n",
        "        super(Encoder, self).__init__()\n",
        "        self.hidden_size = hidden_size\n",
        "        self.embedding = nn.Embedding(vocab_emb, embed_dim)\n",
        "        self.pos_embedding = nn.Embedding(max_position, embed_dim)\n",
        "        self.encoder = nn.LSTM(embed_dim, hidden_size, num_layers=num_layers, batch_first=True, dropout=dropout, bidirectional=True)\n",
        "        self.dropout = nn.Dropout(p=dropout)\n",
        "\n",
        "    def forward(self, text_data, position_text):\n",
        "        text_x = self.embedding(text_data) + self.pos_embedding(position_text)\n",
        "        text_x = self.dropout(text_x)\n",
        "        x_encoded, _ = self.encoder(text_x)\n",
        "        x_encoded = self.dropout(x_encoded)\n",
        "        return x_encoded"
      ]
    },
    {
      "cell_type": "code",
      "execution_count": 51,
      "metadata": {
        "colab": {
          "base_uri": "https://localhost:8080/"
        },
        "id": "CbUbl-behYTG",
        "outputId": "6636c63c-68d7-4c34-d02b-5e71352421d6",
        "scrolled": true
      },
      "outputs": [
        {
          "data": {
            "text/plain": [
              "Encoder(\n",
              "  (embedding): Embedding(11792, 512)\n",
              "  (pos_embedding): Embedding(180, 512)\n",
              "  (encoder): LSTM(512, 512, num_layers=7, batch_first=True, dropout=0.2, bidirectional=True)\n",
              "  (dropout): Dropout(p=0.2, inplace=False)\n",
              ")"
            ]
          },
          "execution_count": 51,
          "metadata": {},
          "output_type": "execute_result"
        }
      ],
      "source": [
        "lstm_encoder = Encoder(vocab_emb=vocab_size, embed_dim=512, hidden_size=512, num_layers=6, max_position=180)\n",
        "lstm_encoder.cuda()"
      ]
    },
    {
      "cell_type": "markdown",
      "metadata": {
        "id": "YmbwzEeWhYTG"
      },
      "source": [
        "### Training"
      ]
    },
    {
      "cell_type": "code",
      "execution_count": 52,
      "metadata": {
        "id": "BjbW3QXThYTG",
        "scrolled": true
      },
      "outputs": [],
      "source": [
        "torch.manual_seed(41)\n",
        "torch.cuda.manual_seed_all(41)\n",
        "random.seed(41)\n",
        "\n",
        "weight_decay = 1e-4\n",
        "encoder_optimizer = optim.Adam(lstm_encoder.parameters(), weight_decay=weight_decay)\n",
        "scheduler = torch.optim.lr_scheduler.ReduceLROnPlateau(encoder_optimizer, mode='min', factor=0.1, patience=10, verbose=True, threshold=0.0001, threshold_mode='rel', cooldown=0, min_lr=1e-8, eps=1e-08)\n",
        "\n",
        "max_lr = 1e-5\n",
        "for param_group in encoder_optimizer.param_groups:\n",
        "    param_group['lr'] = max_lr\n",
        "\n",
        "accumulate_step = 3\n",
        "grad_norm = 0.5\n",
        "warmup_steps = 500\n",
        "report_freq = 10\n",
        "eval_interval = 50\n",
        "save_dir = \"model_ckpts\""
      ]
    },
    {
      "cell_type": "code",
      "execution_count": 53,
      "metadata": {
        "id": "csm7PhMutAA4"
      },
      "outputs": [],
      "source": [
        "def cal_fscore(evidence_correct, label, pred_evidences):\n",
        "    if evidence_correct > 0:\n",
        "        evidence_recall = float(evidence_correct) / len(label)\n",
        "        evidence_precision = float(evidence_correct) / len(pred_evidences)\n",
        "        evidence_fscore = (2 * evidence_precision * evidence_recall) / (evidence_precision + evidence_recall)\n",
        "        print(evidence_fscore)\n",
        "    else:\n",
        "        evidence_fscore = 0\n",
        "    return evidence_fscore"
      ]
    },
    {
      "cell_type": "code",
      "execution_count": 54,
      "metadata": {
        "id": "SAS3OoQ5hYTH"
      },
      "outputs": [],
      "source": [
        "retrieval_num = 5\n",
        "dev_candis_num = 10\n",
        "\n",
        "def validate(dev_text_idx, evidence_text_idx, dev_sort_evidences, dev_claim_evidences, encoder_model):\n",
        "    # get evidence embeddings\n",
        "\n",
        "    encoder_model.eval()\n",
        "    start_idx = 0\n",
        "    batch_size = 900\n",
        "    evidence_embeddings = get_embeddings(evidence_text_idx, encoder_model, batch_size)\n",
        "\n",
        "    text_len = len(dev_text_idx[0])\n",
        "\n",
        "    f_scores = []\n",
        "\n",
        "    while start_idx < len(dev_text_idx):\n",
        "        end_idx = min(start_idx + batch_size, len(dev_text_idx))\n",
        "\n",
        "        cur_query = torch.LongTensor(dev_text_idx[start_idx:end_idx]).view(-1, text_len).cuda()\n",
        "        cur_query_pos = torch.LongTensor([list(range(text_len)) for _ in range(end_idx - start_idx)]).cuda()\n",
        "\n",
        "        query_embedding = encoder_model(cur_query, cur_query_pos)\n",
        "        query_embedding = query_embedding[:, -1, :].detach()\n",
        "        query_embedding = F.normalize(query_embedding, p=2, dim=1).cpu()\n",
        "\n",
        "        scores = torch.mm(query_embedding, evidence_embeddings)\n",
        "\n",
        "        for i in range(scores.size(0)):\n",
        "            new_score = torch.index_select(scores[i], 0, torch.LongTensor(dev_sort_evidences[start_idx+i][:dev_candis_num]))\n",
        "            topk_ids = torch.argsort(new_score).tolist()\n",
        "            select_ids = topk_ids[:retrieval_num]\n",
        "\n",
        "            evidence_correct = 0\n",
        "            pred_evidences = [dev_sort_evidences[start_idx+i][j] for j in select_ids]\n",
        "            label = dev_claim_evidences[start_idx+i]\n",
        "            for evidence_id in label:\n",
        "                if evidence_id in pred_evidences:\n",
        "                    evidence_correct += 1\n",
        "            evidence_fscore = cal_fscore(evidence_correct, label, pred_evidences)\n",
        "            f_scores = f_scores + [evidence_fscore]\n",
        "\n",
        "        start_idx = end_idx\n",
        "\n",
        "    fscore = np.mean(f_scores)\n",
        "    encoder_model.train()\n",
        "    print(\"\\n\\nEvidence Retrieval F-score: %.3f\\n\\n\" % fscore)\n",
        "    return fscore\n",
        "\n",
        "def get_embeddings(text_indices, encoder_model, batch_size=900):\n",
        "    embeddings = []\n",
        "    text_len = len(text_indices[0])\n",
        "\n",
        "    for start_idx in range(0, len(text_indices), batch_size):\n",
        "        end_idx = min(start_idx + batch_size, len(text_indices))\n",
        "        cur_query = torch.LongTensor(text_indices[start_idx:end_idx]).view(-1, text_len).cuda()\n",
        "        cur_query_pos = torch.LongTensor([list(range(text_len)) for _ in range(end_idx - start_idx)]).cuda()\n",
        "\n",
        "        query_embedding = encoder_model(cur_query, cur_query_pos)\n",
        "        query_embedding = query_embedding[:, -1, :].detach().cpu()\n",
        "        embeddings.append(query_embedding)\n",
        "\n",
        "    return torch.cat(embeddings, dim=0).t()\n"
      ]
    },
    {
      "cell_type": "code",
      "execution_count": null,
      "metadata": {},
      "outputs": [],
      "source": [
        "%env WANDB_NOTEBOOK_NAME Mon5PMGroup7_COMP90042_Project_2024_Test.ipynb"
      ]
    },
    {
      "cell_type": "code",
      "execution_count": null,
      "metadata": {},
      "outputs": [],
      "source": [
        "import subprocess\n",
        "\n",
        "def run_command(command):\n",
        "    result = subprocess.run(command, shell=True, text=True, capture_output=True)\n",
        "    if result.returncode != 0:\n",
        "        print(f\"Command failed: {command}\\n{result.stderr}\")\n",
        "    else:\n",
        "        print(f\"Command succeeded: {command}\\n{result.stdout}\")\n",
        "    return result\n",
        "\n",
        "required_packages = [\"wandb\"]\n",
        "run_command(f\"pip install {' '.join(required_packages)}\")"
      ]
    },
    {
      "cell_type": "code",
      "execution_count": 55,
      "metadata": {
        "colab": {
          "base_uri": "https://localhost:8080/",
          "height": 228
        },
        "id": "P7euW_2thYTL",
        "outputId": "057bfd6b-6883-43b1-f0f3-8efad94c971e"
      },
      "outputs": [
        {
          "name": "stderr",
          "output_type": "stream",
          "text": [
            "  3%|▎         | 7/246 [00:03<02:13,  1.79it/s]\n"
          ]
        },
        {
          "ename": "KeyboardInterrupt",
          "evalue": "",
          "output_type": "error",
          "traceback": [
            "\u001b[0;31m---------------------------------------------------------------------------\u001b[0m",
            "\u001b[0;31mKeyboardInterrupt\u001b[0m                         Traceback (most recent call last)",
            "\u001b[0;32m<ipython-input-55-17791c256e35>\u001b[0m in \u001b[0;36m<cell line: 9>\u001b[0;34m()\u001b[0m\n\u001b[1;32m     46\u001b[0m         \u001b[0mloss\u001b[0m\u001b[0;34m.\u001b[0m\u001b[0mbackward\u001b[0m\u001b[0;34m(\u001b[0m\u001b[0;34m)\u001b[0m\u001b[0;34m\u001b[0m\u001b[0;34m\u001b[0m\u001b[0m\n\u001b[1;32m     47\u001b[0m \u001b[0;34m\u001b[0m\u001b[0m\n\u001b[0;32m---> 48\u001b[0;31m         \u001b[0mavg_loss\u001b[0m \u001b[0;34m+=\u001b[0m \u001b[0mloss\u001b[0m\u001b[0;34m.\u001b[0m\u001b[0mitem\u001b[0m\u001b[0;34m(\u001b[0m\u001b[0;34m)\u001b[0m\u001b[0;34m\u001b[0m\u001b[0;34m\u001b[0m\u001b[0m\n\u001b[0m\u001b[1;32m     49\u001b[0m \u001b[0;34m\u001b[0m\u001b[0m\n\u001b[1;32m     50\u001b[0m         \u001b[0mstep_cnt\u001b[0m \u001b[0;34m+=\u001b[0m \u001b[0;36m1\u001b[0m\u001b[0;34m\u001b[0m\u001b[0;34m\u001b[0m\u001b[0m\n",
            "\u001b[0;31mKeyboardInterrupt\u001b[0m: "
          ]
        }
      ],
      "source": [
        "# start training\n",
        "import wandb\n",
        "import os\n",
        "\n",
        "wandb.init(project=\"nlp\", name=\"dpr\")\n",
        "\n",
        "from tqdm import tqdm\n",
        "\n",
        "encoder_optimizer.zero_grad()\n",
        "step_cnt, all_step_cnt, avg_loss, maximum_f_score = 0, 0, 0, 0\n",
        "n_epochs = 5\n",
        "for epoch in range(n_epochs):\n",
        "    epoch_step = 0\n",
        "\n",
        "    for (i, batch) in enumerate(tqdm(dataloader)):\n",
        "\n",
        "        query_embeddings = lstm_encoder(batch[\"queries\"].cuda(), batch[\"queries_pos\"].cuda())\n",
        "        evidence_embeddings = lstm_encoder(batch[\"evidences\"].cuda(), batch[\"evidences_pos\"].cuda())\n",
        "\n",
        "        query_embeddings = query_embeddings[:, -1, :]\n",
        "        evidence_embeddings = evidence_embeddings[:, -1, :]\n",
        "\n",
        "        assert query_embeddings.size(1) == evidence_embeddings.size(1), \"Embedding dimensions do not match!\"\n",
        "\n",
        "        query_embeddings = torch.nn.functional.normalize(query_embeddings, p=2, dim=1)\n",
        "        evidence_embeddings = torch.nn.functional.normalize(evidence_embeddings, p=2, dim=1)\n",
        "\n",
        "        cos_sims = torch.mm(query_embeddings, evidence_embeddings.t())\n",
        "        scores = cos_sims / 0.1\n",
        "        loss = []\n",
        "        start_idx = 0\n",
        "        criterion = torch.nn.CrossEntropyLoss()\n",
        "        for idx, labels in enumerate(batch[\"labels\"]):\n",
        "            labels = torch.LongTensor(labels).cuda()\n",
        "            cur_loss = criterion(scores[idx].unsqueeze(0).repeat(len(labels), 1), labels)\n",
        "        loss = loss + [cur_loss]\n",
        "        loss = torch.stack(loss).mean()\n",
        "\n",
        "        # cos_sims = torch.mm(query_embeddings, evidence_embeddings.t())\n",
        "        # scores = - torch.nn.functional.log_softmax(cos_sims / 0.1 + 1e-10, dim=1)\n",
        "        # loss = []\n",
        "        # start_idx = 0\n",
        "        # for idx, label in enumerate(batch[\"labels\"]):\n",
        "        #     label = torch.LongTensor(label).cuda()\n",
        "        #     cur_loss = torch.mean(torch.index_select(scores[idx], 0, label))\n",
        "        #     loss.append(cur_loss)\n",
        "        # loss = torch.stack(loss).mean()\n",
        "        \n",
        "        loss = loss / accumulate_step\n",
        "        loss.backward()\n",
        "\n",
        "        avg_loss += loss.item()\n",
        "\n",
        "        step_cnt += 1\n",
        "        if step_cnt == accumulate_step:\n",
        "            # updating\n",
        "            if grad_norm > 0:\n",
        "                nn.utils.clip_grad_norm_(lstm_encoder.parameters(), grad_norm)\n",
        "\n",
        "            step_cnt = 0\n",
        "            epoch_step += 1\n",
        "            all_step_cnt += 1\n",
        "\n",
        "            # adjust learning rate\n",
        "            if all_step_cnt <= warmup_steps:\n",
        "                lr = all_step_cnt * (max_lr - 2e-8) / warmup_steps + 2e-8\n",
        "            else:\n",
        "                lr = max_lr - (all_step_cnt - warmup_steps) * 1e-5\n",
        "\n",
        "            encoder_optimizer.step()\n",
        "            encoder_optimizer.zero_grad()\n",
        "\n",
        "        if all_step_cnt % report_freq == 0 and step_cnt == 0:\n",
        "            if all_step_cnt <= warmup_steps:\n",
        "                lr = all_step_cnt * (max_lr - 2e-8) / warmup_steps + 2e-8\n",
        "            else:\n",
        "                lr = max_lr - (all_step_cnt - warmup_steps) * 1e-5\n",
        "\n",
        "            wandb.log({\"learning_rate\": lr}, step=all_step_cnt)\n",
        "            wandb.log({\"loss\": avg_loss / report_freq}, step=all_step_cnt)\n",
        "            \n",
        "            # report stats\n",
        "            print(\"\\n\")\n",
        "            print(\"epoch: %d, epoch_step: %d, avg loss: %.6f\" % (epoch + 1, epoch_step, avg_loss / report_freq))\n",
        "            print(f\"learning rate: {lr:.6f}\")\n",
        "            print(\"\\n\")\n",
        "            avg_loss = 0\n",
        "        del loss, cos_sims, query_embeddings, evidence_embeddings\n",
        "\n",
        "        if all_step_cnt % eval_interval == 0 and all_step_cnt != 0 and step_cnt == 0:\n",
        "            # evaluate the model as a scorer\n",
        "            print(\"\\nEvaluate:\\n\")\n",
        "\n",
        "            f_score = validate(dev_input, evidences_input, dev_sort_evidences, dev_claim_evidences, lstm_encoder)\n",
        "            wandb.log({\"f_score\": f_score}, step=all_step_cnt)\n",
        "            \n",
        "            if f_score > maximum_f_score:\n",
        "                maximum_f_score = f_score\n",
        "                os.makedirs(save_dir, exist_ok=True)\n",
        "                torch.save(lstm_encoder.state_dict(), os.path.join(os.path.abspath(save_dir), \"best_ckpt.bin\"))\n",
        "                print()\n",
        "                print()\n",
        "                print(\"best val loss - epoch: %d, epoch_step: %d\" % (epoch, epoch_step))\n",
        "                print(\"maximum_f_score\", f_score, \"\\n\\n\")"
      ]
    },
    {
      "cell_type": "code",
      "execution_count": 61,
      "metadata": {
        "id": "P4tH0OoAhYTM"
      },
      "outputs": [],
      "source": [
        "torch.cuda.empty_cache()"
      ]
    },
    {
      "cell_type": "markdown",
      "metadata": {
        "id": "EzGuzHPE87Ya"
      },
      "source": [
        "# 3.Testing and Evaluation\n",
        "(You can add as many code blocks and text blocks as you need. However, YOU SHOULD NOT MODIFY the section title)"
      ]
    },
    {
      "cell_type": "code",
      "execution_count": 63,
      "metadata": {
        "colab": {
          "base_uri": "https://localhost:8080/"
        },
        "id": "vS0YxgEuhYTN",
        "outputId": "bb9387ce-9fa0-4f0f-d232-d4ad1da112b9"
      },
      "outputs": [
        {
          "data": {
            "text/plain": [
              "Encoder(\n",
              "  (embedding): Embedding(11792, 512)\n",
              "  (pos_embedding): Embedding(180, 512)\n",
              "  (encoder): LSTM(512, 512, num_layers=7, batch_first=True, dropout=0.2, bidirectional=True)\n",
              "  (dropout): Dropout(p=0.2, inplace=False)\n",
              ")"
            ]
          },
          "execution_count": 63,
          "metadata": {},
          "output_type": "execute_result"
        }
      ],
      "source": [
        "lstm_encoder.load_state_dict(torch.load(os.path.join(save_dir, \"best_ckpt.bin\")))\n",
        "lstm_encoder.cuda().eval()"
      ]
    },
    {
      "cell_type": "code",
      "execution_count": 64,
      "metadata": {
        "id": "c0X6Q2aUhYTN"
      },
      "outputs": [],
      "source": [
        "evidence_embeddings = []\n",
        "start_idx = 0\n",
        "batch_size = 900\n",
        "evidence_len = len(evidences_input[0])\n",
        "\n",
        "while start_idx < len(evidences_input):\n",
        "    end_idx = min(start_idx + batch_size, len(evidences_input))\n",
        "\n",
        "    cur_evidence = torch.LongTensor(evidences_input[start_idx:end_idx]).view(-1, evidence_len).cuda()\n",
        "    cur_evidence_pos = torch.LongTensor([list(range(evidence_len)) for _ in range(end_idx - start_idx)]).cuda()\n",
        "    start_idx = end_idx\n",
        "\n",
        "    cur_embedding = lstm_encoder(cur_evidence, cur_evidence_pos)\n",
        "    cur_embedding = cur_embedding[:, -1, :].detach()\n",
        "    cur_embedding_cpu = F.normalize(cur_embedding, p=2, dim=1).cpu()  # for cosine similarity\n",
        "    evidence_embeddings = evidence_embeddings + [cur_embedding_cpu]\n",
        "\n",
        "    del cur_embedding, cur_evidence, cur_evidence_pos\n",
        "\n",
        "evidence_embeddings = torch.cat(evidence_embeddings, dim=0).t()\n"
      ]
    },
    {
      "cell_type": "code",
      "execution_count": 65,
      "metadata": {
        "id": "NGXYpUNvhYTN"
      },
      "outputs": [],
      "source": [
        "torch.cuda.empty_cache()"
      ]
    },
    {
      "cell_type": "code",
      "execution_count": 66,
      "metadata": {
        "id": "XUHbeVmXhYTN"
      },
      "outputs": [],
      "source": [
        "def validate_(dev_text_idx, evidence_embeddings, dev_sort_evidences, dev_claim_evidences, encoder_model):\n",
        "    # get evidence embeddings\n",
        "    encoder_model.eval()\n",
        "\n",
        "    text_len = len(dev_text_idx[0])\n",
        "    f = []\n",
        "\n",
        "    start_idx = 0\n",
        "\n",
        "    while start_idx < len(dev_text_idx):\n",
        "        end_idx = min(start_idx + 200, len(dev_text_idx))\n",
        "\n",
        "        cur_query = torch.LongTensor(dev_text_idx[start_idx:end_idx]).view(-1, text_len).cuda()\n",
        "        cur_query_pos = torch.LongTensor([list(range(text_len)) for _ in range(end_idx - start_idx)]).cuda()\n",
        "\n",
        "        query_embedding = encoder_model(cur_query, cur_query_pos)\n",
        "        query_embedding = query_embedding[:, -1, :].detach()\n",
        "        query_embedding = F.normalize(query_embedding, p=2, dim=1).cpu()\n",
        "\n",
        "        scores = torch.mm(query_embedding, evidence_embeddings)\n",
        "\n",
        "        for i in range(scores.size(0)):\n",
        "            new_score = torch.index_select(scores[i], 0, torch.LongTensor(dev_sort_evidences[start_idx+i][:dev_candis_num]))\n",
        "            topk_ids = torch.argsort(new_score).tolist()\n",
        "            select_ids = topk_ids[:retrieval_num]\n",
        "\n",
        "            evidence_correct = 0\n",
        "            pred_evidences = [dev_sort_evidences[start_idx+i][j] for j in select_ids]\n",
        "\n",
        "            label = dev_claim_evidences[start_idx+i]\n",
        "\n",
        "            for evidence_id in label:\n",
        "                if evidence_id in pred_evidences:\n",
        "                    evidence_correct += 1\n",
        "            evidence_fscore = cal_fscore(evidence_correct, label, pred_evidences)\n",
        "            f.append(evidence_fscore)\n",
        "\n",
        "        start_idx = end_idx\n",
        "        \n",
        "    fscore = np.mean(f)\n",
        "    print(\"\\n\\nEvidence Retrieval F-score: %.3f\\n\\n\" % fscore)\n",
        "    return fscore"
      ]
    },
    {
      "cell_type": "code",
      "execution_count": 67,
      "metadata": {
        "colab": {
          "base_uri": "https://localhost:8080/"
        },
        "id": "Em1EG8V_hYTO",
        "outputId": "c4eac0bc-33d0-4fa8-a0de-04ea8d15dd13",
        "scrolled": true
      },
      "outputs": [
        {
          "name": "stdout",
          "output_type": "stream",
          "text": [
            "0.33333333333333337\n",
            "0.25\n",
            "0.20000000000000004\n",
            "0.4000000000000001\n",
            "0.20000000000000004\n",
            "0.28571428571428575\n",
            "0.25\n",
            "0.33333333333333337\n",
            "0.28571428571428575\n",
            "0.22222222222222224\n",
            "0.33333333333333337\n",
            "0.25\n",
            "0.33333333333333337\n",
            "0.28571428571428575\n",
            "0.28571428571428575\n",
            "0.28571428571428575\n",
            "0.4000000000000001\n",
            "0.5714285714285715\n",
            "0.28571428571428575\n",
            "0.33333333333333337\n",
            "0.33333333333333337\n",
            "0.33333333333333337\n",
            "0.6\n",
            "0.25\n",
            "0.25\n",
            "0.33333333333333337\n",
            "0.20000000000000004\n",
            "0.33333333333333337\n",
            "0.4000000000000001\n",
            "0.25\n",
            "0.20000000000000004\n",
            "0.22222222222222224\n",
            "0.25\n",
            "0.33333333333333337\n",
            "0.28571428571428575\n",
            "0.33333333333333337\n",
            "0.33333333333333337\n",
            "0.25\n",
            "0.4000000000000001\n",
            "0.28571428571428575\n",
            "0.4000000000000001\n",
            "0.20000000000000004\n",
            "0.33333333333333337\n",
            "0.28571428571428575\n",
            "\n",
            "\n",
            "Evidence Retrieval F-score: 0.088\n",
            "\n",
            "\n",
            "0.08779633065347352\n"
          ]
        }
      ],
      "source": [
        "fscore = validate_(dev_input, evidence_embeddings, dev_sort_evidences, dev_claim_evidences, lstm_encoder)\n",
        "print(fscore)"
      ]
    },
    {
      "cell_type": "code",
      "execution_count": 68,
      "metadata": {
        "id": "6ZVeNYIH9IaL"
      },
      "outputs": [],
      "source": [
        "def evidence_predicts(dev_text_idx, evidences_embeddings, dev_sort_evidences, cleaned_evidence_id, encoder_model):\n",
        "    # get evidence embeddings\n",
        "    text_len = len(dev_text_idx[0])\n",
        "    encoder_model.eval()\n",
        "\n",
        "    start_idx = 0\n",
        "    preds = []\n",
        "    while start_idx < len(dev_text_idx):\n",
        "        end_idx = min(start_idx + 200, len(dev_text_idx))\n",
        "\n",
        "        cur_query = torch.LongTensor(dev_text_idx[start_idx:end_idx]).view(-1, text_len).cuda()\n",
        "        cur_query_pos = torch.LongTensor([list(range(text_len)) for _ in range(end_idx - start_idx)]).cuda()\n",
        "\n",
        "        query_embedding = encoder_model(cur_query, cur_query_pos)\n",
        "        query_embedding = query_embedding[:, -1, :].detach()\n",
        "        query_embedding = F.normalize(query_embedding, p=2, dim=1).cpu()\n",
        "\n",
        "        scores = torch.mm(query_embedding, evidences_embeddings)\n",
        "\n",
        "        for i in range(scores.size(0)):\n",
        "            new_score = torch.index_select(scores[i], 0, torch.LongTensor(dev_sort_evidences[start_idx+i][:dev_candis_num]))\n",
        "            topk_ids = torch.argsort(new_score).tolist()\n",
        "\n",
        "            pred_evidences = [cleaned_evidence_id[dev_sort_evidences[start_idx+i][j]] for j in topk_ids[:retrieval_num]]\n",
        "            preds.append(pred_evidences)\n",
        "\n",
        "        start_idx = end_idx\n",
        "    return preds"
      ]
    },
    {
      "cell_type": "code",
      "execution_count": 69,
      "metadata": {
        "id": "4ImDGI4uhYTO"
      },
      "outputs": [],
      "source": [
        "pred_dev_claims = dict()\n",
        "pred_test_claims = dict()\n",
        "dev_evidences_ids = evidence_predicts(dev_input, evidence_embeddings, dev_sort_evidences, cleaned_evidence_id, lstm_encoder)\n",
        "test_evidences_ids = evidence_predicts(test_input, evidence_embeddings, test_sort_evidences, cleaned_evidence_id, lstm_encoder)\n",
        "with open(\"data/dev-claims.json\", \"r\") as f:\n",
        "    dev_claims = json.load(f)\n",
        "with open(\"data/test-claims-unlabelled.json\", \"r\") as f:\n",
        "    test_claims = json.load(f)\n",
        "\n",
        "for idx, evidence_ids in enumerate(dev_evidences_ids):\n",
        "    pred_dev_claims[dev_claim_id[idx]] = dev_claims[dev_claim_id[idx]]\n",
        "    pred_dev_claims[dev_claim_id[idx]]['evidences'] = evidence_ids\n",
        "\n",
        "\n",
        "for idx, evidence_ids in enumerate(test_evidences_ids):\n",
        "    pred_test_claims[test_claim_id[idx]] = test_claims[test_claim_id[idx]]\n",
        "    pred_test_claims[test_claim_id[idx]]['evidences'] = evidence_ids\n"
      ]
    },
    {
      "cell_type": "code",
      "execution_count": 70,
      "metadata": {
        "id": "uj99wgishYTO"
      },
      "outputs": [],
      "source": [
        "with open(\"data/dev_predict.json\", \"w\") as f:\n",
        "    json.dump(pred_dev_claims, f)\n",
        "with open(\"data/test-claims-unlabelled.json\", \"w\") as f:\n",
        "    json.dump(pred_test_claims, f)"
      ]
    },
    {
      "cell_type": "code",
      "execution_count": 71,
      "metadata": {
        "id": "J-5D7YzWhYTP"
      },
      "outputs": [],
      "source": [
        "train_evidences_ids = evidence_predicts(train_input, evidence_embeddings, train_sort_evidences, cleaned_evidence_id, lstm_encoder)\n",
        "\n",
        "pred_train_negative_evidences = []\n",
        "for idx, evidence_ids in enumerate(train_evidences_ids):\n",
        "    temp_ = []\n",
        "    for i in evidence_ids:\n",
        "        if evidences_id_dict[i] not in train_claim_evidences[idx]:\n",
        "            temp_ = temp_ + [evidences_id_dict[i]]\n",
        "    pred_train_negative_evidences.append(temp_)"
      ]
    },
    {
      "cell_type": "code",
      "execution_count": 72,
      "metadata": {
        "id": "KRr92z0rhYTP"
      },
      "outputs": [],
      "source": [
        "## save prediction data\n",
        "with open(\"pred_train_negative_evidences.json\", \"w\") as f:\n",
        "    json.dump(pred_train_negative_evidences, f)"
      ]
    },
    {
      "cell_type": "code",
      "execution_count": 73,
      "metadata": {
        "id": "xyRBKPHMhYTP"
      },
      "outputs": [],
      "source": [
        "## save cls data\n",
        "\n",
        "dev_cls_data = []\n",
        "test_cls_data = []\n",
        "all_max_len = 580\n",
        "\n",
        "for idx, dev_text in enumerate(dev_text_idx):\n",
        "    cur_data = {\"label\": dev_claim_label[idx]}\n",
        "    temp_text = [wordidx[\"<cls>\"]] + dev_text_idx[idx][:60]\n",
        "    for i in dev_evidences_ids[idx]:\n",
        "        temp_text = temp_text + [wordidx[\"<sep>\"]] + evidences_text_idx[evidences_id_dict[i]][:100]\n",
        "    temp_text.append(wordidx[\"<sep>\"])\n",
        "    if len(temp_text) < all_max_len:\n",
        "        temp_text = temp_text + [wordidx[\"<pad>\"]] * (all_max_len - len(temp_text))\n",
        "    cur_data['text'] = temp_text\n",
        "    dev_cls_data.append(cur_data)\n",
        "\n",
        "for idx, dev_text in enumerate(test_text_idx):\n",
        "    cur_data = {}\n",
        "    temp_text = [wordidx[\"<cls>\"]] + test_text_idx[idx][:60]\n",
        "    for i in test_evidences_ids[idx]:\n",
        "        temp_text = temp_text + [wordidx[\"<sep>\"]] + evidences_text_idx[evidences_id_dict[i]][:100]\n",
        "    temp_text.append(wordidx[\"<sep>\"])\n",
        "    if len(temp_text) < all_max_len:\n",
        "        temp_text = temp_text + [wordidx[\"<pad>\"]] * (all_max_len - len(temp_text))\n",
        "    cur_data['text'] = temp_text\n",
        "    test_cls_data.append(cur_data)\n",
        "with open(\"dev_cls_data.json\", \"w\") as f:\n",
        "    json.dump(dev_cls_data, f)\n",
        "with open(\"test_cls_data.json\", \"w\") as f:\n",
        "    json.dump(test_cls_data, f)"
      ]
    },
    {
      "cell_type": "markdown",
      "metadata": {
        "id": "M5o1MDvvhYTP"
      },
      "source": [
        "Task2"
      ]
    },
    {
      "cell_type": "markdown",
      "metadata": {
        "id": "z7rcckpOhYTP"
      },
      "source": [
        "Preprocessing"
      ]
    },
    {
      "cell_type": "code",
      "execution_count": 74,
      "metadata": {
        "id": "TYmE_e2dhYTQ"
      },
      "outputs": [],
      "source": [
        "import json\n",
        "\n",
        "with open(\"dev_cls_data.json\", \"r\") as f:\n",
        "    dev_cls_data = json.load(f)\n",
        "with open(\"test_cls_data.json\", \"r\") as f:\n",
        "    test_cls_data = json.load(f)\n",
        "with open(\"pred_train_negative_evidences.json\", \"r\") as f:\n",
        "    train_negative_evidences = json.load(f)\n",
        "\n",
        "id2labels = [\"SUPPORTS\", \"NOT_ENOUGH_INFO\", \"REFUTES\", \"DISPUTED\"]\n",
        "labels2id = {\"SUPPORTS\": 0, \"NOT_ENOUGH_INFO\": 1, \"REFUTES\": 2, \"DISPUTED\": 3}"
      ]
    },
    {
      "cell_type": "code",
      "execution_count": 85,
      "metadata": {
        "id": "Qn6cP3kKhYTQ"
      },
      "outputs": [],
      "source": [
        "text_max_len = 60\n",
        "evidence_max_len = 100\n",
        "all_max_len = 580\n",
        "retrieval_num = 5\n",
        "\n",
        "class TrainDataset(Dataset):\n",
        "    def __init__(self, text_data, evidence_data, positive_evidences, negative_evidences, cls_label, cls_idx, sep_idx, pad_idx, evidence_num=5):\n",
        "        self.text_data = text_data\n",
        "        self.evidence_data = evidence_data\n",
        "        self.negative_evidences = negative_evidences\n",
        "        self.evidence_num = evidence_num\n",
        "        self.positive_evidences = positive_evidences\n",
        "        self.cls_idx = cls_idx\n",
        "        self.sep_idx = sep_idx\n",
        "        self.pad_idx = pad_idx\n",
        "\n",
        "        self.cls_label = [labels2id[i] for i in cls_label]\n",
        "\n",
        "    def __len__(self):\n",
        "        return len(self.text_data)\n",
        "\n",
        "    def __getitem__(self, idx):\n",
        "        positive_evidences = self.positive_evidences[idx]\n",
        "        negative_evidences = self.negative_evidences[idx]\n",
        "        cls_label = self.cls_label[idx]\n",
        "        return [self.text_data[idx][:text_max_len], positive_evidences, negative_evidences, self.cls_label[idx]]\n",
        "\n",
        "    def collate_fn(self, batch):\n",
        "        queries, queries_pos, labels = [], [], []\n",
        "\n",
        "        for i, j, h, k in batch:\n",
        "            l = len(j)\n",
        "            temp_text = [self.cls_idx]\n",
        "            temp_text = temp_text + i\n",
        "            for p in j:\n",
        "                temp_text = temp_text + [self.sep_idx]\n",
        "                temp_text = temp_text + self.evidence_data[p][:evidence_max_len]\n",
        "            if self.evidence_num > l:\n",
        "                n = random.sample(h, self.evidence_num - l)\n",
        "                for p in n:\n",
        "                    temp_text = temp_text + [self.sep_idx]\n",
        "                    temp_text = temp_text + self.evidence_data[p][:evidence_max_len]\n",
        "            temp_text = temp_text + [self.sep_idx]\n",
        "            if len(temp_text) < all_max_len:\n",
        "                temp_text = temp_text + [self.pad_idx] * (all_max_len - len(temp_text))\n",
        "\n",
        "            queries = queries + [temp_text]\n",
        "            queries_pos = queries_pos + [list(range(all_max_len))]\n",
        "            labels = labels + [k]\n",
        "\n",
        "        batch_encoding = {\"queries\": torch.LongTensor(queries),\n",
        "                          \"queries_pos\": torch.LongTensor(queries_pos),\n",
        "                          \"labels\": torch.LongTensor(labels)}\n",
        "\n",
        "        return batch_encoding"
      ]
    },
    {
      "cell_type": "code",
      "execution_count": 86,
      "metadata": {
        "id": "MVTOzk2vhYTQ"
      },
      "outputs": [],
      "source": [
        "labels = [i[\"label\"] for i in dev_cls_data]\n",
        "dev_outputs = [labels2id[i] for i in labels]\n",
        "dev_inputs = [i['text'] for i in dev_cls_data]\n",
        "test_inputs = [i['text'] for i in test_cls_data]"
      ]
    },
    {
      "cell_type": "code",
      "execution_count": 87,
      "metadata": {
        "id": "iEuf_jRwhYTQ"
      },
      "outputs": [],
      "source": [
        "train_set = TrainDataset(train_text_idx, evidences_text_idx, train_claim_evidences, train_negative_evidences, train_claim_label, wordidx[\"<cls>\"], wordidx[\"<sep>\"], wordidx[\"<pad>\"], evidence_num=retrieval_num)\n",
        "dataloader = DataLoader(train_set, batch_size=10, shuffle=True, num_workers=0, collate_fn=train_set.collate_fn)"
      ]
    },
    {
      "cell_type": "code",
      "execution_count": 88,
      "metadata": {
        "colab": {
          "base_uri": "https://localhost:8080/"
        },
        "id": "g7IVqXY7hYTQ",
        "outputId": "15ecfcc4-50d1-4efc-c017-7425a35803e6"
      },
      "outputs": [
        {
          "name": "stdout",
          "output_type": "stream",
          "text": [
            "Counter({'SUPPORTS': 519, 'NOT_ENOUGH_INFO': 386, 'REFUTES': 199, 'DISPUTED': 124})\n"
          ]
        }
      ],
      "source": [
        "print(Counter(train_claim_label))"
      ]
    },
    {
      "cell_type": "code",
      "execution_count": 89,
      "metadata": {
        "id": "CpiHMK58hYTQ"
      },
      "outputs": [],
      "source": [
        "class CLS(nn.Module):\n",
        "    def __init__(self, vocab_emb, embed_dim, hidden_size, output_size, num_layers, max_position=all_max_len):\n",
        "        super(CLS, self).__init__()\n",
        "\n",
        "        self.embedding = nn.Embedding(vocab_emb, embed_dim)\n",
        "        self.pos_embedding = nn.Embedding(max_position, embed_dim)\n",
        "\n",
        "        self.encoder = nn.LSTM(embed_dim, hidden_size, num_layers=num_layers, batch_first=True, bidirectional=True)\n",
        "        self.hidden_layer = nn.Linear(hidden_size * 2, hidden_size)\n",
        "        self.cls = nn.Linear(hidden_size, output_size)\n",
        "        self.dropout = nn.Dropout(0.1)\n",
        "        self.hidden_size = hidden_size\n",
        "\n",
        "    def forward(self, text_data, position_text):\n",
        "        text_x = self.embedding(text_data) + self.pos_embedding(position_text) * 0.01\n",
        "        x_encoded,_ = self.encoder(text_x)\n",
        "        x_cls = x_encoded[:, 0, :]\n",
        "        x_hidden = F.tanh(self.hidden_layer(x_cls))\n",
        "        x_hidden = self.dropout(x_hidden)\n",
        "        cls_res = self.cls(x_hidden)\n",
        "        return cls_res\n"
      ]
    },
    {
      "cell_type": "code",
      "execution_count": 90,
      "metadata": {
        "id": "wYgQRFQnhYTR"
      },
      "outputs": [],
      "source": [
        "cls_model = CLS(vocab_emb=len(idxword), embed_dim=256, hidden_size=256, output_size=4, num_layers=7, max_position=700).cuda()"
      ]
    },
    {
      "cell_type": "code",
      "execution_count": 91,
      "metadata": {
        "id": "w7Q9satehYTR"
      },
      "outputs": [],
      "source": [
        "encoder_optimizer = optim.AdamW(cls_model.parameters())\n",
        "max_lr = 1e-2\n",
        "for param_group in encoder_optimizer.param_groups:\n",
        "    param_group['lr'] = max_lr\n",
        "warmup_steps = 300"
      ]
    },
    {
      "cell_type": "code",
      "execution_count": 92,
      "metadata": {
        "id": "trwLJX8QhYTR"
      },
      "outputs": [],
      "source": [
        "def validate(dev_input, dev_output, cls_model_):\n",
        "    # get evidence embeddings\n",
        "    start_idx = 0\n",
        "    cls_model.eval()\n",
        "    l = len(dev_output)\n",
        "    acc = []\n",
        "    correct_count = 0\n",
        "    while start_idx < l:\n",
        "        end_idx = min(start_idx + 50, l)\n",
        "\n",
        "        cur_input = torch.LongTensor(dev_input[start_idx:end_idx]).view(-1, len(dev_input[0])).cuda()\n",
        "        cur_pos = torch.LongTensor([list(range(len(dev_input[0]))) for _ in range(end_idx - start_idx)]).cuda()\n",
        "\n",
        "        cur_res = cls_model_(cur_input, cur_pos)\n",
        "        cur_res = torch.argmax(cur_res, 1)\n",
        "        cur_res = cur_res.tolist()\n",
        "\n",
        "        for i, j in zip(cur_res, dev_output[start_idx: end_idx]):\n",
        "            if i == j:\n",
        "                correct_count += 1\n",
        "\n",
        "        del cur_input, cur_pos\n",
        "        start_idx = end_idx\n",
        "    acc = correct_count / l\n",
        "    print(\"\\n\\nClassification Accuracy: %.3f\\n\\n\" % acc)\n",
        "    cls_model.train()\n",
        "    return acc"
      ]
    },
    {
      "cell_type": "code",
      "execution_count": 93,
      "metadata": {
        "colab": {
          "base_uri": "https://localhost:8080/"
        },
        "id": "JWzEnqABhYTR",
        "outputId": "e053eb57-53de-4d71-f60c-aab0faf89d1f"
      },
      "outputs": [
        {
          "name": "stdout",
          "output_type": "stream",
          "text": [
            "env: WANDB_NOTEBOOK_NAME=Mon5PMGroup7_COMP90042.ipynb\n"
          ]
        }
      ],
      "source": [
        "%env WANDB_NOTEBOOK_NAME Mon5PMGroup7_COMP90042_Project_2024_Test.ipynb"
      ]
    },
    {
      "cell_type": "code",
      "execution_count": 97,
      "metadata": {
        "colab": {
          "base_uri": "https://localhost:8080/",
          "height": 1000
        },
        "id": "EiNR7wR7hYTS",
        "outputId": "2d534bb8-2e1f-4706-b627-6473481ea708"
      },
      "outputs": [
        {
          "name": "stderr",
          "output_type": "stream",
          "text": [
            " 16%|█▋        | 20/123 [00:16<01:24,  1.21it/s]"
          ]
        },
        {
          "name": "stdout",
          "output_type": "stream",
          "text": [
            "\n",
            "\n",
            "epoch: 1, epoch_step: 10, avg loss: 1.410911\n",
            "learning rate: 0.000033\n",
            "\n",
            "\n"
          ]
        },
        {
          "name": "stderr",
          "output_type": "stream",
          "text": [
            " 33%|███▎      | 40/123 [00:32<01:06,  1.25it/s]"
          ]
        },
        {
          "name": "stdout",
          "output_type": "stream",
          "text": [
            "\n",
            "\n",
            "epoch: 1, epoch_step: 20, avg loss: 1.400776\n",
            "learning rate: 0.000067\n",
            "\n",
            "\n"
          ]
        },
        {
          "name": "stderr",
          "output_type": "stream",
          "text": [
            " 49%|████▉     | 60/123 [00:47<00:48,  1.29it/s]"
          ]
        },
        {
          "name": "stdout",
          "output_type": "stream",
          "text": [
            "\n",
            "\n",
            "epoch: 1, epoch_step: 30, avg loss: 1.377988\n",
            "learning rate: 0.000100\n",
            "\n",
            "\n"
          ]
        },
        {
          "name": "stderr",
          "output_type": "stream",
          "text": [
            " 65%|██████▌   | 80/123 [01:03<00:32,  1.32it/s]"
          ]
        },
        {
          "name": "stdout",
          "output_type": "stream",
          "text": [
            "\n",
            "\n",
            "epoch: 1, epoch_step: 40, avg loss: 1.403825\n",
            "learning rate: 0.000133\n",
            "\n",
            "\n"
          ]
        },
        {
          "name": "stderr",
          "output_type": "stream",
          "text": [
            " 80%|████████  | 99/123 [01:18<00:18,  1.30it/s]"
          ]
        },
        {
          "name": "stdout",
          "output_type": "stream",
          "text": [
            "\n",
            "\n",
            "epoch: 1, epoch_step: 50, avg loss: 1.378702\n",
            "learning rate: 0.000167\n",
            "\n",
            "\n",
            "\n",
            "Evaluate:\n",
            "\n",
            "\n",
            "\n",
            "Classification Accuracy: 0.312\n",
            "\n",
            "\n"
          ]
        },
        {
          "name": "stderr",
          "output_type": "stream",
          "text": [
            "\r 81%|████████▏ | 100/123 [01:22<00:39,  1.73s/it]"
          ]
        },
        {
          "name": "stdout",
          "output_type": "stream",
          "text": [
            "\n",
            "\n",
            "best val loss - epoch: 0, epoch_step: 50\n",
            "maximum_f_score 0.3116883116883117 \n",
            "\n",
            "\n"
          ]
        },
        {
          "name": "stderr",
          "output_type": "stream",
          "text": [
            " 98%|█████████▊| 120/123 [01:38<00:02,  1.15it/s]"
          ]
        },
        {
          "name": "stdout",
          "output_type": "stream",
          "text": [
            "\n",
            "\n",
            "epoch: 1, epoch_step: 60, avg loss: 1.397753\n",
            "learning rate: 0.000200\n",
            "\n",
            "\n"
          ]
        },
        {
          "name": "stderr",
          "output_type": "stream",
          "text": [
            "100%|██████████| 123/123 [01:40<00:00,  1.22it/s]\n",
            "  3%|▎         | 4/123 [00:04<02:25,  1.22s/it]\n"
          ]
        },
        {
          "ename": "KeyboardInterrupt",
          "evalue": "",
          "output_type": "error",
          "traceback": [
            "\u001b[0;31m---------------------------------------------------------------------------\u001b[0m",
            "\u001b[0;31mKeyboardInterrupt\u001b[0m                         Traceback (most recent call last)",
            "\u001b[0;32m<ipython-input-97-51cd4843333e>\u001b[0m in \u001b[0;36m<cell line: 6>\u001b[0;34m()\u001b[0m\n\u001b[1;32m     10\u001b[0m \u001b[0;34m\u001b[0m\u001b[0m\n\u001b[1;32m     11\u001b[0m         \u001b[0mstep_cnt\u001b[0m \u001b[0;34m+=\u001b[0m \u001b[0;36m1\u001b[0m\u001b[0;34m\u001b[0m\u001b[0;34m\u001b[0m\u001b[0m\n\u001b[0;32m---> 12\u001b[0;31m         \u001b[0mcur_res\u001b[0m \u001b[0;34m=\u001b[0m \u001b[0mcls_model\u001b[0m\u001b[0;34m(\u001b[0m\u001b[0mbatch\u001b[0m\u001b[0;34m[\u001b[0m\u001b[0;34m\"queries\"\u001b[0m\u001b[0;34m]\u001b[0m\u001b[0;34m.\u001b[0m\u001b[0mcuda\u001b[0m\u001b[0;34m(\u001b[0m\u001b[0;34m)\u001b[0m\u001b[0;34m,\u001b[0m \u001b[0mbatch\u001b[0m\u001b[0;34m[\u001b[0m\u001b[0;34m\"queries_pos\"\u001b[0m\u001b[0;34m]\u001b[0m\u001b[0;34m.\u001b[0m\u001b[0mcuda\u001b[0m\u001b[0;34m(\u001b[0m\u001b[0;34m)\u001b[0m\u001b[0;34m)\u001b[0m\u001b[0;34m\u001b[0m\u001b[0;34m\u001b[0m\u001b[0m\n\u001b[0m\u001b[1;32m     13\u001b[0m         \u001b[0mloss\u001b[0m \u001b[0;34m=\u001b[0m \u001b[0mce_fn\u001b[0m\u001b[0;34m(\u001b[0m\u001b[0mcur_res\u001b[0m\u001b[0;34m,\u001b[0m \u001b[0mbatch\u001b[0m\u001b[0;34m[\u001b[0m\u001b[0;34m\"labels\"\u001b[0m\u001b[0;34m]\u001b[0m\u001b[0;34m.\u001b[0m\u001b[0mcuda\u001b[0m\u001b[0;34m(\u001b[0m\u001b[0;34m)\u001b[0m\u001b[0;34m)\u001b[0m \u001b[0;34m/\u001b[0m \u001b[0;36m2\u001b[0m\u001b[0;34m\u001b[0m\u001b[0;34m\u001b[0m\u001b[0m\n\u001b[1;32m     14\u001b[0m         \u001b[0mloss\u001b[0m\u001b[0;34m.\u001b[0m\u001b[0mbackward\u001b[0m\u001b[0;34m(\u001b[0m\u001b[0;34m)\u001b[0m\u001b[0;34m\u001b[0m\u001b[0;34m\u001b[0m\u001b[0m\n",
            "\u001b[0;32m/usr/local/lib/python3.10/dist-packages/torch/nn/modules/module.py\u001b[0m in \u001b[0;36m_wrapped_call_impl\u001b[0;34m(self, *args, **kwargs)\u001b[0m\n\u001b[1;32m   1530\u001b[0m             \u001b[0;32mreturn\u001b[0m \u001b[0mself\u001b[0m\u001b[0;34m.\u001b[0m\u001b[0m_compiled_call_impl\u001b[0m\u001b[0;34m(\u001b[0m\u001b[0;34m*\u001b[0m\u001b[0margs\u001b[0m\u001b[0;34m,\u001b[0m \u001b[0;34m**\u001b[0m\u001b[0mkwargs\u001b[0m\u001b[0;34m)\u001b[0m  \u001b[0;31m# type: ignore[misc]\u001b[0m\u001b[0;34m\u001b[0m\u001b[0;34m\u001b[0m\u001b[0m\n\u001b[1;32m   1531\u001b[0m         \u001b[0;32melse\u001b[0m\u001b[0;34m:\u001b[0m\u001b[0;34m\u001b[0m\u001b[0;34m\u001b[0m\u001b[0m\n\u001b[0;32m-> 1532\u001b[0;31m             \u001b[0;32mreturn\u001b[0m \u001b[0mself\u001b[0m\u001b[0;34m.\u001b[0m\u001b[0m_call_impl\u001b[0m\u001b[0;34m(\u001b[0m\u001b[0;34m*\u001b[0m\u001b[0margs\u001b[0m\u001b[0;34m,\u001b[0m \u001b[0;34m**\u001b[0m\u001b[0mkwargs\u001b[0m\u001b[0;34m)\u001b[0m\u001b[0;34m\u001b[0m\u001b[0;34m\u001b[0m\u001b[0m\n\u001b[0m\u001b[1;32m   1533\u001b[0m \u001b[0;34m\u001b[0m\u001b[0m\n\u001b[1;32m   1534\u001b[0m     \u001b[0;32mdef\u001b[0m \u001b[0m_call_impl\u001b[0m\u001b[0;34m(\u001b[0m\u001b[0mself\u001b[0m\u001b[0;34m,\u001b[0m \u001b[0;34m*\u001b[0m\u001b[0margs\u001b[0m\u001b[0;34m,\u001b[0m \u001b[0;34m**\u001b[0m\u001b[0mkwargs\u001b[0m\u001b[0;34m)\u001b[0m\u001b[0;34m:\u001b[0m\u001b[0;34m\u001b[0m\u001b[0;34m\u001b[0m\u001b[0m\n",
            "\u001b[0;32m/usr/local/lib/python3.10/dist-packages/torch/nn/modules/module.py\u001b[0m in \u001b[0;36m_call_impl\u001b[0;34m(self, *args, **kwargs)\u001b[0m\n\u001b[1;32m   1539\u001b[0m                 \u001b[0;32mor\u001b[0m \u001b[0m_global_backward_pre_hooks\u001b[0m \u001b[0;32mor\u001b[0m \u001b[0m_global_backward_hooks\u001b[0m\u001b[0;34m\u001b[0m\u001b[0;34m\u001b[0m\u001b[0m\n\u001b[1;32m   1540\u001b[0m                 or _global_forward_hooks or _global_forward_pre_hooks):\n\u001b[0;32m-> 1541\u001b[0;31m             \u001b[0;32mreturn\u001b[0m \u001b[0mforward_call\u001b[0m\u001b[0;34m(\u001b[0m\u001b[0;34m*\u001b[0m\u001b[0margs\u001b[0m\u001b[0;34m,\u001b[0m \u001b[0;34m**\u001b[0m\u001b[0mkwargs\u001b[0m\u001b[0;34m)\u001b[0m\u001b[0;34m\u001b[0m\u001b[0;34m\u001b[0m\u001b[0m\n\u001b[0m\u001b[1;32m   1542\u001b[0m \u001b[0;34m\u001b[0m\u001b[0m\n\u001b[1;32m   1543\u001b[0m         \u001b[0;32mtry\u001b[0m\u001b[0;34m:\u001b[0m\u001b[0;34m\u001b[0m\u001b[0;34m\u001b[0m\u001b[0m\n",
            "\u001b[0;32m<ipython-input-89-90185bc59256>\u001b[0m in \u001b[0;36mforward\u001b[0;34m(self, text_data, position_text)\u001b[0m\n\u001b[1;32m     14\u001b[0m     \u001b[0;32mdef\u001b[0m \u001b[0mforward\u001b[0m\u001b[0;34m(\u001b[0m\u001b[0mself\u001b[0m\u001b[0;34m,\u001b[0m \u001b[0mtext_data\u001b[0m\u001b[0;34m,\u001b[0m \u001b[0mposition_text\u001b[0m\u001b[0;34m)\u001b[0m\u001b[0;34m:\u001b[0m\u001b[0;34m\u001b[0m\u001b[0;34m\u001b[0m\u001b[0m\n\u001b[1;32m     15\u001b[0m         \u001b[0mtext_x\u001b[0m \u001b[0;34m=\u001b[0m \u001b[0mself\u001b[0m\u001b[0;34m.\u001b[0m\u001b[0membedding\u001b[0m\u001b[0;34m(\u001b[0m\u001b[0mtext_data\u001b[0m\u001b[0;34m)\u001b[0m \u001b[0;34m+\u001b[0m \u001b[0mself\u001b[0m\u001b[0;34m.\u001b[0m\u001b[0mpos_embedding\u001b[0m\u001b[0;34m(\u001b[0m\u001b[0mposition_text\u001b[0m\u001b[0;34m)\u001b[0m \u001b[0;34m*\u001b[0m \u001b[0;36m0.01\u001b[0m\u001b[0;34m\u001b[0m\u001b[0;34m\u001b[0m\u001b[0m\n\u001b[0;32m---> 16\u001b[0;31m         \u001b[0mx_encoded\u001b[0m\u001b[0;34m,\u001b[0m\u001b[0m_\u001b[0m \u001b[0;34m=\u001b[0m \u001b[0mself\u001b[0m\u001b[0;34m.\u001b[0m\u001b[0mencoder\u001b[0m\u001b[0;34m(\u001b[0m\u001b[0mtext_x\u001b[0m\u001b[0;34m)\u001b[0m\u001b[0;34m\u001b[0m\u001b[0;34m\u001b[0m\u001b[0m\n\u001b[0m\u001b[1;32m     17\u001b[0m         \u001b[0mx_cls\u001b[0m \u001b[0;34m=\u001b[0m \u001b[0mx_encoded\u001b[0m\u001b[0;34m[\u001b[0m\u001b[0;34m:\u001b[0m\u001b[0;34m,\u001b[0m \u001b[0;36m0\u001b[0m\u001b[0;34m,\u001b[0m \u001b[0;34m:\u001b[0m\u001b[0;34m]\u001b[0m\u001b[0;34m\u001b[0m\u001b[0;34m\u001b[0m\u001b[0m\n\u001b[1;32m     18\u001b[0m         \u001b[0mx_hidden\u001b[0m \u001b[0;34m=\u001b[0m \u001b[0mF\u001b[0m\u001b[0;34m.\u001b[0m\u001b[0mtanh\u001b[0m\u001b[0;34m(\u001b[0m\u001b[0mself\u001b[0m\u001b[0;34m.\u001b[0m\u001b[0mhidden_layer\u001b[0m\u001b[0;34m(\u001b[0m\u001b[0mx_cls\u001b[0m\u001b[0;34m)\u001b[0m\u001b[0;34m)\u001b[0m\u001b[0;34m\u001b[0m\u001b[0;34m\u001b[0m\u001b[0m\n",
            "\u001b[0;32m/usr/local/lib/python3.10/dist-packages/torch/nn/modules/module.py\u001b[0m in \u001b[0;36m_wrapped_call_impl\u001b[0;34m(self, *args, **kwargs)\u001b[0m\n\u001b[1;32m   1530\u001b[0m             \u001b[0;32mreturn\u001b[0m \u001b[0mself\u001b[0m\u001b[0;34m.\u001b[0m\u001b[0m_compiled_call_impl\u001b[0m\u001b[0;34m(\u001b[0m\u001b[0;34m*\u001b[0m\u001b[0margs\u001b[0m\u001b[0;34m,\u001b[0m \u001b[0;34m**\u001b[0m\u001b[0mkwargs\u001b[0m\u001b[0;34m)\u001b[0m  \u001b[0;31m# type: ignore[misc]\u001b[0m\u001b[0;34m\u001b[0m\u001b[0;34m\u001b[0m\u001b[0m\n\u001b[1;32m   1531\u001b[0m         \u001b[0;32melse\u001b[0m\u001b[0;34m:\u001b[0m\u001b[0;34m\u001b[0m\u001b[0;34m\u001b[0m\u001b[0m\n\u001b[0;32m-> 1532\u001b[0;31m             \u001b[0;32mreturn\u001b[0m \u001b[0mself\u001b[0m\u001b[0;34m.\u001b[0m\u001b[0m_call_impl\u001b[0m\u001b[0;34m(\u001b[0m\u001b[0;34m*\u001b[0m\u001b[0margs\u001b[0m\u001b[0;34m,\u001b[0m \u001b[0;34m**\u001b[0m\u001b[0mkwargs\u001b[0m\u001b[0;34m)\u001b[0m\u001b[0;34m\u001b[0m\u001b[0;34m\u001b[0m\u001b[0m\n\u001b[0m\u001b[1;32m   1533\u001b[0m \u001b[0;34m\u001b[0m\u001b[0m\n\u001b[1;32m   1534\u001b[0m     \u001b[0;32mdef\u001b[0m \u001b[0m_call_impl\u001b[0m\u001b[0;34m(\u001b[0m\u001b[0mself\u001b[0m\u001b[0;34m,\u001b[0m \u001b[0;34m*\u001b[0m\u001b[0margs\u001b[0m\u001b[0;34m,\u001b[0m \u001b[0;34m**\u001b[0m\u001b[0mkwargs\u001b[0m\u001b[0;34m)\u001b[0m\u001b[0;34m:\u001b[0m\u001b[0;34m\u001b[0m\u001b[0;34m\u001b[0m\u001b[0m\n",
            "\u001b[0;32m/usr/local/lib/python3.10/dist-packages/torch/nn/modules/module.py\u001b[0m in \u001b[0;36m_call_impl\u001b[0;34m(self, *args, **kwargs)\u001b[0m\n\u001b[1;32m   1539\u001b[0m                 \u001b[0;32mor\u001b[0m \u001b[0m_global_backward_pre_hooks\u001b[0m \u001b[0;32mor\u001b[0m \u001b[0m_global_backward_hooks\u001b[0m\u001b[0;34m\u001b[0m\u001b[0;34m\u001b[0m\u001b[0m\n\u001b[1;32m   1540\u001b[0m                 or _global_forward_hooks or _global_forward_pre_hooks):\n\u001b[0;32m-> 1541\u001b[0;31m             \u001b[0;32mreturn\u001b[0m \u001b[0mforward_call\u001b[0m\u001b[0;34m(\u001b[0m\u001b[0;34m*\u001b[0m\u001b[0margs\u001b[0m\u001b[0;34m,\u001b[0m \u001b[0;34m**\u001b[0m\u001b[0mkwargs\u001b[0m\u001b[0;34m)\u001b[0m\u001b[0;34m\u001b[0m\u001b[0;34m\u001b[0m\u001b[0m\n\u001b[0m\u001b[1;32m   1542\u001b[0m \u001b[0;34m\u001b[0m\u001b[0m\n\u001b[1;32m   1543\u001b[0m         \u001b[0;32mtry\u001b[0m\u001b[0;34m:\u001b[0m\u001b[0;34m\u001b[0m\u001b[0;34m\u001b[0m\u001b[0m\n",
            "\u001b[0;32m/usr/local/lib/python3.10/dist-packages/torch/nn/modules/rnn.py\u001b[0m in \u001b[0;36mforward\u001b[0;34m(self, input, hx)\u001b[0m\n\u001b[1;32m    909\u001b[0m \u001b[0;34m\u001b[0m\u001b[0m\n\u001b[1;32m    910\u001b[0m         \u001b[0;32mif\u001b[0m \u001b[0mbatch_sizes\u001b[0m \u001b[0;32mis\u001b[0m \u001b[0;32mNone\u001b[0m\u001b[0;34m:\u001b[0m\u001b[0;34m\u001b[0m\u001b[0;34m\u001b[0m\u001b[0m\n\u001b[0;32m--> 911\u001b[0;31m             result = _VF.lstm(input, hx, self._flat_weights, self.bias, self.num_layers,\n\u001b[0m\u001b[1;32m    912\u001b[0m                               self.dropout, self.training, self.bidirectional, self.batch_first)\n\u001b[1;32m    913\u001b[0m         \u001b[0;32melse\u001b[0m\u001b[0;34m:\u001b[0m\u001b[0;34m\u001b[0m\u001b[0;34m\u001b[0m\u001b[0m\n",
            "\u001b[0;31mKeyboardInterrupt\u001b[0m: "
          ]
        }
      ],
      "source": [
        "import wandb\n",
        "wandb.init(project=\"nlp\", name=\"cls\")\n",
        "\n",
        "encoder_optimizer.zero_grad()\n",
        "step_cnt, all_step_cnt, avg_loss, maximum_f_score = 0, 0, 0, 0\n",
        "ce_fn = nn.CrossEntropyLoss(torch.FloatTensor([0.2, 0.3, 0.5, 1.]).cuda())\n",
        "\n",
        "n_epochs = 5\n",
        "for epoch in range(n_epochs):\n",
        "    epoch_step = 0\n",
        "\n",
        "    for (i, batch) in enumerate(tqdm(dataloader)):\n",
        "\n",
        "        step_cnt += 1\n",
        "        cur_res = cls_model(batch[\"queries\"].cuda(), batch[\"queries_pos\"].cuda())\n",
        "        loss = ce_fn(cur_res, batch[\"labels\"].cuda()) / 2\n",
        "        loss.backward()\n",
        "\n",
        "        avg_loss += loss.item()\n",
        "        if step_cnt == 2:\n",
        "            # updating\n",
        "            nn.utils.clip_grad_norm_(cls_model.parameters(), 4)\n",
        "\n",
        "            step_cnt = 0\n",
        "            epoch_step += 1\n",
        "            all_step_cnt += 1\n",
        "\n",
        "            # adjust learning rate\n",
        "            if all_step_cnt <= warmup_steps:\n",
        "                lr = all_step_cnt * (max_lr - 2e-8) / warmup_steps + 2e-8\n",
        "            else:\n",
        "                lr = max_lr - (all_step_cnt - warmup_steps) * 1e-6\n",
        "\n",
        "            encoder_optimizer.step()\n",
        "            encoder_optimizer.zero_grad()\n",
        "\n",
        "        if all_step_cnt % 10 == 0 and step_cnt == 0:\n",
        "            if all_step_cnt <= warmup_steps:\n",
        "                lr = all_step_cnt * (max_lr - 2e-8) / warmup_steps + 2e-8\n",
        "            else:\n",
        "                lr = max_lr - (all_step_cnt - warmup_steps) * 1e-6\n",
        "\n",
        "            wandb.log({\"Learning_rate\": lr}, step=all_step_cnt)\n",
        "            wandb.log({\"Loss\": avg_loss / report_freq}, step=all_step_cnt)\n",
        "            \n",
        "            # report stats\n",
        "            print(\"\\n\\nEpoch: %d, Epoch_step: %d, Avg loss: %.6f\" % (epoch + 1, epoch_step, avg_loss / 10))\n",
        "            print(f\"Learning rate: {lr:.6f}\\n\\n\")\n",
        "\n",
        "            avg_loss = 0\n",
        "        del loss, cur_res\n",
        "\n",
        "        if all_step_cnt % 50 == 0 and all_step_cnt != 0 and step_cnt == 0:\n",
        "            # evaluate the model as a scorer\n",
        "            print(\"\\nEvaluate:\\n\")\n",
        "\n",
        "            f_score = validate(dev_inputs, dev_outputs, cls_model)\n",
        "            wandb.log({\"Acc\": f_score}, step=all_step_cnt)\n",
        "            \n",
        "            if f_score > maximum_f_score:\n",
        "                maximum_f_score = f_score\n",
        "                torch.save(cls_model.state_dict(), os.path.join(\"model_ckpts\", \"best_cls_ckpt.bin\"))\n",
        "                print(\"\\n\\nBest val loss - epoch: %d, Epoch_step: %d\" % (epoch, epoch_step))\n",
        "                print(\"Maximum_f_score\", f_score, \"\\n\\n\")"
      ]
    },
    {
      "cell_type": "code",
      "execution_count": 98,
      "metadata": {
        "id": "ijKVlRvNhYTS"
      },
      "outputs": [],
      "source": [
        "def predict(dev_input, cls_model_):\n",
        "    # get evidence embeddings\n",
        "    start_idx = 0\n",
        "    cls_model.eval()\n",
        "\n",
        "    cls_res = []\n",
        "    correct_count = 0\n",
        "    while start_idx < len(dev_input):\n",
        "        end_idx = min(start_idx + 50, len(dev_input))\n",
        "\n",
        "        cur_input = torch.LongTensor(dev_input[start_idx:end_idx]).view(-1, len(dev_input[0])).cuda()\n",
        "        cur_pos = torch.LongTensor([list(range(len(dev_input[0]))) for _ in range(end_idx - start_idx)]).cuda()\n",
        "\n",
        "        cur_res = cls_model_(cur_input, cur_pos)\n",
        "        cur_res = torch.argmax(cur_res, 1).tolist()\n",
        "\n",
        "\n",
        "        cls_res = cls_res + cur_res\n",
        "\n",
        "        start_idx = end_idx\n",
        "        del cur_input, cur_pos\n",
        "\n",
        "    return cls_res"
      ]
    },
    {
      "cell_type": "code",
      "execution_count": 99,
      "metadata": {
        "id": "Y6woHYPDhYTS"
      },
      "outputs": [],
      "source": [
        "torch.cuda.empty_cache()"
      ]
    },
    {
      "cell_type": "code",
      "execution_count": 100,
      "metadata": {
        "id": "aMYIWLEVhYTS"
      },
      "outputs": [],
      "source": [
        "cls_model.load_state_dict(torch.load(os.path.join(\"model_ckpts\", \"best_cls_ckpt.bin\")))\n",
        "\n",
        "dev_classes = predict(dev_inputs, cls_model)\n",
        "test_classes = predict(test_inputs, cls_model)"
      ]
    },
    {
      "cell_type": "code",
      "execution_count": 101,
      "metadata": {
        "id": "MBDrLA6thYTS"
      },
      "outputs": [],
      "source": [
        "with open(\"data/dev_predict.json\", \"r\") as f:\n",
        "    pred_dev_claims = json.load(f)\n",
        "with open(\"data/test-claims-unlabelled.json\", \"r\") as f:\n",
        "    pred_test_claims = json.load(f)\n",
        "\n",
        "for i, j in zip(dev_claim_id, dev_classes):\n",
        "    claim_label = id2labels[j]\n",
        "    evidences = pred_dev_claims[i]['evidences']\n",
        "    pred_dev_claims[i] = {'claim_text': pred_dev_claims[i]['claim_text'], 'claim_label': claim_label, 'evidences': evidences}\n",
        "\n",
        "for i, j in zip(test_claim_id, test_classes):\n",
        "    claim_label = id2labels[j]\n",
        "    evidences = pred_test_claims[i]['evidences']\n",
        "    pred_test_claims[i] = {'claim_text': pred_test_claims[i]['claim_text'], 'claim_label': claim_label, 'evidences': evidences}\n",
        "\n",
        "with open(\"data/dev_predict.json\", \"w\") as f:\n",
        "    json.dump(pred_dev_claims, f)\n",
        "with open(\"data/test-claims-unlabelled.json\", \"w\") as f:\n",
        "    json.dump(pred_test_claims, f)"
      ]
    },
    {
      "cell_type": "code",
      "execution_count": 102,
      "metadata": {
        "colab": {
          "base_uri": "https://localhost:8080/"
        },
        "id": "IW_BEcfihYTS",
        "outputId": "33b301bd-ed38-4483-c771-bef0519e4294"
      },
      "outputs": [
        {
          "name": "stdout",
          "output_type": "stream",
          "text": [
            "Counter({1: 123, 0: 30, 3: 1})\n"
          ]
        }
      ],
      "source": [
        "print(Counter(dev_classes))"
      ]
    },
    {
      "cell_type": "code",
      "execution_count": 103,
      "metadata": {
        "colab": {
          "base_uri": "https://localhost:8080/"
        },
        "id": "L9RYY4KUhYTT",
        "outputId": "ccc1ba34-f33e-4b0b-a02e-63a2ef9bbef2"
      },
      "outputs": [
        {
          "name": "stdout",
          "output_type": "stream",
          "text": [
            "Counter({1: 122, 0: 29, 3: 2})\n"
          ]
        }
      ],
      "source": [
        "print(Counter(test_classes))"
      ]
    },
    {
      "cell_type": "code",
      "execution_count": 105,
      "metadata": {
        "colab": {
          "base_uri": "https://localhost:8080/"
        },
        "id": "m_Een36khYTT",
        "outputId": "a1700aeb-61b2-4251-dd5c-909d17fc3d41"
      },
      "outputs": [
        {
          "name": "stdout",
          "output_type": "stream",
          "text": [
            "Evidence Retrieval F-score (F): 0.08067924139352713\n",
            "Claim Classification Accuracy (A): 0.3116883116883117\n",
            "Harmonic Mean of F and A: 0.1281796944764043\n"
          ]
        }
      ],
      "source": [
        "import subprocess\n",
        "\n",
        "output = subprocess.check_output(\"python eval.py --predictions data/dev_predict.json --groundtruth data/dev-claims.json\", shell=True)\n",
        "output_str = output.decode('utf-8')\n",
        "\n",
        "# Split the output into lines\n",
        "output_lines = output_str.strip().split('\\n')\n",
        "\n",
        "# Format the output\n",
        "formatted_lines = []\n",
        "for line in output_lines:\n",
        "    metric, value = line.split('=')\n",
        "    metric = metric.strip()\n",
        "    value = value.strip()\n",
        "    formatted_line = f\"{metric}: {value}\"\n",
        "    formatted_lines.append(formatted_line)\n",
        "\n",
        "# Join the formatted lines into a single string\n",
        "formatted_output = '\\n'.join(formatted_lines)\n",
        "print(formatted_output)"
      ]
    },
    {
      "cell_type": "markdown",
      "metadata": {
        "id": "mefSOe8eTmGP"
      },
      "source": [
        "## Object Oriented Programming codes here\n",
        "\n",
        "*You can use multiple code snippets. Just add more if needed*"
      ]
    }
  ],
  "metadata": {
    "accelerator": "GPU",
    "colab": {
      "gpuType": "T4",
      "provenance": []
    },
    "kernelspec": {
      "display_name": "Python 3",
      "name": "python3"
    },
    "language_info": {
      "codemirror_mode": {
        "name": "ipython",
        "version": 3
      },
      "file_extension": ".py",
      "mimetype": "text/x-python",
      "name": "python",
      "nbconvert_exporter": "python",
      "pygments_lexer": "ipython3",
      "version": "3.8.19"
    }
  },
  "nbformat": 4,
  "nbformat_minor": 0
}
